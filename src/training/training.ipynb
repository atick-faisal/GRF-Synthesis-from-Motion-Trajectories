{
  "nbformat": 4,
  "nbformat_minor": 0,
  "metadata": {
    "colab": {
      "name": "EEG_Motion_Artifact_Removal_v1.ipynb",
      "provenance": [],
      "collapsed_sections": [
        "tgW7r0C9TuZk",
        "WOaiV66cCD6L",
        "fI8UCcR-oZc-",
        "_qTwozk_BS94",
        "WesN7p7AeYK4"
      ],
      "machine_shape": "hm",
      "include_colab_link": true
    },
    "kernelspec": {
      "display_name": "Python 3",
      "language": "python",
      "name": "python3"
    },
    "language_info": {
      "codemirror_mode": {
        "name": "ipython",
        "version": 3
      },
      "file_extension": ".py",
      "mimetype": "text/x-python",
      "name": "python",
      "nbconvert_exporter": "python",
      "pygments_lexer": "ipython3",
      "version": "3.5.2"
    },
    "accelerator": "GPU"
  },
  "cells": [
    {
      "cell_type": "markdown",
      "metadata": {
        "id": "view-in-github",
        "colab_type": "text"
      },
      "source": [
        "<a href=\"https://colab.research.google.com/github/atick-faisal/GRF-Synthesis-from-Motion-Trajectories/blob/main/src/training/training.ipynb\" target=\"_parent\"><img src=\"https://colab.research.google.com/assets/colab-badge.svg\" alt=\"Open In Colab\"/></a>"
      ]
    },
    {
      "cell_type": "markdown",
      "metadata": {
        "id": "sFyb0y7PUJOo"
      },
      "source": [
        "# EEG Motion Artifact Removal using Deep Learning - Complete Pipeline"
      ]
    },
    {
      "cell_type": "markdown",
      "metadata": {
        "id": "W9vTr2NhcGAA"
      },
      "source": [
        "# Test GPU (Optional)\n",
        "Before Starting, kindly check the available GPU from the Google Server, GPU model and other related information. It might help!"
      ]
    },
    {
      "cell_type": "code",
      "metadata": {
        "colab": {
          "base_uri": "https://localhost:8080/"
        },
        "id": "VUNJNtNxcFTF",
        "outputId": "0140e779-ff33-4eed-852a-1b8e15c27cbd"
      },
      "source": [
        "import torch\n",
        "print(\"Is CUDA enabled GPU Available?\", torch.cuda.is_available())\n",
        "print(\"GPU Number:\", torch.cuda.device_count())\n",
        "print(\"Current GPU Index:\", torch.cuda.current_device())\n",
        "print(\"GPU Type:\", torch.cuda.get_device_name(device=None))\n",
        "print(\"GPU Capability:\", torch.cuda.get_device_capability(device=None))\n",
        "print(\"Is GPU Initialized yet?\", torch.cuda.is_initialized())"
      ],
      "execution_count": 1,
      "outputs": [
        {
          "output_type": "stream",
          "name": "stdout",
          "text": [
            "Is CUDA enabled GPU Available? True\n",
            "GPU Number: 1\n",
            "Current GPU Index: 0\n",
            "GPU Type: Tesla K80\n",
            "GPU Capability: (3, 7)\n",
            "Is GPU Initialized yet? True\n"
          ]
        }
      ]
    },
    {
      "cell_type": "markdown",
      "metadata": {
        "id": "EQbDnsIZUSx0"
      },
      "source": [
        "# Connect to Google Drive"
      ]
    },
    {
      "cell_type": "code",
      "metadata": {
        "id": "wg4kMbwxsH9h"
      },
      "source": [
        "# from google.colab import drive\n",
        "# drive.mount('/content/GDrive')"
      ],
      "execution_count": 2,
      "outputs": []
    },
    {
      "cell_type": "markdown",
      "metadata": {
        "id": "GpdYZ2x3MbTd"
      },
      "source": [
        "Move to the Target Directory"
      ]
    },
    {
      "cell_type": "code",
      "metadata": {
        "id": "Efh543dRsQga"
      },
      "source": [
        "# %cd /content/GDrive/MyDrive/Colab_Notebooks/Research/EEG_IMU "
      ],
      "execution_count": 3,
      "outputs": []
    },
    {
      "cell_type": "markdown",
      "metadata": {
        "id": "_ZtMdxE7MeXX"
      },
      "source": [
        "List the Files and Folders Located in the Current Directory"
      ]
    },
    {
      "cell_type": "code",
      "metadata": {
        "id": "eM92ZPcisMK1"
      },
      "source": [
        "# !ls"
      ],
      "execution_count": 4,
      "outputs": []
    },
    {
      "cell_type": "markdown",
      "metadata": {
        "id": "ano69se-e3QY"
      },
      "source": [
        "## Evaluation of Predicting ABP Waveforms\n",
        "\n",
        "Here, we present an interactive CLI to predict the ABP waveform from PPG signal from the test data. Ground truth, prediction from approximation network and refinement network are presented, and a comparison is also demonstrated\n"
      ]
    },
    {
      "cell_type": "markdown",
      "metadata": {
        "id": "fHxmMNfno3U4"
      },
      "source": [
        "# Conling Repository"
      ]
    },
    {
      "cell_type": "code",
      "metadata": {
        "id": "xrTsiXfvo6bp",
        "colab": {
          "base_uri": "https://localhost:8080/"
        },
        "outputId": "a412b2b7-23f2-4d51-9f08-f432aa97278f"
      },
      "source": [
        "!git clone https://github.com/atick-faisal/GRF-Synthesis-from-Motion-Trajectories.git"
      ],
      "execution_count": 5,
      "outputs": [
        {
          "output_type": "stream",
          "name": "stdout",
          "text": [
            "Cloning into 'GRF-Synthesis-from-Motion-Trajectories'...\n",
            "remote: Enumerating objects: 99, done.\u001b[K\n",
            "remote: Counting objects: 100% (99/99), done.\u001b[K\n",
            "remote: Compressing objects: 100% (67/67), done.\u001b[K\n",
            "remote: Total 99 (delta 37), reused 58 (delta 14), pack-reused 0\u001b[K\n",
            "Unpacking objects: 100% (99/99), done.\n"
          ]
        }
      ]
    },
    {
      "cell_type": "code",
      "metadata": {
        "id": "oCda5cmGpBUo",
        "colab": {
          "base_uri": "https://localhost:8080/"
        },
        "outputId": "133a5b02-376b-4d02-c725-df69ab0b77cb"
      },
      "source": [
        "%cd /content/GRF-Synthesis-from-Motion-Trajectories/src/\n",
        "!ls"
      ],
      "execution_count": 6,
      "outputs": [
        {
          "output_type": "stream",
          "name": "stdout",
          "text": [
            "/content/GRF-Synthesis-from-Motion-Trajectories/src\n",
            "models\tpreprocessing  training  visualization\n"
          ]
        }
      ]
    },
    {
      "cell_type": "markdown",
      "metadata": {
        "id": "tgW7r0C9TuZk"
      },
      "source": [
        "#Import Libraries"
      ]
    },
    {
      "cell_type": "code",
      "metadata": {
        "id": "eMhBhz1CrMb3"
      },
      "source": [
        "import os\n",
        "import h5py\n",
        "import scipy\n",
        "import random\n",
        "import pickle\n",
        "import joblib\n",
        "import numpy as np\n",
        "import pandas as pd\n",
        "import seaborn as sns\n",
        "import tensorflow as tf\n",
        "from tqdm import tqdm\n",
        "import scipy.io as sio\n",
        "import matplotlib.pyplot as plt\n",
        "from sklearn.metrics import mean_squared_error, median_absolute_error, mean_absolute_error\n",
        "from sklearn.metrics import classification_report, confusion_matrix\n",
        "from sklearn.model_selection import train_test_split\n",
        "from pathlib import Path"
      ],
      "execution_count": 7,
      "outputs": []
    },
    {
      "cell_type": "code",
      "metadata": {
        "id": "lFydrjV6TxCc"
      },
      "source": [
        "from models import UNet"
      ],
      "execution_count": 8,
      "outputs": []
    },
    {
      "cell_type": "code",
      "metadata": {
        "id": "03JA1kRfzoit"
      },
      "source": [
        "%matplotlib inline\n",
        "sns.set_style('white')"
      ],
      "execution_count": 9,
      "outputs": []
    },
    {
      "cell_type": "markdown",
      "metadata": {
        "id": "VyFBKZ1ddRuM"
      },
      "source": [
        "# End-to-End Pipeline - EEG Motion Artifact Correction using Deep Learning"
      ]
    },
    {
      "cell_type": "markdown",
      "metadata": {
        "id": "WOaiV66cCD6L"
      },
      "source": [
        "## Prepare Dataset - k-Fold Cross Validation"
      ]
    },
    {
      "cell_type": "code",
      "metadata": {
        "id": "olkAEm0y2rUp",
        "colab": {
          "base_uri": "https://localhost:8080/"
        },
        "outputId": "f5fea5f6-df54-425d-c8ec-64c270c23873"
      },
      "source": [
        "!gdown --id \"1mAUGcHMEjAwRy0DTU_h_0Jf6TBfrTzsb\""
      ],
      "execution_count": 10,
      "outputs": [
        {
          "output_type": "stream",
          "name": "stdout",
          "text": [
            "Downloading...\n",
            "From: https://drive.google.com/uc?id=1mAUGcHMEjAwRy0DTU_h_0Jf6TBfrTzsb\n",
            "To: /content/GRF-Synthesis-from-Motion-Trajectories/src/data.joblib\n",
            "100% 412M/412M [00:07<00:00, 53.8MB/s]\n"
          ]
        }
      ]
    },
    {
      "cell_type": "code",
      "metadata": {
        "id": "NLDwhb-xt3Y_",
        "colab": {
          "base_uri": "https://localhost:8080/"
        },
        "outputId": "b5e8aa23-c007-4ffb-a640-99915340a91a"
      },
      "source": [
        "from sklearn.preprocessing import MinMaxScaler\n",
        "from sklearn.preprocessing import StandardScaler\n",
        "\n",
        "data = joblib.load('data.joblib')\n",
        "features = data['X']\n",
        "target = data['y']\n",
        "\n",
        "features_z = features[['lfal_z', 'ltam_z', 'lfcc_z', 'lfm1_z', 'lfm2_z', 'lfm5_z']]\n",
        "target_z = target[['fz']]\n",
        "\n",
        "scaler = StandardScaler()\n",
        "scaler.fit(features_z)\n",
        "features_z = scaler.transform(features_z)\n",
        "\n",
        "scaler = StandardScaler()\n",
        "scaler.fit(target_z)\n",
        "target_z = scaler.transform(target_z)\n",
        "\n",
        "X = features_z.reshape(-1, 1024, 6)\n",
        "y = target_z.reshape(-1, 1024, 1)\n",
        "\n",
        "print(X.shape)\n",
        "print(y.shape)"
      ],
      "execution_count": 11,
      "outputs": [
        {
          "output_type": "stream",
          "name": "stdout",
          "text": [
            "(1143, 1024, 6)\n",
            "(1143, 1024, 1)\n"
          ]
        }
      ]
    },
    {
      "cell_type": "code",
      "metadata": {
        "id": "biuhCFxEfDY2",
        "outputId": "25b1a165-c37a-48b0-b4d7-2d14238a10a8",
        "colab": {
          "base_uri": "https://localhost:8080/"
        }
      },
      "source": [
        "features_z.shape"
      ],
      "execution_count": 12,
      "outputs": [
        {
          "output_type": "execute_result",
          "data": {
            "text/plain": [
              "(1170432, 6)"
            ]
          },
          "metadata": {},
          "execution_count": 12
        }
      ]
    },
    {
      "cell_type": "code",
      "metadata": {
        "id": "4cnlxZkZJT-Q",
        "colab": {
          "base_uri": "https://localhost:8080/"
        },
        "outputId": "ffcc2a30-c4ff-4f81-e5e8-97d86841ec20"
      },
      "source": [
        "X_Train, X_Test, Y_Train, Y_Test = train_test_split(X, y, test_size=0.2, random_state=42)\n",
        "Y_Train = np.squeeze(Y_Train, axis=2)\n",
        "Y_Test = np.squeeze(Y_Test, axis=2)\n",
        "Y_Train.shape"
      ],
      "execution_count": 13,
      "outputs": [
        {
          "output_type": "execute_result",
          "data": {
            "text/plain": [
              "(914, 1024)"
            ]
          },
          "metadata": {},
          "execution_count": 13
        }
      ]
    },
    {
      "cell_type": "markdown",
      "metadata": {
        "id": "_qTwozk_BS94"
      },
      "source": [
        "## Garbage Collector"
      ]
    },
    {
      "cell_type": "code",
      "metadata": {
        "id": "ch2jmn3jKKiH"
      },
      "source": [
        "# import gc #Garbage Collector\n",
        "# fl_Train = None\n",
        "# fl_Test = None\n",
        "# X_Test = None\n",
        "# X_Train = None\n",
        "# X_Val = None\n",
        "# Y_Test_BP = None\n",
        "# Y_Train_BP = None\n",
        "# Y_Test_ABP = None\n",
        "# Y_Train_ABP = None\n",
        "# SBP_Train = None\n",
        "# DBP_Train = None\n",
        "# gc.collect()"
      ],
      "execution_count": 14,
      "outputs": []
    },
    {
      "cell_type": "markdown",
      "metadata": {
        "id": "lu6KEu2yeikQ"
      },
      "source": [
        "## Segmentation Pipeline"
      ]
    },
    {
      "cell_type": "markdown",
      "metadata": {
        "id": "X_Ev2XlLwRkW"
      },
      "source": [
        "### Prepare Label"
      ]
    },
    {
      "cell_type": "markdown",
      "metadata": {
        "id": "ANawSmVbUkZs"
      },
      "source": [
        "Configurations"
      ]
    },
    {
      "cell_type": "code",
      "metadata": {
        "id": "3ps7RMbyR7pw"
      },
      "source": [
        "signal_length = 1024 # Length of each Segment\n",
        "model_depth = 5 # Number of Level in the CNN Model\n",
        "model_width = 64 # Width of the Initial Layer, subsequent layers start from here\n",
        "kernel_size = 3 # Size of the Kernels/Filter\n",
        "num_channel = 6 # Number of Channels in the Model\n",
        "D_S = 1 # Turn on Deep Supervision\n",
        "A_E = 0 # Turn on AutoEncoder Mode for Feature Extraction\n",
        "problem_type = 'Regression'\n",
        "output_nums = 1 # Number of Class for Classification Problems, always '1' for Regression Problems\n",
        "'''Only required if the AutoEncoder Mode is turned on'''\n",
        "feature_number = 1024 # Number of Features to be Extracted\n",
        "'''Only required for MultiResUNet'''\n",
        "alpha = 1 # Model Width Expansion Parameter"
      ],
      "execution_count": 15,
      "outputs": []
    },
    {
      "cell_type": "markdown",
      "metadata": {
        "id": "qdw2EGzA92pt"
      },
      "source": [
        "Prepare Dataset for Deep Supervision (if Activated)"
      ]
    },
    {
      "cell_type": "code",
      "metadata": {
        "id": "QWMEhQkaClZi"
      },
      "source": [
        "def prepareTrainDict(y, model_depth, signal_length, model_name):\n",
        "  def approximate(inp, w_len, signal_length):\n",
        "    op = np.zeros((len(inp),signal_length//w_len))\n",
        "    for i in range(0,signal_length,w_len):\n",
        "      try:\n",
        "        op[:,i//w_len] = np.mean(inp[:,i:i+w_len],axis=1)\n",
        "      except Exception as e:\n",
        "        print(e)\n",
        "        print(i)\n",
        "  \t\n",
        "    return op\n",
        "\n",
        "  out = {}\n",
        "  Y_Train_dict = {}\n",
        "  out['out'] = np.array(y)\n",
        "  Y_Train_dict['out'] = out['out']\n",
        "  for i in range(1, (model_depth+1)):\n",
        "    name = f'level{i}'\n",
        "    if ((model_name == 'UNet') or (model_name == 'MultiResUNet') or (model_name == 'FPN')):\n",
        "      out[name] = np.expand_dims(approximate(np.squeeze(y), 2**i, signal_length),axis = 2)\n",
        "    elif ((model_name == 'UNetE') or (model_name == 'UNetP') or (model_name == 'UNetPP')):\n",
        "      out[name] = np.expand_dims(approximate(np.squeeze(y), 2**0, signal_length),axis = 2)\n",
        "    Y_Train_dict[f'level{i}'] = out[f'level{i}']\n",
        "  \n",
        "  return out, Y_Train_dict"
      ],
      "execution_count": 16,
      "outputs": []
    },
    {
      "cell_type": "code",
      "metadata": {
        "id": "ZQM6mSM2zE3G"
      },
      "source": [
        "model_name = 'UNet' # UNet or UNetPP\n",
        "X_Train1 = X_Train\n",
        "X_Test1 = X_Test\n",
        "[Y_Train1, Y_Train_dict] = prepareTrainDict(Y_Train, model_depth, signal_length, model_name)\n",
        "[Y_Test1, Y_Test_dict] = prepareTrainDict(Y_Test, model_depth, signal_length, model_name)"
      ],
      "execution_count": 17,
      "outputs": []
    },
    {
      "cell_type": "code",
      "metadata": {
        "colab": {
          "base_uri": "https://localhost:8080/"
        },
        "id": "1k-OSEQ87CyB",
        "outputId": "709861be-8803-45fe-f43d-107af3e996c1"
      },
      "source": [
        "loss_weights = np.zeros(model_depth)\n",
        "\n",
        "for i in range(0, model_depth):\n",
        "   loss_weights[i] = 1-(i*0.1)\n",
        "   \n",
        "loss_weights"
      ],
      "execution_count": 18,
      "outputs": [
        {
          "output_type": "execute_result",
          "data": {
            "text/plain": [
              "array([1. , 0.9, 0.8, 0.7, 0.6])"
            ]
          },
          "metadata": {},
          "execution_count": 18
        }
      ]
    },
    {
      "cell_type": "markdown",
      "metadata": {
        "id": "tLWoX0CHeikZ"
      },
      "source": [
        "### Train Data"
      ]
    },
    {
      "cell_type": "markdown",
      "metadata": {
        "id": "_G9wCFl1986E"
      },
      "source": [
        "Build and Compile Model"
      ]
    },
    {
      "cell_type": "code",
      "metadata": {
        "id": "AgNmOBsctd4u"
      },
      "source": [
        "if D_S == 0:\n",
        "    # Build model for EEG Motion Artifact Removal - Deep Unet Architecture\n",
        "    # AutoEncoder should be set at 'FALSE' for the Deep U-net model for Signal Reconstruction\n",
        "    # D_S = 0, A_E = 0\n",
        "    EEGIMU_Network = UNet(signal_length, model_depth, num_channel, model_width, kernel_size, problem_type=problem_type, output_nums=output_nums, ds=D_S, ae=A_E, alpha=alpha).UNet()\n",
        "    EEGIMU_Network.compile(loss= 'mean_absolute_error', optimizer= 'adam', metrics= ['mean_squared_error','accuracy'])\n",
        "    #\n",
        "elif D_S == 1:\n",
        "    # Build model for EEG Motion Artifact Removal - Deep Unet Architecture\n",
        "    # AutoEncoder should be set at 'FALSE' for the Deep U-net model for Signal Reconstruction\n",
        "    # D_S = 1, A_E = 0\n",
        "    EEGIMU_Network = UNet(signal_length, model_depth, num_channel, model_width, kernel_size, problem_type=problem_type, output_nums=output_nums, ds=D_S, ae=A_E, alpha=alpha).UNet()\n",
        "    EEGIMU_Network.compile(loss= 'mean_absolute_error', optimizer= 'adam', metrics= ['mean_squared_error'], loss_weights= loss_weights)"
      ],
      "execution_count": 19,
      "outputs": []
    },
    {
      "cell_type": "markdown",
      "metadata": {
        "id": "weUOLRyW9_TE"
      },
      "source": [
        "Import Trained Weights for a Headstart"
      ]
    },
    {
      "cell_type": "code",
      "metadata": {
        "id": "PEhSkrAG3SXe"
      },
      "source": [
        "# if D_S == 0:\n",
        "#     EEGIMU_Network_Network.load_weights('trained_models/'+model_name+'_'+str(length)+'_'+str(model_width)+'_'+str(num_channel)+'_'+str(D_S)+'.h5') # Load Previously Trained Weights for Transfer Learning\n",
        "# elif D_S == 1:\n",
        "#     EEGIMU_Network_Network.load_weights('trained_models/'+model_name+'_'+str(length)+'_'+str(model_width)+'_'+str(num_channel)+'_'+str(D_S)+'.h5') # Load Previously Trained Weights for Transfer Learning"
      ],
      "execution_count": 20,
      "outputs": []
    },
    {
      "cell_type": "markdown",
      "metadata": {
        "id": "17aVX6jw-E8j"
      },
      "source": [
        "Train Model"
      ]
    },
    {
      "cell_type": "code",
      "metadata": {
        "id": "gYmCDIxAbdT1",
        "colab": {
          "base_uri": "https://localhost:8080/"
        },
        "outputId": "a52799a6-09bc-4f92-cca5-32ff5f6a58d3"
      },
      "source": [
        "if D_S == 0:\n",
        "    callbacks = [tf.keras.callbacks.EarlyStopping(monitor='val_loss', patience=30, mode='min'), \n",
        "                 tf.keras.callbacks.ModelCheckpoint('trained_models/'+model_name+'_'+str(signal_length)+'_'+str(model_width)+'_'+str(model_depth)+'_'+str(num_channel)+'_'+str(D_S)+'.h5', verbose=1, monitor='val_loss', save_best_only=True, mode='min')]\n",
        "    history = EEGIMU_Network.fit(X_Train, Y_Train, epochs=300, batch_size=64, verbose=1, validation_split=0.2, shuffle=True, callbacks=callbacks)\n",
        "    #\n",
        "elif D_S == 1:\n",
        "    callbacks = [tf.keras.callbacks.EarlyStopping(monitor='val_out_loss', patience=30, mode='min'), \n",
        "                 tf.keras.callbacks.ModelCheckpoint('trained_models/'+model_name+'_'+str(signal_length)+'_'+str(model_width)+'_'+str(model_depth)+'_'+str(num_channel)+'_'+str(D_S)+'.h5', verbose=1, monitor='val_out_loss', save_best_only=True, mode='min')]\n",
        "    history = EEGIMU_Network.fit(X_Train1, Y_Train_dict, epochs=300, batch_size=64, verbose=1, validation_split=0.2, shuffle=True, callbacks=callbacks)"
      ],
      "execution_count": null,
      "outputs": [
        {
          "output_type": "stream",
          "name": "stdout",
          "text": [
            "Epoch 1/300\n",
            "12/12 [==============================] - 59s 1s/step - loss: 6.9376 - out_loss: 0.6569 - level1_loss: 0.6894 - level2_loss: 0.7479 - level3_loss: 1.1289 - level4_loss: 1.6615 - level5_loss: 3.7873 - out_mean_squared_error: 0.8540 - level1_mean_squared_error: 0.9785 - level2_mean_squared_error: 1.1965 - level3_mean_squared_error: 8.8441 - level4_mean_squared_error: 35.0506 - level5_mean_squared_error: 161.7185 - val_loss: 383.9533 - val_out_loss: 6.8015 - val_level1_loss: 73.3497 - val_level2_loss: 67.0839 - val_level3_loss: 304.2911 - val_level4_loss: 19.1489 - val_level5_loss: 9.2665 - val_out_mean_squared_error: 640.3518 - val_level1_mean_squared_error: 100468.2734 - val_level2_mean_squared_error: 71659.9609 - val_level3_mean_squared_error: 1009152.9375 - val_level4_mean_squared_error: 5011.4775 - val_level5_mean_squared_error: 569.5228\n",
            "\n",
            "Epoch 00001: val_out_loss improved from inf to 6.80152, saving model to trained_models/UNet_1024_64_5_6_1.h5\n",
            "Epoch 2/300\n",
            "12/12 [==============================] - 12s 1s/step - loss: 3.0831 - out_loss: 0.5482 - level1_loss: 0.5680 - level2_loss: 0.5747 - level3_loss: 0.5732 - level4_loss: 0.6211 - level5_loss: 0.9686 - out_mean_squared_error: 0.6710 - level1_mean_squared_error: 0.6886 - level2_mean_squared_error: 0.6827 - level3_mean_squared_error: 0.6762 - level4_mean_squared_error: 0.8331 - level5_mean_squared_error: 13.1313 - val_loss: 695.2548 - val_out_loss: 53.8460 - val_level1_loss: 302.8082 - val_level2_loss: 253.0637 - val_level3_loss: 217.9654 - val_level4_loss: 36.0700 - val_level5_loss: 5.3152 - val_out_mean_squared_error: 60628.5898 - val_level1_mean_squared_error: 1902751.6250 - val_level2_mean_squared_error: 1409318.8750 - val_level3_mean_squared_error: 796243.2500 - val_level4_mean_squared_error: 20844.5742 - val_level5_mean_squared_error: 638.2626\n",
            "\n",
            "Epoch 00002: val_out_loss did not improve from 6.80152\n",
            "Epoch 3/300\n",
            "12/12 [==============================] - 12s 999ms/step - loss: 2.7542 - out_loss: 0.5394 - level1_loss: 0.5458 - level2_loss: 0.5555 - level3_loss: 0.5529 - level4_loss: 0.5727 - level5_loss: 0.6763 - out_mean_squared_error: 0.6498 - level1_mean_squared_error: 0.6423 - level2_mean_squared_error: 0.6557 - level3_mean_squared_error: 0.6279 - level4_mean_squared_error: 0.6352 - level5_mean_squared_error: 2.0613 - val_loss: 105.0636 - val_out_loss: 46.4646 - val_level1_loss: 33.0036 - val_level2_loss: 27.2412 - val_level3_loss: 11.0591 - val_level4_loss: 9.8447 - val_level5_loss: 3.7164 - val_out_mean_squared_error: 35047.4492 - val_level1_mean_squared_error: 19497.5059 - val_level2_mean_squared_error: 14647.5205 - val_level3_mean_squared_error: 1650.2585 - val_level4_mean_squared_error: 1460.0840 - val_level5_mean_squared_error: 190.7984\n",
            "\n",
            "Epoch 00003: val_out_loss did not improve from 6.80152\n",
            "Epoch 4/300\n",
            "12/12 [==============================] - 12s 995ms/step - loss: 2.5757 - out_loss: 0.5316 - level1_loss: 0.5319 - level2_loss: 0.5411 - level3_loss: 0.5340 - level4_loss: 0.5282 - level5_loss: 0.5528 - out_mean_squared_error: 0.6420 - level1_mean_squared_error: 0.6436 - level2_mean_squared_error: 0.6375 - level3_mean_squared_error: 0.6324 - level4_mean_squared_error: 0.5948 - level5_mean_squared_error: 0.8071 - val_loss: 9.6968 - val_out_loss: 4.0274 - val_level1_loss: 2.3628 - val_level2_loss: 1.2580 - val_level3_loss: 1.3575 - val_level4_loss: 1.9980 - val_level5_loss: 1.1174 - val_out_mean_squared_error: 197.4154 - val_level1_mean_squared_error: 55.5337 - val_level2_mean_squared_error: 7.8649 - val_level3_mean_squared_error: 19.1384 - val_level4_mean_squared_error: 36.1538 - val_level5_mean_squared_error: 4.7900\n",
            "\n",
            "Epoch 00004: val_out_loss improved from 6.80152 to 4.02739, saving model to trained_models/UNet_1024_64_5_6_1.h5\n",
            "Epoch 5/300\n",
            "12/12 [==============================] - 12s 992ms/step - loss: 2.4847 - out_loss: 0.5177 - level1_loss: 0.5185 - level2_loss: 0.5248 - level3_loss: 0.5224 - level4_loss: 0.5043 - level5_loss: 0.5183 - out_mean_squared_error: 0.6404 - level1_mean_squared_error: 0.6264 - level2_mean_squared_error: 0.6163 - level3_mean_squared_error: 0.6048 - level4_mean_squared_error: 0.5688 - level5_mean_squared_error: 0.6538 - val_loss: 4.5732 - val_out_loss: 1.0674 - val_level1_loss: 0.9291 - val_level2_loss: 0.9711 - val_level3_loss: 0.9778 - val_level4_loss: 0.9587 - val_level5_loss: 0.8123 - val_out_mean_squared_error: 7.6066 - val_level1_mean_squared_error: 3.1785 - val_level2_mean_squared_error: 2.5748 - val_level3_mean_squared_error: 3.7877 - val_level4_mean_squared_error: 2.3825 - val_level5_mean_squared_error: 0.9662\n",
            "\n",
            "Epoch 00005: val_out_loss improved from 4.02739 to 1.06737, saving model to trained_models/UNet_1024_64_5_6_1.h5\n",
            "Epoch 6/300\n",
            "12/12 [==============================] - 12s 996ms/step - loss: 2.4164 - out_loss: 0.5113 - level1_loss: 0.5087 - level2_loss: 0.5088 - level3_loss: 0.5102 - level4_loss: 0.4907 - level5_loss: 0.4907 - out_mean_squared_error: 0.6437 - level1_mean_squared_error: 0.6350 - level2_mean_squared_error: 0.6198 - level3_mean_squared_error: 0.6155 - level4_mean_squared_error: 0.5854 - level5_mean_squared_error: 0.6009 - val_loss: 3.8276 - val_out_loss: 0.7685 - val_level1_loss: 0.8006 - val_level2_loss: 0.8086 - val_level3_loss: 0.8183 - val_level4_loss: 0.8276 - val_level5_loss: 0.7609 - val_out_mean_squared_error: 1.1786 - val_level1_mean_squared_error: 1.3933 - val_level2_mean_squared_error: 1.1933 - val_level3_mean_squared_error: 1.4417 - val_level4_mean_squared_error: 1.2602 - val_level5_mean_squared_error: 0.8895\n",
            "\n",
            "Epoch 00006: val_out_loss improved from 1.06737 to 0.76848, saving model to trained_models/UNet_1024_64_5_6_1.h5\n",
            "Epoch 7/300\n",
            "12/12 [==============================] - 12s 995ms/step - loss: 2.4285 - out_loss: 0.5079 - level1_loss: 0.5141 - level2_loss: 0.5183 - level3_loss: 0.5198 - level4_loss: 0.5017 - level5_loss: 0.4739 - out_mean_squared_error: 0.6324 - level1_mean_squared_error: 0.6357 - level2_mean_squared_error: 0.6140 - level3_mean_squared_error: 0.5984 - level4_mean_squared_error: 0.5614 - level5_mean_squared_error: 0.5419 - val_loss: 3.7230 - val_out_loss: 0.7428 - val_level1_loss: 0.7666 - val_level2_loss: 0.8025 - val_level3_loss: 0.8021 - val_level4_loss: 0.7610 - val_level5_loss: 0.7788 - val_out_mean_squared_error: 1.0016 - val_level1_mean_squared_error: 0.8926 - val_level2_mean_squared_error: 1.3253 - val_level3_mean_squared_error: 1.4214 - val_level4_mean_squared_error: 1.1565 - val_level5_mean_squared_error: 0.9155\n",
            "\n",
            "Epoch 00007: val_out_loss improved from 0.76848 to 0.74282, saving model to trained_models/UNet_1024_64_5_6_1.h5\n",
            "Epoch 8/300\n",
            "12/12 [==============================] - 12s 994ms/step - loss: 2.4905 - out_loss: 0.5172 - level1_loss: 0.5199 - level2_loss: 0.5316 - level3_loss: 0.5282 - level4_loss: 0.5080 - level5_loss: 0.5083 - out_mean_squared_error: 0.6310 - level1_mean_squared_error: 0.6345 - level2_mean_squared_error: 0.6351 - level3_mean_squared_error: 0.6369 - level4_mean_squared_error: 0.5918 - level5_mean_squared_error: 0.6148 - val_loss: 3.4288 - val_out_loss: 0.7023 - val_level1_loss: 0.7173 - val_level2_loss: 0.7141 - val_level3_loss: 0.7103 - val_level4_loss: 0.7087 - val_level5_loss: 0.7333 - val_out_mean_squared_error: 0.7298 - val_level1_mean_squared_error: 0.7709 - val_level2_mean_squared_error: 0.8457 - val_level3_mean_squared_error: 0.8956 - val_level4_mean_squared_error: 1.0111 - val_level5_mean_squared_error: 0.8804\n",
            "\n",
            "Epoch 00008: val_out_loss improved from 0.74282 to 0.70232, saving model to trained_models/UNet_1024_64_5_6_1.h5\n",
            "Epoch 9/300\n",
            "12/12 [==============================] - 12s 1s/step - loss: 2.4073 - out_loss: 0.5108 - level1_loss: 0.5056 - level2_loss: 0.5062 - level3_loss: 0.4997 - level4_loss: 0.5032 - level5_loss: 0.4836 - out_mean_squared_error: 0.6348 - level1_mean_squared_error: 0.6373 - level2_mean_squared_error: 0.6217 - level3_mean_squared_error: 0.5873 - level4_mean_squared_error: 0.5793 - level5_mean_squared_error: 0.5724 - val_loss: 3.2314 - val_out_loss: 0.6768 - val_level1_loss: 0.6980 - val_level2_loss: 0.6942 - val_level3_loss: 0.6665 - val_level4_loss: 0.6428 - val_level5_loss: 0.6608 - val_out_mean_squared_error: 0.6811 - val_level1_mean_squared_error: 0.7204 - val_level2_mean_squared_error: 0.7268 - val_level3_mean_squared_error: 0.7876 - val_level4_mean_squared_error: 0.8420 - val_level5_mean_squared_error: 0.7310\n",
            "\n",
            "Epoch 00009: val_out_loss improved from 0.70232 to 0.67677, saving model to trained_models/UNet_1024_64_5_6_1.h5\n",
            "Epoch 10/300\n",
            "12/12 [==============================] - 12s 992ms/step - loss: 2.3021 - out_loss: 0.5019 - level1_loss: 0.4998 - level2_loss: 0.4946 - level3_loss: 0.4717 - level4_loss: 0.4613 - level5_loss: 0.4483 - out_mean_squared_error: 0.6346 - level1_mean_squared_error: 0.6340 - level2_mean_squared_error: 0.6074 - level3_mean_squared_error: 0.5721 - level4_mean_squared_error: 0.5545 - level5_mean_squared_error: 0.5319 - val_loss: 3.0399 - val_out_loss: 0.6541 - val_level1_loss: 0.6698 - val_level2_loss: 0.6629 - val_level3_loss: 0.6345 - val_level4_loss: 0.5855 - val_level5_loss: 0.5930 - val_out_mean_squared_error: 0.6680 - val_level1_mean_squared_error: 0.7046 - val_level2_mean_squared_error: 0.6997 - val_level3_mean_squared_error: 0.7306 - val_level4_mean_squared_error: 0.6600 - val_level5_mean_squared_error: 0.6212\n",
            "\n",
            "Epoch 00010: val_out_loss improved from 0.67677 to 0.65414, saving model to trained_models/UNet_1024_64_5_6_1.h5\n",
            "Epoch 11/300\n",
            "12/12 [==============================] - 12s 993ms/step - loss: 2.3696 - out_loss: 0.4964 - level1_loss: 0.4970 - level2_loss: 0.4885 - level3_loss: 0.4972 - level4_loss: 0.4950 - level5_loss: 0.4880 - out_mean_squared_error: 0.6235 - level1_mean_squared_error: 0.6223 - level2_mean_squared_error: 0.5912 - level3_mean_squared_error: 0.5616 - level4_mean_squared_error: 0.5331 - level5_mean_squared_error: 0.5833 - val_loss: 2.9755 - val_out_loss: 0.6362 - val_level1_loss: 0.6458 - val_level2_loss: 0.6244 - val_level3_loss: 0.6071 - val_level4_loss: 0.6047 - val_level5_loss: 0.6012 - val_out_mean_squared_error: 0.6470 - val_level1_mean_squared_error: 0.6655 - val_level2_mean_squared_error: 0.6471 - val_level3_mean_squared_error: 0.6519 - val_level4_mean_squared_error: 0.6225 - val_level5_mean_squared_error: 0.6151\n",
            "\n",
            "Epoch 00011: val_out_loss improved from 0.65414 to 0.63624, saving model to trained_models/UNet_1024_64_5_6_1.h5\n",
            "Epoch 12/300\n",
            "12/12 [==============================] - 12s 993ms/step - loss: 2.2842 - out_loss: 0.4900 - level1_loss: 0.4901 - level2_loss: 0.4803 - level3_loss: 0.4687 - level4_loss: 0.4683 - level5_loss: 0.4580 - out_mean_squared_error: 0.6040 - level1_mean_squared_error: 0.5954 - level2_mean_squared_error: 0.5837 - level3_mean_squared_error: 0.5582 - level4_mean_squared_error: 0.5428 - level5_mean_squared_error: 0.5476 - val_loss: 3.0085 - val_out_loss: 0.6251 - val_level1_loss: 0.6304 - val_level2_loss: 0.6102 - val_level3_loss: 0.6443 - val_level4_loss: 0.6236 - val_level5_loss: 0.6271 - val_out_mean_squared_error: 0.6395 - val_level1_mean_squared_error: 0.6395 - val_level2_mean_squared_error: 0.6116 - val_level3_mean_squared_error: 0.7177 - val_level4_mean_squared_error: 0.6696 - val_level5_mean_squared_error: 0.6356\n",
            "\n",
            "Epoch 00012: val_out_loss improved from 0.63624 to 0.62508, saving model to trained_models/UNet_1024_64_5_6_1.h5\n",
            "Epoch 13/300\n",
            "12/12 [==============================] - 12s 992ms/step - loss: 2.2187 - out_loss: 0.4630 - level1_loss: 0.4610 - level2_loss: 0.4554 - level3_loss: 0.4678 - level4_loss: 0.4684 - level5_loss: 0.4577 - out_mean_squared_error: 0.5797 - level1_mean_squared_error: 0.5609 - level2_mean_squared_error: 0.5349 - level3_mean_squared_error: 0.5232 - level4_mean_squared_error: 0.5099 - level5_mean_squared_error: 0.4885 - val_loss: 3.0408 - val_out_loss: 0.6000 - val_level1_loss: 0.5918 - val_level2_loss: 0.5925 - val_level3_loss: 0.6719 - val_level4_loss: 0.6657 - val_level5_loss: 0.6791 - val_out_mean_squared_error: 0.6279 - val_level1_mean_squared_error: 0.6053 - val_level2_mean_squared_error: 0.6377 - val_level3_mean_squared_error: 0.8034 - val_level4_mean_squared_error: 0.7241 - val_level5_mean_squared_error: 0.6760\n",
            "\n",
            "Epoch 00013: val_out_loss improved from 0.62508 to 0.60000, saving model to trained_models/UNet_1024_64_5_6_1.h5\n",
            "Epoch 14/300\n",
            "12/12 [==============================] - 12s 992ms/step - loss: 2.1682 - out_loss: 0.4529 - level1_loss: 0.4453 - level2_loss: 0.4495 - level3_loss: 0.4538 - level4_loss: 0.4605 - level5_loss: 0.4483 - out_mean_squared_error: 0.5497 - level1_mean_squared_error: 0.5390 - level2_mean_squared_error: 0.5344 - level3_mean_squared_error: 0.5599 - level4_mean_squared_error: 0.5241 - level5_mean_squared_error: 0.5129 - val_loss: 2.8997 - val_out_loss: 0.5548 - val_level1_loss: 0.5411 - val_level2_loss: 0.5195 - val_level3_loss: 0.6403 - val_level4_loss: 0.6710 - val_level5_loss: 0.6979 - val_out_mean_squared_error: 0.6132 - val_level1_mean_squared_error: 0.5733 - val_level2_mean_squared_error: 0.5952 - val_level3_mean_squared_error: 0.7646 - val_level4_mean_squared_error: 0.6795 - val_level5_mean_squared_error: 0.6686\n",
            "\n",
            "Epoch 00014: val_out_loss improved from 0.60000 to 0.55485, saving model to trained_models/UNet_1024_64_5_6_1.h5\n",
            "Epoch 15/300\n",
            "12/12 [==============================] - 12s 993ms/step - loss: 2.1969 - out_loss: 0.4379 - level1_loss: 0.4394 - level2_loss: 0.4501 - level3_loss: 0.4706 - level4_loss: 0.4776 - level5_loss: 0.4705 - out_mean_squared_error: 0.5496 - level1_mean_squared_error: 0.5519 - level2_mean_squared_error: 0.5636 - level3_mean_squared_error: 0.5711 - level4_mean_squared_error: 0.5185 - level5_mean_squared_error: 0.5604 - val_loss: 2.3933 - val_out_loss: 0.5234 - val_level1_loss: 0.5018 - val_level2_loss: 0.4794 - val_level3_loss: 0.4904 - val_level4_loss: 0.4767 - val_level5_loss: 0.5199 - val_out_mean_squared_error: 0.5755 - val_level1_mean_squared_error: 0.5502 - val_level2_mean_squared_error: 0.5828 - val_level3_mean_squared_error: 0.6062 - val_level4_mean_squared_error: 0.5884 - val_level5_mean_squared_error: 0.6182\n",
            "\n",
            "Epoch 00015: val_out_loss improved from 0.55485 to 0.52344, saving model to trained_models/UNet_1024_64_5_6_1.h5\n",
            "Epoch 16/300\n",
            "12/12 [==============================] - 12s 993ms/step - loss: 2.0626 - out_loss: 0.4276 - level1_loss: 0.4309 - level2_loss: 0.4282 - level3_loss: 0.4288 - level4_loss: 0.4274 - level5_loss: 0.4354 - out_mean_squared_error: 0.5377 - level1_mean_squared_error: 0.5305 - level2_mean_squared_error: 0.5284 - level3_mean_squared_error: 0.5323 - level4_mean_squared_error: 0.5195 - level5_mean_squared_error: 0.5717 - val_loss: 2.3683 - val_out_loss: 0.4906 - val_level1_loss: 0.4823 - val_level2_loss: 0.4628 - val_level3_loss: 0.4639 - val_level4_loss: 0.5061 - val_level5_loss: 0.5547 - val_out_mean_squared_error: 0.5163 - val_level1_mean_squared_error: 0.5194 - val_level2_mean_squared_error: 0.5233 - val_level3_mean_squared_error: 0.5498 - val_level4_mean_squared_error: 0.5019 - val_level5_mean_squared_error: 0.5089\n",
            "\n",
            "Epoch 00016: val_out_loss improved from 0.52344 to 0.49059, saving model to trained_models/UNet_1024_64_5_6_1.h5\n",
            "Epoch 17/300\n",
            "12/12 [==============================] - 12s 996ms/step - loss: 2.0608 - out_loss: 0.4258 - level1_loss: 0.4243 - level2_loss: 0.4180 - level3_loss: 0.4292 - level4_loss: 0.4398 - level5_loss: 0.4390 - out_mean_squared_error: 0.5181 - level1_mean_squared_error: 0.5242 - level2_mean_squared_error: 0.5069 - level3_mean_squared_error: 0.5001 - level4_mean_squared_error: 0.5083 - level5_mean_squared_error: 0.5122 - val_loss: 2.4171 - val_out_loss: 0.4792 - val_level1_loss: 0.4739 - val_level2_loss: 0.4589 - val_level3_loss: 0.5023 - val_level4_loss: 0.5285 - val_level5_loss: 0.5785 - val_out_mean_squared_error: 0.5186 - val_level1_mean_squared_error: 0.5232 - val_level2_mean_squared_error: 0.5246 - val_level3_mean_squared_error: 0.6103 - val_level4_mean_squared_error: 0.5539 - val_level5_mean_squared_error: 0.5729\n",
            "\n",
            "Epoch 00017: val_out_loss improved from 0.49059 to 0.47917, saving model to trained_models/UNet_1024_64_5_6_1.h5\n",
            "Epoch 18/300\n",
            "12/12 [==============================] - 12s 994ms/step - loss: 2.1053 - out_loss: 0.4158 - level1_loss: 0.4154 - level2_loss: 0.4223 - level3_loss: 0.4421 - level4_loss: 0.4695 - level5_loss: 0.4666 - out_mean_squared_error: 0.5126 - level1_mean_squared_error: 0.5116 - level2_mean_squared_error: 0.5059 - level3_mean_squared_error: 0.4825 - level4_mean_squared_error: 0.4973 - level5_mean_squared_error: 0.5535 - val_loss: 2.3782 - val_out_loss: 0.4755 - val_level1_loss: 0.4694 - val_level2_loss: 0.4357 - val_level3_loss: 0.4886 - val_level4_loss: 0.5210 - val_level5_loss: 0.5826 - val_out_mean_squared_error: 0.5272 - val_level1_mean_squared_error: 0.5551 - val_level2_mean_squared_error: 0.5957 - val_level3_mean_squared_error: 0.6365 - val_level4_mean_squared_error: 0.7985 - val_level5_mean_squared_error: 0.9072\n",
            "\n",
            "Epoch 00018: val_out_loss improved from 0.47917 to 0.47552, saving model to trained_models/UNet_1024_64_5_6_1.h5\n",
            "Epoch 19/300\n",
            "12/12 [==============================] - 12s 996ms/step - loss: 2.0890 - out_loss: 0.4216 - level1_loss: 0.4184 - level2_loss: 0.4279 - level3_loss: 0.4375 - level4_loss: 0.4534 - level5_loss: 0.4524 - out_mean_squared_error: 0.5166 - level1_mean_squared_error: 0.5297 - level2_mean_squared_error: 0.5330 - level3_mean_squared_error: 0.5211 - level4_mean_squared_error: 0.5259 - level5_mean_squared_error: 0.5481 - val_loss: 2.3492 - val_out_loss: 0.4611 - val_level1_loss: 0.4581 - val_level2_loss: 0.4545 - val_level3_loss: 0.5099 - val_level4_loss: 0.5292 - val_level5_loss: 0.5236 - val_out_mean_squared_error: 0.5238 - val_level1_mean_squared_error: 0.5405 - val_level2_mean_squared_error: 0.5495 - val_level3_mean_squared_error: 0.8300 - val_level4_mean_squared_error: 0.9838 - val_level5_mean_squared_error: 0.5550\n",
            "\n",
            "Epoch 00019: val_out_loss improved from 0.47552 to 0.46107, saving model to trained_models/UNet_1024_64_5_6_1.h5\n",
            "Epoch 20/300\n",
            "12/12 [==============================] - 12s 997ms/step - loss: 2.0568 - out_loss: 0.4099 - level1_loss: 0.4077 - level2_loss: 0.4385 - level3_loss: 0.4411 - level4_loss: 0.4318 - level5_loss: 0.4420 - out_mean_squared_error: 0.5109 - level1_mean_squared_error: 0.5083 - level2_mean_squared_error: 0.4966 - level3_mean_squared_error: 0.5014 - level4_mean_squared_error: 0.4931 - level5_mean_squared_error: 0.5634 - val_loss: 2.3055 - val_out_loss: 0.4561 - val_level1_loss: 0.4590 - val_level2_loss: 0.4543 - val_level3_loss: 0.5236 - val_level4_loss: 0.4939 - val_level5_loss: 0.4949 - val_out_mean_squared_error: 0.5619 - val_level1_mean_squared_error: 0.5683 - val_level2_mean_squared_error: 0.6788 - val_level3_mean_squared_error: 0.8386 - val_level4_mean_squared_error: 0.7360 - val_level5_mean_squared_error: 0.5507\n",
            "\n",
            "Epoch 00020: val_out_loss improved from 0.46107 to 0.45611, saving model to trained_models/UNet_1024_64_5_6_1.h5\n",
            "Epoch 21/300\n",
            "12/12 [==============================] - 12s 997ms/step - loss: 2.0276 - out_loss: 0.4091 - level1_loss: 0.4085 - level2_loss: 0.4143 - level3_loss: 0.4249 - level4_loss: 0.4380 - level5_loss: 0.4398 - out_mean_squared_error: 0.5233 - level1_mean_squared_error: 0.5194 - level2_mean_squared_error: 0.5104 - level3_mean_squared_error: 0.4993 - level4_mean_squared_error: 0.5054 - level5_mean_squared_error: 0.4943 - val_loss: 2.2183 - val_out_loss: 0.4582 - val_level1_loss: 0.4714 - val_level2_loss: 0.4653 - val_level3_loss: 0.4499 - val_level4_loss: 0.4703 - val_level5_loss: 0.4579 - val_out_mean_squared_error: 0.5601 - val_level1_mean_squared_error: 0.5639 - val_level2_mean_squared_error: 0.6397 - val_level3_mean_squared_error: 0.6569 - val_level4_mean_squared_error: 0.6006 - val_level5_mean_squared_error: 0.5129\n",
            "\n",
            "Epoch 00021: val_out_loss did not improve from 0.45611\n",
            "Epoch 22/300\n",
            "12/12 [==============================] - 12s 1s/step - loss: 1.9927 - out_loss: 0.4041 - level1_loss: 0.4039 - level2_loss: 0.4144 - level3_loss: 0.4174 - level4_loss: 0.4276 - level5_loss: 0.4236 - out_mean_squared_error: 0.5027 - level1_mean_squared_error: 0.5028 - level2_mean_squared_error: 0.5084 - level3_mean_squared_error: 0.5026 - level4_mean_squared_error: 0.4943 - level5_mean_squared_error: 0.5029 - val_loss: 2.1414 - val_out_loss: 0.4544 - val_level1_loss: 0.4632 - val_level2_loss: 0.4367 - val_level3_loss: 0.4400 - val_level4_loss: 0.4463 - val_level5_loss: 0.4362 - val_out_mean_squared_error: 0.5814 - val_level1_mean_squared_error: 0.5874 - val_level2_mean_squared_error: 0.6035 - val_level3_mean_squared_error: 0.6558 - val_level4_mean_squared_error: 0.6106 - val_level5_mean_squared_error: 0.5249\n",
            "\n",
            "Epoch 00022: val_out_loss improved from 0.45611 to 0.45438, saving model to trained_models/UNet_1024_64_5_6_1.h5\n",
            "Epoch 23/300\n",
            "12/12 [==============================] - 12s 1s/step - loss: 2.0109 - out_loss: 0.4064 - level1_loss: 0.4093 - level2_loss: 0.4110 - level3_loss: 0.4229 - level4_loss: 0.4362 - level5_loss: 0.4279 - out_mean_squared_error: 0.5100 - level1_mean_squared_error: 0.5065 - level2_mean_squared_error: 0.4919 - level3_mean_squared_error: 0.4905 - level4_mean_squared_error: 0.4772 - level5_mean_squared_error: 0.4696 - val_loss: 2.2338 - val_out_loss: 0.4550 - val_level1_loss: 0.4501 - val_level2_loss: 0.5262 - val_level3_loss: 0.4458 - val_level4_loss: 0.4697 - val_level5_loss: 0.4454 - val_out_mean_squared_error: 0.5853 - val_level1_mean_squared_error: 0.5772 - val_level2_mean_squared_error: 0.8417 - val_level3_mean_squared_error: 0.6564 - val_level4_mean_squared_error: 0.6682 - val_level5_mean_squared_error: 0.6099\n",
            "\n",
            "Epoch 00023: val_out_loss did not improve from 0.45438\n",
            "Epoch 24/300\n",
            "12/12 [==============================] - 12s 995ms/step - loss: 1.9641 - out_loss: 0.4022 - level1_loss: 0.4041 - level2_loss: 0.4067 - level3_loss: 0.4110 - level4_loss: 0.4213 - level5_loss: 0.4098 - out_mean_squared_error: 0.5084 - level1_mean_squared_error: 0.5010 - level2_mean_squared_error: 0.5015 - level3_mean_squared_error: 0.4920 - level4_mean_squared_error: 0.4851 - level5_mean_squared_error: 0.4785 - val_loss: 2.3480 - val_out_loss: 0.4729 - val_level1_loss: 0.4591 - val_level2_loss: 0.5570 - val_level3_loss: 0.4839 - val_level4_loss: 0.5031 - val_level5_loss: 0.4590 - val_out_mean_squared_error: 0.6458 - val_level1_mean_squared_error: 0.6308 - val_level2_mean_squared_error: 1.0133 - val_level3_mean_squared_error: 0.9899 - val_level4_mean_squared_error: 0.7605 - val_level5_mean_squared_error: 0.5952\n",
            "\n",
            "Epoch 00024: val_out_loss did not improve from 0.45438\n",
            "Epoch 25/300\n",
            "12/12 [==============================] - 12s 997ms/step - loss: 1.9503 - out_loss: 0.4036 - level1_loss: 0.4090 - level2_loss: 0.4016 - level3_loss: 0.4027 - level4_loss: 0.4158 - level5_loss: 0.4052 - out_mean_squared_error: 0.5065 - level1_mean_squared_error: 0.5058 - level2_mean_squared_error: 0.5069 - level3_mean_squared_error: 0.4917 - level4_mean_squared_error: 0.4870 - level5_mean_squared_error: 0.4812 - val_loss: 2.3544 - val_out_loss: 0.4962 - val_level1_loss: 0.4717 - val_level2_loss: 0.5315 - val_level3_loss: 0.4797 - val_level4_loss: 0.4881 - val_level5_loss: 0.4757 - val_out_mean_squared_error: 0.6789 - val_level1_mean_squared_error: 0.5931 - val_level2_mean_squared_error: 0.8016 - val_level3_mean_squared_error: 0.7964 - val_level4_mean_squared_error: 0.6461 - val_level5_mean_squared_error: 0.5848\n",
            "\n",
            "Epoch 00025: val_out_loss did not improve from 0.45438\n",
            "Epoch 26/300\n",
            "12/12 [==============================] - 12s 992ms/step - loss: 1.9201 - out_loss: 0.3949 - level1_loss: 0.3931 - level2_loss: 0.3940 - level3_loss: 0.3993 - level4_loss: 0.4072 - level5_loss: 0.4116 - out_mean_squared_error: 0.4970 - level1_mean_squared_error: 0.4918 - level2_mean_squared_error: 0.4963 - level3_mean_squared_error: 0.4920 - level4_mean_squared_error: 0.4946 - level5_mean_squared_error: 0.5079 - val_loss: 2.3123 - val_out_loss: 0.4770 - val_level1_loss: 0.4809 - val_level2_loss: 0.5101 - val_level3_loss: 0.4794 - val_level4_loss: 0.4672 - val_level5_loss: 0.4758 - val_out_mean_squared_error: 0.6369 - val_level1_mean_squared_error: 0.6141 - val_level2_mean_squared_error: 0.7301 - val_level3_mean_squared_error: 0.8000 - val_level4_mean_squared_error: 0.6151 - val_level5_mean_squared_error: 0.6091\n",
            "\n",
            "Epoch 00026: val_out_loss did not improve from 0.45438\n",
            "Epoch 27/300\n",
            "12/12 [==============================] - 12s 994ms/step - loss: 1.9187 - out_loss: 0.3983 - level1_loss: 0.3924 - level2_loss: 0.3985 - level3_loss: 0.3983 - level4_loss: 0.4053 - level5_loss: 0.4055 - out_mean_squared_error: 0.4876 - level1_mean_squared_error: 0.4916 - level2_mean_squared_error: 0.5068 - level3_mean_squared_error: 0.4823 - level4_mean_squared_error: 0.4804 - level5_mean_squared_error: 0.4842 - val_loss: 2.1817 - val_out_loss: 0.4532 - val_level1_loss: 0.4658 - val_level2_loss: 0.4642 - val_level3_loss: 0.4432 - val_level4_loss: 0.4512 - val_level5_loss: 0.4495 - val_out_mean_squared_error: 0.6037 - val_level1_mean_squared_error: 0.5845 - val_level2_mean_squared_error: 0.6371 - val_level3_mean_squared_error: 0.6090 - val_level4_mean_squared_error: 0.5988 - val_level5_mean_squared_error: 0.5377\n",
            "\n",
            "Epoch 00027: val_out_loss improved from 0.45438 to 0.45321, saving model to trained_models/UNet_1024_64_5_6_1.h5\n",
            "Epoch 28/300\n",
            "12/12 [==============================] - 12s 997ms/step - loss: 1.9129 - out_loss: 0.3924 - level1_loss: 0.3913 - level2_loss: 0.3904 - level3_loss: 0.3956 - level4_loss: 0.4075 - level5_loss: 0.4139 - out_mean_squared_error: 0.4824 - level1_mean_squared_error: 0.4876 - level2_mean_squared_error: 0.4946 - level3_mean_squared_error: 0.4915 - level4_mean_squared_error: 0.4842 - level5_mean_squared_error: 0.4817 - val_loss: 2.1813 - val_out_loss: 0.4615 - val_level1_loss: 0.4693 - val_level2_loss: 0.4553 - val_level3_loss: 0.4544 - val_level4_loss: 0.4637 - val_level5_loss: 0.4223 - val_out_mean_squared_error: 0.6050 - val_level1_mean_squared_error: 0.6218 - val_level2_mean_squared_error: 0.6222 - val_level3_mean_squared_error: 0.6723 - val_level4_mean_squared_error: 0.6209 - val_level5_mean_squared_error: 0.5332\n",
            "\n",
            "Epoch 00028: val_out_loss did not improve from 0.45321\n",
            "Epoch 29/300\n",
            "12/12 [==============================] - 12s 993ms/step - loss: 1.9180 - out_loss: 0.3900 - level1_loss: 0.3868 - level2_loss: 0.3896 - level3_loss: 0.4090 - level4_loss: 0.4124 - level5_loss: 0.4097 - out_mean_squared_error: 0.4825 - level1_mean_squared_error: 0.4815 - level2_mean_squared_error: 0.4816 - level3_mean_squared_error: 0.4712 - level4_mean_squared_error: 0.4821 - level5_mean_squared_error: 0.4765 - val_loss: 2.1586 - val_out_loss: 0.4533 - val_level1_loss: 0.4423 - val_level2_loss: 0.4654 - val_level3_loss: 0.4469 - val_level4_loss: 0.4642 - val_level5_loss: 0.4263 - val_out_mean_squared_error: 0.5708 - val_level1_mean_squared_error: 0.5916 - val_level2_mean_squared_error: 0.6312 - val_level3_mean_squared_error: 0.6760 - val_level4_mean_squared_error: 0.6692 - val_level5_mean_squared_error: 0.5259\n",
            "\n",
            "Epoch 00029: val_out_loss did not improve from 0.45321\n",
            "Epoch 30/300\n",
            "12/12 [==============================] - 12s 991ms/step - loss: 1.9167 - out_loss: 0.3975 - level1_loss: 0.3892 - level2_loss: 0.3953 - level3_loss: 0.4000 - level4_loss: 0.4039 - level5_loss: 0.4101 - out_mean_squared_error: 0.4906 - level1_mean_squared_error: 0.4950 - level2_mean_squared_error: 0.4981 - level3_mean_squared_error: 0.4911 - level4_mean_squared_error: 0.4878 - level5_mean_squared_error: 0.5027 - val_loss: 2.1958 - val_out_loss: 0.4576 - val_level1_loss: 0.4523 - val_level2_loss: 0.4606 - val_level3_loss: 0.4338 - val_level4_loss: 0.4588 - val_level5_loss: 0.4817 - val_out_mean_squared_error: 0.5734 - val_level1_mean_squared_error: 0.5771 - val_level2_mean_squared_error: 0.6147 - val_level3_mean_squared_error: 0.6199 - val_level4_mean_squared_error: 0.6440 - val_level5_mean_squared_error: 0.5613\n",
            "\n",
            "Epoch 00030: val_out_loss did not improve from 0.45321\n",
            "Epoch 31/300\n",
            "12/12 [==============================] - 12s 1s/step - loss: 1.9060 - out_loss: 0.3931 - level1_loss: 0.3898 - level2_loss: 0.3965 - level3_loss: 0.3942 - level4_loss: 0.3991 - level5_loss: 0.4098 - out_mean_squared_error: 0.4741 - level1_mean_squared_error: 0.4766 - level2_mean_squared_error: 0.4871 - level3_mean_squared_error: 0.4848 - level4_mean_squared_error: 0.4675 - level5_mean_squared_error: 0.5004 - val_loss: 2.0867 - val_out_loss: 0.4199 - val_level1_loss: 0.4177 - val_level2_loss: 0.4521 - val_level3_loss: 0.4297 - val_level4_loss: 0.4522 - val_level5_loss: 0.4367 - val_out_mean_squared_error: 0.5424 - val_level1_mean_squared_error: 0.5453 - val_level2_mean_squared_error: 0.6586 - val_level3_mean_squared_error: 0.5944 - val_level4_mean_squared_error: 0.6938 - val_level5_mean_squared_error: 0.5579\n",
            "\n",
            "Epoch 00031: val_out_loss improved from 0.45321 to 0.41995, saving model to trained_models/UNet_1024_64_5_6_1.h5\n",
            "Epoch 32/300\n",
            "12/12 [==============================] - 12s 996ms/step - loss: 1.9319 - out_loss: 0.3881 - level1_loss: 0.3883 - level2_loss: 0.3899 - level3_loss: 0.3995 - level4_loss: 0.4201 - level5_loss: 0.4291 - out_mean_squared_error: 0.4865 - level1_mean_squared_error: 0.4893 - level2_mean_squared_error: 0.4808 - level3_mean_squared_error: 0.4800 - level4_mean_squared_error: 0.4723 - level5_mean_squared_error: 0.5139 - val_loss: 2.2468 - val_out_loss: 0.4543 - val_level1_loss: 0.4736 - val_level2_loss: 0.4853 - val_level3_loss: 0.4521 - val_level4_loss: 0.4774 - val_level5_loss: 0.4658 - val_out_mean_squared_error: 0.5889 - val_level1_mean_squared_error: 0.6836 - val_level2_mean_squared_error: 0.6536 - val_level3_mean_squared_error: 0.7031 - val_level4_mean_squared_error: 0.8477 - val_level5_mean_squared_error: 0.6591\n",
            "\n",
            "Epoch 00032: val_out_loss did not improve from 0.41995\n",
            "Epoch 33/300\n",
            " 9/12 [=====================>........] - ETA: 2s - loss: 1.9598 - out_loss: 0.3928 - level1_loss: 0.3902 - level2_loss: 0.4001 - level3_loss: 0.4028 - level4_loss: 0.4375 - level5_loss: 0.4264 - out_mean_squared_error: 0.4941 - level1_mean_squared_error: 0.4952 - level2_mean_squared_error: 0.4822 - level3_mean_squared_error: 0.4805 - level4_mean_squared_error: 0.4615 - level5_mean_squared_error: 0.5722"
          ]
        }
      ]
    },
    {
      "cell_type": "markdown",
      "metadata": {
        "id": "KXKtueC8-Hec"
      },
      "source": [
        "Predict from the Test set"
      ]
    },
    {
      "cell_type": "code",
      "metadata": {
        "id": "da_GxBdub11V"
      },
      "source": [
        "if D_S == 0:\n",
        "    EEG_App = EEGIMU_Network.predict(X_Test, verbose=1)\n",
        "    print(EEG_App.shape)\n",
        "elif D_S == 1:\n",
        "    EEG_App = EEGIMU_Network.predict(X_Test1, verbose=1)\n",
        "    print(EEG_App[0].shape)"
      ],
      "execution_count": null,
      "outputs": []
    },
    {
      "cell_type": "markdown",
      "metadata": {
        "id": "I5VOUzPq-qyv"
      },
      "source": [
        "Plot History Plots (e.g., Loss, Accuracy, etc.)"
      ]
    },
    {
      "cell_type": "code",
      "metadata": {
        "id": "FEbvTDd7-nZH"
      },
      "source": [
        "def history_plot(history):\n",
        "  # list all dictionaries in history\n",
        "  print(history.history.keys())\n",
        "  # summarize history for error\n",
        "  plt.figure(figsize=(7,7))\n",
        "  plt.subplot(2,1,1)\n",
        "  plt.plot(history.history['out_mean_squared_error'])\n",
        "  plt.plot(history.history['val_out_mean_squared_error'])\n",
        "  plt.title('Model Error Performance')\n",
        "  plt.ylabel('Error')\n",
        "  plt.xlabel('Epoch')\n",
        "  plt.legend(['Train', 'Val'], loc='upper right')\n",
        "  plt.ylim([0, 3])\n",
        "  plt.show()\n",
        "  # summarize history for loss\n",
        "  plt.figure(figsize=(7,7))\n",
        "  plt.subplot(2,1,2)\n",
        "  plt.plot(history.history['out_loss'])\n",
        "  plt.plot(history.history['val_out_loss'])\n",
        "  plt.title('Model Loss')\n",
        "  plt.ylabel('Loss')\n",
        "  plt.xlabel('Epoch')\n",
        "  plt.legend(['Train', 'Val'], loc='upper right')\n",
        "  plt.ylim([0, 3])\n",
        "  plt.show()\n",
        "#\n",
        "history_plot(history)"
      ],
      "execution_count": null,
      "outputs": []
    },
    {
      "cell_type": "markdown",
      "metadata": {
        "id": "RAkQe4Yp9QVP"
      },
      "source": [
        "Visualize Outcome"
      ]
    },
    {
      "cell_type": "code",
      "metadata": {
        "id": "tq3lBCm0crMc"
      },
      "source": [
        "if D_S == 0:\n",
        "    i = random.randint(0,len(Y_Test));\n",
        "    #\n",
        "    MAE = np.mean(np.abs(EEG_App[i].ravel()-Y_Test[i].ravel()));\n",
        "    #\n",
        "    plt.figure(figsize=(15, 4));\n",
        "    plt.plot(Y_Test1[i],label='GRND');\n",
        "    plt.plot(EEG_App[i].ravel(), label='Pred');\n",
        "    plt.title(f\"EEG -- Sample Number {i} -- MAE = {MAE}\");\n",
        "    plt.legend();\n",
        "    #\n",
        "elif D_S == 1:\n",
        "    i = random.randint(0,len(Y_Test));\n",
        "    #\n",
        "    MAE = np.mean(np.abs(EEG_App[0][i].ravel()-Y_Test[i].ravel()))\n",
        "    #\n",
        "    plt.figure(figsize=(15,4))\n",
        "    # plt.subplot(5,1,1)\n",
        "    plt.plot(Y_Test[i],label='Ground Truth');\n",
        "    plt.plot(EEG_App[0][i].ravel(), label='Prediction');\n",
        "    plt.title(f\"GRF -- Sample Number {i} -- MAE = {MAE}\");\n",
        "    plt.legend();\n",
        "    plt.show()\n",
        "    # plt.subplot(5,1,2)\n",
        "    # plt.plot((X_Test[i,:,0].ravel()),label='EEG2');\n",
        "    # plt.title('EEG2')\n",
        "    # plt.legend();\n",
        "    # plt.subplot(5,1,3)\n",
        "    # plt.plot((X_Test[i,:,1].ravel()),label='ACCX2');\n",
        "    # plt.title('ACCX')\n",
        "    # plt.legend();\n",
        "    # plt.subplot(5,1,4)\n",
        "    # plt.plot((X_Test[i,:,2].ravel()),label='ACCY2');\n",
        "    # plt.title('ACCY')\n",
        "    # plt.legend();\n",
        "    # plt.subplot(5,1,5)\n",
        "    # plt.plot((X_Test[i,:,3].ravel()),label='ACCZ2');\n",
        "    # plt.title('ACCZ')\n",
        "    # plt.legend();"
      ],
      "execution_count": null,
      "outputs": []
    },
    {
      "cell_type": "markdown",
      "metadata": {
        "id": "qgyZlT9gOC3r"
      },
      "source": [
        "### Evaluate EEG Reconstruction"
      ]
    },
    {
      "cell_type": "markdown",
      "metadata": {
        "id": "3Tn5t8svOC3z"
      },
      "source": [
        "Construction Error"
      ]
    },
    {
      "cell_type": "code",
      "metadata": {
        "id": "dCpLcxFHHGO4"
      },
      "source": [
        "def Construction_Error(GRND, Pred):\n",
        "    construction_err = []\n",
        "    bad_indices = []\n",
        "    count = 0\n",
        "\n",
        "    for i in range(len(GRND)):\n",
        "        MAE = np.mean(np.abs(Pred[i].ravel() - GRND[i].ravel()))\n",
        "        if MAE < 1:\n",
        "            construction_err.append(MAE)\n",
        "        elif MAE >= 1:\n",
        "            count = count + 1\n",
        "            bad_indices.append(i)\n",
        "\n",
        "    print(f'Construction Error : {round(np.mean(construction_err), 3)} +/- {round(np.std(construction_err), 3)}')\n",
        "    print(f'Number of Bad Predictions = {count}')\n",
        "\n",
        "    bad_indices = set(bad_indices)\n",
        "    all_indices = set(np.arange(len(GRND)))\n",
        "    good_indices = np.array(list(all_indices - bad_indices))\n",
        "    GRND_NEW = GRND[good_indices]\n",
        "    PRED_NEW = Pred[good_indices]\n",
        "\n",
        "    return GRND_NEW, PRED_NEW"
      ],
      "execution_count": null,
      "outputs": []
    },
    {
      "cell_type": "code",
      "metadata": {
        "id": "-e5e02IX18_0"
      },
      "source": [
        "[A,B] = Construction_Error(Y_Test,EEG_App[0])"
      ],
      "execution_count": null,
      "outputs": []
    },
    {
      "cell_type": "markdown",
      "metadata": {
        "id": "RpBffrdYhNFs"
      },
      "source": [
        "### Save Files"
      ]
    },
    {
      "cell_type": "code",
      "metadata": {
        "id": "PIUgbKfFhO7O"
      },
      "source": [
        "output_directory = 'Patient_Wise_Data/Outputs/Preds_Sub_' + str(Test_Case) + '.h5'\n",
        "File = h5py.File(output_directory, 'w')\n",
        "File.create_dataset('EEG_GT', data=Y_Test)\n",
        "File.create_dataset('EEG_MA', data=X_Test[:,:,0])\n",
        "File.create_dataset('EEG_Pred', data=EEG_App[0])\n",
        "File.close()"
      ],
      "execution_count": null,
      "outputs": []
    },
    {
      "cell_type": "markdown",
      "metadata": {
        "id": "WesN7p7AeYK4"
      },
      "source": [
        "# Infinite Loop to Keep the Tab Alive"
      ]
    },
    {
      "cell_type": "code",
      "metadata": {
        "id": "0HqQ3O6XeZ1f"
      },
      "source": [
        "while True:\n",
        "    pass"
      ],
      "execution_count": null,
      "outputs": []
    }
  ]
}