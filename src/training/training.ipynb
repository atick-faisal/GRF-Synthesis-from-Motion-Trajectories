{
  "nbformat": 4,
  "nbformat_minor": 0,
  "metadata": {
    "colab": {
      "name": "EEG_Motion_Artifact_Removal_v1.ipynb",
      "provenance": [],
      "collapsed_sections": [
        "tgW7r0C9TuZk",
        "WOaiV66cCD6L",
        "fI8UCcR-oZc-",
        "_qTwozk_BS94",
        "WesN7p7AeYK4"
      ],
      "machine_shape": "hm",
      "include_colab_link": true
    },
    "kernelspec": {
      "display_name": "Python 3",
      "language": "python",
      "name": "python3"
    },
    "language_info": {
      "codemirror_mode": {
        "name": "ipython",
        "version": 3
      },
      "file_extension": ".py",
      "mimetype": "text/x-python",
      "name": "python",
      "nbconvert_exporter": "python",
      "pygments_lexer": "ipython3",
      "version": "3.5.2"
    },
    "accelerator": "GPU"
  },
  "cells": [
    {
      "cell_type": "markdown",
      "metadata": {
        "id": "view-in-github",
        "colab_type": "text"
      },
      "source": [
        "<a href=\"https://colab.research.google.com/github/atick-faisal/GRF-Synthesis-from-Motion-Trajectories/blob/main/src/training/training.ipynb\" target=\"_parent\"><img src=\"https://colab.research.google.com/assets/colab-badge.svg\" alt=\"Open In Colab\"/></a>"
      ]
    },
    {
      "cell_type": "markdown",
      "metadata": {
        "id": "sFyb0y7PUJOo"
      },
      "source": [
        "# EEG Motion Artifact Removal using Deep Learning - Complete Pipeline"
      ]
    },
    {
      "cell_type": "markdown",
      "metadata": {
        "id": "W9vTr2NhcGAA"
      },
      "source": [
        "# Test GPU (Optional)\n",
        "Before Starting, kindly check the available GPU from the Google Server, GPU model and other related information. It might help!"
      ]
    },
    {
      "cell_type": "code",
      "metadata": {
        "colab": {
          "base_uri": "https://localhost:8080/"
        },
        "id": "VUNJNtNxcFTF",
        "outputId": "eb88b48f-720c-4b25-8705-cad3247a6cff"
      },
      "source": [
        "import torch\n",
        "print(\"Is CUDA enabled GPU Available?\", torch.cuda.is_available())\n",
        "print(\"GPU Number:\", torch.cuda.device_count())\n",
        "print(\"Current GPU Index:\", torch.cuda.current_device())\n",
        "print(\"GPU Type:\", torch.cuda.get_device_name(device=None))\n",
        "print(\"GPU Capability:\", torch.cuda.get_device_capability(device=None))\n",
        "print(\"Is GPU Initialized yet?\", torch.cuda.is_initialized())"
      ],
      "execution_count": 1,
      "outputs": [
        {
          "output_type": "stream",
          "name": "stdout",
          "text": [
            "Is CUDA enabled GPU Available? True\n",
            "GPU Number: 1\n",
            "Current GPU Index: 0\n",
            "GPU Type: Tesla K80\n",
            "GPU Capability: (3, 7)\n",
            "Is GPU Initialized yet? True\n"
          ]
        }
      ]
    },
    {
      "cell_type": "markdown",
      "metadata": {
        "id": "EQbDnsIZUSx0"
      },
      "source": [
        "# Connect to Google Drive"
      ]
    },
    {
      "cell_type": "code",
      "metadata": {
        "id": "wg4kMbwxsH9h"
      },
      "source": [
        "# from google.colab import drive\n",
        "# drive.mount('/content/GDrive')"
      ],
      "execution_count": 2,
      "outputs": []
    },
    {
      "cell_type": "markdown",
      "metadata": {
        "id": "GpdYZ2x3MbTd"
      },
      "source": [
        "Move to the Target Directory"
      ]
    },
    {
      "cell_type": "code",
      "metadata": {
        "id": "Efh543dRsQga"
      },
      "source": [
        "# %cd /content/GDrive/MyDrive/Colab_Notebooks/Research/EEG_IMU "
      ],
      "execution_count": 3,
      "outputs": []
    },
    {
      "cell_type": "markdown",
      "metadata": {
        "id": "_ZtMdxE7MeXX"
      },
      "source": [
        "List the Files and Folders Located in the Current Directory"
      ]
    },
    {
      "cell_type": "code",
      "metadata": {
        "id": "eM92ZPcisMK1"
      },
      "source": [
        "# !ls"
      ],
      "execution_count": 4,
      "outputs": []
    },
    {
      "cell_type": "markdown",
      "metadata": {
        "id": "ano69se-e3QY"
      },
      "source": [
        "## Evaluation of Predicting ABP Waveforms\n",
        "\n",
        "Here, we present an interactive CLI to predict the ABP waveform from PPG signal from the test data. Ground truth, prediction from approximation network and refinement network are presented, and a comparison is also demonstrated\n"
      ]
    },
    {
      "cell_type": "markdown",
      "metadata": {
        "id": "fHxmMNfno3U4"
      },
      "source": [
        "# Conling Repository"
      ]
    },
    {
      "cell_type": "code",
      "metadata": {
        "id": "xrTsiXfvo6bp",
        "colab": {
          "base_uri": "https://localhost:8080/"
        },
        "outputId": "a335e6a2-be60-4df5-82a0-32d0774a64b4"
      },
      "source": [
        "!git clone https://github.com/atick-faisal/GRF-Synthesis-from-Motion-Trajectories.git"
      ],
      "execution_count": 5,
      "outputs": [
        {
          "output_type": "stream",
          "name": "stdout",
          "text": [
            "Cloning into 'GRF-Synthesis-from-Motion-Trajectories'...\n",
            "remote: Enumerating objects: 123, done.\u001b[K\n",
            "remote: Counting objects: 100% (123/123), done.\u001b[K\n",
            "remote: Compressing objects: 100% (86/86), done.\u001b[K\n",
            "remote: Total 123 (delta 50), reused 62 (delta 17), pack-reused 0\u001b[K\n",
            "Receiving objects: 100% (123/123), 3.18 MiB | 9.96 MiB/s, done.\n",
            "Resolving deltas: 100% (50/50), done.\n"
          ]
        }
      ]
    },
    {
      "cell_type": "code",
      "metadata": {
        "id": "oCda5cmGpBUo",
        "colab": {
          "base_uri": "https://localhost:8080/"
        },
        "outputId": "3f6a4394-32b4-4912-93c9-5b6a61b8fc10"
      },
      "source": [
        "%cd /content/GRF-Synthesis-from-Motion-Trajectories/src/\n",
        "!ls"
      ],
      "execution_count": 6,
      "outputs": [
        {
          "output_type": "stream",
          "name": "stdout",
          "text": [
            "/content/GRF-Synthesis-from-Motion-Trajectories/src\n",
            "models\tpreprocessing  training  visualization\n"
          ]
        }
      ]
    },
    {
      "cell_type": "markdown",
      "metadata": {
        "id": "tgW7r0C9TuZk"
      },
      "source": [
        "#Import Libraries"
      ]
    },
    {
      "cell_type": "code",
      "metadata": {
        "id": "eMhBhz1CrMb3"
      },
      "source": [
        "import os\n",
        "import h5py\n",
        "import scipy\n",
        "import random\n",
        "import pickle\n",
        "import joblib\n",
        "import numpy as np\n",
        "import pandas as pd\n",
        "import seaborn as sns\n",
        "import tensorflow as tf\n",
        "from tqdm import tqdm\n",
        "import scipy.io as sio\n",
        "import matplotlib.pyplot as plt\n",
        "from sklearn.metrics import mean_squared_error, median_absolute_error, mean_absolute_error\n",
        "from sklearn.metrics import classification_report, confusion_matrix\n",
        "from sklearn.model_selection import train_test_split\n",
        "from pathlib import Path"
      ],
      "execution_count": 7,
      "outputs": []
    },
    {
      "cell_type": "code",
      "metadata": {
        "id": "lFydrjV6TxCc"
      },
      "source": [
        "from models import UNet"
      ],
      "execution_count": 8,
      "outputs": []
    },
    {
      "cell_type": "code",
      "metadata": {
        "id": "03JA1kRfzoit"
      },
      "source": [
        "%matplotlib inline\n",
        "sns.set_style('white')"
      ],
      "execution_count": 9,
      "outputs": []
    },
    {
      "cell_type": "markdown",
      "metadata": {
        "id": "VyFBKZ1ddRuM"
      },
      "source": [
        "# End-to-End Pipeline - EEG Motion Artifact Correction using Deep Learning"
      ]
    },
    {
      "cell_type": "markdown",
      "metadata": {
        "id": "WOaiV66cCD6L"
      },
      "source": [
        "## Prepare Dataset - k-Fold Cross Validation"
      ]
    },
    {
      "cell_type": "code",
      "metadata": {
        "id": "olkAEm0y2rUp",
        "colab": {
          "base_uri": "https://localhost:8080/"
        },
        "outputId": "7f1744a2-f1bc-48be-c37d-dd421fb68edd"
      },
      "source": [
        "!gdown --id \"1td-TvIVosKhuCk38czyDGP8zKVyLtQ8k\""
      ],
      "execution_count": 10,
      "outputs": [
        {
          "output_type": "stream",
          "name": "stdout",
          "text": [
            "Downloading...\n",
            "From: https://drive.google.com/uc?id=1td-TvIVosKhuCk38czyDGP8zKVyLtQ8k\n",
            "To: /content/GRF-Synthesis-from-Motion-Trajectories/src/data.joblib\n",
            "100% 787M/787M [00:16<00:00, 48.0MB/s]\n"
          ]
        }
      ]
    },
    {
      "cell_type": "code",
      "metadata": {
        "id": "NLDwhb-xt3Y_",
        "colab": {
          "base_uri": "https://localhost:8080/"
        },
        "outputId": "480230e2-9d73-4899-dff7-d0480df1ead4"
      },
      "source": [
        "from sklearn.preprocessing import MinMaxScaler\n",
        "from sklearn.preprocessing import StandardScaler\n",
        "\n",
        "data = joblib.load('data.joblib')\n",
        "features = data['X']\n",
        "target = data['y']\n",
        "\n",
        "features_z = features[['fal_z', 'tam_z', 'fcc_z', 'fm1_z', 'fm2_z', 'fm5_z']]\n",
        "target_z = target[['fz']]\n",
        "\n",
        "scaler = StandardScaler()\n",
        "scaler.fit(features_z)\n",
        "features_z = scaler.transform(features_z)\n",
        "\n",
        "scaler = StandardScaler()\n",
        "scaler.fit(target_z)\n",
        "target_z = scaler.transform(target_z)\n",
        "\n",
        "X = features_z.reshape(-1, 1024, 6)\n",
        "y = target_z.reshape(-1, 1024, 1)\n",
        "\n",
        "print(X.shape)\n",
        "print(y.shape)"
      ],
      "execution_count": 11,
      "outputs": [
        {
          "output_type": "stream",
          "name": "stdout",
          "text": [
            "(2286, 1024, 6)\n",
            "(2286, 1024, 1)\n"
          ]
        }
      ]
    },
    {
      "cell_type": "code",
      "metadata": {
        "id": "biuhCFxEfDY2",
        "colab": {
          "base_uri": "https://localhost:8080/"
        },
        "outputId": "3eedf41c-3108-4997-f39f-6b54ebc42a07"
      },
      "source": [
        "features_z.shape"
      ],
      "execution_count": 12,
      "outputs": [
        {
          "output_type": "execute_result",
          "data": {
            "text/plain": [
              "(2340864, 6)"
            ]
          },
          "metadata": {},
          "execution_count": 12
        }
      ]
    },
    {
      "cell_type": "code",
      "metadata": {
        "id": "4cnlxZkZJT-Q",
        "colab": {
          "base_uri": "https://localhost:8080/"
        },
        "outputId": "553a3b92-ff56-4c3e-95de-aa9dc16be6a7"
      },
      "source": [
        "X_Train, X_Test, Y_Train, Y_Test = train_test_split(X, y, test_size=0.2, random_state=42)\n",
        "Y_Train = np.squeeze(Y_Train, axis=2)\n",
        "Y_Test = np.squeeze(Y_Test, axis=2)\n",
        "Y_Train.shape"
      ],
      "execution_count": 13,
      "outputs": [
        {
          "output_type": "execute_result",
          "data": {
            "text/plain": [
              "(1828, 1024)"
            ]
          },
          "metadata": {},
          "execution_count": 13
        }
      ]
    },
    {
      "cell_type": "markdown",
      "metadata": {
        "id": "_qTwozk_BS94"
      },
      "source": [
        "## Garbage Collector"
      ]
    },
    {
      "cell_type": "code",
      "metadata": {
        "id": "ch2jmn3jKKiH"
      },
      "source": [
        "# import gc #Garbage Collector\n",
        "# fl_Train = None\n",
        "# fl_Test = None\n",
        "# X_Test = None\n",
        "# X_Train = None\n",
        "# X_Val = None\n",
        "# Y_Test_BP = None\n",
        "# Y_Train_BP = None\n",
        "# Y_Test_ABP = None\n",
        "# Y_Train_ABP = None\n",
        "# SBP_Train = None\n",
        "# DBP_Train = None\n",
        "# gc.collect()"
      ],
      "execution_count": 14,
      "outputs": []
    },
    {
      "cell_type": "markdown",
      "metadata": {
        "id": "lu6KEu2yeikQ"
      },
      "source": [
        "## Segmentation Pipeline"
      ]
    },
    {
      "cell_type": "markdown",
      "metadata": {
        "id": "X_Ev2XlLwRkW"
      },
      "source": [
        "### Prepare Label"
      ]
    },
    {
      "cell_type": "markdown",
      "metadata": {
        "id": "ANawSmVbUkZs"
      },
      "source": [
        "Configurations"
      ]
    },
    {
      "cell_type": "code",
      "metadata": {
        "id": "3ps7RMbyR7pw"
      },
      "source": [
        "signal_length = 1024 # Length of each Segment\n",
        "model_depth = 2 # Number of Level in the CNN Model\n",
        "model_width = 64 # Width of the Initial Layer, subsequent layers start from here\n",
        "kernel_size = 3 # Size of the Kernels/Filter\n",
        "num_channel = 6 # Number of Channels in the Model\n",
        "D_S = 1 # Turn on Deep Supervision\n",
        "A_E = 0 # Turn on AutoEncoder Mode for Feature Extraction\n",
        "problem_type = 'Regression'\n",
        "output_nums = 1 # Number of Class for Classification Problems, always '1' for Regression Problems\n",
        "'''Only required if the AutoEncoder Mode is turned on'''\n",
        "feature_number = 1024 # Number of Features to be Extracted\n",
        "'''Only required for MultiResUNet'''\n",
        "alpha = 1 # Model Width Expansion Parameter"
      ],
      "execution_count": 15,
      "outputs": []
    },
    {
      "cell_type": "markdown",
      "metadata": {
        "id": "qdw2EGzA92pt"
      },
      "source": [
        "Prepare Dataset for Deep Supervision (if Activated)"
      ]
    },
    {
      "cell_type": "code",
      "metadata": {
        "id": "QWMEhQkaClZi"
      },
      "source": [
        "def prepareTrainDict(y, model_depth, signal_length, model_name):\n",
        "  def approximate(inp, w_len, signal_length):\n",
        "    op = np.zeros((len(inp),signal_length//w_len))\n",
        "    for i in range(0,signal_length,w_len):\n",
        "      try:\n",
        "        op[:,i//w_len] = np.mean(inp[:,i:i+w_len],axis=1)\n",
        "      except Exception as e:\n",
        "        print(e)\n",
        "        print(i)\n",
        "  \t\n",
        "    return op\n",
        "\n",
        "  out = {}\n",
        "  Y_Train_dict = {}\n",
        "  out['out'] = np.array(y)\n",
        "  Y_Train_dict['out'] = out['out']\n",
        "  for i in range(1, (model_depth+1)):\n",
        "    name = f'level{i}'\n",
        "    if ((model_name == 'UNet') or (model_name == 'MultiResUNet') or (model_name == 'FPN')):\n",
        "      out[name] = np.expand_dims(approximate(np.squeeze(y), 2**i, signal_length),axis = 2)\n",
        "    elif ((model_name == 'UNetE') or (model_name == 'UNetP') or (model_name == 'UNetPP')):\n",
        "      out[name] = np.expand_dims(approximate(np.squeeze(y), 2**0, signal_length),axis = 2)\n",
        "    Y_Train_dict[f'level{i}'] = out[f'level{i}']\n",
        "  \n",
        "  return out, Y_Train_dict"
      ],
      "execution_count": 16,
      "outputs": []
    },
    {
      "cell_type": "code",
      "metadata": {
        "id": "ZQM6mSM2zE3G"
      },
      "source": [
        "model_name = 'UNet' # UNet or UNetPP\n",
        "X_Train1 = X_Train\n",
        "X_Test1 = X_Test\n",
        "[Y_Train1, Y_Train_dict] = prepareTrainDict(Y_Train, model_depth, signal_length, model_name)\n",
        "[Y_Test1, Y_Test_dict] = prepareTrainDict(Y_Test, model_depth, signal_length, model_name)"
      ],
      "execution_count": 17,
      "outputs": []
    },
    {
      "cell_type": "code",
      "metadata": {
        "colab": {
          "base_uri": "https://localhost:8080/"
        },
        "id": "1k-OSEQ87CyB",
        "outputId": "ff27ce3a-fc6b-4053-e6ee-b97fd103df1d"
      },
      "source": [
        "loss_weights = np.zeros(model_depth)\n",
        "\n",
        "for i in range(0, model_depth):\n",
        "   loss_weights[i] = 1-(i*0.1)\n",
        "   \n",
        "loss_weights"
      ],
      "execution_count": 18,
      "outputs": [
        {
          "output_type": "execute_result",
          "data": {
            "text/plain": [
              "array([1. , 0.9])"
            ]
          },
          "metadata": {},
          "execution_count": 18
        }
      ]
    },
    {
      "cell_type": "markdown",
      "metadata": {
        "id": "tLWoX0CHeikZ"
      },
      "source": [
        "### Train Data"
      ]
    },
    {
      "cell_type": "markdown",
      "metadata": {
        "id": "_G9wCFl1986E"
      },
      "source": [
        "Build and Compile Model"
      ]
    },
    {
      "cell_type": "code",
      "metadata": {
        "id": "AgNmOBsctd4u"
      },
      "source": [
        "if D_S == 0:\n",
        "    # Build model for EEG Motion Artifact Removal - Deep Unet Architecture\n",
        "    # AutoEncoder should be set at 'FALSE' for the Deep U-net model for Signal Reconstruction\n",
        "    # D_S = 0, A_E = 0\n",
        "    EEGIMU_Network = UNet(signal_length, model_depth, num_channel, model_width, kernel_size, problem_type=problem_type, output_nums=output_nums, ds=D_S, ae=A_E, alpha=alpha).UNet()\n",
        "    EEGIMU_Network.compile(loss= 'mean_absolute_error', optimizer= 'adam', metrics= ['mean_squared_error','accuracy'])\n",
        "    #\n",
        "elif D_S == 1:\n",
        "    # Build model for EEG Motion Artifact Removal - Deep Unet Architecture\n",
        "    # AutoEncoder should be set at 'FALSE' for the Deep U-net model for Signal Reconstruction\n",
        "    # D_S = 1, A_E = 0\n",
        "    EEGIMU_Network = UNet(signal_length, model_depth, num_channel, model_width, kernel_size, problem_type=problem_type, output_nums=output_nums, ds=D_S, ae=A_E, alpha=alpha).UNet()\n",
        "    EEGIMU_Network.compile(loss= 'mean_absolute_error', optimizer= 'adam', metrics= ['mean_squared_error'], loss_weights= loss_weights)"
      ],
      "execution_count": 19,
      "outputs": []
    },
    {
      "cell_type": "markdown",
      "metadata": {
        "id": "weUOLRyW9_TE"
      },
      "source": [
        "Import Trained Weights for a Headstart"
      ]
    },
    {
      "cell_type": "code",
      "metadata": {
        "id": "PEhSkrAG3SXe"
      },
      "source": [
        "# if D_S == 0:\n",
        "#     EEGIMU_Network_Network.load_weights('trained_models/'+model_name+'_'+str(length)+'_'+str(model_width)+'_'+str(num_channel)+'_'+str(D_S)+'.h5') # Load Previously Trained Weights for Transfer Learning\n",
        "# elif D_S == 1:\n",
        "#     EEGIMU_Network_Network.load_weights('trained_models/'+model_name+'_'+str(length)+'_'+str(model_width)+'_'+str(num_channel)+'_'+str(D_S)+'.h5') # Load Previously Trained Weights for Transfer Learning"
      ],
      "execution_count": 20,
      "outputs": []
    },
    {
      "cell_type": "markdown",
      "metadata": {
        "id": "17aVX6jw-E8j"
      },
      "source": [
        "Train Model"
      ]
    },
    {
      "cell_type": "code",
      "metadata": {
        "id": "gYmCDIxAbdT1",
        "colab": {
          "base_uri": "https://localhost:8080/"
        },
        "outputId": "2a7f76c7-1827-4a2b-87f9-c31cddd1c4fa"
      },
      "source": [
        "if D_S == 0:\n",
        "    callbacks = [tf.keras.callbacks.EarlyStopping(monitor='val_loss', patience=30, mode='min'), \n",
        "                 tf.keras.callbacks.ModelCheckpoint('trained_models/'+model_name+'_'+str(signal_length)+'_'+str(model_width)+'_'+str(model_depth)+'_'+str(num_channel)+'_'+str(D_S)+'.h5', verbose=1, monitor='val_loss', save_best_only=True, mode='min')]\n",
        "    history = EEGIMU_Network.fit(X_Train, Y_Train, epochs=300, batch_size=64, verbose=1, validation_split=0.2, shuffle=True, callbacks=callbacks)\n",
        "    #\n",
        "elif D_S == 1:\n",
        "    callbacks = [tf.keras.callbacks.EarlyStopping(monitor='val_out_loss', patience=30, mode='min'), \n",
        "                 tf.keras.callbacks.ModelCheckpoint('trained_models/'+model_name+'_'+str(signal_length)+'_'+str(model_width)+'_'+str(model_depth)+'_'+str(num_channel)+'_'+str(D_S)+'.h5', verbose=1, monitor='val_out_loss', save_best_only=True, mode='min')]\n",
        "    history = EEGIMU_Network.fit(X_Train1, Y_Train_dict, epochs=300, batch_size=64, verbose=1, validation_split=0.2, shuffle=True, callbacks=callbacks)"
      ],
      "execution_count": 21,
      "outputs": [
        {
          "output_type": "stream",
          "name": "stdout",
          "text": [
            "Epoch 1/300\n",
            "23/23 [==============================] - 40s 265ms/step - loss: 2.0126 - out_loss: 0.6420 - level1_loss: 0.7016 - level2_loss: 0.7749 - out_mean_squared_error: 0.8567 - level1_mean_squared_error: 1.0145 - level2_mean_squared_error: 1.2021 - val_loss: 2.5385 - val_out_loss: 0.8725 - val_level1_loss: 0.9195 - val_level2_loss: 0.8801 - val_out_mean_squared_error: 0.9335 - val_level1_mean_squared_error: 1.1377 - val_level2_mean_squared_error: 0.9732\n",
            "\n",
            "Epoch 00001: val_out_loss improved from inf to 0.87249, saving model to trained_models/UNet_1024_64_2_6_1.h5\n",
            "Epoch 2/300\n",
            "23/23 [==============================] - 5s 197ms/step - loss: 1.5470 - out_loss: 0.5322 - level1_loss: 0.5405 - level2_loss: 0.5557 - out_mean_squared_error: 0.6584 - level1_mean_squared_error: 0.6669 - level2_mean_squared_error: 0.6886 - val_loss: 2.3346 - val_out_loss: 0.8286 - val_level1_loss: 0.8177 - val_level2_loss: 0.8111 - val_out_mean_squared_error: 0.8955 - val_level1_mean_squared_error: 0.8645 - val_level2_mean_squared_error: 0.8846\n",
            "\n",
            "Epoch 00002: val_out_loss improved from 0.87249 to 0.82865, saving model to trained_models/UNet_1024_64_2_6_1.h5\n",
            "Epoch 3/300\n",
            "23/23 [==============================] - 5s 200ms/step - loss: 1.4993 - out_loss: 0.5181 - level1_loss: 0.5201 - level2_loss: 0.5399 - out_mean_squared_error: 0.6328 - level1_mean_squared_error: 0.6234 - level2_mean_squared_error: 0.6348 - val_loss: 2.2137 - val_out_loss: 0.7912 - val_level1_loss: 0.7624 - val_level2_loss: 0.7767 - val_out_mean_squared_error: 0.8724 - val_level1_mean_squared_error: 0.8091 - val_level2_mean_squared_error: 0.8422\n",
            "\n",
            "Epoch 00003: val_out_loss improved from 0.82865 to 0.79116, saving model to trained_models/UNet_1024_64_2_6_1.h5\n",
            "Epoch 4/300\n",
            "23/23 [==============================] - 5s 201ms/step - loss: 1.4704 - out_loss: 0.5080 - level1_loss: 0.5300 - level2_loss: 0.5098 - out_mean_squared_error: 0.6416 - level1_mean_squared_error: 0.6332 - level2_mean_squared_error: 0.6218 - val_loss: 2.0823 - val_out_loss: 0.7334 - val_level1_loss: 0.7421 - val_level2_loss: 0.7165 - val_out_mean_squared_error: 0.7639 - val_level1_mean_squared_error: 0.8201 - val_level2_mean_squared_error: 0.7841\n",
            "\n",
            "Epoch 00004: val_out_loss improved from 0.79116 to 0.73340, saving model to trained_models/UNet_1024_64_2_6_1.h5\n",
            "Epoch 5/300\n",
            "23/23 [==============================] - 5s 197ms/step - loss: 1.4590 - out_loss: 0.5012 - level1_loss: 0.5191 - level2_loss: 0.5154 - out_mean_squared_error: 0.6294 - level1_mean_squared_error: 0.6369 - level2_mean_squared_error: 0.6193 - val_loss: 1.9593 - val_out_loss: 0.6756 - val_level1_loss: 0.6743 - val_level2_loss: 0.7125 - val_out_mean_squared_error: 0.6787 - val_level1_mean_squared_error: 0.6509 - val_level2_mean_squared_error: 0.7213\n",
            "\n",
            "Epoch 00005: val_out_loss improved from 0.73340 to 0.67563, saving model to trained_models/UNet_1024_64_2_6_1.h5\n",
            "Epoch 6/300\n",
            "23/23 [==============================] - 5s 201ms/step - loss: 1.4352 - out_loss: 0.4959 - level1_loss: 0.5072 - level2_loss: 0.5076 - out_mean_squared_error: 0.6245 - level1_mean_squared_error: 0.6103 - level2_mean_squared_error: 0.6057 - val_loss: 1.8047 - val_out_loss: 0.6279 - val_level1_loss: 0.6250 - val_level2_loss: 0.6469 - val_out_mean_squared_error: 0.6437 - val_level1_mean_squared_error: 0.6573 - val_level2_mean_squared_error: 0.6606\n",
            "\n",
            "Epoch 00006: val_out_loss improved from 0.67563 to 0.62788, saving model to trained_models/UNet_1024_64_2_6_1.h5\n",
            "Epoch 7/300\n",
            "23/23 [==============================] - 5s 202ms/step - loss: 1.4228 - out_loss: 0.5014 - level1_loss: 0.4971 - level2_loss: 0.4992 - out_mean_squared_error: 0.6112 - level1_mean_squared_error: 0.6116 - level2_mean_squared_error: 0.6088 - val_loss: 1.7526 - val_out_loss: 0.6167 - val_level1_loss: 0.6067 - val_level2_loss: 0.6214 - val_out_mean_squared_error: 0.6279 - val_level1_mean_squared_error: 0.6491 - val_level2_mean_squared_error: 0.6356\n",
            "\n",
            "Epoch 00007: val_out_loss improved from 0.62788 to 0.61672, saving model to trained_models/UNet_1024_64_2_6_1.h5\n",
            "Epoch 8/300\n",
            "23/23 [==============================] - 4s 194ms/step - loss: 1.4022 - out_loss: 0.4884 - level1_loss: 0.4914 - level2_loss: 0.4962 - out_mean_squared_error: 0.6089 - level1_mean_squared_error: 0.6070 - level2_mean_squared_error: 0.6096 - val_loss: 1.7402 - val_out_loss: 0.6195 - val_level1_loss: 0.5939 - val_level2_loss: 0.6183 - val_out_mean_squared_error: 0.6970 - val_level1_mean_squared_error: 0.6744 - val_level2_mean_squared_error: 0.6776\n",
            "\n",
            "Epoch 00008: val_out_loss did not improve from 0.61672\n",
            "Epoch 9/300\n",
            "23/23 [==============================] - 4s 194ms/step - loss: 1.3956 - out_loss: 0.4858 - level1_loss: 0.4906 - level2_loss: 0.4927 - out_mean_squared_error: 0.6042 - level1_mean_squared_error: 0.6006 - level2_mean_squared_error: 0.6041 - val_loss: 1.6638 - val_out_loss: 0.5783 - val_level1_loss: 0.5836 - val_level2_loss: 0.5895 - val_out_mean_squared_error: 0.6249 - val_level1_mean_squared_error: 0.6242 - val_level2_mean_squared_error: 0.6397\n",
            "\n",
            "Epoch 00009: val_out_loss improved from 0.61672 to 0.57830, saving model to trained_models/UNet_1024_64_2_6_1.h5\n",
            "Epoch 10/300\n",
            "23/23 [==============================] - 5s 205ms/step - loss: 1.4057 - out_loss: 0.4874 - level1_loss: 0.4949 - level2_loss: 0.4974 - out_mean_squared_error: 0.6042 - level1_mean_squared_error: 0.5975 - level2_mean_squared_error: 0.6064 - val_loss: 1.5878 - val_out_loss: 0.5554 - val_level1_loss: 0.5658 - val_level2_loss: 0.5502 - val_out_mean_squared_error: 0.6470 - val_level1_mean_squared_error: 0.6776 - val_level2_mean_squared_error: 0.6293\n",
            "\n",
            "Epoch 00010: val_out_loss improved from 0.57830 to 0.55541, saving model to trained_models/UNet_1024_64_2_6_1.h5\n",
            "Epoch 11/300\n",
            "23/23 [==============================] - 5s 199ms/step - loss: 1.3725 - out_loss: 0.4757 - level1_loss: 0.4787 - level2_loss: 0.4903 - out_mean_squared_error: 0.5974 - level1_mean_squared_error: 0.5953 - level2_mean_squared_error: 0.6049 - val_loss: 1.5763 - val_out_loss: 0.5540 - val_level1_loss: 0.5673 - val_level2_loss: 0.5380 - val_out_mean_squared_error: 0.6291 - val_level1_mean_squared_error: 0.6555 - val_level2_mean_squared_error: 0.6459\n",
            "\n",
            "Epoch 00011: val_out_loss improved from 0.55541 to 0.55397, saving model to trained_models/UNet_1024_64_2_6_1.h5\n",
            "Epoch 12/300\n",
            "23/23 [==============================] - 4s 197ms/step - loss: 1.3728 - out_loss: 0.4722 - level1_loss: 0.4796 - level2_loss: 0.4932 - out_mean_squared_error: 0.5839 - level1_mean_squared_error: 0.5853 - level2_mean_squared_error: 0.5964 - val_loss: 1.5468 - val_out_loss: 0.5375 - val_level1_loss: 0.5463 - val_level2_loss: 0.5444 - val_out_mean_squared_error: 0.6139 - val_level1_mean_squared_error: 0.6406 - val_level2_mean_squared_error: 0.6285\n",
            "\n",
            "Epoch 00012: val_out_loss improved from 0.55397 to 0.53749, saving model to trained_models/UNet_1024_64_2_6_1.h5\n",
            "Epoch 13/300\n",
            "23/23 [==============================] - 5s 205ms/step - loss: 1.3545 - out_loss: 0.4702 - level1_loss: 0.4744 - level2_loss: 0.4812 - out_mean_squared_error: 0.5899 - level1_mean_squared_error: 0.5913 - level2_mean_squared_error: 0.5985 - val_loss: 1.5298 - val_out_loss: 0.5431 - val_level1_loss: 0.5262 - val_level2_loss: 0.5410 - val_out_mean_squared_error: 0.6627 - val_level1_mean_squared_error: 0.6383 - val_level2_mean_squared_error: 0.6345\n",
            "\n",
            "Epoch 00013: val_out_loss did not improve from 0.53749\n",
            "Epoch 14/300\n",
            "23/23 [==============================] - 5s 209ms/step - loss: 1.3425 - out_loss: 0.4682 - level1_loss: 0.4683 - level2_loss: 0.4768 - out_mean_squared_error: 0.5909 - level1_mean_squared_error: 0.5860 - level2_mean_squared_error: 0.5888 - val_loss: 1.5678 - val_out_loss: 0.5399 - val_level1_loss: 0.5352 - val_level2_loss: 0.5752 - val_out_mean_squared_error: 0.6427 - val_level1_mean_squared_error: 0.6380 - val_level2_mean_squared_error: 0.7756\n",
            "\n",
            "Epoch 00014: val_out_loss did not improve from 0.53749\n",
            "Epoch 15/300\n",
            "23/23 [==============================] - 5s 206ms/step - loss: 1.3250 - out_loss: 0.4588 - level1_loss: 0.4661 - level2_loss: 0.4698 - out_mean_squared_error: 0.5774 - level1_mean_squared_error: 0.5729 - level2_mean_squared_error: 0.5897 - val_loss: 1.5626 - val_out_loss: 0.5467 - val_level1_loss: 0.5534 - val_level2_loss: 0.5448 - val_out_mean_squared_error: 0.6612 - val_level1_mean_squared_error: 0.6441 - val_level2_mean_squared_error: 0.6330\n",
            "\n",
            "Epoch 00015: val_out_loss did not improve from 0.53749\n",
            "Epoch 16/300\n",
            "23/23 [==============================] - 5s 205ms/step - loss: 1.3471 - out_loss: 0.4680 - level1_loss: 0.4744 - level2_loss: 0.4756 - out_mean_squared_error: 0.5814 - level1_mean_squared_error: 0.5742 - level2_mean_squared_error: 0.5870 - val_loss: 1.5445 - val_out_loss: 0.5307 - val_level1_loss: 0.5525 - val_level2_loss: 0.5425 - val_out_mean_squared_error: 0.6530 - val_level1_mean_squared_error: 0.6486 - val_level2_mean_squared_error: 0.6802\n",
            "\n",
            "Epoch 00016: val_out_loss improved from 0.53749 to 0.53066, saving model to trained_models/UNet_1024_64_2_6_1.h5\n",
            "Epoch 17/300\n",
            "23/23 [==============================] - 5s 205ms/step - loss: 1.3238 - out_loss: 0.4606 - level1_loss: 0.4625 - level2_loss: 0.4704 - out_mean_squared_error: 0.5778 - level1_mean_squared_error: 0.5799 - level2_mean_squared_error: 0.5858 - val_loss: 1.5289 - val_out_loss: 0.5264 - val_level1_loss: 0.5283 - val_level2_loss: 0.5547 - val_out_mean_squared_error: 0.6710 - val_level1_mean_squared_error: 0.6599 - val_level2_mean_squared_error: 0.7182\n",
            "\n",
            "Epoch 00017: val_out_loss improved from 0.53066 to 0.52638, saving model to trained_models/UNet_1024_64_2_6_1.h5\n",
            "Epoch 18/300\n",
            "23/23 [==============================] - 5s 199ms/step - loss: 1.3352 - out_loss: 0.4613 - level1_loss: 0.4647 - level2_loss: 0.4796 - out_mean_squared_error: 0.5751 - level1_mean_squared_error: 0.5735 - level2_mean_squared_error: 0.5942 - val_loss: 1.5516 - val_out_loss: 0.5455 - val_level1_loss: 0.5283 - val_level2_loss: 0.5595 - val_out_mean_squared_error: 0.7642 - val_level1_mean_squared_error: 0.6977 - val_level2_mean_squared_error: 0.7668\n",
            "\n",
            "Epoch 00018: val_out_loss did not improve from 0.52638\n",
            "Epoch 19/300\n",
            "23/23 [==============================] - 5s 206ms/step - loss: 1.3259 - out_loss: 0.4573 - level1_loss: 0.4647 - level2_loss: 0.4738 - out_mean_squared_error: 0.5764 - level1_mean_squared_error: 0.5770 - level2_mean_squared_error: 0.5807 - val_loss: 1.4876 - val_out_loss: 0.5107 - val_level1_loss: 0.5154 - val_level2_loss: 0.5398 - val_out_mean_squared_error: 0.7066 - val_level1_mean_squared_error: 0.6707 - val_level2_mean_squared_error: 0.6975\n",
            "\n",
            "Epoch 00019: val_out_loss improved from 0.52638 to 0.51070, saving model to trained_models/UNet_1024_64_2_6_1.h5\n",
            "Epoch 20/300\n",
            "23/23 [==============================] - 5s 202ms/step - loss: 1.3117 - out_loss: 0.4498 - level1_loss: 0.4606 - level2_loss: 0.4703 - out_mean_squared_error: 0.5672 - level1_mean_squared_error: 0.5644 - level2_mean_squared_error: 0.5744 - val_loss: 1.5114 - val_out_loss: 0.5177 - val_level1_loss: 0.5383 - val_level2_loss: 0.5350 - val_out_mean_squared_error: 0.6705 - val_level1_mean_squared_error: 0.7246 - val_level2_mean_squared_error: 0.7435\n",
            "\n",
            "Epoch 00020: val_out_loss did not improve from 0.51070\n",
            "Epoch 21/300\n",
            "23/23 [==============================] - 5s 205ms/step - loss: 1.2917 - out_loss: 0.4457 - level1_loss: 0.4507 - level2_loss: 0.4633 - out_mean_squared_error: 0.5639 - level1_mean_squared_error: 0.5675 - level2_mean_squared_error: 0.5769 - val_loss: 1.5498 - val_out_loss: 0.5334 - val_level1_loss: 0.5319 - val_level2_loss: 0.5661 - val_out_mean_squared_error: 0.7293 - val_level1_mean_squared_error: 0.6941 - val_level2_mean_squared_error: 0.7716\n",
            "\n",
            "Epoch 00021: val_out_loss did not improve from 0.51070\n",
            "Epoch 22/300\n",
            "23/23 [==============================] - 5s 198ms/step - loss: 1.2785 - out_loss: 0.4374 - level1_loss: 0.4525 - level2_loss: 0.4559 - out_mean_squared_error: 0.5532 - level1_mean_squared_error: 0.5516 - level2_mean_squared_error: 0.5601 - val_loss: 1.4282 - val_out_loss: 0.4946 - val_level1_loss: 0.4977 - val_level2_loss: 0.5110 - val_out_mean_squared_error: 0.6385 - val_level1_mean_squared_error: 0.6352 - val_level2_mean_squared_error: 0.6421\n",
            "\n",
            "Epoch 00022: val_out_loss improved from 0.51070 to 0.49459, saving model to trained_models/UNet_1024_64_2_6_1.h5\n",
            "Epoch 23/300\n",
            "23/23 [==============================] - 5s 207ms/step - loss: 1.2825 - out_loss: 0.4418 - level1_loss: 0.4534 - level2_loss: 0.4547 - out_mean_squared_error: 0.5612 - level1_mean_squared_error: 0.5521 - level2_mean_squared_error: 0.5615 - val_loss: 1.4143 - val_out_loss: 0.4862 - val_level1_loss: 0.4974 - val_level2_loss: 0.5051 - val_out_mean_squared_error: 0.6241 - val_level1_mean_squared_error: 0.6576 - val_level2_mean_squared_error: 0.6545\n",
            "\n",
            "Epoch 00023: val_out_loss improved from 0.49459 to 0.48615, saving model to trained_models/UNet_1024_64_2_6_1.h5\n",
            "Epoch 24/300\n",
            "23/23 [==============================] - 5s 202ms/step - loss: 1.2702 - out_loss: 0.4372 - level1_loss: 0.4440 - level2_loss: 0.4558 - out_mean_squared_error: 0.5555 - level1_mean_squared_error: 0.5555 - level2_mean_squared_error: 0.5610 - val_loss: 1.3840 - val_out_loss: 0.4807 - val_level1_loss: 0.4806 - val_level2_loss: 0.4956 - val_out_mean_squared_error: 0.6287 - val_level1_mean_squared_error: 0.6308 - val_level2_mean_squared_error: 0.6206\n",
            "\n",
            "Epoch 00024: val_out_loss improved from 0.48615 to 0.48067, saving model to trained_models/UNet_1024_64_2_6_1.h5\n",
            "Epoch 25/300\n",
            "23/23 [==============================] - 5s 206ms/step - loss: 1.2675 - out_loss: 0.4353 - level1_loss: 0.4398 - level2_loss: 0.4592 - out_mean_squared_error: 0.5495 - level1_mean_squared_error: 0.5505 - level2_mean_squared_error: 0.5478 - val_loss: 1.4065 - val_out_loss: 0.4741 - val_level1_loss: 0.4839 - val_level2_loss: 0.5225 - val_out_mean_squared_error: 0.6135 - val_level1_mean_squared_error: 0.5993 - val_level2_mean_squared_error: 0.6337\n",
            "\n",
            "Epoch 00025: val_out_loss improved from 0.48067 to 0.47411, saving model to trained_models/UNet_1024_64_2_6_1.h5\n",
            "Epoch 26/300\n",
            "23/23 [==============================] - 5s 200ms/step - loss: 1.2469 - out_loss: 0.4310 - level1_loss: 0.4375 - level2_loss: 0.4441 - out_mean_squared_error: 0.5410 - level1_mean_squared_error: 0.5422 - level2_mean_squared_error: 0.5558 - val_loss: 1.4170 - val_out_loss: 0.4904 - val_level1_loss: 0.4998 - val_level2_loss: 0.5014 - val_out_mean_squared_error: 0.6687 - val_level1_mean_squared_error: 0.6264 - val_level2_mean_squared_error: 0.6090\n",
            "\n",
            "Epoch 00026: val_out_loss did not improve from 0.47411\n",
            "Epoch 27/300\n",
            "23/23 [==============================] - 5s 210ms/step - loss: 1.2626 - out_loss: 0.4334 - level1_loss: 0.4409 - level2_loss: 0.4547 - out_mean_squared_error: 0.5470 - level1_mean_squared_error: 0.5530 - level2_mean_squared_error: 0.5612 - val_loss: 1.4261 - val_out_loss: 0.4863 - val_level1_loss: 0.4970 - val_level2_loss: 0.5179 - val_out_mean_squared_error: 0.6549 - val_level1_mean_squared_error: 0.6666 - val_level2_mean_squared_error: 0.6327\n",
            "\n",
            "Epoch 00027: val_out_loss did not improve from 0.47411\n",
            "Epoch 28/300\n",
            "23/23 [==============================] - 5s 206ms/step - loss: 1.2653 - out_loss: 0.4340 - level1_loss: 0.4427 - level2_loss: 0.4552 - out_mean_squared_error: 0.5482 - level1_mean_squared_error: 0.5511 - level2_mean_squared_error: 0.5581 - val_loss: 1.4801 - val_out_loss: 0.4993 - val_level1_loss: 0.5117 - val_level2_loss: 0.5470 - val_out_mean_squared_error: 0.6462 - val_level1_mean_squared_error: 0.6155 - val_level2_mean_squared_error: 0.6450\n",
            "\n",
            "Epoch 00028: val_out_loss did not improve from 0.47411\n",
            "Epoch 29/300\n",
            "23/23 [==============================] - 5s 202ms/step - loss: 1.2560 - out_loss: 0.4335 - level1_loss: 0.4384 - level2_loss: 0.4502 - out_mean_squared_error: 0.5466 - level1_mean_squared_error: 0.5478 - level2_mean_squared_error: 0.5607 - val_loss: 1.3934 - val_out_loss: 0.4809 - val_level1_loss: 0.4863 - val_level2_loss: 0.4995 - val_out_mean_squared_error: 0.6271 - val_level1_mean_squared_error: 0.5945 - val_level2_mean_squared_error: 0.6177\n",
            "\n",
            "Epoch 00029: val_out_loss did not improve from 0.47411\n",
            "Epoch 30/300\n",
            "23/23 [==============================] - 5s 198ms/step - loss: 1.2196 - out_loss: 0.4209 - level1_loss: 0.4252 - level2_loss: 0.4378 - out_mean_squared_error: 0.5358 - level1_mean_squared_error: 0.5350 - level2_mean_squared_error: 0.5404 - val_loss: 1.3637 - val_out_loss: 0.4621 - val_level1_loss: 0.4780 - val_level2_loss: 0.4953 - val_out_mean_squared_error: 0.6057 - val_level1_mean_squared_error: 0.5863 - val_level2_mean_squared_error: 0.6020\n",
            "\n",
            "Epoch 00030: val_out_loss improved from 0.47411 to 0.46212, saving model to trained_models/UNet_1024_64_2_6_1.h5\n",
            "Epoch 31/300\n",
            "23/23 [==============================] - 5s 207ms/step - loss: 1.2254 - out_loss: 0.4222 - level1_loss: 0.4282 - level2_loss: 0.4395 - out_mean_squared_error: 0.5349 - level1_mean_squared_error: 0.5356 - level2_mean_squared_error: 0.5434 - val_loss: 1.3789 - val_out_loss: 0.4798 - val_level1_loss: 0.4883 - val_level2_loss: 0.4834 - val_out_mean_squared_error: 0.6160 - val_level1_mean_squared_error: 0.5987 - val_level2_mean_squared_error: 0.5974\n",
            "\n",
            "Epoch 00031: val_out_loss did not improve from 0.46212\n",
            "Epoch 32/300\n",
            "23/23 [==============================] - 5s 203ms/step - loss: 1.2350 - out_loss: 0.4231 - level1_loss: 0.4307 - level2_loss: 0.4463 - out_mean_squared_error: 0.5409 - level1_mean_squared_error: 0.5430 - level2_mean_squared_error: 0.5497 - val_loss: 1.4204 - val_out_loss: 0.4778 - val_level1_loss: 0.4860 - val_level2_loss: 0.5314 - val_out_mean_squared_error: 0.6171 - val_level1_mean_squared_error: 0.6069 - val_level2_mean_squared_error: 0.7645\n",
            "\n",
            "Epoch 00032: val_out_loss did not improve from 0.46212\n",
            "Epoch 33/300\n",
            "23/23 [==============================] - 5s 207ms/step - loss: 1.2269 - out_loss: 0.4219 - level1_loss: 0.4270 - level2_loss: 0.4426 - out_mean_squared_error: 0.5296 - level1_mean_squared_error: 0.5316 - level2_mean_squared_error: 0.5480 - val_loss: 1.4586 - val_out_loss: 0.4950 - val_level1_loss: 0.5107 - val_level2_loss: 0.5297 - val_out_mean_squared_error: 0.6614 - val_level1_mean_squared_error: 0.6777 - val_level2_mean_squared_error: 0.6738\n",
            "\n",
            "Epoch 00033: val_out_loss did not improve from 0.46212\n",
            "Epoch 34/300\n",
            "23/23 [==============================] - 5s 206ms/step - loss: 1.2062 - out_loss: 0.4136 - level1_loss: 0.4213 - level2_loss: 0.4348 - out_mean_squared_error: 0.5304 - level1_mean_squared_error: 0.5335 - level2_mean_squared_error: 0.5421 - val_loss: 1.4196 - val_out_loss: 0.4909 - val_level1_loss: 0.4950 - val_level2_loss: 0.5084 - val_out_mean_squared_error: 0.6669 - val_level1_mean_squared_error: 0.6385 - val_level2_mean_squared_error: 0.6171\n",
            "\n",
            "Epoch 00034: val_out_loss did not improve from 0.46212\n",
            "Epoch 35/300\n",
            "23/23 [==============================] - 5s 206ms/step - loss: 1.1958 - out_loss: 0.4112 - level1_loss: 0.4175 - level2_loss: 0.4300 - out_mean_squared_error: 0.5307 - level1_mean_squared_error: 0.5306 - level2_mean_squared_error: 0.5307 - val_loss: 1.3181 - val_out_loss: 0.4479 - val_level1_loss: 0.4604 - val_level2_loss: 0.4792 - val_out_mean_squared_error: 0.5958 - val_level1_mean_squared_error: 0.5932 - val_level2_mean_squared_error: 0.5990\n",
            "\n",
            "Epoch 00035: val_out_loss improved from 0.46212 to 0.44787, saving model to trained_models/UNet_1024_64_2_6_1.h5\n",
            "Epoch 36/300\n",
            "23/23 [==============================] - 5s 207ms/step - loss: 1.1844 - out_loss: 0.4101 - level1_loss: 0.4115 - level2_loss: 0.4252 - out_mean_squared_error: 0.5198 - level1_mean_squared_error: 0.5190 - level2_mean_squared_error: 0.5243 - val_loss: 1.3555 - val_out_loss: 0.4557 - val_level1_loss: 0.4662 - val_level2_loss: 0.5050 - val_out_mean_squared_error: 0.6064 - val_level1_mean_squared_error: 0.6109 - val_level2_mean_squared_error: 0.6216\n",
            "\n",
            "Epoch 00036: val_out_loss did not improve from 0.44787\n",
            "Epoch 37/300\n",
            "23/23 [==============================] - 5s 202ms/step - loss: 1.1892 - out_loss: 0.4090 - level1_loss: 0.4136 - level2_loss: 0.4292 - out_mean_squared_error: 0.5231 - level1_mean_squared_error: 0.5221 - level2_mean_squared_error: 0.5259 - val_loss: 1.4320 - val_out_loss: 0.4793 - val_level1_loss: 0.4918 - val_level2_loss: 0.5363 - val_out_mean_squared_error: 0.6430 - val_level1_mean_squared_error: 0.6388 - val_level2_mean_squared_error: 0.6479\n",
            "\n",
            "Epoch 00037: val_out_loss did not improve from 0.44787\n",
            "Epoch 38/300\n",
            "23/23 [==============================] - 5s 201ms/step - loss: 1.1727 - out_loss: 0.4017 - level1_loss: 0.4082 - level2_loss: 0.4245 - out_mean_squared_error: 0.5128 - level1_mean_squared_error: 0.5170 - level2_mean_squared_error: 0.5251 - val_loss: 1.4574 - val_out_loss: 0.4918 - val_level1_loss: 0.4996 - val_level2_loss: 0.5427 - val_out_mean_squared_error: 0.6649 - val_level1_mean_squared_error: 0.6252 - val_level2_mean_squared_error: 0.5996\n",
            "\n",
            "Epoch 00038: val_out_loss did not improve from 0.44787\n",
            "Epoch 39/300\n",
            "23/23 [==============================] - 5s 199ms/step - loss: 1.1473 - out_loss: 0.3923 - level1_loss: 0.4004 - level2_loss: 0.4150 - out_mean_squared_error: 0.5051 - level1_mean_squared_error: 0.5056 - level2_mean_squared_error: 0.5156 - val_loss: 1.5312 - val_out_loss: 0.5000 - val_level1_loss: 0.5214 - val_level2_loss: 0.5904 - val_out_mean_squared_error: 0.6412 - val_level1_mean_squared_error: 0.6040 - val_level2_mean_squared_error: 0.6460\n",
            "\n",
            "Epoch 00039: val_out_loss did not improve from 0.44787\n",
            "Epoch 40/300\n",
            "23/23 [==============================] - 5s 207ms/step - loss: 1.1448 - out_loss: 0.3916 - level1_loss: 0.3953 - level2_loss: 0.4181 - out_mean_squared_error: 0.5018 - level1_mean_squared_error: 0.5010 - level2_mean_squared_error: 0.5183 - val_loss: 1.3968 - val_out_loss: 0.4665 - val_level1_loss: 0.4757 - val_level2_loss: 0.5281 - val_out_mean_squared_error: 0.6232 - val_level1_mean_squared_error: 0.6035 - val_level2_mean_squared_error: 0.6123\n",
            "\n",
            "Epoch 00040: val_out_loss did not improve from 0.44787\n",
            "Epoch 41/300\n",
            "23/23 [==============================] - 5s 207ms/step - loss: 1.1509 - out_loss: 0.3944 - level1_loss: 0.3991 - level2_loss: 0.4180 - out_mean_squared_error: 0.5042 - level1_mean_squared_error: 0.5033 - level2_mean_squared_error: 0.5177 - val_loss: 1.3657 - val_out_loss: 0.4622 - val_level1_loss: 0.4663 - val_level2_loss: 0.5091 - val_out_mean_squared_error: 0.6068 - val_level1_mean_squared_error: 0.5870 - val_level2_mean_squared_error: 0.5915\n",
            "\n",
            "Epoch 00041: val_out_loss did not improve from 0.44787\n",
            "Epoch 42/300\n",
            "23/23 [==============================] - 5s 203ms/step - loss: 1.1483 - out_loss: 0.3944 - level1_loss: 0.3978 - level2_loss: 0.4165 - out_mean_squared_error: 0.5036 - level1_mean_squared_error: 0.4990 - level2_mean_squared_error: 0.5149 - val_loss: 1.6093 - val_out_loss: 0.5502 - val_level1_loss: 0.5548 - val_level2_loss: 0.5889 - val_out_mean_squared_error: 0.7294 - val_level1_mean_squared_error: 0.6873 - val_level2_mean_squared_error: 0.6652\n",
            "\n",
            "Epoch 00042: val_out_loss did not improve from 0.44787\n",
            "Epoch 43/300\n",
            "23/23 [==============================] - 5s 203ms/step - loss: 1.1532 - out_loss: 0.3926 - level1_loss: 0.3972 - level2_loss: 0.4242 - out_mean_squared_error: 0.5052 - level1_mean_squared_error: 0.5065 - level2_mean_squared_error: 0.5247 - val_loss: 1.5582 - val_out_loss: 0.5130 - val_level1_loss: 0.5137 - val_level2_loss: 0.6136 - val_out_mean_squared_error: 0.6720 - val_level1_mean_squared_error: 0.6290 - val_level2_mean_squared_error: 0.6729\n",
            "\n",
            "Epoch 00043: val_out_loss did not improve from 0.44787\n",
            "Epoch 44/300\n",
            "23/23 [==============================] - 5s 207ms/step - loss: 1.1509 - out_loss: 0.3914 - level1_loss: 0.3979 - level2_loss: 0.4222 - out_mean_squared_error: 0.5020 - level1_mean_squared_error: 0.5062 - level2_mean_squared_error: 0.5186 - val_loss: 1.4801 - val_out_loss: 0.5033 - val_level1_loss: 0.5118 - val_level2_loss: 0.5428 - val_out_mean_squared_error: 0.6677 - val_level1_mean_squared_error: 0.6348 - val_level2_mean_squared_error: 0.5975\n",
            "\n",
            "Epoch 00044: val_out_loss did not improve from 0.44787\n",
            "Epoch 45/300\n",
            "23/23 [==============================] - 5s 207ms/step - loss: 1.1275 - out_loss: 0.3847 - level1_loss: 0.3900 - level2_loss: 0.4121 - out_mean_squared_error: 0.4926 - level1_mean_squared_error: 0.4897 - level2_mean_squared_error: 0.5096 - val_loss: 1.7020 - val_out_loss: 0.5836 - val_level1_loss: 0.5984 - val_level2_loss: 0.6096 - val_out_mean_squared_error: 0.7805 - val_level1_mean_squared_error: 0.7783 - val_level2_mean_squared_error: 0.7188\n",
            "\n",
            "Epoch 00045: val_out_loss did not improve from 0.44787\n",
            "Epoch 46/300\n",
            "23/23 [==============================] - 5s 205ms/step - loss: 1.1591 - out_loss: 0.3933 - level1_loss: 0.4024 - level2_loss: 0.4244 - out_mean_squared_error: 0.5091 - level1_mean_squared_error: 0.5081 - level2_mean_squared_error: 0.5260 - val_loss: 1.3342 - val_out_loss: 0.4501 - val_level1_loss: 0.4649 - val_level2_loss: 0.4894 - val_out_mean_squared_error: 0.5995 - val_level1_mean_squared_error: 0.5867 - val_level2_mean_squared_error: 0.6053\n",
            "\n",
            "Epoch 00046: val_out_loss did not improve from 0.44787\n",
            "Epoch 47/300\n",
            "23/23 [==============================] - 5s 206ms/step - loss: 1.1356 - out_loss: 0.3879 - level1_loss: 0.3945 - level2_loss: 0.4130 - out_mean_squared_error: 0.4913 - level1_mean_squared_error: 0.4922 - level2_mean_squared_error: 0.5062 - val_loss: 1.3215 - val_out_loss: 0.4470 - val_level1_loss: 0.4700 - val_level2_loss: 0.4741 - val_out_mean_squared_error: 0.6017 - val_level1_mean_squared_error: 0.6266 - val_level2_mean_squared_error: 0.5985\n",
            "\n",
            "Epoch 00047: val_out_loss improved from 0.44787 to 0.44700, saving model to trained_models/UNet_1024_64_2_6_1.h5\n",
            "Epoch 48/300\n",
            "23/23 [==============================] - 5s 206ms/step - loss: 1.1375 - out_loss: 0.3918 - level1_loss: 0.3920 - level2_loss: 0.4135 - out_mean_squared_error: 0.4986 - level1_mean_squared_error: 0.5013 - level2_mean_squared_error: 0.5179 - val_loss: 1.2653 - val_out_loss: 0.4339 - val_level1_loss: 0.4354 - val_level2_loss: 0.4626 - val_out_mean_squared_error: 0.5991 - val_level1_mean_squared_error: 0.5672 - val_level2_mean_squared_error: 0.5643\n",
            "\n",
            "Epoch 00048: val_out_loss improved from 0.44700 to 0.43385, saving model to trained_models/UNet_1024_64_2_6_1.h5\n",
            "Epoch 49/300\n",
            "23/23 [==============================] - 5s 207ms/step - loss: 1.1283 - out_loss: 0.3882 - level1_loss: 0.3893 - level2_loss: 0.4101 - out_mean_squared_error: 0.4931 - level1_mean_squared_error: 0.4934 - level2_mean_squared_error: 0.5117 - val_loss: 1.4504 - val_out_loss: 0.5005 - val_level1_loss: 0.5007 - val_level2_loss: 0.5256 - val_out_mean_squared_error: 0.6751 - val_level1_mean_squared_error: 0.6320 - val_level2_mean_squared_error: 0.6145\n",
            "\n",
            "Epoch 00049: val_out_loss did not improve from 0.43385\n",
            "Epoch 50/300\n",
            "23/23 [==============================] - 5s 205ms/step - loss: 1.1259 - out_loss: 0.3857 - level1_loss: 0.3901 - level2_loss: 0.4093 - out_mean_squared_error: 0.4919 - level1_mean_squared_error: 0.4922 - level2_mean_squared_error: 0.5077 - val_loss: 1.3174 - val_out_loss: 0.4570 - val_level1_loss: 0.4551 - val_level2_loss: 0.4746 - val_out_mean_squared_error: 0.6047 - val_level1_mean_squared_error: 0.5929 - val_level2_mean_squared_error: 0.5856\n",
            "\n",
            "Epoch 00050: val_out_loss did not improve from 0.43385\n",
            "Epoch 51/300\n",
            "23/23 [==============================] - 5s 202ms/step - loss: 1.1172 - out_loss: 0.3815 - level1_loss: 0.3882 - level2_loss: 0.4064 - out_mean_squared_error: 0.4906 - level1_mean_squared_error: 0.4912 - level2_mean_squared_error: 0.5079 - val_loss: 1.4256 - val_out_loss: 0.4805 - val_level1_loss: 0.4833 - val_level2_loss: 0.5368 - val_out_mean_squared_error: 0.6293 - val_level1_mean_squared_error: 0.6177 - val_level2_mean_squared_error: 0.6031\n",
            "\n",
            "Epoch 00051: val_out_loss did not improve from 0.43385\n",
            "Epoch 52/300\n",
            "23/23 [==============================] - 5s 202ms/step - loss: 1.1353 - out_loss: 0.3870 - level1_loss: 0.3930 - level2_loss: 0.4150 - out_mean_squared_error: 0.4965 - level1_mean_squared_error: 0.4870 - level2_mean_squared_error: 0.5018 - val_loss: 1.5257 - val_out_loss: 0.5298 - val_level1_loss: 0.5367 - val_level2_loss: 0.5396 - val_out_mean_squared_error: 0.6771 - val_level1_mean_squared_error: 0.6663 - val_level2_mean_squared_error: 0.6346\n",
            "\n",
            "Epoch 00052: val_out_loss did not improve from 0.43385\n",
            "Epoch 53/300\n",
            "23/23 [==============================] - 5s 198ms/step - loss: 1.1131 - out_loss: 0.3811 - level1_loss: 0.3864 - level2_loss: 0.4041 - out_mean_squared_error: 0.4873 - level1_mean_squared_error: 0.4844 - level2_mean_squared_error: 0.5024 - val_loss: 1.3297 - val_out_loss: 0.4404 - val_level1_loss: 0.4649 - val_level2_loss: 0.4943 - val_out_mean_squared_error: 0.5741 - val_level1_mean_squared_error: 0.6008 - val_level2_mean_squared_error: 0.6619\n",
            "\n",
            "Epoch 00053: val_out_loss did not improve from 0.43385\n",
            "Epoch 54/300\n",
            "23/23 [==============================] - 5s 207ms/step - loss: 1.1164 - out_loss: 0.3846 - level1_loss: 0.3854 - level2_loss: 0.4052 - out_mean_squared_error: 0.4841 - level1_mean_squared_error: 0.4866 - level2_mean_squared_error: 0.5042 - val_loss: 1.5031 - val_out_loss: 0.5116 - val_level1_loss: 0.5241 - val_level2_loss: 0.5465 - val_out_mean_squared_error: 0.6739 - val_level1_mean_squared_error: 0.7017 - val_level2_mean_squared_error: 0.7257\n",
            "\n",
            "Epoch 00054: val_out_loss did not improve from 0.43385\n",
            "Epoch 55/300\n",
            "23/23 [==============================] - 5s 207ms/step - loss: 1.1187 - out_loss: 0.3841 - level1_loss: 0.3890 - level2_loss: 0.4045 - out_mean_squared_error: 0.4878 - level1_mean_squared_error: 0.4873 - level2_mean_squared_error: 0.5048 - val_loss: 1.5041 - val_out_loss: 0.5314 - val_level1_loss: 0.5257 - val_level2_loss: 0.5262 - val_out_mean_squared_error: 0.7514 - val_level1_mean_squared_error: 0.7339 - val_level2_mean_squared_error: 0.6970\n",
            "\n",
            "Epoch 00055: val_out_loss did not improve from 0.43385\n",
            "Epoch 56/300\n",
            "23/23 [==============================] - 5s 214ms/step - loss: 1.1206 - out_loss: 0.3844 - level1_loss: 0.3892 - level2_loss: 0.4060 - out_mean_squared_error: 0.4841 - level1_mean_squared_error: 0.4875 - level2_mean_squared_error: 0.5088 - val_loss: 1.4185 - val_out_loss: 0.4871 - val_level1_loss: 0.5007 - val_level2_loss: 0.5053 - val_out_mean_squared_error: 0.6121 - val_level1_mean_squared_error: 0.6010 - val_level2_mean_squared_error: 0.6229\n",
            "\n",
            "Epoch 00056: val_out_loss did not improve from 0.43385\n",
            "Epoch 57/300\n",
            "23/23 [==============================] - 5s 207ms/step - loss: 1.1051 - out_loss: 0.3777 - level1_loss: 0.3829 - level2_loss: 0.4027 - out_mean_squared_error: 0.4827 - level1_mean_squared_error: 0.4822 - level2_mean_squared_error: 0.4997 - val_loss: 1.2582 - val_out_loss: 0.4330 - val_level1_loss: 0.4368 - val_level2_loss: 0.4545 - val_out_mean_squared_error: 0.5637 - val_level1_mean_squared_error: 0.5565 - val_level2_mean_squared_error: 0.5669\n",
            "\n",
            "Epoch 00057: val_out_loss improved from 0.43385 to 0.43305, saving model to trained_models/UNet_1024_64_2_6_1.h5\n",
            "Epoch 58/300\n",
            "23/23 [==============================] - 5s 210ms/step - loss: 1.1011 - out_loss: 0.3766 - level1_loss: 0.3823 - level2_loss: 0.4002 - out_mean_squared_error: 0.4860 - level1_mean_squared_error: 0.4855 - level2_mean_squared_error: 0.4997 - val_loss: 1.2734 - val_out_loss: 0.4289 - val_level1_loss: 0.4357 - val_level2_loss: 0.4759 - val_out_mean_squared_error: 0.5813 - val_level1_mean_squared_error: 0.5741 - val_level2_mean_squared_error: 0.6122\n",
            "\n",
            "Epoch 00058: val_out_loss improved from 0.43305 to 0.42889, saving model to trained_models/UNet_1024_64_2_6_1.h5\n",
            "Epoch 59/300\n",
            "23/23 [==============================] - 5s 218ms/step - loss: 1.0972 - out_loss: 0.3778 - level1_loss: 0.3790 - level2_loss: 0.3981 - out_mean_squared_error: 0.4803 - level1_mean_squared_error: 0.4829 - level2_mean_squared_error: 0.5012 - val_loss: 1.1963 - val_out_loss: 0.4101 - val_level1_loss: 0.4121 - val_level2_loss: 0.4371 - val_out_mean_squared_error: 0.5684 - val_level1_mean_squared_error: 0.5564 - val_level2_mean_squared_error: 0.5557\n",
            "\n",
            "Epoch 00059: val_out_loss improved from 0.42889 to 0.41007, saving model to trained_models/UNet_1024_64_2_6_1.h5\n",
            "Epoch 60/300\n",
            "23/23 [==============================] - 5s 215ms/step - loss: 1.0996 - out_loss: 0.3777 - level1_loss: 0.3809 - level2_loss: 0.3988 - out_mean_squared_error: 0.4857 - level1_mean_squared_error: 0.4873 - level2_mean_squared_error: 0.4975 - val_loss: 1.3623 - val_out_loss: 0.4686 - val_level1_loss: 0.4730 - val_level2_loss: 0.4923 - val_out_mean_squared_error: 0.6321 - val_level1_mean_squared_error: 0.6171 - val_level2_mean_squared_error: 0.6054\n",
            "\n",
            "Epoch 00060: val_out_loss did not improve from 0.41007\n",
            "Epoch 61/300\n",
            "23/23 [==============================] - 4s 194ms/step - loss: 1.0967 - out_loss: 0.3764 - level1_loss: 0.3794 - level2_loss: 0.3986 - out_mean_squared_error: 0.4807 - level1_mean_squared_error: 0.4817 - level2_mean_squared_error: 0.4912 - val_loss: 1.3428 - val_out_loss: 0.4569 - val_level1_loss: 0.4767 - val_level2_loss: 0.4798 - val_out_mean_squared_error: 0.5900 - val_level1_mean_squared_error: 0.5743 - val_level2_mean_squared_error: 0.5669\n",
            "\n",
            "Epoch 00061: val_out_loss did not improve from 0.41007\n",
            "Epoch 62/300\n",
            "23/23 [==============================] - 4s 194ms/step - loss: 1.0935 - out_loss: 0.3748 - level1_loss: 0.3784 - level2_loss: 0.3978 - out_mean_squared_error: 0.4828 - level1_mean_squared_error: 0.4817 - level2_mean_squared_error: 0.4915 - val_loss: 1.3390 - val_out_loss: 0.4533 - val_level1_loss: 0.4616 - val_level2_loss: 0.4946 - val_out_mean_squared_error: 0.5883 - val_level1_mean_squared_error: 0.5751 - val_level2_mean_squared_error: 0.5812\n",
            "\n",
            "Epoch 00062: val_out_loss did not improve from 0.41007\n",
            "Epoch 63/300\n",
            "23/23 [==============================] - 4s 193ms/step - loss: 1.1034 - out_loss: 0.3767 - level1_loss: 0.3816 - level2_loss: 0.4032 - out_mean_squared_error: 0.4852 - level1_mean_squared_error: 0.4841 - level2_mean_squared_error: 0.5012 - val_loss: 1.3377 - val_out_loss: 0.4608 - val_level1_loss: 0.4630 - val_level2_loss: 0.4842 - val_out_mean_squared_error: 0.5823 - val_level1_mean_squared_error: 0.5781 - val_level2_mean_squared_error: 0.5785\n",
            "\n",
            "Epoch 00063: val_out_loss did not improve from 0.41007\n",
            "Epoch 64/300\n",
            "23/23 [==============================] - 4s 195ms/step - loss: 1.1027 - out_loss: 0.3763 - level1_loss: 0.3827 - level2_loss: 0.4017 - out_mean_squared_error: 0.4873 - level1_mean_squared_error: 0.4872 - level2_mean_squared_error: 0.5007 - val_loss: 1.3138 - val_out_loss: 0.4439 - val_level1_loss: 0.4476 - val_level2_loss: 0.4915 - val_out_mean_squared_error: 0.5991 - val_level1_mean_squared_error: 0.5907 - val_level2_mean_squared_error: 0.6180\n",
            "\n",
            "Epoch 00064: val_out_loss did not improve from 0.41007\n",
            "Epoch 65/300\n",
            "23/23 [==============================] - 4s 195ms/step - loss: 1.0935 - out_loss: 0.3746 - level1_loss: 0.3788 - level2_loss: 0.3977 - out_mean_squared_error: 0.4804 - level1_mean_squared_error: 0.4804 - level2_mean_squared_error: 0.4939 - val_loss: 1.2562 - val_out_loss: 0.4244 - val_level1_loss: 0.4351 - val_level2_loss: 0.4628 - val_out_mean_squared_error: 0.5831 - val_level1_mean_squared_error: 0.5835 - val_level2_mean_squared_error: 0.5887\n",
            "\n",
            "Epoch 00065: val_out_loss did not improve from 0.41007\n",
            "Epoch 66/300\n",
            "23/23 [==============================] - 4s 193ms/step - loss: 1.0752 - out_loss: 0.3683 - level1_loss: 0.3722 - level2_loss: 0.3913 - out_mean_squared_error: 0.4718 - level1_mean_squared_error: 0.4705 - level2_mean_squared_error: 0.4817 - val_loss: 1.2849 - val_out_loss: 0.4317 - val_level1_loss: 0.4478 - val_level2_loss: 0.4730 - val_out_mean_squared_error: 0.5796 - val_level1_mean_squared_error: 0.5781 - val_level2_mean_squared_error: 0.5988\n",
            "\n",
            "Epoch 00066: val_out_loss did not improve from 0.41007\n",
            "Epoch 67/300\n",
            "23/23 [==============================] - 4s 195ms/step - loss: 1.0980 - out_loss: 0.3791 - level1_loss: 0.3794 - level2_loss: 0.3973 - out_mean_squared_error: 0.4858 - level1_mean_squared_error: 0.4835 - level2_mean_squared_error: 0.4930 - val_loss: 1.7027 - val_out_loss: 0.6104 - val_level1_loss: 0.6108 - val_level2_loss: 0.5712 - val_out_mean_squared_error: 0.7583 - val_level1_mean_squared_error: 0.7199 - val_level2_mean_squared_error: 0.6156\n",
            "\n",
            "Epoch 00067: val_out_loss did not improve from 0.41007\n",
            "Epoch 68/300\n",
            "23/23 [==============================] - 4s 196ms/step - loss: 1.0812 - out_loss: 0.3740 - level1_loss: 0.3729 - level2_loss: 0.3911 - out_mean_squared_error: 0.4803 - level1_mean_squared_error: 0.4779 - level2_mean_squared_error: 0.4932 - val_loss: 1.8049 - val_out_loss: 0.6455 - val_level1_loss: 0.6487 - val_level2_loss: 0.6058 - val_out_mean_squared_error: 0.8005 - val_level1_mean_squared_error: 0.7727 - val_level2_mean_squared_error: 0.6306\n",
            "\n",
            "Epoch 00068: val_out_loss did not improve from 0.41007\n",
            "Epoch 69/300\n",
            "23/23 [==============================] - 4s 196ms/step - loss: 1.0882 - out_loss: 0.3737 - level1_loss: 0.3774 - level2_loss: 0.3945 - out_mean_squared_error: 0.4768 - level1_mean_squared_error: 0.4763 - level2_mean_squared_error: 0.4869 - val_loss: 1.8148 - val_out_loss: 0.6703 - val_level1_loss: 0.6546 - val_level2_loss: 0.5854 - val_out_mean_squared_error: 0.8814 - val_level1_mean_squared_error: 0.8184 - val_level2_mean_squared_error: 0.6460\n",
            "\n",
            "Epoch 00069: val_out_loss did not improve from 0.41007\n",
            "Epoch 70/300\n",
            "23/23 [==============================] - 5s 197ms/step - loss: 1.0899 - out_loss: 0.3745 - level1_loss: 0.3774 - level2_loss: 0.3954 - out_mean_squared_error: 0.4781 - level1_mean_squared_error: 0.4786 - level2_mean_squared_error: 0.4904 - val_loss: 1.9250 - val_out_loss: 0.7164 - val_level1_loss: 0.6916 - val_level2_loss: 0.6183 - val_out_mean_squared_error: 0.9067 - val_level1_mean_squared_error: 0.8242 - val_level2_mean_squared_error: 0.6500\n",
            "\n",
            "Epoch 00070: val_out_loss did not improve from 0.41007\n",
            "Epoch 71/300\n",
            "23/23 [==============================] - 4s 196ms/step - loss: 1.0704 - out_loss: 0.3684 - level1_loss: 0.3719 - level2_loss: 0.3863 - out_mean_squared_error: 0.4710 - level1_mean_squared_error: 0.4693 - level2_mean_squared_error: 0.4763 - val_loss: 1.7408 - val_out_loss: 0.5883 - val_level1_loss: 0.5993 - val_level2_loss: 0.6447 - val_out_mean_squared_error: 0.7887 - val_level1_mean_squared_error: 0.7734 - val_level2_mean_squared_error: 0.7507\n",
            "\n",
            "Epoch 00071: val_out_loss did not improve from 0.41007\n",
            "Epoch 72/300\n",
            "23/23 [==============================] - 4s 196ms/step - loss: 1.0695 - out_loss: 0.3685 - level1_loss: 0.3722 - level2_loss: 0.3851 - out_mean_squared_error: 0.4741 - level1_mean_squared_error: 0.4737 - level2_mean_squared_error: 0.4830 - val_loss: 1.6964 - val_out_loss: 0.5782 - val_level1_loss: 0.5815 - val_level2_loss: 0.6260 - val_out_mean_squared_error: 0.7895 - val_level1_mean_squared_error: 0.7741 - val_level2_mean_squared_error: 0.7074\n",
            "\n",
            "Epoch 00072: val_out_loss did not improve from 0.41007\n",
            "Epoch 73/300\n",
            "23/23 [==============================] - 4s 196ms/step - loss: 1.0620 - out_loss: 0.3664 - level1_loss: 0.3675 - level2_loss: 0.3839 - out_mean_squared_error: 0.4709 - level1_mean_squared_error: 0.4697 - level2_mean_squared_error: 0.4768 - val_loss: 1.7298 - val_out_loss: 0.6073 - val_level1_loss: 0.6152 - val_level2_loss: 0.5984 - val_out_mean_squared_error: 0.7873 - val_level1_mean_squared_error: 0.7580 - val_level2_mean_squared_error: 0.6534\n",
            "\n",
            "Epoch 00073: val_out_loss did not improve from 0.41007\n",
            "Epoch 74/300\n",
            "23/23 [==============================] - 4s 196ms/step - loss: 1.0657 - out_loss: 0.3655 - level1_loss: 0.3690 - level2_loss: 0.3874 - out_mean_squared_error: 0.4733 - level1_mean_squared_error: 0.4704 - level2_mean_squared_error: 0.4754 - val_loss: 1.7187 - val_out_loss: 0.6163 - val_level1_loss: 0.6173 - val_level2_loss: 0.5756 - val_out_mean_squared_error: 0.7511 - val_level1_mean_squared_error: 0.7304 - val_level2_mean_squared_error: 0.6132\n",
            "\n",
            "Epoch 00074: val_out_loss did not improve from 0.41007\n",
            "Epoch 75/300\n",
            "23/23 [==============================] - 4s 196ms/step - loss: 1.0616 - out_loss: 0.3651 - level1_loss: 0.3678 - level2_loss: 0.3845 - out_mean_squared_error: 0.4702 - level1_mean_squared_error: 0.4690 - level2_mean_squared_error: 0.4773 - val_loss: 1.2853 - val_out_loss: 0.4373 - val_level1_loss: 0.4468 - val_level2_loss: 0.4688 - val_out_mean_squared_error: 0.5745 - val_level1_mean_squared_error: 0.5756 - val_level2_mean_squared_error: 0.5558\n",
            "\n",
            "Epoch 00075: val_out_loss did not improve from 0.41007\n",
            "Epoch 76/300\n",
            "23/23 [==============================] - 5s 197ms/step - loss: 1.0659 - out_loss: 0.3660 - level1_loss: 0.3708 - level2_loss: 0.3852 - out_mean_squared_error: 0.4710 - level1_mean_squared_error: 0.4723 - level2_mean_squared_error: 0.4818 - val_loss: 1.2281 - val_out_loss: 0.4220 - val_level1_loss: 0.4255 - val_level2_loss: 0.4453 - val_out_mean_squared_error: 0.5546 - val_level1_mean_squared_error: 0.5482 - val_level2_mean_squared_error: 0.5691\n",
            "\n",
            "Epoch 00076: val_out_loss did not improve from 0.41007\n",
            "Epoch 77/300\n",
            "23/23 [==============================] - 5s 199ms/step - loss: 1.0658 - out_loss: 0.3689 - level1_loss: 0.3683 - level2_loss: 0.3846 - out_mean_squared_error: 0.4684 - level1_mean_squared_error: 0.4651 - level2_mean_squared_error: 0.4744 - val_loss: 1.6209 - val_out_loss: 0.5647 - val_level1_loss: 0.5629 - val_level2_loss: 0.5786 - val_out_mean_squared_error: 0.6474 - val_level1_mean_squared_error: 0.6428 - val_level2_mean_squared_error: 0.6116\n",
            "\n",
            "Epoch 00077: val_out_loss did not improve from 0.41007\n",
            "Epoch 78/300\n",
            "23/23 [==============================] - 4s 196ms/step - loss: 1.0626 - out_loss: 0.3668 - level1_loss: 0.3695 - level2_loss: 0.3822 - out_mean_squared_error: 0.4622 - level1_mean_squared_error: 0.4608 - level2_mean_squared_error: 0.4653 - val_loss: 1.3984 - val_out_loss: 0.4742 - val_level1_loss: 0.4863 - val_level2_loss: 0.5114 - val_out_mean_squared_error: 0.6072 - val_level1_mean_squared_error: 0.5926 - val_level2_mean_squared_error: 0.5817\n",
            "\n",
            "Epoch 00078: val_out_loss did not improve from 0.41007\n",
            "Epoch 79/300\n",
            "23/23 [==============================] - 4s 196ms/step - loss: 1.0617 - out_loss: 0.3655 - level1_loss: 0.3689 - level2_loss: 0.3831 - out_mean_squared_error: 0.4678 - level1_mean_squared_error: 0.4635 - level2_mean_squared_error: 0.4735 - val_loss: 1.7424 - val_out_loss: 0.6072 - val_level1_loss: 0.6093 - val_level2_loss: 0.6176 - val_out_mean_squared_error: 0.7259 - val_level1_mean_squared_error: 0.7247 - val_level2_mean_squared_error: 0.6638\n",
            "\n",
            "Epoch 00079: val_out_loss did not improve from 0.41007\n",
            "Epoch 80/300\n",
            "23/23 [==============================] - 4s 195ms/step - loss: 1.0620 - out_loss: 0.3649 - level1_loss: 0.3688 - level2_loss: 0.3842 - out_mean_squared_error: 0.4670 - level1_mean_squared_error: 0.4656 - level2_mean_squared_error: 0.4735 - val_loss: 1.7734 - val_out_loss: 0.6130 - val_level1_loss: 0.6195 - val_level2_loss: 0.6343 - val_out_mean_squared_error: 0.7890 - val_level1_mean_squared_error: 0.7860 - val_level2_mean_squared_error: 0.7370\n",
            "\n",
            "Epoch 00080: val_out_loss did not improve from 0.41007\n",
            "Epoch 81/300\n",
            "23/23 [==============================] - 4s 196ms/step - loss: 1.0843 - out_loss: 0.3707 - level1_loss: 0.3765 - level2_loss: 0.3942 - out_mean_squared_error: 0.4741 - level1_mean_squared_error: 0.4719 - level2_mean_squared_error: 0.4845 - val_loss: 1.7553 - val_out_loss: 0.6262 - val_level1_loss: 0.6103 - val_level2_loss: 0.6112 - val_out_mean_squared_error: 0.7863 - val_level1_mean_squared_error: 0.7646 - val_level2_mean_squared_error: 0.6888\n",
            "\n",
            "Epoch 00081: val_out_loss did not improve from 0.41007\n",
            "Epoch 82/300\n",
            "23/23 [==============================] - 4s 196ms/step - loss: 1.0645 - out_loss: 0.3667 - level1_loss: 0.3687 - level2_loss: 0.3852 - out_mean_squared_error: 0.4654 - level1_mean_squared_error: 0.4646 - level2_mean_squared_error: 0.4766 - val_loss: 1.7455 - val_out_loss: 0.6109 - val_level1_loss: 0.6082 - val_level2_loss: 0.6183 - val_out_mean_squared_error: 0.6768 - val_level1_mean_squared_error: 0.6636 - val_level2_mean_squared_error: 0.6393\n",
            "\n",
            "Epoch 00082: val_out_loss did not improve from 0.41007\n",
            "Epoch 83/300\n",
            "23/23 [==============================] - 5s 197ms/step - loss: 1.0557 - out_loss: 0.3633 - level1_loss: 0.3662 - level2_loss: 0.3817 - out_mean_squared_error: 0.4651 - level1_mean_squared_error: 0.4621 - level2_mean_squared_error: 0.4676 - val_loss: 1.5578 - val_out_loss: 0.5382 - val_level1_loss: 0.5430 - val_level2_loss: 0.5585 - val_out_mean_squared_error: 0.5826 - val_level1_mean_squared_error: 0.5698 - val_level2_mean_squared_error: 0.5750\n",
            "\n",
            "Epoch 00083: val_out_loss did not improve from 0.41007\n",
            "Epoch 84/300\n",
            "23/23 [==============================] - 4s 196ms/step - loss: 1.0733 - out_loss: 0.3674 - level1_loss: 0.3724 - level2_loss: 0.3900 - out_mean_squared_error: 0.4714 - level1_mean_squared_error: 0.4710 - level2_mean_squared_error: 0.4808 - val_loss: 1.4368 - val_out_loss: 0.4917 - val_level1_loss: 0.4988 - val_level2_loss: 0.5219 - val_out_mean_squared_error: 0.6496 - val_level1_mean_squared_error: 0.6241 - val_level2_mean_squared_error: 0.6066\n",
            "\n",
            "Epoch 00084: val_out_loss did not improve from 0.41007\n",
            "Epoch 85/300\n",
            "23/23 [==============================] - 4s 196ms/step - loss: 1.0736 - out_loss: 0.3674 - level1_loss: 0.3702 - level2_loss: 0.3925 - out_mean_squared_error: 0.4675 - level1_mean_squared_error: 0.4640 - level2_mean_squared_error: 0.4777 - val_loss: 1.6370 - val_out_loss: 0.5760 - val_level1_loss: 0.5667 - val_level2_loss: 0.5805 - val_out_mean_squared_error: 0.7299 - val_level1_mean_squared_error: 0.6934 - val_level2_mean_squared_error: 0.6407\n",
            "\n",
            "Epoch 00085: val_out_loss did not improve from 0.41007\n",
            "Epoch 86/300\n",
            "23/23 [==============================] - 5s 197ms/step - loss: 1.0446 - out_loss: 0.3594 - level1_loss: 0.3613 - level2_loss: 0.3789 - out_mean_squared_error: 0.4553 - level1_mean_squared_error: 0.4527 - level2_mean_squared_error: 0.4660 - val_loss: 1.6834 - val_out_loss: 0.5888 - val_level1_loss: 0.5945 - val_level2_loss: 0.5888 - val_out_mean_squared_error: 0.6794 - val_level1_mean_squared_error: 0.6535 - val_level2_mean_squared_error: 0.6138\n",
            "\n",
            "Epoch 00086: val_out_loss did not improve from 0.41007\n",
            "Epoch 87/300\n",
            "23/23 [==============================] - 4s 195ms/step - loss: 1.0395 - out_loss: 0.3571 - level1_loss: 0.3611 - level2_loss: 0.3760 - out_mean_squared_error: 0.4500 - level1_mean_squared_error: 0.4483 - level2_mean_squared_error: 0.4634 - val_loss: 1.3118 - val_out_loss: 0.4541 - val_level1_loss: 0.4545 - val_level2_loss: 0.4722 - val_out_mean_squared_error: 0.5935 - val_level1_mean_squared_error: 0.5806 - val_level2_mean_squared_error: 0.5675\n",
            "\n",
            "Epoch 00087: val_out_loss did not improve from 0.41007\n",
            "Epoch 88/300\n",
            "23/23 [==============================] - 5s 198ms/step - loss: 1.0373 - out_loss: 0.3566 - level1_loss: 0.3605 - level2_loss: 0.3748 - out_mean_squared_error: 0.4550 - level1_mean_squared_error: 0.4516 - level2_mean_squared_error: 0.4630 - val_loss: 1.1869 - val_out_loss: 0.4055 - val_level1_loss: 0.4135 - val_level2_loss: 0.4304 - val_out_mean_squared_error: 0.5612 - val_level1_mean_squared_error: 0.5465 - val_level2_mean_squared_error: 0.5525\n",
            "\n",
            "Epoch 00088: val_out_loss improved from 0.41007 to 0.40553, saving model to trained_models/UNet_1024_64_2_6_1.h5\n",
            "Epoch 89/300\n",
            "23/23 [==============================] - 5s 200ms/step - loss: 1.0629 - out_loss: 0.3665 - level1_loss: 0.3711 - level2_loss: 0.3812 - out_mean_squared_error: 0.4627 - level1_mean_squared_error: 0.4572 - level2_mean_squared_error: 0.4699 - val_loss: 1.1799 - val_out_loss: 0.4066 - val_level1_loss: 0.4107 - val_level2_loss: 0.4246 - val_out_mean_squared_error: 0.5296 - val_level1_mean_squared_error: 0.5205 - val_level2_mean_squared_error: 0.5337\n",
            "\n",
            "Epoch 00089: val_out_loss did not improve from 0.40553\n",
            "Epoch 90/300\n",
            "23/23 [==============================] - 5s 200ms/step - loss: 1.0337 - out_loss: 0.3564 - level1_loss: 0.3585 - level2_loss: 0.3732 - out_mean_squared_error: 0.4474 - level1_mean_squared_error: 0.4461 - level2_mean_squared_error: 0.4624 - val_loss: 1.4872 - val_out_loss: 0.5305 - val_level1_loss: 0.5230 - val_level2_loss: 0.5119 - val_out_mean_squared_error: 0.6161 - val_level1_mean_squared_error: 0.5766 - val_level2_mean_squared_error: 0.5430\n",
            "\n",
            "Epoch 00090: val_out_loss did not improve from 0.40553\n",
            "Epoch 91/300\n",
            "23/23 [==============================] - 5s 199ms/step - loss: 1.0353 - out_loss: 0.3562 - level1_loss: 0.3590 - level2_loss: 0.3746 - out_mean_squared_error: 0.4491 - level1_mean_squared_error: 0.4470 - level2_mean_squared_error: 0.4611 - val_loss: 1.6128 - val_out_loss: 0.5641 - val_level1_loss: 0.5630 - val_level2_loss: 0.5707 - val_out_mean_squared_error: 0.7321 - val_level1_mean_squared_error: 0.6977 - val_level2_mean_squared_error: 0.6677\n",
            "\n",
            "Epoch 00091: val_out_loss did not improve from 0.40553\n",
            "Epoch 92/300\n",
            "23/23 [==============================] - 5s 198ms/step - loss: 1.0491 - out_loss: 0.3602 - level1_loss: 0.3650 - level2_loss: 0.3792 - out_mean_squared_error: 0.4617 - level1_mean_squared_error: 0.4600 - level2_mean_squared_error: 0.4638 - val_loss: 1.5118 - val_out_loss: 0.5305 - val_level1_loss: 0.5283 - val_level2_loss: 0.5326 - val_out_mean_squared_error: 0.6330 - val_level1_mean_squared_error: 0.5988 - val_level2_mean_squared_error: 0.5969\n",
            "\n",
            "Epoch 00092: val_out_loss did not improve from 0.40553\n",
            "Epoch 93/300\n",
            "23/23 [==============================] - 5s 200ms/step - loss: 1.0254 - out_loss: 0.3527 - level1_loss: 0.3555 - level2_loss: 0.3712 - out_mean_squared_error: 0.4494 - level1_mean_squared_error: 0.4484 - level2_mean_squared_error: 0.4558 - val_loss: 1.2483 - val_out_loss: 0.4313 - val_level1_loss: 0.4347 - val_level2_loss: 0.4479 - val_out_mean_squared_error: 0.5790 - val_level1_mean_squared_error: 0.5641 - val_level2_mean_squared_error: 0.5549\n",
            "\n",
            "Epoch 00093: val_out_loss did not improve from 0.40553\n",
            "Epoch 94/300\n",
            "23/23 [==============================] - 5s 198ms/step - loss: 1.0412 - out_loss: 0.3594 - level1_loss: 0.3617 - level2_loss: 0.3749 - out_mean_squared_error: 0.4599 - level1_mean_squared_error: 0.4585 - level2_mean_squared_error: 0.4624 - val_loss: 1.6494 - val_out_loss: 0.5945 - val_level1_loss: 0.5903 - val_level2_loss: 0.5514 - val_out_mean_squared_error: 0.7318 - val_level1_mean_squared_error: 0.6914 - val_level2_mean_squared_error: 0.6123\n",
            "\n",
            "Epoch 00094: val_out_loss did not improve from 0.40553\n",
            "Epoch 95/300\n",
            "23/23 [==============================] - 5s 199ms/step - loss: 1.0436 - out_loss: 0.3592 - level1_loss: 0.3627 - level2_loss: 0.3767 - out_mean_squared_error: 0.4553 - level1_mean_squared_error: 0.4543 - level2_mean_squared_error: 0.4608 - val_loss: 2.1482 - val_out_loss: 0.7799 - val_level1_loss: 0.7604 - val_level2_loss: 0.7210 - val_out_mean_squared_error: 1.0137 - val_level1_mean_squared_error: 0.9461 - val_level2_mean_squared_error: 0.8168\n",
            "\n",
            "Epoch 00095: val_out_loss did not improve from 0.40553\n",
            "Epoch 96/300\n",
            "23/23 [==============================] - 5s 198ms/step - loss: 1.0206 - out_loss: 0.3508 - level1_loss: 0.3553 - level2_loss: 0.3682 - out_mean_squared_error: 0.4453 - level1_mean_squared_error: 0.4405 - level2_mean_squared_error: 0.4494 - val_loss: 1.9018 - val_out_loss: 0.6770 - val_level1_loss: 0.6796 - val_level2_loss: 0.6453 - val_out_mean_squared_error: 0.8243 - val_level1_mean_squared_error: 0.7919 - val_level2_mean_squared_error: 0.6698\n",
            "\n",
            "Epoch 00096: val_out_loss did not improve from 0.40553\n",
            "Epoch 97/300\n",
            "23/23 [==============================] - 5s 200ms/step - loss: 1.0225 - out_loss: 0.3528 - level1_loss: 0.3557 - level2_loss: 0.3679 - out_mean_squared_error: 0.4470 - level1_mean_squared_error: 0.4429 - level2_mean_squared_error: 0.4511 - val_loss: 1.2174 - val_out_loss: 0.4132 - val_level1_loss: 0.4264 - val_level2_loss: 0.4419 - val_out_mean_squared_error: 0.5586 - val_level1_mean_squared_error: 0.5479 - val_level2_mean_squared_error: 0.5279\n",
            "\n",
            "Epoch 00097: val_out_loss did not improve from 0.40553\n",
            "Epoch 98/300\n",
            "23/23 [==============================] - 5s 199ms/step - loss: 1.0174 - out_loss: 0.3504 - level1_loss: 0.3527 - level2_loss: 0.3678 - out_mean_squared_error: 0.4432 - level1_mean_squared_error: 0.4371 - level2_mean_squared_error: 0.4514 - val_loss: 1.2258 - val_out_loss: 0.4239 - val_level1_loss: 0.4281 - val_level2_loss: 0.4382 - val_out_mean_squared_error: 0.5886 - val_level1_mean_squared_error: 0.5733 - val_level2_mean_squared_error: 0.5449\n",
            "\n",
            "Epoch 00098: val_out_loss did not improve from 0.40553\n",
            "Epoch 99/300\n",
            "23/23 [==============================] - 5s 199ms/step - loss: 1.0317 - out_loss: 0.3549 - level1_loss: 0.3585 - level2_loss: 0.3727 - out_mean_squared_error: 0.4460 - level1_mean_squared_error: 0.4409 - level2_mean_squared_error: 0.4503 - val_loss: 1.3361 - val_out_loss: 0.4546 - val_level1_loss: 0.4547 - val_level2_loss: 0.4970 - val_out_mean_squared_error: 0.6497 - val_level1_mean_squared_error: 0.6238 - val_level2_mean_squared_error: 0.5937\n",
            "\n",
            "Epoch 00099: val_out_loss did not improve from 0.40553\n",
            "Epoch 100/300\n",
            "23/23 [==============================] - 5s 199ms/step - loss: 1.0322 - out_loss: 0.3577 - level1_loss: 0.3579 - level2_loss: 0.3709 - out_mean_squared_error: 0.4496 - level1_mean_squared_error: 0.4501 - level2_mean_squared_error: 0.4560 - val_loss: 1.6347 - val_out_loss: 0.5588 - val_level1_loss: 0.5633 - val_level2_loss: 0.5986 - val_out_mean_squared_error: 0.7473 - val_level1_mean_squared_error: 0.7195 - val_level2_mean_squared_error: 0.6768\n",
            "\n",
            "Epoch 00100: val_out_loss did not improve from 0.40553\n",
            "Epoch 101/300\n",
            "23/23 [==============================] - 5s 200ms/step - loss: 1.0370 - out_loss: 0.3573 - level1_loss: 0.3593 - level2_loss: 0.3750 - out_mean_squared_error: 0.4456 - level1_mean_squared_error: 0.4452 - level2_mean_squared_error: 0.4605 - val_loss: 1.3142 - val_out_loss: 0.4501 - val_level1_loss: 0.4595 - val_level2_loss: 0.4738 - val_out_mean_squared_error: 0.5731 - val_level1_mean_squared_error: 0.5698 - val_level2_mean_squared_error: 0.5572\n",
            "\n",
            "Epoch 00101: val_out_loss did not improve from 0.40553\n",
            "Epoch 102/300\n",
            "23/23 [==============================] - 5s 198ms/step - loss: 1.0280 - out_loss: 0.3539 - level1_loss: 0.3574 - level2_loss: 0.3709 - out_mean_squared_error: 0.4489 - level1_mean_squared_error: 0.4448 - level2_mean_squared_error: 0.4534 - val_loss: 1.2183 - val_out_loss: 0.4073 - val_level1_loss: 0.4078 - val_level2_loss: 0.4673 - val_out_mean_squared_error: 0.5286 - val_level1_mean_squared_error: 0.5199 - val_level2_mean_squared_error: 0.5662\n",
            "\n",
            "Epoch 00102: val_out_loss did not improve from 0.40553\n",
            "Epoch 103/300\n",
            "23/23 [==============================] - 5s 198ms/step - loss: 1.0153 - out_loss: 0.3505 - level1_loss: 0.3515 - level2_loss: 0.3667 - out_mean_squared_error: 0.4328 - level1_mean_squared_error: 0.4292 - level2_mean_squared_error: 0.4415 - val_loss: 1.4129 - val_out_loss: 0.4685 - val_level1_loss: 0.4733 - val_level2_loss: 0.5454 - val_out_mean_squared_error: 0.6212 - val_level1_mean_squared_error: 0.6077 - val_level2_mean_squared_error: 0.6344\n",
            "\n",
            "Epoch 00103: val_out_loss did not improve from 0.40553\n",
            "Epoch 104/300\n",
            "23/23 [==============================] - 5s 200ms/step - loss: 1.0404 - out_loss: 0.3562 - level1_loss: 0.3616 - level2_loss: 0.3773 - out_mean_squared_error: 0.4432 - level1_mean_squared_error: 0.4418 - level2_mean_squared_error: 0.4501 - val_loss: 2.2624 - val_out_loss: 0.8234 - val_level1_loss: 0.8162 - val_level2_loss: 0.7419 - val_out_mean_squared_error: 1.1596 - val_level1_mean_squared_error: 1.1205 - val_level2_mean_squared_error: 0.8991\n",
            "\n",
            "Epoch 00104: val_out_loss did not improve from 0.40553\n",
            "Epoch 105/300\n",
            "23/23 [==============================] - 5s 198ms/step - loss: 1.0175 - out_loss: 0.3497 - level1_loss: 0.3529 - level2_loss: 0.3684 - out_mean_squared_error: 0.4457 - level1_mean_squared_error: 0.4412 - level2_mean_squared_error: 0.4496 - val_loss: 1.7831 - val_out_loss: 0.6066 - val_level1_loss: 0.6276 - val_level2_loss: 0.6427 - val_out_mean_squared_error: 0.8095 - val_level1_mean_squared_error: 0.8089 - val_level2_mean_squared_error: 0.7481\n",
            "\n",
            "Epoch 00105: val_out_loss did not improve from 0.40553\n",
            "Epoch 106/300\n",
            "23/23 [==============================] - 5s 199ms/step - loss: 1.0269 - out_loss: 0.3537 - level1_loss: 0.3580 - level2_loss: 0.3692 - out_mean_squared_error: 0.4484 - level1_mean_squared_error: 0.4423 - level2_mean_squared_error: 0.4516 - val_loss: 1.2339 - val_out_loss: 0.4231 - val_level1_loss: 0.4193 - val_level2_loss: 0.4565 - val_out_mean_squared_error: 0.5613 - val_level1_mean_squared_error: 0.5390 - val_level2_mean_squared_error: 0.5465\n",
            "\n",
            "Epoch 00106: val_out_loss did not improve from 0.40553\n",
            "Epoch 107/300\n",
            "23/23 [==============================] - 5s 200ms/step - loss: 1.0237 - out_loss: 0.3522 - level1_loss: 0.3572 - level2_loss: 0.3682 - out_mean_squared_error: 0.4412 - level1_mean_squared_error: 0.4432 - level2_mean_squared_error: 0.4502 - val_loss: 1.8675 - val_out_loss: 0.6612 - val_level1_loss: 0.6560 - val_level2_loss: 0.6486 - val_out_mean_squared_error: 0.8402 - val_level1_mean_squared_error: 0.7796 - val_level2_mean_squared_error: 0.7018\n",
            "\n",
            "Epoch 00107: val_out_loss did not improve from 0.40553\n",
            "Epoch 108/300\n",
            "23/23 [==============================] - 5s 200ms/step - loss: 1.0169 - out_loss: 0.3483 - level1_loss: 0.3520 - level2_loss: 0.3700 - out_mean_squared_error: 0.4369 - level1_mean_squared_error: 0.4346 - level2_mean_squared_error: 0.4452 - val_loss: 1.2515 - val_out_loss: 0.4278 - val_level1_loss: 0.4328 - val_level2_loss: 0.4568 - val_out_mean_squared_error: 0.5583 - val_level1_mean_squared_error: 0.5424 - val_level2_mean_squared_error: 0.5498\n",
            "\n",
            "Epoch 00108: val_out_loss did not improve from 0.40553\n",
            "Epoch 109/300\n",
            "23/23 [==============================] - 5s 199ms/step - loss: 1.0286 - out_loss: 0.3539 - level1_loss: 0.3562 - level2_loss: 0.3726 - out_mean_squared_error: 0.4463 - level1_mean_squared_error: 0.4433 - level2_mean_squared_error: 0.4562 - val_loss: 1.3432 - val_out_loss: 0.4320 - val_level1_loss: 0.4533 - val_level2_loss: 0.5287 - val_out_mean_squared_error: 0.5451 - val_level1_mean_squared_error: 0.5361 - val_level2_mean_squared_error: 0.5496\n",
            "\n",
            "Epoch 00109: val_out_loss did not improve from 0.40553\n",
            "Epoch 110/300\n",
            "23/23 [==============================] - 5s 199ms/step - loss: 1.0234 - out_loss: 0.3509 - level1_loss: 0.3554 - level2_loss: 0.3709 - out_mean_squared_error: 0.4411 - level1_mean_squared_error: 0.4363 - level2_mean_squared_error: 0.4465 - val_loss: 1.5905 - val_out_loss: 0.5302 - val_level1_loss: 0.5295 - val_level2_loss: 0.6145 - val_out_mean_squared_error: 0.6818 - val_level1_mean_squared_error: 0.6510 - val_level2_mean_squared_error: 0.6882\n",
            "\n",
            "Epoch 00110: val_out_loss did not improve from 0.40553\n",
            "Epoch 111/300\n",
            "23/23 [==============================] - 5s 199ms/step - loss: 1.0009 - out_loss: 0.3452 - level1_loss: 0.3457 - level2_loss: 0.3626 - out_mean_squared_error: 0.4282 - level1_mean_squared_error: 0.4220 - level2_mean_squared_error: 0.4379 - val_loss: 2.3547 - val_out_loss: 0.8270 - val_level1_loss: 0.8313 - val_level2_loss: 0.8204 - val_out_mean_squared_error: 1.2334 - val_level1_mean_squared_error: 1.2112 - val_level2_mean_squared_error: 1.0781\n",
            "\n",
            "Epoch 00111: val_out_loss did not improve from 0.40553\n",
            "Epoch 112/300\n",
            "23/23 [==============================] - 5s 198ms/step - loss: 1.0137 - out_loss: 0.3500 - level1_loss: 0.3523 - level2_loss: 0.3648 - out_mean_squared_error: 0.4505 - level1_mean_squared_error: 0.4484 - level2_mean_squared_error: 0.4489 - val_loss: 2.1424 - val_out_loss: 0.7214 - val_level1_loss: 0.7461 - val_level2_loss: 0.7877 - val_out_mean_squared_error: 0.9678 - val_level1_mean_squared_error: 0.9612 - val_level2_mean_squared_error: 0.8939\n",
            "\n",
            "Epoch 00112: val_out_loss did not improve from 0.40553\n",
            "Epoch 113/300\n",
            "23/23 [==============================] - 5s 200ms/step - loss: 0.9952 - out_loss: 0.3417 - level1_loss: 0.3449 - level2_loss: 0.3609 - out_mean_squared_error: 0.4245 - level1_mean_squared_error: 0.4225 - level2_mean_squared_error: 0.4370 - val_loss: 2.1878 - val_out_loss: 0.7292 - val_level1_loss: 0.7655 - val_level2_loss: 0.8082 - val_out_mean_squared_error: 1.1312 - val_level1_mean_squared_error: 1.1539 - val_level2_mean_squared_error: 0.9659\n",
            "\n",
            "Epoch 00113: val_out_loss did not improve from 0.40553\n",
            "Epoch 114/300\n",
            "23/23 [==============================] - 5s 197ms/step - loss: 1.0077 - out_loss: 0.3449 - level1_loss: 0.3505 - level2_loss: 0.3654 - out_mean_squared_error: 0.4239 - level1_mean_squared_error: 0.4193 - level2_mean_squared_error: 0.4335 - val_loss: 2.3413 - val_out_loss: 0.8152 - val_level1_loss: 0.8433 - val_level2_loss: 0.8061 - val_out_mean_squared_error: 1.1802 - val_level1_mean_squared_error: 1.1947 - val_level2_mean_squared_error: 0.9263\n",
            "\n",
            "Epoch 00114: val_out_loss did not improve from 0.40553\n",
            "Epoch 115/300\n",
            "23/23 [==============================] - 5s 201ms/step - loss: 1.0007 - out_loss: 0.3429 - level1_loss: 0.3482 - level2_loss: 0.3623 - out_mean_squared_error: 0.4312 - level1_mean_squared_error: 0.4273 - level2_mean_squared_error: 0.4370 - val_loss: 2.3663 - val_out_loss: 0.8253 - val_level1_loss: 0.8676 - val_level2_loss: 0.7980 - val_out_mean_squared_error: 1.1414 - val_level1_mean_squared_error: 1.2012 - val_level2_mean_squared_error: 0.9336\n",
            "\n",
            "Epoch 00115: val_out_loss did not improve from 0.40553\n",
            "Epoch 116/300\n",
            "23/23 [==============================] - 5s 197ms/step - loss: 0.9970 - out_loss: 0.3420 - level1_loss: 0.3445 - level2_loss: 0.3630 - out_mean_squared_error: 0.4221 - level1_mean_squared_error: 0.4180 - level2_mean_squared_error: 0.4342 - val_loss: 2.3204 - val_out_loss: 0.8344 - val_level1_loss: 0.8195 - val_level2_loss: 0.7886 - val_out_mean_squared_error: 1.1851 - val_level1_mean_squared_error: 1.1052 - val_level2_mean_squared_error: 0.8966\n",
            "\n",
            "Epoch 00116: val_out_loss did not improve from 0.40553\n",
            "Epoch 117/300\n",
            "23/23 [==============================] - 5s 199ms/step - loss: 0.9983 - out_loss: 0.3432 - level1_loss: 0.3463 - level2_loss: 0.3613 - out_mean_squared_error: 0.4248 - level1_mean_squared_error: 0.4213 - level2_mean_squared_error: 0.4341 - val_loss: 2.5943 - val_out_loss: 0.8995 - val_level1_loss: 0.9339 - val_level2_loss: 0.8974 - val_out_mean_squared_error: 1.3772 - val_level1_mean_squared_error: 1.4236 - val_level2_mean_squared_error: 1.1491\n",
            "\n",
            "Epoch 00117: val_out_loss did not improve from 0.40553\n",
            "Epoch 118/300\n",
            "23/23 [==============================] - 5s 200ms/step - loss: 1.0017 - out_loss: 0.3434 - level1_loss: 0.3471 - level2_loss: 0.3639 - out_mean_squared_error: 0.4299 - level1_mean_squared_error: 0.4271 - level2_mean_squared_error: 0.4439 - val_loss: 2.3490 - val_out_loss: 0.8145 - val_level1_loss: 0.8390 - val_level2_loss: 0.8191 - val_out_mean_squared_error: 1.1376 - val_level1_mean_squared_error: 1.1669 - val_level2_mean_squared_error: 0.9570\n",
            "\n",
            "Epoch 00118: val_out_loss did not improve from 0.40553\n"
          ]
        }
      ]
    },
    {
      "cell_type": "markdown",
      "metadata": {
        "id": "KXKtueC8-Hec"
      },
      "source": [
        "Predict from the Test set"
      ]
    },
    {
      "cell_type": "code",
      "metadata": {
        "id": "da_GxBdub11V",
        "colab": {
          "base_uri": "https://localhost:8080/"
        },
        "outputId": "e5cbd8f4-4371-496e-fe1a-ae8e9d6f13e5"
      },
      "source": [
        "if D_S == 0:\n",
        "    EEG_App = EEGIMU_Network.predict(X_Test, verbose=1)\n",
        "    print(EEG_App.shape)\n",
        "elif D_S == 1:\n",
        "    EEG_App = EEGIMU_Network.predict(X_Test1, verbose=1)\n",
        "    print(EEG_App[0].shape)"
      ],
      "execution_count": 22,
      "outputs": [
        {
          "output_type": "stream",
          "name": "stdout",
          "text": [
            "15/15 [==============================] - 1s 43ms/step\n",
            "(458, 1024, 1)\n"
          ]
        }
      ]
    },
    {
      "cell_type": "markdown",
      "metadata": {
        "id": "I5VOUzPq-qyv"
      },
      "source": [
        "Plot History Plots (e.g., Loss, Accuracy, etc.)"
      ]
    },
    {
      "cell_type": "code",
      "metadata": {
        "id": "FEbvTDd7-nZH",
        "colab": {
          "base_uri": "https://localhost:8080/",
          "height": 522
        },
        "outputId": "e9b04729-a0fe-4a4d-eb11-95a97934f4ed"
      },
      "source": [
        "def history_plot(history):\n",
        "  # list all dictionaries in history\n",
        "  print(history.history.keys())\n",
        "  # summarize history for error\n",
        "  plt.figure(figsize=(7,7))\n",
        "  plt.subplot(2,1,1)\n",
        "  plt.plot(history.history['out_mean_squared_error'])\n",
        "  plt.plot(history.history['val_out_mean_squared_error'])\n",
        "  plt.title('Model Error Performance')\n",
        "  plt.ylabel('Error')\n",
        "  plt.xlabel('Epoch')\n",
        "  plt.legend(['Train', 'Val'], loc='upper right')\n",
        "  plt.ylim([0, 3])\n",
        "  plt.show()\n",
        "  # summarize history for loss\n",
        "  plt.figure(figsize=(7,7))\n",
        "  plt.subplot(2,1,2)\n",
        "  plt.plot(history.history['out_loss'])\n",
        "  plt.plot(history.history['val_out_loss'])\n",
        "  plt.title('Model Loss')\n",
        "  plt.ylabel('Loss')\n",
        "  plt.xlabel('Epoch')\n",
        "  plt.legend(['Train', 'Val'], loc='upper right')\n",
        "  plt.ylim([0, 3])\n",
        "  plt.show()\n",
        "#\n",
        "history_plot(history)"
      ],
      "execution_count": 23,
      "outputs": [
        {
          "output_type": "stream",
          "name": "stdout",
          "text": [
            "dict_keys(['loss', 'out_loss', 'level1_loss', 'level2_loss', 'out_mean_squared_error', 'level1_mean_squared_error', 'level2_mean_squared_error', 'val_loss', 'val_out_loss', 'val_level1_loss', 'val_level2_loss', 'val_out_mean_squared_error', 'val_level1_mean_squared_error', 'val_level2_mean_squared_error'])\n"
          ]
        },
        {
          "output_type": "display_data",
          "data": {
            "image/png": "[encoded data removed]",
            "text/plain": [
              "<Figure size 504x504 with 1 Axes>"
            ]
          },
          "metadata": {}
        },
        {
          "output_type": "display_data",
          "data": {
            "image/png": "[encoded data removed]",
            "text/plain": [
              "<Figure size 504x504 with 1 Axes>"
            ]
          },
          "metadata": {}
        }
      ]
    },
    {
      "cell_type": "markdown",
      "metadata": {
        "id": "RAkQe4Yp9QVP"
      },
      "source": [
        "Visualize Outcome"
      ]
    },
    {
      "cell_type": "code",
      "metadata": {
        "id": "tq3lBCm0crMc",
        "colab": {
          "base_uri": "https://localhost:8080/",
          "height": 281
        },
        "outputId": "b150ce4e-bd01-4f0e-8c27-8ff38b9cc97d"
      },
      "source": [
        "if D_S == 0:\n",
        "    i = random.randint(0,len(Y_Test));\n",
        "    #\n",
        "    MAE = np.mean(np.abs(EEG_App[i].ravel()-Y_Test[i].ravel()));\n",
        "    #\n",
        "    plt.figure(figsize=(15, 4));\n",
        "    plt.plot(Y_Test1[i],label='GRND');\n",
        "    plt.plot(EEG_App[i].ravel(), label='Pred');\n",
        "    plt.title(f\"EEG -- Sample Number {i} -- MAE = {MAE}\");\n",
        "    plt.legend();\n",
        "    #\n",
        "elif D_S == 1:\n",
        "    i = random.randint(0,len(Y_Test));\n",
        "    #\n",
        "    MAE = np.mean(np.abs(EEG_App[0][i].ravel()-Y_Test[i].ravel()))\n",
        "    #\n",
        "    plt.figure(figsize=(15,4))\n",
        "    # plt.subplot(5,1,1)\n",
        "    plt.plot(Y_Test[i],label='Ground Truth');\n",
        "    plt.plot(EEG_App[0][i].ravel(), label='Prediction');\n",
        "    plt.title(f\"GRF -- Sample Number {i} -- MAE = {MAE}\");\n",
        "    plt.legend();\n",
        "    plt.show()\n",
        "    # plt.subplot(5,1,2)\n",
        "    # plt.plot((X_Test[i,:,0].ravel()),label='EEG2');\n",
        "    # plt.title('EEG2')\n",
        "    # plt.legend();\n",
        "    # plt.subplot(5,1,3)\n",
        "    # plt.plot((X_Test[i,:,1].ravel()),label='ACCX2');\n",
        "    # plt.title('ACCX')\n",
        "    # plt.legend();\n",
        "    # plt.subplot(5,1,4)\n",
        "    # plt.plot((X_Test[i,:,2].ravel()),label='ACCY2');\n",
        "    # plt.title('ACCY')\n",
        "    # plt.legend();\n",
        "    # plt.subplot(5,1,5)\n",
        "    # plt.plot((X_Test[i,:,3].ravel()),label='ACCZ2');\n",
        "    # plt.title('ACCZ')\n",
        "    # plt.legend();"
      ],
      "execution_count": 24,
      "outputs": [
        {
          "output_type": "display_data",
          "data": {
            "image/png": "[encoded data removed]",
            "text/plain": [
              "<Figure size 1080x288 with 1 Axes>"
            ]
          },
          "metadata": {}
        }
      ]
    },
    {
      "cell_type": "markdown",
      "metadata": {
        "id": "qgyZlT9gOC3r"
      },
      "source": [
        "### Evaluate EEG Reconstruction"
      ]
    },
    {
      "cell_type": "markdown",
      "metadata": {
        "id": "3Tn5t8svOC3z"
      },
      "source": [
        "Construction Error"
      ]
    },
    {
      "cell_type": "code",
      "metadata": {
        "id": "dCpLcxFHHGO4"
      },
      "source": [
        "def Construction_Error(GRND, Pred):\n",
        "    construction_err = []\n",
        "    bad_indices = []\n",
        "    count = 0\n",
        "\n",
        "    for i in range(len(GRND)):\n",
        "        MAE = np.mean(np.abs(Pred[i].ravel() - GRND[i].ravel()))\n",
        "        if MAE < 1:\n",
        "            construction_err.append(MAE)\n",
        "        elif MAE >= 1:\n",
        "            count = count + 1\n",
        "            bad_indices.append(i)\n",
        "\n",
        "    print(f'Construction Error : {round(np.mean(construction_err), 3)} +/- {round(np.std(construction_err), 3)}')\n",
        "    print(f'Number of Bad Predictions = {count}')\n",
        "\n",
        "    bad_indices = set(bad_indices)\n",
        "    all_indices = set(np.arange(len(GRND)))\n",
        "    good_indices = np.array(list(all_indices - bad_indices))\n",
        "    GRND_NEW = GRND[good_indices]\n",
        "    PRED_NEW = Pred[good_indices]\n",
        "\n",
        "    return GRND_NEW, PRED_NEW"
      ],
      "execution_count": 25,
      "outputs": []
    },
    {
      "cell_type": "code",
      "metadata": {
        "id": "-e5e02IX18_0",
        "colab": {
          "base_uri": "https://localhost:8080/"
        },
        "outputId": "4d777042-64d8-4cd7-dbc3-d7731d4c3c72"
      },
      "source": [
        "[A,B] = Construction_Error(Y_Test,EEG_App[0])"
      ],
      "execution_count": 26,
      "outputs": [
        {
          "output_type": "stream",
          "name": "stdout",
          "text": [
            "Construction Error : 0.695 +/- 0.188\n",
            "Number of Bad Predictions = 91\n"
          ]
        }
      ]
    },
    {
      "cell_type": "markdown",
      "metadata": {
        "id": "RpBffrdYhNFs"
      },
      "source": [
        "### Save Files"
      ]
    },
    {
      "cell_type": "code",
      "metadata": {
        "id": "PIUgbKfFhO7O",
        "colab": {
          "base_uri": "https://localhost:8080/",
          "height": 231
        },
        "outputId": "558a0c5e-8fd2-4db3-9bba-cce4d7db4b49"
      },
      "source": [
        "output_directory = 'Patient_Wise_Data/Outputs/Preds_Sub_' + str(Test_Case) + '.h5'\n",
        "File = h5py.File(output_directory, 'w')\n",
        "File.create_dataset('EEG_GT', data=Y_Test)\n",
        "File.create_dataset('EEG_MA', data=X_Test[:,:,0])\n",
        "File.create_dataset('EEG_Pred', data=EEG_App[0])\n",
        "File.close()"
      ],
      "execution_count": 27,
      "outputs": [
        {
          "output_type": "error",
          "ename": "NameError",
          "evalue": "ignored",
          "traceback": [
            "\u001b[0;31m---------------------------------------------------------------------------\u001b[0m",
            "\u001b[0;31mNameError\u001b[0m                                 Traceback (most recent call last)",
            "\u001b[0;32m<ipython-input-27-25ffc6fbf276>\u001b[0m in \u001b[0;36m<module>\u001b[0;34m()\u001b[0m\n\u001b[0;32m----> 1\u001b[0;31m \u001b[0moutput_directory\u001b[0m \u001b[0;34m=\u001b[0m \u001b[0;34m'Patient_Wise_Data/Outputs/Preds_Sub_'\u001b[0m \u001b[0;34m+\u001b[0m \u001b[0mstr\u001b[0m\u001b[0;34m(\u001b[0m\u001b[0mTest_Case\u001b[0m\u001b[0;34m)\u001b[0m \u001b[0;34m+\u001b[0m \u001b[0;34m'.h5'\u001b[0m\u001b[0;34m\u001b[0m\u001b[0;34m\u001b[0m\u001b[0m\n\u001b[0m\u001b[1;32m      2\u001b[0m \u001b[0mFile\u001b[0m \u001b[0;34m=\u001b[0m \u001b[0mh5py\u001b[0m\u001b[0;34m.\u001b[0m\u001b[0mFile\u001b[0m\u001b[0;34m(\u001b[0m\u001b[0moutput_directory\u001b[0m\u001b[0;34m,\u001b[0m \u001b[0;34m'w'\u001b[0m\u001b[0;34m)\u001b[0m\u001b[0;34m\u001b[0m\u001b[0;34m\u001b[0m\u001b[0m\n\u001b[1;32m      3\u001b[0m \u001b[0mFile\u001b[0m\u001b[0;34m.\u001b[0m\u001b[0mcreate_dataset\u001b[0m\u001b[0;34m(\u001b[0m\u001b[0;34m'EEG_GT'\u001b[0m\u001b[0;34m,\u001b[0m \u001b[0mdata\u001b[0m\u001b[0;34m=\u001b[0m\u001b[0mY_Test\u001b[0m\u001b[0;34m)\u001b[0m\u001b[0;34m\u001b[0m\u001b[0;34m\u001b[0m\u001b[0m\n\u001b[1;32m      4\u001b[0m \u001b[0mFile\u001b[0m\u001b[0;34m.\u001b[0m\u001b[0mcreate_dataset\u001b[0m\u001b[0;34m(\u001b[0m\u001b[0;34m'EEG_MA'\u001b[0m\u001b[0;34m,\u001b[0m \u001b[0mdata\u001b[0m\u001b[0;34m=\u001b[0m\u001b[0mX_Test\u001b[0m\u001b[0;34m[\u001b[0m\u001b[0;34m:\u001b[0m\u001b[0;34m,\u001b[0m\u001b[0;34m:\u001b[0m\u001b[0;34m,\u001b[0m\u001b[0;36m0\u001b[0m\u001b[0;34m]\u001b[0m\u001b[0;34m)\u001b[0m\u001b[0;34m\u001b[0m\u001b[0;34m\u001b[0m\u001b[0m\n\u001b[1;32m      5\u001b[0m \u001b[0mFile\u001b[0m\u001b[0;34m.\u001b[0m\u001b[0mcreate_dataset\u001b[0m\u001b[0;34m(\u001b[0m\u001b[0;34m'EEG_Pred'\u001b[0m\u001b[0;34m,\u001b[0m \u001b[0mdata\u001b[0m\u001b[0;34m=\u001b[0m\u001b[0mEEG_App\u001b[0m\u001b[0;34m[\u001b[0m\u001b[0;36m0\u001b[0m\u001b[0;34m]\u001b[0m\u001b[0;34m)\u001b[0m\u001b[0;34m\u001b[0m\u001b[0;34m\u001b[0m\u001b[0m\n",
            "\u001b[0;31mNameError\u001b[0m: name 'Test_Case' is not defined"
          ]
        }
      ]
    },
    {
      "cell_type": "markdown",
      "metadata": {
        "id": "WesN7p7AeYK4"
      },
      "source": [
        "# Infinite Loop to Keep the Tab Alive"
      ]
    },
    {
      "cell_type": "code",
      "metadata": {
        "id": "0HqQ3O6XeZ1f"
      },
      "source": [
        "while True:\n",
        "    pass"
      ],
      "execution_count": null,
      "outputs": []
    }
  ]
}