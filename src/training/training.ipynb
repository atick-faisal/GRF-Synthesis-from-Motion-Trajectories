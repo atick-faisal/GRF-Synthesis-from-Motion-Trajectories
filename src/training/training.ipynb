{
  "nbformat": 4,
  "nbformat_minor": 0,
  "metadata": {
    "colab": {
      "name": "EEG_Motion_Artifact_Removal_v1.ipynb",
      "provenance": [],
      "collapsed_sections": [
        "tgW7r0C9TuZk",
        "WOaiV66cCD6L",
        "fI8UCcR-oZc-",
        "_qTwozk_BS94",
        "WesN7p7AeYK4"
      ],
      "machine_shape": "hm",
      "include_colab_link": true
    },
    "kernelspec": {
      "display_name": "Python 3",
      "language": "python",
      "name": "python3"
    },
    "language_info": {
      "codemirror_mode": {
        "name": "ipython",
        "version": 3
      },
      "file_extension": ".py",
      "mimetype": "text/x-python",
      "name": "python",
      "nbconvert_exporter": "python",
      "pygments_lexer": "ipython3",
      "version": "3.5.2"
    },
    "accelerator": "GPU"
  },
  "cells": [
    {
      "cell_type": "markdown",
      "metadata": {
        "id": "view-in-github",
        "colab_type": "text"
      },
      "source": [
        "<a href=\"https://colab.research.google.com/github/atick-faisal/GRF-Synthesis-from-Motion-Trajectories/blob/main/src/training/training.ipynb\" target=\"_parent\"><img src=\"https://colab.research.google.com/assets/colab-badge.svg\" alt=\"Open In Colab\"/></a>"
      ]
    },
    {
      "cell_type": "markdown",
      "metadata": {
        "id": "sFyb0y7PUJOo"
      },
      "source": [
        "# EEG Motion Artifact Removal using Deep Learning - Complete Pipeline"
      ]
    },
    {
      "cell_type": "markdown",
      "metadata": {
        "id": "W9vTr2NhcGAA"
      },
      "source": [
        "# Test GPU (Optional)\n",
        "Before Starting, kindly check the available GPU from the Google Server, GPU model and other related information. It might help!"
      ]
    },
    {
      "cell_type": "code",
      "metadata": {
        "colab": {
          "base_uri": "https://localhost:8080/"
        },
        "id": "VUNJNtNxcFTF",
        "outputId": "3d195c76-a9dd-446a-caee-d9c9a1a6bbd2"
      },
      "source": [
        "import torch\n",
        "print(\"Is CUDA enabled GPU Available?\", torch.cuda.is_available())\n",
        "print(\"GPU Number:\", torch.cuda.device_count())\n",
        "print(\"Current GPU Index:\", torch.cuda.current_device())\n",
        "print(\"GPU Type:\", torch.cuda.get_device_name(device=None))\n",
        "print(\"GPU Capability:\", torch.cuda.get_device_capability(device=None))\n",
        "print(\"Is GPU Initialized yet?\", torch.cuda.is_initialized())"
      ],
      "execution_count": 1,
      "outputs": [
        {
          "output_type": "stream",
          "name": "stdout",
          "text": [
            "Is CUDA enabled GPU Available? True\n",
            "GPU Number: 1\n",
            "Current GPU Index: 0\n",
            "GPU Type: Tesla K80\n",
            "GPU Capability: (3, 7)\n",
            "Is GPU Initialized yet? True\n"
          ]
        }
      ]
    },
    {
      "cell_type": "markdown",
      "metadata": {
        "id": "EQbDnsIZUSx0"
      },
      "source": [
        "# Connect to Google Drive"
      ]
    },
    {
      "cell_type": "code",
      "metadata": {
        "id": "wg4kMbwxsH9h"
      },
      "source": [
        "# from google.colab import drive\n",
        "# drive.mount('/content/GDrive')"
      ],
      "execution_count": 2,
      "outputs": []
    },
    {
      "cell_type": "markdown",
      "metadata": {
        "id": "GpdYZ2x3MbTd"
      },
      "source": [
        "Move to the Target Directory"
      ]
    },
    {
      "cell_type": "code",
      "metadata": {
        "id": "Efh543dRsQga"
      },
      "source": [
        "# %cd /content/GDrive/MyDrive/Colab_Notebooks/Research/EEG_IMU "
      ],
      "execution_count": 3,
      "outputs": []
    },
    {
      "cell_type": "markdown",
      "metadata": {
        "id": "_ZtMdxE7MeXX"
      },
      "source": [
        "List the Files and Folders Located in the Current Directory"
      ]
    },
    {
      "cell_type": "code",
      "metadata": {
        "id": "eM92ZPcisMK1"
      },
      "source": [
        "# !ls"
      ],
      "execution_count": 4,
      "outputs": []
    },
    {
      "cell_type": "markdown",
      "metadata": {
        "id": "ano69se-e3QY"
      },
      "source": [
        "## Evaluation of Predicting ABP Waveforms\n",
        "\n",
        "Here, we present an interactive CLI to predict the ABP waveform from PPG signal from the test data. Ground truth, prediction from approximation network and refinement network are presented, and a comparison is also demonstrated\n"
      ]
    },
    {
      "cell_type": "markdown",
      "metadata": {
        "id": "fHxmMNfno3U4"
      },
      "source": [
        "# Conling Repository"
      ]
    },
    {
      "cell_type": "code",
      "metadata": {
        "id": "xrTsiXfvo6bp",
        "colab": {
          "base_uri": "https://localhost:8080/"
        },
        "outputId": "9faf6cb3-22e8-4802-be4f-dff49c89d4eb"
      },
      "source": [
        "!git clone https://github.com/atick-faisal/GRF-Synthesis-from-Motion-Trajectories.git"
      ],
      "execution_count": 5,
      "outputs": [
        {
          "output_type": "stream",
          "name": "stdout",
          "text": [
            "fatal: destination path 'GRF-Synthesis-from-Motion-Trajectories' already exists and is not an empty directory.\n"
          ]
        }
      ]
    },
    {
      "cell_type": "code",
      "metadata": {
        "id": "oCda5cmGpBUo",
        "colab": {
          "base_uri": "https://localhost:8080/"
        },
        "outputId": "c53d37fa-f6d8-48b0-c51a-202a9701fcfe"
      },
      "source": [
        "%cd /content/GRF-Synthesis-from-Motion-Trajectories/src/\n",
        "!ls"
      ],
      "execution_count": 6,
      "outputs": [
        {
          "output_type": "stream",
          "name": "stdout",
          "text": [
            "/content/GRF-Synthesis-from-Motion-Trajectories/src\n",
            "data.joblib  models  preprocessing  trained_models  training  visualization\n"
          ]
        }
      ]
    },
    {
      "cell_type": "markdown",
      "metadata": {
        "id": "tgW7r0C9TuZk"
      },
      "source": [
        "#Import Libraries"
      ]
    },
    {
      "cell_type": "code",
      "metadata": {
        "id": "eMhBhz1CrMb3"
      },
      "source": [
        "import os\n",
        "import h5py\n",
        "import scipy\n",
        "import random\n",
        "import pickle\n",
        "import joblib\n",
        "import numpy as np\n",
        "import pandas as pd\n",
        "import seaborn as sns\n",
        "import tensorflow as tf\n",
        "from tqdm import tqdm\n",
        "import scipy.io as sio\n",
        "import matplotlib.pyplot as plt\n",
        "from sklearn.metrics import mean_squared_error, median_absolute_error, mean_absolute_error\n",
        "from sklearn.metrics import classification_report, confusion_matrix\n",
        "from sklearn.model_selection import train_test_split\n",
        "from pathlib import Path"
      ],
      "execution_count": 7,
      "outputs": []
    },
    {
      "cell_type": "code",
      "metadata": {
        "id": "lFydrjV6TxCc"
      },
      "source": [
        "from models import UNet"
      ],
      "execution_count": 8,
      "outputs": []
    },
    {
      "cell_type": "code",
      "metadata": {
        "id": "03JA1kRfzoit"
      },
      "source": [
        "%matplotlib inline\n",
        "sns.set_style('white')"
      ],
      "execution_count": 9,
      "outputs": []
    },
    {
      "cell_type": "markdown",
      "metadata": {
        "id": "VyFBKZ1ddRuM"
      },
      "source": [
        "# End-to-End Pipeline - EEG Motion Artifact Correction using Deep Learning"
      ]
    },
    {
      "cell_type": "markdown",
      "metadata": {
        "id": "WOaiV66cCD6L"
      },
      "source": [
        "## Prepare Dataset - k-Fold Cross Validation"
      ]
    },
    {
      "cell_type": "code",
      "metadata": {
        "id": "olkAEm0y2rUp",
        "colab": {
          "base_uri": "https://localhost:8080/"
        },
        "outputId": "b109e662-1633-4b3a-8d87-e92511120dc9"
      },
      "source": [
        "!gdown --id \"1td-TvIVosKhuCk38czyDGP8zKVyLtQ8k\""
      ],
      "execution_count": 10,
      "outputs": [
        {
          "output_type": "stream",
          "name": "stdout",
          "text": [
            "Downloading...\n",
            "From: https://drive.google.com/uc?id=1td-TvIVosKhuCk38czyDGP8zKVyLtQ8k\n",
            "To: /content/GRF-Synthesis-from-Motion-Trajectories/src/data.joblib\n",
            "100% 787M/787M [00:06<00:00, 128MB/s]\n"
          ]
        }
      ]
    },
    {
      "cell_type": "code",
      "metadata": {
        "id": "NLDwhb-xt3Y_",
        "colab": {
          "base_uri": "https://localhost:8080/"
        },
        "outputId": "7215cb62-e3a6-4171-ff8f-4f1a864d97af"
      },
      "source": [
        "from sklearn.preprocessing import MinMaxScaler\n",
        "from sklearn.preprocessing import StandardScaler\n",
        "\n",
        "data = joblib.load('data.joblib')\n",
        "features = data['X']\n",
        "target = data['y']\n",
        "\n",
        "features_z = features[['fal_z', 'tam_z', 'fcc_z', 'fm1_z', 'fm2_z', 'fm5_z']]\n",
        "target_z = target[['fz']]\n",
        "\n",
        "scaler = StandardScaler()\n",
        "scaler.fit(features_z)\n",
        "features_z = scaler.transform(features_z)\n",
        "\n",
        "scaler = StandardScaler()\n",
        "scaler.fit(target_z)\n",
        "target_z = scaler.transform(target_z)\n",
        "\n",
        "X = features_z.reshape(-1, 2048, 6)\n",
        "y = target_z.reshape(-1, 2048, 1)\n",
        "\n",
        "print(X.shape)\n",
        "print(y.shape)"
      ],
      "execution_count": 11,
      "outputs": [
        {
          "output_type": "stream",
          "name": "stdout",
          "text": [
            "(1143, 2048, 6)\n",
            "(1143, 2048, 1)\n"
          ]
        }
      ]
    },
    {
      "cell_type": "code",
      "metadata": {
        "id": "biuhCFxEfDY2",
        "colab": {
          "base_uri": "https://localhost:8080/"
        },
        "outputId": "c56fc471-93bf-4dfe-d9eb-87191fac4a7f"
      },
      "source": [
        "features_z.shape"
      ],
      "execution_count": 12,
      "outputs": [
        {
          "output_type": "execute_result",
          "data": {
            "text/plain": [
              "(2340864, 6)"
            ]
          },
          "metadata": {},
          "execution_count": 12
        }
      ]
    },
    {
      "cell_type": "code",
      "metadata": {
        "id": "4cnlxZkZJT-Q",
        "colab": {
          "base_uri": "https://localhost:8080/"
        },
        "outputId": "e3db7e22-fdda-497d-9cc7-2ba3a87d718b"
      },
      "source": [
        "X_Train, X_Test, Y_Train, Y_Test = train_test_split(X, y, test_size=0.2, random_state=42)\n",
        "Y_Train = np.squeeze(Y_Train, axis=2)\n",
        "Y_Test = np.squeeze(Y_Test, axis=2)\n",
        "Y_Train.shape"
      ],
      "execution_count": 13,
      "outputs": [
        {
          "output_type": "execute_result",
          "data": {
            "text/plain": [
              "(914, 2048)"
            ]
          },
          "metadata": {},
          "execution_count": 13
        }
      ]
    },
    {
      "cell_type": "markdown",
      "metadata": {
        "id": "_qTwozk_BS94"
      },
      "source": [
        "## Garbage Collector"
      ]
    },
    {
      "cell_type": "code",
      "metadata": {
        "id": "ch2jmn3jKKiH"
      },
      "source": [
        "# import gc #Garbage Collector\n",
        "# fl_Train = None\n",
        "# fl_Test = None\n",
        "# X_Test = None\n",
        "# X_Train = None\n",
        "# X_Val = None\n",
        "# Y_Test_BP = None\n",
        "# Y_Train_BP = None\n",
        "# Y_Test_ABP = None\n",
        "# Y_Train_ABP = None\n",
        "# SBP_Train = None\n",
        "# DBP_Train = None\n",
        "# gc.collect()"
      ],
      "execution_count": 14,
      "outputs": []
    },
    {
      "cell_type": "markdown",
      "metadata": {
        "id": "lu6KEu2yeikQ"
      },
      "source": [
        "## Segmentation Pipeline"
      ]
    },
    {
      "cell_type": "markdown",
      "metadata": {
        "id": "X_Ev2XlLwRkW"
      },
      "source": [
        "### Prepare Label"
      ]
    },
    {
      "cell_type": "markdown",
      "metadata": {
        "id": "ANawSmVbUkZs"
      },
      "source": [
        "Configurations"
      ]
    },
    {
      "cell_type": "code",
      "metadata": {
        "id": "3ps7RMbyR7pw"
      },
      "source": [
        "signal_length = 2048 # Length of each Segment\n",
        "model_depth = 3 # Number of Level in the CNN Model\n",
        "model_width = 64 # Width of the Initial Layer, subsequent layers start from here\n",
        "kernel_size = 3 # Size of the Kernels/Filter\n",
        "num_channel = 6 # Number of Channels in the Model\n",
        "D_S = 1 # Turn on Deep Supervision\n",
        "A_E = 0 # Turn on AutoEncoder Mode for Feature Extraction\n",
        "problem_type = 'Regression'\n",
        "output_nums = 1 # Number of Class for Classification Problems, always '1' for Regression Problems\n",
        "'''Only required if the AutoEncoder Mode is turned on'''\n",
        "feature_number = 1024 # Number of Features to be Extracted\n",
        "'''Only required for MultiResUNet'''\n",
        "alpha = 1 # Model Width Expansion Parameter"
      ],
      "execution_count": 15,
      "outputs": []
    },
    {
      "cell_type": "markdown",
      "metadata": {
        "id": "qdw2EGzA92pt"
      },
      "source": [
        "Prepare Dataset for Deep Supervision (if Activated)"
      ]
    },
    {
      "cell_type": "code",
      "metadata": {
        "id": "QWMEhQkaClZi"
      },
      "source": [
        "def prepareTrainDict(y, model_depth, signal_length, model_name):\n",
        "  def approximate(inp, w_len, signal_length):\n",
        "    op = np.zeros((len(inp),signal_length//w_len))\n",
        "    for i in range(0,signal_length,w_len):\n",
        "      try:\n",
        "        op[:,i//w_len] = np.mean(inp[:,i:i+w_len],axis=1)\n",
        "      except Exception as e:\n",
        "        print(e)\n",
        "        print(i)\n",
        "  \t\n",
        "    return op\n",
        "\n",
        "  out = {}\n",
        "  Y_Train_dict = {}\n",
        "  out['out'] = np.array(y)\n",
        "  Y_Train_dict['out'] = out['out']\n",
        "  for i in range(1, (model_depth+1)):\n",
        "    name = f'level{i}'\n",
        "    if ((model_name == 'UNet') or (model_name == 'MultiResUNet') or (model_name == 'FPN')):\n",
        "      out[name] = np.expand_dims(approximate(np.squeeze(y), 2**i, signal_length),axis = 2)\n",
        "    elif ((model_name == 'UNetE') or (model_name == 'UNetP') or (model_name == 'UNetPP')):\n",
        "      out[name] = np.expand_dims(approximate(np.squeeze(y), 2**0, signal_length),axis = 2)\n",
        "    Y_Train_dict[f'level{i}'] = out[f'level{i}']\n",
        "  \n",
        "  return out, Y_Train_dict"
      ],
      "execution_count": 16,
      "outputs": []
    },
    {
      "cell_type": "code",
      "metadata": {
        "id": "ZQM6mSM2zE3G"
      },
      "source": [
        "model_name = 'MultiResUNet' # UNet or UNetPP\n",
        "X_Train1 = X_Train\n",
        "X_Test1 = X_Test\n",
        "[Y_Train1, Y_Train_dict] = prepareTrainDict(Y_Train, model_depth, signal_length, model_name)\n",
        "[Y_Test1, Y_Test_dict] = prepareTrainDict(Y_Test, model_depth, signal_length, model_name)"
      ],
      "execution_count": 17,
      "outputs": []
    },
    {
      "cell_type": "code",
      "metadata": {
        "colab": {
          "base_uri": "https://localhost:8080/"
        },
        "id": "1k-OSEQ87CyB",
        "outputId": "42265a7e-ed6d-45e4-b4e3-2f05b6166927"
      },
      "source": [
        "loss_weights = np.zeros(model_depth)\n",
        "\n",
        "for i in range(0, model_depth):\n",
        "   loss_weights[i] = 1-(i*0.1)\n",
        "   \n",
        "loss_weights"
      ],
      "execution_count": 18,
      "outputs": [
        {
          "output_type": "execute_result",
          "data": {
            "text/plain": [
              "array([1. , 0.9, 0.8])"
            ]
          },
          "metadata": {},
          "execution_count": 18
        }
      ]
    },
    {
      "cell_type": "markdown",
      "metadata": {
        "id": "tLWoX0CHeikZ"
      },
      "source": [
        "### Train Data"
      ]
    },
    {
      "cell_type": "markdown",
      "metadata": {
        "id": "_G9wCFl1986E"
      },
      "source": [
        "Build and Compile Model"
      ]
    },
    {
      "cell_type": "code",
      "metadata": {
        "id": "AgNmOBsctd4u"
      },
      "source": [
        "if D_S == 0:\n",
        "    # Build model for EEG Motion Artifact Removal - Deep Unet Architecture\n",
        "    # AutoEncoder should be set at 'FALSE' for the Deep U-net model for Signal Reconstruction\n",
        "    # D_S = 0, A_E = 0\n",
        "    EEGIMU_Network = UNet(signal_length, model_depth, num_channel, model_width, kernel_size, problem_type=problem_type, output_nums=output_nums, ds=D_S, ae=A_E, alpha=alpha).UNet()\n",
        "    EEGIMU_Network.compile(loss= 'mean_absolute_error', optimizer= 'adam', metrics= ['mean_squared_error','accuracy'])\n",
        "    #\n",
        "elif D_S == 1:\n",
        "    # Build model for EEG Motion Artifact Removal - Deep Unet Architecture\n",
        "    # AutoEncoder should be set at 'FALSE' for the Deep U-net model for Signal Reconstruction\n",
        "    # D_S = 1, A_E = 0\n",
        "    EEGIMU_Network = UNet(signal_length, model_depth, num_channel, model_width, kernel_size, problem_type=problem_type, output_nums=output_nums, ds=D_S, ae=A_E, alpha=alpha).MultiResUNet()\n",
        "    EEGIMU_Network.compile(loss= 'mean_absolute_error', optimizer= 'adam', metrics= ['mean_squared_error'], loss_weights= loss_weights)"
      ],
      "execution_count": 19,
      "outputs": []
    },
    {
      "cell_type": "markdown",
      "metadata": {
        "id": "weUOLRyW9_TE"
      },
      "source": [
        "Import Trained Weights for a Headstart"
      ]
    },
    {
      "cell_type": "code",
      "metadata": {
        "id": "PEhSkrAG3SXe"
      },
      "source": [
        "# if D_S == 0:\n",
        "#     EEGIMU_Network_Network.load_weights('trained_models/'+model_name+'_'+str(length)+'_'+str(model_width)+'_'+str(num_channel)+'_'+str(D_S)+'.h5') # Load Previously Trained Weights for Transfer Learning\n",
        "# elif D_S == 1:\n",
        "#     EEGIMU_Network_Network.load_weights('trained_models/'+model_name+'_'+str(length)+'_'+str(model_width)+'_'+str(num_channel)+'_'+str(D_S)+'.h5') # Load Previously Trained Weights for Transfer Learning"
      ],
      "execution_count": 20,
      "outputs": []
    },
    {
      "cell_type": "markdown",
      "metadata": {
        "id": "17aVX6jw-E8j"
      },
      "source": [
        "Train Model"
      ]
    },
    {
      "cell_type": "code",
      "metadata": {
        "id": "gYmCDIxAbdT1",
        "colab": {
          "base_uri": "https://localhost:8080/"
        },
        "outputId": "6f67e33a-2526-4200-b260-a89ffb97cfd8"
      },
      "source": [
        "if D_S == 0:\n",
        "    callbacks = [tf.keras.callbacks.EarlyStopping(monitor='val_loss', patience=30, mode='min'), \n",
        "                 tf.keras.callbacks.ModelCheckpoint('trained_models/'+model_name+'_'+str(signal_length)+'_'+str(model_width)+'_'+str(model_depth)+'_'+str(num_channel)+'_'+str(D_S)+'.h5', verbose=1, monitor='val_loss', save_best_only=True, mode='min')]\n",
        "    history = EEGIMU_Network.fit(X_Train, Y_Train, epochs=300, batch_size=64, verbose=1, validation_split=0.2, shuffle=True, callbacks=callbacks)\n",
        "    #\n",
        "elif D_S == 1:\n",
        "    callbacks = [tf.keras.callbacks.EarlyStopping(monitor='val_out_loss', patience=30, mode='min'), \n",
        "                 tf.keras.callbacks.ModelCheckpoint('trained_models/'+model_name+'_'+str(signal_length)+'_'+str(model_width)+'_'+str(model_depth)+'_'+str(num_channel)+'_'+str(D_S)+'.h5', verbose=1, monitor='val_out_loss', save_best_only=True, mode='min')]\n",
        "    history = EEGIMU_Network.fit(X_Train1, Y_Train_dict, epochs=300, batch_size=64, verbose=1, validation_split=0.2, shuffle=True, callbacks=callbacks)"
      ],
      "execution_count": 21,
      "outputs": [
        {
          "output_type": "stream",
          "name": "stdout",
          "text": [
            "Epoch 1/300\n",
            "12/12 [==============================] - 40s 1s/step - loss: 3.0618 - out_loss: 0.7679 - level1_loss: 0.8118 - level2_loss: 0.9163 - level3_loss: 0.9060 - out_mean_squared_error: 1.2231 - level1_mean_squared_error: 1.3173 - level2_mean_squared_error: 1.6649 - level3_mean_squared_error: 1.7145 - val_loss: 3.5054 - val_out_loss: 1.0973 - val_level1_loss: 0.8952 - val_level2_loss: 0.9694 - val_level3_loss: 0.9331 - val_out_mean_squared_error: 2.3895 - val_level1_mean_squared_error: 1.1167 - val_level2_mean_squared_error: 1.3045 - val_level3_mean_squared_error: 1.1355\n",
            "\n",
            "Epoch 00001: val_out_loss improved from inf to 1.09729, saving model to trained_models/MultiResUNet_2048_64_3_6_1.h5\n"
          ]
        },
        {
          "output_type": "stream",
          "name": "stderr",
          "text": [
            "/usr/local/lib/python3.7/dist-packages/keras/utils/generic_utils.py:497: CustomMaskWarning: Custom mask layers require a config and must override get_config. When loading, the custom mask layer must be passed to the custom_objects argument.\n",
            "  category=CustomMaskWarning)\n"
          ]
        },
        {
          "output_type": "stream",
          "name": "stdout",
          "text": [
            "Epoch 2/300\n",
            "12/12 [==============================] - 11s 955ms/step - loss: 2.1484 - out_loss: 0.5697 - level1_loss: 0.5807 - level2_loss: 0.5856 - level3_loss: 0.6512 - out_mean_squared_error: 0.7227 - level1_mean_squared_error: 0.7440 - level2_mean_squared_error: 0.7192 - level3_mean_squared_error: 0.8903 - val_loss: 3.2667 - val_out_loss: 0.9755 - val_level1_loss: 0.9156 - val_level2_loss: 0.8770 - val_level3_loss: 0.8615 - val_out_mean_squared_error: 2.0897 - val_level1_mean_squared_error: 1.3217 - val_level2_mean_squared_error: 0.9750 - val_level3_mean_squared_error: 0.9363\n",
            "\n",
            "Epoch 00002: val_out_loss improved from 1.09729 to 0.97550, saving model to trained_models/MultiResUNet_2048_64_3_6_1.h5\n",
            "Epoch 3/300\n",
            "12/12 [==============================] - 11s 957ms/step - loss: 1.9080 - out_loss: 0.5334 - level1_loss: 0.5236 - level2_loss: 0.5204 - level3_loss: 0.5426 - out_mean_squared_error: 0.6521 - level1_mean_squared_error: 0.6343 - level2_mean_squared_error: 0.6369 - level3_mean_squared_error: 0.6305 - val_loss: 3.1120 - val_out_loss: 0.8701 - val_level1_loss: 0.8972 - val_level2_loss: 0.8522 - val_level3_loss: 0.8382 - val_out_mean_squared_error: 1.4239 - val_level1_mean_squared_error: 1.3305 - val_level2_mean_squared_error: 0.9450 - val_level3_mean_squared_error: 0.9035\n",
            "\n",
            "Epoch 00003: val_out_loss improved from 0.97550 to 0.87007, saving model to trained_models/MultiResUNet_2048_64_3_6_1.h5\n",
            "Epoch 4/300\n",
            "12/12 [==============================] - 11s 959ms/step - loss: 1.7909 - out_loss: 0.5063 - level1_loss: 0.4910 - level2_loss: 0.4965 - level3_loss: 0.4961 - out_mean_squared_error: 0.6158 - level1_mean_squared_error: 0.6086 - level2_mean_squared_error: 0.6037 - level3_mean_squared_error: 0.6086 - val_loss: 3.0531 - val_out_loss: 0.8231 - val_level1_loss: 0.8662 - val_level2_loss: 0.8584 - val_level3_loss: 0.8446 - val_out_mean_squared_error: 1.0546 - val_level1_mean_squared_error: 1.1055 - val_level2_mean_squared_error: 0.9355 - val_level3_mean_squared_error: 0.9278\n",
            "\n",
            "Epoch 00004: val_out_loss improved from 0.87007 to 0.82311, saving model to trained_models/MultiResUNet_2048_64_3_6_1.h5\n",
            "Epoch 5/300\n",
            "12/12 [==============================] - 11s 959ms/step - loss: 1.7866 - out_loss: 0.5001 - level1_loss: 0.4820 - level2_loss: 0.5049 - level3_loss: 0.4981 - out_mean_squared_error: 0.6153 - level1_mean_squared_error: 0.6028 - level2_mean_squared_error: 0.5924 - level3_mean_squared_error: 0.5939 - val_loss: 3.0288 - val_out_loss: 0.8055 - val_level1_loss: 0.8564 - val_level2_loss: 0.8623 - val_level3_loss: 0.8412 - val_out_mean_squared_error: 0.9392 - val_level1_mean_squared_error: 0.9872 - val_level2_mean_squared_error: 0.9343 - val_level3_mean_squared_error: 0.9275\n",
            "\n",
            "Epoch 00005: val_out_loss improved from 0.82311 to 0.80548, saving model to trained_models/MultiResUNet_2048_64_3_6_1.h5\n",
            "Epoch 6/300\n",
            "12/12 [==============================] - 11s 958ms/step - loss: 1.7984 - out_loss: 0.5138 - level1_loss: 0.4917 - level2_loss: 0.4932 - level3_loss: 0.4995 - out_mean_squared_error: 0.6268 - level1_mean_squared_error: 0.6134 - level2_mean_squared_error: 0.5935 - level3_mean_squared_error: 0.6014 - val_loss: 3.0072 - val_out_loss: 0.7972 - val_level1_loss: 0.8467 - val_level2_loss: 0.8602 - val_level3_loss: 0.8373 - val_out_mean_squared_error: 0.8612 - val_level1_mean_squared_error: 0.9651 - val_level2_mean_squared_error: 0.9466 - val_level3_mean_squared_error: 0.9461\n",
            "\n",
            "Epoch 00006: val_out_loss improved from 0.80548 to 0.79723, saving model to trained_models/MultiResUNet_2048_64_3_6_1.h5\n",
            "Epoch 7/300\n",
            "12/12 [==============================] - 11s 959ms/step - loss: 1.7147 - out_loss: 0.4948 - level1_loss: 0.4664 - level2_loss: 0.4643 - level3_loss: 0.4796 - out_mean_squared_error: 0.5986 - level1_mean_squared_error: 0.5851 - level2_mean_squared_error: 0.5684 - level3_mean_squared_error: 0.5751 - val_loss: 3.0063 - val_out_loss: 0.7871 - val_level1_loss: 0.8540 - val_level2_loss: 0.8644 - val_level3_loss: 0.8349 - val_out_mean_squared_error: 0.8153 - val_level1_mean_squared_error: 0.9307 - val_level2_mean_squared_error: 0.9406 - val_level3_mean_squared_error: 0.9444\n",
            "\n",
            "Epoch 00007: val_out_loss improved from 0.79723 to 0.78715, saving model to trained_models/MultiResUNet_2048_64_3_6_1.h5\n",
            "Epoch 8/300\n",
            "12/12 [==============================] - 11s 959ms/step - loss: 1.6860 - out_loss: 0.4803 - level1_loss: 0.4620 - level2_loss: 0.4556 - level3_loss: 0.4754 - out_mean_squared_error: 0.5810 - level1_mean_squared_error: 0.5719 - level2_mean_squared_error: 0.5564 - level3_mean_squared_error: 0.5757 - val_loss: 2.9769 - val_out_loss: 0.7648 - val_level1_loss: 0.8548 - val_level2_loss: 0.8597 - val_level3_loss: 0.8284 - val_out_mean_squared_error: 0.8048 - val_level1_mean_squared_error: 0.9336 - val_level2_mean_squared_error: 0.9282 - val_level3_mean_squared_error: 0.9670\n",
            "\n",
            "Epoch 00008: val_out_loss improved from 0.78715 to 0.76481, saving model to trained_models/MultiResUNet_2048_64_3_6_1.h5\n",
            "Epoch 9/300\n",
            "12/12 [==============================] - 11s 960ms/step - loss: 1.6355 - out_loss: 0.4561 - level1_loss: 0.4488 - level2_loss: 0.4446 - level3_loss: 0.4677 - out_mean_squared_error: 0.5657 - level1_mean_squared_error: 0.5490 - level2_mean_squared_error: 0.5494 - level3_mean_squared_error: 0.5728 - val_loss: 2.9968 - val_out_loss: 0.7657 - val_level1_loss: 0.8724 - val_level2_loss: 0.8621 - val_level3_loss: 0.8296 - val_out_mean_squared_error: 0.8048 - val_level1_mean_squared_error: 0.9633 - val_level2_mean_squared_error: 0.9184 - val_level3_mean_squared_error: 0.9616\n",
            "\n",
            "Epoch 00009: val_out_loss did not improve from 0.76481\n",
            "Epoch 10/300\n",
            "12/12 [==============================] - 11s 958ms/step - loss: 1.6257 - out_loss: 0.4494 - level1_loss: 0.4457 - level2_loss: 0.4468 - level3_loss: 0.4644 - out_mean_squared_error: 0.5578 - level1_mean_squared_error: 0.5580 - level2_mean_squared_error: 0.5466 - level3_mean_squared_error: 0.5569 - val_loss: 2.9738 - val_out_loss: 0.7551 - val_level1_loss: 0.8674 - val_level2_loss: 0.8570 - val_level3_loss: 0.8247 - val_out_mean_squared_error: 0.7720 - val_level1_mean_squared_error: 0.9481 - val_level2_mean_squared_error: 0.9249 - val_level3_mean_squared_error: 0.9757\n",
            "\n",
            "Epoch 00010: val_out_loss improved from 0.76481 to 0.75512, saving model to trained_models/MultiResUNet_2048_64_3_6_1.h5\n",
            "Epoch 11/300\n",
            "12/12 [==============================] - 11s 958ms/step - loss: 1.5841 - out_loss: 0.4303 - level1_loss: 0.4313 - level2_loss: 0.4370 - level3_loss: 0.4616 - out_mean_squared_error: 0.5430 - level1_mean_squared_error: 0.5423 - level2_mean_squared_error: 0.5439 - level3_mean_squared_error: 0.5619 - val_loss: 2.9545 - val_out_loss: 0.7515 - val_level1_loss: 0.8616 - val_level2_loss: 0.8518 - val_level3_loss: 0.8178 - val_out_mean_squared_error: 0.7584 - val_level1_mean_squared_error: 0.9109 - val_level2_mean_squared_error: 0.8882 - val_level3_mean_squared_error: 0.9622\n",
            "\n",
            "Epoch 00011: val_out_loss improved from 0.75512 to 0.75151, saving model to trained_models/MultiResUNet_2048_64_3_6_1.h5\n",
            "Epoch 12/300\n",
            "12/12 [==============================] - 11s 959ms/step - loss: 1.5979 - out_loss: 0.4371 - level1_loss: 0.4352 - level2_loss: 0.4465 - level3_loss: 0.4566 - out_mean_squared_error: 0.5512 - level1_mean_squared_error: 0.5444 - level2_mean_squared_error: 0.5418 - level3_mean_squared_error: 0.5618 - val_loss: 2.9228 - val_out_loss: 0.7416 - val_level1_loss: 0.8505 - val_level2_loss: 0.8425 - val_level3_loss: 0.8130 - val_out_mean_squared_error: 0.7510 - val_level1_mean_squared_error: 0.8884 - val_level2_mean_squared_error: 0.8883 - val_level3_mean_squared_error: 0.9445\n",
            "\n",
            "Epoch 00012: val_out_loss improved from 0.75151 to 0.74158, saving model to trained_models/MultiResUNet_2048_64_3_6_1.h5\n",
            "Epoch 13/300\n",
            "12/12 [==============================] - 11s 958ms/step - loss: 1.5721 - out_loss: 0.4272 - level1_loss: 0.4243 - level2_loss: 0.4329 - level3_loss: 0.4624 - out_mean_squared_error: 0.5442 - level1_mean_squared_error: 0.5399 - level2_mean_squared_error: 0.5453 - level3_mean_squared_error: 0.5414 - val_loss: 2.9408 - val_out_loss: 0.7524 - val_level1_loss: 0.8699 - val_level2_loss: 0.8393 - val_level3_loss: 0.8060 - val_out_mean_squared_error: 0.7377 - val_level1_mean_squared_error: 0.9117 - val_level2_mean_squared_error: 0.8603 - val_level3_mean_squared_error: 0.9061\n",
            "\n",
            "Epoch 00013: val_out_loss did not improve from 0.74158\n",
            "Epoch 14/300\n",
            "12/12 [==============================] - 12s 1s/step - loss: 1.5677 - out_loss: 0.4274 - level1_loss: 0.4300 - level2_loss: 0.4333 - level3_loss: 0.4511 - out_mean_squared_error: 0.5312 - level1_mean_squared_error: 0.5309 - level2_mean_squared_error: 0.5276 - level3_mean_squared_error: 0.5507 - val_loss: 2.8825 - val_out_loss: 0.7462 - val_level1_loss: 0.8386 - val_level2_loss: 0.8163 - val_level3_loss: 0.8015 - val_out_mean_squared_error: 0.7375 - val_level1_mean_squared_error: 0.8672 - val_level2_mean_squared_error: 0.8529 - val_level3_mean_squared_error: 0.9301\n",
            "\n",
            "Epoch 00014: val_out_loss did not improve from 0.74158\n",
            "Epoch 15/300\n",
            "12/12 [==============================] - 11s 957ms/step - loss: 1.5607 - out_loss: 0.4331 - level1_loss: 0.4200 - level2_loss: 0.4332 - level3_loss: 0.4478 - out_mean_squared_error: 0.5285 - level1_mean_squared_error: 0.5325 - level2_mean_squared_error: 0.5366 - level3_mean_squared_error: 0.5412 - val_loss: 2.8744 - val_out_loss: 0.7295 - val_level1_loss: 0.8443 - val_level2_loss: 0.8185 - val_level3_loss: 0.8015 - val_out_mean_squared_error: 0.7091 - val_level1_mean_squared_error: 0.8795 - val_level2_mean_squared_error: 0.8245 - val_level3_mean_squared_error: 0.8783\n",
            "\n",
            "Epoch 00015: val_out_loss improved from 0.74158 to 0.72946, saving model to trained_models/MultiResUNet_2048_64_3_6_1.h5\n",
            "Epoch 16/300\n",
            "12/12 [==============================] - 11s 959ms/step - loss: 1.5390 - out_loss: 0.4216 - level1_loss: 0.4244 - level2_loss: 0.4218 - level3_loss: 0.4422 - out_mean_squared_error: 0.5281 - level1_mean_squared_error: 0.5209 - level2_mean_squared_error: 0.5258 - level3_mean_squared_error: 0.5388 - val_loss: 2.8151 - val_out_loss: 0.7124 - val_level1_loss: 0.8206 - val_level2_loss: 0.8024 - val_level3_loss: 0.7926 - val_out_mean_squared_error: 0.6960 - val_level1_mean_squared_error: 0.8589 - val_level2_mean_squared_error: 0.8158 - val_level3_mean_squared_error: 0.8605\n",
            "\n",
            "Epoch 00016: val_out_loss improved from 0.72946 to 0.71244, saving model to trained_models/MultiResUNet_2048_64_3_6_1.h5\n",
            "Epoch 17/300\n",
            "12/12 [==============================] - 11s 956ms/step - loss: 1.5354 - out_loss: 0.4173 - level1_loss: 0.4237 - level2_loss: 0.4185 - level3_loss: 0.4466 - out_mean_squared_error: 0.5235 - level1_mean_squared_error: 0.5294 - level2_mean_squared_error: 0.5302 - level3_mean_squared_error: 0.5489 - val_loss: 2.8042 - val_out_loss: 0.7145 - val_level1_loss: 0.8165 - val_level2_loss: 0.7988 - val_level3_loss: 0.7860 - val_out_mean_squared_error: 0.6806 - val_level1_mean_squared_error: 0.8130 - val_level2_mean_squared_error: 0.7896 - val_level3_mean_squared_error: 0.8363\n",
            "\n",
            "Epoch 00017: val_out_loss did not improve from 0.71244\n",
            "Epoch 18/300\n",
            "12/12 [==============================] - 11s 959ms/step - loss: 1.5317 - out_loss: 0.4197 - level1_loss: 0.4183 - level2_loss: 0.4210 - level3_loss: 0.4429 - out_mean_squared_error: 0.5220 - level1_mean_squared_error: 0.5200 - level2_mean_squared_error: 0.5269 - level3_mean_squared_error: 0.5343 - val_loss: 2.7411 - val_out_loss: 0.6871 - val_level1_loss: 0.7914 - val_level2_loss: 0.7925 - val_level3_loss: 0.7746 - val_out_mean_squared_error: 0.6592 - val_level1_mean_squared_error: 0.7976 - val_level2_mean_squared_error: 0.7835 - val_level3_mean_squared_error: 0.8281\n",
            "\n",
            "Epoch 00018: val_out_loss improved from 0.71244 to 0.68714, saving model to trained_models/MultiResUNet_2048_64_3_6_1.h5\n",
            "Epoch 19/300\n",
            "12/12 [==============================] - 11s 957ms/step - loss: 1.5126 - out_loss: 0.4134 - level1_loss: 0.4124 - level2_loss: 0.4204 - level3_loss: 0.4345 - out_mean_squared_error: 0.5229 - level1_mean_squared_error: 0.5185 - level2_mean_squared_error: 0.5198 - level3_mean_squared_error: 0.5285 - val_loss: 2.6789 - val_out_loss: 0.6810 - val_level1_loss: 0.7744 - val_level2_loss: 0.7623 - val_level3_loss: 0.7589 - val_out_mean_squared_error: 0.6473 - val_level1_mean_squared_error: 0.7693 - val_level2_mean_squared_error: 0.7427 - val_level3_mean_squared_error: 0.7937\n",
            "\n",
            "Epoch 00019: val_out_loss improved from 0.68714 to 0.68097, saving model to trained_models/MultiResUNet_2048_64_3_6_1.h5\n",
            "Epoch 20/300\n",
            "12/12 [==============================] - 11s 959ms/step - loss: 1.5036 - out_loss: 0.4122 - level1_loss: 0.4077 - level2_loss: 0.4132 - level3_loss: 0.4376 - out_mean_squared_error: 0.5141 - level1_mean_squared_error: 0.5084 - level2_mean_squared_error: 0.5177 - level3_mean_squared_error: 0.5321 - val_loss: 2.6003 - val_out_loss: 0.6613 - val_level1_loss: 0.7450 - val_level2_loss: 0.7474 - val_level3_loss: 0.7356 - val_out_mean_squared_error: 0.6294 - val_level1_mean_squared_error: 0.7184 - val_level2_mean_squared_error: 0.7115 - val_level3_mean_squared_error: 0.7304\n",
            "\n",
            "Epoch 00020: val_out_loss improved from 0.68097 to 0.66127, saving model to trained_models/MultiResUNet_2048_64_3_6_1.h5\n",
            "Epoch 21/300\n",
            "12/12 [==============================] - 11s 958ms/step - loss: 1.4891 - out_loss: 0.4098 - level1_loss: 0.4059 - level2_loss: 0.4083 - level3_loss: 0.4305 - out_mean_squared_error: 0.5192 - level1_mean_squared_error: 0.5125 - level2_mean_squared_error: 0.5136 - level3_mean_squared_error: 0.5252 - val_loss: 2.5902 - val_out_loss: 0.6641 - val_level1_loss: 0.7403 - val_level2_loss: 0.7448 - val_level3_loss: 0.7288 - val_out_mean_squared_error: 0.6336 - val_level1_mean_squared_error: 0.7277 - val_level2_mean_squared_error: 0.7199 - val_level3_mean_squared_error: 0.7358\n",
            "\n",
            "Epoch 00021: val_out_loss did not improve from 0.66127\n",
            "Epoch 22/300\n",
            "12/12 [==============================] - 11s 960ms/step - loss: 1.4745 - out_loss: 0.4036 - level1_loss: 0.4029 - level2_loss: 0.4052 - level3_loss: 0.4267 - out_mean_squared_error: 0.5079 - level1_mean_squared_error: 0.5104 - level2_mean_squared_error: 0.5110 - level3_mean_squared_error: 0.5200 - val_loss: 2.5551 - val_out_loss: 0.6544 - val_level1_loss: 0.7313 - val_level2_loss: 0.7339 - val_level3_loss: 0.7194 - val_out_mean_squared_error: 0.6173 - val_level1_mean_squared_error: 0.7116 - val_level2_mean_squared_error: 0.7170 - val_level3_mean_squared_error: 0.7167\n",
            "\n",
            "Epoch 00022: val_out_loss improved from 0.66127 to 0.65436, saving model to trained_models/MultiResUNet_2048_64_3_6_1.h5\n",
            "Epoch 23/300\n",
            "12/12 [==============================] - 12s 962ms/step - loss: 1.4795 - out_loss: 0.4059 - level1_loss: 0.4043 - level2_loss: 0.4076 - level3_loss: 0.4260 - out_mean_squared_error: 0.5071 - level1_mean_squared_error: 0.5049 - level2_mean_squared_error: 0.5046 - level3_mean_squared_error: 0.5164 - val_loss: 2.5030 - val_out_loss: 0.6584 - val_level1_loss: 0.7151 - val_level2_loss: 0.7092 - val_level3_loss: 0.6983 - val_out_mean_squared_error: 0.6145 - val_level1_mean_squared_error: 0.7011 - val_level2_mean_squared_error: 0.6764 - val_level3_mean_squared_error: 0.6937\n",
            "\n",
            "Epoch 00023: val_out_loss did not improve from 0.65436\n",
            "Epoch 24/300\n",
            "12/12 [==============================] - 11s 959ms/step - loss: 1.5316 - out_loss: 0.4263 - level1_loss: 0.4129 - level2_loss: 0.4190 - level3_loss: 0.4435 - out_mean_squared_error: 0.5036 - level1_mean_squared_error: 0.5066 - level2_mean_squared_error: 0.5114 - level3_mean_squared_error: 0.5264 - val_loss: 2.4414 - val_out_loss: 0.6525 - val_level1_loss: 0.6930 - val_level2_loss: 0.6874 - val_level3_loss: 0.6798 - val_out_mean_squared_error: 0.6199 - val_level1_mean_squared_error: 0.6509 - val_level2_mean_squared_error: 0.6444 - val_level3_mean_squared_error: 0.6380\n",
            "\n",
            "Epoch 00024: val_out_loss improved from 0.65436 to 0.65252, saving model to trained_models/MultiResUNet_2048_64_3_6_1.h5\n",
            "Epoch 25/300\n",
            "12/12 [==============================] - 11s 958ms/step - loss: 1.4936 - out_loss: 0.4058 - level1_loss: 0.4057 - level2_loss: 0.4153 - level3_loss: 0.4329 - out_mean_squared_error: 0.5101 - level1_mean_squared_error: 0.5064 - level2_mean_squared_error: 0.5082 - level3_mean_squared_error: 0.5238 - val_loss: 2.3690 - val_out_loss: 0.6237 - val_level1_loss: 0.6744 - val_level2_loss: 0.6680 - val_level3_loss: 0.6661 - val_out_mean_squared_error: 0.5970 - val_level1_mean_squared_error: 0.6342 - val_level2_mean_squared_error: 0.6300 - val_level3_mean_squared_error: 0.6352\n",
            "\n",
            "Epoch 00025: val_out_loss improved from 0.65252 to 0.62372, saving model to trained_models/MultiResUNet_2048_64_3_6_1.h5\n",
            "Epoch 26/300\n",
            "12/12 [==============================] - 12s 961ms/step - loss: 1.4483 - out_loss: 0.3947 - level1_loss: 0.3966 - level2_loss: 0.3998 - level3_loss: 0.4181 - out_mean_squared_error: 0.4997 - level1_mean_squared_error: 0.5020 - level2_mean_squared_error: 0.5049 - level3_mean_squared_error: 0.5137 - val_loss: 2.2249 - val_out_loss: 0.5762 - val_level1_loss: 0.6150 - val_level2_loss: 0.6398 - val_level3_loss: 0.6412 - val_out_mean_squared_error: 0.5856 - val_level1_mean_squared_error: 0.6234 - val_level2_mean_squared_error: 0.6165 - val_level3_mean_squared_error: 0.6341\n",
            "\n",
            "Epoch 00026: val_out_loss improved from 0.62372 to 0.57623, saving model to trained_models/MultiResUNet_2048_64_3_6_1.h5\n",
            "Epoch 27/300\n",
            "12/12 [==============================] - 11s 959ms/step - loss: 1.4455 - out_loss: 0.3924 - level1_loss: 0.3940 - level2_loss: 0.4005 - level3_loss: 0.4192 - out_mean_squared_error: 0.4974 - level1_mean_squared_error: 0.4919 - level2_mean_squared_error: 0.5001 - level3_mean_squared_error: 0.5083 - val_loss: 2.1531 - val_out_loss: 0.5499 - val_level1_loss: 0.5913 - val_level2_loss: 0.6235 - val_level3_loss: 0.6277 - val_out_mean_squared_error: 0.5823 - val_level1_mean_squared_error: 0.6170 - val_level2_mean_squared_error: 0.6049 - val_level3_mean_squared_error: 0.6240\n",
            "\n",
            "Epoch 00027: val_out_loss improved from 0.57623 to 0.54989, saving model to trained_models/MultiResUNet_2048_64_3_6_1.h5\n",
            "Epoch 28/300\n",
            "12/12 [==============================] - 11s 960ms/step - loss: 1.4460 - out_loss: 0.3967 - level1_loss: 0.3912 - level2_loss: 0.3964 - level3_loss: 0.4223 - out_mean_squared_error: 0.4941 - level1_mean_squared_error: 0.4965 - level2_mean_squared_error: 0.4973 - level3_mean_squared_error: 0.5074 - val_loss: 2.2011 - val_out_loss: 0.5643 - val_level1_loss: 0.5943 - val_level2_loss: 0.6382 - val_level3_loss: 0.6490 - val_out_mean_squared_error: 0.5635 - val_level1_mean_squared_error: 0.5980 - val_level2_mean_squared_error: 0.6105 - val_level3_mean_squared_error: 0.6122\n",
            "\n",
            "Epoch 00028: val_out_loss did not improve from 0.54989\n",
            "Epoch 29/300\n",
            "12/12 [==============================] - 11s 961ms/step - loss: 1.4345 - out_loss: 0.3905 - level1_loss: 0.3927 - level2_loss: 0.3941 - level3_loss: 0.4166 - out_mean_squared_error: 0.4942 - level1_mean_squared_error: 0.4971 - level2_mean_squared_error: 0.4999 - level3_mean_squared_error: 0.5178 - val_loss: 2.0987 - val_out_loss: 0.5467 - val_level1_loss: 0.5818 - val_level2_loss: 0.5917 - val_level3_loss: 0.6118 - val_out_mean_squared_error: 0.5541 - val_level1_mean_squared_error: 0.5708 - val_level2_mean_squared_error: 0.5689 - val_level3_mean_squared_error: 0.5873\n",
            "\n",
            "Epoch 00029: val_out_loss improved from 0.54989 to 0.54666, saving model to trained_models/MultiResUNet_2048_64_3_6_1.h5\n",
            "Epoch 30/300\n",
            "12/12 [==============================] - 11s 958ms/step - loss: 1.4352 - out_loss: 0.3916 - level1_loss: 0.3936 - level2_loss: 0.3946 - level3_loss: 0.4148 - out_mean_squared_error: 0.4957 - level1_mean_squared_error: 0.4938 - level2_mean_squared_error: 0.4980 - level3_mean_squared_error: 0.5105 - val_loss: 2.1532 - val_out_loss: 0.5645 - val_level1_loss: 0.6011 - val_level2_loss: 0.6110 - val_level3_loss: 0.6158 - val_out_mean_squared_error: 0.5611 - val_level1_mean_squared_error: 0.6121 - val_level2_mean_squared_error: 0.5966 - val_level3_mean_squared_error: 0.5881\n",
            "\n",
            "Epoch 00030: val_out_loss did not improve from 0.54666\n",
            "Epoch 31/300\n",
            "12/12 [==============================] - 11s 959ms/step - loss: 1.4211 - out_loss: 0.3870 - level1_loss: 0.3903 - level2_loss: 0.3899 - level3_loss: 0.4118 - out_mean_squared_error: 0.4885 - level1_mean_squared_error: 0.4840 - level2_mean_squared_error: 0.4928 - level3_mean_squared_error: 0.5013 - val_loss: 1.9888 - val_out_loss: 0.5122 - val_level1_loss: 0.5524 - val_level2_loss: 0.5689 - val_level3_loss: 0.5762 - val_out_mean_squared_error: 0.5557 - val_level1_mean_squared_error: 0.5957 - val_level2_mean_squared_error: 0.5815 - val_level3_mean_squared_error: 0.5889\n",
            "\n",
            "Epoch 00031: val_out_loss improved from 0.54666 to 0.51222, saving model to trained_models/MultiResUNet_2048_64_3_6_1.h5\n",
            "Epoch 32/300\n",
            "12/12 [==============================] - 11s 959ms/step - loss: 1.4242 - out_loss: 0.3887 - level1_loss: 0.3864 - level2_loss: 0.3924 - level3_loss: 0.4150 - out_mean_squared_error: 0.4875 - level1_mean_squared_error: 0.4922 - level2_mean_squared_error: 0.4878 - level3_mean_squared_error: 0.5070 - val_loss: 1.8623 - val_out_loss: 0.4937 - val_level1_loss: 0.5085 - val_level2_loss: 0.5249 - val_level3_loss: 0.5420 - val_out_mean_squared_error: 0.5366 - val_level1_mean_squared_error: 0.5367 - val_level2_mean_squared_error: 0.5293 - val_level3_mean_squared_error: 0.5531\n",
            "\n",
            "Epoch 00032: val_out_loss improved from 0.51222 to 0.49370, saving model to trained_models/MultiResUNet_2048_64_3_6_1.h5\n",
            "Epoch 33/300\n",
            "12/12 [==============================] - 11s 959ms/step - loss: 1.4186 - out_loss: 0.3859 - level1_loss: 0.3843 - level2_loss: 0.3918 - level3_loss: 0.4141 - out_mean_squared_error: 0.4918 - level1_mean_squared_error: 0.4909 - level2_mean_squared_error: 0.4948 - level3_mean_squared_error: 0.5127 - val_loss: 1.8333 - val_out_loss: 0.4760 - val_level1_loss: 0.5072 - val_level2_loss: 0.5308 - val_level3_loss: 0.5231 - val_out_mean_squared_error: 0.5482 - val_level1_mean_squared_error: 0.5564 - val_level2_mean_squared_error: 0.5502 - val_level3_mean_squared_error: 0.5410\n",
            "\n",
            "Epoch 00033: val_out_loss improved from 0.49370 to 0.47598, saving model to trained_models/MultiResUNet_2048_64_3_6_1.h5\n",
            "Epoch 34/300\n",
            "12/12 [==============================] - 11s 960ms/step - loss: 1.3986 - out_loss: 0.3793 - level1_loss: 0.3823 - level2_loss: 0.3883 - level3_loss: 0.4041 - out_mean_squared_error: 0.4798 - level1_mean_squared_error: 0.4790 - level2_mean_squared_error: 0.4851 - level3_mean_squared_error: 0.5019 - val_loss: 1.8091 - val_out_loss: 0.4701 - val_level1_loss: 0.5081 - val_level2_loss: 0.5168 - val_level3_loss: 0.5151 - val_out_mean_squared_error: 0.5338 - val_level1_mean_squared_error: 0.5314 - val_level2_mean_squared_error: 0.5378 - val_level3_mean_squared_error: 0.5442\n",
            "\n",
            "Epoch 00034: val_out_loss improved from 0.47598 to 0.47011, saving model to trained_models/MultiResUNet_2048_64_3_6_1.h5\n",
            "Epoch 35/300\n",
            "12/12 [==============================] - 11s 959ms/step - loss: 1.3979 - out_loss: 0.3833 - level1_loss: 0.3821 - level2_loss: 0.3872 - level3_loss: 0.4007 - out_mean_squared_error: 0.4831 - level1_mean_squared_error: 0.4862 - level2_mean_squared_error: 0.4869 - level3_mean_squared_error: 0.4952 - val_loss: 1.7854 - val_out_loss: 0.4639 - val_level1_loss: 0.4918 - val_level2_loss: 0.5073 - val_level3_loss: 0.5208 - val_out_mean_squared_error: 0.5476 - val_level1_mean_squared_error: 0.5500 - val_level2_mean_squared_error: 0.5452 - val_level3_mean_squared_error: 0.5482\n",
            "\n",
            "Epoch 00035: val_out_loss improved from 0.47011 to 0.46387, saving model to trained_models/MultiResUNet_2048_64_3_6_1.h5\n",
            "Epoch 36/300\n",
            "12/12 [==============================] - 11s 961ms/step - loss: 1.4222 - out_loss: 0.3879 - level1_loss: 0.3867 - level2_loss: 0.3943 - level3_loss: 0.4113 - out_mean_squared_error: 0.4896 - level1_mean_squared_error: 0.4939 - level2_mean_squared_error: 0.4959 - level3_mean_squared_error: 0.5091 - val_loss: 1.8213 - val_out_loss: 0.4740 - val_level1_loss: 0.5051 - val_level2_loss: 0.5232 - val_level3_loss: 0.5213 - val_out_mean_squared_error: 0.5627 - val_level1_mean_squared_error: 0.5710 - val_level2_mean_squared_error: 0.5642 - val_level3_mean_squared_error: 0.5687\n",
            "\n",
            "Epoch 00036: val_out_loss did not improve from 0.46387\n",
            "Epoch 37/300\n",
            "12/12 [==============================] - 12s 962ms/step - loss: 1.4096 - out_loss: 0.3825 - level1_loss: 0.3817 - level2_loss: 0.3878 - level3_loss: 0.4142 - out_mean_squared_error: 0.4850 - level1_mean_squared_error: 0.4829 - level2_mean_squared_error: 0.4859 - level3_mean_squared_error: 0.5011 - val_loss: 1.6881 - val_out_loss: 0.4390 - val_level1_loss: 0.4512 - val_level2_loss: 0.4774 - val_level3_loss: 0.5080 - val_out_mean_squared_error: 0.5395 - val_level1_mean_squared_error: 0.5383 - val_level2_mean_squared_error: 0.5262 - val_level3_mean_squared_error: 0.5423\n",
            "\n",
            "Epoch 00037: val_out_loss improved from 0.46387 to 0.43902, saving model to trained_models/MultiResUNet_2048_64_3_6_1.h5\n",
            "Epoch 38/300\n",
            "12/12 [==============================] - 11s 959ms/step - loss: 1.3656 - out_loss: 0.3729 - level1_loss: 0.3719 - level2_loss: 0.3764 - level3_loss: 0.3961 - out_mean_squared_error: 0.4783 - level1_mean_squared_error: 0.4752 - level2_mean_squared_error: 0.4760 - level3_mean_squared_error: 0.4871 - val_loss: 1.6312 - val_out_loss: 0.4324 - val_level1_loss: 0.4403 - val_level2_loss: 0.4596 - val_level3_loss: 0.4801 - val_out_mean_squared_error: 0.5460 - val_level1_mean_squared_error: 0.5364 - val_level2_mean_squared_error: 0.5287 - val_level3_mean_squared_error: 0.5380\n",
            "\n",
            "Epoch 00038: val_out_loss improved from 0.43902 to 0.43242, saving model to trained_models/MultiResUNet_2048_64_3_6_1.h5\n",
            "Epoch 39/300\n",
            "12/12 [==============================] - 11s 960ms/step - loss: 1.3934 - out_loss: 0.3776 - level1_loss: 0.3791 - level2_loss: 0.3861 - level3_loss: 0.4055 - out_mean_squared_error: 0.4840 - level1_mean_squared_error: 0.4871 - level2_mean_squared_error: 0.4926 - level3_mean_squared_error: 0.5033 - val_loss: 1.7293 - val_out_loss: 0.4588 - val_level1_loss: 0.4848 - val_level2_loss: 0.4781 - val_level3_loss: 0.4998 - val_out_mean_squared_error: 0.5351 - val_level1_mean_squared_error: 0.5321 - val_level2_mean_squared_error: 0.5359 - val_level3_mean_squared_error: 0.5583\n",
            "\n",
            "Epoch 00039: val_out_loss did not improve from 0.43242\n",
            "Epoch 40/300\n",
            "12/12 [==============================] - 11s 960ms/step - loss: 1.3986 - out_loss: 0.3805 - level1_loss: 0.3828 - level2_loss: 0.3846 - level3_loss: 0.4062 - out_mean_squared_error: 0.4784 - level1_mean_squared_error: 0.4821 - level2_mean_squared_error: 0.4826 - level3_mean_squared_error: 0.5003 - val_loss: 1.5728 - val_out_loss: 0.4188 - val_level1_loss: 0.4222 - val_level2_loss: 0.4423 - val_level3_loss: 0.4643 - val_out_mean_squared_error: 0.5525 - val_level1_mean_squared_error: 0.5483 - val_level2_mean_squared_error: 0.5312 - val_level3_mean_squared_error: 0.5429\n",
            "\n",
            "Epoch 00040: val_out_loss improved from 0.43242 to 0.41879, saving model to trained_models/MultiResUNet_2048_64_3_6_1.h5\n",
            "Epoch 41/300\n",
            "12/12 [==============================] - 11s 960ms/step - loss: 1.3854 - out_loss: 0.3755 - level1_loss: 0.3794 - level2_loss: 0.3807 - level3_loss: 0.4037 - out_mean_squared_error: 0.4766 - level1_mean_squared_error: 0.4786 - level2_mean_squared_error: 0.4787 - level3_mean_squared_error: 0.4926 - val_loss: 1.5949 - val_out_loss: 0.4197 - val_level1_loss: 0.4340 - val_level2_loss: 0.4551 - val_level3_loss: 0.4633 - val_out_mean_squared_error: 0.5438 - val_level1_mean_squared_error: 0.5351 - val_level2_mean_squared_error: 0.5305 - val_level3_mean_squared_error: 0.5254\n",
            "\n",
            "Epoch 00041: val_out_loss did not improve from 0.41879\n",
            "Epoch 42/300\n",
            "12/12 [==============================] - 11s 959ms/step - loss: 1.3855 - out_loss: 0.3767 - level1_loss: 0.3763 - level2_loss: 0.3840 - level3_loss: 0.4025 - out_mean_squared_error: 0.4800 - level1_mean_squared_error: 0.4755 - level2_mean_squared_error: 0.4801 - level3_mean_squared_error: 0.4910 - val_loss: 1.6065 - val_out_loss: 0.4272 - val_level1_loss: 0.4336 - val_level2_loss: 0.4569 - val_level3_loss: 0.4673 - val_out_mean_squared_error: 0.5479 - val_level1_mean_squared_error: 0.5332 - val_level2_mean_squared_error: 0.5215 - val_level3_mean_squared_error: 0.5376\n",
            "\n",
            "Epoch 00042: val_out_loss did not improve from 0.41879\n",
            "Epoch 43/300\n",
            "12/12 [==============================] - 11s 960ms/step - loss: 1.3745 - out_loss: 0.3753 - level1_loss: 0.3742 - level2_loss: 0.3798 - level3_loss: 0.3979 - out_mean_squared_error: 0.4784 - level1_mean_squared_error: 0.4788 - level2_mean_squared_error: 0.4824 - level3_mean_squared_error: 0.4915 - val_loss: 1.6390 - val_out_loss: 0.4372 - val_level1_loss: 0.4471 - val_level2_loss: 0.4601 - val_level3_loss: 0.4766 - val_out_mean_squared_error: 0.5325 - val_level1_mean_squared_error: 0.5309 - val_level2_mean_squared_error: 0.5291 - val_level3_mean_squared_error: 0.5438\n",
            "\n",
            "Epoch 00043: val_out_loss did not improve from 0.41879\n",
            "Epoch 44/300\n",
            "12/12 [==============================] - 12s 1s/step - loss: 1.3490 - out_loss: 0.3707 - level1_loss: 0.3667 - level2_loss: 0.3716 - level3_loss: 0.3899 - out_mean_squared_error: 0.4676 - level1_mean_squared_error: 0.4700 - level2_mean_squared_error: 0.4695 - level3_mean_squared_error: 0.4810 - val_loss: 1.5409 - val_out_loss: 0.4154 - val_level1_loss: 0.4197 - val_level2_loss: 0.4285 - val_level3_loss: 0.4485 - val_out_mean_squared_error: 0.5501 - val_level1_mean_squared_error: 0.5280 - val_level2_mean_squared_error: 0.5262 - val_level3_mean_squared_error: 0.5246\n",
            "\n",
            "Epoch 00044: val_out_loss improved from 0.41879 to 0.41538, saving model to trained_models/MultiResUNet_2048_64_3_6_1.h5\n",
            "Epoch 45/300\n",
            "12/12 [==============================] - 11s 958ms/step - loss: 1.3490 - out_loss: 0.3698 - level1_loss: 0.3666 - level2_loss: 0.3728 - level3_loss: 0.3898 - out_mean_squared_error: 0.4725 - level1_mean_squared_error: 0.4719 - level2_mean_squared_error: 0.4744 - level3_mean_squared_error: 0.4865 - val_loss: 1.5793 - val_out_loss: 0.4226 - val_level1_loss: 0.4246 - val_level2_loss: 0.4348 - val_level3_loss: 0.4728 - val_out_mean_squared_error: 0.5292 - val_level1_mean_squared_error: 0.5251 - val_level2_mean_squared_error: 0.5201 - val_level3_mean_squared_error: 0.5095\n",
            "\n",
            "Epoch 00045: val_out_loss did not improve from 0.41538\n",
            "Epoch 46/300\n",
            "12/12 [==============================] - 11s 959ms/step - loss: 1.3713 - out_loss: 0.3756 - level1_loss: 0.3714 - level2_loss: 0.3779 - level3_loss: 0.3987 - out_mean_squared_error: 0.4735 - level1_mean_squared_error: 0.4776 - level2_mean_squared_error: 0.4818 - level3_mean_squared_error: 0.4824 - val_loss: 1.6604 - val_out_loss: 0.4376 - val_level1_loss: 0.4598 - val_level2_loss: 0.4574 - val_level3_loss: 0.4900 - val_out_mean_squared_error: 0.5437 - val_level1_mean_squared_error: 0.5370 - val_level2_mean_squared_error: 0.5320 - val_level3_mean_squared_error: 0.5177\n",
            "\n",
            "Epoch 00046: val_out_loss did not improve from 0.41538\n",
            "Epoch 47/300\n",
            "12/12 [==============================] - 12s 961ms/step - loss: 1.3622 - out_loss: 0.3711 - level1_loss: 0.3727 - level2_loss: 0.3766 - level3_loss: 0.3932 - out_mean_squared_error: 0.4757 - level1_mean_squared_error: 0.4680 - level2_mean_squared_error: 0.4750 - level3_mean_squared_error: 0.4842 - val_loss: 1.6230 - val_out_loss: 0.4251 - val_level1_loss: 0.4388 - val_level2_loss: 0.4574 - val_level3_loss: 0.4820 - val_out_mean_squared_error: 0.5418 - val_level1_mean_squared_error: 0.5446 - val_level2_mean_squared_error: 0.5324 - val_level3_mean_squared_error: 0.5254\n",
            "\n",
            "Epoch 00047: val_out_loss did not improve from 0.41538\n",
            "Epoch 48/300\n",
            "12/12 [==============================] - 11s 959ms/step - loss: 1.3558 - out_loss: 0.3684 - level1_loss: 0.3696 - level2_loss: 0.3780 - level3_loss: 0.3904 - out_mean_squared_error: 0.4729 - level1_mean_squared_error: 0.4761 - level2_mean_squared_error: 0.4754 - level3_mean_squared_error: 0.4826 - val_loss: 1.5857 - val_out_loss: 0.4196 - val_level1_loss: 0.4343 - val_level2_loss: 0.4326 - val_level3_loss: 0.4755 - val_out_mean_squared_error: 0.5508 - val_level1_mean_squared_error: 0.5537 - val_level2_mean_squared_error: 0.5447 - val_level3_mean_squared_error: 0.5291\n",
            "\n",
            "Epoch 00048: val_out_loss did not improve from 0.41538\n",
            "Epoch 49/300\n",
            "12/12 [==============================] - 12s 961ms/step - loss: 1.3244 - out_loss: 0.3603 - level1_loss: 0.3615 - level2_loss: 0.3682 - level3_loss: 0.3815 - out_mean_squared_error: 0.4664 - level1_mean_squared_error: 0.4681 - level2_mean_squared_error: 0.4699 - level3_mean_squared_error: 0.4743 - val_loss: 1.5576 - val_out_loss: 0.4131 - val_level1_loss: 0.4221 - val_level2_loss: 0.4318 - val_level3_loss: 0.4636 - val_out_mean_squared_error: 0.5364 - val_level1_mean_squared_error: 0.5272 - val_level2_mean_squared_error: 0.5257 - val_level3_mean_squared_error: 0.5057\n",
            "\n",
            "Epoch 00049: val_out_loss improved from 0.41538 to 0.41308, saving model to trained_models/MultiResUNet_2048_64_3_6_1.h5\n",
            "Epoch 50/300\n",
            "12/12 [==============================] - 11s 958ms/step - loss: 1.3342 - out_loss: 0.3641 - level1_loss: 0.3658 - level2_loss: 0.3676 - level3_loss: 0.3849 - out_mean_squared_error: 0.4688 - level1_mean_squared_error: 0.4676 - level2_mean_squared_error: 0.4704 - level3_mean_squared_error: 0.4793 - val_loss: 1.5574 - val_out_loss: 0.4122 - val_level1_loss: 0.4198 - val_level2_loss: 0.4335 - val_level3_loss: 0.4649 - val_out_mean_squared_error: 0.5339 - val_level1_mean_squared_error: 0.5422 - val_level2_mean_squared_error: 0.5359 - val_level3_mean_squared_error: 0.5191\n",
            "\n",
            "Epoch 00050: val_out_loss improved from 0.41308 to 0.41219, saving model to trained_models/MultiResUNet_2048_64_3_6_1.h5\n",
            "Epoch 51/300\n",
            "12/12 [==============================] - 11s 958ms/step - loss: 1.3273 - out_loss: 0.3632 - level1_loss: 0.3606 - level2_loss: 0.3673 - level3_loss: 0.3837 - out_mean_squared_error: 0.4588 - level1_mean_squared_error: 0.4628 - level2_mean_squared_error: 0.4604 - level3_mean_squared_error: 0.4736 - val_loss: 1.5917 - val_out_loss: 0.4291 - val_level1_loss: 0.4316 - val_level2_loss: 0.4391 - val_level3_loss: 0.4687 - val_out_mean_squared_error: 0.5795 - val_level1_mean_squared_error: 0.5611 - val_level2_mean_squared_error: 0.5441 - val_level3_mean_squared_error: 0.5335\n",
            "\n",
            "Epoch 00051: val_out_loss did not improve from 0.41219\n",
            "Epoch 52/300\n",
            "12/12 [==============================] - 11s 960ms/step - loss: 1.3612 - out_loss: 0.3722 - level1_loss: 0.3689 - level2_loss: 0.3751 - level3_loss: 0.3963 - out_mean_squared_error: 0.4721 - level1_mean_squared_error: 0.4645 - level2_mean_squared_error: 0.4703 - level3_mean_squared_error: 0.4910 - val_loss: 1.6070 - val_out_loss: 0.4308 - val_level1_loss: 0.4336 - val_level2_loss: 0.4456 - val_level3_loss: 0.4755 - val_out_mean_squared_error: 0.5334 - val_level1_mean_squared_error: 0.5344 - val_level2_mean_squared_error: 0.5374 - val_level3_mean_squared_error: 0.5162\n",
            "\n",
            "Epoch 00052: val_out_loss did not improve from 0.41219\n",
            "Epoch 53/300\n",
            "12/12 [==============================] - 11s 961ms/step - loss: 1.3319 - out_loss: 0.3630 - level1_loss: 0.3634 - level2_loss: 0.3674 - level3_loss: 0.3861 - out_mean_squared_error: 0.4652 - level1_mean_squared_error: 0.4659 - level2_mean_squared_error: 0.4676 - level3_mean_squared_error: 0.4752 - val_loss: 1.5656 - val_out_loss: 0.4214 - val_level1_loss: 0.4274 - val_level2_loss: 0.4372 - val_level3_loss: 0.4535 - val_out_mean_squared_error: 0.5390 - val_level1_mean_squared_error: 0.5390 - val_level2_mean_squared_error: 0.5315 - val_level3_mean_squared_error: 0.5324\n",
            "\n",
            "Epoch 00053: val_out_loss did not improve from 0.41219\n",
            "Epoch 54/300\n",
            "12/12 [==============================] - 12s 1s/step - loss: 1.3374 - out_loss: 0.3664 - level1_loss: 0.3636 - level2_loss: 0.3701 - level3_loss: 0.3858 - out_mean_squared_error: 0.4660 - level1_mean_squared_error: 0.4662 - level2_mean_squared_error: 0.4650 - level3_mean_squared_error: 0.4734 - val_loss: 1.5193 - val_out_loss: 0.4097 - val_level1_loss: 0.4101 - val_level2_loss: 0.4235 - val_level3_loss: 0.4448 - val_out_mean_squared_error: 0.5373 - val_level1_mean_squared_error: 0.5332 - val_level2_mean_squared_error: 0.5274 - val_level3_mean_squared_error: 0.5321\n",
            "\n",
            "Epoch 00054: val_out_loss improved from 0.41219 to 0.40974, saving model to trained_models/MultiResUNet_2048_64_3_6_1.h5\n",
            "Epoch 55/300\n",
            "12/12 [==============================] - 12s 961ms/step - loss: 1.3501 - out_loss: 0.3683 - level1_loss: 0.3676 - level2_loss: 0.3720 - level3_loss: 0.3922 - out_mean_squared_error: 0.4717 - level1_mean_squared_error: 0.4693 - level2_mean_squared_error: 0.4700 - level3_mean_squared_error: 0.4830 - val_loss: 1.5242 - val_out_loss: 0.4116 - val_level1_loss: 0.4146 - val_level2_loss: 0.4201 - val_level3_loss: 0.4472 - val_out_mean_squared_error: 0.5583 - val_level1_mean_squared_error: 0.5525 - val_level2_mean_squared_error: 0.5412 - val_level3_mean_squared_error: 0.5347\n",
            "\n",
            "Epoch 00055: val_out_loss did not improve from 0.40974\n",
            "Epoch 56/300\n",
            "12/12 [==============================] - 11s 959ms/step - loss: 1.3265 - out_loss: 0.3635 - level1_loss: 0.3615 - level2_loss: 0.3653 - level3_loss: 0.3836 - out_mean_squared_error: 0.4614 - level1_mean_squared_error: 0.4612 - level2_mean_squared_error: 0.4601 - level3_mean_squared_error: 0.4715 - val_loss: 1.5579 - val_out_loss: 0.4210 - val_level1_loss: 0.4263 - val_level2_loss: 0.4341 - val_level3_loss: 0.4495 - val_out_mean_squared_error: 0.5702 - val_level1_mean_squared_error: 0.5650 - val_level2_mean_squared_error: 0.5632 - val_level3_mean_squared_error: 0.5398\n",
            "\n",
            "Epoch 00056: val_out_loss did not improve from 0.40974\n",
            "Epoch 57/300\n",
            "12/12 [==============================] - 12s 961ms/step - loss: 1.3309 - out_loss: 0.3633 - level1_loss: 0.3622 - level2_loss: 0.3730 - level3_loss: 0.3802 - out_mean_squared_error: 0.4618 - level1_mean_squared_error: 0.4642 - level2_mean_squared_error: 0.4623 - level3_mean_squared_error: 0.4673 - val_loss: 1.5128 - val_out_loss: 0.4070 - val_level1_loss: 0.4128 - val_level2_loss: 0.4203 - val_level3_loss: 0.4408 - val_out_mean_squared_error: 0.5527 - val_level1_mean_squared_error: 0.5369 - val_level2_mean_squared_error: 0.5363 - val_level3_mean_squared_error: 0.5198\n",
            "\n",
            "Epoch 00057: val_out_loss improved from 0.40974 to 0.40697, saving model to trained_models/MultiResUNet_2048_64_3_6_1.h5\n",
            "Epoch 58/300\n",
            "12/12 [==============================] - 11s 960ms/step - loss: 1.3339 - out_loss: 0.3623 - level1_loss: 0.3647 - level2_loss: 0.3708 - level3_loss: 0.3844 - out_mean_squared_error: 0.4601 - level1_mean_squared_error: 0.4591 - level2_mean_squared_error: 0.4660 - level3_mean_squared_error: 0.4715 - val_loss: 1.5073 - val_out_loss: 0.4059 - val_level1_loss: 0.4075 - val_level2_loss: 0.4170 - val_level3_loss: 0.4445 - val_out_mean_squared_error: 0.5413 - val_level1_mean_squared_error: 0.5318 - val_level2_mean_squared_error: 0.5376 - val_level3_mean_squared_error: 0.5158\n",
            "\n",
            "Epoch 00058: val_out_loss improved from 0.40697 to 0.40588, saving model to trained_models/MultiResUNet_2048_64_3_6_1.h5\n",
            "Epoch 59/300\n",
            "12/12 [==============================] - 12s 961ms/step - loss: 1.3117 - out_loss: 0.3569 - level1_loss: 0.3585 - level2_loss: 0.3607 - level3_loss: 0.3813 - out_mean_squared_error: 0.4557 - level1_mean_squared_error: 0.4544 - level2_mean_squared_error: 0.4559 - level3_mean_squared_error: 0.4672 - val_loss: 1.5550 - val_out_loss: 0.4237 - val_level1_loss: 0.4156 - val_level2_loss: 0.4264 - val_level3_loss: 0.4621 - val_out_mean_squared_error: 0.5300 - val_level1_mean_squared_error: 0.5336 - val_level2_mean_squared_error: 0.5288 - val_level3_mean_squared_error: 0.5126\n",
            "\n",
            "Epoch 00059: val_out_loss did not improve from 0.40588\n",
            "Epoch 60/300\n",
            "12/12 [==============================] - 12s 962ms/step - loss: 1.3039 - out_loss: 0.3573 - level1_loss: 0.3544 - level2_loss: 0.3605 - level3_loss: 0.3765 - out_mean_squared_error: 0.4522 - level1_mean_squared_error: 0.4549 - level2_mean_squared_error: 0.4531 - level3_mean_squared_error: 0.4656 - val_loss: 1.5911 - val_out_loss: 0.4307 - val_level1_loss: 0.4334 - val_level2_loss: 0.4355 - val_level3_loss: 0.4682 - val_out_mean_squared_error: 0.5546 - val_level1_mean_squared_error: 0.5534 - val_level2_mean_squared_error: 0.5408 - val_level3_mean_squared_error: 0.5165\n",
            "\n",
            "Epoch 00060: val_out_loss did not improve from 0.40588\n",
            "Epoch 61/300\n",
            "12/12 [==============================] - 12s 963ms/step - loss: 1.3198 - out_loss: 0.3646 - level1_loss: 0.3572 - level2_loss: 0.3621 - level3_loss: 0.3826 - out_mean_squared_error: 0.4547 - level1_mean_squared_error: 0.4574 - level2_mean_squared_error: 0.4583 - level3_mean_squared_error: 0.4720 - val_loss: 1.5398 - val_out_loss: 0.4147 - val_level1_loss: 0.4153 - val_level2_loss: 0.4144 - val_level3_loss: 0.4664 - val_out_mean_squared_error: 0.5511 - val_level1_mean_squared_error: 0.5296 - val_level2_mean_squared_error: 0.5271 - val_level3_mean_squared_error: 0.5099\n",
            "\n",
            "Epoch 00061: val_out_loss did not improve from 0.40588\n",
            "Epoch 62/300\n",
            "12/12 [==============================] - 12s 961ms/step - loss: 1.3051 - out_loss: 0.3565 - level1_loss: 0.3573 - level2_loss: 0.3599 - level3_loss: 0.3763 - out_mean_squared_error: 0.4589 - level1_mean_squared_error: 0.4570 - level2_mean_squared_error: 0.4595 - level3_mean_squared_error: 0.4685 - val_loss: 1.5505 - val_out_loss: 0.4193 - val_level1_loss: 0.4196 - val_level2_loss: 0.4227 - val_level3_loss: 0.4611 - val_out_mean_squared_error: 0.5602 - val_level1_mean_squared_error: 0.5550 - val_level2_mean_squared_error: 0.5498 - val_level3_mean_squared_error: 0.5282\n",
            "\n",
            "Epoch 00062: val_out_loss did not improve from 0.40588\n",
            "Epoch 63/300\n",
            "12/12 [==============================] - 11s 961ms/step - loss: 1.3090 - out_loss: 0.3554 - level1_loss: 0.3558 - level2_loss: 0.3636 - level3_loss: 0.3797 - out_mean_squared_error: 0.4572 - level1_mean_squared_error: 0.4585 - level2_mean_squared_error: 0.4589 - level3_mean_squared_error: 0.4650 - val_loss: 1.5660 - val_out_loss: 0.4174 - val_level1_loss: 0.4228 - val_level2_loss: 0.4332 - val_level3_loss: 0.4666 - val_out_mean_squared_error: 0.5571 - val_level1_mean_squared_error: 0.5479 - val_level2_mean_squared_error: 0.5475 - val_level3_mean_squared_error: 0.5114\n",
            "\n",
            "Epoch 00063: val_out_loss did not improve from 0.40588\n",
            "Epoch 64/300\n",
            "12/12 [==============================] - 12s 1s/step - loss: 1.3098 - out_loss: 0.3558 - level1_loss: 0.3568 - level2_loss: 0.3636 - level3_loss: 0.3791 - out_mean_squared_error: 0.4599 - level1_mean_squared_error: 0.4605 - level2_mean_squared_error: 0.4578 - level3_mean_squared_error: 0.4686 - val_loss: 1.5490 - val_out_loss: 0.4139 - val_level1_loss: 0.4254 - val_level2_loss: 0.4147 - val_level3_loss: 0.4671 - val_out_mean_squared_error: 0.5711 - val_level1_mean_squared_error: 0.5765 - val_level2_mean_squared_error: 0.5571 - val_level3_mean_squared_error: 0.5494\n",
            "\n",
            "Epoch 00064: val_out_loss did not improve from 0.40588\n",
            "Epoch 65/300\n",
            "12/12 [==============================] - 11s 959ms/step - loss: 1.3022 - out_loss: 0.3550 - level1_loss: 0.3544 - level2_loss: 0.3626 - level3_loss: 0.3749 - out_mean_squared_error: 0.4575 - level1_mean_squared_error: 0.4577 - level2_mean_squared_error: 0.4594 - level3_mean_squared_error: 0.4646 - val_loss: 1.4782 - val_out_loss: 0.3999 - val_level1_loss: 0.4057 - val_level2_loss: 0.4050 - val_level3_loss: 0.4318 - val_out_mean_squared_error: 0.5336 - val_level1_mean_squared_error: 0.5394 - val_level2_mean_squared_error: 0.5354 - val_level3_mean_squared_error: 0.5213\n",
            "\n",
            "Epoch 00065: val_out_loss improved from 0.40588 to 0.39987, saving model to trained_models/MultiResUNet_2048_64_3_6_1.h5\n",
            "Epoch 66/300\n",
            "12/12 [==============================] - 11s 958ms/step - loss: 1.2806 - out_loss: 0.3477 - level1_loss: 0.3512 - level2_loss: 0.3539 - level3_loss: 0.3701 - out_mean_squared_error: 0.4506 - level1_mean_squared_error: 0.4503 - level2_mean_squared_error: 0.4513 - level3_mean_squared_error: 0.4596 - val_loss: 1.5231 - val_out_loss: 0.4208 - val_level1_loss: 0.4151 - val_level2_loss: 0.4190 - val_level3_loss: 0.4374 - val_out_mean_squared_error: 0.5873 - val_level1_mean_squared_error: 0.5733 - val_level2_mean_squared_error: 0.5742 - val_level3_mean_squared_error: 0.5498\n",
            "\n",
            "Epoch 00066: val_out_loss did not improve from 0.39987\n",
            "Epoch 67/300\n",
            "12/12 [==============================] - 11s 960ms/step - loss: 1.2855 - out_loss: 0.3507 - level1_loss: 0.3498 - level2_loss: 0.3566 - level3_loss: 0.3712 - out_mean_squared_error: 0.4533 - level1_mean_squared_error: 0.4534 - level2_mean_squared_error: 0.4536 - level3_mean_squared_error: 0.4610 - val_loss: 1.4608 - val_out_loss: 0.3946 - val_level1_loss: 0.3987 - val_level2_loss: 0.4005 - val_level3_loss: 0.4292 - val_out_mean_squared_error: 0.5431 - val_level1_mean_squared_error: 0.5361 - val_level2_mean_squared_error: 0.5333 - val_level3_mean_squared_error: 0.5149\n",
            "\n",
            "Epoch 00067: val_out_loss improved from 0.39987 to 0.39465, saving model to trained_models/MultiResUNet_2048_64_3_6_1.h5\n",
            "Epoch 68/300\n",
            "12/12 [==============================] - 12s 1s/step - loss: 1.2952 - out_loss: 0.3532 - level1_loss: 0.3537 - level2_loss: 0.3571 - level3_loss: 0.3751 - out_mean_squared_error: 0.4512 - level1_mean_squared_error: 0.4502 - level2_mean_squared_error: 0.4511 - level3_mean_squared_error: 0.4597 - val_loss: 1.5240 - val_out_loss: 0.4103 - val_level1_loss: 0.4133 - val_level2_loss: 0.4202 - val_level3_loss: 0.4496 - val_out_mean_squared_error: 0.5658 - val_level1_mean_squared_error: 0.5572 - val_level2_mean_squared_error: 0.5558 - val_level3_mean_squared_error: 0.5353\n",
            "\n",
            "Epoch 00068: val_out_loss did not improve from 0.39465\n",
            "Epoch 69/300\n",
            "12/12 [==============================] - 12s 961ms/step - loss: 1.2872 - out_loss: 0.3533 - level1_loss: 0.3521 - level2_loss: 0.3560 - level3_loss: 0.3688 - out_mean_squared_error: 0.4532 - level1_mean_squared_error: 0.4532 - level2_mean_squared_error: 0.4525 - level3_mean_squared_error: 0.4608 - val_loss: 1.4740 - val_out_loss: 0.4052 - val_level1_loss: 0.3998 - val_level2_loss: 0.4075 - val_level3_loss: 0.4253 - val_out_mean_squared_error: 0.5541 - val_level1_mean_squared_error: 0.5404 - val_level2_mean_squared_error: 0.5418 - val_level3_mean_squared_error: 0.5247\n",
            "\n",
            "Epoch 00069: val_out_loss did not improve from 0.39465\n",
            "Epoch 70/300\n",
            "12/12 [==============================] - 11s 959ms/step - loss: 1.2721 - out_loss: 0.3479 - level1_loss: 0.3453 - level2_loss: 0.3522 - level3_loss: 0.3680 - out_mean_squared_error: 0.4422 - level1_mean_squared_error: 0.4433 - level2_mean_squared_error: 0.4448 - level3_mean_squared_error: 0.4523 - val_loss: 1.5034 - val_out_loss: 0.4077 - val_level1_loss: 0.4120 - val_level2_loss: 0.4183 - val_level3_loss: 0.4325 - val_out_mean_squared_error: 0.5533 - val_level1_mean_squared_error: 0.5523 - val_level2_mean_squared_error: 0.5484 - val_level3_mean_squared_error: 0.5348\n",
            "\n",
            "Epoch 00070: val_out_loss did not improve from 0.39465\n",
            "Epoch 71/300\n",
            "12/12 [==============================] - 12s 962ms/step - loss: 1.2971 - out_loss: 0.3524 - level1_loss: 0.3544 - level2_loss: 0.3579 - level3_loss: 0.3765 - out_mean_squared_error: 0.4577 - level1_mean_squared_error: 0.4577 - level2_mean_squared_error: 0.4571 - level3_mean_squared_error: 0.4634 - val_loss: 1.4876 - val_out_loss: 0.4013 - val_level1_loss: 0.4112 - val_level2_loss: 0.4094 - val_level3_loss: 0.4310 - val_out_mean_squared_error: 0.5461 - val_level1_mean_squared_error: 0.5630 - val_level2_mean_squared_error: 0.5583 - val_level3_mean_squared_error: 0.5492\n",
            "\n",
            "Epoch 00071: val_out_loss did not improve from 0.39465\n",
            "Epoch 72/300\n",
            "12/12 [==============================] - 11s 961ms/step - loss: 1.2934 - out_loss: 0.3555 - level1_loss: 0.3526 - level2_loss: 0.3572 - level3_loss: 0.3719 - out_mean_squared_error: 0.4528 - level1_mean_squared_error: 0.4495 - level2_mean_squared_error: 0.4541 - level3_mean_squared_error: 0.4609 - val_loss: 1.4938 - val_out_loss: 0.4024 - val_level1_loss: 0.4032 - val_level2_loss: 0.4138 - val_level3_loss: 0.4403 - val_out_mean_squared_error: 0.5558 - val_level1_mean_squared_error: 0.5636 - val_level2_mean_squared_error: 0.5422 - val_level3_mean_squared_error: 0.5354\n",
            "\n",
            "Epoch 00072: val_out_loss did not improve from 0.39465\n",
            "Epoch 73/300\n",
            "12/12 [==============================] - 12s 961ms/step - loss: 1.2846 - out_loss: 0.3517 - level1_loss: 0.3510 - level2_loss: 0.3553 - level3_loss: 0.3693 - out_mean_squared_error: 0.4442 - level1_mean_squared_error: 0.4450 - level2_mean_squared_error: 0.4461 - level3_mean_squared_error: 0.4550 - val_loss: 1.5108 - val_out_loss: 0.4128 - val_level1_loss: 0.4120 - val_level2_loss: 0.4171 - val_level3_loss: 0.4368 - val_out_mean_squared_error: 0.5580 - val_level1_mean_squared_error: 0.5646 - val_level2_mean_squared_error: 0.5566 - val_level3_mean_squared_error: 0.5603\n",
            "\n",
            "Epoch 00073: val_out_loss did not improve from 0.39465\n",
            "Epoch 74/300\n",
            "12/12 [==============================] - 12s 961ms/step - loss: 1.2886 - out_loss: 0.3529 - level1_loss: 0.3506 - level2_loss: 0.3558 - level3_loss: 0.3724 - out_mean_squared_error: 0.4449 - level1_mean_squared_error: 0.4477 - level2_mean_squared_error: 0.4493 - level3_mean_squared_error: 0.4594 - val_loss: 1.5104 - val_out_loss: 0.4122 - val_level1_loss: 0.4109 - val_level2_loss: 0.4223 - val_level3_loss: 0.4329 - val_out_mean_squared_error: 0.5603 - val_level1_mean_squared_error: 0.5579 - val_level2_mean_squared_error: 0.5604 - val_level3_mean_squared_error: 0.5381\n",
            "\n",
            "Epoch 00074: val_out_loss did not improve from 0.39465\n",
            "Epoch 75/300\n",
            "12/12 [==============================] - 12s 962ms/step - loss: 1.2698 - out_loss: 0.3447 - level1_loss: 0.3463 - level2_loss: 0.3514 - level3_loss: 0.3685 - out_mean_squared_error: 0.4415 - level1_mean_squared_error: 0.4398 - level2_mean_squared_error: 0.4418 - level3_mean_squared_error: 0.4510 - val_loss: 1.4998 - val_out_loss: 0.4071 - val_level1_loss: 0.4057 - val_level2_loss: 0.4181 - val_level3_loss: 0.4355 - val_out_mean_squared_error: 0.5584 - val_level1_mean_squared_error: 0.5519 - val_level2_mean_squared_error: 0.5519 - val_level3_mean_squared_error: 0.5416\n",
            "\n",
            "Epoch 00075: val_out_loss did not improve from 0.39465\n",
            "Epoch 76/300\n",
            "12/12 [==============================] - 12s 963ms/step - loss: 1.2814 - out_loss: 0.3518 - level1_loss: 0.3484 - level2_loss: 0.3537 - level3_loss: 0.3698 - out_mean_squared_error: 0.4495 - level1_mean_squared_error: 0.4483 - level2_mean_squared_error: 0.4481 - level3_mean_squared_error: 0.4590 - val_loss: 1.4805 - val_out_loss: 0.4066 - val_level1_loss: 0.4048 - val_level2_loss: 0.4071 - val_level3_loss: 0.4265 - val_out_mean_squared_error: 0.5474 - val_level1_mean_squared_error: 0.5431 - val_level2_mean_squared_error: 0.5420 - val_level3_mean_squared_error: 0.5349\n",
            "\n",
            "Epoch 00076: val_out_loss did not improve from 0.39465\n",
            "Epoch 77/300\n",
            "12/12 [==============================] - 12s 964ms/step - loss: 1.2705 - out_loss: 0.3488 - level1_loss: 0.3460 - level2_loss: 0.3501 - level3_loss: 0.3668 - out_mean_squared_error: 0.4404 - level1_mean_squared_error: 0.4407 - level2_mean_squared_error: 0.4422 - level3_mean_squared_error: 0.4538 - val_loss: 1.5243 - val_out_loss: 0.4150 - val_level1_loss: 0.4165 - val_level2_loss: 0.4241 - val_level3_loss: 0.4381 - val_out_mean_squared_error: 0.5698 - val_level1_mean_squared_error: 0.5627 - val_level2_mean_squared_error: 0.5625 - val_level3_mean_squared_error: 0.5434\n",
            "\n",
            "Epoch 00077: val_out_loss did not improve from 0.39465\n",
            "Epoch 78/300\n",
            "12/12 [==============================] - 12s 962ms/step - loss: 1.2950 - out_loss: 0.3529 - level1_loss: 0.3503 - level2_loss: 0.3549 - level3_loss: 0.3808 - out_mean_squared_error: 0.4487 - level1_mean_squared_error: 0.4526 - level2_mean_squared_error: 0.4515 - level3_mean_squared_error: 0.4551 - val_loss: 1.5102 - val_out_loss: 0.4101 - val_level1_loss: 0.4115 - val_level2_loss: 0.4178 - val_level3_loss: 0.4386 - val_out_mean_squared_error: 0.5593 - val_level1_mean_squared_error: 0.5476 - val_level2_mean_squared_error: 0.5551 - val_level3_mean_squared_error: 0.5398\n",
            "\n",
            "Epoch 00078: val_out_loss did not improve from 0.39465\n",
            "Epoch 79/300\n",
            "12/12 [==============================] - 12s 1s/step - loss: 1.2864 - out_loss: 0.3465 - level1_loss: 0.3518 - level2_loss: 0.3566 - level3_loss: 0.3744 - out_mean_squared_error: 0.4393 - level1_mean_squared_error: 0.4413 - level2_mean_squared_error: 0.4400 - level3_mean_squared_error: 0.4531 - val_loss: 1.5510 - val_out_loss: 0.4146 - val_level1_loss: 0.4207 - val_level2_loss: 0.4333 - val_level3_loss: 0.4547 - val_out_mean_squared_error: 0.5578 - val_level1_mean_squared_error: 0.5479 - val_level2_mean_squared_error: 0.5623 - val_level3_mean_squared_error: 0.5254\n",
            "\n",
            "Epoch 00079: val_out_loss did not improve from 0.39465\n",
            "Epoch 80/300\n",
            "12/12 [==============================] - 12s 962ms/step - loss: 1.2812 - out_loss: 0.3456 - level1_loss: 0.3491 - level2_loss: 0.3560 - level3_loss: 0.3729 - out_mean_squared_error: 0.4354 - level1_mean_squared_error: 0.4363 - level2_mean_squared_error: 0.4375 - level3_mean_squared_error: 0.4502 - val_loss: 1.4893 - val_out_loss: 0.4027 - val_level1_loss: 0.4026 - val_level2_loss: 0.4075 - val_level3_loss: 0.4420 - val_out_mean_squared_error: 0.5569 - val_level1_mean_squared_error: 0.5467 - val_level2_mean_squared_error: 0.5435 - val_level3_mean_squared_error: 0.5204\n",
            "\n",
            "Epoch 00080: val_out_loss did not improve from 0.39465\n",
            "Epoch 81/300\n",
            "12/12 [==============================] - 12s 963ms/step - loss: 1.2965 - out_loss: 0.3530 - level1_loss: 0.3522 - level2_loss: 0.3584 - level3_loss: 0.3769 - out_mean_squared_error: 0.4529 - level1_mean_squared_error: 0.4541 - level2_mean_squared_error: 0.4522 - level3_mean_squared_error: 0.4575 - val_loss: 1.4857 - val_out_loss: 0.4038 - val_level1_loss: 0.4021 - val_level2_loss: 0.4095 - val_level3_loss: 0.4354 - val_out_mean_squared_error: 0.5530 - val_level1_mean_squared_error: 0.5549 - val_level2_mean_squared_error: 0.5643 - val_level3_mean_squared_error: 0.5471\n",
            "\n",
            "Epoch 00081: val_out_loss did not improve from 0.39465\n",
            "Epoch 82/300\n",
            "12/12 [==============================] - 12s 963ms/step - loss: 1.2672 - out_loss: 0.3460 - level1_loss: 0.3432 - level2_loss: 0.3524 - level3_loss: 0.3664 - out_mean_squared_error: 0.4316 - level1_mean_squared_error: 0.4333 - level2_mean_squared_error: 0.4364 - level3_mean_squared_error: 0.4456 - val_loss: 1.5419 - val_out_loss: 0.4215 - val_level1_loss: 0.4155 - val_level2_loss: 0.4234 - val_level3_loss: 0.4529 - val_out_mean_squared_error: 0.5364 - val_level1_mean_squared_error: 0.5317 - val_level2_mean_squared_error: 0.5270 - val_level3_mean_squared_error: 0.5078\n",
            "\n",
            "Epoch 00082: val_out_loss did not improve from 0.39465\n",
            "Epoch 83/300\n",
            "12/12 [==============================] - 12s 961ms/step - loss: 1.2676 - out_loss: 0.3464 - level1_loss: 0.3443 - level2_loss: 0.3503 - level3_loss: 0.3675 - out_mean_squared_error: 0.4374 - level1_mean_squared_error: 0.4398 - level2_mean_squared_error: 0.4394 - level3_mean_squared_error: 0.4468 - val_loss: 1.6415 - val_out_loss: 0.4430 - val_level1_loss: 0.4417 - val_level2_loss: 0.4591 - val_level3_loss: 0.4801 - val_out_mean_squared_error: 0.5973 - val_level1_mean_squared_error: 0.5870 - val_level2_mean_squared_error: 0.5764 - val_level3_mean_squared_error: 0.5384\n",
            "\n",
            "Epoch 00083: val_out_loss did not improve from 0.39465\n",
            "Epoch 84/300\n",
            "12/12 [==============================] - 12s 961ms/step - loss: 1.2800 - out_loss: 0.3486 - level1_loss: 0.3494 - level2_loss: 0.3520 - level3_loss: 0.3722 - out_mean_squared_error: 0.4353 - level1_mean_squared_error: 0.4321 - level2_mean_squared_error: 0.4326 - level3_mean_squared_error: 0.4403 - val_loss: 1.5145 - val_out_loss: 0.4201 - val_level1_loss: 0.4122 - val_level2_loss: 0.4100 - val_level3_loss: 0.4405 - val_out_mean_squared_error: 0.5503 - val_level1_mean_squared_error: 0.5538 - val_level2_mean_squared_error: 0.5438 - val_level3_mean_squared_error: 0.5290\n",
            "\n",
            "Epoch 00084: val_out_loss did not improve from 0.39465\n",
            "Epoch 85/300\n",
            "12/12 [==============================] - 12s 963ms/step - loss: 1.2610 - out_loss: 0.3427 - level1_loss: 0.3438 - level2_loss: 0.3486 - level3_loss: 0.3660 - out_mean_squared_error: 0.4359 - level1_mean_squared_error: 0.4362 - level2_mean_squared_error: 0.4371 - level3_mean_squared_error: 0.4492 - val_loss: 1.6019 - val_out_loss: 0.4352 - val_level1_loss: 0.4324 - val_level2_loss: 0.4355 - val_level3_loss: 0.4769 - val_out_mean_squared_error: 0.5742 - val_level1_mean_squared_error: 0.5674 - val_level2_mean_squared_error: 0.5562 - val_level3_mean_squared_error: 0.5320\n",
            "\n",
            "Epoch 00085: val_out_loss did not improve from 0.39465\n",
            "Epoch 86/300\n",
            "12/12 [==============================] - 12s 964ms/step - loss: 1.2504 - out_loss: 0.3406 - level1_loss: 0.3388 - level2_loss: 0.3455 - level3_loss: 0.3644 - out_mean_squared_error: 0.4198 - level1_mean_squared_error: 0.4185 - level2_mean_squared_error: 0.4193 - level3_mean_squared_error: 0.4295 - val_loss: 1.5616 - val_out_loss: 0.4222 - val_level1_loss: 0.4184 - val_level2_loss: 0.4332 - val_level3_loss: 0.4614 - val_out_mean_squared_error: 0.5546 - val_level1_mean_squared_error: 0.5501 - val_level2_mean_squared_error: 0.5437 - val_level3_mean_squared_error: 0.5249\n",
            "\n",
            "Epoch 00086: val_out_loss did not improve from 0.39465\n",
            "Epoch 87/300\n",
            "12/12 [==============================] - 12s 962ms/step - loss: 1.2759 - out_loss: 0.3490 - level1_loss: 0.3437 - level2_loss: 0.3538 - level3_loss: 0.3712 - out_mean_squared_error: 0.4433 - level1_mean_squared_error: 0.4427 - level2_mean_squared_error: 0.4426 - level3_mean_squared_error: 0.4588 - val_loss: 1.4635 - val_out_loss: 0.4000 - val_level1_loss: 0.3958 - val_level2_loss: 0.4046 - val_level3_loss: 0.4257 - val_out_mean_squared_error: 0.5356 - val_level1_mean_squared_error: 0.5381 - val_level2_mean_squared_error: 0.5393 - val_level3_mean_squared_error: 0.5157\n",
            "\n",
            "Epoch 00087: val_out_loss did not improve from 0.39465\n",
            "Epoch 88/300\n",
            "12/12 [==============================] - 11s 959ms/step - loss: 1.2632 - out_loss: 0.3456 - level1_loss: 0.3433 - level2_loss: 0.3505 - level3_loss: 0.3642 - out_mean_squared_error: 0.4297 - level1_mean_squared_error: 0.4326 - level2_mean_squared_error: 0.4359 - level3_mean_squared_error: 0.4411 - val_loss: 1.5007 - val_out_loss: 0.4064 - val_level1_loss: 0.4064 - val_level2_loss: 0.4186 - val_level3_loss: 0.4360 - val_out_mean_squared_error: 0.5375 - val_level1_mean_squared_error: 0.5313 - val_level2_mean_squared_error: 0.5358 - val_level3_mean_squared_error: 0.5109\n",
            "\n",
            "Epoch 00088: val_out_loss did not improve from 0.39465\n",
            "Epoch 89/300\n",
            "12/12 [==============================] - 11s 957ms/step - loss: 1.2407 - out_loss: 0.3371 - level1_loss: 0.3359 - level2_loss: 0.3452 - level3_loss: 0.3603 - out_mean_squared_error: 0.4126 - level1_mean_squared_error: 0.4095 - level2_mean_squared_error: 0.4113 - level3_mean_squared_error: 0.4208 - val_loss: 1.5292 - val_out_loss: 0.4160 - val_level1_loss: 0.4179 - val_level2_loss: 0.4202 - val_level3_loss: 0.4449 - val_out_mean_squared_error: 0.5184 - val_level1_mean_squared_error: 0.5206 - val_level2_mean_squared_error: 0.5122 - val_level3_mean_squared_error: 0.4930\n",
            "\n",
            "Epoch 00089: val_out_loss did not improve from 0.39465\n",
            "Epoch 90/300\n",
            "12/12 [==============================] - 11s 957ms/step - loss: 1.2467 - out_loss: 0.3424 - level1_loss: 0.3376 - level2_loss: 0.3446 - level3_loss: 0.3605 - out_mean_squared_error: 0.4182 - level1_mean_squared_error: 0.4190 - level2_mean_squared_error: 0.4197 - level3_mean_squared_error: 0.4277 - val_loss: 1.4523 - val_out_loss: 0.3920 - val_level1_loss: 0.4000 - val_level2_loss: 0.4008 - val_level3_loss: 0.4208 - val_out_mean_squared_error: 0.5313 - val_level1_mean_squared_error: 0.5277 - val_level2_mean_squared_error: 0.5209 - val_level3_mean_squared_error: 0.5089\n",
            "\n",
            "Epoch 00090: val_out_loss improved from 0.39465 to 0.39202, saving model to trained_models/MultiResUNet_2048_64_3_6_1.h5\n",
            "Epoch 91/300\n",
            "12/12 [==============================] - 11s 956ms/step - loss: 1.2395 - out_loss: 0.3355 - level1_loss: 0.3408 - level2_loss: 0.3428 - level3_loss: 0.3581 - out_mean_squared_error: 0.4154 - level1_mean_squared_error: 0.4113 - level2_mean_squared_error: 0.4172 - level3_mean_squared_error: 0.4273 - val_loss: 1.4757 - val_out_loss: 0.3985 - val_level1_loss: 0.4046 - val_level2_loss: 0.4053 - val_level3_loss: 0.4313 - val_out_mean_squared_error: 0.5544 - val_level1_mean_squared_error: 0.5421 - val_level2_mean_squared_error: 0.5288 - val_level3_mean_squared_error: 0.5087\n",
            "\n",
            "Epoch 00091: val_out_loss did not improve from 0.39202\n",
            "Epoch 92/300\n",
            "12/12 [==============================] - 11s 956ms/step - loss: 1.2431 - out_loss: 0.3370 - level1_loss: 0.3419 - level2_loss: 0.3430 - level3_loss: 0.3594 - out_mean_squared_error: 0.4098 - level1_mean_squared_error: 0.4103 - level2_mean_squared_error: 0.4122 - level3_mean_squared_error: 0.4194 - val_loss: 1.4591 - val_out_loss: 0.3945 - val_level1_loss: 0.3962 - val_level2_loss: 0.4057 - val_level3_loss: 0.4249 - val_out_mean_squared_error: 0.5246 - val_level1_mean_squared_error: 0.5212 - val_level2_mean_squared_error: 0.5139 - val_level3_mean_squared_error: 0.5005\n",
            "\n",
            "Epoch 00092: val_out_loss did not improve from 0.39202\n",
            "Epoch 93/300\n",
            "12/12 [==============================] - 12s 1s/step - loss: 1.2497 - out_loss: 0.3407 - level1_loss: 0.3420 - level2_loss: 0.3439 - level3_loss: 0.3619 - out_mean_squared_error: 0.4238 - level1_mean_squared_error: 0.4238 - level2_mean_squared_error: 0.4239 - level3_mean_squared_error: 0.4352 - val_loss: 1.4969 - val_out_loss: 0.4099 - val_level1_loss: 0.4055 - val_level2_loss: 0.4149 - val_level3_loss: 0.4330 - val_out_mean_squared_error: 0.5209 - val_level1_mean_squared_error: 0.5272 - val_level2_mean_squared_error: 0.5156 - val_level3_mean_squared_error: 0.5153\n",
            "\n",
            "Epoch 00093: val_out_loss did not improve from 0.39202\n",
            "Epoch 94/300\n",
            "12/12 [==============================] - 11s 958ms/step - loss: 1.2320 - out_loss: 0.3383 - level1_loss: 0.3339 - level2_loss: 0.3383 - level3_loss: 0.3583 - out_mean_squared_error: 0.4021 - level1_mean_squared_error: 0.4011 - level2_mean_squared_error: 0.4029 - level3_mean_squared_error: 0.4155 - val_loss: 1.4446 - val_out_loss: 0.3942 - val_level1_loss: 0.3934 - val_level2_loss: 0.3992 - val_level3_loss: 0.4183 - val_out_mean_squared_error: 0.5290 - val_level1_mean_squared_error: 0.5357 - val_level2_mean_squared_error: 0.5263 - val_level3_mean_squared_error: 0.5088\n",
            "\n",
            "Epoch 00094: val_out_loss did not improve from 0.39202\n",
            "Epoch 95/300\n",
            "12/12 [==============================] - 11s 959ms/step - loss: 1.2588 - out_loss: 0.3389 - level1_loss: 0.3426 - level2_loss: 0.3483 - level3_loss: 0.3689 - out_mean_squared_error: 0.4163 - level1_mean_squared_error: 0.4149 - level2_mean_squared_error: 0.4209 - level3_mean_squared_error: 0.4313 - val_loss: 1.5541 - val_out_loss: 0.4246 - val_level1_loss: 0.4225 - val_level2_loss: 0.4346 - val_level3_loss: 0.4450 - val_out_mean_squared_error: 0.5641 - val_level1_mean_squared_error: 0.5628 - val_level2_mean_squared_error: 0.5459 - val_level3_mean_squared_error: 0.5223\n",
            "\n",
            "Epoch 00095: val_out_loss did not improve from 0.39202\n",
            "Epoch 96/300\n",
            "12/12 [==============================] - 11s 956ms/step - loss: 1.2284 - out_loss: 0.3331 - level1_loss: 0.3318 - level2_loss: 0.3406 - level3_loss: 0.3593 - out_mean_squared_error: 0.4097 - level1_mean_squared_error: 0.4086 - level2_mean_squared_error: 0.4121 - level3_mean_squared_error: 0.4184 - val_loss: 1.4495 - val_out_loss: 0.3945 - val_level1_loss: 0.3958 - val_level2_loss: 0.4023 - val_level3_loss: 0.4180 - val_out_mean_squared_error: 0.5331 - val_level1_mean_squared_error: 0.5296 - val_level2_mean_squared_error: 0.5249 - val_level3_mean_squared_error: 0.5226\n",
            "\n",
            "Epoch 00096: val_out_loss did not improve from 0.39202\n",
            "Epoch 97/300\n",
            "12/12 [==============================] - 11s 955ms/step - loss: 1.2340 - out_loss: 0.3353 - level1_loss: 0.3348 - level2_loss: 0.3419 - level3_loss: 0.3591 - out_mean_squared_error: 0.4168 - level1_mean_squared_error: 0.4160 - level2_mean_squared_error: 0.4190 - level3_mean_squared_error: 0.4258 - val_loss: 1.4860 - val_out_loss: 0.4057 - val_level1_loss: 0.4042 - val_level2_loss: 0.4125 - val_level3_loss: 0.4288 - val_out_mean_squared_error: 0.5215 - val_level1_mean_squared_error: 0.5205 - val_level2_mean_squared_error: 0.5176 - val_level3_mean_squared_error: 0.5119\n",
            "\n",
            "Epoch 00097: val_out_loss did not improve from 0.39202\n",
            "Epoch 98/300\n",
            "12/12 [==============================] - 11s 960ms/step - loss: 1.2166 - out_loss: 0.3307 - level1_loss: 0.3303 - level2_loss: 0.3363 - level3_loss: 0.3545 - out_mean_squared_error: 0.4041 - level1_mean_squared_error: 0.4040 - level2_mean_squared_error: 0.4057 - level3_mean_squared_error: 0.4127 - val_loss: 1.4502 - val_out_loss: 0.3958 - val_level1_loss: 0.3994 - val_level2_loss: 0.4014 - val_level3_loss: 0.4147 - val_out_mean_squared_error: 0.5226 - val_level1_mean_squared_error: 0.5187 - val_level2_mean_squared_error: 0.5205 - val_level3_mean_squared_error: 0.5142\n",
            "\n",
            "Epoch 00098: val_out_loss did not improve from 0.39202\n",
            "Epoch 99/300\n",
            "12/12 [==============================] - 11s 957ms/step - loss: 1.2191 - out_loss: 0.3322 - level1_loss: 0.3316 - level2_loss: 0.3356 - level3_loss: 0.3551 - out_mean_squared_error: 0.4053 - level1_mean_squared_error: 0.4037 - level2_mean_squared_error: 0.4060 - level3_mean_squared_error: 0.4144 - val_loss: 1.4305 - val_out_loss: 0.3937 - val_level1_loss: 0.3908 - val_level2_loss: 0.3929 - val_level3_loss: 0.4121 - val_out_mean_squared_error: 0.5181 - val_level1_mean_squared_error: 0.5243 - val_level2_mean_squared_error: 0.5208 - val_level3_mean_squared_error: 0.5170\n",
            "\n",
            "Epoch 00099: val_out_loss did not improve from 0.39202\n",
            "Epoch 100/300\n",
            "12/12 [==============================] - 11s 958ms/step - loss: 1.2201 - out_loss: 0.3316 - level1_loss: 0.3310 - level2_loss: 0.3374 - level3_loss: 0.3558 - out_mean_squared_error: 0.4050 - level1_mean_squared_error: 0.4032 - level2_mean_squared_error: 0.4049 - level3_mean_squared_error: 0.4131 - val_loss: 1.4577 - val_out_loss: 0.3932 - val_level1_loss: 0.3945 - val_level2_loss: 0.4068 - val_level3_loss: 0.4252 - val_out_mean_squared_error: 0.5267 - val_level1_mean_squared_error: 0.5184 - val_level2_mean_squared_error: 0.5222 - val_level3_mean_squared_error: 0.5028\n",
            "\n",
            "Epoch 00100: val_out_loss did not improve from 0.39202\n",
            "Epoch 101/300\n",
            "12/12 [==============================] - 11s 957ms/step - loss: 1.2056 - out_loss: 0.3271 - level1_loss: 0.3253 - level2_loss: 0.3341 - level3_loss: 0.3531 - out_mean_squared_error: 0.4026 - level1_mean_squared_error: 0.4033 - level2_mean_squared_error: 0.4058 - level3_mean_squared_error: 0.4140 - val_loss: 1.4490 - val_out_loss: 0.3932 - val_level1_loss: 0.3960 - val_level2_loss: 0.3992 - val_level3_loss: 0.4217 - val_out_mean_squared_error: 0.5087 - val_level1_mean_squared_error: 0.5052 - val_level2_mean_squared_error: 0.5016 - val_level3_mean_squared_error: 0.5017\n",
            "\n",
            "Epoch 00101: val_out_loss did not improve from 0.39202\n",
            "Epoch 102/300\n",
            "12/12 [==============================] - 11s 956ms/step - loss: 1.2287 - out_loss: 0.3343 - level1_loss: 0.3342 - level2_loss: 0.3386 - level3_loss: 0.3581 - out_mean_squared_error: 0.4120 - level1_mean_squared_error: 0.4121 - level2_mean_squared_error: 0.4137 - level3_mean_squared_error: 0.4234 - val_loss: 1.4643 - val_out_loss: 0.3973 - val_level1_loss: 0.3989 - val_level2_loss: 0.4114 - val_level3_loss: 0.4196 - val_out_mean_squared_error: 0.5366 - val_level1_mean_squared_error: 0.5239 - val_level2_mean_squared_error: 0.5189 - val_level3_mean_squared_error: 0.5111\n",
            "\n",
            "Epoch 00102: val_out_loss did not improve from 0.39202\n",
            "Epoch 103/300\n",
            "12/12 [==============================] - 11s 957ms/step - loss: 1.2176 - out_loss: 0.3306 - level1_loss: 0.3298 - level2_loss: 0.3388 - level3_loss: 0.3537 - out_mean_squared_error: 0.4038 - level1_mean_squared_error: 0.4017 - level2_mean_squared_error: 0.4046 - level3_mean_squared_error: 0.4133 - val_loss: 1.4369 - val_out_loss: 0.3904 - val_level1_loss: 0.3923 - val_level2_loss: 0.3954 - val_level3_loss: 0.4185 - val_out_mean_squared_error: 0.5263 - val_level1_mean_squared_error: 0.5219 - val_level2_mean_squared_error: 0.5227 - val_level3_mean_squared_error: 0.5087\n",
            "\n",
            "Epoch 00103: val_out_loss improved from 0.39202 to 0.39035, saving model to trained_models/MultiResUNet_2048_64_3_6_1.h5\n",
            "Epoch 104/300\n",
            "12/12 [==============================] - 11s 956ms/step - loss: 1.2122 - out_loss: 0.3292 - level1_loss: 0.3288 - level2_loss: 0.3350 - level3_loss: 0.3539 - out_mean_squared_error: 0.4030 - level1_mean_squared_error: 0.4017 - level2_mean_squared_error: 0.4049 - level3_mean_squared_error: 0.4111 - val_loss: 1.4127 - val_out_loss: 0.3867 - val_level1_loss: 0.3849 - val_level2_loss: 0.3906 - val_level3_loss: 0.4075 - val_out_mean_squared_error: 0.5201 - val_level1_mean_squared_error: 0.5143 - val_level2_mean_squared_error: 0.5149 - val_level3_mean_squared_error: 0.5149\n",
            "\n",
            "Epoch 00104: val_out_loss improved from 0.39035 to 0.38673, saving model to trained_models/MultiResUNet_2048_64_3_6_1.h5\n",
            "Epoch 105/300\n",
            "12/12 [==============================] - 11s 956ms/step - loss: 1.2158 - out_loss: 0.3294 - level1_loss: 0.3300 - level2_loss: 0.3348 - level3_loss: 0.3566 - out_mean_squared_error: 0.4087 - level1_mean_squared_error: 0.4069 - level2_mean_squared_error: 0.4092 - level3_mean_squared_error: 0.4222 - val_loss: 1.4323 - val_out_loss: 0.3838 - val_level1_loss: 0.3899 - val_level2_loss: 0.3960 - val_level3_loss: 0.4217 - val_out_mean_squared_error: 0.5092 - val_level1_mean_squared_error: 0.5006 - val_level2_mean_squared_error: 0.4950 - val_level3_mean_squared_error: 0.4759\n",
            "\n",
            "Epoch 00105: val_out_loss improved from 0.38673 to 0.38382, saving model to trained_models/MultiResUNet_2048_64_3_6_1.h5\n",
            "Epoch 106/300\n",
            "12/12 [==============================] - 11s 954ms/step - loss: 1.2056 - out_loss: 0.3270 - level1_loss: 0.3250 - level2_loss: 0.3342 - level3_loss: 0.3533 - out_mean_squared_error: 0.3982 - level1_mean_squared_error: 0.3966 - level2_mean_squared_error: 0.3995 - level3_mean_squared_error: 0.4049 - val_loss: 1.4874 - val_out_loss: 0.3998 - val_level1_loss: 0.4026 - val_level2_loss: 0.4156 - val_level3_loss: 0.4347 - val_out_mean_squared_error: 0.5383 - val_level1_mean_squared_error: 0.5311 - val_level2_mean_squared_error: 0.5265 - val_level3_mean_squared_error: 0.5207\n",
            "\n",
            "Epoch 00106: val_out_loss did not improve from 0.38382\n",
            "Epoch 107/300\n",
            "12/12 [==============================] - 11s 956ms/step - loss: 1.2041 - out_loss: 0.3242 - level1_loss: 0.3252 - level2_loss: 0.3337 - level3_loss: 0.3548 - out_mean_squared_error: 0.3972 - level1_mean_squared_error: 0.3940 - level2_mean_squared_error: 0.3983 - level3_mean_squared_error: 0.4080 - val_loss: 1.4768 - val_out_loss: 0.3998 - val_level1_loss: 0.4002 - val_level2_loss: 0.4083 - val_level3_loss: 0.4326 - val_out_mean_squared_error: 0.5301 - val_level1_mean_squared_error: 0.5205 - val_level2_mean_squared_error: 0.5190 - val_level3_mean_squared_error: 0.5188\n",
            "\n",
            "Epoch 00107: val_out_loss did not improve from 0.38382\n",
            "Epoch 108/300\n",
            "12/12 [==============================] - 11s 957ms/step - loss: 1.2163 - out_loss: 0.3285 - level1_loss: 0.3266 - level2_loss: 0.3334 - level3_loss: 0.3630 - out_mean_squared_error: 0.3983 - level1_mean_squared_error: 0.3986 - level2_mean_squared_error: 0.4007 - level3_mean_squared_error: 0.4215 - val_loss: 1.4417 - val_out_loss: 0.3917 - val_level1_loss: 0.3938 - val_level2_loss: 0.3991 - val_level3_loss: 0.4172 - val_out_mean_squared_error: 0.5282 - val_level1_mean_squared_error: 0.5220 - val_level2_mean_squared_error: 0.5131 - val_level3_mean_squared_error: 0.5062\n",
            "\n",
            "Epoch 00108: val_out_loss did not improve from 0.38382\n",
            "Epoch 109/300\n",
            "12/12 [==============================] - 11s 959ms/step - loss: 1.1979 - out_loss: 0.3228 - level1_loss: 0.3249 - level2_loss: 0.3313 - level3_loss: 0.3520 - out_mean_squared_error: 0.3937 - level1_mean_squared_error: 0.3935 - level2_mean_squared_error: 0.3935 - level3_mean_squared_error: 0.4047 - val_loss: 1.4094 - val_out_loss: 0.3836 - val_level1_loss: 0.3804 - val_level2_loss: 0.3885 - val_level3_loss: 0.4135 - val_out_mean_squared_error: 0.5410 - val_level1_mean_squared_error: 0.5294 - val_level2_mean_squared_error: 0.5234 - val_level3_mean_squared_error: 0.5152\n",
            "\n",
            "Epoch 00109: val_out_loss improved from 0.38382 to 0.38363, saving model to trained_models/MultiResUNet_2048_64_3_6_1.h5\n",
            "Epoch 110/300\n",
            "12/12 [==============================] - 12s 961ms/step - loss: 1.2065 - out_loss: 0.3261 - level1_loss: 0.3278 - level2_loss: 0.3338 - level3_loss: 0.3527 - out_mean_squared_error: 0.3995 - level1_mean_squared_error: 0.4006 - level2_mean_squared_error: 0.4046 - level3_mean_squared_error: 0.4153 - val_loss: 1.4067 - val_out_loss: 0.3820 - val_level1_loss: 0.3806 - val_level2_loss: 0.3888 - val_level3_loss: 0.4116 - val_out_mean_squared_error: 0.5114 - val_level1_mean_squared_error: 0.5061 - val_level2_mean_squared_error: 0.4975 - val_level3_mean_squared_error: 0.4953\n",
            "\n",
            "Epoch 00110: val_out_loss improved from 0.38363 to 0.38203, saving model to trained_models/MultiResUNet_2048_64_3_6_1.h5\n",
            "Epoch 111/300\n",
            "12/12 [==============================] - 12s 962ms/step - loss: 1.1984 - out_loss: 0.3256 - level1_loss: 0.3243 - level2_loss: 0.3295 - level3_loss: 0.3522 - out_mean_squared_error: 0.3959 - level1_mean_squared_error: 0.3944 - level2_mean_squared_error: 0.3940 - level3_mean_squared_error: 0.4062 - val_loss: 1.4205 - val_out_loss: 0.3885 - val_level1_loss: 0.3896 - val_level2_loss: 0.3908 - val_level3_loss: 0.4094 - val_out_mean_squared_error: 0.5177 - val_level1_mean_squared_error: 0.5049 - val_level2_mean_squared_error: 0.5008 - val_level3_mean_squared_error: 0.4975\n",
            "\n",
            "Epoch 00111: val_out_loss did not improve from 0.38203\n",
            "Epoch 112/300\n",
            "12/12 [==============================] - 11s 959ms/step - loss: 1.1948 - out_loss: 0.3265 - level1_loss: 0.3224 - level2_loss: 0.3292 - level3_loss: 0.3495 - out_mean_squared_error: 0.3998 - level1_mean_squared_error: 0.3969 - level2_mean_squared_error: 0.3976 - level3_mean_squared_error: 0.4135 - val_loss: 1.5140 - val_out_loss: 0.4121 - val_level1_loss: 0.4130 - val_level2_loss: 0.4160 - val_level3_loss: 0.4411 - val_out_mean_squared_error: 0.5173 - val_level1_mean_squared_error: 0.5147 - val_level2_mean_squared_error: 0.5146 - val_level3_mean_squared_error: 0.4887\n",
            "\n",
            "Epoch 00112: val_out_loss did not improve from 0.38203\n",
            "Epoch 113/300\n",
            "12/12 [==============================] - 11s 957ms/step - loss: 1.1887 - out_loss: 0.3213 - level1_loss: 0.3221 - level2_loss: 0.3295 - level3_loss: 0.3479 - out_mean_squared_error: 0.3883 - level1_mean_squared_error: 0.3884 - level2_mean_squared_error: 0.3902 - level3_mean_squared_error: 0.4015 - val_loss: 1.4498 - val_out_loss: 0.3923 - val_level1_loss: 0.3947 - val_level2_loss: 0.3971 - val_level3_loss: 0.4268 - val_out_mean_squared_error: 0.5196 - val_level1_mean_squared_error: 0.5144 - val_level2_mean_squared_error: 0.5039 - val_level3_mean_squared_error: 0.4920\n",
            "\n",
            "Epoch 00113: val_out_loss did not improve from 0.38203\n",
            "Epoch 114/300\n",
            "12/12 [==============================] - 11s 956ms/step - loss: 1.1922 - out_loss: 0.3217 - level1_loss: 0.3218 - level2_loss: 0.3313 - level3_loss: 0.3499 - out_mean_squared_error: 0.3912 - level1_mean_squared_error: 0.3897 - level2_mean_squared_error: 0.3931 - level3_mean_squared_error: 0.4042 - val_loss: 1.4604 - val_out_loss: 0.3912 - val_level1_loss: 0.3970 - val_level2_loss: 0.4048 - val_level3_loss: 0.4296 - val_out_mean_squared_error: 0.5129 - val_level1_mean_squared_error: 0.5042 - val_level2_mean_squared_error: 0.5066 - val_level3_mean_squared_error: 0.4928\n",
            "\n",
            "Epoch 00114: val_out_loss did not improve from 0.38203\n",
            "Epoch 115/300\n",
            "12/12 [==============================] - 11s 956ms/step - loss: 1.1896 - out_loss: 0.3200 - level1_loss: 0.3235 - level2_loss: 0.3289 - level3_loss: 0.3494 - out_mean_squared_error: 0.3885 - level1_mean_squared_error: 0.3877 - level2_mean_squared_error: 0.3920 - level3_mean_squared_error: 0.4051 - val_loss: 1.4584 - val_out_loss: 0.3969 - val_level1_loss: 0.3958 - val_level2_loss: 0.4044 - val_level3_loss: 0.4233 - val_out_mean_squared_error: 0.5051 - val_level1_mean_squared_error: 0.4994 - val_level2_mean_squared_error: 0.4915 - val_level3_mean_squared_error: 0.4882\n",
            "\n",
            "Epoch 00115: val_out_loss did not improve from 0.38203\n",
            "Epoch 116/300\n",
            "12/12 [==============================] - 11s 955ms/step - loss: 1.1835 - out_loss: 0.3207 - level1_loss: 0.3201 - level2_loss: 0.3280 - level3_loss: 0.3462 - out_mean_squared_error: 0.3855 - level1_mean_squared_error: 0.3856 - level2_mean_squared_error: 0.3864 - level3_mean_squared_error: 0.3963 - val_loss: 1.4933 - val_out_loss: 0.4002 - val_level1_loss: 0.4010 - val_level2_loss: 0.4090 - val_level3_loss: 0.4491 - val_out_mean_squared_error: 0.5351 - val_level1_mean_squared_error: 0.5276 - val_level2_mean_squared_error: 0.5121 - val_level3_mean_squared_error: 0.4933\n",
            "\n",
            "Epoch 00116: val_out_loss did not improve from 0.38203\n",
            "Epoch 117/300\n",
            "12/12 [==============================] - 11s 957ms/step - loss: 1.2017 - out_loss: 0.3265 - level1_loss: 0.3241 - level2_loss: 0.3340 - level3_loss: 0.3507 - out_mean_squared_error: 0.4011 - level1_mean_squared_error: 0.3992 - level2_mean_squared_error: 0.4014 - level3_mean_squared_error: 0.4113 - val_loss: 1.4474 - val_out_loss: 0.3947 - val_level1_loss: 0.3891 - val_level2_loss: 0.3979 - val_level3_loss: 0.4265 - val_out_mean_squared_error: 0.4978 - val_level1_mean_squared_error: 0.5006 - val_level2_mean_squared_error: 0.4998 - val_level3_mean_squared_error: 0.4913\n",
            "\n",
            "Epoch 00117: val_out_loss did not improve from 0.38203\n",
            "Epoch 118/300\n",
            "12/12 [==============================] - 11s 954ms/step - loss: 1.1756 - out_loss: 0.3184 - level1_loss: 0.3160 - level2_loss: 0.3275 - level3_loss: 0.3443 - out_mean_squared_error: 0.3813 - level1_mean_squared_error: 0.3826 - level2_mean_squared_error: 0.3885 - level3_mean_squared_error: 0.3984 - val_loss: 1.5042 - val_out_loss: 0.4034 - val_level1_loss: 0.4090 - val_level2_loss: 0.4162 - val_level3_loss: 0.4427 - val_out_mean_squared_error: 0.5323 - val_level1_mean_squared_error: 0.5263 - val_level2_mean_squared_error: 0.5229 - val_level3_mean_squared_error: 0.5023\n",
            "\n",
            "Epoch 00118: val_out_loss did not improve from 0.38203\n",
            "Epoch 119/300\n",
            "12/12 [==============================] - 11s 959ms/step - loss: 1.1736 - out_loss: 0.3149 - level1_loss: 0.3177 - level2_loss: 0.3235 - level3_loss: 0.3479 - out_mean_squared_error: 0.3811 - level1_mean_squared_error: 0.3794 - level2_mean_squared_error: 0.3799 - level3_mean_squared_error: 0.3970 - val_loss: 1.4661 - val_out_loss: 0.3948 - val_level1_loss: 0.3968 - val_level2_loss: 0.4066 - val_level3_loss: 0.4308 - val_out_mean_squared_error: 0.5148 - val_level1_mean_squared_error: 0.5082 - val_level2_mean_squared_error: 0.5105 - val_level3_mean_squared_error: 0.4985\n",
            "\n",
            "Epoch 00119: val_out_loss did not improve from 0.38203\n",
            "Epoch 120/300\n",
            "12/12 [==============================] - 11s 956ms/step - loss: 1.1610 - out_loss: 0.3125 - level1_loss: 0.3135 - level2_loss: 0.3226 - level3_loss: 0.3414 - out_mean_squared_error: 0.3810 - level1_mean_squared_error: 0.3802 - level2_mean_squared_error: 0.3854 - level3_mean_squared_error: 0.3996 - val_loss: 1.5424 - val_out_loss: 0.4210 - val_level1_loss: 0.4239 - val_level2_loss: 0.4240 - val_level3_loss: 0.4448 - val_out_mean_squared_error: 0.5237 - val_level1_mean_squared_error: 0.5197 - val_level2_mean_squared_error: 0.5182 - val_level3_mean_squared_error: 0.5020\n",
            "\n",
            "Epoch 00120: val_out_loss did not improve from 0.38203\n",
            "Epoch 121/300\n",
            "12/12 [==============================] - 11s 956ms/step - loss: 1.1526 - out_loss: 0.3106 - level1_loss: 0.3105 - level2_loss: 0.3180 - level3_loss: 0.3415 - out_mean_squared_error: 0.3741 - level1_mean_squared_error: 0.3739 - level2_mean_squared_error: 0.3758 - level3_mean_squared_error: 0.3939 - val_loss: 1.4975 - val_out_loss: 0.4050 - val_level1_loss: 0.4046 - val_level2_loss: 0.4151 - val_level3_loss: 0.4393 - val_out_mean_squared_error: 0.5259 - val_level1_mean_squared_error: 0.5184 - val_level2_mean_squared_error: 0.5174 - val_level3_mean_squared_error: 0.5019\n",
            "\n",
            "Epoch 00121: val_out_loss did not improve from 0.38203\n",
            "Epoch 122/300\n",
            "12/12 [==============================] - 11s 958ms/step - loss: 1.1555 - out_loss: 0.3119 - level1_loss: 0.3128 - level2_loss: 0.3178 - level3_loss: 0.3413 - out_mean_squared_error: 0.3782 - level1_mean_squared_error: 0.3781 - level2_mean_squared_error: 0.3789 - level3_mean_squared_error: 0.3927 - val_loss: 1.5178 - val_out_loss: 0.4063 - val_level1_loss: 0.4134 - val_level2_loss: 0.4165 - val_level3_loss: 0.4504 - val_out_mean_squared_error: 0.5011 - val_level1_mean_squared_error: 0.4937 - val_level2_mean_squared_error: 0.4943 - val_level3_mean_squared_error: 0.4839\n",
            "\n",
            "Epoch 00122: val_out_loss did not improve from 0.38203\n",
            "Epoch 123/300\n",
            "12/12 [==============================] - 12s 1s/step - loss: 1.1514 - out_loss: 0.3108 - level1_loss: 0.3122 - level2_loss: 0.3179 - level3_loss: 0.3384 - out_mean_squared_error: 0.3799 - level1_mean_squared_error: 0.3781 - level2_mean_squared_error: 0.3784 - level3_mean_squared_error: 0.3927 - val_loss: 1.4482 - val_out_loss: 0.3935 - val_level1_loss: 0.3911 - val_level2_loss: 0.3985 - val_level3_loss: 0.4260 - val_out_mean_squared_error: 0.4901 - val_level1_mean_squared_error: 0.4846 - val_level2_mean_squared_error: 0.4824 - val_level3_mean_squared_error: 0.4754\n",
            "\n",
            "Epoch 00123: val_out_loss did not improve from 0.38203\n",
            "Epoch 124/300\n",
            "12/12 [==============================] - 11s 955ms/step - loss: 1.1697 - out_loss: 0.3143 - level1_loss: 0.3133 - level2_loss: 0.3219 - level3_loss: 0.3502 - out_mean_squared_error: 0.3750 - level1_mean_squared_error: 0.3741 - level2_mean_squared_error: 0.3776 - level3_mean_squared_error: 0.3971 - val_loss: 1.4779 - val_out_loss: 0.3959 - val_level1_loss: 0.4007 - val_level2_loss: 0.4023 - val_level3_loss: 0.4432 - val_out_mean_squared_error: 0.5046 - val_level1_mean_squared_error: 0.4995 - val_level2_mean_squared_error: 0.4972 - val_level3_mean_squared_error: 0.4892\n",
            "\n",
            "Epoch 00124: val_out_loss did not improve from 0.38203\n",
            "Epoch 125/300\n",
            "12/12 [==============================] - 11s 957ms/step - loss: 1.1654 - out_loss: 0.3127 - level1_loss: 0.3151 - level2_loss: 0.3217 - level3_loss: 0.3454 - out_mean_squared_error: 0.3782 - level1_mean_squared_error: 0.3785 - level2_mean_squared_error: 0.3796 - level3_mean_squared_error: 0.3936 - val_loss: 1.4091 - val_out_loss: 0.3791 - val_level1_loss: 0.3794 - val_level2_loss: 0.3853 - val_level3_loss: 0.4219 - val_out_mean_squared_error: 0.5012 - val_level1_mean_squared_error: 0.4986 - val_level2_mean_squared_error: 0.4975 - val_level3_mean_squared_error: 0.4824\n",
            "\n",
            "Epoch 00125: val_out_loss improved from 0.38203 to 0.37909, saving model to trained_models/MultiResUNet_2048_64_3_6_1.h5\n",
            "Epoch 126/300\n",
            "12/12 [==============================] - 11s 957ms/step - loss: 1.1419 - out_loss: 0.3111 - level1_loss: 0.3093 - level2_loss: 0.3135 - level3_loss: 0.3349 - out_mean_squared_error: 0.3747 - level1_mean_squared_error: 0.3738 - level2_mean_squared_error: 0.3753 - level3_mean_squared_error: 0.3886 - val_loss: 1.4289 - val_out_loss: 0.3852 - val_level1_loss: 0.3857 - val_level2_loss: 0.3951 - val_level3_loss: 0.4217 - val_out_mean_squared_error: 0.5111 - val_level1_mean_squared_error: 0.5030 - val_level2_mean_squared_error: 0.4939 - val_level3_mean_squared_error: 0.4829\n",
            "\n",
            "Epoch 00126: val_out_loss did not improve from 0.37909\n",
            "Epoch 127/300\n",
            "12/12 [==============================] - 11s 956ms/step - loss: 1.1343 - out_loss: 0.3051 - level1_loss: 0.3064 - level2_loss: 0.3142 - level3_loss: 0.3346 - out_mean_squared_error: 0.3670 - level1_mean_squared_error: 0.3658 - level2_mean_squared_error: 0.3671 - level3_mean_squared_error: 0.3811 - val_loss: 1.4483 - val_out_loss: 0.3911 - val_level1_loss: 0.3933 - val_level2_loss: 0.4005 - val_level3_loss: 0.4243 - val_out_mean_squared_error: 0.4928 - val_level1_mean_squared_error: 0.4900 - val_level2_mean_squared_error: 0.4891 - val_level3_mean_squared_error: 0.4790\n",
            "\n",
            "Epoch 00127: val_out_loss did not improve from 0.37909\n",
            "Epoch 128/300\n",
            "12/12 [==============================] - 11s 957ms/step - loss: 1.1327 - out_loss: 0.3027 - level1_loss: 0.3065 - level2_loss: 0.3117 - level3_loss: 0.3377 - out_mean_squared_error: 0.3589 - level1_mean_squared_error: 0.3614 - level2_mean_squared_error: 0.3635 - level3_mean_squared_error: 0.3825 - val_loss: 1.4120 - val_out_loss: 0.3843 - val_level1_loss: 0.3828 - val_level2_loss: 0.3886 - val_level3_loss: 0.4131 - val_out_mean_squared_error: 0.5127 - val_level1_mean_squared_error: 0.5114 - val_level2_mean_squared_error: 0.5055 - val_level3_mean_squared_error: 0.4924\n",
            "\n",
            "Epoch 00128: val_out_loss did not improve from 0.37909\n",
            "Epoch 129/300\n",
            "12/12 [==============================] - 11s 956ms/step - loss: 1.1577 - out_loss: 0.3122 - level1_loss: 0.3104 - level2_loss: 0.3196 - level3_loss: 0.3442 - out_mean_squared_error: 0.3766 - level1_mean_squared_error: 0.3739 - level2_mean_squared_error: 0.3789 - level3_mean_squared_error: 0.3947 - val_loss: 1.4089 - val_out_loss: 0.3791 - val_level1_loss: 0.3804 - val_level2_loss: 0.3876 - val_level3_loss: 0.4183 - val_out_mean_squared_error: 0.5075 - val_level1_mean_squared_error: 0.5033 - val_level2_mean_squared_error: 0.4994 - val_level3_mean_squared_error: 0.4864\n",
            "\n",
            "Epoch 00129: val_out_loss did not improve from 0.37909\n",
            "Epoch 130/300\n",
            "12/12 [==============================] - 11s 959ms/step - loss: 1.1304 - out_loss: 0.3036 - level1_loss: 0.3026 - level2_loss: 0.3110 - level3_loss: 0.3388 - out_mean_squared_error: 0.3623 - level1_mean_squared_error: 0.3622 - level2_mean_squared_error: 0.3660 - level3_mean_squared_error: 0.3844 - val_loss: 1.4553 - val_out_loss: 0.3931 - val_level1_loss: 0.3920 - val_level2_loss: 0.4015 - val_level3_loss: 0.4304 - val_out_mean_squared_error: 0.5210 - val_level1_mean_squared_error: 0.5147 - val_level2_mean_squared_error: 0.5074 - val_level3_mean_squared_error: 0.4961\n",
            "\n",
            "Epoch 00130: val_out_loss did not improve from 0.37909\n",
            "Epoch 131/300\n",
            "12/12 [==============================] - 12s 962ms/step - loss: 1.1196 - out_loss: 0.3016 - level1_loss: 0.3019 - level2_loss: 0.3067 - level3_loss: 0.3338 - out_mean_squared_error: 0.3594 - level1_mean_squared_error: 0.3583 - level2_mean_squared_error: 0.3607 - level3_mean_squared_error: 0.3797 - val_loss: 1.5618 - val_out_loss: 0.4254 - val_level1_loss: 0.4247 - val_level2_loss: 0.4321 - val_level3_loss: 0.4532 - val_out_mean_squared_error: 0.5381 - val_level1_mean_squared_error: 0.5279 - val_level2_mean_squared_error: 0.5193 - val_level3_mean_squared_error: 0.4937\n",
            "\n",
            "Epoch 00131: val_out_loss did not improve from 0.37909\n",
            "Epoch 132/300\n",
            "12/12 [==============================] - 11s 958ms/step - loss: 1.1204 - out_loss: 0.3002 - level1_loss: 0.3003 - level2_loss: 0.3092 - level3_loss: 0.3352 - out_mean_squared_error: 0.3603 - level1_mean_squared_error: 0.3587 - level2_mean_squared_error: 0.3610 - level3_mean_squared_error: 0.3792 - val_loss: 1.4838 - val_out_loss: 0.3987 - val_level1_loss: 0.3989 - val_level2_loss: 0.4096 - val_level3_loss: 0.4414 - val_out_mean_squared_error: 0.5064 - val_level1_mean_squared_error: 0.5018 - val_level2_mean_squared_error: 0.4978 - val_level3_mean_squared_error: 0.4858\n",
            "\n",
            "Epoch 00132: val_out_loss did not improve from 0.37909\n",
            "Epoch 133/300\n",
            "12/12 [==============================] - 11s 957ms/step - loss: 1.1212 - out_loss: 0.3000 - level1_loss: 0.3008 - level2_loss: 0.3072 - level3_loss: 0.3379 - out_mean_squared_error: 0.3586 - level1_mean_squared_error: 0.3565 - level2_mean_squared_error: 0.3605 - level3_mean_squared_error: 0.3760 - val_loss: 1.5161 - val_out_loss: 0.4180 - val_level1_loss: 0.4116 - val_level2_loss: 0.4162 - val_level3_loss: 0.4388 - val_out_mean_squared_error: 0.5319 - val_level1_mean_squared_error: 0.5284 - val_level2_mean_squared_error: 0.5174 - val_level3_mean_squared_error: 0.4966\n",
            "\n",
            "Epoch 00133: val_out_loss did not improve from 0.37909\n",
            "Epoch 134/300\n",
            "12/12 [==============================] - 11s 956ms/step - loss: 1.1214 - out_loss: 0.3023 - level1_loss: 0.3004 - level2_loss: 0.3082 - level3_loss: 0.3351 - out_mean_squared_error: 0.3619 - level1_mean_squared_error: 0.3619 - level2_mean_squared_error: 0.3630 - level3_mean_squared_error: 0.3840 - val_loss: 1.5551 - val_out_loss: 0.4263 - val_level1_loss: 0.4272 - val_level2_loss: 0.4303 - val_level3_loss: 0.4441 - val_out_mean_squared_error: 0.5641 - val_level1_mean_squared_error: 0.5513 - val_level2_mean_squared_error: 0.5338 - val_level3_mean_squared_error: 0.5151\n",
            "\n",
            "Epoch 00134: val_out_loss did not improve from 0.37909\n",
            "Epoch 135/300\n",
            "12/12 [==============================] - 11s 957ms/step - loss: 1.1246 - out_loss: 0.3024 - level1_loss: 0.3025 - level2_loss: 0.3083 - level3_loss: 0.3363 - out_mean_squared_error: 0.3571 - level1_mean_squared_error: 0.3566 - level2_mean_squared_error: 0.3601 - level3_mean_squared_error: 0.3800 - val_loss: 1.5491 - val_out_loss: 0.4164 - val_level1_loss: 0.4191 - val_level2_loss: 0.4280 - val_level3_loss: 0.4577 - val_out_mean_squared_error: 0.5391 - val_level1_mean_squared_error: 0.5290 - val_level2_mean_squared_error: 0.5262 - val_level3_mean_squared_error: 0.5214\n",
            "\n",
            "Epoch 00135: val_out_loss did not improve from 0.37909\n",
            "Epoch 136/300\n",
            "12/12 [==============================] - 11s 956ms/step - loss: 1.1248 - out_loss: 0.3035 - level1_loss: 0.3013 - level2_loss: 0.3087 - level3_loss: 0.3362 - out_mean_squared_error: 0.3511 - level1_mean_squared_error: 0.3510 - level2_mean_squared_error: 0.3546 - level3_mean_squared_error: 0.3738 - val_loss: 1.4861 - val_out_loss: 0.4066 - val_level1_loss: 0.4015 - val_level2_loss: 0.4131 - val_level3_loss: 0.4300 - val_out_mean_squared_error: 0.5439 - val_level1_mean_squared_error: 0.5279 - val_level2_mean_squared_error: 0.5295 - val_level3_mean_squared_error: 0.5196\n",
            "\n",
            "Epoch 00136: val_out_loss did not improve from 0.37909\n",
            "Epoch 137/300\n",
            "12/12 [==============================] - 11s 957ms/step - loss: 1.1209 - out_loss: 0.3046 - level1_loss: 0.2996 - level2_loss: 0.3074 - level3_loss: 0.3338 - out_mean_squared_error: 0.3595 - level1_mean_squared_error: 0.3585 - level2_mean_squared_error: 0.3628 - level3_mean_squared_error: 0.3813 - val_loss: 1.5430 - val_out_loss: 0.4171 - val_level1_loss: 0.4197 - val_level2_loss: 0.4239 - val_level3_loss: 0.4537 - val_out_mean_squared_error: 0.5380 - val_level1_mean_squared_error: 0.5292 - val_level2_mean_squared_error: 0.5263 - val_level3_mean_squared_error: 0.5099\n",
            "\n",
            "Epoch 00137: val_out_loss did not improve from 0.37909\n",
            "Epoch 138/300\n",
            "12/12 [==============================] - 11s 958ms/step - loss: 1.1036 - out_loss: 0.2969 - level1_loss: 0.2977 - level2_loss: 0.3021 - level3_loss: 0.3295 - out_mean_squared_error: 0.3552 - level1_mean_squared_error: 0.3521 - level2_mean_squared_error: 0.3584 - level3_mean_squared_error: 0.3755 - val_loss: 1.5282 - val_out_loss: 0.4170 - val_level1_loss: 0.4125 - val_level2_loss: 0.4266 - val_level3_loss: 0.4419 - val_out_mean_squared_error: 0.5276 - val_level1_mean_squared_error: 0.5248 - val_level2_mean_squared_error: 0.5174 - val_level3_mean_squared_error: 0.5001\n",
            "\n",
            "Epoch 00138: val_out_loss did not improve from 0.37909\n",
            "Epoch 139/300\n",
            "12/12 [==============================] - 12s 967ms/step - loss: 1.0862 - out_loss: 0.2898 - level1_loss: 0.2912 - level2_loss: 0.2986 - level3_loss: 0.3273 - out_mean_squared_error: 0.3438 - level1_mean_squared_error: 0.3426 - level2_mean_squared_error: 0.3451 - level3_mean_squared_error: 0.3664 - val_loss: 1.5340 - val_out_loss: 0.4110 - val_level1_loss: 0.4172 - val_level2_loss: 0.4221 - val_level3_loss: 0.4541 - val_out_mean_squared_error: 0.5166 - val_level1_mean_squared_error: 0.5089 - val_level2_mean_squared_error: 0.5102 - val_level3_mean_squared_error: 0.4971\n",
            "\n",
            "Epoch 00139: val_out_loss did not improve from 0.37909\n",
            "Epoch 140/300\n",
            "12/12 [==============================] - 11s 960ms/step - loss: 1.1088 - out_loss: 0.2992 - level1_loss: 0.2955 - level2_loss: 0.3068 - level3_loss: 0.3305 - out_mean_squared_error: 0.3477 - level1_mean_squared_error: 0.3485 - level2_mean_squared_error: 0.3540 - level3_mean_squared_error: 0.3719 - val_loss: 1.4914 - val_out_loss: 0.4013 - val_level1_loss: 0.4031 - val_level2_loss: 0.4140 - val_level3_loss: 0.4387 - val_out_mean_squared_error: 0.5142 - val_level1_mean_squared_error: 0.5115 - val_level2_mean_squared_error: 0.5077 - val_level3_mean_squared_error: 0.5030\n",
            "\n",
            "Epoch 00140: val_out_loss did not improve from 0.37909\n",
            "Epoch 141/300\n",
            "12/12 [==============================] - 11s 960ms/step - loss: 1.1084 - out_loss: 0.2979 - level1_loss: 0.2962 - level2_loss: 0.3059 - level3_loss: 0.3316 - out_mean_squared_error: 0.3476 - level1_mean_squared_error: 0.3468 - level2_mean_squared_error: 0.3532 - level3_mean_squared_error: 0.3717 - val_loss: 1.4496 - val_out_loss: 0.3914 - val_level1_loss: 0.3909 - val_level2_loss: 0.4017 - val_level3_loss: 0.4268 - val_out_mean_squared_error: 0.5138 - val_level1_mean_squared_error: 0.5112 - val_level2_mean_squared_error: 0.5028 - val_level3_mean_squared_error: 0.4886\n",
            "\n",
            "Epoch 00141: val_out_loss did not improve from 0.37909\n",
            "Epoch 142/300\n",
            "12/12 [==============================] - 11s 959ms/step - loss: 1.1035 - out_loss: 0.2964 - level1_loss: 0.2965 - level2_loss: 0.3014 - level3_loss: 0.3318 - out_mean_squared_error: 0.3488 - level1_mean_squared_error: 0.3464 - level2_mean_squared_error: 0.3497 - level3_mean_squared_error: 0.3713 - val_loss: 1.4489 - val_out_loss: 0.3943 - val_level1_loss: 0.3947 - val_level2_loss: 0.4001 - val_level3_loss: 0.4208 - val_out_mean_squared_error: 0.5186 - val_level1_mean_squared_error: 0.5184 - val_level2_mean_squared_error: 0.5087 - val_level3_mean_squared_error: 0.4983\n",
            "\n",
            "Epoch 00142: val_out_loss did not improve from 0.37909\n",
            "Epoch 143/300\n",
            "12/12 [==============================] - 11s 958ms/step - loss: 1.1026 - out_loss: 0.2966 - level1_loss: 0.2963 - level2_loss: 0.3013 - level3_loss: 0.3310 - out_mean_squared_error: 0.3480 - level1_mean_squared_error: 0.3493 - level2_mean_squared_error: 0.3520 - level3_mean_squared_error: 0.3711 - val_loss: 1.5532 - val_out_loss: 0.4172 - val_level1_loss: 0.4182 - val_level2_loss: 0.4277 - val_level3_loss: 0.4627 - val_out_mean_squared_error: 0.5469 - val_level1_mean_squared_error: 0.5424 - val_level2_mean_squared_error: 0.5440 - val_level3_mean_squared_error: 0.5456\n",
            "\n",
            "Epoch 00143: val_out_loss did not improve from 0.37909\n",
            "Epoch 144/300\n",
            "12/12 [==============================] - 12s 1s/step - loss: 1.0947 - out_loss: 0.2911 - level1_loss: 0.2915 - level2_loss: 0.3019 - level3_loss: 0.3319 - out_mean_squared_error: 0.3429 - level1_mean_squared_error: 0.3410 - level2_mean_squared_error: 0.3478 - level3_mean_squared_error: 0.3649 - val_loss: 1.5916 - val_out_loss: 0.4340 - val_level1_loss: 0.4306 - val_level2_loss: 0.4352 - val_level3_loss: 0.4687 - val_out_mean_squared_error: 0.5654 - val_level1_mean_squared_error: 0.5616 - val_level2_mean_squared_error: 0.5548 - val_level3_mean_squared_error: 0.5367\n",
            "\n",
            "Epoch 00144: val_out_loss did not improve from 0.37909\n",
            "Epoch 145/300\n",
            "12/12 [==============================] - 11s 957ms/step - loss: 1.1070 - out_loss: 0.2980 - level1_loss: 0.2966 - level2_loss: 0.3041 - level3_loss: 0.3314 - out_mean_squared_error: 0.3539 - level1_mean_squared_error: 0.3543 - level2_mean_squared_error: 0.3577 - level3_mean_squared_error: 0.3734 - val_loss: 1.6474 - val_out_loss: 0.4509 - val_level1_loss: 0.4463 - val_level2_loss: 0.4528 - val_level3_loss: 0.4804 - val_out_mean_squared_error: 0.5909 - val_level1_mean_squared_error: 0.5839 - val_level2_mean_squared_error: 0.5793 - val_level3_mean_squared_error: 0.5431\n",
            "\n",
            "Epoch 00145: val_out_loss did not improve from 0.37909\n",
            "Epoch 146/300\n",
            "12/12 [==============================] - 11s 958ms/step - loss: 1.0581 - out_loss: 0.2827 - level1_loss: 0.2806 - level2_loss: 0.2897 - level3_loss: 0.3227 - out_mean_squared_error: 0.3323 - level1_mean_squared_error: 0.3314 - level2_mean_squared_error: 0.3358 - level3_mean_squared_error: 0.3571 - val_loss: 1.5139 - val_out_loss: 0.4130 - val_level1_loss: 0.4136 - val_level2_loss: 0.4166 - val_level3_loss: 0.4390 - val_out_mean_squared_error: 0.5510 - val_level1_mean_squared_error: 0.5501 - val_level2_mean_squared_error: 0.5386 - val_level3_mean_squared_error: 0.5051\n",
            "\n",
            "Epoch 00146: val_out_loss did not improve from 0.37909\n",
            "Epoch 147/300\n",
            "12/12 [==============================] - 11s 955ms/step - loss: 1.0593 - out_loss: 0.2840 - level1_loss: 0.2830 - level2_loss: 0.2898 - level3_loss: 0.3202 - out_mean_squared_error: 0.3282 - level1_mean_squared_error: 0.3274 - level2_mean_squared_error: 0.3294 - level3_mean_squared_error: 0.3500 - val_loss: 1.4834 - val_out_loss: 0.4012 - val_level1_loss: 0.4061 - val_level2_loss: 0.4114 - val_level3_loss: 0.4295 - val_out_mean_squared_error: 0.5278 - val_level1_mean_squared_error: 0.5212 - val_level2_mean_squared_error: 0.5186 - val_level3_mean_squared_error: 0.4995\n",
            "\n",
            "Epoch 00147: val_out_loss did not improve from 0.37909\n",
            "Epoch 148/300\n",
            "12/12 [==============================] - 11s 958ms/step - loss: 1.0929 - out_loss: 0.2951 - level1_loss: 0.2916 - level2_loss: 0.2991 - level3_loss: 0.3286 - out_mean_squared_error: 0.3449 - level1_mean_squared_error: 0.3437 - level2_mean_squared_error: 0.3471 - level3_mean_squared_error: 0.3688 - val_loss: 1.5052 - val_out_loss: 0.4112 - val_level1_loss: 0.4091 - val_level2_loss: 0.4171 - val_level3_loss: 0.4351 - val_out_mean_squared_error: 0.5257 - val_level1_mean_squared_error: 0.5289 - val_level2_mean_squared_error: 0.5256 - val_level3_mean_squared_error: 0.5137\n",
            "\n",
            "Epoch 00148: val_out_loss did not improve from 0.37909\n",
            "Epoch 149/300\n",
            "12/12 [==============================] - 11s 956ms/step - loss: 1.0955 - out_loss: 0.2943 - level1_loss: 0.2929 - level2_loss: 0.3010 - level3_loss: 0.3290 - out_mean_squared_error: 0.3451 - level1_mean_squared_error: 0.3464 - level2_mean_squared_error: 0.3511 - level3_mean_squared_error: 0.3707 - val_loss: 1.4983 - val_out_loss: 0.4039 - val_level1_loss: 0.4079 - val_level2_loss: 0.4125 - val_level3_loss: 0.4404 - val_out_mean_squared_error: 0.5385 - val_level1_mean_squared_error: 0.5276 - val_level2_mean_squared_error: 0.5273 - val_level3_mean_squared_error: 0.5085\n",
            "\n",
            "Epoch 00149: val_out_loss did not improve from 0.37909\n",
            "Epoch 150/300\n",
            "12/12 [==============================] - 11s 957ms/step - loss: 1.0836 - out_loss: 0.2906 - level1_loss: 0.2883 - level2_loss: 0.2993 - level3_loss: 0.3259 - out_mean_squared_error: 0.3396 - level1_mean_squared_error: 0.3398 - level2_mean_squared_error: 0.3452 - level3_mean_squared_error: 0.3663 - val_loss: 1.5082 - val_out_loss: 0.4062 - val_level1_loss: 0.4110 - val_level2_loss: 0.4170 - val_level3_loss: 0.4416 - val_out_mean_squared_error: 0.5306 - val_level1_mean_squared_error: 0.5266 - val_level2_mean_squared_error: 0.5298 - val_level3_mean_squared_error: 0.5088\n",
            "\n",
            "Epoch 00150: val_out_loss did not improve from 0.37909\n",
            "Epoch 151/300\n",
            "12/12 [==============================] - 11s 958ms/step - loss: 1.0695 - out_loss: 0.2846 - level1_loss: 0.2858 - level2_loss: 0.2928 - level3_loss: 0.3251 - out_mean_squared_error: 0.3353 - level1_mean_squared_error: 0.3339 - level2_mean_squared_error: 0.3374 - level3_mean_squared_error: 0.3599 - val_loss: 1.4909 - val_out_loss: 0.4034 - val_level1_loss: 0.4072 - val_level2_loss: 0.4110 - val_level3_loss: 0.4349 - val_out_mean_squared_error: 0.5203 - val_level1_mean_squared_error: 0.5130 - val_level2_mean_squared_error: 0.5148 - val_level3_mean_squared_error: 0.4986\n",
            "\n",
            "Epoch 00151: val_out_loss did not improve from 0.37909\n",
            "Epoch 152/300\n",
            "12/12 [==============================] - 11s 960ms/step - loss: 1.1047 - out_loss: 0.2964 - level1_loss: 0.2965 - level2_loss: 0.3047 - level3_loss: 0.3298 - out_mean_squared_error: 0.3464 - level1_mean_squared_error: 0.3453 - level2_mean_squared_error: 0.3488 - level3_mean_squared_error: 0.3651 - val_loss: 1.4860 - val_out_loss: 0.4029 - val_level1_loss: 0.4055 - val_level2_loss: 0.4125 - val_level3_loss: 0.4302 - val_out_mean_squared_error: 0.5337 - val_level1_mean_squared_error: 0.5307 - val_level2_mean_squared_error: 0.5298 - val_level3_mean_squared_error: 0.4988\n",
            "\n",
            "Epoch 00152: val_out_loss did not improve from 0.37909\n",
            "Epoch 153/300\n",
            "12/12 [==============================] - 11s 960ms/step - loss: 1.0805 - out_loss: 0.2889 - level1_loss: 0.2893 - level2_loss: 0.2986 - level3_loss: 0.3237 - out_mean_squared_error: 0.3327 - level1_mean_squared_error: 0.3322 - level2_mean_squared_error: 0.3391 - level3_mean_squared_error: 0.3580 - val_loss: 1.5067 - val_out_loss: 0.4088 - val_level1_loss: 0.4117 - val_level2_loss: 0.4166 - val_level3_loss: 0.4369 - val_out_mean_squared_error: 0.5723 - val_level1_mean_squared_error: 0.5697 - val_level2_mean_squared_error: 0.5448 - val_level3_mean_squared_error: 0.5007\n",
            "\n",
            "Epoch 00153: val_out_loss did not improve from 0.37909\n",
            "Epoch 154/300\n",
            "12/12 [==============================] - 11s 959ms/step - loss: 1.0803 - out_loss: 0.2875 - level1_loss: 0.2886 - level2_loss: 0.2982 - level3_loss: 0.3261 - out_mean_squared_error: 0.3347 - level1_mean_squared_error: 0.3341 - level2_mean_squared_error: 0.3389 - level3_mean_squared_error: 0.3586 - val_loss: 1.4881 - val_out_loss: 0.4016 - val_level1_loss: 0.4065 - val_level2_loss: 0.4170 - val_level3_loss: 0.4284 - val_out_mean_squared_error: 0.5154 - val_level1_mean_squared_error: 0.5118 - val_level2_mean_squared_error: 0.5040 - val_level3_mean_squared_error: 0.5057\n",
            "\n",
            "Epoch 00154: val_out_loss did not improve from 0.37909\n",
            "Epoch 155/300\n",
            "12/12 [==============================] - 11s 958ms/step - loss: 1.0550 - out_loss: 0.2810 - level1_loss: 0.2808 - level2_loss: 0.2908 - level3_loss: 0.3196 - out_mean_squared_error: 0.3236 - level1_mean_squared_error: 0.3223 - level2_mean_squared_error: 0.3283 - level3_mean_squared_error: 0.3490 - val_loss: 1.4021 - val_out_loss: 0.3784 - val_level1_loss: 0.3799 - val_level2_loss: 0.3870 - val_level3_loss: 0.4126 - val_out_mean_squared_error: 0.5014 - val_level1_mean_squared_error: 0.4976 - val_level2_mean_squared_error: 0.4903 - val_level3_mean_squared_error: 0.4721\n",
            "\n",
            "Epoch 00155: val_out_loss improved from 0.37909 to 0.37838, saving model to trained_models/MultiResUNet_2048_64_3_6_1.h5\n",
            "Epoch 156/300\n",
            "12/12 [==============================] - 11s 958ms/step - loss: 1.0734 - out_loss: 0.2863 - level1_loss: 0.2869 - level2_loss: 0.2961 - level3_loss: 0.3233 - out_mean_squared_error: 0.3421 - level1_mean_squared_error: 0.3419 - level2_mean_squared_error: 0.3476 - level3_mean_squared_error: 0.3664 - val_loss: 1.4776 - val_out_loss: 0.4005 - val_level1_loss: 0.4021 - val_level2_loss: 0.4076 - val_level3_loss: 0.4316 - val_out_mean_squared_error: 0.5120 - val_level1_mean_squared_error: 0.5055 - val_level2_mean_squared_error: 0.5036 - val_level3_mean_squared_error: 0.4788\n",
            "\n",
            "Epoch 00156: val_out_loss did not improve from 0.37838\n",
            "Epoch 157/300\n",
            "12/12 [==============================] - 11s 959ms/step - loss: 1.0678 - out_loss: 0.2851 - level1_loss: 0.2851 - level2_loss: 0.2929 - level3_loss: 0.3234 - out_mean_squared_error: 0.3303 - level1_mean_squared_error: 0.3281 - level2_mean_squared_error: 0.3317 - level3_mean_squared_error: 0.3518 - val_loss: 1.4561 - val_out_loss: 0.3975 - val_level1_loss: 0.3947 - val_level2_loss: 0.4061 - val_level3_loss: 0.4195 - val_out_mean_squared_error: 0.4935 - val_level1_mean_squared_error: 0.4943 - val_level2_mean_squared_error: 0.4847 - val_level3_mean_squared_error: 0.4758\n",
            "\n",
            "Epoch 00157: val_out_loss did not improve from 0.37838\n",
            "Epoch 158/300\n",
            "12/12 [==============================] - 11s 958ms/step - loss: 1.0882 - out_loss: 0.2895 - level1_loss: 0.2901 - level2_loss: 0.2997 - level3_loss: 0.3298 - out_mean_squared_error: 0.3399 - level1_mean_squared_error: 0.3384 - level2_mean_squared_error: 0.3426 - level3_mean_squared_error: 0.3648 - val_loss: 1.5546 - val_out_loss: 0.4250 - val_level1_loss: 0.4276 - val_level2_loss: 0.4326 - val_level3_loss: 0.4422 - val_out_mean_squared_error: 0.5522 - val_level1_mean_squared_error: 0.5477 - val_level2_mean_squared_error: 0.5383 - val_level3_mean_squared_error: 0.5210\n",
            "\n",
            "Epoch 00158: val_out_loss did not improve from 0.37838\n",
            "Epoch 159/300\n",
            "12/12 [==============================] - 11s 957ms/step - loss: 1.0678 - out_loss: 0.2821 - level1_loss: 0.2836 - level2_loss: 0.2923 - level3_loss: 0.3284 - out_mean_squared_error: 0.3253 - level1_mean_squared_error: 0.3249 - level2_mean_squared_error: 0.3292 - level3_mean_squared_error: 0.3601 - val_loss: 1.5530 - val_out_loss: 0.4188 - val_level1_loss: 0.4212 - val_level2_loss: 0.4298 - val_level3_loss: 0.4556 - val_out_mean_squared_error: 0.5404 - val_level1_mean_squared_error: 0.5390 - val_level2_mean_squared_error: 0.5375 - val_level3_mean_squared_error: 0.5487\n",
            "\n",
            "Epoch 00159: val_out_loss did not improve from 0.37838\n",
            "Epoch 160/300\n",
            "12/12 [==============================] - 12s 1s/step - loss: 1.0645 - out_loss: 0.2812 - level1_loss: 0.2822 - level2_loss: 0.2910 - level3_loss: 0.3283 - out_mean_squared_error: 0.3246 - level1_mean_squared_error: 0.3239 - level2_mean_squared_error: 0.3291 - level3_mean_squared_error: 0.3549 - val_loss: 1.5631 - val_out_loss: 0.4214 - val_level1_loss: 0.4255 - val_level2_loss: 0.4363 - val_level3_loss: 0.4535 - val_out_mean_squared_error: 0.5486 - val_level1_mean_squared_error: 0.5441 - val_level2_mean_squared_error: 0.5336 - val_level3_mean_squared_error: 0.5207\n",
            "\n",
            "Epoch 00160: val_out_loss did not improve from 0.37838\n",
            "Epoch 161/300\n",
            "12/12 [==============================] - 11s 960ms/step - loss: 1.0509 - out_loss: 0.2798 - level1_loss: 0.2812 - level2_loss: 0.2872 - level3_loss: 0.3195 - out_mean_squared_error: 0.3219 - level1_mean_squared_error: 0.3202 - level2_mean_squared_error: 0.3241 - level3_mean_squared_error: 0.3474 - val_loss: 1.5411 - val_out_loss: 0.4216 - val_level1_loss: 0.4220 - val_level2_loss: 0.4279 - val_level3_loss: 0.4408 - val_out_mean_squared_error: 0.5490 - val_level1_mean_squared_error: 0.5453 - val_level2_mean_squared_error: 0.5349 - val_level3_mean_squared_error: 0.5203\n",
            "\n",
            "Epoch 00161: val_out_loss did not improve from 0.37838\n",
            "Epoch 162/300\n",
            "12/12 [==============================] - 11s 954ms/step - loss: 1.0392 - out_loss: 0.2775 - level1_loss: 0.2759 - level2_loss: 0.2849 - level3_loss: 0.3165 - out_mean_squared_error: 0.3149 - level1_mean_squared_error: 0.3144 - level2_mean_squared_error: 0.3189 - level3_mean_squared_error: 0.3430 - val_loss: 1.5034 - val_out_loss: 0.4095 - val_level1_loss: 0.4078 - val_level2_loss: 0.4186 - val_level3_loss: 0.4347 - val_out_mean_squared_error: 0.5442 - val_level1_mean_squared_error: 0.5420 - val_level2_mean_squared_error: 0.5298 - val_level3_mean_squared_error: 0.5158\n",
            "\n",
            "Epoch 00162: val_out_loss did not improve from 0.37838\n",
            "Epoch 163/300\n",
            "12/12 [==============================] - 11s 958ms/step - loss: 1.0290 - out_loss: 0.2733 - level1_loss: 0.2745 - level2_loss: 0.2813 - level3_loss: 0.3141 - out_mean_squared_error: 0.3151 - level1_mean_squared_error: 0.3144 - level2_mean_squared_error: 0.3204 - level3_mean_squared_error: 0.3450 - val_loss: 1.5494 - val_out_loss: 0.4205 - val_level1_loss: 0.4249 - val_level2_loss: 0.4298 - val_level3_loss: 0.4465 - val_out_mean_squared_error: 0.5604 - val_level1_mean_squared_error: 0.5563 - val_level2_mean_squared_error: 0.5488 - val_level3_mean_squared_error: 0.5268\n",
            "\n",
            "Epoch 00163: val_out_loss did not improve from 0.37838\n",
            "Epoch 164/300\n",
            "12/12 [==============================] - 12s 965ms/step - loss: 1.0307 - out_loss: 0.2736 - level1_loss: 0.2743 - level2_loss: 0.2826 - level3_loss: 0.3148 - out_mean_squared_error: 0.3121 - level1_mean_squared_error: 0.3106 - level2_mean_squared_error: 0.3169 - level3_mean_squared_error: 0.3411 - val_loss: 1.4584 - val_out_loss: 0.3997 - val_level1_loss: 0.3986 - val_level2_loss: 0.4059 - val_level3_loss: 0.4163 - val_out_mean_squared_error: 0.5137 - val_level1_mean_squared_error: 0.5093 - val_level2_mean_squared_error: 0.5019 - val_level3_mean_squared_error: 0.4891\n",
            "\n",
            "Epoch 00164: val_out_loss did not improve from 0.37838\n",
            "Epoch 165/300\n",
            "12/12 [==============================] - 12s 963ms/step - loss: 1.0168 - out_loss: 0.2706 - level1_loss: 0.2692 - level2_loss: 0.2792 - level3_loss: 0.3109 - out_mean_squared_error: 0.3124 - level1_mean_squared_error: 0.3110 - level2_mean_squared_error: 0.3163 - level3_mean_squared_error: 0.3407 - val_loss: 1.4634 - val_out_loss: 0.3987 - val_level1_loss: 0.4008 - val_level2_loss: 0.4063 - val_level3_loss: 0.4202 - val_out_mean_squared_error: 0.5236 - val_level1_mean_squared_error: 0.5199 - val_level2_mean_squared_error: 0.5134 - val_level3_mean_squared_error: 0.5031\n",
            "\n",
            "Epoch 00165: val_out_loss did not improve from 0.37838\n",
            "Epoch 166/300\n",
            "12/12 [==============================] - 12s 962ms/step - loss: 1.0286 - out_loss: 0.2723 - level1_loss: 0.2732 - level2_loss: 0.2816 - level3_loss: 0.3158 - out_mean_squared_error: 0.3087 - level1_mean_squared_error: 0.3080 - level2_mean_squared_error: 0.3151 - level3_mean_squared_error: 0.3442 - val_loss: 1.5074 - val_out_loss: 0.4114 - val_level1_loss: 0.4147 - val_level2_loss: 0.4198 - val_level3_loss: 0.4289 - val_out_mean_squared_error: 0.5203 - val_level1_mean_squared_error: 0.5191 - val_level2_mean_squared_error: 0.5131 - val_level3_mean_squared_error: 0.4928\n",
            "\n",
            "Epoch 00166: val_out_loss did not improve from 0.37838\n",
            "Epoch 167/300\n",
            "12/12 [==============================] - 11s 960ms/step - loss: 0.9983 - out_loss: 0.2630 - level1_loss: 0.2634 - level2_loss: 0.2732 - level3_loss: 0.3096 - out_mean_squared_error: 0.2975 - level1_mean_squared_error: 0.2968 - level2_mean_squared_error: 0.3025 - level3_mean_squared_error: 0.3297 - val_loss: 1.4641 - val_out_loss: 0.3987 - val_level1_loss: 0.3989 - val_level2_loss: 0.4066 - val_level3_loss: 0.4226 - val_out_mean_squared_error: 0.5021 - val_level1_mean_squared_error: 0.5032 - val_level2_mean_squared_error: 0.4986 - val_level3_mean_squared_error: 0.4790\n",
            "\n",
            "Epoch 00167: val_out_loss did not improve from 0.37838\n",
            "Epoch 168/300\n",
            "12/12 [==============================] - 11s 960ms/step - loss: 1.0130 - out_loss: 0.2693 - level1_loss: 0.2672 - level2_loss: 0.2778 - level3_loss: 0.3112 - out_mean_squared_error: 0.3038 - level1_mean_squared_error: 0.3026 - level2_mean_squared_error: 0.3101 - level3_mean_squared_error: 0.3376 - val_loss: 1.5021 - val_out_loss: 0.4060 - val_level1_loss: 0.4122 - val_level2_loss: 0.4144 - val_level3_loss: 0.4364 - val_out_mean_squared_error: 0.5325 - val_level1_mean_squared_error: 0.5296 - val_level2_mean_squared_error: 0.5218 - val_level3_mean_squared_error: 0.5074\n",
            "\n",
            "Epoch 00168: val_out_loss did not improve from 0.37838\n",
            "Epoch 169/300\n",
            "12/12 [==============================] - 11s 960ms/step - loss: 0.9961 - out_loss: 0.2626 - level1_loss: 0.2644 - level2_loss: 0.2726 - level3_loss: 0.3072 - out_mean_squared_error: 0.3007 - level1_mean_squared_error: 0.2990 - level2_mean_squared_error: 0.3052 - level3_mean_squared_error: 0.3297 - val_loss: 1.4337 - val_out_loss: 0.3872 - val_level1_loss: 0.3908 - val_level2_loss: 0.3979 - val_level3_loss: 0.4171 - val_out_mean_squared_error: 0.4957 - val_level1_mean_squared_error: 0.4934 - val_level2_mean_squared_error: 0.4882 - val_level3_mean_squared_error: 0.4763\n",
            "\n",
            "Epoch 00169: val_out_loss did not improve from 0.37838\n",
            "Epoch 170/300\n",
            "12/12 [==============================] - 11s 958ms/step - loss: 1.0139 - out_loss: 0.2686 - level1_loss: 0.2677 - level2_loss: 0.2777 - level3_loss: 0.3126 - out_mean_squared_error: 0.3031 - level1_mean_squared_error: 0.3030 - level2_mean_squared_error: 0.3089 - level3_mean_squared_error: 0.3374 - val_loss: 1.4545 - val_out_loss: 0.3941 - val_level1_loss: 0.3969 - val_level2_loss: 0.4041 - val_level3_loss: 0.4211 - val_out_mean_squared_error: 0.5194 - val_level1_mean_squared_error: 0.5183 - val_level2_mean_squared_error: 0.5068 - val_level3_mean_squared_error: 0.4881\n",
            "\n",
            "Epoch 00170: val_out_loss did not improve from 0.37838\n",
            "Epoch 171/300\n",
            "12/12 [==============================] - 12s 962ms/step - loss: 1.0301 - out_loss: 0.2739 - level1_loss: 0.2740 - level2_loss: 0.2823 - level3_loss: 0.3143 - out_mean_squared_error: 0.3089 - level1_mean_squared_error: 0.3090 - level2_mean_squared_error: 0.3152 - level3_mean_squared_error: 0.3353 - val_loss: 1.4642 - val_out_loss: 0.3970 - val_level1_loss: 0.3991 - val_level2_loss: 0.4061 - val_level3_loss: 0.4247 - val_out_mean_squared_error: 0.5212 - val_level1_mean_squared_error: 0.5179 - val_level2_mean_squared_error: 0.5173 - val_level3_mean_squared_error: 0.4874\n",
            "\n",
            "Epoch 00171: val_out_loss did not improve from 0.37838\n",
            "Epoch 172/300\n",
            "12/12 [==============================] - 11s 959ms/step - loss: 1.0083 - out_loss: 0.2672 - level1_loss: 0.2677 - level2_loss: 0.2762 - level3_loss: 0.3093 - out_mean_squared_error: 0.3003 - level1_mean_squared_error: 0.2990 - level2_mean_squared_error: 0.3059 - level3_mean_squared_error: 0.3316 - val_loss: 1.4899 - val_out_loss: 0.4035 - val_level1_loss: 0.4099 - val_level2_loss: 0.4158 - val_level3_loss: 0.4262 - val_out_mean_squared_error: 0.5422 - val_level1_mean_squared_error: 0.5396 - val_level2_mean_squared_error: 0.5376 - val_level3_mean_squared_error: 0.5014\n",
            "\n",
            "Epoch 00172: val_out_loss did not improve from 0.37838\n",
            "Epoch 173/300\n",
            "12/12 [==============================] - 11s 958ms/step - loss: 0.9930 - out_loss: 0.2626 - level1_loss: 0.2638 - level2_loss: 0.2712 - level3_loss: 0.3058 - out_mean_squared_error: 0.2968 - level1_mean_squared_error: 0.2969 - level2_mean_squared_error: 0.3013 - level3_mean_squared_error: 0.3277 - val_loss: 1.4451 - val_out_loss: 0.3925 - val_level1_loss: 0.3931 - val_level2_loss: 0.3981 - val_level3_loss: 0.4220 - val_out_mean_squared_error: 0.5229 - val_level1_mean_squared_error: 0.5161 - val_level2_mean_squared_error: 0.5091 - val_level3_mean_squared_error: 0.4769\n",
            "\n",
            "Epoch 00173: val_out_loss did not improve from 0.37838\n",
            "Epoch 174/300\n",
            "12/12 [==============================] - 11s 959ms/step - loss: 1.0168 - out_loss: 0.2701 - level1_loss: 0.2717 - level2_loss: 0.2791 - level3_loss: 0.3089 - out_mean_squared_error: 0.3076 - level1_mean_squared_error: 0.3065 - level2_mean_squared_error: 0.3106 - level3_mean_squared_error: 0.3346 - val_loss: 1.4261 - val_out_loss: 0.3926 - val_level1_loss: 0.3922 - val_level2_loss: 0.3929 - val_level3_loss: 0.4069 - val_out_mean_squared_error: 0.5258 - val_level1_mean_squared_error: 0.5181 - val_level2_mean_squared_error: 0.5101 - val_level3_mean_squared_error: 0.4897\n",
            "\n",
            "Epoch 00174: val_out_loss did not improve from 0.37838\n",
            "Epoch 175/300\n",
            "12/12 [==============================] - 11s 960ms/step - loss: 0.9946 - out_loss: 0.2621 - level1_loss: 0.2625 - level2_loss: 0.2712 - level3_loss: 0.3093 - out_mean_squared_error: 0.2877 - level1_mean_squared_error: 0.2869 - level2_mean_squared_error: 0.2933 - level3_mean_squared_error: 0.3235 - val_loss: 1.4252 - val_out_loss: 0.3858 - val_level1_loss: 0.3898 - val_level2_loss: 0.3926 - val_level3_loss: 0.4154 - val_out_mean_squared_error: 0.5119 - val_level1_mean_squared_error: 0.5039 - val_level2_mean_squared_error: 0.5009 - val_level3_mean_squared_error: 0.4827\n",
            "\n",
            "Epoch 00175: val_out_loss did not improve from 0.37838\n",
            "Epoch 176/300\n",
            "12/12 [==============================] - 12s 965ms/step - loss: 1.0031 - out_loss: 0.2652 - level1_loss: 0.2658 - level2_loss: 0.2744 - level3_loss: 0.3091 - out_mean_squared_error: 0.3001 - level1_mean_squared_error: 0.2982 - level2_mean_squared_error: 0.3031 - level3_mean_squared_error: 0.3285 - val_loss: 1.4862 - val_out_loss: 0.4067 - val_level1_loss: 0.4049 - val_level2_loss: 0.4084 - val_level3_loss: 0.4314 - val_out_mean_squared_error: 0.5523 - val_level1_mean_squared_error: 0.5441 - val_level2_mean_squared_error: 0.5291 - val_level3_mean_squared_error: 0.5005\n",
            "\n",
            "Epoch 00176: val_out_loss did not improve from 0.37838\n",
            "Epoch 177/300\n",
            "12/12 [==============================] - 12s 964ms/step - loss: 1.0016 - out_loss: 0.2658 - level1_loss: 0.2649 - level2_loss: 0.2736 - level3_loss: 0.3086 - out_mean_squared_error: 0.3017 - level1_mean_squared_error: 0.3016 - level2_mean_squared_error: 0.3066 - level3_mean_squared_error: 0.3305 - val_loss: 1.4525 - val_out_loss: 0.3931 - val_level1_loss: 0.3966 - val_level2_loss: 0.4062 - val_level3_loss: 0.4181 - val_out_mean_squared_error: 0.5221 - val_level1_mean_squared_error: 0.5144 - val_level2_mean_squared_error: 0.5072 - val_level3_mean_squared_error: 0.4822\n",
            "\n",
            "Epoch 00177: val_out_loss did not improve from 0.37838\n",
            "Epoch 178/300\n",
            "12/12 [==============================] - 12s 961ms/step - loss: 0.9851 - out_loss: 0.2594 - level1_loss: 0.2598 - level2_loss: 0.2699 - level3_loss: 0.3054 - out_mean_squared_error: 0.2890 - level1_mean_squared_error: 0.2878 - level2_mean_squared_error: 0.2951 - level3_mean_squared_error: 0.3223 - val_loss: 1.4167 - val_out_loss: 0.3861 - val_level1_loss: 0.3863 - val_level2_loss: 0.3953 - val_level3_loss: 0.4064 - val_out_mean_squared_error: 0.5088 - val_level1_mean_squared_error: 0.5004 - val_level2_mean_squared_error: 0.4947 - val_level3_mean_squared_error: 0.4754\n",
            "\n",
            "Epoch 00178: val_out_loss did not improve from 0.37838\n",
            "Epoch 179/300\n",
            "12/12 [==============================] - 12s 1s/step - loss: 1.0090 - out_loss: 0.2669 - level1_loss: 0.2671 - level2_loss: 0.2749 - level3_loss: 0.3123 - out_mean_squared_error: 0.3014 - level1_mean_squared_error: 0.3013 - level2_mean_squared_error: 0.3066 - level3_mean_squared_error: 0.3324 - val_loss: 1.4280 - val_out_loss: 0.3896 - val_level1_loss: 0.3906 - val_level2_loss: 0.3959 - val_level3_loss: 0.4105 - val_out_mean_squared_error: 0.5011 - val_level1_mean_squared_error: 0.4973 - val_level2_mean_squared_error: 0.4915 - val_level3_mean_squared_error: 0.4754\n",
            "\n",
            "Epoch 00179: val_out_loss did not improve from 0.37838\n",
            "Epoch 180/300\n",
            "12/12 [==============================] - 11s 959ms/step - loss: 0.9710 - out_loss: 0.2571 - level1_loss: 0.2536 - level2_loss: 0.2663 - level3_loss: 0.3019 - out_mean_squared_error: 0.2804 - level1_mean_squared_error: 0.2787 - level2_mean_squared_error: 0.2860 - level3_mean_squared_error: 0.3188 - val_loss: 1.4144 - val_out_loss: 0.3849 - val_level1_loss: 0.3868 - val_level2_loss: 0.3945 - val_level3_loss: 0.4053 - val_out_mean_squared_error: 0.5085 - val_level1_mean_squared_error: 0.4998 - val_level2_mean_squared_error: 0.4918 - val_level3_mean_squared_error: 0.4741\n",
            "\n",
            "Epoch 00180: val_out_loss did not improve from 0.37838\n",
            "Epoch 181/300\n",
            "12/12 [==============================] - 11s 957ms/step - loss: 0.9790 - out_loss: 0.2570 - level1_loss: 0.2589 - level2_loss: 0.2680 - level3_loss: 0.3039 - out_mean_squared_error: 0.2842 - level1_mean_squared_error: 0.2849 - level2_mean_squared_error: 0.2908 - level3_mean_squared_error: 0.3190 - val_loss: 1.4286 - val_out_loss: 0.3879 - val_level1_loss: 0.3910 - val_level2_loss: 0.3968 - val_level3_loss: 0.4116 - val_out_mean_squared_error: 0.5005 - val_level1_mean_squared_error: 0.4960 - val_level2_mean_squared_error: 0.4954 - val_level3_mean_squared_error: 0.4851\n",
            "\n",
            "Epoch 00181: val_out_loss did not improve from 0.37838\n",
            "Epoch 182/300\n",
            "12/12 [==============================] - 11s 959ms/step - loss: 0.9645 - out_loss: 0.2528 - level1_loss: 0.2544 - level2_loss: 0.2645 - level3_loss: 0.2999 - out_mean_squared_error: 0.2788 - level1_mean_squared_error: 0.2791 - level2_mean_squared_error: 0.2873 - level3_mean_squared_error: 0.3132 - val_loss: 1.5005 - val_out_loss: 0.4039 - val_level1_loss: 0.4035 - val_level2_loss: 0.4122 - val_level3_loss: 0.4477 - val_out_mean_squared_error: 0.5157 - val_level1_mean_squared_error: 0.5065 - val_level2_mean_squared_error: 0.5049 - val_level3_mean_squared_error: 0.4874\n",
            "\n",
            "Epoch 00182: val_out_loss did not improve from 0.37838\n",
            "Epoch 183/300\n",
            "12/12 [==============================] - 11s 959ms/step - loss: 0.9720 - out_loss: 0.2558 - level1_loss: 0.2563 - level2_loss: 0.2649 - level3_loss: 0.3030 - out_mean_squared_error: 0.2809 - level1_mean_squared_error: 0.2810 - level2_mean_squared_error: 0.2882 - level3_mean_squared_error: 0.3175 - val_loss: 1.5356 - val_out_loss: 0.4187 - val_level1_loss: 0.4193 - val_level2_loss: 0.4235 - val_level3_loss: 0.4449 - val_out_mean_squared_error: 0.5095 - val_level1_mean_squared_error: 0.5061 - val_level2_mean_squared_error: 0.4999 - val_level3_mean_squared_error: 0.4894\n",
            "\n",
            "Epoch 00183: val_out_loss did not improve from 0.37838\n",
            "Epoch 184/300\n",
            "12/12 [==============================] - 11s 960ms/step - loss: 0.9774 - out_loss: 0.2568 - level1_loss: 0.2590 - level2_loss: 0.2687 - level3_loss: 0.3014 - out_mean_squared_error: 0.2790 - level1_mean_squared_error: 0.2800 - level2_mean_squared_error: 0.2861 - level3_mean_squared_error: 0.3128 - val_loss: 1.5923 - val_out_loss: 0.4326 - val_level1_loss: 0.4323 - val_level2_loss: 0.4356 - val_level3_loss: 0.4686 - val_out_mean_squared_error: 0.5315 - val_level1_mean_squared_error: 0.5233 - val_level2_mean_squared_error: 0.5145 - val_level3_mean_squared_error: 0.4999\n",
            "\n",
            "Epoch 00184: val_out_loss did not improve from 0.37838\n",
            "Epoch 185/300\n",
            "12/12 [==============================] - 11s 960ms/step - loss: 1.0085 - out_loss: 0.2677 - level1_loss: 0.2678 - level2_loss: 0.2772 - level3_loss: 0.3078 - out_mean_squared_error: 0.3008 - level1_mean_squared_error: 0.2995 - level2_mean_squared_error: 0.3041 - level3_mean_squared_error: 0.3243 - val_loss: 1.4801 - val_out_loss: 0.4028 - val_level1_loss: 0.4016 - val_level2_loss: 0.4121 - val_level3_loss: 0.4281 - val_out_mean_squared_error: 0.5094 - val_level1_mean_squared_error: 0.5058 - val_level2_mean_squared_error: 0.5046 - val_level3_mean_squared_error: 0.4943\n",
            "\n",
            "Epoch 00185: val_out_loss did not improve from 0.37838\n"
          ]
        }
      ]
    },
    {
      "cell_type": "markdown",
      "metadata": {
        "id": "KXKtueC8-Hec"
      },
      "source": [
        "Predict from the Test set"
      ]
    },
    {
      "cell_type": "code",
      "metadata": {
        "id": "da_GxBdub11V",
        "colab": {
          "base_uri": "https://localhost:8080/"
        },
        "outputId": "d20de156-8be2-4471-86f2-59541756d72d"
      },
      "source": [
        "if D_S == 0:\n",
        "    EEG_App = EEGIMU_Network.predict(X_Test, verbose=1)\n",
        "    print(EEG_App.shape)\n",
        "elif D_S == 1:\n",
        "    EEG_App = EEGIMU_Network.predict(X_Test1, verbose=1)\n",
        "    print(EEG_App[0].shape)"
      ],
      "execution_count": 22,
      "outputs": [
        {
          "output_type": "stream",
          "name": "stdout",
          "text": [
            "8/8 [==============================] - 4s 167ms/step\n",
            "(229, 2048, 1)\n"
          ]
        }
      ]
    },
    {
      "cell_type": "markdown",
      "metadata": {
        "id": "I5VOUzPq-qyv"
      },
      "source": [
        "Plot History Plots (e.g., Loss, Accuracy, etc.)"
      ]
    },
    {
      "cell_type": "code",
      "metadata": {
        "id": "FEbvTDd7-nZH",
        "colab": {
          "base_uri": "https://localhost:8080/",
          "height": 522
        },
        "outputId": "0b0ceaa4-368b-41ff-c4e2-8474578e7141"
      },
      "source": [
        "def history_plot(history):\n",
        "  # list all dictionaries in history\n",
        "  print(history.history.keys())\n",
        "  # summarize history for error\n",
        "  plt.figure(figsize=(7,7))\n",
        "  plt.subplot(2,1,1)\n",
        "  plt.plot(history.history['out_mean_squared_error'])\n",
        "  plt.plot(history.history['val_out_mean_squared_error'])\n",
        "  plt.title('Model Error Performance')\n",
        "  plt.ylabel('Error')\n",
        "  plt.xlabel('Epoch')\n",
        "  plt.legend(['Train', 'Val'], loc='upper right')\n",
        "  plt.ylim([0, 3])\n",
        "  plt.show()\n",
        "  # summarize history for loss\n",
        "  plt.figure(figsize=(7,7))\n",
        "  plt.subplot(2,1,2)\n",
        "  plt.plot(history.history['out_loss'])\n",
        "  plt.plot(history.history['val_out_loss'])\n",
        "  plt.title('Model Loss')\n",
        "  plt.ylabel('Loss')\n",
        "  plt.xlabel('Epoch')\n",
        "  plt.legend(['Train', 'Val'], loc='upper right')\n",
        "  plt.ylim([0, 3])\n",
        "  plt.show()\n",
        "#\n",
        "history_plot(history)"
      ],
      "execution_count": 23,
      "outputs": [
        {
          "output_type": "stream",
          "name": "stdout",
          "text": [
            "dict_keys(['loss', 'out_loss', 'level1_loss', 'level2_loss', 'level3_loss', 'out_mean_squared_error', 'level1_mean_squared_error', 'level2_mean_squared_error', 'level3_mean_squared_error', 'val_loss', 'val_out_loss', 'val_level1_loss', 'val_level2_loss', 'val_level3_loss', 'val_out_mean_squared_error', 'val_level1_mean_squared_error', 'val_level2_mean_squared_error', 'val_level3_mean_squared_error'])\n"
          ]
        },
        {
          "output_type": "display_data",
          "data": {
            "image/png": "[encoded data removed]",
            "text/plain": [
              "<Figure size 504x504 with 1 Axes>"
            ]
          },
          "metadata": {}
        },
        {
          "output_type": "display_data",
          "data": {
            "image/png": "[encoded data removed]",
            "text/plain": [
              "<Figure size 504x504 with 1 Axes>"
            ]
          },
          "metadata": {}
        }
      ]
    },
    {
      "cell_type": "markdown",
      "metadata": {
        "id": "RAkQe4Yp9QVP"
      },
      "source": [
        "Visualize Outcome"
      ]
    },
    {
      "cell_type": "code",
      "metadata": {
        "id": "tq3lBCm0crMc",
        "colab": {
          "base_uri": "https://localhost:8080/",
          "height": 281
        },
        "outputId": "2c667212-38e4-4cc5-d18c-70f3236cc5e8"
      },
      "source": [
        "if D_S == 0:\n",
        "    i = random.randint(0,len(Y_Test));\n",
        "    #\n",
        "    MAE = np.mean(np.abs(EEG_App[i].ravel()-Y_Test[i].ravel()));\n",
        "    #\n",
        "    plt.figure(figsize=(15, 4));\n",
        "    plt.plot(Y_Test1[i],label='GRND');\n",
        "    plt.plot(EEG_App[i].ravel(), label='Pred');\n",
        "    plt.title(f\"EEG -- Sample Number {i} -- MAE = {MAE}\");\n",
        "    plt.legend();\n",
        "    #\n",
        "elif D_S == 1:\n",
        "    i = random.randint(0,len(Y_Test));\n",
        "    #\n",
        "    MAE = np.mean(np.abs(EEG_App[0][i].ravel()-Y_Test[i].ravel()))\n",
        "    #\n",
        "    plt.figure(figsize=(15,4))\n",
        "    # plt.subplot(5,1,1)\n",
        "    plt.plot(Y_Test[i],label='Ground Truth');\n",
        "    plt.plot(EEG_App[0][i].ravel(), label='Prediction');\n",
        "    plt.title(f\"GRF -- Sample Number {i} -- MAE = {MAE}\");\n",
        "    plt.legend();\n",
        "    plt.show()\n",
        "    # plt.subplot(5,1,2)\n",
        "    # plt.plot((X_Test[i,:,0].ravel()),label='EEG2');\n",
        "    # plt.title('EEG2')\n",
        "    # plt.legend();\n",
        "    # plt.subplot(5,1,3)\n",
        "    # plt.plot((X_Test[i,:,1].ravel()),label='ACCX2');\n",
        "    # plt.title('ACCX')\n",
        "    # plt.legend();\n",
        "    # plt.subplot(5,1,4)\n",
        "    # plt.plot((X_Test[i,:,2].ravel()),label='ACCY2');\n",
        "    # plt.title('ACCY')\n",
        "    # plt.legend();\n",
        "    # plt.subplot(5,1,5)\n",
        "    # plt.plot((X_Test[i,:,3].ravel()),label='ACCZ2');\n",
        "    # plt.title('ACCZ')\n",
        "    # plt.legend();"
      ],
      "execution_count": 32,
      "outputs": [
        {
          "output_type": "display_data",
          "data": {
            "image/png": "[encoded data removed]",
            "text/plain": [
              "<Figure size 1080x288 with 1 Axes>"
            ]
          },
          "metadata": {}
        }
      ]
    },
    {
      "cell_type": "markdown",
      "metadata": {
        "id": "qgyZlT9gOC3r"
      },
      "source": [
        "### Evaluate EEG Reconstruction"
      ]
    },
    {
      "cell_type": "markdown",
      "metadata": {
        "id": "3Tn5t8svOC3z"
      },
      "source": [
        "Construction Error"
      ]
    },
    {
      "cell_type": "code",
      "metadata": {
        "id": "dCpLcxFHHGO4"
      },
      "source": [
        "def Construction_Error(GRND, Pred):\n",
        "    construction_err = []\n",
        "    bad_indices = []\n",
        "    count = 0\n",
        "\n",
        "    for i in range(len(GRND)):\n",
        "        MAE = np.mean(np.abs(Pred[i].ravel() - GRND[i].ravel()))\n",
        "        if MAE < 1:\n",
        "            construction_err.append(MAE)\n",
        "        elif MAE >= 1:\n",
        "            count = count + 1\n",
        "            bad_indices.append(i)\n",
        "\n",
        "    print(f'Construction Error : {round(np.mean(construction_err), 3)} +/- {round(np.std(construction_err), 3)}')\n",
        "    print(f'Number of Bad Predictions = {count}')\n",
        "\n",
        "    bad_indices = set(bad_indices)\n",
        "    all_indices = set(np.arange(len(GRND)))\n",
        "    good_indices = np.array(list(all_indices - bad_indices))\n",
        "    GRND_NEW = GRND[good_indices]\n",
        "    PRED_NEW = Pred[good_indices]\n",
        "\n",
        "    return GRND_NEW, PRED_NEW"
      ],
      "execution_count": 25,
      "outputs": []
    },
    {
      "cell_type": "code",
      "metadata": {
        "id": "-e5e02IX18_0",
        "colab": {
          "base_uri": "https://localhost:8080/"
        },
        "outputId": "d0392df8-853c-4c25-a185-b70379e04f9a"
      },
      "source": [
        "[A,B] = Construction_Error(Y_Test,EEG_App[0])"
      ],
      "execution_count": 26,
      "outputs": [
        {
          "output_type": "stream",
          "name": "stdout",
          "text": [
            "Construction Error : 0.325 +/- 0.224\n",
            "Number of Bad Predictions = 13\n"
          ]
        }
      ]
    },
    {
      "cell_type": "markdown",
      "metadata": {
        "id": "RpBffrdYhNFs"
      },
      "source": [
        "### Save Files"
      ]
    },
    {
      "cell_type": "code",
      "metadata": {
        "id": "PIUgbKfFhO7O",
        "colab": {
          "base_uri": "https://localhost:8080/",
          "height": 231
        },
        "outputId": "9d5fe554-0fac-42bf-eeaa-7cb88525beb4"
      },
      "source": [
        "output_directory = 'Patient_Wise_Data/Outputs/Preds_Sub_' + str(Test_Case) + '.h5'\n",
        "File = h5py.File(output_directory, 'w')\n",
        "File.create_dataset('EEG_GT', data=Y_Test)\n",
        "File.create_dataset('EEG_MA', data=X_Test[:,:,0])\n",
        "File.create_dataset('EEG_Pred', data=EEG_App[0])\n",
        "File.close()"
      ],
      "execution_count": 27,
      "outputs": [
        {
          "output_type": "error",
          "ename": "NameError",
          "evalue": "ignored",
          "traceback": [
            "\u001b[0;31m---------------------------------------------------------------------------\u001b[0m",
            "\u001b[0;31mNameError\u001b[0m                                 Traceback (most recent call last)",
            "\u001b[0;32m<ipython-input-27-25ffc6fbf276>\u001b[0m in \u001b[0;36m<module>\u001b[0;34m()\u001b[0m\n\u001b[0;32m----> 1\u001b[0;31m \u001b[0moutput_directory\u001b[0m \u001b[0;34m=\u001b[0m \u001b[0;34m'Patient_Wise_Data/Outputs/Preds_Sub_'\u001b[0m \u001b[0;34m+\u001b[0m \u001b[0mstr\u001b[0m\u001b[0;34m(\u001b[0m\u001b[0mTest_Case\u001b[0m\u001b[0;34m)\u001b[0m \u001b[0;34m+\u001b[0m \u001b[0;34m'.h5'\u001b[0m\u001b[0;34m\u001b[0m\u001b[0;34m\u001b[0m\u001b[0m\n\u001b[0m\u001b[1;32m      2\u001b[0m \u001b[0mFile\u001b[0m \u001b[0;34m=\u001b[0m \u001b[0mh5py\u001b[0m\u001b[0;34m.\u001b[0m\u001b[0mFile\u001b[0m\u001b[0;34m(\u001b[0m\u001b[0moutput_directory\u001b[0m\u001b[0;34m,\u001b[0m \u001b[0;34m'w'\u001b[0m\u001b[0;34m)\u001b[0m\u001b[0;34m\u001b[0m\u001b[0;34m\u001b[0m\u001b[0m\n\u001b[1;32m      3\u001b[0m \u001b[0mFile\u001b[0m\u001b[0;34m.\u001b[0m\u001b[0mcreate_dataset\u001b[0m\u001b[0;34m(\u001b[0m\u001b[0;34m'EEG_GT'\u001b[0m\u001b[0;34m,\u001b[0m \u001b[0mdata\u001b[0m\u001b[0;34m=\u001b[0m\u001b[0mY_Test\u001b[0m\u001b[0;34m)\u001b[0m\u001b[0;34m\u001b[0m\u001b[0;34m\u001b[0m\u001b[0m\n\u001b[1;32m      4\u001b[0m \u001b[0mFile\u001b[0m\u001b[0;34m.\u001b[0m\u001b[0mcreate_dataset\u001b[0m\u001b[0;34m(\u001b[0m\u001b[0;34m'EEG_MA'\u001b[0m\u001b[0;34m,\u001b[0m \u001b[0mdata\u001b[0m\u001b[0;34m=\u001b[0m\u001b[0mX_Test\u001b[0m\u001b[0;34m[\u001b[0m\u001b[0;34m:\u001b[0m\u001b[0;34m,\u001b[0m\u001b[0;34m:\u001b[0m\u001b[0;34m,\u001b[0m\u001b[0;36m0\u001b[0m\u001b[0;34m]\u001b[0m\u001b[0;34m)\u001b[0m\u001b[0;34m\u001b[0m\u001b[0;34m\u001b[0m\u001b[0m\n\u001b[1;32m      5\u001b[0m \u001b[0mFile\u001b[0m\u001b[0;34m.\u001b[0m\u001b[0mcreate_dataset\u001b[0m\u001b[0;34m(\u001b[0m\u001b[0;34m'EEG_Pred'\u001b[0m\u001b[0;34m,\u001b[0m \u001b[0mdata\u001b[0m\u001b[0;34m=\u001b[0m\u001b[0mEEG_App\u001b[0m\u001b[0;34m[\u001b[0m\u001b[0;36m0\u001b[0m\u001b[0;34m]\u001b[0m\u001b[0;34m)\u001b[0m\u001b[0;34m\u001b[0m\u001b[0;34m\u001b[0m\u001b[0m\n",
            "\u001b[0;31mNameError\u001b[0m: name 'Test_Case' is not defined"
          ]
        }
      ]
    },
    {
      "cell_type": "markdown",
      "metadata": {
        "id": "WesN7p7AeYK4"
      },
      "source": [
        "# Infinite Loop to Keep the Tab Alive"
      ]
    },
    {
      "cell_type": "code",
      "metadata": {
        "id": "0HqQ3O6XeZ1f"
      },
      "source": [
        "while True:\n",
        "    pass"
      ],
      "execution_count": null,
      "outputs": []
    }
  ]
}