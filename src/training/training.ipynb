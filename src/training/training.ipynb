{
  "nbformat": 4,
  "nbformat_minor": 0,
  "metadata": {
    "colab": {
      "name": "EEG_Motion_Artifact_Removal_v1.ipynb",
      "provenance": [],
      "collapsed_sections": [
        "tgW7r0C9TuZk",
        "WOaiV66cCD6L",
        "fI8UCcR-oZc-",
        "_qTwozk_BS94",
        "WesN7p7AeYK4"
      ],
      "machine_shape": "hm",
      "include_colab_link": true
    },
    "kernelspec": {
      "display_name": "Python 3",
      "language": "python",
      "name": "python3"
    },
    "language_info": {
      "codemirror_mode": {
        "name": "ipython",
        "version": 3
      },
      "file_extension": ".py",
      "mimetype": "text/x-python",
      "name": "python",
      "nbconvert_exporter": "python",
      "pygments_lexer": "ipython3",
      "version": "3.5.2"
    },
    "accelerator": "GPU"
  },
  "cells": [
    {
      "cell_type": "markdown",
      "metadata": {
        "id": "view-in-github",
        "colab_type": "text"
      },
      "source": [
        "<a href=\"https://colab.research.google.com/github/atick-faisal/GRF-Synthesis-from-Motion-Trajectories/blob/main/src/training/training.ipynb\" target=\"_parent\"><img src=\"https://colab.research.google.com/assets/colab-badge.svg\" alt=\"Open In Colab\"/></a>"
      ]
    },
    {
      "cell_type": "markdown",
      "metadata": {
        "id": "sFyb0y7PUJOo"
      },
      "source": [
        "# EEG Motion Artifact Removal using Deep Learning - Complete Pipeline"
      ]
    },
    {
      "cell_type": "markdown",
      "metadata": {
        "id": "W9vTr2NhcGAA"
      },
      "source": [
        "# Test GPU (Optional)\n",
        "Before Starting, kindly check the available GPU from the Google Server, GPU model and other related information. It might help!"
      ]
    },
    {
      "cell_type": "code",
      "metadata": {
        "colab": {
          "base_uri": "https://localhost:8080/"
        },
        "id": "VUNJNtNxcFTF",
        "outputId": "72798737-679a-493e-df73-9d6ef64a7e94"
      },
      "source": [
        "import torch\n",
        "print(\"Is CUDA enabled GPU Available?\", torch.cuda.is_available())\n",
        "print(\"GPU Number:\", torch.cuda.device_count())\n",
        "print(\"Current GPU Index:\", torch.cuda.current_device())\n",
        "print(\"GPU Type:\", torch.cuda.get_device_name(device=None))\n",
        "print(\"GPU Capability:\", torch.cuda.get_device_capability(device=None))\n",
        "print(\"Is GPU Initialized yet?\", torch.cuda.is_initialized())"
      ],
      "execution_count": 1,
      "outputs": [
        {
          "output_type": "stream",
          "name": "stdout",
          "text": [
            "Is CUDA enabled GPU Available? True\n",
            "GPU Number: 1\n",
            "Current GPU Index: 0\n",
            "GPU Type: Tesla K80\n",
            "GPU Capability: (3, 7)\n",
            "Is GPU Initialized yet? True\n"
          ]
        }
      ]
    },
    {
      "cell_type": "markdown",
      "metadata": {
        "id": "EQbDnsIZUSx0"
      },
      "source": [
        "# Connect to Google Drive"
      ]
    },
    {
      "cell_type": "code",
      "metadata": {
        "id": "wg4kMbwxsH9h"
      },
      "source": [
        "# from google.colab import drive\n",
        "# drive.mount('/content/GDrive')"
      ],
      "execution_count": 2,
      "outputs": []
    },
    {
      "cell_type": "markdown",
      "metadata": {
        "id": "GpdYZ2x3MbTd"
      },
      "source": [
        "Move to the Target Directory"
      ]
    },
    {
      "cell_type": "code",
      "metadata": {
        "id": "Efh543dRsQga"
      },
      "source": [
        "# %cd /content/GDrive/MyDrive/Colab_Notebooks/Research/EEG_IMU "
      ],
      "execution_count": 3,
      "outputs": []
    },
    {
      "cell_type": "markdown",
      "metadata": {
        "id": "_ZtMdxE7MeXX"
      },
      "source": [
        "List the Files and Folders Located in the Current Directory"
      ]
    },
    {
      "cell_type": "code",
      "metadata": {
        "id": "eM92ZPcisMK1"
      },
      "source": [
        "# !ls"
      ],
      "execution_count": 4,
      "outputs": []
    },
    {
      "cell_type": "markdown",
      "metadata": {
        "id": "ano69se-e3QY"
      },
      "source": [
        "## Evaluation of Predicting ABP Waveforms\n",
        "\n",
        "Here, we present an interactive CLI to predict the ABP waveform from PPG signal from the test data. Ground truth, prediction from approximation network and refinement network are presented, and a comparison is also demonstrated\n"
      ]
    },
    {
      "cell_type": "markdown",
      "metadata": {
        "id": "fHxmMNfno3U4"
      },
      "source": [
        "# Conling Repository"
      ]
    },
    {
      "cell_type": "code",
      "metadata": {
        "id": "xrTsiXfvo6bp",
        "colab": {
          "base_uri": "https://localhost:8080/"
        },
        "outputId": "a4d75203-c0b4-4997-c39b-b2f4d59bdcb3"
      },
      "source": [
        "!git clone https://github.com/atick-faisal/GRF-Synthesis-from-Motion-Trajectories.git"
      ],
      "execution_count": 5,
      "outputs": [
        {
          "output_type": "stream",
          "name": "stdout",
          "text": [
            "fatal: destination path 'GRF-Synthesis-from-Motion-Trajectories' already exists and is not an empty directory.\n"
          ]
        }
      ]
    },
    {
      "cell_type": "code",
      "metadata": {
        "id": "oCda5cmGpBUo",
        "colab": {
          "base_uri": "https://localhost:8080/"
        },
        "outputId": "8c95f2bf-42a1-4369-b0a5-87b7af884154"
      },
      "source": [
        "%cd /content/GRF-Synthesis-from-Motion-Trajectories/src/\n",
        "!ls"
      ],
      "execution_count": 6,
      "outputs": [
        {
          "output_type": "stream",
          "name": "stdout",
          "text": [
            "/content/GRF-Synthesis-from-Motion-Trajectories/src\n",
            "data.joblib  models  preprocessing  trained_models  training  visualization\n"
          ]
        }
      ]
    },
    {
      "cell_type": "markdown",
      "metadata": {
        "id": "tgW7r0C9TuZk"
      },
      "source": [
        "#Import Libraries"
      ]
    },
    {
      "cell_type": "code",
      "metadata": {
        "id": "eMhBhz1CrMb3"
      },
      "source": [
        "import os\n",
        "import h5py\n",
        "import scipy\n",
        "import random\n",
        "import pickle\n",
        "import joblib\n",
        "import numpy as np\n",
        "import pandas as pd\n",
        "import seaborn as sns\n",
        "import tensorflow as tf\n",
        "from tqdm import tqdm\n",
        "import scipy.io as sio\n",
        "import matplotlib.pyplot as plt\n",
        "from sklearn.metrics import mean_squared_error, median_absolute_error, mean_absolute_error\n",
        "from sklearn.metrics import classification_report, confusion_matrix\n",
        "from sklearn.model_selection import train_test_split\n",
        "from pathlib import Path"
      ],
      "execution_count": 7,
      "outputs": []
    },
    {
      "cell_type": "code",
      "metadata": {
        "id": "lFydrjV6TxCc"
      },
      "source": [
        "from models import UNet"
      ],
      "execution_count": 8,
      "outputs": []
    },
    {
      "cell_type": "code",
      "metadata": {
        "id": "03JA1kRfzoit"
      },
      "source": [
        "%matplotlib inline\n",
        "sns.set_style('white')"
      ],
      "execution_count": 9,
      "outputs": []
    },
    {
      "cell_type": "markdown",
      "metadata": {
        "id": "VyFBKZ1ddRuM"
      },
      "source": [
        "# End-to-End Pipeline - EEG Motion Artifact Correction using Deep Learning"
      ]
    },
    {
      "cell_type": "markdown",
      "metadata": {
        "id": "WOaiV66cCD6L"
      },
      "source": [
        "## Prepare Dataset - k-Fold Cross Validation"
      ]
    },
    {
      "cell_type": "code",
      "metadata": {
        "id": "olkAEm0y2rUp",
        "colab": {
          "base_uri": "https://localhost:8080/"
        },
        "outputId": "3485b8bd-0df9-4179-9431-7f2c517ca19e"
      },
      "source": [
        "!gdown --id \"1yXkey_oQv0omchS-yLyFZrnmAI4dNgrd\""
      ],
      "execution_count": 10,
      "outputs": [
        {
          "output_type": "stream",
          "name": "stdout",
          "text": [
            "Downloading...\n",
            "From: https://drive.google.com/uc?id=1yXkey_oQv0omchS-yLyFZrnmAI4dNgrd\n",
            "To: /content/GRF-Synthesis-from-Motion-Trajectories/src/data.joblib\n",
            "100% 206M/206M [00:02<00:00, 80.3MB/s]\n"
          ]
        }
      ]
    },
    {
      "cell_type": "code",
      "metadata": {
        "id": "NLDwhb-xt3Y_",
        "colab": {
          "base_uri": "https://localhost:8080/"
        },
        "outputId": "3e76b97b-6502-427d-e453-b9bff952ea4c"
      },
      "source": [
        "from sklearn.preprocessing import MinMaxScaler\n",
        "from sklearn.preprocessing import StandardScaler\n",
        "\n",
        "data = joblib.load('data.joblib')\n",
        "features = data['X']\n",
        "target = data['y']\n",
        "\n",
        "features_z = features[['lfal_z', 'ltam_z', 'lfcc_z', 'lfm1_z', 'lfm2_z', 'lfm5_z']]\n",
        "target_z = target[['fz']]\n",
        "\n",
        "scaler = StandardScaler()\n",
        "scaler.fit(features_z)\n",
        "features_z = scaler.transform(features_z)\n",
        "\n",
        "scaler = StandardScaler()\n",
        "scaler.fit(target_z)\n",
        "target_z = scaler.transform(target_z)\n",
        "\n",
        "X = features_z[:583680, :].reshape(-1, 2048, 6)\n",
        "y = target_z[:583680, :].reshape(-1, 2048, 1)\n",
        "\n",
        "print(X.shape)\n",
        "print(y.shape)"
      ],
      "execution_count": 11,
      "outputs": [
        {
          "output_type": "stream",
          "name": "stdout",
          "text": [
            "(285, 2048, 6)\n",
            "(285, 2048, 1)\n"
          ]
        }
      ]
    },
    {
      "cell_type": "code",
      "metadata": {
        "id": "4cnlxZkZJT-Q",
        "colab": {
          "base_uri": "https://localhost:8080/"
        },
        "outputId": "d44d3257-7f36-453b-e381-2314684ff8ea"
      },
      "source": [
        "X_Train, X_Test, Y_Train, Y_Test = train_test_split(X, y, test_size=0.2, random_state=42)\n",
        "Y_Train = np.squeeze(Y_Train, axis=2)\n",
        "Y_Test = np.squeeze(Y_Test, axis=2)\n",
        "Y_Train.shape"
      ],
      "execution_count": 12,
      "outputs": [
        {
          "output_type": "execute_result",
          "data": {
            "text/plain": [
              "(228, 2048)"
            ]
          },
          "metadata": {},
          "execution_count": 12
        }
      ]
    },
    {
      "cell_type": "markdown",
      "metadata": {
        "id": "_qTwozk_BS94"
      },
      "source": [
        "## Garbage Collector"
      ]
    },
    {
      "cell_type": "code",
      "metadata": {
        "id": "ch2jmn3jKKiH"
      },
      "source": [
        "# import gc #Garbage Collector\n",
        "# fl_Train = None\n",
        "# fl_Test = None\n",
        "# X_Test = None\n",
        "# X_Train = None\n",
        "# X_Val = None\n",
        "# Y_Test_BP = None\n",
        "# Y_Train_BP = None\n",
        "# Y_Test_ABP = None\n",
        "# Y_Train_ABP = None\n",
        "# SBP_Train = None\n",
        "# DBP_Train = None\n",
        "# gc.collect()"
      ],
      "execution_count": 13,
      "outputs": []
    },
    {
      "cell_type": "markdown",
      "metadata": {
        "id": "lu6KEu2yeikQ"
      },
      "source": [
        "## Segmentation Pipeline"
      ]
    },
    {
      "cell_type": "markdown",
      "metadata": {
        "id": "X_Ev2XlLwRkW"
      },
      "source": [
        "### Prepare Label"
      ]
    },
    {
      "cell_type": "markdown",
      "metadata": {
        "id": "ANawSmVbUkZs"
      },
      "source": [
        "Configurations"
      ]
    },
    {
      "cell_type": "code",
      "metadata": {
        "id": "3ps7RMbyR7pw"
      },
      "source": [
        "signal_length = 2048 # Length of each Segment\n",
        "model_depth = 5 # Number of Level in the CNN Model\n",
        "model_width = 64 # Width of the Initial Layer, subsequent layers start from here\n",
        "kernel_size = 3 # Size of the Kernels/Filter\n",
        "num_channel = 6 # Number of Channels in the Model\n",
        "D_S = 1 # Turn on Deep Supervision\n",
        "A_E = 0 # Turn on AutoEncoder Mode for Feature Extraction\n",
        "problem_type = 'Regression'\n",
        "output_nums = 1 # Number of Class for Classification Problems, always '1' for Regression Problems\n",
        "'''Only required if the AutoEncoder Mode is turned on'''\n",
        "feature_number = 1024 # Number of Features to be Extracted\n",
        "'''Only required for MultiResUNet'''\n",
        "alpha = 1 # Model Width Expansion Parameter"
      ],
      "execution_count": 14,
      "outputs": []
    },
    {
      "cell_type": "markdown",
      "metadata": {
        "id": "qdw2EGzA92pt"
      },
      "source": [
        "Prepare Dataset for Deep Supervision (if Activated)"
      ]
    },
    {
      "cell_type": "code",
      "metadata": {
        "id": "QWMEhQkaClZi"
      },
      "source": [
        "def prepareTrainDict(y, model_depth, signal_length, model_name):\n",
        "  def approximate(inp, w_len, signal_length):\n",
        "    op = np.zeros((len(inp),signal_length//w_len))\n",
        "    for i in range(0,signal_length,w_len):\n",
        "      try:\n",
        "        op[:,i//w_len] = np.mean(inp[:,i:i+w_len],axis=1)\n",
        "      except Exception as e:\n",
        "        print(e)\n",
        "        print(i)\n",
        "  \t\n",
        "    return op\n",
        "\n",
        "  out = {}\n",
        "  Y_Train_dict = {}\n",
        "  out['out'] = np.array(y)\n",
        "  Y_Train_dict['out'] = out['out']\n",
        "  for i in range(1, (model_depth+1)):\n",
        "    name = f'level{i}'\n",
        "    if ((model_name == 'UNet') or (model_name == 'MultiResUNet') or (model_name == 'FPN')):\n",
        "      out[name] = np.expand_dims(approximate(np.squeeze(y), 2**i, signal_length),axis = 2)\n",
        "    elif ((model_name == 'UNetE') or (model_name == 'UNetP') or (model_name == 'UNetPP')):\n",
        "      out[name] = np.expand_dims(approximate(np.squeeze(y), 2**0, signal_length),axis = 2)\n",
        "    Y_Train_dict[f'level{i}'] = out[f'level{i}']\n",
        "  \n",
        "  return out, Y_Train_dict"
      ],
      "execution_count": 15,
      "outputs": []
    },
    {
      "cell_type": "code",
      "metadata": {
        "id": "ZQM6mSM2zE3G"
      },
      "source": [
        "model_name = 'UNet' # UNet or UNetPP\n",
        "X_Train1 = X_Train\n",
        "X_Test1 = X_Test\n",
        "[Y_Train1, Y_Train_dict] = prepareTrainDict(Y_Train, model_depth, signal_length, model_name)\n",
        "[Y_Test1, Y_Test_dict] = prepareTrainDict(Y_Test, model_depth, signal_length, model_name)"
      ],
      "execution_count": 16,
      "outputs": []
    },
    {
      "cell_type": "code",
      "metadata": {
        "colab": {
          "base_uri": "https://localhost:8080/"
        },
        "id": "1k-OSEQ87CyB",
        "outputId": "b0ff7efd-bf8e-4288-d238-7f894e8c540c"
      },
      "source": [
        "loss_weights = np.zeros(model_depth)\n",
        "\n",
        "for i in range(0, model_depth):\n",
        "   loss_weights[i] = 1-(i*0.1)\n",
        "   \n",
        "loss_weights"
      ],
      "execution_count": 17,
      "outputs": [
        {
          "output_type": "execute_result",
          "data": {
            "text/plain": [
              "array([1. , 0.9, 0.8, 0.7, 0.6])"
            ]
          },
          "metadata": {},
          "execution_count": 17
        }
      ]
    },
    {
      "cell_type": "markdown",
      "metadata": {
        "id": "tLWoX0CHeikZ"
      },
      "source": [
        "### Train Data"
      ]
    },
    {
      "cell_type": "markdown",
      "metadata": {
        "id": "_G9wCFl1986E"
      },
      "source": [
        "Build and Compile Model"
      ]
    },
    {
      "cell_type": "code",
      "metadata": {
        "id": "AgNmOBsctd4u"
      },
      "source": [
        "if D_S == 0:\n",
        "    # Build model for EEG Motion Artifact Removal - Deep Unet Architecture\n",
        "    # AutoEncoder should be set at 'FALSE' for the Deep U-net model for Signal Reconstruction\n",
        "    # D_S = 0, A_E = 0\n",
        "    EEGIMU_Network = UNet(signal_length, model_depth, num_channel, model_width, kernel_size, problem_type=problem_type, output_nums=output_nums, ds=D_S, ae=A_E, alpha=alpha).UNet()\n",
        "    EEGIMU_Network.compile(loss= 'mean_absolute_error', optimizer= 'adam', metrics= ['mean_squared_error','accuracy'])\n",
        "    #\n",
        "elif D_S == 1:\n",
        "    # Build model for EEG Motion Artifact Removal - Deep Unet Architecture\n",
        "    # AutoEncoder should be set at 'FALSE' for the Deep U-net model for Signal Reconstruction\n",
        "    # D_S = 1, A_E = 0\n",
        "    EEGIMU_Network = UNet(signal_length, model_depth, num_channel, model_width, kernel_size, problem_type=problem_type, output_nums=output_nums, ds=D_S, ae=A_E, alpha=alpha).UNet()\n",
        "    EEGIMU_Network.compile(loss= 'mean_absolute_error', optimizer= 'adam', metrics= ['mean_squared_error'], loss_weights= loss_weights)"
      ],
      "execution_count": 18,
      "outputs": []
    },
    {
      "cell_type": "markdown",
      "metadata": {
        "id": "weUOLRyW9_TE"
      },
      "source": [
        "Import Trained Weights for a Headstart"
      ]
    },
    {
      "cell_type": "code",
      "metadata": {
        "id": "PEhSkrAG3SXe"
      },
      "source": [
        "# if D_S == 0:\n",
        "#     EEGIMU_Network_Network.load_weights('trained_models/'+model_name+'_'+str(length)+'_'+str(model_width)+'_'+str(num_channel)+'_'+str(D_S)+'.h5') # Load Previously Trained Weights for Transfer Learning\n",
        "# elif D_S == 1:\n",
        "#     EEGIMU_Network_Network.load_weights('trained_models/'+model_name+'_'+str(length)+'_'+str(model_width)+'_'+str(num_channel)+'_'+str(D_S)+'.h5') # Load Previously Trained Weights for Transfer Learning"
      ],
      "execution_count": 19,
      "outputs": []
    },
    {
      "cell_type": "markdown",
      "metadata": {
        "id": "17aVX6jw-E8j"
      },
      "source": [
        "Train Model"
      ]
    },
    {
      "cell_type": "code",
      "metadata": {
        "id": "gYmCDIxAbdT1",
        "colab": {
          "base_uri": "https://localhost:8080/"
        },
        "outputId": "eda55d09-6e6e-49fc-c47a-bd2efcb30844"
      },
      "source": [
        "if D_S == 0:\n",
        "    callbacks = [tf.keras.callbacks.EarlyStopping(monitor='val_loss', patience=30, mode='min'), \n",
        "                 tf.keras.callbacks.ModelCheckpoint('trained_models/'+model_name+'_'+str(signal_length)+'_'+str(model_width)+'_'+str(model_depth)+'_'+str(num_channel)+'_'+str(D_S)+'.h5', verbose=1, monitor='val_loss', save_best_only=True, mode='min')]\n",
        "    history = EEGIMU_Network.fit(X_Train, Y_Train, epochs=300, batch_size=64, verbose=1, validation_split=0.2, shuffle=True, callbacks=callbacks)\n",
        "    #\n",
        "elif D_S == 1:\n",
        "    callbacks = [tf.keras.callbacks.EarlyStopping(monitor='val_out_loss', patience=30, mode='min'), \n",
        "                 tf.keras.callbacks.ModelCheckpoint('trained_models/'+model_name+'_'+str(signal_length)+'_'+str(model_width)+'_'+str(model_depth)+'_'+str(num_channel)+'_'+str(D_S)+'.h5', verbose=1, monitor='val_out_loss', save_best_only=True, mode='min')]\n",
        "    history = EEGIMU_Network.fit(X_Train1, Y_Train_dict, epochs=300, batch_size=64, verbose=1, validation_split=0.2, shuffle=True, callbacks=callbacks)"
      ],
      "execution_count": 20,
      "outputs": [
        {
          "output_type": "stream",
          "name": "stdout",
          "text": [
            "Epoch 1/300\n",
            "3/3 [==============================] - 70s 9s/step - loss: 8.6368 - out_loss: 1.1917 - level1_loss: 1.1247 - level2_loss: 1.3293 - level3_loss: 1.5674 - level4_loss: 2.0968 - level5_loss: 3.4861 - out_mean_squared_error: 2.6680 - level1_mean_squared_error: 2.1720 - level2_mean_squared_error: 3.6988 - level3_mean_squared_error: 10.1329 - level4_mean_squared_error: 19.5345 - level5_mean_squared_error: 61.3917 - val_loss: 9.7860 - val_out_loss: 1.4207 - val_level1_loss: 1.8348 - val_level2_loss: 1.7916 - val_level3_loss: 3.6575 - val_level4_loss: 2.2118 - val_level5_loss: 1.3161 - val_out_mean_squared_error: 4.1878 - val_level1_mean_squared_error: 7.2678 - val_level2_mean_squared_error: 5.6450 - val_level3_mean_squared_error: 29.9198 - val_level4_mean_squared_error: 9.2381 - val_level5_mean_squared_error: 2.5325\n",
            "\n",
            "Epoch 00001: val_out_loss improved from inf to 1.42068, saving model to trained_models/MultiResUNet_2048_64_5_6_1.h5\n"
          ]
        },
        {
          "output_type": "stream",
          "name": "stderr",
          "text": [
            "/usr/local/lib/python3.7/dist-packages/keras/utils/generic_utils.py:497: CustomMaskWarning: Custom mask layers require a config and must override get_config. When loading, the custom mask layer must be passed to the custom_objects argument.\n",
            "  category=CustomMaskWarning)\n"
          ]
        },
        {
          "output_type": "stream",
          "name": "stdout",
          "text": [
            "Epoch 2/300\n",
            "3/3 [==============================] - 7s 2s/step - loss: 5.4862 - out_loss: 0.9391 - level1_loss: 0.9043 - level2_loss: 0.9640 - level3_loss: 1.0065 - level4_loss: 1.2165 - level5_loss: 1.8273 - out_mean_squared_error: 1.5090 - level1_mean_squared_error: 1.3682 - level2_mean_squared_error: 1.5170 - level3_mean_squared_error: 2.1795 - level4_mean_squared_error: 5.3500 - level5_mean_squared_error: 13.2286 - val_loss: 25.9599 - val_out_loss: 4.5901 - val_level1_loss: 7.8045 - val_level2_loss: 10.1077 - val_level3_loss: 6.6343 - val_level4_loss: 2.1066 - val_level5_loss: 1.2067 - val_out_mean_squared_error: 84.8379 - val_level1_mean_squared_error: 253.2405 - val_level2_mean_squared_error: 325.2499 - val_level3_mean_squared_error: 182.1526 - val_level4_mean_squared_error: 11.5444 - val_level5_mean_squared_error: 2.4578\n",
            "\n",
            "Epoch 00002: val_out_loss did not improve from 1.42068\n",
            "Epoch 3/300\n",
            "3/3 [==============================] - 7s 3s/step - loss: 4.2760 - out_loss: 0.8679 - level1_loss: 0.8430 - level2_loss: 0.8552 - level3_loss: 0.8694 - level4_loss: 0.8969 - level5_loss: 1.0126 - out_mean_squared_error: 1.2522 - level1_mean_squared_error: 1.2049 - level2_mean_squared_error: 1.2080 - level3_mean_squared_error: 1.4609 - level4_mean_squared_error: 1.8260 - level5_mean_squared_error: 2.4553 - val_loss: 40.6628 - val_out_loss: 8.1092 - val_level1_loss: 18.9750 - val_level2_loss: 9.8613 - val_level3_loss: 7.1464 - val_level4_loss: 5.6682 - val_level5_loss: 1.0685 - val_out_mean_squared_error: 592.8412 - val_level1_mean_squared_error: 3221.2793 - val_level2_mean_squared_error: 689.0272 - val_level3_mean_squared_error: 380.3878 - val_level4_mean_squared_error: 206.8457 - val_level5_mean_squared_error: 4.1649\n",
            "\n",
            "Epoch 00003: val_out_loss did not improve from 1.42068\n",
            "Epoch 4/300\n",
            "3/3 [==============================] - 7s 3s/step - loss: 3.9746 - out_loss: 0.8374 - level1_loss: 0.8112 - level2_loss: 0.8088 - level3_loss: 0.8241 - level4_loss: 0.8097 - level5_loss: 0.8771 - out_mean_squared_error: 1.1688 - level1_mean_squared_error: 1.0914 - level2_mean_squared_error: 1.1385 - level3_mean_squared_error: 1.2690 - level4_mean_squared_error: 1.3726 - level5_mean_squared_error: 1.6406 - val_loss: 42.0292 - val_out_loss: 15.3829 - val_level1_loss: 18.6804 - val_level2_loss: 5.2091 - val_level3_loss: 10.0559 - val_level4_loss: 2.0406 - val_level5_loss: 1.1675 - val_out_mean_squared_error: 5140.0708 - val_level1_mean_squared_error: 7270.7227 - val_level2_mean_squared_error: 501.8875 - val_level3_mean_squared_error: 1710.5964 - val_level4_mean_squared_error: 37.5692 - val_level5_mean_squared_error: 8.7811\n",
            "\n",
            "Epoch 00004: val_out_loss did not improve from 1.42068\n",
            "Epoch 5/300\n",
            "3/3 [==============================] - 7s 3s/step - loss: 3.7324 - out_loss: 0.8078 - level1_loss: 0.7850 - level2_loss: 0.7727 - level3_loss: 0.7706 - level4_loss: 0.7498 - level5_loss: 0.7795 - out_mean_squared_error: 1.1272 - level1_mean_squared_error: 1.0879 - level2_mean_squared_error: 1.0921 - level3_mean_squared_error: 1.2054 - level4_mean_squared_error: 1.0535 - level5_mean_squared_error: 1.2641 - val_loss: 27.4051 - val_out_loss: 13.0552 - val_level1_loss: 8.6865 - val_level2_loss: 5.3284 - val_level3_loss: 4.3838 - val_level4_loss: 1.5589 - val_level5_loss: 1.2436 - val_out_mean_squared_error: 8236.7559 - val_level1_mean_squared_error: 3289.6565 - val_level2_mean_squared_error: 1327.5551 - val_level3_mean_squared_error: 593.6623 - val_level4_mean_squared_error: 37.2102 - val_level5_mean_squared_error: 15.1176\n",
            "\n",
            "Epoch 00005: val_out_loss did not improve from 1.42068\n",
            "Epoch 6/300\n",
            "3/3 [==============================] - 7s 3s/step - loss: 3.6280 - out_loss: 0.7921 - level1_loss: 0.7658 - level2_loss: 0.7520 - level3_loss: 0.7405 - level4_loss: 0.7226 - level5_loss: 0.7620 - out_mean_squared_error: 1.1254 - level1_mean_squared_error: 1.1131 - level2_mean_squared_error: 1.1272 - level3_mean_squared_error: 1.1881 - level4_mean_squared_error: 1.0853 - level5_mean_squared_error: 1.4139 - val_loss: 17.9565 - val_out_loss: 7.3563 - val_level1_loss: 6.2577 - val_level2_loss: 3.8716 - val_level3_loss: 2.4469 - val_level4_loss: 1.4576 - val_level5_loss: 1.0556 - val_out_mean_squared_error: 5101.5806 - val_level1_mean_squared_error: 3214.3274 - val_level2_mean_squared_error: 1193.7994 - val_level3_mean_squared_error: 407.9732 - val_level4_mean_squared_error: 51.0100 - val_level5_mean_squared_error: 7.8273\n",
            "\n",
            "Epoch 00006: val_out_loss did not improve from 1.42068\n",
            "Epoch 7/300\n",
            "3/3 [==============================] - 7s 3s/step - loss: 3.5266 - out_loss: 0.7769 - level1_loss: 0.7486 - level2_loss: 0.7312 - level3_loss: 0.7179 - level4_loss: 0.7001 - level5_loss: 0.7336 - out_mean_squared_error: 1.1095 - level1_mean_squared_error: 1.1202 - level2_mean_squared_error: 1.1228 - level3_mean_squared_error: 1.1072 - level4_mean_squared_error: 1.0955 - level5_mean_squared_error: 1.3017 - val_loss: 13.3429 - val_out_loss: 4.1884 - val_level1_loss: 5.7780 - val_level2_loss: 2.7294 - val_level3_loss: 1.8265 - val_level4_loss: 1.1503 - val_level5_loss: 1.0060 - val_out_mean_squared_error: 2129.2542 - val_level1_mean_squared_error: 3832.8254 - val_level2_mean_squared_error: 644.7510 - val_level3_mean_squared_error: 214.5589 - val_level4_mean_squared_error: 26.6366 - val_level5_mean_squared_error: 6.7419\n",
            "\n",
            "Epoch 00007: val_out_loss did not improve from 1.42068\n",
            "Epoch 8/300\n",
            "3/3 [==============================] - 7s 2s/step - loss: 3.4022 - out_loss: 0.7559 - level1_loss: 0.7269 - level2_loss: 0.7029 - level3_loss: 0.6887 - level4_loss: 0.6759 - level5_loss: 0.7025 - out_mean_squared_error: 1.1034 - level1_mean_squared_error: 1.1087 - level2_mean_squared_error: 1.1213 - level3_mean_squared_error: 1.1333 - level4_mean_squared_error: 1.1099 - level5_mean_squared_error: 1.5024 - val_loss: 9.5857 - val_out_loss: 2.8434 - val_level1_loss: 3.8086 - val_level2_loss: 1.9401 - val_level3_loss: 1.5485 - val_level4_loss: 0.9500 - val_level5_loss: 0.8915 - val_out_mean_squared_error: 940.1539 - val_level1_mean_squared_error: 1591.9183 - val_level2_mean_squared_error: 294.3536 - val_level3_mean_squared_error: 95.0402 - val_level4_mean_squared_error: 9.2697 - val_level5_mean_squared_error: 2.4766\n",
            "\n",
            "Epoch 00008: val_out_loss did not improve from 1.42068\n",
            "Epoch 9/300\n",
            "3/3 [==============================] - 7s 3s/step - loss: 3.3296 - out_loss: 0.7467 - level1_loss: 0.7157 - level2_loss: 0.6890 - level3_loss: 0.6747 - level4_loss: 0.6609 - level5_loss: 0.6751 - out_mean_squared_error: 1.1211 - level1_mean_squared_error: 1.1184 - level2_mean_squared_error: 1.1444 - level3_mean_squared_error: 1.1378 - level4_mean_squared_error: 1.1039 - level5_mean_squared_error: 1.1461 - val_loss: 7.1408 - val_out_loss: 2.1926 - val_level1_loss: 2.3543 - val_level2_loss: 1.5431 - val_level3_loss: 1.1047 - val_level4_loss: 0.8798 - val_level5_loss: 0.8515 - val_out_mean_squared_error: 435.4139 - val_level1_mean_squared_error: 551.6117 - val_level2_mean_squared_error: 155.1427 - val_level3_mean_squared_error: 24.7060 - val_level4_mean_squared_error: 4.9619 - val_level5_mean_squared_error: 1.5900\n",
            "\n",
            "Epoch 00009: val_out_loss did not improve from 1.42068\n",
            "Epoch 10/300\n",
            "3/3 [==============================] - 7s 3s/step - loss: 3.2485 - out_loss: 0.7348 - level1_loss: 0.7017 - level2_loss: 0.6709 - level3_loss: 0.6540 - level4_loss: 0.6456 - level5_loss: 0.6535 - out_mean_squared_error: 1.1235 - level1_mean_squared_error: 1.1509 - level2_mean_squared_error: 1.1618 - level3_mean_squared_error: 1.1293 - level4_mean_squared_error: 1.0894 - level5_mean_squared_error: 1.0497 - val_loss: 6.3681 - val_out_loss: 1.6456 - val_level1_loss: 1.9168 - val_level2_loss: 1.6434 - val_level3_loss: 1.0858 - val_level4_loss: 0.8142 - val_level5_loss: 0.8543 - val_out_mean_squared_error: 162.5042 - val_level1_mean_squared_error: 278.9191 - val_level2_mean_squared_error: 172.4438 - val_level3_mean_squared_error: 29.9929 - val_level4_mean_squared_error: 2.4317 - val_level5_mean_squared_error: 1.8323\n",
            "\n",
            "Epoch 00010: val_out_loss did not improve from 1.42068\n",
            "Epoch 11/300\n",
            "3/3 [==============================] - 7s 2s/step - loss: 3.2194 - out_loss: 0.7254 - level1_loss: 0.6949 - level2_loss: 0.6634 - level3_loss: 0.6495 - level4_loss: 0.6376 - level5_loss: 0.6535 - out_mean_squared_error: 1.1238 - level1_mean_squared_error: 1.1611 - level2_mean_squared_error: 1.1868 - level3_mean_squared_error: 1.1617 - level4_mean_squared_error: 1.0743 - level5_mean_squared_error: 1.0639 - val_loss: 5.4135 - val_out_loss: 1.2380 - val_level1_loss: 1.7186 - val_level2_loss: 1.2701 - val_level3_loss: 0.9533 - val_level4_loss: 0.7745 - val_level5_loss: 0.8124 - val_out_mean_squared_error: 50.1877 - val_level1_mean_squared_error: 170.9615 - val_level2_mean_squared_error: 54.7179 - val_level3_mean_squared_error: 9.6461 - val_level4_mean_squared_error: 1.3356 - val_level5_mean_squared_error: 1.1774\n",
            "\n",
            "Epoch 00011: val_out_loss improved from 1.42068 to 1.23799, saving model to trained_models/MultiResUNet_2048_64_5_6_1.h5\n",
            "Epoch 12/300\n",
            "3/3 [==============================] - 7s 2s/step - loss: 3.1347 - out_loss: 0.7110 - level1_loss: 0.6776 - level2_loss: 0.6470 - level3_loss: 0.6368 - level4_loss: 0.6228 - level5_loss: 0.6231 - out_mean_squared_error: 1.1395 - level1_mean_squared_error: 1.1482 - level2_mean_squared_error: 1.1637 - level3_mean_squared_error: 1.1025 - level4_mean_squared_error: 1.0371 - level5_mean_squared_error: 0.9377 - val_loss: 4.7456 - val_out_loss: 1.0813 - val_level1_loss: 1.3874 - val_level2_loss: 1.0039 - val_level3_loss: 0.8669 - val_level4_loss: 0.7804 - val_level5_loss: 0.8122 - val_out_mean_squared_error: 23.1979 - val_level1_mean_squared_error: 78.3787 - val_level2_mean_squared_error: 17.5983 - val_level3_mean_squared_error: 3.1901 - val_level4_mean_squared_error: 1.3374 - val_level5_mean_squared_error: 1.1079\n",
            "\n",
            "Epoch 00012: val_out_loss improved from 1.23799 to 1.08133, saving model to trained_models/MultiResUNet_2048_64_5_6_1.h5\n",
            "Epoch 13/300\n",
            "3/3 [==============================] - 7s 3s/step - loss: 3.0802 - out_loss: 0.7002 - level1_loss: 0.6649 - level2_loss: 0.6355 - level3_loss: 0.6187 - level4_loss: 0.6074 - level5_loss: 0.6236 - out_mean_squared_error: 1.1424 - level1_mean_squared_error: 1.1573 - level2_mean_squared_error: 1.1585 - level3_mean_squared_error: 1.0796 - level4_mean_squared_error: 1.0090 - level5_mean_squared_error: 0.9358 - val_loss: 4.3338 - val_out_loss: 0.9529 - val_level1_loss: 1.0980 - val_level2_loss: 0.9141 - val_level3_loss: 0.8437 - val_level4_loss: 0.7873 - val_level5_loss: 0.8212 - val_out_mean_squared_error: 10.4113 - val_level1_mean_squared_error: 27.9617 - val_level2_mean_squared_error: 7.1453 - val_level3_mean_squared_error: 1.7754 - val_level4_mean_squared_error: 1.2423 - val_level5_mean_squared_error: 1.0391\n",
            "\n",
            "Epoch 00013: val_out_loss improved from 1.08133 to 0.95289, saving model to trained_models/MultiResUNet_2048_64_5_6_1.h5\n",
            "Epoch 14/300\n",
            "3/3 [==============================] - 7s 2s/step - loss: 3.1213 - out_loss: 0.6909 - level1_loss: 0.6617 - level2_loss: 0.6408 - level3_loss: 0.6361 - level4_loss: 0.6268 - level5_loss: 0.6453 - out_mean_squared_error: 1.1568 - level1_mean_squared_error: 1.1623 - level2_mean_squared_error: 1.1325 - level3_mean_squared_error: 1.0808 - level4_mean_squared_error: 0.9933 - level5_mean_squared_error: 0.9265 - val_loss: 4.0956 - val_out_loss: 0.8609 - val_level1_loss: 0.9807 - val_level2_loss: 0.8693 - val_level3_loss: 0.8193 - val_level4_loss: 0.7799 - val_level5_loss: 0.8093 - val_out_mean_squared_error: 5.1253 - val_level1_mean_squared_error: 14.6284 - val_level2_mean_squared_error: 4.0923 - val_level3_mean_squared_error: 1.3883 - val_level4_mean_squared_error: 1.2716 - val_level5_mean_squared_error: 0.9666\n",
            "\n",
            "Epoch 00014: val_out_loss improved from 0.95289 to 0.86090, saving model to trained_models/MultiResUNet_2048_64_5_6_1.h5\n",
            "Epoch 15/300\n",
            "3/3 [==============================] - 7s 3s/step - loss: 3.0395 - out_loss: 0.6705 - level1_loss: 0.6450 - level2_loss: 0.6164 - level3_loss: 0.6178 - level4_loss: 0.6055 - level5_loss: 0.6442 - out_mean_squared_error: 1.1348 - level1_mean_squared_error: 1.1589 - level2_mean_squared_error: 1.0688 - level3_mean_squared_error: 1.0439 - level4_mean_squared_error: 0.9987 - level5_mean_squared_error: 1.0424 - val_loss: 4.0087 - val_out_loss: 0.8155 - val_level1_loss: 0.8646 - val_level2_loss: 0.8371 - val_level3_loss: 0.8291 - val_level4_loss: 0.8001 - val_level5_loss: 0.8644 - val_out_mean_squared_error: 3.3058 - val_level1_mean_squared_error: 5.7587 - val_level2_mean_squared_error: 1.5326 - val_level3_mean_squared_error: 1.2083 - val_level4_mean_squared_error: 1.1657 - val_level5_mean_squared_error: 0.9687\n",
            "\n",
            "Epoch 00015: val_out_loss improved from 0.86090 to 0.81551, saving model to trained_models/MultiResUNet_2048_64_5_6_1.h5\n",
            "Epoch 16/300\n",
            "3/3 [==============================] - 7s 2s/step - loss: 3.0219 - out_loss: 0.6669 - level1_loss: 0.6320 - level2_loss: 0.6084 - level3_loss: 0.6086 - level4_loss: 0.6076 - level5_loss: 0.6539 - out_mean_squared_error: 1.1354 - level1_mean_squared_error: 1.1199 - level2_mean_squared_error: 1.0366 - level3_mean_squared_error: 1.0033 - level4_mean_squared_error: 0.9364 - level5_mean_squared_error: 0.9732 - val_loss: 3.9636 - val_out_loss: 0.7866 - val_level1_loss: 0.8214 - val_level2_loss: 0.8457 - val_level3_loss: 0.8230 - val_level4_loss: 0.8008 - val_level5_loss: 0.8769 - val_out_mean_squared_error: 2.2603 - val_level1_mean_squared_error: 3.1993 - val_level2_mean_squared_error: 1.3549 - val_level3_mean_squared_error: 1.0128 - val_level4_mean_squared_error: 1.0059 - val_level5_mean_squared_error: 0.9664\n",
            "\n",
            "Epoch 00016: val_out_loss improved from 0.81551 to 0.78664, saving model to trained_models/MultiResUNet_2048_64_5_6_1.h5\n",
            "Epoch 17/300\n",
            "3/3 [==============================] - 7s 3s/step - loss: 2.9304 - out_loss: 0.6299 - level1_loss: 0.6092 - level2_loss: 0.5915 - level3_loss: 0.5950 - level4_loss: 0.6033 - level5_loss: 0.6340 - out_mean_squared_error: 1.1019 - level1_mean_squared_error: 1.0704 - level2_mean_squared_error: 0.9900 - level3_mean_squared_error: 1.0289 - level4_mean_squared_error: 1.0596 - level5_mean_squared_error: 0.9632 - val_loss: 3.8670 - val_out_loss: 0.7716 - val_level1_loss: 0.7922 - val_level2_loss: 0.8252 - val_level3_loss: 0.8224 - val_level4_loss: 0.7802 - val_level5_loss: 0.8422 - val_out_mean_squared_error: 1.8612 - val_level1_mean_squared_error: 2.2819 - val_level2_mean_squared_error: 1.1209 - val_level3_mean_squared_error: 1.0969 - val_level4_mean_squared_error: 1.0237 - val_level5_mean_squared_error: 0.9551\n",
            "\n",
            "Epoch 00017: val_out_loss improved from 0.78664 to 0.77163, saving model to trained_models/MultiResUNet_2048_64_5_6_1.h5\n",
            "Epoch 18/300\n",
            "3/3 [==============================] - 7s 2s/step - loss: 2.7584 - out_loss: 0.5988 - level1_loss: 0.5778 - level2_loss: 0.5513 - level3_loss: 0.5498 - level4_loss: 0.5582 - level5_loss: 0.6121 - out_mean_squared_error: 1.0501 - level1_mean_squared_error: 1.0035 - level2_mean_squared_error: 0.9240 - level3_mean_squared_error: 0.9734 - level4_mean_squared_error: 0.9620 - level5_mean_squared_error: 0.9579 - val_loss: 3.8436 - val_out_loss: 0.7556 - val_level1_loss: 0.7680 - val_level2_loss: 0.8380 - val_level3_loss: 0.8119 - val_level4_loss: 0.7850 - val_level5_loss: 0.8459 - val_out_mean_squared_error: 1.5429 - val_level1_mean_squared_error: 1.6427 - val_level2_mean_squared_error: 1.0634 - val_level3_mean_squared_error: 1.0541 - val_level4_mean_squared_error: 1.0167 - val_level5_mean_squared_error: 0.9548\n",
            "\n",
            "Epoch 00018: val_out_loss improved from 0.77163 to 0.75558, saving model to trained_models/MultiResUNet_2048_64_5_6_1.h5\n",
            "Epoch 19/300\n",
            "3/3 [==============================] - 7s 2s/step - loss: 2.7245 - out_loss: 0.5916 - level1_loss: 0.5665 - level2_loss: 0.5511 - level3_loss: 0.5456 - level4_loss: 0.5539 - level5_loss: 0.5970 - out_mean_squared_error: 1.0458 - level1_mean_squared_error: 0.9838 - level2_mean_squared_error: 0.9223 - level3_mean_squared_error: 0.9173 - level4_mean_squared_error: 0.9152 - level5_mean_squared_error: 0.7954 - val_loss: 3.7551 - val_out_loss: 0.7492 - val_level1_loss: 0.7444 - val_level2_loss: 0.8197 - val_level3_loss: 0.7820 - val_level4_loss: 0.7757 - val_level5_loss: 0.8230 - val_out_mean_squared_error: 1.3541 - val_level1_mean_squared_error: 1.3390 - val_level2_mean_squared_error: 1.0360 - val_level3_mean_squared_error: 1.0367 - val_level4_mean_squared_error: 1.0272 - val_level5_mean_squared_error: 0.9496\n",
            "\n",
            "Epoch 00019: val_out_loss improved from 0.75558 to 0.74916, saving model to trained_models/MultiResUNet_2048_64_5_6_1.h5\n",
            "Epoch 20/300\n",
            "3/3 [==============================] - 7s 2s/step - loss: 2.5902 - out_loss: 0.5688 - level1_loss: 0.5365 - level2_loss: 0.5118 - level3_loss: 0.5216 - level4_loss: 0.5215 - level5_loss: 0.5774 - out_mean_squared_error: 0.9769 - level1_mean_squared_error: 0.9082 - level2_mean_squared_error: 0.8348 - level3_mean_squared_error: 0.8457 - level4_mean_squared_error: 0.8411 - level5_mean_squared_error: 0.7881 - val_loss: 3.7828 - val_out_loss: 0.7507 - val_level1_loss: 0.7427 - val_level2_loss: 0.8229 - val_level3_loss: 0.7920 - val_level4_loss: 0.7931 - val_level5_loss: 0.8270 - val_out_mean_squared_error: 1.3242 - val_level1_mean_squared_error: 1.2718 - val_level2_mean_squared_error: 1.0201 - val_level3_mean_squared_error: 1.0251 - val_level4_mean_squared_error: 1.0038 - val_level5_mean_squared_error: 0.9488\n",
            "\n",
            "Epoch 00020: val_out_loss did not improve from 0.74916\n",
            "Epoch 21/300\n",
            "3/3 [==============================] - 7s 2s/step - loss: 2.6604 - out_loss: 0.5720 - level1_loss: 0.5495 - level2_loss: 0.5448 - level3_loss: 0.5376 - level4_loss: 0.5447 - level5_loss: 0.5769 - out_mean_squared_error: 0.9822 - level1_mean_squared_error: 0.9349 - level2_mean_squared_error: 0.8932 - level3_mean_squared_error: 0.8638 - level4_mean_squared_error: 0.8634 - level5_mean_squared_error: 0.7816 - val_loss: 3.7943 - val_out_loss: 0.7593 - val_level1_loss: 0.7408 - val_level2_loss: 0.8151 - val_level3_loss: 0.7959 - val_level4_loss: 0.7987 - val_level5_loss: 0.8330 - val_out_mean_squared_error: 1.2786 - val_level1_mean_squared_error: 1.2059 - val_level2_mean_squared_error: 1.0137 - val_level3_mean_squared_error: 1.0166 - val_level4_mean_squared_error: 0.9989 - val_level5_mean_squared_error: 0.9476\n",
            "\n",
            "Epoch 00021: val_out_loss did not improve from 0.74916\n",
            "Epoch 22/300\n",
            "3/3 [==============================] - 7s 2s/step - loss: 2.4742 - out_loss: 0.5286 - level1_loss: 0.5022 - level2_loss: 0.4976 - level3_loss: 0.5020 - level4_loss: 0.5029 - level5_loss: 0.5595 - out_mean_squared_error: 0.8865 - level1_mean_squared_error: 0.8221 - level2_mean_squared_error: 0.7860 - level3_mean_squared_error: 0.7698 - level4_mean_squared_error: 0.7639 - level5_mean_squared_error: 0.7176 - val_loss: 3.7722 - val_out_loss: 0.7595 - val_level1_loss: 0.7423 - val_level2_loss: 0.8121 - val_level3_loss: 0.7950 - val_level4_loss: 0.7948 - val_level5_loss: 0.8115 - val_out_mean_squared_error: 1.2284 - val_level1_mean_squared_error: 1.1994 - val_level2_mean_squared_error: 1.0202 - val_level3_mean_squared_error: 1.0168 - val_level4_mean_squared_error: 1.0018 - val_level5_mean_squared_error: 0.9523\n",
            "\n",
            "Epoch 00022: val_out_loss did not improve from 0.74916\n",
            "Epoch 23/300\n",
            "3/3 [==============================] - 7s 3s/step - loss: 2.3515 - out_loss: 0.5029 - level1_loss: 0.4797 - level2_loss: 0.4709 - level3_loss: 0.4670 - level4_loss: 0.4794 - level5_loss: 0.5394 - out_mean_squared_error: 0.8393 - level1_mean_squared_error: 0.7867 - level2_mean_squared_error: 0.7221 - level3_mean_squared_error: 0.7112 - level4_mean_squared_error: 0.7059 - level5_mean_squared_error: 0.6898 - val_loss: 3.7633 - val_out_loss: 0.7662 - val_level1_loss: 0.7382 - val_level2_loss: 0.8084 - val_level3_loss: 0.7884 - val_level4_loss: 0.7952 - val_level5_loss: 0.8077 - val_out_mean_squared_error: 1.1849 - val_level1_mean_squared_error: 1.1436 - val_level2_mean_squared_error: 1.0144 - val_level3_mean_squared_error: 1.0231 - val_level4_mean_squared_error: 1.0010 - val_level5_mean_squared_error: 0.9535\n",
            "\n",
            "Epoch 00023: val_out_loss did not improve from 0.74916\n",
            "Epoch 24/300\n",
            "3/3 [==============================] - 7s 3s/step - loss: 2.3456 - out_loss: 0.4934 - level1_loss: 0.4757 - level2_loss: 0.4705 - level3_loss: 0.4707 - level4_loss: 0.4831 - level5_loss: 0.5386 - out_mean_squared_error: 0.8220 - level1_mean_squared_error: 0.7734 - level2_mean_squared_error: 0.7612 - level3_mean_squared_error: 0.7374 - level4_mean_squared_error: 0.7554 - level5_mean_squared_error: 0.6905 - val_loss: 3.7030 - val_out_loss: 0.7735 - val_level1_loss: 0.7395 - val_level2_loss: 0.7898 - val_level3_loss: 0.7644 - val_level4_loss: 0.7623 - val_level5_loss: 0.7993 - val_out_mean_squared_error: 1.1432 - val_level1_mean_squared_error: 1.1469 - val_level2_mean_squared_error: 1.0325 - val_level3_mean_squared_error: 1.0639 - val_level4_mean_squared_error: 1.0476 - val_level5_mean_squared_error: 0.9584\n",
            "\n",
            "Epoch 00024: val_out_loss did not improve from 0.74916\n",
            "Epoch 25/300\n",
            "3/3 [==============================] - 7s 3s/step - loss: 2.6379 - out_loss: 0.5313 - level1_loss: 0.5225 - level2_loss: 0.5478 - level3_loss: 0.5580 - level4_loss: 0.5526 - level5_loss: 0.5850 - out_mean_squared_error: 0.8868 - level1_mean_squared_error: 0.8627 - level2_mean_squared_error: 0.8311 - level3_mean_squared_error: 0.8522 - level4_mean_squared_error: 0.8151 - level5_mean_squared_error: 0.8217 - val_loss: 3.7326 - val_out_loss: 0.7737 - val_level1_loss: 0.7386 - val_level2_loss: 0.8019 - val_level3_loss: 0.7783 - val_level4_loss: 0.7662 - val_level5_loss: 0.8072 - val_out_mean_squared_error: 1.1356 - val_level1_mean_squared_error: 1.1315 - val_level2_mean_squared_error: 1.0210 - val_level3_mean_squared_error: 1.0402 - val_level4_mean_squared_error: 1.0418 - val_level5_mean_squared_error: 0.9547\n",
            "\n",
            "Epoch 00025: val_out_loss did not improve from 0.74916\n",
            "Epoch 26/300\n",
            "3/3 [==============================] - 7s 3s/step - loss: 2.3689 - out_loss: 0.4838 - level1_loss: 0.4716 - level2_loss: 0.4820 - level3_loss: 0.4859 - level4_loss: 0.4907 - level5_loss: 0.5471 - out_mean_squared_error: 0.7851 - level1_mean_squared_error: 0.7600 - level2_mean_squared_error: 0.7534 - level3_mean_squared_error: 0.7492 - level4_mean_squared_error: 0.7078 - level5_mean_squared_error: 0.8577 - val_loss: 3.7239 - val_out_loss: 0.7808 - val_level1_loss: 0.7446 - val_level2_loss: 0.7956 - val_level3_loss: 0.7741 - val_level4_loss: 0.7613 - val_level5_loss: 0.7985 - val_out_mean_squared_error: 1.1400 - val_level1_mean_squared_error: 1.1348 - val_level2_mean_squared_error: 1.0244 - val_level3_mean_squared_error: 1.0462 - val_level4_mean_squared_error: 1.0491 - val_level5_mean_squared_error: 0.9594\n",
            "\n",
            "Epoch 00026: val_out_loss did not improve from 0.74916\n",
            "Epoch 27/300\n",
            "3/3 [==============================] - 7s 3s/step - loss: 2.4330 - out_loss: 0.4969 - level1_loss: 0.4925 - level2_loss: 0.4894 - level3_loss: 0.5013 - level4_loss: 0.5035 - level5_loss: 0.5575 - out_mean_squared_error: 0.8146 - level1_mean_squared_error: 0.7872 - level2_mean_squared_error: 0.7512 - level3_mean_squared_error: 0.7483 - level4_mean_squared_error: 0.7315 - level5_mean_squared_error: 0.7372 - val_loss: 3.7473 - val_out_loss: 0.7777 - val_level1_loss: 0.7419 - val_level2_loss: 0.8015 - val_level3_loss: 0.7755 - val_level4_loss: 0.7752 - val_level5_loss: 0.8122 - val_out_mean_squared_error: 1.1113 - val_level1_mean_squared_error: 1.1220 - val_level2_mean_squared_error: 1.0168 - val_level3_mean_squared_error: 1.0413 - val_level4_mean_squared_error: 1.0262 - val_level5_mean_squared_error: 0.9526\n",
            "\n",
            "Epoch 00027: val_out_loss did not improve from 0.74916\n",
            "Epoch 28/300\n",
            "3/3 [==============================] - 7s 2s/step - loss: 2.2219 - out_loss: 0.4594 - level1_loss: 0.4460 - level2_loss: 0.4508 - level3_loss: 0.4489 - level4_loss: 0.4551 - level5_loss: 0.5171 - out_mean_squared_error: 0.7089 - level1_mean_squared_error: 0.6833 - level2_mean_squared_error: 0.6706 - level3_mean_squared_error: 0.6904 - level4_mean_squared_error: 0.6936 - level5_mean_squared_error: 0.6785 - val_loss: 3.7050 - val_out_loss: 0.7819 - val_level1_loss: 0.7363 - val_level2_loss: 0.7922 - val_level3_loss: 0.7720 - val_level4_loss: 0.7602 - val_level5_loss: 0.7887 - val_out_mean_squared_error: 1.1055 - val_level1_mean_squared_error: 1.1334 - val_level2_mean_squared_error: 1.0286 - val_level3_mean_squared_error: 1.0476 - val_level4_mean_squared_error: 1.0489 - val_level5_mean_squared_error: 0.9657\n",
            "\n",
            "Epoch 00028: val_out_loss did not improve from 0.74916\n",
            "Epoch 29/300\n",
            "3/3 [==============================] - 7s 3s/step - loss: 2.3786 - out_loss: 0.4864 - level1_loss: 0.4744 - level2_loss: 0.4819 - level3_loss: 0.4904 - level4_loss: 0.4931 - level5_loss: 0.5470 - out_mean_squared_error: 0.7942 - level1_mean_squared_error: 0.7782 - level2_mean_squared_error: 0.7890 - level3_mean_squared_error: 0.8113 - level4_mean_squared_error: 0.7857 - level5_mean_squared_error: 0.7286 - val_loss: 3.6855 - val_out_loss: 0.7819 - val_level1_loss: 0.7340 - val_level2_loss: 0.7834 - val_level3_loss: 0.7672 - val_level4_loss: 0.7577 - val_level5_loss: 0.7826 - val_out_mean_squared_error: 1.0842 - val_level1_mean_squared_error: 1.1401 - val_level2_mean_squared_error: 1.0389 - val_level3_mean_squared_error: 1.0575 - val_level4_mean_squared_error: 1.0563 - val_level5_mean_squared_error: 0.9721\n",
            "\n",
            "Epoch 00029: val_out_loss did not improve from 0.74916\n",
            "Epoch 30/300\n",
            "3/3 [==============================] - 7s 2s/step - loss: 2.4107 - out_loss: 0.4837 - level1_loss: 0.4842 - level2_loss: 0.4937 - level3_loss: 0.4937 - level4_loss: 0.5051 - level5_loss: 0.5530 - out_mean_squared_error: 0.7990 - level1_mean_squared_error: 0.7974 - level2_mean_squared_error: 0.7739 - level3_mean_squared_error: 0.8057 - level4_mean_squared_error: 0.8980 - level5_mean_squared_error: 0.7594 - val_loss: 3.6515 - val_out_loss: 0.7815 - val_level1_loss: 0.7267 - val_level2_loss: 0.7766 - val_level3_loss: 0.7675 - val_level4_loss: 0.7439 - val_level5_loss: 0.7681 - val_out_mean_squared_error: 1.0860 - val_level1_mean_squared_error: 1.1518 - val_level2_mean_squared_error: 1.0499 - val_level3_mean_squared_error: 1.0592 - val_level4_mean_squared_error: 1.0838 - val_level5_mean_squared_error: 0.9874\n",
            "\n",
            "Epoch 00030: val_out_loss did not improve from 0.74916\n",
            "Epoch 31/300\n",
            "3/3 [==============================] - 7s 2s/step - loss: 2.2674 - out_loss: 0.4626 - level1_loss: 0.4543 - level2_loss: 0.4619 - level3_loss: 0.4629 - level4_loss: 0.4663 - level5_loss: 0.5263 - out_mean_squared_error: 0.7341 - level1_mean_squared_error: 0.7224 - level2_mean_squared_error: 0.7405 - level3_mean_squared_error: 0.7517 - level4_mean_squared_error: 0.7358 - level5_mean_squared_error: 0.6861 - val_loss: 3.6742 - val_out_loss: 0.7828 - val_level1_loss: 0.7318 - val_level2_loss: 0.7813 - val_level3_loss: 0.7730 - val_level4_loss: 0.7524 - val_level5_loss: 0.7715 - val_out_mean_squared_error: 1.0922 - val_level1_mean_squared_error: 1.1490 - val_level2_mean_squared_error: 1.0430 - val_level3_mean_squared_error: 1.0497 - val_level4_mean_squared_error: 1.0642 - val_level5_mean_squared_error: 0.9827\n",
            "\n",
            "Epoch 00031: val_out_loss did not improve from 0.74916\n",
            "Epoch 32/300\n",
            "3/3 [==============================] - 7s 3s/step - loss: 2.1485 - out_loss: 0.4373 - level1_loss: 0.4285 - level2_loss: 0.4322 - level3_loss: 0.4386 - level4_loss: 0.4424 - level5_loss: 0.5064 - out_mean_squared_error: 0.6775 - level1_mean_squared_error: 0.6634 - level2_mean_squared_error: 0.6474 - level3_mean_squared_error: 0.6685 - level4_mean_squared_error: 0.6544 - level5_mean_squared_error: 0.6457 - val_loss: 3.6420 - val_out_loss: 0.7736 - val_level1_loss: 0.7309 - val_level2_loss: 0.7724 - val_level3_loss: 0.7721 - val_level4_loss: 0.7474 - val_level5_loss: 0.7561 - val_out_mean_squared_error: 1.0876 - val_level1_mean_squared_error: 1.1667 - val_level2_mean_squared_error: 1.0555 - val_level3_mean_squared_error: 1.0507 - val_level4_mean_squared_error: 1.0764 - val_level5_mean_squared_error: 1.0005\n",
            "\n",
            "Epoch 00032: val_out_loss did not improve from 0.74916\n",
            "Epoch 33/300\n",
            "3/3 [==============================] - 7s 2s/step - loss: 2.0402 - out_loss: 0.4155 - level1_loss: 0.4039 - level2_loss: 0.4136 - level3_loss: 0.4092 - level4_loss: 0.4192 - level5_loss: 0.4889 - out_mean_squared_error: 0.6351 - level1_mean_squared_error: 0.6283 - level2_mean_squared_error: 0.6176 - level3_mean_squared_error: 0.6158 - level4_mean_squared_error: 0.5985 - level5_mean_squared_error: 0.6041 - val_loss: 3.6796 - val_out_loss: 0.7810 - val_level1_loss: 0.7257 - val_level2_loss: 0.7739 - val_level3_loss: 0.7786 - val_level4_loss: 0.7499 - val_level5_loss: 0.7904 - val_out_mean_squared_error: 1.0725 - val_level1_mean_squared_error: 1.1525 - val_level2_mean_squared_error: 1.0544 - val_level3_mean_squared_error: 1.0409 - val_level4_mean_squared_error: 1.0715 - val_level5_mean_squared_error: 0.9659\n",
            "\n",
            "Epoch 00033: val_out_loss did not improve from 0.74916\n",
            "Epoch 34/300\n",
            "3/3 [==============================] - 7s 2s/step - loss: 2.0048 - out_loss: 0.4052 - level1_loss: 0.3942 - level2_loss: 0.4021 - level3_loss: 0.4001 - level4_loss: 0.4178 - level5_loss: 0.4866 - out_mean_squared_error: 0.6287 - level1_mean_squared_error: 0.6131 - level2_mean_squared_error: 0.6165 - level3_mean_squared_error: 0.6162 - level4_mean_squared_error: 0.6160 - level5_mean_squared_error: 0.5970 - val_loss: 3.6929 - val_out_loss: 0.7848 - val_level1_loss: 0.7275 - val_level2_loss: 0.7777 - val_level3_loss: 0.7864 - val_level4_loss: 0.7595 - val_level5_loss: 0.7802 - val_out_mean_squared_error: 1.0941 - val_level1_mean_squared_error: 1.1513 - val_level2_mean_squared_error: 1.0490 - val_level3_mean_squared_error: 1.0337 - val_level4_mean_squared_error: 1.0563 - val_level5_mean_squared_error: 0.9738\n",
            "\n",
            "Epoch 00034: val_out_loss did not improve from 0.74916\n",
            "Epoch 35/300\n",
            "3/3 [==============================] - 7s 3s/step - loss: 2.1305 - out_loss: 0.4280 - level1_loss: 0.4161 - level2_loss: 0.4222 - level3_loss: 0.4318 - level4_loss: 0.4575 - level5_loss: 0.5075 - out_mean_squared_error: 0.6592 - level1_mean_squared_error: 0.6594 - level2_mean_squared_error: 0.6473 - level3_mean_squared_error: 0.6456 - level4_mean_squared_error: 0.7370 - level5_mean_squared_error: 0.6541 - val_loss: 3.7009 - val_out_loss: 0.7821 - val_level1_loss: 0.7266 - val_level2_loss: 0.7761 - val_level3_loss: 0.7872 - val_level4_loss: 0.7672 - val_level5_loss: 0.7870 - val_out_mean_squared_error: 1.0854 - val_level1_mean_squared_error: 1.1656 - val_level2_mean_squared_error: 1.0514 - val_level3_mean_squared_error: 1.0315 - val_level4_mean_squared_error: 1.0397 - val_level5_mean_squared_error: 0.9694\n",
            "\n",
            "Epoch 00035: val_out_loss did not improve from 0.74916\n",
            "Epoch 36/300\n",
            "3/3 [==============================] - 7s 3s/step - loss: 1.9139 - out_loss: 0.3817 - level1_loss: 0.3768 - level2_loss: 0.3853 - level3_loss: 0.3738 - level4_loss: 0.3998 - level5_loss: 0.4750 - out_mean_squared_error: 0.5669 - level1_mean_squared_error: 0.5661 - level2_mean_squared_error: 0.5531 - level3_mean_squared_error: 0.5535 - level4_mean_squared_error: 0.6503 - level5_mean_squared_error: 0.6453 - val_loss: 3.6323 - val_out_loss: 0.7792 - val_level1_loss: 0.7208 - val_level2_loss: 0.7769 - val_level3_loss: 0.7863 - val_level4_loss: 0.7439 - val_level5_loss: 0.7332 - val_out_mean_squared_error: 1.0857 - val_level1_mean_squared_error: 1.1724 - val_level2_mean_squared_error: 1.0505 - val_level3_mean_squared_error: 1.0320 - val_level4_mean_squared_error: 1.0890 - val_level5_mean_squared_error: 1.0418\n",
            "\n",
            "Epoch 00036: val_out_loss did not improve from 0.74916\n",
            "Epoch 37/300\n",
            "3/3 [==============================] - 7s 3s/step - loss: 1.9148 - out_loss: 0.3831 - level1_loss: 0.3791 - level2_loss: 0.3862 - level3_loss: 0.3728 - level4_loss: 0.3953 - level5_loss: 0.4769 - out_mean_squared_error: 0.5981 - level1_mean_squared_error: 0.5848 - level2_mean_squared_error: 0.5805 - level3_mean_squared_error: 0.5705 - level4_mean_squared_error: 0.6038 - level5_mean_squared_error: 0.6522 - val_loss: 3.6381 - val_out_loss: 0.7815 - val_level1_loss: 0.7228 - val_level2_loss: 0.7714 - val_level3_loss: 0.7844 - val_level4_loss: 0.7491 - val_level5_loss: 0.7386 - val_out_mean_squared_error: 1.0779 - val_level1_mean_squared_error: 1.1619 - val_level2_mean_squared_error: 1.0579 - val_level3_mean_squared_error: 1.0357 - val_level4_mean_squared_error: 1.0757 - val_level5_mean_squared_error: 1.0314\n",
            "\n",
            "Epoch 00037: val_out_loss did not improve from 0.74916\n",
            "Epoch 38/300\n",
            "3/3 [==============================] - 7s 2s/step - loss: 2.1452 - out_loss: 0.4290 - level1_loss: 0.4253 - level2_loss: 0.4230 - level3_loss: 0.4293 - level4_loss: 0.4487 - level5_loss: 0.5261 - out_mean_squared_error: 0.6610 - level1_mean_squared_error: 0.6401 - level2_mean_squared_error: 0.6477 - level3_mean_squared_error: 0.6885 - level4_mean_squared_error: 0.6606 - level5_mean_squared_error: 0.6909 - val_loss: 3.6579 - val_out_loss: 0.7806 - val_level1_loss: 0.7233 - val_level2_loss: 0.7748 - val_level3_loss: 0.7845 - val_level4_loss: 0.7442 - val_level5_loss: 0.7650 - val_out_mean_squared_error: 1.0734 - val_level1_mean_squared_error: 1.1748 - val_level2_mean_squared_error: 1.0539 - val_level3_mean_squared_error: 1.0348 - val_level4_mean_squared_error: 1.0859 - val_level5_mean_squared_error: 0.9906\n",
            "\n",
            "Epoch 00038: val_out_loss did not improve from 0.74916\n",
            "Epoch 39/300\n",
            "3/3 [==============================] - 7s 2s/step - loss: 2.1919 - out_loss: 0.4413 - level1_loss: 0.4355 - level2_loss: 0.4421 - level3_loss: 0.4396 - level4_loss: 0.4565 - level5_loss: 0.5249 - out_mean_squared_error: 0.6890 - level1_mean_squared_error: 0.7143 - level2_mean_squared_error: 0.6904 - level3_mean_squared_error: 0.7426 - level4_mean_squared_error: 0.7058 - level5_mean_squared_error: 0.7206 - val_loss: 3.6422 - val_out_loss: 0.7800 - val_level1_loss: 0.7189 - val_level2_loss: 0.7673 - val_level3_loss: 0.7848 - val_level4_loss: 0.7419 - val_level5_loss: 0.7599 - val_out_mean_squared_error: 1.0874 - val_level1_mean_squared_error: 1.1795 - val_level2_mean_squared_error: 1.0635 - val_level3_mean_squared_error: 1.0367 - val_level4_mean_squared_error: 1.0909 - val_level5_mean_squared_error: 0.9979\n",
            "\n",
            "Epoch 00039: val_out_loss did not improve from 0.74916\n",
            "Epoch 40/300\n",
            "3/3 [==============================] - 7s 3s/step - loss: 2.1613 - out_loss: 0.4312 - level1_loss: 0.4312 - level2_loss: 0.4360 - level3_loss: 0.4388 - level4_loss: 0.4507 - level5_loss: 0.5137 - out_mean_squared_error: 0.6927 - level1_mean_squared_error: 0.6855 - level2_mean_squared_error: 0.6913 - level3_mean_squared_error: 0.7026 - level4_mean_squared_error: 0.7487 - level5_mean_squared_error: 0.7310 - val_loss: 3.6537 - val_out_loss: 0.7858 - val_level1_loss: 0.7221 - val_level2_loss: 0.7733 - val_level3_loss: 0.7868 - val_level4_loss: 0.7432 - val_level5_loss: 0.7559 - val_out_mean_squared_error: 1.0780 - val_level1_mean_squared_error: 1.1624 - val_level2_mean_squared_error: 1.0551 - val_level3_mean_squared_error: 1.0308 - val_level4_mean_squared_error: 1.0890 - val_level5_mean_squared_error: 1.0021\n",
            "\n",
            "Epoch 00040: val_out_loss did not improve from 0.74916\n",
            "Epoch 41/300\n",
            "3/3 [==============================] - 7s 2s/step - loss: 1.9959 - out_loss: 0.3840 - level1_loss: 0.3802 - level2_loss: 0.3885 - level3_loss: 0.3929 - level4_loss: 0.4192 - level5_loss: 0.5301 - out_mean_squared_error: 0.5641 - level1_mean_squared_error: 0.5590 - level2_mean_squared_error: 0.5535 - level3_mean_squared_error: 0.5692 - level4_mean_squared_error: 0.6208 - level5_mean_squared_error: 0.7547 - val_loss: 3.6603 - val_out_loss: 0.7816 - val_level1_loss: 0.7200 - val_level2_loss: 0.7711 - val_level3_loss: 0.7865 - val_level4_loss: 0.7443 - val_level5_loss: 0.7720 - val_out_mean_squared_error: 1.0706 - val_level1_mean_squared_error: 1.1716 - val_level2_mean_squared_error: 1.0584 - val_level3_mean_squared_error: 1.0318 - val_level4_mean_squared_error: 1.0852 - val_level5_mean_squared_error: 0.9849\n",
            "\n",
            "Epoch 00041: val_out_loss did not improve from 0.74916\n",
            "Epoch 42/300\n",
            "3/3 [==============================] - 7s 3s/step - loss: 1.8452 - out_loss: 0.3586 - level1_loss: 0.3522 - level2_loss: 0.3609 - level3_loss: 0.3601 - level4_loss: 0.3844 - level5_loss: 0.4903 - out_mean_squared_error: 0.5263 - level1_mean_squared_error: 0.5351 - level2_mean_squared_error: 0.5265 - level3_mean_squared_error: 0.5542 - level4_mean_squared_error: 0.6839 - level5_mean_squared_error: 0.8701 - val_loss: 3.6347 - val_out_loss: 0.7801 - val_level1_loss: 0.7227 - val_level2_loss: 0.7750 - val_level3_loss: 0.7881 - val_level4_loss: 0.7386 - val_level5_loss: 0.7389 - val_out_mean_squared_error: 1.0734 - val_level1_mean_squared_error: 1.1655 - val_level2_mean_squared_error: 1.0526 - val_level3_mean_squared_error: 1.0303 - val_level4_mean_squared_error: 1.0996 - val_level5_mean_squared_error: 1.0365\n",
            "\n",
            "Epoch 00042: val_out_loss did not improve from 0.74916\n",
            "Epoch 43/300\n",
            "3/3 [==============================] - 7s 3s/step - loss: 1.7955 - out_loss: 0.3529 - level1_loss: 0.3444 - level2_loss: 0.3491 - level3_loss: 0.3571 - level4_loss: 0.3691 - level5_loss: 0.4716 - out_mean_squared_error: 0.5065 - level1_mean_squared_error: 0.4885 - level2_mean_squared_error: 0.4779 - level3_mean_squared_error: 0.5051 - level4_mean_squared_error: 0.5554 - level5_mean_squared_error: 0.6470 - val_loss: 3.6325 - val_out_loss: 0.7769 - val_level1_loss: 0.7145 - val_level2_loss: 0.7661 - val_level3_loss: 0.7936 - val_level4_loss: 0.7536 - val_level5_loss: 0.7359 - val_out_mean_squared_error: 1.0766 - val_level1_mean_squared_error: 1.1845 - val_level2_mean_squared_error: 1.0672 - val_level3_mean_squared_error: 1.0238 - val_level4_mean_squared_error: 1.0682 - val_level5_mean_squared_error: 1.0335\n",
            "\n",
            "Epoch 00043: val_out_loss did not improve from 0.74916\n",
            "Epoch 44/300\n",
            "3/3 [==============================] - 7s 2s/step - loss: 1.7118 - out_loss: 0.3309 - level1_loss: 0.3221 - level2_loss: 0.3272 - level3_loss: 0.3518 - level4_loss: 0.3624 - level5_loss: 0.4455 - out_mean_squared_error: 0.4759 - level1_mean_squared_error: 0.4766 - level2_mean_squared_error: 0.4775 - level3_mean_squared_error: 0.5312 - level4_mean_squared_error: 0.6691 - level5_mean_squared_error: 0.5791 - val_loss: 3.6390 - val_out_loss: 0.7771 - val_level1_loss: 0.7133 - val_level2_loss: 0.7664 - val_level3_loss: 0.7835 - val_level4_loss: 0.7495 - val_level5_loss: 0.7589 - val_out_mean_squared_error: 1.0872 - val_level1_mean_squared_error: 1.1876 - val_level2_mean_squared_error: 1.0686 - val_level3_mean_squared_error: 1.0375 - val_level4_mean_squared_error: 1.0785 - val_level5_mean_squared_error: 0.9962\n",
            "\n",
            "Epoch 00044: val_out_loss did not improve from 0.74916\n",
            "Epoch 45/300\n",
            "3/3 [==============================] - 7s 2s/step - loss: 1.8010 - out_loss: 0.3545 - level1_loss: 0.3480 - level2_loss: 0.3526 - level3_loss: 0.3658 - level4_loss: 0.3751 - level5_loss: 0.4552 - out_mean_squared_error: 0.5327 - level1_mean_squared_error: 0.5318 - level2_mean_squared_error: 0.5203 - level3_mean_squared_error: 0.5707 - level4_mean_squared_error: 0.5930 - level5_mean_squared_error: 0.5745 - val_loss: 3.6469 - val_out_loss: 0.7769 - val_level1_loss: 0.7139 - val_level2_loss: 0.7620 - val_level3_loss: 0.7903 - val_level4_loss: 0.7456 - val_level5_loss: 0.7699 - val_out_mean_squared_error: 1.0713 - val_level1_mean_squared_error: 1.1860 - val_level2_mean_squared_error: 1.0746 - val_level3_mean_squared_error: 1.0328 - val_level4_mean_squared_error: 1.0813 - val_level5_mean_squared_error: 0.9812\n",
            "\n",
            "Epoch 00045: val_out_loss did not improve from 0.74916\n",
            "Epoch 46/300\n",
            "3/3 [==============================] - 7s 2s/step - loss: 1.6381 - out_loss: 0.3176 - level1_loss: 0.3103 - level2_loss: 0.3183 - level3_loss: 0.3325 - level4_loss: 0.3404 - level5_loss: 0.4285 - out_mean_squared_error: 0.4453 - level1_mean_squared_error: 0.4416 - level2_mean_squared_error: 0.4351 - level3_mean_squared_error: 0.4366 - level4_mean_squared_error: 0.4951 - level5_mean_squared_error: 0.5006 - val_loss: 3.6309 - val_out_loss: 0.7712 - val_level1_loss: 0.7149 - val_level2_loss: 0.7630 - val_level3_loss: 0.7884 - val_level4_loss: 0.7363 - val_level5_loss: 0.7648 - val_out_mean_squared_error: 1.0791 - val_level1_mean_squared_error: 1.1856 - val_level2_mean_squared_error: 1.0735 - val_level3_mean_squared_error: 1.0363 - val_level4_mean_squared_error: 1.1039 - val_level5_mean_squared_error: 0.9849\n",
            "\n",
            "Epoch 00046: val_out_loss did not improve from 0.74916\n",
            "Epoch 47/300\n",
            "3/3 [==============================] - 7s 3s/step - loss: 1.5352 - out_loss: 0.3022 - level1_loss: 0.2899 - level2_loss: 0.2967 - level3_loss: 0.3027 - level4_loss: 0.3128 - level5_loss: 0.4148 - out_mean_squared_error: 0.4161 - level1_mean_squared_error: 0.4128 - level2_mean_squared_error: 0.4067 - level3_mean_squared_error: 0.4274 - level4_mean_squared_error: 0.4374 - level5_mean_squared_error: 0.4855 - val_loss: 3.6313 - val_out_loss: 0.7728 - val_level1_loss: 0.7115 - val_level2_loss: 0.7573 - val_level3_loss: 0.7852 - val_level4_loss: 0.7474 - val_level5_loss: 0.7649 - val_out_mean_squared_error: 1.0803 - val_level1_mean_squared_error: 1.1932 - val_level2_mean_squared_error: 1.0835 - val_level3_mean_squared_error: 1.0379 - val_level4_mean_squared_error: 1.0775 - val_level5_mean_squared_error: 0.9862\n",
            "\n",
            "Epoch 00047: val_out_loss did not improve from 0.74916\n",
            "Epoch 48/300\n",
            "3/3 [==============================] - 7s 3s/step - loss: 1.5740 - out_loss: 0.3099 - level1_loss: 0.3019 - level2_loss: 0.3066 - level3_loss: 0.3112 - level4_loss: 0.3188 - level5_loss: 0.4191 - out_mean_squared_error: 0.4297 - level1_mean_squared_error: 0.4222 - level2_mean_squared_error: 0.4181 - level3_mean_squared_error: 0.4307 - level4_mean_squared_error: 0.4533 - level5_mean_squared_error: 0.4958 - val_loss: 3.6262 - val_out_loss: 0.7739 - val_level1_loss: 0.7098 - val_level2_loss: 0.7600 - val_level3_loss: 0.7807 - val_level4_loss: 0.7450 - val_level5_loss: 0.7632 - val_out_mean_squared_error: 1.0935 - val_level1_mean_squared_error: 1.1976 - val_level2_mean_squared_error: 1.0790 - val_level3_mean_squared_error: 1.0458 - val_level4_mean_squared_error: 1.0827 - val_level5_mean_squared_error: 0.9863\n",
            "\n",
            "Epoch 00048: val_out_loss did not improve from 0.74916\n",
            "Epoch 49/300\n",
            "3/3 [==============================] - 7s 2s/step - loss: 1.4039 - out_loss: 0.2715 - level1_loss: 0.2657 - level2_loss: 0.2677 - level3_loss: 0.2719 - level4_loss: 0.2870 - level5_loss: 0.3911 - out_mean_squared_error: 0.3624 - level1_mean_squared_error: 0.3580 - level2_mean_squared_error: 0.3495 - level3_mean_squared_error: 0.3593 - level4_mean_squared_error: 0.3575 - level5_mean_squared_error: 0.4725 - val_loss: 3.6234 - val_out_loss: 0.7711 - val_level1_loss: 0.7116 - val_level2_loss: 0.7542 - val_level3_loss: 0.7863 - val_level4_loss: 0.7458 - val_level5_loss: 0.7603 - val_out_mean_squared_error: 1.0801 - val_level1_mean_squared_error: 1.1968 - val_level2_mean_squared_error: 1.0900 - val_level3_mean_squared_error: 1.0506 - val_level4_mean_squared_error: 1.0869 - val_level5_mean_squared_error: 0.9917\n",
            "\n",
            "Epoch 00049: val_out_loss did not improve from 0.74916\n"
          ]
        }
      ]
    },
    {
      "cell_type": "markdown",
      "metadata": {
        "id": "KXKtueC8-Hec"
      },
      "source": [
        "Predict from the Test set"
      ]
    },
    {
      "cell_type": "code",
      "metadata": {
        "id": "da_GxBdub11V",
        "colab": {
          "base_uri": "https://localhost:8080/"
        },
        "outputId": "c11edcac-7e7a-4962-eba3-731c37d7ba0c"
      },
      "source": [
        "if D_S == 0:\n",
        "    EEG_App = EEGIMU_Network.predict(X_Test, verbose=1)\n",
        "    print(EEG_App.shape)\n",
        "elif D_S == 1:\n",
        "    EEG_App = EEGIMU_Network.predict(X_Test1, verbose=1)\n",
        "    print(EEG_App[0].shape)"
      ],
      "execution_count": 21,
      "outputs": [
        {
          "output_type": "stream",
          "name": "stdout",
          "text": [
            "2/2 [==============================] - 7s 2s/step\n",
            "(57, 2048, 1)\n"
          ]
        }
      ]
    },
    {
      "cell_type": "markdown",
      "metadata": {
        "id": "I5VOUzPq-qyv"
      },
      "source": [
        "Plot History Plots (e.g., Loss, Accuracy, etc.)"
      ]
    },
    {
      "cell_type": "code",
      "metadata": {
        "id": "FEbvTDd7-nZH",
        "colab": {
          "base_uri": "https://localhost:8080/",
          "height": 522
        },
        "outputId": "d806c7ce-3462-4d97-a7a7-894fd5d4a30a"
      },
      "source": [
        "def history_plot(history):\n",
        "  # list all dictionaries in history\n",
        "  print(history.history.keys())\n",
        "  # summarize history for error\n",
        "  plt.figure(figsize=(7,7))\n",
        "  plt.subplot(2,1,1)\n",
        "  plt.plot(history.history['out_mean_squared_error'])\n",
        "  plt.plot(history.history['val_out_mean_squared_error'])\n",
        "  plt.title('Model Error Performance')\n",
        "  plt.ylabel('Error')\n",
        "  plt.xlabel('Epoch')\n",
        "  plt.legend(['Train', 'Val'], loc='upper right')\n",
        "  plt.ylim([0, 3])\n",
        "  plt.show()\n",
        "  # summarize history for loss\n",
        "  plt.figure(figsize=(7,7))\n",
        "  plt.subplot(2,1,2)\n",
        "  plt.plot(history.history['out_loss'])\n",
        "  plt.plot(history.history['val_out_loss'])\n",
        "  plt.title('Model Loss')\n",
        "  plt.ylabel('Loss')\n",
        "  plt.xlabel('Epoch')\n",
        "  plt.legend(['Train', 'Val'], loc='upper right')\n",
        "  plt.ylim([0, 3])\n",
        "  plt.show()\n",
        "#\n",
        "history_plot(history)"
      ],
      "execution_count": 22,
      "outputs": [
        {
          "output_type": "stream",
          "name": "stdout",
          "text": [
            "dict_keys(['loss', 'out_loss', 'level1_loss', 'level2_loss', 'level3_loss', 'level4_loss', 'level5_loss', 'out_mean_squared_error', 'level1_mean_squared_error', 'level2_mean_squared_error', 'level3_mean_squared_error', 'level4_mean_squared_error', 'level5_mean_squared_error', 'val_loss', 'val_out_loss', 'val_level1_loss', 'val_level2_loss', 'val_level3_loss', 'val_level4_loss', 'val_level5_loss', 'val_out_mean_squared_error', 'val_level1_mean_squared_error', 'val_level2_mean_squared_error', 'val_level3_mean_squared_error', 'val_level4_mean_squared_error', 'val_level5_mean_squared_error'])\n"
          ]
        },
        {
          "output_type": "display_data",
          "data": {
            "image/png": "[encoded data removed]",
            "text/plain": [
              "<Figure size 504x504 with 1 Axes>"
            ]
          },
          "metadata": {}
        },
        {
          "output_type": "display_data",
          "data": {
            "image/png": "[encoded data removed]",
            "text/plain": [
              "<Figure size 504x504 with 1 Axes>"
            ]
          },
          "metadata": {}
        }
      ]
    },
    {
      "cell_type": "markdown",
      "metadata": {
        "id": "RAkQe4Yp9QVP"
      },
      "source": [
        "Visualize Outcome"
      ]
    },
    {
      "cell_type": "code",
      "metadata": {
        "id": "tq3lBCm0crMc",
        "colab": {
          "base_uri": "https://localhost:8080/",
          "height": 281
        },
        "outputId": "69118a3f-275b-4479-e02d-27ea6f847766"
      },
      "source": [
        "if D_S == 0:\n",
        "    i = random.randint(0,len(Y_Test));\n",
        "    #\n",
        "    MAE = np.mean(np.abs(EEG_App[i].ravel()-Y_Test[i].ravel()));\n",
        "    #\n",
        "    plt.figure(figsize=(15, 4));\n",
        "    plt.plot(Y_Test1[i],label='GRND');\n",
        "    plt.plot(EEG_App[i].ravel(), label='Pred');\n",
        "    plt.title(f\"EEG -- Sample Number {i} -- MAE = {MAE}\");\n",
        "    plt.legend();\n",
        "    #\n",
        "elif D_S == 1:\n",
        "    i = random.randint(0,len(Y_Test));\n",
        "    #\n",
        "    MAE = np.mean(np.abs(EEG_App[0][i].ravel()-Y_Test[i].ravel()))\n",
        "    #\n",
        "    plt.figure(figsize=(15,4))\n",
        "    # plt.subplot(5,1,1)\n",
        "    plt.plot(Y_Test[i],label='Ground Truth');\n",
        "    plt.plot(EEG_App[0][i].ravel(), label='Prediction');\n",
        "    plt.title(f\"GRF -- Sample Number {i} -- MAE = {MAE}\");\n",
        "    plt.legend();\n",
        "    plt.show()\n",
        "    # plt.subplot(5,1,2)\n",
        "    # plt.plot((X_Test[i,:,0].ravel()),label='EEG2');\n",
        "    # plt.title('EEG2')\n",
        "    # plt.legend();\n",
        "    # plt.subplot(5,1,3)\n",
        "    # plt.plot((X_Test[i,:,1].ravel()),label='ACCX2');\n",
        "    # plt.title('ACCX')\n",
        "    # plt.legend();\n",
        "    # plt.subplot(5,1,4)\n",
        "    # plt.plot((X_Test[i,:,2].ravel()),label='ACCY2');\n",
        "    # plt.title('ACCY')\n",
        "    # plt.legend();\n",
        "    # plt.subplot(5,1,5)\n",
        "    # plt.plot((X_Test[i,:,3].ravel()),label='ACCZ2');\n",
        "    # plt.title('ACCZ')\n",
        "    # plt.legend();"
      ],
      "execution_count": 27,
      "outputs": [
        {
          "output_type": "display_data",
          "data": {
            "image/png": "[encoded data removed]",
            "text/plain": [
              "<Figure size 1080x288 with 1 Axes>"
            ]
          },
          "metadata": {}
        }
      ]
    },
    {
      "cell_type": "markdown",
      "metadata": {
        "id": "qgyZlT9gOC3r"
      },
      "source": [
        "### Evaluate EEG Reconstruction"
      ]
    },
    {
      "cell_type": "markdown",
      "metadata": {
        "id": "3Tn5t8svOC3z"
      },
      "source": [
        "Construction Error"
      ]
    },
    {
      "cell_type": "code",
      "metadata": {
        "id": "dCpLcxFHHGO4"
      },
      "source": [
        "def Construction_Error(GRND, Pred):\n",
        "    construction_err = []\n",
        "    bad_indices = []\n",
        "    count = 0\n",
        "\n",
        "    for i in range(len(GRND)):\n",
        "        MAE = np.mean(np.abs(Pred[i].ravel() - GRND[i].ravel()))\n",
        "        if MAE < 1:\n",
        "            construction_err.append(MAE)\n",
        "        elif MAE >= 1:\n",
        "            count = count + 1\n",
        "            bad_indices.append(i)\n",
        "\n",
        "    print(f'Construction Error : {round(np.mean(construction_err), 3)} +/- {round(np.std(construction_err), 3)}')\n",
        "    print(f'Number of Bad Predictions = {count}')\n",
        "\n",
        "    bad_indices = set(bad_indices)\n",
        "    all_indices = set(np.arange(len(GRND)))\n",
        "    good_indices = np.array(list(all_indices - bad_indices))\n",
        "    GRND_NEW = GRND[good_indices]\n",
        "    PRED_NEW = Pred[good_indices]\n",
        "\n",
        "    return GRND_NEW, PRED_NEW"
      ],
      "execution_count": 24,
      "outputs": []
    },
    {
      "cell_type": "code",
      "metadata": {
        "id": "-e5e02IX18_0",
        "colab": {
          "base_uri": "https://localhost:8080/"
        },
        "outputId": "0e5304f3-e496-48db-b6d2-c353edf73783"
      },
      "source": [
        "[A,B] = Construction_Error(Y_Test,EEG_App[0])"
      ],
      "execution_count": 25,
      "outputs": [
        {
          "output_type": "stream",
          "name": "stdout",
          "text": [
            "Construction Error : 0.764 +/- 0.114\n",
            "Number of Bad Predictions = 1\n"
          ]
        }
      ]
    },
    {
      "cell_type": "markdown",
      "metadata": {
        "id": "RpBffrdYhNFs"
      },
      "source": [
        "### Save Files"
      ]
    },
    {
      "cell_type": "code",
      "metadata": {
        "id": "PIUgbKfFhO7O",
        "colab": {
          "base_uri": "https://localhost:8080/",
          "height": 231
        },
        "outputId": "47c73029-849a-4b24-d970-c4f670ac7c11"
      },
      "source": [
        "output_directory = 'Patient_Wise_Data/Outputs/Preds_Sub_' + str(Test_Case) + '.h5'\n",
        "File = h5py.File(output_directory, 'w')\n",
        "File.create_dataset('EEG_GT', data=Y_Test)\n",
        "File.create_dataset('EEG_MA', data=X_Test[:,:,0])\n",
        "File.create_dataset('EEG_Pred', data=EEG_App[0])\n",
        "File.close()"
      ],
      "execution_count": 26,
      "outputs": [
        {
          "output_type": "error",
          "ename": "NameError",
          "evalue": "ignored",
          "traceback": [
            "\u001b[0;31m---------------------------------------------------------------------------\u001b[0m",
            "\u001b[0;31mNameError\u001b[0m                                 Traceback (most recent call last)",
            "\u001b[0;32m<ipython-input-26-25ffc6fbf276>\u001b[0m in \u001b[0;36m<module>\u001b[0;34m()\u001b[0m\n\u001b[0;32m----> 1\u001b[0;31m \u001b[0moutput_directory\u001b[0m \u001b[0;34m=\u001b[0m \u001b[0;34m'Patient_Wise_Data/Outputs/Preds_Sub_'\u001b[0m \u001b[0;34m+\u001b[0m \u001b[0mstr\u001b[0m\u001b[0;34m(\u001b[0m\u001b[0mTest_Case\u001b[0m\u001b[0;34m)\u001b[0m \u001b[0;34m+\u001b[0m \u001b[0;34m'.h5'\u001b[0m\u001b[0;34m\u001b[0m\u001b[0;34m\u001b[0m\u001b[0m\n\u001b[0m\u001b[1;32m      2\u001b[0m \u001b[0mFile\u001b[0m \u001b[0;34m=\u001b[0m \u001b[0mh5py\u001b[0m\u001b[0;34m.\u001b[0m\u001b[0mFile\u001b[0m\u001b[0;34m(\u001b[0m\u001b[0moutput_directory\u001b[0m\u001b[0;34m,\u001b[0m \u001b[0;34m'w'\u001b[0m\u001b[0;34m)\u001b[0m\u001b[0;34m\u001b[0m\u001b[0;34m\u001b[0m\u001b[0m\n\u001b[1;32m      3\u001b[0m \u001b[0mFile\u001b[0m\u001b[0;34m.\u001b[0m\u001b[0mcreate_dataset\u001b[0m\u001b[0;34m(\u001b[0m\u001b[0;34m'EEG_GT'\u001b[0m\u001b[0;34m,\u001b[0m \u001b[0mdata\u001b[0m\u001b[0;34m=\u001b[0m\u001b[0mY_Test\u001b[0m\u001b[0;34m)\u001b[0m\u001b[0;34m\u001b[0m\u001b[0;34m\u001b[0m\u001b[0m\n\u001b[1;32m      4\u001b[0m \u001b[0mFile\u001b[0m\u001b[0;34m.\u001b[0m\u001b[0mcreate_dataset\u001b[0m\u001b[0;34m(\u001b[0m\u001b[0;34m'EEG_MA'\u001b[0m\u001b[0;34m,\u001b[0m \u001b[0mdata\u001b[0m\u001b[0;34m=\u001b[0m\u001b[0mX_Test\u001b[0m\u001b[0;34m[\u001b[0m\u001b[0;34m:\u001b[0m\u001b[0;34m,\u001b[0m\u001b[0;34m:\u001b[0m\u001b[0;34m,\u001b[0m\u001b[0;36m0\u001b[0m\u001b[0;34m]\u001b[0m\u001b[0;34m)\u001b[0m\u001b[0;34m\u001b[0m\u001b[0;34m\u001b[0m\u001b[0m\n\u001b[1;32m      5\u001b[0m \u001b[0mFile\u001b[0m\u001b[0;34m.\u001b[0m\u001b[0mcreate_dataset\u001b[0m\u001b[0;34m(\u001b[0m\u001b[0;34m'EEG_Pred'\u001b[0m\u001b[0;34m,\u001b[0m \u001b[0mdata\u001b[0m\u001b[0;34m=\u001b[0m\u001b[0mEEG_App\u001b[0m\u001b[0;34m[\u001b[0m\u001b[0;36m0\u001b[0m\u001b[0;34m]\u001b[0m\u001b[0;34m)\u001b[0m\u001b[0;34m\u001b[0m\u001b[0;34m\u001b[0m\u001b[0m\n",
            "\u001b[0;31mNameError\u001b[0m: name 'Test_Case' is not defined"
          ]
        }
      ]
    },
    {
      "cell_type": "markdown",
      "metadata": {
        "id": "WesN7p7AeYK4"
      },
      "source": [
        "# Infinite Loop to Keep the Tab Alive"
      ]
    },
    {
      "cell_type": "code",
      "metadata": {
        "id": "0HqQ3O6XeZ1f"
      },
      "source": [
        "while True:\n",
        "    pass"
      ],
      "execution_count": null,
      "outputs": []
    }
  ]
}