{
  "nbformat": 4,
  "nbformat_minor": 0,
  "metadata": {
    "colab": {
      "name": "EEG_Motion_Artifact_Removal_v1.ipynb",
      "provenance": [],
      "collapsed_sections": [
        "tgW7r0C9TuZk",
        "WOaiV66cCD6L",
        "fI8UCcR-oZc-",
        "_qTwozk_BS94",
        "WesN7p7AeYK4"
      ],
      "machine_shape": "hm",
      "include_colab_link": true
    },
    "kernelspec": {
      "display_name": "Python 3",
      "language": "python",
      "name": "python3"
    },
    "language_info": {
      "codemirror_mode": {
        "name": "ipython",
        "version": 3
      },
      "file_extension": ".py",
      "mimetype": "text/x-python",
      "name": "python",
      "nbconvert_exporter": "python",
      "pygments_lexer": "ipython3",
      "version": "3.5.2"
    },
    "accelerator": "GPU"
  },
  "cells": [
    {
      "cell_type": "markdown",
      "metadata": {
        "id": "view-in-github",
        "colab_type": "text"
      },
      "source": [
        "<a href=\"https://colab.research.google.com/github/atick-faisal/GRF-Synthesis-from-Motion-Trajectories/blob/main/src/training/training.ipynb\" target=\"_parent\"><img src=\"https://colab.research.google.com/assets/colab-badge.svg\" alt=\"Open In Colab\"/></a>"
      ]
    },
    {
      "cell_type": "markdown",
      "metadata": {
        "id": "sFyb0y7PUJOo"
      },
      "source": [
        "# EEG Motion Artifact Removal using Deep Learning - Complete Pipeline"
      ]
    },
    {
      "cell_type": "markdown",
      "metadata": {
        "id": "W9vTr2NhcGAA"
      },
      "source": [
        "# Test GPU (Optional)\n",
        "Before Starting, kindly check the available GPU from the Google Server, GPU model and other related information. It might help!"
      ]
    },
    {
      "cell_type": "code",
      "metadata": {
        "colab": {
          "base_uri": "https://localhost:8080/"
        },
        "id": "VUNJNtNxcFTF",
        "outputId": "b6171202-5eed-4542-d2d9-f48cf25dbb65"
      },
      "source": [
        "import torch\n",
        "print(\"Is CUDA enabled GPU Available?\", torch.cuda.is_available())\n",
        "print(\"GPU Number:\", torch.cuda.device_count())\n",
        "print(\"Current GPU Index:\", torch.cuda.current_device())\n",
        "print(\"GPU Type:\", torch.cuda.get_device_name(device=None))\n",
        "print(\"GPU Capability:\", torch.cuda.get_device_capability(device=None))\n",
        "print(\"Is GPU Initialized yet?\", torch.cuda.is_initialized())"
      ],
      "execution_count": 1,
      "outputs": [
        {
          "output_type": "stream",
          "name": "stdout",
          "text": [
            "Is CUDA enabled GPU Available? True\n",
            "GPU Number: 1\n",
            "Current GPU Index: 0\n",
            "GPU Type: Tesla K80\n",
            "GPU Capability: (3, 7)\n",
            "Is GPU Initialized yet? True\n"
          ]
        }
      ]
    },
    {
      "cell_type": "markdown",
      "metadata": {
        "id": "EQbDnsIZUSx0"
      },
      "source": [
        "# Connect to Google Drive"
      ]
    },
    {
      "cell_type": "code",
      "metadata": {
        "id": "wg4kMbwxsH9h"
      },
      "source": [
        "# from google.colab import drive\n",
        "# drive.mount('/content/GDrive')"
      ],
      "execution_count": 2,
      "outputs": []
    },
    {
      "cell_type": "markdown",
      "metadata": {
        "id": "GpdYZ2x3MbTd"
      },
      "source": [
        "Move to the Target Directory"
      ]
    },
    {
      "cell_type": "code",
      "metadata": {
        "id": "Efh543dRsQga"
      },
      "source": [
        "# %cd /content/GDrive/MyDrive/Colab_Notebooks/Research/EEG_IMU "
      ],
      "execution_count": 3,
      "outputs": []
    },
    {
      "cell_type": "markdown",
      "metadata": {
        "id": "_ZtMdxE7MeXX"
      },
      "source": [
        "List the Files and Folders Located in the Current Directory"
      ]
    },
    {
      "cell_type": "code",
      "metadata": {
        "id": "eM92ZPcisMK1"
      },
      "source": [
        "# !ls"
      ],
      "execution_count": 4,
      "outputs": []
    },
    {
      "cell_type": "markdown",
      "metadata": {
        "id": "ano69se-e3QY"
      },
      "source": [
        "## Evaluation of Predicting ABP Waveforms\n",
        "\n",
        "Here, we present an interactive CLI to predict the ABP waveform from PPG signal from the test data. Ground truth, prediction from approximation network and refinement network are presented, and a comparison is also demonstrated\n"
      ]
    },
    {
      "cell_type": "markdown",
      "metadata": {
        "id": "fHxmMNfno3U4"
      },
      "source": [
        "# Conling Repository"
      ]
    },
    {
      "cell_type": "code",
      "metadata": {
        "id": "xrTsiXfvo6bp",
        "colab": {
          "base_uri": "https://localhost:8080/"
        },
        "outputId": "ca86c440-36b7-47d6-cd12-0189c07e09eb"
      },
      "source": [
        "!git clone https://github.com/atick-faisal/GRF-Synthesis-from-Motion-Trajectories.git"
      ],
      "execution_count": 5,
      "outputs": [
        {
          "output_type": "stream",
          "name": "stdout",
          "text": [
            "fatal: destination path 'GRF-Synthesis-from-Motion-Trajectories' already exists and is not an empty directory.\n"
          ]
        }
      ]
    },
    {
      "cell_type": "code",
      "metadata": {
        "id": "oCda5cmGpBUo",
        "colab": {
          "base_uri": "https://localhost:8080/"
        },
        "outputId": "ef5aea8c-c0fa-4cd7-ffbb-3b7a8b8847ce"
      },
      "source": [
        "%cd /content/GRF-Synthesis-from-Motion-Trajectories/src/\n",
        "!ls"
      ],
      "execution_count": 6,
      "outputs": [
        {
          "output_type": "stream",
          "name": "stdout",
          "text": [
            "/content/GRF-Synthesis-from-Motion-Trajectories/src\n",
            "data.joblib  models  preprocessing  trained_models  training  visualization\n"
          ]
        }
      ]
    },
    {
      "cell_type": "markdown",
      "metadata": {
        "id": "tgW7r0C9TuZk"
      },
      "source": [
        "#Import Libraries"
      ]
    },
    {
      "cell_type": "code",
      "metadata": {
        "id": "eMhBhz1CrMb3"
      },
      "source": [
        "import os\n",
        "import h5py\n",
        "import scipy\n",
        "import random\n",
        "import pickle\n",
        "import joblib\n",
        "import numpy as np\n",
        "import pandas as pd\n",
        "import seaborn as sns\n",
        "import tensorflow as tf\n",
        "from tqdm import tqdm\n",
        "import scipy.io as sio\n",
        "import matplotlib.pyplot as plt\n",
        "from sklearn.metrics import mean_squared_error, median_absolute_error, mean_absolute_error\n",
        "from sklearn.metrics import classification_report, confusion_matrix\n",
        "from sklearn.model_selection import train_test_split\n",
        "from pathlib import Path"
      ],
      "execution_count": 7,
      "outputs": []
    },
    {
      "cell_type": "code",
      "metadata": {
        "id": "lFydrjV6TxCc"
      },
      "source": [
        "from models import UNet"
      ],
      "execution_count": 8,
      "outputs": []
    },
    {
      "cell_type": "code",
      "metadata": {
        "id": "03JA1kRfzoit"
      },
      "source": [
        "%matplotlib inline\n",
        "sns.set_style('white')"
      ],
      "execution_count": 9,
      "outputs": []
    },
    {
      "cell_type": "markdown",
      "metadata": {
        "id": "VyFBKZ1ddRuM"
      },
      "source": [
        "# End-to-End Pipeline - EEG Motion Artifact Correction using Deep Learning"
      ]
    },
    {
      "cell_type": "markdown",
      "metadata": {
        "id": "WOaiV66cCD6L"
      },
      "source": [
        "## Prepare Dataset - k-Fold Cross Validation"
      ]
    },
    {
      "cell_type": "code",
      "metadata": {
        "id": "olkAEm0y2rUp",
        "colab": {
          "base_uri": "https://localhost:8080/"
        },
        "outputId": "0519379a-57f6-42c8-8714-1b57359916cb"
      },
      "source": [
        "!gdown --id \"1k4jFe1qy6J3E5ce-ewObyH1bOMWy_cTH\""
      ],
      "execution_count": 10,
      "outputs": [
        {
          "output_type": "stream",
          "name": "stdout",
          "text": [
            "Downloading...\n",
            "From: https://drive.google.com/uc?id=1k4jFe1qy6J3E5ce-ewObyH1bOMWy_cTH\n",
            "To: /content/GRF-Synthesis-from-Motion-Trajectories/src/data.joblib\n",
            "100% 40.2M/40.2M [00:00<00:00, 152MB/s]\n"
          ]
        }
      ]
    },
    {
      "cell_type": "code",
      "metadata": {
        "id": "NLDwhb-xt3Y_",
        "colab": {
          "base_uri": "https://localhost:8080/"
        },
        "outputId": "4606a89e-08d7-4a22-c0b4-18783b503154"
      },
      "source": [
        "from sklearn.preprocessing import MinMaxScaler\n",
        "from sklearn.preprocessing import StandardScaler\n",
        "\n",
        "data = joblib.load('data.joblib')\n",
        "features = data['X']\n",
        "target = data['y']\n",
        "\n",
        "features_z = features[['lfal_z', 'ltam_z', 'lfcc_z', 'lfm1_z', 'lfm2_z', 'lfm5_z']]\n",
        "target_z = target[['fz']]\n",
        "\n",
        "scaler = MinMaxScaler()\n",
        "scaler.fit(features_z)\n",
        "features_z = scaler.transform(features_z)\n",
        "\n",
        "scaler = MinMaxScaler()\n",
        "scaler.fit(target_z)\n",
        "target_z = scaler.transform(target_z)\n",
        "\n",
        "X = features_z[:113664, :].reshape(-1, 1024, 6)\n",
        "y = target_z[:113664, :].reshape(-1, 1024, 1)\n",
        "\n",
        "print(X.shape)\n",
        "print(y.shape)"
      ],
      "execution_count": 11,
      "outputs": [
        {
          "output_type": "stream",
          "name": "stdout",
          "text": [
            "(111, 1024, 6)\n",
            "(111, 1024, 1)\n"
          ]
        }
      ]
    },
    {
      "cell_type": "code",
      "metadata": {
        "id": "4cnlxZkZJT-Q",
        "colab": {
          "base_uri": "https://localhost:8080/"
        },
        "outputId": "98c7d242-5e9b-4ac6-ee93-9a3531f4edc4"
      },
      "source": [
        "X_Train, X_Test, Y_Train, Y_Test = train_test_split(X, y, test_size=0.2, random_state=42)\n",
        "Y_Train = np.squeeze(Y_Train, axis=2)\n",
        "Y_Test = np.squeeze(Y_Test, axis=2)\n",
        "Y_Train.shape"
      ],
      "execution_count": 12,
      "outputs": [
        {
          "output_type": "execute_result",
          "data": {
            "text/plain": [
              "(88, 1024)"
            ]
          },
          "metadata": {},
          "execution_count": 12
        }
      ]
    },
    {
      "cell_type": "markdown",
      "metadata": {
        "id": "_qTwozk_BS94"
      },
      "source": [
        "## Garbage Collector"
      ]
    },
    {
      "cell_type": "code",
      "metadata": {
        "id": "ch2jmn3jKKiH"
      },
      "source": [
        "# import gc #Garbage Collector\n",
        "# fl_Train = None\n",
        "# fl_Test = None\n",
        "# X_Test = None\n",
        "# X_Train = None\n",
        "# X_Val = None\n",
        "# Y_Test_BP = None\n",
        "# Y_Train_BP = None\n",
        "# Y_Test_ABP = None\n",
        "# Y_Train_ABP = None\n",
        "# SBP_Train = None\n",
        "# DBP_Train = None\n",
        "# gc.collect()"
      ],
      "execution_count": 13,
      "outputs": []
    },
    {
      "cell_type": "markdown",
      "metadata": {
        "id": "lu6KEu2yeikQ"
      },
      "source": [
        "## Segmentation Pipeline"
      ]
    },
    {
      "cell_type": "markdown",
      "metadata": {
        "id": "X_Ev2XlLwRkW"
      },
      "source": [
        "### Prepare Label"
      ]
    },
    {
      "cell_type": "markdown",
      "metadata": {
        "id": "ANawSmVbUkZs"
      },
      "source": [
        "Configurations"
      ]
    },
    {
      "cell_type": "code",
      "metadata": {
        "id": "3ps7RMbyR7pw"
      },
      "source": [
        "signal_length = 1024 # Length of each Segment\n",
        "model_depth = 3 # Number of Level in the CNN Model\n",
        "model_width = 64 # Width of the Initial Layer, subsequent layers start from here\n",
        "kernel_size = 3 # Size of the Kernels/Filter\n",
        "num_channel = 6 # Number of Channels in the Model\n",
        "D_S = 1 # Turn on Deep Supervision\n",
        "A_E = 0 # Turn on AutoEncoder Mode for Feature Extraction\n",
        "problem_type = 'Regression'\n",
        "output_nums = 1 # Number of Class for Classification Problems, always '1' for Regression Problems\n",
        "'''Only required if the AutoEncoder Mode is turned on'''\n",
        "feature_number = 1024 # Number of Features to be Extracted\n",
        "'''Only required for MultiResUNet'''\n",
        "alpha = 1 # Model Width Expansion Parameter"
      ],
      "execution_count": 14,
      "outputs": []
    },
    {
      "cell_type": "markdown",
      "metadata": {
        "id": "qdw2EGzA92pt"
      },
      "source": [
        "Prepare Dataset for Deep Supervision (if Activated)"
      ]
    },
    {
      "cell_type": "code",
      "metadata": {
        "id": "QWMEhQkaClZi"
      },
      "source": [
        "def prepareTrainDict(y, model_depth, signal_length, model_name):\n",
        "  def approximate(inp, w_len, signal_length):\n",
        "    op = np.zeros((len(inp),signal_length//w_len))\n",
        "    for i in range(0,signal_length,w_len):\n",
        "      try:\n",
        "        op[:,i//w_len] = np.mean(inp[:,i:i+w_len],axis=1)\n",
        "      except Exception as e:\n",
        "        print(e)\n",
        "        print(i)\n",
        "  \t\n",
        "    return op\n",
        "\n",
        "  out = {}\n",
        "  Y_Train_dict = {}\n",
        "  out['out'] = np.array(y)\n",
        "  Y_Train_dict['out'] = out['out']\n",
        "  for i in range(1, (model_depth+1)):\n",
        "    name = f'level{i}'\n",
        "    if ((model_name == 'UNet') or (model_name == 'MultiResUNet') or (model_name == 'FPN')):\n",
        "      out[name] = np.expand_dims(approximate(np.squeeze(y), 2**i, signal_length),axis = 2)\n",
        "    elif ((model_name == 'UNetE') or (model_name == 'UNetP') or (model_name == 'UNetPP')):\n",
        "      out[name] = np.expand_dims(approximate(np.squeeze(y), 2**0, signal_length),axis = 2)\n",
        "    Y_Train_dict[f'level{i}'] = out[f'level{i}']\n",
        "  \n",
        "  return out, Y_Train_dict"
      ],
      "execution_count": 15,
      "outputs": []
    },
    {
      "cell_type": "code",
      "metadata": {
        "id": "ZQM6mSM2zE3G"
      },
      "source": [
        "model_name = 'UNetPP' # UNet or UNetPP\n",
        "X_Train1 = X_Train\n",
        "X_Test1 = X_Test\n",
        "[Y_Train1, Y_Train_dict] = prepareTrainDict(Y_Train, model_depth, signal_length, model_name)\n",
        "[Y_Test1, Y_Test_dict] = prepareTrainDict(Y_Test, model_depth, signal_length, model_name)"
      ],
      "execution_count": 16,
      "outputs": []
    },
    {
      "cell_type": "code",
      "metadata": {
        "colab": {
          "base_uri": "https://localhost:8080/"
        },
        "id": "1k-OSEQ87CyB",
        "outputId": "47551521-b941-40ec-c5fd-ba215b78646d"
      },
      "source": [
        "loss_weights = np.zeros(model_depth)\n",
        "\n",
        "for i in range(0, model_depth):\n",
        "   loss_weights[i] = 1-(i*0.1)\n",
        "   \n",
        "loss_weights"
      ],
      "execution_count": 17,
      "outputs": [
        {
          "output_type": "execute_result",
          "data": {
            "text/plain": [
              "array([1. , 0.9, 0.8])"
            ]
          },
          "metadata": {},
          "execution_count": 17
        }
      ]
    },
    {
      "cell_type": "markdown",
      "metadata": {
        "id": "tLWoX0CHeikZ"
      },
      "source": [
        "### Train Data"
      ]
    },
    {
      "cell_type": "markdown",
      "metadata": {
        "id": "_G9wCFl1986E"
      },
      "source": [
        "Build and Compile Model"
      ]
    },
    {
      "cell_type": "code",
      "metadata": {
        "id": "AgNmOBsctd4u"
      },
      "source": [
        "if D_S == 0:\n",
        "    # Build model for EEG Motion Artifact Removal - Deep Unet Architecture\n",
        "    # AutoEncoder should be set at 'FALSE' for the Deep U-net model for Signal Reconstruction\n",
        "    # D_S = 0, A_E = 0\n",
        "    EEGIMU_Network = UNet(signal_length, model_depth, num_channel, model_width, kernel_size, problem_type=problem_type, output_nums=output_nums, ds=D_S, ae=A_E, alpha=alpha).UNet()\n",
        "    EEGIMU_Network.compile(loss= 'mean_absolute_error', optimizer= 'adam', metrics= ['mean_squared_error','accuracy'])\n",
        "    #\n",
        "elif D_S == 1:\n",
        "    # Build model for EEG Motion Artifact Removal - Deep Unet Architecture\n",
        "    # AutoEncoder should be set at 'FALSE' for the Deep U-net model for Signal Reconstruction\n",
        "    # D_S = 1, A_E = 0\n",
        "    EEGIMU_Network = UNet(signal_length, model_depth, num_channel, model_width, kernel_size, problem_type=problem_type, output_nums=output_nums, ds=D_S, ae=A_E, alpha=alpha).UNetPP()\n",
        "    EEGIMU_Network.compile(loss= 'mean_absolute_error', optimizer= 'adam', metrics= ['mean_squared_error','accuracy'], loss_weights= loss_weights)"
      ],
      "execution_count": 18,
      "outputs": []
    },
    {
      "cell_type": "markdown",
      "metadata": {
        "id": "weUOLRyW9_TE"
      },
      "source": [
        "Import Trained Weights for a Headstart"
      ]
    },
    {
      "cell_type": "code",
      "metadata": {
        "id": "PEhSkrAG3SXe"
      },
      "source": [
        "# if D_S == 0:\n",
        "#     EEGIMU_Network_Network.load_weights('trained_models/'+model_name+'_'+str(length)+'_'+str(model_width)+'_'+str(num_channel)+'_'+str(D_S)+'.h5') # Load Previously Trained Weights for Transfer Learning\n",
        "# elif D_S == 1:\n",
        "#     EEGIMU_Network_Network.load_weights('trained_models/'+model_name+'_'+str(length)+'_'+str(model_width)+'_'+str(num_channel)+'_'+str(D_S)+'.h5') # Load Previously Trained Weights for Transfer Learning"
      ],
      "execution_count": 19,
      "outputs": []
    },
    {
      "cell_type": "markdown",
      "metadata": {
        "id": "17aVX6jw-E8j"
      },
      "source": [
        "Train Model"
      ]
    },
    {
      "cell_type": "code",
      "metadata": {
        "id": "gYmCDIxAbdT1",
        "colab": {
          "base_uri": "https://localhost:8080/"
        },
        "outputId": "998343b6-3bf0-4565-f008-52c06bf34e67"
      },
      "source": [
        "if D_S == 0:\n",
        "    callbacks = [tf.keras.callbacks.EarlyStopping(monitor='val_loss', patience=30, mode='min'), \n",
        "                 tf.keras.callbacks.ModelCheckpoint('trained_models/'+model_name+'_'+str(signal_length)+'_'+str(model_width)+'_'+str(model_depth)+'_'+str(num_channel)+'_'+str(D_S)+'.h5', verbose=1, monitor='val_loss', save_best_only=True, mode='min')]\n",
        "    history = EEGIMU_Network.fit(X_Train, Y_Train, epochs=300, batch_size=64, verbose=1, validation_split=0.2, shuffle=True, callbacks=callbacks)\n",
        "    #\n",
        "elif D_S == 1:\n",
        "    callbacks = [tf.keras.callbacks.EarlyStopping(monitor='val_out_loss', patience=30, mode='min'), \n",
        "                 tf.keras.callbacks.ModelCheckpoint('trained_models/'+model_name+'_'+str(signal_length)+'_'+str(model_width)+'_'+str(model_depth)+'_'+str(num_channel)+'_'+str(D_S)+'.h5', verbose=1, monitor='val_out_loss', save_best_only=True, mode='min')]\n",
        "    history = EEGIMU_Network.fit(X_Train1, Y_Train_dict, epochs=300, batch_size=64, verbose=1, validation_split=0.2, shuffle=True, callbacks=callbacks)"
      ],
      "execution_count": 20,
      "outputs": [
        {
          "output_type": "stream",
          "name": "stdout",
          "text": [
            "Epoch 1/300\n",
            "2/2 [==============================] - 15s 2s/step - loss: 2.4785 - out_loss: 0.8623 - level1_loss: 0.5765 - level2_loss: 0.7226 - level3_loss: 0.5924 - out_mean_squared_error: 1.3399 - out_accuracy: 0.0000e+00 - level1_mean_squared_error: 0.7797 - level1_accuracy: 0.0000e+00 - level2_mean_squared_error: 0.8811 - level2_accuracy: 0.0000e+00 - level3_mean_squared_error: 0.8078 - level3_accuracy: 0.0000e+00 - val_loss: 0.6826 - val_out_loss: 0.1947 - val_level1_loss: 0.1947 - val_level2_loss: 0.1792 - val_level3_loss: 0.1898 - val_out_mean_squared_error: 0.0772 - val_out_accuracy: 0.0000e+00 - val_level1_mean_squared_error: 0.0770 - val_level1_accuracy: 0.0000e+00 - val_level2_mean_squared_error: 0.0710 - val_level2_accuracy: 0.0000e+00 - val_level3_mean_squared_error: 0.0746 - val_level3_accuracy: 0.0000e+00\n",
            "\n",
            "Epoch 00001: val_out_loss improved from inf to 0.19475, saving model to trained_models/UNetPP_1024_64_3_6_1.h5\n",
            "Epoch 2/300\n",
            "2/2 [==============================] - 1s 173ms/step - loss: 1.4624 - out_loss: 0.4089 - level1_loss: 0.3986 - level2_loss: 0.4427 - level3_loss: 0.3746 - out_mean_squared_error: 0.7693 - out_accuracy: 0.0000e+00 - level1_mean_squared_error: 0.3692 - level1_accuracy: 0.0000e+00 - level2_mean_squared_error: 0.4426 - level2_accuracy: 0.0000e+00 - level3_mean_squared_error: 0.3758 - level3_accuracy: 0.0000e+00 - val_loss: 0.6364 - val_out_loss: 0.1686 - val_level1_loss: 0.2041 - val_level2_loss: 0.1615 - val_level3_loss: 0.1728 - val_out_mean_squared_error: 0.0678 - val_out_accuracy: 0.0000e+00 - val_level1_mean_squared_error: 0.0807 - val_level1_accuracy: 0.0000e+00 - val_level2_mean_squared_error: 0.0650 - val_level2_accuracy: 0.0000e+00 - val_level3_mean_squared_error: 0.0681 - val_level3_accuracy: 0.0000e+00\n",
            "\n",
            "Epoch 00002: val_out_loss improved from 0.19475 to 0.16864, saving model to trained_models/UNetPP_1024_64_3_6_1.h5\n",
            "Epoch 3/300\n",
            "2/2 [==============================] - 1s 161ms/step - loss: 1.0863 - out_loss: 0.2678 - level1_loss: 0.3209 - level2_loss: 0.3247 - level3_loss: 0.2937 - out_mean_squared_error: 0.2597 - out_accuracy: 0.0000e+00 - level1_mean_squared_error: 0.2314 - level1_accuracy: 0.0000e+00 - level2_mean_squared_error: 0.2634 - level2_accuracy: 0.0000e+00 - level3_mean_squared_error: 0.2288 - level3_accuracy: 0.0000e+00 - val_loss: 0.6162 - val_out_loss: 0.1560 - val_level1_loss: 0.2072 - val_level2_loss: 0.1522 - val_level3_loss: 0.1693 - val_out_mean_squared_error: 0.0635 - val_out_accuracy: 0.0000e+00 - val_level1_mean_squared_error: 0.0820 - val_level1_accuracy: 0.0000e+00 - val_level2_mean_squared_error: 0.0613 - val_level2_accuracy: 0.0000e+00 - val_level3_mean_squared_error: 0.0671 - val_level3_accuracy: 0.0000e+00\n",
            "\n",
            "Epoch 00003: val_out_loss improved from 0.16864 to 0.15602, saving model to trained_models/UNetPP_1024_64_3_6_1.h5\n",
            "Epoch 4/300\n",
            "2/2 [==============================] - 1s 168ms/step - loss: 0.8814 - out_loss: 0.2137 - level1_loss: 0.2350 - level2_loss: 0.2672 - level3_loss: 0.2634 - out_mean_squared_error: 0.1066 - out_accuracy: 0.0000e+00 - level1_mean_squared_error: 0.1434 - level1_accuracy: 0.0000e+00 - level2_mean_squared_error: 0.1544 - level2_accuracy: 0.0000e+00 - level3_mean_squared_error: 0.1552 - level3_accuracy: 0.0000e+00 - val_loss: 0.6011 - val_out_loss: 0.1495 - val_level1_loss: 0.2047 - val_level2_loss: 0.1502 - val_level3_loss: 0.1634 - val_out_mean_squared_error: 0.0614 - val_out_accuracy: 0.0000e+00 - val_level1_mean_squared_error: 0.0809 - val_level1_accuracy: 0.0000e+00 - val_level2_mean_squared_error: 0.0602 - val_level2_accuracy: 0.0000e+00 - val_level3_mean_squared_error: 0.0653 - val_level3_accuracy: 0.0000e+00\n",
            "\n",
            "Epoch 00004: val_out_loss improved from 0.15602 to 0.14949, saving model to trained_models/UNetPP_1024_64_3_6_1.h5\n",
            "Epoch 5/300\n",
            "2/2 [==============================] - 1s 174ms/step - loss: 0.8400 - out_loss: 0.1918 - level1_loss: 0.2328 - level2_loss: 0.2434 - level3_loss: 0.2653 - out_mean_squared_error: 0.0800 - out_accuracy: 0.0000e+00 - level1_mean_squared_error: 0.1159 - level1_accuracy: 0.0000e+00 - level2_mean_squared_error: 0.1298 - level2_accuracy: 0.0000e+00 - level3_mean_squared_error: 0.1299 - level3_accuracy: 0.0000e+00 - val_loss: 0.5866 - val_out_loss: 0.1461 - val_level1_loss: 0.2024 - val_level2_loss: 0.1492 - val_level3_loss: 0.1541 - val_out_mean_squared_error: 0.0603 - val_out_accuracy: 0.0000e+00 - val_level1_mean_squared_error: 0.0800 - val_level1_accuracy: 0.0000e+00 - val_level2_mean_squared_error: 0.0601 - val_level2_accuracy: 0.0000e+00 - val_level3_mean_squared_error: 0.0625 - val_level3_accuracy: 0.0000e+00\n",
            "\n",
            "Epoch 00005: val_out_loss improved from 0.14949 to 0.14610, saving model to trained_models/UNetPP_1024_64_3_6_1.h5\n",
            "Epoch 6/300\n",
            "2/2 [==============================] - 1s 163ms/step - loss: 0.7334 - out_loss: 0.1807 - level1_loss: 0.1936 - level2_loss: 0.2157 - level3_loss: 0.2249 - out_mean_squared_error: 0.0745 - out_accuracy: 0.0000e+00 - level1_mean_squared_error: 0.0737 - level1_accuracy: 0.0000e+00 - level2_mean_squared_error: 0.1089 - level2_accuracy: 0.0000e+00 - level3_mean_squared_error: 0.0892 - level3_accuracy: 0.0000e+00 - val_loss: 0.5771 - val_out_loss: 0.1446 - val_level1_loss: 0.2010 - val_level2_loss: 0.1474 - val_level3_loss: 0.1483 - val_out_mean_squared_error: 0.0599 - val_out_accuracy: 0.0000e+00 - val_level1_mean_squared_error: 0.0795 - val_level1_accuracy: 0.0000e+00 - val_level2_mean_squared_error: 0.0598 - val_level2_accuracy: 0.0000e+00 - val_level3_mean_squared_error: 0.0610 - val_level3_accuracy: 0.0000e+00\n",
            "\n",
            "Epoch 00006: val_out_loss improved from 0.14610 to 0.14455, saving model to trained_models/UNetPP_1024_64_3_6_1.h5\n",
            "Epoch 7/300\n",
            "2/2 [==============================] - 1s 169ms/step - loss: 0.7340 - out_loss: 0.1814 - level1_loss: 0.1924 - level2_loss: 0.2170 - level3_loss: 0.2248 - out_mean_squared_error: 0.0620 - out_accuracy: 0.0000e+00 - level1_mean_squared_error: 0.0692 - level1_accuracy: 0.0000e+00 - level2_mean_squared_error: 0.0843 - level2_accuracy: 0.0000e+00 - level3_mean_squared_error: 0.0982 - level3_accuracy: 0.0000e+00 - val_loss: 0.5710 - val_out_loss: 0.1428 - val_level1_loss: 0.1993 - val_level2_loss: 0.1446 - val_level3_loss: 0.1478 - val_out_mean_squared_error: 0.0594 - val_out_accuracy: 0.0000e+00 - val_level1_mean_squared_error: 0.0788 - val_level1_accuracy: 0.0000e+00 - val_level2_mean_squared_error: 0.0593 - val_level2_accuracy: 0.0000e+00 - val_level3_mean_squared_error: 0.0609 - val_level3_accuracy: 0.0000e+00\n",
            "\n",
            "Epoch 00007: val_out_loss improved from 0.14455 to 0.14279, saving model to trained_models/UNetPP_1024_64_3_6_1.h5\n",
            "Epoch 8/300\n",
            "2/2 [==============================] - 1s 165ms/step - loss: 0.6800 - out_loss: 0.1716 - level1_loss: 0.1806 - level2_loss: 0.2002 - level3_loss: 0.2030 - out_mean_squared_error: 0.0620 - out_accuracy: 0.0000e+00 - level1_mean_squared_error: 0.0587 - level1_accuracy: 0.0000e+00 - level2_mean_squared_error: 0.0796 - level2_accuracy: 0.0000e+00 - level3_mean_squared_error: 0.0830 - level3_accuracy: 0.0000e+00 - val_loss: 0.5673 - val_out_loss: 0.1395 - val_level1_loss: 0.2000 - val_level2_loss: 0.1414 - val_level3_loss: 0.1495 - val_out_mean_squared_error: 0.0582 - val_out_accuracy: 0.0000e+00 - val_level1_mean_squared_error: 0.0791 - val_level1_accuracy: 0.0000e+00 - val_level2_mean_squared_error: 0.0586 - val_level2_accuracy: 0.0000e+00 - val_level3_mean_squared_error: 0.0615 - val_level3_accuracy: 0.0000e+00\n",
            "\n",
            "Epoch 00008: val_out_loss improved from 0.14279 to 0.13947, saving model to trained_models/UNetPP_1024_64_3_6_1.h5\n",
            "Epoch 9/300\n",
            "2/2 [==============================] - 1s 173ms/step - loss: 0.6600 - out_loss: 0.1758 - level1_loss: 0.1728 - level2_loss: 0.1929 - level3_loss: 0.1919 - out_mean_squared_error: 0.0848 - out_accuracy: 0.0000e+00 - level1_mean_squared_error: 0.0641 - level1_accuracy: 0.0000e+00 - level2_mean_squared_error: 0.0737 - level2_accuracy: 0.0000e+00 - level3_mean_squared_error: 0.0777 - level3_accuracy: 0.0000e+00 - val_loss: 0.5680 - val_out_loss: 0.1386 - val_level1_loss: 0.2015 - val_level2_loss: 0.1386 - val_level3_loss: 0.1525 - val_out_mean_squared_error: 0.0573 - val_out_accuracy: 0.0000e+00 - val_level1_mean_squared_error: 0.0797 - val_level1_accuracy: 0.0000e+00 - val_level2_mean_squared_error: 0.0578 - val_level2_accuracy: 0.0000e+00 - val_level3_mean_squared_error: 0.0625 - val_level3_accuracy: 0.0000e+00\n",
            "\n",
            "Epoch 00009: val_out_loss improved from 0.13947 to 0.13857, saving model to trained_models/UNetPP_1024_64_3_6_1.h5\n",
            "Epoch 10/300\n",
            "2/2 [==============================] - 1s 169ms/step - loss: 0.6418 - out_loss: 0.1669 - level1_loss: 0.1795 - level2_loss: 0.1845 - level3_loss: 0.1822 - out_mean_squared_error: 0.0709 - out_accuracy: 0.0000e+00 - level1_mean_squared_error: 0.0759 - level1_accuracy: 0.0000e+00 - level2_mean_squared_error: 0.0686 - level2_accuracy: 0.0000e+00 - level3_mean_squared_error: 0.0735 - level3_accuracy: 0.0000e+00 - val_loss: 0.5653 - val_out_loss: 0.1382 - val_level1_loss: 0.1993 - val_level2_loss: 0.1363 - val_level3_loss: 0.1543 - val_out_mean_squared_error: 0.0563 - val_out_accuracy: 0.0000e+00 - val_level1_mean_squared_error: 0.0789 - val_level1_accuracy: 0.0000e+00 - val_level2_mean_squared_error: 0.0571 - val_level2_accuracy: 0.0000e+00 - val_level3_mean_squared_error: 0.0631 - val_level3_accuracy: 0.0000e+00\n",
            "\n",
            "Epoch 00010: val_out_loss improved from 0.13857 to 0.13821, saving model to trained_models/UNetPP_1024_64_3_6_1.h5\n",
            "Epoch 11/300\n",
            "2/2 [==============================] - 1s 169ms/step - loss: 0.6319 - out_loss: 0.1676 - level1_loss: 0.1648 - level2_loss: 0.1805 - level3_loss: 0.1893 - out_mean_squared_error: 0.0727 - out_accuracy: 0.0000e+00 - level1_mean_squared_error: 0.0606 - level1_accuracy: 0.0000e+00 - level2_mean_squared_error: 0.0736 - level2_accuracy: 0.0000e+00 - level3_mean_squared_error: 0.0742 - level3_accuracy: 0.0000e+00 - val_loss: 0.5598 - val_out_loss: 0.1381 - val_level1_loss: 0.1957 - val_level2_loss: 0.1356 - val_level3_loss: 0.1526 - val_out_mean_squared_error: 0.0557 - val_out_accuracy: 0.0000e+00 - val_level1_mean_squared_error: 0.0775 - val_level1_accuracy: 0.0000e+00 - val_level2_mean_squared_error: 0.0564 - val_level2_accuracy: 0.0000e+00 - val_level3_mean_squared_error: 0.0627 - val_level3_accuracy: 0.0000e+00\n",
            "\n",
            "Epoch 00011: val_out_loss improved from 0.13821 to 0.13813, saving model to trained_models/UNetPP_1024_64_3_6_1.h5\n",
            "Epoch 12/300\n",
            "2/2 [==============================] - 1s 178ms/step - loss: 0.6195 - out_loss: 0.1582 - level1_loss: 0.1662 - level2_loss: 0.1745 - level3_loss: 0.1895 - out_mean_squared_error: 0.0582 - out_accuracy: 0.0000e+00 - level1_mean_squared_error: 0.0554 - level1_accuracy: 0.0000e+00 - level2_mean_squared_error: 0.0713 - level2_accuracy: 0.0000e+00 - level3_mean_squared_error: 0.0754 - level3_accuracy: 0.0000e+00 - val_loss: 0.5550 - val_out_loss: 0.1380 - val_level1_loss: 0.1942 - val_level2_loss: 0.1357 - val_level3_loss: 0.1489 - val_out_mean_squared_error: 0.0554 - val_out_accuracy: 0.0000e+00 - val_level1_mean_squared_error: 0.0769 - val_level1_accuracy: 0.0000e+00 - val_level2_mean_squared_error: 0.0559 - val_level2_accuracy: 0.0000e+00 - val_level3_mean_squared_error: 0.0614 - val_level3_accuracy: 0.0000e+00\n",
            "\n",
            "Epoch 00012: val_out_loss improved from 0.13813 to 0.13796, saving model to trained_models/UNetPP_1024_64_3_6_1.h5\n",
            "Epoch 13/300\n",
            "2/2 [==============================] - 1s 183ms/step - loss: 0.6066 - out_loss: 0.1635 - level1_loss: 0.1632 - level2_loss: 0.1707 - level3_loss: 0.1766 - out_mean_squared_error: 0.0604 - out_accuracy: 0.0000e+00 - level1_mean_squared_error: 0.0550 - level1_accuracy: 0.0000e+00 - level2_mean_squared_error: 0.0620 - level2_accuracy: 0.0000e+00 - level3_mean_squared_error: 0.0687 - level3_accuracy: 0.0000e+00 - val_loss: 0.5524 - val_out_loss: 0.1379 - val_level1_loss: 0.1932 - val_level2_loss: 0.1359 - val_level3_loss: 0.1467 - val_out_mean_squared_error: 0.0554 - val_out_accuracy: 0.0000e+00 - val_level1_mean_squared_error: 0.0766 - val_level1_accuracy: 0.0000e+00 - val_level2_mean_squared_error: 0.0552 - val_level2_accuracy: 0.0000e+00 - val_level3_mean_squared_error: 0.0605 - val_level3_accuracy: 0.0000e+00\n",
            "\n",
            "Epoch 00013: val_out_loss improved from 0.13796 to 0.13794, saving model to trained_models/UNetPP_1024_64_3_6_1.h5\n",
            "Epoch 14/300\n",
            "2/2 [==============================] - 1s 167ms/step - loss: 0.5947 - out_loss: 0.1573 - level1_loss: 0.1597 - level2_loss: 0.1708 - level3_loss: 0.1730 - out_mean_squared_error: 0.0566 - out_accuracy: 0.0000e+00 - level1_mean_squared_error: 0.0623 - level1_accuracy: 0.0000e+00 - level2_mean_squared_error: 0.0700 - level2_accuracy: 0.0000e+00 - level3_mean_squared_error: 0.0570 - level3_accuracy: 0.0000e+00 - val_loss: 0.5515 - val_out_loss: 0.1376 - val_level1_loss: 0.1937 - val_level2_loss: 0.1367 - val_level3_loss: 0.1448 - val_out_mean_squared_error: 0.0548 - val_out_accuracy: 0.0000e+00 - val_level1_mean_squared_error: 0.0768 - val_level1_accuracy: 0.0000e+00 - val_level2_mean_squared_error: 0.0538 - val_level2_accuracy: 0.0000e+00 - val_level3_mean_squared_error: 0.0595 - val_level3_accuracy: 0.0000e+00\n",
            "\n",
            "Epoch 00014: val_out_loss improved from 0.13794 to 0.13757, saving model to trained_models/UNetPP_1024_64_3_6_1.h5\n",
            "Epoch 15/300\n",
            "2/2 [==============================] - 1s 177ms/step - loss: 0.5949 - out_loss: 0.1626 - level1_loss: 0.1597 - level2_loss: 0.1642 - level3_loss: 0.1745 - out_mean_squared_error: 0.0637 - out_accuracy: 0.0000e+00 - level1_mean_squared_error: 0.0632 - level1_accuracy: 0.0000e+00 - level2_mean_squared_error: 0.0588 - level2_accuracy: 0.0000e+00 - level3_mean_squared_error: 0.0562 - level3_accuracy: 0.0000e+00 - val_loss: 0.5508 - val_out_loss: 0.1379 - val_level1_loss: 0.1932 - val_level2_loss: 0.1378 - val_level3_loss: 0.1433 - val_out_mean_squared_error: 0.0544 - val_out_accuracy: 0.0000e+00 - val_level1_mean_squared_error: 0.0766 - val_level1_accuracy: 0.0000e+00 - val_level2_mean_squared_error: 0.0526 - val_level2_accuracy: 0.0000e+00 - val_level3_mean_squared_error: 0.0587 - val_level3_accuracy: 0.0000e+00\n",
            "\n",
            "Epoch 00015: val_out_loss did not improve from 0.13757\n",
            "Epoch 16/300\n",
            "2/2 [==============================] - 1s 187ms/step - loss: 0.5834 - out_loss: 0.1576 - level1_loss: 0.1571 - level2_loss: 0.1638 - level3_loss: 0.1698 - out_mean_squared_error: 0.0521 - out_accuracy: 0.0000e+00 - level1_mean_squared_error: 0.0638 - level1_accuracy: 0.0000e+00 - level2_mean_squared_error: 0.0582 - level2_accuracy: 0.0000e+00 - level3_mean_squared_error: 0.0592 - level3_accuracy: 0.0000e+00 - val_loss: 0.5497 - val_out_loss: 0.1386 - val_level1_loss: 0.1909 - val_level2_loss: 0.1379 - val_level3_loss: 0.1434 - val_out_mean_squared_error: 0.0543 - val_out_accuracy: 0.0000e+00 - val_level1_mean_squared_error: 0.0757 - val_level1_accuracy: 0.0000e+00 - val_level2_mean_squared_error: 0.0523 - val_level2_accuracy: 0.0000e+00 - val_level3_mean_squared_error: 0.0585 - val_level3_accuracy: 0.0000e+00\n",
            "\n",
            "Epoch 00016: val_out_loss did not improve from 0.13757\n",
            "Epoch 17/300\n",
            "2/2 [==============================] - 1s 176ms/step - loss: 0.5838 - out_loss: 0.1553 - level1_loss: 0.1554 - level2_loss: 0.1634 - level3_loss: 0.1746 - out_mean_squared_error: 0.0571 - out_accuracy: 0.0000e+00 - level1_mean_squared_error: 0.0614 - level1_accuracy: 0.0000e+00 - level2_mean_squared_error: 0.0586 - level2_accuracy: 0.0000e+00 - level3_mean_squared_error: 0.0649 - level3_accuracy: 0.0000e+00 - val_loss: 0.5499 - val_out_loss: 0.1392 - val_level1_loss: 0.1901 - val_level2_loss: 0.1373 - val_level3_loss: 0.1444 - val_out_mean_squared_error: 0.0544 - val_out_accuracy: 0.0000e+00 - val_level1_mean_squared_error: 0.0754 - val_level1_accuracy: 0.0000e+00 - val_level2_mean_squared_error: 0.0527 - val_level2_accuracy: 0.0000e+00 - val_level3_mean_squared_error: 0.0588 - val_level3_accuracy: 0.0000e+00\n",
            "\n",
            "Epoch 00017: val_out_loss did not improve from 0.13757\n",
            "Epoch 18/300\n",
            "2/2 [==============================] - 1s 163ms/step - loss: 0.5699 - out_loss: 0.1508 - level1_loss: 0.1539 - level2_loss: 0.1581 - level3_loss: 0.1704 - out_mean_squared_error: 0.0567 - out_accuracy: 0.0000e+00 - level1_mean_squared_error: 0.0562 - level1_accuracy: 0.0000e+00 - level2_mean_squared_error: 0.0547 - level2_accuracy: 0.0000e+00 - level3_mean_squared_error: 0.0636 - level3_accuracy: 0.0000e+00 - val_loss: 0.5504 - val_out_loss: 0.1391 - val_level1_loss: 0.1908 - val_level2_loss: 0.1368 - val_level3_loss: 0.1448 - val_out_mean_squared_error: 0.0547 - val_out_accuracy: 0.0000e+00 - val_level1_mean_squared_error: 0.0757 - val_level1_accuracy: 0.0000e+00 - val_level2_mean_squared_error: 0.0530 - val_level2_accuracy: 0.0000e+00 - val_level3_mean_squared_error: 0.0592 - val_level3_accuracy: 0.0000e+00\n",
            "\n",
            "Epoch 00018: val_out_loss did not improve from 0.13757\n",
            "Epoch 19/300\n",
            "2/2 [==============================] - 1s 167ms/step - loss: 0.5679 - out_loss: 0.1526 - level1_loss: 0.1509 - level2_loss: 0.1574 - level3_loss: 0.1700 - out_mean_squared_error: 0.0580 - out_accuracy: 0.0000e+00 - level1_mean_squared_error: 0.0559 - level1_accuracy: 0.0000e+00 - level2_mean_squared_error: 0.0539 - level2_accuracy: 0.0000e+00 - level3_mean_squared_error: 0.0614 - level3_accuracy: 0.0000e+00 - val_loss: 0.5511 - val_out_loss: 0.1392 - val_level1_loss: 0.1916 - val_level2_loss: 0.1367 - val_level3_loss: 0.1448 - val_out_mean_squared_error: 0.0556 - val_out_accuracy: 0.0000e+00 - val_level1_mean_squared_error: 0.0759 - val_level1_accuracy: 0.0000e+00 - val_level2_mean_squared_error: 0.0530 - val_level2_accuracy: 0.0000e+00 - val_level3_mean_squared_error: 0.0595 - val_level3_accuracy: 0.0000e+00\n",
            "\n",
            "Epoch 00019: val_out_loss did not improve from 0.13757\n",
            "Epoch 20/300\n",
            "2/2 [==============================] - 1s 171ms/step - loss: 0.5550 - out_loss: 0.1470 - level1_loss: 0.1494 - level2_loss: 0.1542 - level3_loss: 0.1661 - out_mean_squared_error: 0.0553 - out_accuracy: 0.0000e+00 - level1_mean_squared_error: 0.0568 - level1_accuracy: 0.0000e+00 - level2_mean_squared_error: 0.0547 - level2_accuracy: 0.0000e+00 - level3_mean_squared_error: 0.0596 - level3_accuracy: 0.0000e+00 - val_loss: 0.5544 - val_out_loss: 0.1406 - val_level1_loss: 0.1917 - val_level2_loss: 0.1376 - val_level3_loss: 0.1462 - val_out_mean_squared_error: 0.0568 - val_out_accuracy: 0.0000e+00 - val_level1_mean_squared_error: 0.0760 - val_level1_accuracy: 0.0000e+00 - val_level2_mean_squared_error: 0.0520 - val_level2_accuracy: 0.0000e+00 - val_level3_mean_squared_error: 0.0601 - val_level3_accuracy: 0.0000e+00\n",
            "\n",
            "Epoch 00020: val_out_loss did not improve from 0.13757\n",
            "Epoch 21/300\n",
            "2/2 [==============================] - 1s 161ms/step - loss: 0.5551 - out_loss: 0.1503 - level1_loss: 0.1502 - level2_loss: 0.1507 - level3_loss: 0.1656 - out_mean_squared_error: 0.0608 - out_accuracy: 0.0000e+00 - level1_mean_squared_error: 0.0574 - level1_accuracy: 0.0000e+00 - level2_mean_squared_error: 0.0550 - level2_accuracy: 0.0000e+00 - level3_mean_squared_error: 0.0612 - level3_accuracy: 0.0000e+00 - val_loss: 0.5552 - val_out_loss: 0.1406 - val_level1_loss: 0.1894 - val_level2_loss: 0.1385 - val_level3_loss: 0.1484 - val_out_mean_squared_error: 0.0569 - val_out_accuracy: 0.0000e+00 - val_level1_mean_squared_error: 0.0751 - val_level1_accuracy: 0.0000e+00 - val_level2_mean_squared_error: 0.0510 - val_level2_accuracy: 0.0000e+00 - val_level3_mean_squared_error: 0.0610 - val_level3_accuracy: 0.0000e+00\n",
            "\n",
            "Epoch 00021: val_out_loss did not improve from 0.13757\n",
            "Epoch 22/300\n",
            "2/2 [==============================] - 1s 164ms/step - loss: 0.5423 - out_loss: 0.1447 - level1_loss: 0.1474 - level2_loss: 0.1492 - level3_loss: 0.1613 - out_mean_squared_error: 0.0559 - out_accuracy: 0.0000e+00 - level1_mean_squared_error: 0.0569 - level1_accuracy: 0.0000e+00 - level2_mean_squared_error: 0.0544 - level2_accuracy: 0.0000e+00 - level3_mean_squared_error: 0.0599 - level3_accuracy: 0.0000e+00 - val_loss: 0.5511 - val_out_loss: 0.1400 - val_level1_loss: 0.1847 - val_level2_loss: 0.1387 - val_level3_loss: 0.1490 - val_out_mean_squared_error: 0.0566 - val_out_accuracy: 0.0000e+00 - val_level1_mean_squared_error: 0.0733 - val_level1_accuracy: 0.0000e+00 - val_level2_mean_squared_error: 0.0507 - val_level2_accuracy: 0.0000e+00 - val_level3_mean_squared_error: 0.0612 - val_level3_accuracy: 0.0000e+00\n",
            "\n",
            "Epoch 00022: val_out_loss did not improve from 0.13757\n",
            "Epoch 23/300\n",
            "2/2 [==============================] - 1s 179ms/step - loss: 0.5535 - out_loss: 0.1494 - level1_loss: 0.1472 - level2_loss: 0.1539 - level3_loss: 0.1645 - out_mean_squared_error: 0.0524 - out_accuracy: 0.0000e+00 - level1_mean_squared_error: 0.0541 - level1_accuracy: 0.0000e+00 - level2_mean_squared_error: 0.0550 - level2_accuracy: 0.0000e+00 - level3_mean_squared_error: 0.0607 - level3_accuracy: 0.0000e+00 - val_loss: 0.5462 - val_out_loss: 0.1401 - val_level1_loss: 0.1812 - val_level2_loss: 0.1380 - val_level3_loss: 0.1475 - val_out_mean_squared_error: 0.0565 - val_out_accuracy: 0.0000e+00 - val_level1_mean_squared_error: 0.0721 - val_level1_accuracy: 0.0000e+00 - val_level2_mean_squared_error: 0.0514 - val_level2_accuracy: 0.0000e+00 - val_level3_mean_squared_error: 0.0607 - val_level3_accuracy: 0.0000e+00\n",
            "\n",
            "Epoch 00023: val_out_loss did not improve from 0.13757\n",
            "Epoch 24/300\n",
            "2/2 [==============================] - 1s 175ms/step - loss: 0.5476 - out_loss: 0.1466 - level1_loss: 0.1480 - level2_loss: 0.1493 - level3_loss: 0.1645 - out_mean_squared_error: 0.0559 - out_accuracy: 0.0000e+00 - level1_mean_squared_error: 0.0531 - level1_accuracy: 0.0000e+00 - level2_mean_squared_error: 0.0545 - level2_accuracy: 0.0000e+00 - level3_mean_squared_error: 0.0578 - level3_accuracy: 0.0000e+00 - val_loss: 0.5423 - val_out_loss: 0.1407 - val_level1_loss: 0.1789 - val_level2_loss: 0.1373 - val_level3_loss: 0.1457 - val_out_mean_squared_error: 0.0568 - val_out_accuracy: 0.0000e+00 - val_level1_mean_squared_error: 0.0713 - val_level1_accuracy: 0.0000e+00 - val_level2_mean_squared_error: 0.0524 - val_level2_accuracy: 0.0000e+00 - val_level3_mean_squared_error: 0.0592 - val_level3_accuracy: 0.0000e+00\n",
            "\n",
            "Epoch 00024: val_out_loss did not improve from 0.13757\n",
            "Epoch 25/300\n",
            "2/2 [==============================] - 1s 168ms/step - loss: 0.5518 - out_loss: 0.1474 - level1_loss: 0.1462 - level2_loss: 0.1536 - level3_loss: 0.1660 - out_mean_squared_error: 0.0571 - out_accuracy: 0.0000e+00 - level1_mean_squared_error: 0.0554 - level1_accuracy: 0.0000e+00 - level2_mean_squared_error: 0.0596 - level2_accuracy: 0.0000e+00 - level3_mean_squared_error: 0.0693 - level3_accuracy: 0.0000e+00 - val_loss: 0.5406 - val_out_loss: 0.1406 - val_level1_loss: 0.1771 - val_level2_loss: 0.1388 - val_level3_loss: 0.1443 - val_out_mean_squared_error: 0.0568 - val_out_accuracy: 0.0000e+00 - val_level1_mean_squared_error: 0.0706 - val_level1_accuracy: 0.0000e+00 - val_level2_mean_squared_error: 0.0513 - val_level2_accuracy: 0.0000e+00 - val_level3_mean_squared_error: 0.0584 - val_level3_accuracy: 0.0000e+00\n",
            "\n",
            "Epoch 00025: val_out_loss did not improve from 0.13757\n",
            "Epoch 26/300\n",
            "2/2 [==============================] - 1s 173ms/step - loss: 0.5505 - out_loss: 0.1455 - level1_loss: 0.1479 - level2_loss: 0.1527 - level3_loss: 0.1657 - out_mean_squared_error: 0.0561 - out_accuracy: 0.0000e+00 - level1_mean_squared_error: 0.0578 - level1_accuracy: 0.0000e+00 - level2_mean_squared_error: 0.0560 - level2_accuracy: 0.0000e+00 - level3_mean_squared_error: 0.0691 - level3_accuracy: 0.0000e+00 - val_loss: 0.5393 - val_out_loss: 0.1399 - val_level1_loss: 0.1752 - val_level2_loss: 0.1393 - val_level3_loss: 0.1448 - val_out_mean_squared_error: 0.0564 - val_out_accuracy: 0.0000e+00 - val_level1_mean_squared_error: 0.0699 - val_level1_accuracy: 0.0000e+00 - val_level2_mean_squared_error: 0.0510 - val_level2_accuracy: 0.0000e+00 - val_level3_mean_squared_error: 0.0582 - val_level3_accuracy: 0.0000e+00\n",
            "\n",
            "Epoch 00026: val_out_loss did not improve from 0.13757\n",
            "Epoch 27/300\n",
            "2/2 [==============================] - 1s 177ms/step - loss: 0.5451 - out_loss: 0.1451 - level1_loss: 0.1462 - level2_loss: 0.1517 - level3_loss: 0.1627 - out_mean_squared_error: 0.0524 - out_accuracy: 0.0000e+00 - level1_mean_squared_error: 0.0555 - level1_accuracy: 0.0000e+00 - level2_mean_squared_error: 0.0517 - level2_accuracy: 0.0000e+00 - level3_mean_squared_error: 0.0669 - level3_accuracy: 0.0000e+00 - val_loss: 0.5393 - val_out_loss: 0.1406 - val_level1_loss: 0.1744 - val_level2_loss: 0.1381 - val_level3_loss: 0.1461 - val_out_mean_squared_error: 0.0568 - val_out_accuracy: 0.0000e+00 - val_level1_mean_squared_error: 0.0696 - val_level1_accuracy: 0.0000e+00 - val_level2_mean_squared_error: 0.0520 - val_level2_accuracy: 0.0000e+00 - val_level3_mean_squared_error: 0.0584 - val_level3_accuracy: 0.0000e+00\n",
            "\n",
            "Epoch 00027: val_out_loss did not improve from 0.13757\n",
            "Epoch 28/300\n",
            "2/2 [==============================] - 1s 190ms/step - loss: 0.5465 - out_loss: 0.1454 - level1_loss: 0.1458 - level2_loss: 0.1497 - level3_loss: 0.1663 - out_mean_squared_error: 0.0535 - out_accuracy: 0.0000e+00 - level1_mean_squared_error: 0.0544 - level1_accuracy: 0.0000e+00 - level2_mean_squared_error: 0.0529 - level2_accuracy: 0.0000e+00 - level3_mean_squared_error: 0.0695 - level3_accuracy: 0.0000e+00 - val_loss: 0.5395 - val_out_loss: 0.1415 - val_level1_loss: 0.1737 - val_level2_loss: 0.1379 - val_level3_loss: 0.1463 - val_out_mean_squared_error: 0.0572 - val_out_accuracy: 0.0000e+00 - val_level1_mean_squared_error: 0.0694 - val_level1_accuracy: 0.0000e+00 - val_level2_mean_squared_error: 0.0520 - val_level2_accuracy: 0.0000e+00 - val_level3_mean_squared_error: 0.0587 - val_level3_accuracy: 0.0000e+00\n",
            "\n",
            "Epoch 00028: val_out_loss did not improve from 0.13757\n",
            "Epoch 29/300\n",
            "2/2 [==============================] - 1s 168ms/step - loss: 0.5394 - out_loss: 0.1442 - level1_loss: 0.1447 - level2_loss: 0.1498 - level3_loss: 0.1607 - out_mean_squared_error: 0.0548 - out_accuracy: 0.0000e+00 - level1_mean_squared_error: 0.0558 - level1_accuracy: 0.0000e+00 - level2_mean_squared_error: 0.0559 - level2_accuracy: 0.0000e+00 - level3_mean_squared_error: 0.0584 - level3_accuracy: 0.0000e+00 - val_loss: 0.5383 - val_out_loss: 0.1412 - val_level1_loss: 0.1714 - val_level2_loss: 0.1396 - val_level3_loss: 0.1458 - val_out_mean_squared_error: 0.0574 - val_out_accuracy: 0.0000e+00 - val_level1_mean_squared_error: 0.0686 - val_level1_accuracy: 0.0000e+00 - val_level2_mean_squared_error: 0.0505 - val_level2_accuracy: 0.0000e+00 - val_level3_mean_squared_error: 0.0593 - val_level3_accuracy: 0.0000e+00\n",
            "\n",
            "Epoch 00029: val_out_loss did not improve from 0.13757\n",
            "Epoch 30/300\n",
            "2/2 [==============================] - 1s 168ms/step - loss: 0.5372 - out_loss: 0.1446 - level1_loss: 0.1449 - level2_loss: 0.1493 - level3_loss: 0.1581 - out_mean_squared_error: 0.0531 - out_accuracy: 0.0000e+00 - level1_mean_squared_error: 0.0554 - level1_accuracy: 0.0000e+00 - level2_mean_squared_error: 0.0543 - level2_accuracy: 0.0000e+00 - level3_mean_squared_error: 0.0552 - level3_accuracy: 0.0000e+00 - val_loss: 0.5350 - val_out_loss: 0.1409 - val_level1_loss: 0.1682 - val_level2_loss: 0.1392 - val_level3_loss: 0.1462 - val_out_mean_squared_error: 0.0574 - val_out_accuracy: 0.0000e+00 - val_level1_mean_squared_error: 0.0675 - val_level1_accuracy: 0.0000e+00 - val_level2_mean_squared_error: 0.0505 - val_level2_accuracy: 0.0000e+00 - val_level3_mean_squared_error: 0.0597 - val_level3_accuracy: 0.0000e+00\n",
            "\n",
            "Epoch 00030: val_out_loss did not improve from 0.13757\n",
            "Epoch 31/300\n",
            "2/2 [==============================] - 1s 181ms/step - loss: 0.5421 - out_loss: 0.1440 - level1_loss: 0.1452 - level2_loss: 0.1525 - level3_loss: 0.1606 - out_mean_squared_error: 0.0541 - out_accuracy: 0.0000e+00 - level1_mean_squared_error: 0.0533 - level1_accuracy: 0.0000e+00 - level2_mean_squared_error: 0.0516 - level2_accuracy: 0.0000e+00 - level3_mean_squared_error: 0.0579 - level3_accuracy: 0.0000e+00 - val_loss: 0.5328 - val_out_loss: 0.1412 - val_level1_loss: 0.1656 - val_level2_loss: 0.1389 - val_level3_loss: 0.1463 - val_out_mean_squared_error: 0.0573 - val_out_accuracy: 0.0000e+00 - val_level1_mean_squared_error: 0.0667 - val_level1_accuracy: 0.0000e+00 - val_level2_mean_squared_error: 0.0508 - val_level2_accuracy: 0.0000e+00 - val_level3_mean_squared_error: 0.0599 - val_level3_accuracy: 0.0000e+00\n",
            "\n",
            "Epoch 00031: val_out_loss did not improve from 0.13757\n",
            "Epoch 32/300\n",
            "2/2 [==============================] - 1s 168ms/step - loss: 0.5388 - out_loss: 0.1426 - level1_loss: 0.1433 - level2_loss: 0.1530 - level3_loss: 0.1598 - out_mean_squared_error: 0.0546 - out_accuracy: 0.0000e+00 - level1_mean_squared_error: 0.0536 - level1_accuracy: 0.0000e+00 - level2_mean_squared_error: 0.0496 - level2_accuracy: 0.0000e+00 - level3_mean_squared_error: 0.0598 - level3_accuracy: 0.0000e+00 - val_loss: 0.5314 - val_out_loss: 0.1406 - val_level1_loss: 0.1649 - val_level2_loss: 0.1390 - val_level3_loss: 0.1459 - val_out_mean_squared_error: 0.0570 - val_out_accuracy: 0.0000e+00 - val_level1_mean_squared_error: 0.0664 - val_level1_accuracy: 0.0000e+00 - val_level2_mean_squared_error: 0.0511 - val_level2_accuracy: 0.0000e+00 - val_level3_mean_squared_error: 0.0601 - val_level3_accuracy: 0.0000e+00\n",
            "\n",
            "Epoch 00032: val_out_loss did not improve from 0.13757\n",
            "Epoch 33/300\n",
            "2/2 [==============================] - 1s 171ms/step - loss: 0.5364 - out_loss: 0.1432 - level1_loss: 0.1430 - level2_loss: 0.1507 - level3_loss: 0.1591 - out_mean_squared_error: 0.0553 - out_accuracy: 0.0000e+00 - level1_mean_squared_error: 0.0544 - level1_accuracy: 0.0000e+00 - level2_mean_squared_error: 0.0501 - level2_accuracy: 0.0000e+00 - level3_mean_squared_error: 0.0604 - level3_accuracy: 0.0000e+00 - val_loss: 0.5300 - val_out_loss: 0.1397 - val_level1_loss: 0.1663 - val_level2_loss: 0.1377 - val_level3_loss: 0.1452 - val_out_mean_squared_error: 0.0566 - val_out_accuracy: 0.0000e+00 - val_level1_mean_squared_error: 0.0669 - val_level1_accuracy: 0.0000e+00 - val_level2_mean_squared_error: 0.0524 - val_level2_accuracy: 0.0000e+00 - val_level3_mean_squared_error: 0.0599 - val_level3_accuracy: 0.0000e+00\n",
            "\n",
            "Epoch 00033: val_out_loss did not improve from 0.13757\n",
            "Epoch 34/300\n",
            "2/2 [==============================] - 1s 171ms/step - loss: 0.5314 - out_loss: 0.1433 - level1_loss: 0.1439 - level2_loss: 0.1485 - level3_loss: 0.1548 - out_mean_squared_error: 0.0556 - out_accuracy: 0.0000e+00 - level1_mean_squared_error: 0.0561 - level1_accuracy: 0.0000e+00 - level2_mean_squared_error: 0.0552 - level2_accuracy: 0.0000e+00 - level3_mean_squared_error: 0.0583 - level3_accuracy: 0.0000e+00 - val_loss: 0.5307 - val_out_loss: 0.1397 - val_level1_loss: 0.1681 - val_level2_loss: 0.1365 - val_level3_loss: 0.1453 - val_out_mean_squared_error: 0.0566 - val_out_accuracy: 0.0000e+00 - val_level1_mean_squared_error: 0.0675 - val_level1_accuracy: 0.0000e+00 - val_level2_mean_squared_error: 0.0549 - val_level2_accuracy: 0.0000e+00 - val_level3_mean_squared_error: 0.0595 - val_level3_accuracy: 0.0000e+00\n",
            "\n",
            "Epoch 00034: val_out_loss did not improve from 0.13757\n",
            "Epoch 35/300\n",
            "2/2 [==============================] - 1s 176ms/step - loss: 0.5328 - out_loss: 0.1434 - level1_loss: 0.1465 - level2_loss: 0.1511 - level3_loss: 0.1511 - out_mean_squared_error: 0.0576 - out_accuracy: 0.0000e+00 - level1_mean_squared_error: 0.0586 - level1_accuracy: 0.0000e+00 - level2_mean_squared_error: 0.0577 - level2_accuracy: 0.0000e+00 - level3_mean_squared_error: 0.0585 - level3_accuracy: 0.0000e+00 - val_loss: 0.5292 - val_out_loss: 0.1393 - val_level1_loss: 0.1656 - val_level2_loss: 0.1381 - val_level3_loss: 0.1450 - val_out_mean_squared_error: 0.0564 - val_out_accuracy: 0.0000e+00 - val_level1_mean_squared_error: 0.0666 - val_level1_accuracy: 0.0000e+00 - val_level2_mean_squared_error: 0.0522 - val_level2_accuracy: 0.0000e+00 - val_level3_mean_squared_error: 0.0585 - val_level3_accuracy: 0.0000e+00\n",
            "\n",
            "Epoch 00035: val_out_loss did not improve from 0.13757\n",
            "Epoch 36/300\n",
            "2/2 [==============================] - 1s 172ms/step - loss: 0.5273 - out_loss: 0.1422 - level1_loss: 0.1469 - level2_loss: 0.1457 - level3_loss: 0.1510 - out_mean_squared_error: 0.0551 - out_accuracy: 0.0000e+00 - level1_mean_squared_error: 0.0565 - level1_accuracy: 0.0000e+00 - level2_mean_squared_error: 0.0559 - level2_accuracy: 0.0000e+00 - level3_mean_squared_error: 0.0556 - level3_accuracy: 0.0000e+00 - val_loss: 0.5313 - val_out_loss: 0.1392 - val_level1_loss: 0.1642 - val_level2_loss: 0.1425 - val_level3_loss: 0.1444 - val_out_mean_squared_error: 0.0565 - val_out_accuracy: 0.0000e+00 - val_level1_mean_squared_error: 0.0662 - val_level1_accuracy: 0.0000e+00 - val_level2_mean_squared_error: 0.0488 - val_level2_accuracy: 0.0000e+00 - val_level3_mean_squared_error: 0.0576 - val_level3_accuracy: 0.0000e+00\n",
            "\n",
            "Epoch 00036: val_out_loss did not improve from 0.13757\n",
            "Epoch 37/300\n",
            "2/2 [==============================] - 1s 169ms/step - loss: 0.5331 - out_loss: 0.1422 - level1_loss: 0.1468 - level2_loss: 0.1494 - level3_loss: 0.1539 - out_mean_squared_error: 0.0549 - out_accuracy: 0.0000e+00 - level1_mean_squared_error: 0.0543 - level1_accuracy: 0.0000e+00 - level2_mean_squared_error: 0.0512 - level2_accuracy: 0.0000e+00 - level3_mean_squared_error: 0.0558 - level3_accuracy: 0.0000e+00 - val_loss: 0.5343 - val_out_loss: 0.1401 - val_level1_loss: 0.1649 - val_level2_loss: 0.1433 - val_level3_loss: 0.1453 - val_out_mean_squared_error: 0.0571 - val_out_accuracy: 0.0000e+00 - val_level1_mean_squared_error: 0.0664 - val_level1_accuracy: 0.0000e+00 - val_level2_mean_squared_error: 0.0481 - val_level2_accuracy: 0.0000e+00 - val_level3_mean_squared_error: 0.0575 - val_level3_accuracy: 0.0000e+00\n",
            "\n",
            "Epoch 00037: val_out_loss did not improve from 0.13757\n",
            "Epoch 38/300\n",
            "2/2 [==============================] - 1s 179ms/step - loss: 0.5306 - out_loss: 0.1416 - level1_loss: 0.1449 - level2_loss: 0.1508 - level3_loss: 0.1523 - out_mean_squared_error: 0.0573 - out_accuracy: 0.0000e+00 - level1_mean_squared_error: 0.0550 - level1_accuracy: 0.0000e+00 - level2_mean_squared_error: 0.0483 - level2_accuracy: 0.0000e+00 - level3_mean_squared_error: 0.0558 - level3_accuracy: 0.0000e+00 - val_loss: 0.5361 - val_out_loss: 0.1412 - val_level1_loss: 0.1665 - val_level2_loss: 0.1422 - val_level3_loss: 0.1458 - val_out_mean_squared_error: 0.0575 - val_out_accuracy: 0.0000e+00 - val_level1_mean_squared_error: 0.0669 - val_level1_accuracy: 0.0000e+00 - val_level2_mean_squared_error: 0.0487 - val_level2_accuracy: 0.0000e+00 - val_level3_mean_squared_error: 0.0576 - val_level3_accuracy: 0.0000e+00\n",
            "\n",
            "Epoch 00038: val_out_loss did not improve from 0.13757\n",
            "Epoch 39/300\n",
            "2/2 [==============================] - 1s 176ms/step - loss: 0.5323 - out_loss: 0.1464 - level1_loss: 0.1465 - level2_loss: 0.1474 - level3_loss: 0.1512 - out_mean_squared_error: 0.0568 - out_accuracy: 0.0000e+00 - level1_mean_squared_error: 0.0577 - level1_accuracy: 0.0000e+00 - level2_mean_squared_error: 0.0516 - level2_accuracy: 0.0000e+00 - level3_mean_squared_error: 0.0581 - level3_accuracy: 0.0000e+00 - val_loss: 0.5289 - val_out_loss: 0.1391 - val_level1_loss: 0.1630 - val_level2_loss: 0.1400 - val_level3_loss: 0.1457 - val_out_mean_squared_error: 0.0565 - val_out_accuracy: 0.0000e+00 - val_level1_mean_squared_error: 0.0657 - val_level1_accuracy: 0.0000e+00 - val_level2_mean_squared_error: 0.0506 - val_level2_accuracy: 0.0000e+00 - val_level3_mean_squared_error: 0.0575 - val_level3_accuracy: 0.0000e+00\n",
            "\n",
            "Epoch 00039: val_out_loss did not improve from 0.13757\n",
            "Epoch 40/300\n",
            "2/2 [==============================] - 1s 168ms/step - loss: 0.5359 - out_loss: 0.1459 - level1_loss: 0.1495 - level2_loss: 0.1492 - level3_loss: 0.1509 - out_mean_squared_error: 0.0544 - out_accuracy: 0.0000e+00 - level1_mean_squared_error: 0.0640 - level1_accuracy: 0.0000e+00 - level2_mean_squared_error: 0.0597 - level2_accuracy: 0.0000e+00 - level3_mean_squared_error: 0.0582 - level3_accuracy: 0.0000e+00 - val_loss: 0.5241 - val_out_loss: 0.1374 - val_level1_loss: 0.1604 - val_level2_loss: 0.1381 - val_level3_loss: 0.1464 - val_out_mean_squared_error: 0.0555 - val_out_accuracy: 0.0000e+00 - val_level1_mean_squared_error: 0.0649 - val_level1_accuracy: 0.0000e+00 - val_level2_mean_squared_error: 0.0525 - val_level2_accuracy: 0.0000e+00 - val_level3_mean_squared_error: 0.0577 - val_level3_accuracy: 0.0000e+00\n",
            "\n",
            "Epoch 00040: val_out_loss improved from 0.13757 to 0.13742, saving model to trained_models/UNetPP_1024_64_3_6_1.h5\n",
            "Epoch 41/300\n",
            "2/2 [==============================] - 1s 173ms/step - loss: 0.5275 - out_loss: 0.1428 - level1_loss: 0.1453 - level2_loss: 0.1479 - level3_loss: 0.1502 - out_mean_squared_error: 0.0546 - out_accuracy: 0.0000e+00 - level1_mean_squared_error: 0.0582 - level1_accuracy: 0.0000e+00 - level2_mean_squared_error: 0.0580 - level2_accuracy: 0.0000e+00 - level3_mean_squared_error: 0.0567 - level3_accuracy: 0.0000e+00 - val_loss: 0.5237 - val_out_loss: 0.1380 - val_level1_loss: 0.1607 - val_level2_loss: 0.1371 - val_level3_loss: 0.1461 - val_out_mean_squared_error: 0.0560 - val_out_accuracy: 0.0000e+00 - val_level1_mean_squared_error: 0.0650 - val_level1_accuracy: 0.0000e+00 - val_level2_mean_squared_error: 0.0538 - val_level2_accuracy: 0.0000e+00 - val_level3_mean_squared_error: 0.0571 - val_level3_accuracy: 0.0000e+00\n",
            "\n",
            "Epoch 00041: val_out_loss did not improve from 0.13742\n",
            "Epoch 42/300\n",
            "2/2 [==============================] - 1s 197ms/step - loss: 0.5322 - out_loss: 0.1444 - level1_loss: 0.1467 - level2_loss: 0.1469 - level3_loss: 0.1534 - out_mean_squared_error: 0.0557 - out_accuracy: 0.0000e+00 - level1_mean_squared_error: 0.0552 - level1_accuracy: 0.0000e+00 - level2_mean_squared_error: 0.0555 - level2_accuracy: 0.0000e+00 - level3_mean_squared_error: 0.0568 - level3_accuracy: 0.0000e+00 - val_loss: 0.5224 - val_out_loss: 0.1397 - val_level1_loss: 0.1590 - val_level2_loss: 0.1370 - val_level3_loss: 0.1446 - val_out_mean_squared_error: 0.0568 - val_out_accuracy: 0.0000e+00 - val_level1_mean_squared_error: 0.0644 - val_level1_accuracy: 0.0000e+00 - val_level2_mean_squared_error: 0.0543 - val_level2_accuracy: 0.0000e+00 - val_level3_mean_squared_error: 0.0562 - val_level3_accuracy: 0.0000e+00\n",
            "\n",
            "Epoch 00042: val_out_loss did not improve from 0.13742\n",
            "Epoch 43/300\n",
            "2/2 [==============================] - 1s 176ms/step - loss: 0.5368 - out_loss: 0.1455 - level1_loss: 0.1507 - level2_loss: 0.1454 - level3_loss: 0.1549 - out_mean_squared_error: 0.0563 - out_accuracy: 0.0000e+00 - level1_mean_squared_error: 0.0573 - level1_accuracy: 0.0000e+00 - level2_mean_squared_error: 0.0509 - level2_accuracy: 0.0000e+00 - level3_mean_squared_error: 0.0544 - level3_accuracy: 0.0000e+00 - val_loss: 0.5216 - val_out_loss: 0.1396 - val_level1_loss: 0.1585 - val_level2_loss: 0.1374 - val_level3_loss: 0.1441 - val_out_mean_squared_error: 0.0568 - val_out_accuracy: 0.0000e+00 - val_level1_mean_squared_error: 0.0643 - val_level1_accuracy: 0.0000e+00 - val_level2_mean_squared_error: 0.0544 - val_level2_accuracy: 0.0000e+00 - val_level3_mean_squared_error: 0.0551 - val_level3_accuracy: 0.0000e+00\n",
            "\n",
            "Epoch 00043: val_out_loss did not improve from 0.13742\n",
            "Epoch 44/300\n",
            "2/2 [==============================] - 1s 199ms/step - loss: 0.5340 - out_loss: 0.1430 - level1_loss: 0.1481 - level2_loss: 0.1476 - level3_loss: 0.1547 - out_mean_squared_error: 0.0538 - out_accuracy: 0.0000e+00 - level1_mean_squared_error: 0.0536 - level1_accuracy: 0.0000e+00 - level2_mean_squared_error: 0.0528 - level2_accuracy: 0.0000e+00 - level3_mean_squared_error: 0.0540 - level3_accuracy: 0.0000e+00 - val_loss: 0.5231 - val_out_loss: 0.1395 - val_level1_loss: 0.1587 - val_level2_loss: 0.1384 - val_level3_loss: 0.1447 - val_out_mean_squared_error: 0.0570 - val_out_accuracy: 0.0000e+00 - val_level1_mean_squared_error: 0.0643 - val_level1_accuracy: 0.0000e+00 - val_level2_mean_squared_error: 0.0555 - val_level2_accuracy: 0.0000e+00 - val_level3_mean_squared_error: 0.0547 - val_level3_accuracy: 0.0000e+00\n",
            "\n",
            "Epoch 00044: val_out_loss did not improve from 0.13742\n",
            "Epoch 45/300\n",
            "2/2 [==============================] - 1s 173ms/step - loss: 0.5333 - out_loss: 0.1418 - level1_loss: 0.1508 - level2_loss: 0.1470 - level3_loss: 0.1529 - out_mean_squared_error: 0.0540 - out_accuracy: 0.0000e+00 - level1_mean_squared_error: 0.0536 - level1_accuracy: 0.0000e+00 - level2_mean_squared_error: 0.0565 - level2_accuracy: 0.0000e+00 - level3_mean_squared_error: 0.0552 - level3_accuracy: 0.0000e+00 - val_loss: 0.5229 - val_out_loss: 0.1406 - val_level1_loss: 0.1569 - val_level2_loss: 0.1381 - val_level3_loss: 0.1454 - val_out_mean_squared_error: 0.0576 - val_out_accuracy: 0.0000e+00 - val_level1_mean_squared_error: 0.0638 - val_level1_accuracy: 0.0000e+00 - val_level2_mean_squared_error: 0.0552 - val_level2_accuracy: 0.0000e+00 - val_level3_mean_squared_error: 0.0549 - val_level3_accuracy: 0.0000e+00\n",
            "\n",
            "Epoch 00045: val_out_loss did not improve from 0.13742\n",
            "Epoch 46/300\n",
            "2/2 [==============================] - 1s 168ms/step - loss: 0.5268 - out_loss: 0.1421 - level1_loss: 0.1456 - level2_loss: 0.1465 - level3_loss: 0.1511 - out_mean_squared_error: 0.0546 - out_accuracy: 0.0000e+00 - level1_mean_squared_error: 0.0534 - level1_accuracy: 0.0000e+00 - level2_mean_squared_error: 0.0574 - level2_accuracy: 0.0000e+00 - level3_mean_squared_error: 0.0563 - level3_accuracy: 0.0000e+00 - val_loss: 0.5222 - val_out_loss: 0.1427 - val_level1_loss: 0.1563 - val_level2_loss: 0.1368 - val_level3_loss: 0.1444 - val_out_mean_squared_error: 0.0584 - val_out_accuracy: 0.0000e+00 - val_level1_mean_squared_error: 0.0636 - val_level1_accuracy: 0.0000e+00 - val_level2_mean_squared_error: 0.0542 - val_level2_accuracy: 0.0000e+00 - val_level3_mean_squared_error: 0.0547 - val_level3_accuracy: 0.0000e+00\n",
            "\n",
            "Epoch 00046: val_out_loss did not improve from 0.13742\n",
            "Epoch 47/300\n",
            "2/2 [==============================] - 1s 168ms/step - loss: 0.5229 - out_loss: 0.1421 - level1_loss: 0.1461 - level2_loss: 0.1445 - level3_loss: 0.1482 - out_mean_squared_error: 0.0550 - out_accuracy: 0.0000e+00 - level1_mean_squared_error: 0.0595 - level1_accuracy: 0.0000e+00 - level2_mean_squared_error: 0.0531 - level2_accuracy: 0.0000e+00 - level3_mean_squared_error: 0.0567 - level3_accuracy: 0.0000e+00 - val_loss: 0.5184 - val_out_loss: 0.1422 - val_level1_loss: 0.1542 - val_level2_loss: 0.1370 - val_level3_loss: 0.1426 - val_out_mean_squared_error: 0.0583 - val_out_accuracy: 0.0000e+00 - val_level1_mean_squared_error: 0.0629 - val_level1_accuracy: 0.0000e+00 - val_level2_mean_squared_error: 0.0543 - val_level2_accuracy: 0.0000e+00 - val_level3_mean_squared_error: 0.0543 - val_level3_accuracy: 0.0000e+00\n",
            "\n",
            "Epoch 00047: val_out_loss did not improve from 0.13742\n",
            "Epoch 48/300\n",
            "2/2 [==============================] - 1s 173ms/step - loss: 0.5256 - out_loss: 0.1406 - level1_loss: 0.1435 - level2_loss: 0.1446 - level3_loss: 0.1551 - out_mean_squared_error: 0.0565 - out_accuracy: 0.0000e+00 - level1_mean_squared_error: 0.0543 - level1_accuracy: 0.0000e+00 - level2_mean_squared_error: 0.0513 - level2_accuracy: 0.0000e+00 - level3_mean_squared_error: 0.0578 - level3_accuracy: 0.0000e+00 - val_loss: 0.5181 - val_out_loss: 0.1398 - val_level1_loss: 0.1563 - val_level2_loss: 0.1372 - val_level3_loss: 0.1424 - val_out_mean_squared_error: 0.0575 - val_out_accuracy: 0.0000e+00 - val_level1_mean_squared_error: 0.0636 - val_level1_accuracy: 0.0000e+00 - val_level2_mean_squared_error: 0.0543 - val_level2_accuracy: 0.0000e+00 - val_level3_mean_squared_error: 0.0540 - val_level3_accuracy: 0.0000e+00\n",
            "\n",
            "Epoch 00048: val_out_loss did not improve from 0.13742\n",
            "Epoch 49/300\n",
            "2/2 [==============================] - 1s 166ms/step - loss: 0.5314 - out_loss: 0.1430 - level1_loss: 0.1481 - level2_loss: 0.1452 - level3_loss: 0.1541 - out_mean_squared_error: 0.0525 - out_accuracy: 0.0000e+00 - level1_mean_squared_error: 0.0526 - level1_accuracy: 0.0000e+00 - level2_mean_squared_error: 0.0526 - level2_accuracy: 0.0000e+00 - level3_mean_squared_error: 0.0561 - level3_accuracy: 0.0000e+00 - val_loss: 0.5272 - val_out_loss: 0.1391 - val_level1_loss: 0.1621 - val_level2_loss: 0.1399 - val_level3_loss: 0.1445 - val_out_mean_squared_error: 0.0573 - val_out_accuracy: 0.0000e+00 - val_level1_mean_squared_error: 0.0654 - val_level1_accuracy: 0.0000e+00 - val_level2_mean_squared_error: 0.0561 - val_level2_accuracy: 0.0000e+00 - val_level3_mean_squared_error: 0.0541 - val_level3_accuracy: 0.0000e+00\n",
            "\n",
            "Epoch 00049: val_out_loss did not improve from 0.13742\n",
            "Epoch 50/300\n",
            "2/2 [==============================] - 1s 174ms/step - loss: 0.5296 - out_loss: 0.1451 - level1_loss: 0.1431 - level2_loss: 0.1448 - level3_loss: 0.1554 - out_mean_squared_error: 0.0591 - out_accuracy: 0.0000e+00 - level1_mean_squared_error: 0.0549 - level1_accuracy: 0.0000e+00 - level2_mean_squared_error: 0.0575 - level2_accuracy: 0.0000e+00 - level3_mean_squared_error: 0.0557 - level3_accuracy: 0.0000e+00 - val_loss: 0.5284 - val_out_loss: 0.1388 - val_level1_loss: 0.1627 - val_level2_loss: 0.1405 - val_level3_loss: 0.1451 - val_out_mean_squared_error: 0.0571 - val_out_accuracy: 0.0000e+00 - val_level1_mean_squared_error: 0.0656 - val_level1_accuracy: 0.0000e+00 - val_level2_mean_squared_error: 0.0564 - val_level2_accuracy: 0.0000e+00 - val_level3_mean_squared_error: 0.0536 - val_level3_accuracy: 0.0000e+00\n",
            "\n",
            "Epoch 00050: val_out_loss did not improve from 0.13742\n",
            "Epoch 51/300\n",
            "2/2 [==============================] - 1s 179ms/step - loss: 0.5302 - out_loss: 0.1421 - level1_loss: 0.1435 - level2_loss: 0.1453 - level3_loss: 0.1582 - out_mean_squared_error: 0.0556 - out_accuracy: 0.0000e+00 - level1_mean_squared_error: 0.0570 - level1_accuracy: 0.0000e+00 - level2_mean_squared_error: 0.0563 - level2_accuracy: 0.0000e+00 - level3_mean_squared_error: 0.0543 - level3_accuracy: 0.0000e+00 - val_loss: 0.5208 - val_out_loss: 0.1383 - val_level1_loss: 0.1597 - val_level2_loss: 0.1373 - val_level3_loss: 0.1434 - val_out_mean_squared_error: 0.0569 - val_out_accuracy: 0.0000e+00 - val_level1_mean_squared_error: 0.0646 - val_level1_accuracy: 0.0000e+00 - val_level2_mean_squared_error: 0.0529 - val_level2_accuracy: 0.0000e+00 - val_level3_mean_squared_error: 0.0527 - val_level3_accuracy: 0.0000e+00\n",
            "\n",
            "Epoch 00051: val_out_loss did not improve from 0.13742\n",
            "Epoch 52/300\n",
            "2/2 [==============================] - 1s 174ms/step - loss: 0.5308 - out_loss: 0.1442 - level1_loss: 0.1415 - level2_loss: 0.1468 - level3_loss: 0.1573 - out_mean_squared_error: 0.0532 - out_accuracy: 0.0000e+00 - level1_mean_squared_error: 0.0551 - level1_accuracy: 0.0000e+00 - level2_mean_squared_error: 0.0538 - level2_accuracy: 0.0000e+00 - level3_mean_squared_error: 0.0517 - level3_accuracy: 0.0000e+00 - val_loss: 0.5187 - val_out_loss: 0.1387 - val_level1_loss: 0.1558 - val_level2_loss: 0.1392 - val_level3_loss: 0.1425 - val_out_mean_squared_error: 0.0571 - val_out_accuracy: 0.0000e+00 - val_level1_mean_squared_error: 0.0634 - val_level1_accuracy: 0.0000e+00 - val_level2_mean_squared_error: 0.0510 - val_level2_accuracy: 0.0000e+00 - val_level3_mean_squared_error: 0.0523 - val_level3_accuracy: 0.0000e+00\n",
            "\n",
            "Epoch 00052: val_out_loss did not improve from 0.13742\n",
            "Epoch 53/300\n",
            "2/2 [==============================] - 1s 177ms/step - loss: 0.5283 - out_loss: 0.1435 - level1_loss: 0.1412 - level2_loss: 0.1451 - level3_loss: 0.1572 - out_mean_squared_error: 0.0525 - out_accuracy: 0.0000e+00 - level1_mean_squared_error: 0.0534 - level1_accuracy: 0.0000e+00 - level2_mean_squared_error: 0.0516 - level2_accuracy: 0.0000e+00 - level3_mean_squared_error: 0.0550 - level3_accuracy: 0.0000e+00 - val_loss: 0.5176 - val_out_loss: 0.1402 - val_level1_loss: 0.1518 - val_level2_loss: 0.1384 - val_level3_loss: 0.1446 - val_out_mean_squared_error: 0.0578 - val_out_accuracy: 0.0000e+00 - val_level1_mean_squared_error: 0.0622 - val_level1_accuracy: 0.0000e+00 - val_level2_mean_squared_error: 0.0518 - val_level2_accuracy: 0.0000e+00 - val_level3_mean_squared_error: 0.0520 - val_level3_accuracy: 0.0000e+00\n",
            "\n",
            "Epoch 00053: val_out_loss did not improve from 0.13742\n",
            "Epoch 54/300\n",
            "2/2 [==============================] - 1s 178ms/step - loss: 0.5221 - out_loss: 0.1434 - level1_loss: 0.1423 - level2_loss: 0.1436 - level3_loss: 0.1508 - out_mean_squared_error: 0.0582 - out_accuracy: 0.0000e+00 - level1_mean_squared_error: 0.0539 - level1_accuracy: 0.0000e+00 - level2_mean_squared_error: 0.0547 - level2_accuracy: 0.0000e+00 - level3_mean_squared_error: 0.0569 - level3_accuracy: 0.0000e+00 - val_loss: 0.5205 - val_out_loss: 0.1400 - val_level1_loss: 0.1541 - val_level2_loss: 0.1372 - val_level3_loss: 0.1470 - val_out_mean_squared_error: 0.0579 - val_out_accuracy: 0.0000e+00 - val_level1_mean_squared_error: 0.0629 - val_level1_accuracy: 0.0000e+00 - val_level2_mean_squared_error: 0.0532 - val_level2_accuracy: 0.0000e+00 - val_level3_mean_squared_error: 0.0528 - val_level3_accuracy: 0.0000e+00\n",
            "\n",
            "Epoch 00054: val_out_loss did not improve from 0.13742\n",
            "Epoch 55/300\n",
            "2/2 [==============================] - 1s 184ms/step - loss: 0.5340 - out_loss: 0.1406 - level1_loss: 0.1420 - level2_loss: 0.1424 - level3_loss: 0.1684 - out_mean_squared_error: 0.0573 - out_accuracy: 0.0000e+00 - level1_mean_squared_error: 0.0557 - level1_accuracy: 0.0000e+00 - level2_mean_squared_error: 0.0541 - level2_accuracy: 0.0000e+00 - level3_mean_squared_error: 0.0726 - level3_accuracy: 0.0000e+00 - val_loss: 0.5188 - val_out_loss: 0.1376 - val_level1_loss: 0.1553 - val_level2_loss: 0.1373 - val_level3_loss: 0.1464 - val_out_mean_squared_error: 0.0572 - val_out_accuracy: 0.0000e+00 - val_level1_mean_squared_error: 0.0632 - val_level1_accuracy: 0.0000e+00 - val_level2_mean_squared_error: 0.0535 - val_level2_accuracy: 0.0000e+00 - val_level3_mean_squared_error: 0.0529 - val_level3_accuracy: 0.0000e+00\n",
            "\n",
            "Epoch 00055: val_out_loss did not improve from 0.13742\n",
            "Epoch 56/300\n",
            "2/2 [==============================] - 1s 175ms/step - loss: 0.5290 - out_loss: 0.1436 - level1_loss: 0.1408 - level2_loss: 0.1427 - level3_loss: 0.1607 - out_mean_squared_error: 0.0553 - out_accuracy: 0.0000e+00 - level1_mean_squared_error: 0.0555 - level1_accuracy: 0.0000e+00 - level2_mean_squared_error: 0.0530 - level2_accuracy: 0.0000e+00 - level3_mean_squared_error: 0.0695 - level3_accuracy: 0.0000e+00 - val_loss: 0.5172 - val_out_loss: 0.1366 - val_level1_loss: 0.1564 - val_level2_loss: 0.1374 - val_level3_loss: 0.1444 - val_out_mean_squared_error: 0.0563 - val_out_accuracy: 0.0000e+00 - val_level1_mean_squared_error: 0.0636 - val_level1_accuracy: 0.0000e+00 - val_level2_mean_squared_error: 0.0537 - val_level2_accuracy: 0.0000e+00 - val_level3_mean_squared_error: 0.0524 - val_level3_accuracy: 0.0000e+00\n",
            "\n",
            "Epoch 00056: val_out_loss improved from 0.13742 to 0.13658, saving model to trained_models/UNetPP_1024_64_3_6_1.h5\n",
            "Epoch 57/300\n",
            "2/2 [==============================] - 1s 171ms/step - loss: 0.5239 - out_loss: 0.1424 - level1_loss: 0.1413 - level2_loss: 0.1420 - level3_loss: 0.1564 - out_mean_squared_error: 0.0531 - out_accuracy: 0.0000e+00 - level1_mean_squared_error: 0.0551 - level1_accuracy: 0.0000e+00 - level2_mean_squared_error: 0.0536 - level2_accuracy: 0.0000e+00 - level3_mean_squared_error: 0.0607 - level3_accuracy: 0.0000e+00 - val_loss: 0.5193 - val_out_loss: 0.1368 - val_level1_loss: 0.1582 - val_level2_loss: 0.1376 - val_level3_loss: 0.1443 - val_out_mean_squared_error: 0.0561 - val_out_accuracy: 0.0000e+00 - val_level1_mean_squared_error: 0.0641 - val_level1_accuracy: 0.0000e+00 - val_level2_mean_squared_error: 0.0543 - val_level2_accuracy: 0.0000e+00 - val_level3_mean_squared_error: 0.0524 - val_level3_accuracy: 0.0000e+00\n",
            "\n",
            "Epoch 00057: val_out_loss did not improve from 0.13658\n",
            "Epoch 58/300\n",
            "2/2 [==============================] - 1s 178ms/step - loss: 0.5233 - out_loss: 0.1443 - level1_loss: 0.1430 - level2_loss: 0.1420 - level3_loss: 0.1522 - out_mean_squared_error: 0.0576 - out_accuracy: 0.0000e+00 - level1_mean_squared_error: 0.0554 - level1_accuracy: 0.0000e+00 - level2_mean_squared_error: 0.0542 - level2_accuracy: 0.0000e+00 - level3_mean_squared_error: 0.0555 - level3_accuracy: 0.0000e+00 - val_loss: 0.5150 - val_out_loss: 0.1368 - val_level1_loss: 0.1527 - val_level2_loss: 0.1379 - val_level3_loss: 0.1448 - val_out_mean_squared_error: 0.0561 - val_out_accuracy: 0.0000e+00 - val_level1_mean_squared_error: 0.0624 - val_level1_accuracy: 0.0000e+00 - val_level2_mean_squared_error: 0.0541 - val_level2_accuracy: 0.0000e+00 - val_level3_mean_squared_error: 0.0527 - val_level3_accuracy: 0.0000e+00\n",
            "\n",
            "Epoch 00058: val_out_loss did not improve from 0.13658\n",
            "Epoch 59/300\n",
            "2/2 [==============================] - 1s 178ms/step - loss: 0.5180 - out_loss: 0.1410 - level1_loss: 0.1396 - level2_loss: 0.1413 - level3_loss: 0.1536 - out_mean_squared_error: 0.0559 - out_accuracy: 0.0000e+00 - level1_mean_squared_error: 0.0538 - level1_accuracy: 0.0000e+00 - level2_mean_squared_error: 0.0544 - level2_accuracy: 0.0000e+00 - level3_mean_squared_error: 0.0518 - level3_accuracy: 0.0000e+00 - val_loss: 0.5085 - val_out_loss: 0.1357 - val_level1_loss: 0.1476 - val_level2_loss: 0.1377 - val_level3_loss: 0.1440 - val_out_mean_squared_error: 0.0560 - val_out_accuracy: 0.0000e+00 - val_level1_mean_squared_error: 0.0608 - val_level1_accuracy: 0.0000e+00 - val_level2_mean_squared_error: 0.0536 - val_level2_accuracy: 0.0000e+00 - val_level3_mean_squared_error: 0.0526 - val_level3_accuracy: 0.0000e+00\n",
            "\n",
            "Epoch 00059: val_out_loss improved from 0.13658 to 0.13572, saving model to trained_models/UNetPP_1024_64_3_6_1.h5\n",
            "Epoch 60/300\n",
            "2/2 [==============================] - 1s 177ms/step - loss: 0.5196 - out_loss: 0.1403 - level1_loss: 0.1400 - level2_loss: 0.1420 - level3_loss: 0.1550 - out_mean_squared_error: 0.0550 - out_accuracy: 0.0000e+00 - level1_mean_squared_error: 0.0533 - level1_accuracy: 0.0000e+00 - level2_mean_squared_error: 0.0545 - level2_accuracy: 0.0000e+00 - level3_mean_squared_error: 0.0517 - level3_accuracy: 0.0000e+00 - val_loss: 0.5081 - val_out_loss: 0.1344 - val_level1_loss: 0.1473 - val_level2_loss: 0.1395 - val_level3_loss: 0.1433 - val_out_mean_squared_error: 0.0557 - val_out_accuracy: 0.0000e+00 - val_level1_mean_squared_error: 0.0607 - val_level1_accuracy: 0.0000e+00 - val_level2_mean_squared_error: 0.0555 - val_level2_accuracy: 0.0000e+00 - val_level3_mean_squared_error: 0.0529 - val_level3_accuracy: 0.0000e+00\n",
            "\n",
            "Epoch 00060: val_out_loss improved from 0.13572 to 0.13444, saving model to trained_models/UNetPP_1024_64_3_6_1.h5\n",
            "Epoch 61/300\n",
            "2/2 [==============================] - 1s 168ms/step - loss: 0.5164 - out_loss: 0.1426 - level1_loss: 0.1389 - level2_loss: 0.1423 - level3_loss: 0.1500 - out_mean_squared_error: 0.0564 - out_accuracy: 0.0000e+00 - level1_mean_squared_error: 0.0536 - level1_accuracy: 0.0000e+00 - level2_mean_squared_error: 0.0555 - level2_accuracy: 0.0000e+00 - level3_mean_squared_error: 0.0545 - level3_accuracy: 0.0000e+00 - val_loss: 0.5102 - val_out_loss: 0.1345 - val_level1_loss: 0.1486 - val_level2_loss: 0.1400 - val_level3_loss: 0.1437 - val_out_mean_squared_error: 0.0557 - val_out_accuracy: 0.0000e+00 - val_level1_mean_squared_error: 0.0611 - val_level1_accuracy: 0.0000e+00 - val_level2_mean_squared_error: 0.0559 - val_level2_accuracy: 0.0000e+00 - val_level3_mean_squared_error: 0.0542 - val_level3_accuracy: 0.0000e+00\n",
            "\n",
            "Epoch 00061: val_out_loss did not improve from 0.13444\n",
            "Epoch 62/300\n",
            "2/2 [==============================] - 1s 181ms/step - loss: 0.5215 - out_loss: 0.1393 - level1_loss: 0.1407 - level2_loss: 0.1407 - level3_loss: 0.1588 - out_mean_squared_error: 0.0548 - out_accuracy: 0.0000e+00 - level1_mean_squared_error: 0.0562 - level1_accuracy: 0.0000e+00 - level2_mean_squared_error: 0.0543 - level2_accuracy: 0.0000e+00 - level3_mean_squared_error: 0.0645 - level3_accuracy: 0.0000e+00 - val_loss: 0.5092 - val_out_loss: 0.1372 - val_level1_loss: 0.1464 - val_level2_loss: 0.1386 - val_level3_loss: 0.1435 - val_out_mean_squared_error: 0.0565 - val_out_accuracy: 0.0000e+00 - val_level1_mean_squared_error: 0.0605 - val_level1_accuracy: 0.0000e+00 - val_level2_mean_squared_error: 0.0549 - val_level2_accuracy: 0.0000e+00 - val_level3_mean_squared_error: 0.0541 - val_level3_accuracy: 0.0000e+00\n",
            "\n",
            "Epoch 00062: val_out_loss did not improve from 0.13444\n",
            "Epoch 63/300\n",
            "2/2 [==============================] - 1s 172ms/step - loss: 0.5166 - out_loss: 0.1422 - level1_loss: 0.1383 - level2_loss: 0.1428 - level3_loss: 0.1508 - out_mean_squared_error: 0.0575 - out_accuracy: 0.0000e+00 - level1_mean_squared_error: 0.0544 - level1_accuracy: 0.0000e+00 - level2_mean_squared_error: 0.0540 - level2_accuracy: 0.0000e+00 - level3_mean_squared_error: 0.0609 - level3_accuracy: 0.0000e+00 - val_loss: 0.5082 - val_out_loss: 0.1371 - val_level1_loss: 0.1453 - val_level2_loss: 0.1385 - val_level3_loss: 0.1438 - val_out_mean_squared_error: 0.0564 - val_out_accuracy: 0.0000e+00 - val_level1_mean_squared_error: 0.0601 - val_level1_accuracy: 0.0000e+00 - val_level2_mean_squared_error: 0.0544 - val_level2_accuracy: 0.0000e+00 - val_level3_mean_squared_error: 0.0529 - val_level3_accuracy: 0.0000e+00\n",
            "\n",
            "Epoch 00063: val_out_loss did not improve from 0.13444\n",
            "Epoch 64/300\n",
            "2/2 [==============================] - 1s 190ms/step - loss: 0.5118 - out_loss: 0.1404 - level1_loss: 0.1379 - level2_loss: 0.1409 - level3_loss: 0.1494 - out_mean_squared_error: 0.0559 - out_accuracy: 0.0000e+00 - level1_mean_squared_error: 0.0539 - level1_accuracy: 0.0000e+00 - level2_mean_squared_error: 0.0533 - level2_accuracy: 0.0000e+00 - level3_mean_squared_error: 0.0526 - level3_accuracy: 0.0000e+00 - val_loss: 0.5050 - val_out_loss: 0.1343 - val_level1_loss: 0.1437 - val_level2_loss: 0.1389 - val_level3_loss: 0.1442 - val_out_mean_squared_error: 0.0555 - val_out_accuracy: 0.0000e+00 - val_level1_mean_squared_error: 0.0596 - val_level1_accuracy: 0.0000e+00 - val_level2_mean_squared_error: 0.0543 - val_level2_accuracy: 0.0000e+00 - val_level3_mean_squared_error: 0.0525 - val_level3_accuracy: 0.0000e+00\n",
            "\n",
            "Epoch 00064: val_out_loss improved from 0.13444 to 0.13431, saving model to trained_models/UNetPP_1024_64_3_6_1.h5\n",
            "Epoch 65/300\n",
            "2/2 [==============================] - 1s 176ms/step - loss: 0.5134 - out_loss: 0.1402 - level1_loss: 0.1390 - level2_loss: 0.1410 - level3_loss: 0.1502 - out_mean_squared_error: 0.0556 - out_accuracy: 0.0000e+00 - level1_mean_squared_error: 0.0545 - level1_accuracy: 0.0000e+00 - level2_mean_squared_error: 0.0554 - level2_accuracy: 0.0000e+00 - level3_mean_squared_error: 0.0502 - level3_accuracy: 0.0000e+00 - val_loss: 0.5045 - val_out_loss: 0.1341 - val_level1_loss: 0.1439 - val_level2_loss: 0.1383 - val_level3_loss: 0.1442 - val_out_mean_squared_error: 0.0554 - val_out_accuracy: 0.0000e+00 - val_level1_mean_squared_error: 0.0597 - val_level1_accuracy: 0.0000e+00 - val_level2_mean_squared_error: 0.0536 - val_level2_accuracy: 0.0000e+00 - val_level3_mean_squared_error: 0.0531 - val_level3_accuracy: 0.0000e+00\n",
            "\n",
            "Epoch 00065: val_out_loss improved from 0.13431 to 0.13413, saving model to trained_models/UNetPP_1024_64_3_6_1.h5\n",
            "Epoch 66/300\n",
            "2/2 [==============================] - 1s 184ms/step - loss: 0.5120 - out_loss: 0.1396 - level1_loss: 0.1384 - level2_loss: 0.1414 - level3_loss: 0.1495 - out_mean_squared_error: 0.0556 - out_accuracy: 0.0000e+00 - level1_mean_squared_error: 0.0547 - level1_accuracy: 0.0000e+00 - level2_mean_squared_error: 0.0558 - level2_accuracy: 0.0000e+00 - level3_mean_squared_error: 0.0525 - level3_accuracy: 0.0000e+00 - val_loss: 0.5034 - val_out_loss: 0.1346 - val_level1_loss: 0.1434 - val_level2_loss: 0.1378 - val_level3_loss: 0.1435 - val_out_mean_squared_error: 0.0557 - val_out_accuracy: 0.0000e+00 - val_level1_mean_squared_error: 0.0595 - val_level1_accuracy: 0.0000e+00 - val_level2_mean_squared_error: 0.0541 - val_level2_accuracy: 0.0000e+00 - val_level3_mean_squared_error: 0.0540 - val_level3_accuracy: 0.0000e+00\n",
            "\n",
            "Epoch 00066: val_out_loss did not improve from 0.13413\n",
            "Epoch 67/300\n",
            "2/2 [==============================] - 1s 191ms/step - loss: 0.5115 - out_loss: 0.1395 - level1_loss: 0.1390 - level2_loss: 0.1412 - level3_loss: 0.1487 - out_mean_squared_error: 0.0560 - out_accuracy: 0.0000e+00 - level1_mean_squared_error: 0.0539 - level1_accuracy: 0.0000e+00 - level2_mean_squared_error: 0.0542 - level2_accuracy: 0.0000e+00 - level3_mean_squared_error: 0.0551 - level3_accuracy: 0.0000e+00 - val_loss: 0.5000 - val_out_loss: 0.1341 - val_level1_loss: 0.1411 - val_level2_loss: 0.1379 - val_level3_loss: 0.1425 - val_out_mean_squared_error: 0.0548 - val_out_accuracy: 0.0000e+00 - val_level1_mean_squared_error: 0.0585 - val_level1_accuracy: 0.0000e+00 - val_level2_mean_squared_error: 0.0540 - val_level2_accuracy: 0.0000e+00 - val_level3_mean_squared_error: 0.0540 - val_level3_accuracy: 0.0000e+00\n",
            "\n",
            "Epoch 00067: val_out_loss improved from 0.13413 to 0.13407, saving model to trained_models/UNetPP_1024_64_3_6_1.h5\n",
            "Epoch 68/300\n",
            "2/2 [==============================] - 1s 182ms/step - loss: 0.5165 - out_loss: 0.1399 - level1_loss: 0.1406 - level2_loss: 0.1421 - level3_loss: 0.1514 - out_mean_squared_error: 0.0532 - out_accuracy: 0.0000e+00 - level1_mean_squared_error: 0.0520 - level1_accuracy: 0.0000e+00 - level2_mean_squared_error: 0.0539 - level2_accuracy: 0.0000e+00 - level3_mean_squared_error: 0.0596 - level3_accuracy: 0.0000e+00 - val_loss: 0.5000 - val_out_loss: 0.1341 - val_level1_loss: 0.1400 - val_level2_loss: 0.1383 - val_level3_loss: 0.1432 - val_out_mean_squared_error: 0.0536 - val_out_accuracy: 0.0000e+00 - val_level1_mean_squared_error: 0.0579 - val_level1_accuracy: 0.0000e+00 - val_level2_mean_squared_error: 0.0527 - val_level2_accuracy: 0.0000e+00 - val_level3_mean_squared_error: 0.0535 - val_level3_accuracy: 0.0000e+00\n",
            "\n",
            "Epoch 00068: val_out_loss did not improve from 0.13407\n",
            "Epoch 69/300\n",
            "2/2 [==============================] - 1s 186ms/step - loss: 0.5144 - out_loss: 0.1410 - level1_loss: 0.1398 - level2_loss: 0.1420 - level3_loss: 0.1489 - out_mean_squared_error: 0.0558 - out_accuracy: 0.0000e+00 - level1_mean_squared_error: 0.0543 - level1_accuracy: 0.0000e+00 - level2_mean_squared_error: 0.0538 - level2_accuracy: 0.0000e+00 - level3_mean_squared_error: 0.0549 - level3_accuracy: 0.0000e+00 - val_loss: 0.4988 - val_out_loss: 0.1341 - val_level1_loss: 0.1390 - val_level2_loss: 0.1392 - val_level3_loss: 0.1419 - val_out_mean_squared_error: 0.0536 - val_out_accuracy: 0.0000e+00 - val_level1_mean_squared_error: 0.0574 - val_level1_accuracy: 0.0000e+00 - val_level2_mean_squared_error: 0.0539 - val_level2_accuracy: 0.0000e+00 - val_level3_mean_squared_error: 0.0530 - val_level3_accuracy: 0.0000e+00\n",
            "\n",
            "Epoch 00069: val_out_loss improved from 0.13407 to 0.13405, saving model to trained_models/UNetPP_1024_64_3_6_1.h5\n",
            "Epoch 70/300\n",
            "2/2 [==============================] - 1s 180ms/step - loss: 0.5165 - out_loss: 0.1398 - level1_loss: 0.1387 - level2_loss: 0.1426 - level3_loss: 0.1528 - out_mean_squared_error: 0.0558 - out_accuracy: 0.0000e+00 - level1_mean_squared_error: 0.0538 - level1_accuracy: 0.0000e+00 - level2_mean_squared_error: 0.0540 - level2_accuracy: 0.0000e+00 - level3_mean_squared_error: 0.0545 - level3_accuracy: 0.0000e+00 - val_loss: 0.4983 - val_out_loss: 0.1339 - val_level1_loss: 0.1382 - val_level2_loss: 0.1403 - val_level3_loss: 0.1413 - val_out_mean_squared_error: 0.0543 - val_out_accuracy: 0.0000e+00 - val_level1_mean_squared_error: 0.0573 - val_level1_accuracy: 0.0000e+00 - val_level2_mean_squared_error: 0.0548 - val_level2_accuracy: 0.0000e+00 - val_level3_mean_squared_error: 0.0529 - val_level3_accuracy: 0.0000e+00\n",
            "\n",
            "Epoch 00070: val_out_loss improved from 0.13405 to 0.13390, saving model to trained_models/UNetPP_1024_64_3_6_1.h5\n",
            "Epoch 71/300\n",
            "2/2 [==============================] - 1s 172ms/step - loss: 0.5295 - out_loss: 0.1464 - level1_loss: 0.1413 - level2_loss: 0.1433 - level3_loss: 0.1574 - out_mean_squared_error: 0.0618 - out_accuracy: 0.0000e+00 - level1_mean_squared_error: 0.0560 - level1_accuracy: 0.0000e+00 - level2_mean_squared_error: 0.0561 - level2_accuracy: 0.0000e+00 - level3_mean_squared_error: 0.0570 - level3_accuracy: 0.0000e+00 - val_loss: 0.4973 - val_out_loss: 0.1339 - val_level1_loss: 0.1377 - val_level2_loss: 0.1385 - val_level3_loss: 0.1424 - val_out_mean_squared_error: 0.0545 - val_out_accuracy: 0.0000e+00 - val_level1_mean_squared_error: 0.0573 - val_level1_accuracy: 0.0000e+00 - val_level2_mean_squared_error: 0.0523 - val_level2_accuracy: 0.0000e+00 - val_level3_mean_squared_error: 0.0521 - val_level3_accuracy: 0.0000e+00\n",
            "\n",
            "Epoch 00071: val_out_loss did not improve from 0.13390\n",
            "Epoch 72/300\n",
            "2/2 [==============================] - 1s 168ms/step - loss: 0.5233 - out_loss: 0.1420 - level1_loss: 0.1397 - level2_loss: 0.1439 - level3_loss: 0.1559 - out_mean_squared_error: 0.0594 - out_accuracy: 0.0000e+00 - level1_mean_squared_error: 0.0550 - level1_accuracy: 0.0000e+00 - level2_mean_squared_error: 0.0554 - level2_accuracy: 0.0000e+00 - level3_mean_squared_error: 0.0529 - level3_accuracy: 0.0000e+00 - val_loss: 0.5001 - val_out_loss: 0.1340 - val_level1_loss: 0.1377 - val_level2_loss: 0.1381 - val_level3_loss: 0.1459 - val_out_mean_squared_error: 0.0544 - val_out_accuracy: 0.0000e+00 - val_level1_mean_squared_error: 0.0574 - val_level1_accuracy: 0.0000e+00 - val_level2_mean_squared_error: 0.0524 - val_level2_accuracy: 0.0000e+00 - val_level3_mean_squared_error: 0.0521 - val_level3_accuracy: 0.0000e+00\n",
            "\n",
            "Epoch 00072: val_out_loss did not improve from 0.13390\n",
            "Epoch 73/300\n",
            "2/2 [==============================] - 1s 182ms/step - loss: 0.5296 - out_loss: 0.1429 - level1_loss: 0.1426 - level2_loss: 0.1429 - level3_loss: 0.1601 - out_mean_squared_error: 0.0559 - out_accuracy: 0.0000e+00 - level1_mean_squared_error: 0.0550 - level1_accuracy: 0.0000e+00 - level2_mean_squared_error: 0.0519 - level2_accuracy: 0.0000e+00 - level3_mean_squared_error: 0.0599 - level3_accuracy: 0.0000e+00 - val_loss: 0.5031 - val_out_loss: 0.1344 - val_level1_loss: 0.1410 - val_level2_loss: 0.1383 - val_level3_loss: 0.1454 - val_out_mean_squared_error: 0.0554 - val_out_accuracy: 0.0000e+00 - val_level1_mean_squared_error: 0.0586 - val_level1_accuracy: 0.0000e+00 - val_level2_mean_squared_error: 0.0523 - val_level2_accuracy: 0.0000e+00 - val_level3_mean_squared_error: 0.0520 - val_level3_accuracy: 0.0000e+00\n",
            "\n",
            "Epoch 00073: val_out_loss did not improve from 0.13390\n",
            "Epoch 74/300\n",
            "2/2 [==============================] - 1s 195ms/step - loss: 0.5222 - out_loss: 0.1432 - level1_loss: 0.1401 - level2_loss: 0.1435 - level3_loss: 0.1533 - out_mean_squared_error: 0.0577 - out_accuracy: 0.0000e+00 - level1_mean_squared_error: 0.0544 - level1_accuracy: 0.0000e+00 - level2_mean_squared_error: 0.0526 - level2_accuracy: 0.0000e+00 - level3_mean_squared_error: 0.0663 - level3_accuracy: 0.0000e+00 - val_loss: 0.5075 - val_out_loss: 0.1382 - val_level1_loss: 0.1416 - val_level2_loss: 0.1395 - val_level3_loss: 0.1446 - val_out_mean_squared_error: 0.0571 - val_out_accuracy: 0.0000e+00 - val_level1_mean_squared_error: 0.0588 - val_level1_accuracy: 0.0000e+00 - val_level2_mean_squared_error: 0.0517 - val_level2_accuracy: 0.0000e+00 - val_level3_mean_squared_error: 0.0517 - val_level3_accuracy: 0.0000e+00\n",
            "\n",
            "Epoch 00074: val_out_loss did not improve from 0.13390\n",
            "Epoch 75/300\n",
            "2/2 [==============================] - 1s 175ms/step - loss: 0.5282 - out_loss: 0.1408 - level1_loss: 0.1447 - level2_loss: 0.1410 - level3_loss: 0.1604 - out_mean_squared_error: 0.0567 - out_accuracy: 0.0000e+00 - level1_mean_squared_error: 0.0565 - level1_accuracy: 0.0000e+00 - level2_mean_squared_error: 0.0530 - level2_accuracy: 0.0000e+00 - level3_mean_squared_error: 0.0625 - level3_accuracy: 0.0000e+00 - val_loss: 0.5043 - val_out_loss: 0.1385 - val_level1_loss: 0.1376 - val_level2_loss: 0.1397 - val_level3_loss: 0.1445 - val_out_mean_squared_error: 0.0573 - val_out_accuracy: 0.0000e+00 - val_level1_mean_squared_error: 0.0570 - val_level1_accuracy: 0.0000e+00 - val_level2_mean_squared_error: 0.0527 - val_level2_accuracy: 0.0000e+00 - val_level3_mean_squared_error: 0.0506 - val_level3_accuracy: 0.0000e+00\n",
            "\n",
            "Epoch 00075: val_out_loss did not improve from 0.13390\n",
            "Epoch 76/300\n",
            "2/2 [==============================] - 1s 177ms/step - loss: 0.5282 - out_loss: 0.1448 - level1_loss: 0.1393 - level2_loss: 0.1418 - level3_loss: 0.1610 - out_mean_squared_error: 0.0633 - out_accuracy: 0.0000e+00 - level1_mean_squared_error: 0.0541 - level1_accuracy: 0.0000e+00 - level2_mean_squared_error: 0.0560 - level2_accuracy: 0.0000e+00 - level3_mean_squared_error: 0.0526 - level3_accuracy: 0.0000e+00 - val_loss: 0.5002 - val_out_loss: 0.1339 - val_level1_loss: 0.1366 - val_level2_loss: 0.1395 - val_level3_loss: 0.1458 - val_out_mean_squared_error: 0.0553 - val_out_accuracy: 0.0000e+00 - val_level1_mean_squared_error: 0.0561 - val_level1_accuracy: 0.0000e+00 - val_level2_mean_squared_error: 0.0519 - val_level2_accuracy: 0.0000e+00 - val_level3_mean_squared_error: 0.0501 - val_level3_accuracy: 0.0000e+00\n",
            "\n",
            "Epoch 00076: val_out_loss improved from 0.13390 to 0.13388, saving model to trained_models/UNetPP_1024_64_3_6_1.h5\n",
            "Epoch 77/300\n",
            "2/2 [==============================] - 1s 182ms/step - loss: 0.5303 - out_loss: 0.1403 - level1_loss: 0.1415 - level2_loss: 0.1408 - level3_loss: 0.1667 - out_mean_squared_error: 0.0543 - out_accuracy: 0.0000e+00 - level1_mean_squared_error: 0.0535 - level1_accuracy: 0.0000e+00 - level2_mean_squared_error: 0.0536 - level2_accuracy: 0.0000e+00 - level3_mean_squared_error: 0.0490 - level3_accuracy: 0.0000e+00 - val_loss: 0.5021 - val_out_loss: 0.1342 - val_level1_loss: 0.1361 - val_level2_loss: 0.1404 - val_level3_loss: 0.1472 - val_out_mean_squared_error: 0.0536 - val_out_accuracy: 0.0000e+00 - val_level1_mean_squared_error: 0.0559 - val_level1_accuracy: 0.0000e+00 - val_level2_mean_squared_error: 0.0511 - val_level2_accuracy: 0.0000e+00 - val_level3_mean_squared_error: 0.0504 - val_level3_accuracy: 0.0000e+00\n",
            "\n",
            "Epoch 00077: val_out_loss did not improve from 0.13388\n",
            "Epoch 78/300\n",
            "2/2 [==============================] - 1s 176ms/step - loss: 0.5378 - out_loss: 0.1448 - level1_loss: 0.1390 - level2_loss: 0.1417 - level3_loss: 0.1720 - out_mean_squared_error: 0.0562 - out_accuracy: 0.0000e+00 - level1_mean_squared_error: 0.0546 - level1_accuracy: 0.0000e+00 - level2_mean_squared_error: 0.0519 - level2_accuracy: 0.0000e+00 - level3_mean_squared_error: 0.0552 - level3_accuracy: 0.0000e+00 - val_loss: 0.5001 - val_out_loss: 0.1346 - val_level1_loss: 0.1350 - val_level2_loss: 0.1393 - val_level3_loss: 0.1468 - val_out_mean_squared_error: 0.0530 - val_out_accuracy: 0.0000e+00 - val_level1_mean_squared_error: 0.0550 - val_level1_accuracy: 0.0000e+00 - val_level2_mean_squared_error: 0.0525 - val_level2_accuracy: 0.0000e+00 - val_level3_mean_squared_error: 0.0512 - val_level3_accuracy: 0.0000e+00\n",
            "\n",
            "Epoch 00078: val_out_loss did not improve from 0.13388\n",
            "Epoch 79/300\n",
            "2/2 [==============================] - 1s 179ms/step - loss: 0.5294 - out_loss: 0.1430 - level1_loss: 0.1388 - level2_loss: 0.1400 - level3_loss: 0.1664 - out_mean_squared_error: 0.0552 - out_accuracy: 0.0000e+00 - level1_mean_squared_error: 0.0538 - level1_accuracy: 0.0000e+00 - level2_mean_squared_error: 0.0546 - level2_accuracy: 0.0000e+00 - level3_mean_squared_error: 0.0583 - level3_accuracy: 0.0000e+00 - val_loss: 0.4990 - val_out_loss: 0.1341 - val_level1_loss: 0.1353 - val_level2_loss: 0.1398 - val_level3_loss: 0.1452 - val_out_mean_squared_error: 0.0535 - val_out_accuracy: 0.0000e+00 - val_level1_mean_squared_error: 0.0542 - val_level1_accuracy: 0.0000e+00 - val_level2_mean_squared_error: 0.0551 - val_level2_accuracy: 0.0000e+00 - val_level3_mean_squared_error: 0.0522 - val_level3_accuracy: 0.0000e+00\n",
            "\n",
            "Epoch 00079: val_out_loss did not improve from 0.13388\n",
            "Epoch 80/300\n",
            "2/2 [==============================] - 1s 200ms/step - loss: 0.5236 - out_loss: 0.1401 - level1_loss: 0.1416 - level2_loss: 0.1436 - level3_loss: 0.1564 - out_mean_squared_error: 0.0561 - out_accuracy: 0.0000e+00 - level1_mean_squared_error: 0.0513 - level1_accuracy: 0.0000e+00 - level2_mean_squared_error: 0.0568 - level2_accuracy: 0.0000e+00 - level3_mean_squared_error: 0.0582 - level3_accuracy: 0.0000e+00 - val_loss: 0.4963 - val_out_loss: 0.1338 - val_level1_loss: 0.1354 - val_level2_loss: 0.1390 - val_level3_loss: 0.1434 - val_out_mean_squared_error: 0.0541 - val_out_accuracy: 0.0000e+00 - val_level1_mean_squared_error: 0.0542 - val_level1_accuracy: 0.0000e+00 - val_level2_mean_squared_error: 0.0532 - val_level2_accuracy: 0.0000e+00 - val_level3_mean_squared_error: 0.0530 - val_level3_accuracy: 0.0000e+00\n",
            "\n",
            "Epoch 00080: val_out_loss improved from 0.13388 to 0.13376, saving model to trained_models/UNetPP_1024_64_3_6_1.h5\n",
            "Epoch 81/300\n",
            "2/2 [==============================] - 1s 189ms/step - loss: 0.5189 - out_loss: 0.1412 - level1_loss: 0.1424 - level2_loss: 0.1398 - level3_loss: 0.1533 - out_mean_squared_error: 0.0576 - out_accuracy: 0.0000e+00 - level1_mean_squared_error: 0.0518 - level1_accuracy: 0.0000e+00 - level2_mean_squared_error: 0.0547 - level2_accuracy: 0.0000e+00 - level3_mean_squared_error: 0.0602 - level3_accuracy: 0.0000e+00 - val_loss: 0.4968 - val_out_loss: 0.1344 - val_level1_loss: 0.1354 - val_level2_loss: 0.1403 - val_level3_loss: 0.1419 - val_out_mean_squared_error: 0.0536 - val_out_accuracy: 0.0000e+00 - val_level1_mean_squared_error: 0.0551 - val_level1_accuracy: 0.0000e+00 - val_level2_mean_squared_error: 0.0514 - val_level2_accuracy: 0.0000e+00 - val_level3_mean_squared_error: 0.0532 - val_level3_accuracy: 0.0000e+00\n",
            "\n",
            "Epoch 00081: val_out_loss did not improve from 0.13376\n",
            "Epoch 82/300\n",
            "2/2 [==============================] - 1s 184ms/step - loss: 0.5239 - out_loss: 0.1410 - level1_loss: 0.1404 - level2_loss: 0.1410 - level3_loss: 0.1598 - out_mean_squared_error: 0.0565 - out_accuracy: 0.0000e+00 - level1_mean_squared_error: 0.0544 - level1_accuracy: 0.0000e+00 - level2_mean_squared_error: 0.0528 - level2_accuracy: 0.0000e+00 - level3_mean_squared_error: 0.0633 - level3_accuracy: 0.0000e+00 - val_loss: 0.4982 - val_out_loss: 0.1346 - val_level1_loss: 0.1363 - val_level2_loss: 0.1393 - val_level3_loss: 0.1433 - val_out_mean_squared_error: 0.0533 - val_out_accuracy: 0.0000e+00 - val_level1_mean_squared_error: 0.0544 - val_level1_accuracy: 0.0000e+00 - val_level2_mean_squared_error: 0.0526 - val_level2_accuracy: 0.0000e+00 - val_level3_mean_squared_error: 0.0524 - val_level3_accuracy: 0.0000e+00\n",
            "\n",
            "Epoch 00082: val_out_loss did not improve from 0.13376\n",
            "Epoch 83/300\n",
            "2/2 [==============================] - 1s 172ms/step - loss: 0.5209 - out_loss: 0.1397 - level1_loss: 0.1414 - level2_loss: 0.1400 - level3_loss: 0.1577 - out_mean_squared_error: 0.0534 - out_accuracy: 0.0000e+00 - level1_mean_squared_error: 0.0540 - level1_accuracy: 0.0000e+00 - level2_mean_squared_error: 0.0536 - level2_accuracy: 0.0000e+00 - level3_mean_squared_error: 0.0640 - level3_accuracy: 0.0000e+00 - val_loss: 0.4997 - val_out_loss: 0.1343 - val_level1_loss: 0.1362 - val_level2_loss: 0.1402 - val_level3_loss: 0.1445 - val_out_mean_squared_error: 0.0537 - val_out_accuracy: 0.0000e+00 - val_level1_mean_squared_error: 0.0543 - val_level1_accuracy: 0.0000e+00 - val_level2_mean_squared_error: 0.0552 - val_level2_accuracy: 0.0000e+00 - val_level3_mean_squared_error: 0.0513 - val_level3_accuracy: 0.0000e+00\n",
            "\n",
            "Epoch 00083: val_out_loss did not improve from 0.13376\n",
            "Epoch 84/300\n",
            "2/2 [==============================] - 1s 178ms/step - loss: 0.5226 - out_loss: 0.1397 - level1_loss: 0.1427 - level2_loss: 0.1426 - level3_loss: 0.1557 - out_mean_squared_error: 0.0541 - out_accuracy: 0.0000e+00 - level1_mean_squared_error: 0.0513 - level1_accuracy: 0.0000e+00 - level2_mean_squared_error: 0.0567 - level2_accuracy: 0.0000e+00 - level3_mean_squared_error: 0.0597 - level3_accuracy: 0.0000e+00 - val_loss: 0.4986 - val_out_loss: 0.1340 - val_level1_loss: 0.1356 - val_level2_loss: 0.1396 - val_level3_loss: 0.1447 - val_out_mean_squared_error: 0.0546 - val_out_accuracy: 0.0000e+00 - val_level1_mean_squared_error: 0.0555 - val_level1_accuracy: 0.0000e+00 - val_level2_mean_squared_error: 0.0551 - val_level2_accuracy: 0.0000e+00 - val_level3_mean_squared_error: 0.0505 - val_level3_accuracy: 0.0000e+00\n",
            "\n",
            "Epoch 00084: val_out_loss did not improve from 0.13376\n",
            "Epoch 85/300\n",
            "2/2 [==============================] - 1s 175ms/step - loss: 0.5148 - out_loss: 0.1380 - level1_loss: 0.1442 - level2_loss: 0.1403 - level3_loss: 0.1495 - out_mean_squared_error: 0.0550 - out_accuracy: 0.0000e+00 - level1_mean_squared_error: 0.0539 - level1_accuracy: 0.0000e+00 - level2_mean_squared_error: 0.0551 - level2_accuracy: 0.0000e+00 - level3_mean_squared_error: 0.0521 - level3_accuracy: 0.0000e+00 - val_loss: 0.4973 - val_out_loss: 0.1340 - val_level1_loss: 0.1354 - val_level2_loss: 0.1385 - val_level3_loss: 0.1447 - val_out_mean_squared_error: 0.0548 - val_out_accuracy: 0.0000e+00 - val_level1_mean_squared_error: 0.0550 - val_level1_accuracy: 0.0000e+00 - val_level2_mean_squared_error: 0.0530 - val_level2_accuracy: 0.0000e+00 - val_level3_mean_squared_error: 0.0507 - val_level3_accuracy: 0.0000e+00\n",
            "\n",
            "Epoch 00085: val_out_loss did not improve from 0.13376\n",
            "Epoch 86/300\n",
            "2/2 [==============================] - 1s 176ms/step - loss: 0.5126 - out_loss: 0.1385 - level1_loss: 0.1422 - level2_loss: 0.1412 - level3_loss: 0.1476 - out_mean_squared_error: 0.0555 - out_accuracy: 0.0000e+00 - level1_mean_squared_error: 0.0553 - level1_accuracy: 0.0000e+00 - level2_mean_squared_error: 0.0531 - level2_accuracy: 0.0000e+00 - level3_mean_squared_error: 0.0513 - level3_accuracy: 0.0000e+00 - val_loss: 0.4980 - val_out_loss: 0.1341 - val_level1_loss: 0.1362 - val_level2_loss: 0.1386 - val_level3_loss: 0.1444 - val_out_mean_squared_error: 0.0540 - val_out_accuracy: 0.0000e+00 - val_level1_mean_squared_error: 0.0539 - val_level1_accuracy: 0.0000e+00 - val_level2_mean_squared_error: 0.0526 - val_level2_accuracy: 0.0000e+00 - val_level3_mean_squared_error: 0.0517 - val_level3_accuracy: 0.0000e+00\n",
            "\n",
            "Epoch 00086: val_out_loss did not improve from 0.13376\n",
            "Epoch 87/300\n",
            "2/2 [==============================] - 1s 180ms/step - loss: 0.5132 - out_loss: 0.1374 - level1_loss: 0.1438 - level2_loss: 0.1401 - level3_loss: 0.1489 - out_mean_squared_error: 0.0543 - out_accuracy: 0.0000e+00 - level1_mean_squared_error: 0.0548 - level1_accuracy: 0.0000e+00 - level2_mean_squared_error: 0.0528 - level2_accuracy: 0.0000e+00 - level3_mean_squared_error: 0.0548 - level3_accuracy: 0.0000e+00 - val_loss: 0.4976 - val_out_loss: 0.1342 - val_level1_loss: 0.1358 - val_level2_loss: 0.1379 - val_level3_loss: 0.1449 - val_out_mean_squared_error: 0.0536 - val_out_accuracy: 0.0000e+00 - val_level1_mean_squared_error: 0.0540 - val_level1_accuracy: 0.0000e+00 - val_level2_mean_squared_error: 0.0543 - val_level2_accuracy: 0.0000e+00 - val_level3_mean_squared_error: 0.0522 - val_level3_accuracy: 0.0000e+00\n",
            "\n",
            "Epoch 00087: val_out_loss did not improve from 0.13376\n",
            "Epoch 88/300\n",
            "2/2 [==============================] - 1s 173ms/step - loss: 0.5113 - out_loss: 0.1380 - level1_loss: 0.1406 - level2_loss: 0.1412 - level3_loss: 0.1482 - out_mean_squared_error: 0.0552 - out_accuracy: 0.0000e+00 - level1_mean_squared_error: 0.0546 - level1_accuracy: 0.0000e+00 - level2_mean_squared_error: 0.0553 - level2_accuracy: 0.0000e+00 - level3_mean_squared_error: 0.0544 - level3_accuracy: 0.0000e+00 - val_loss: 0.4970 - val_out_loss: 0.1342 - val_level1_loss: 0.1347 - val_level2_loss: 0.1388 - val_level3_loss: 0.1446 - val_out_mean_squared_error: 0.0536 - val_out_accuracy: 0.0000e+00 - val_level1_mean_squared_error: 0.0551 - val_level1_accuracy: 0.0000e+00 - val_level2_mean_squared_error: 0.0529 - val_level2_accuracy: 0.0000e+00 - val_level3_mean_squared_error: 0.0515 - val_level3_accuracy: 0.0000e+00\n",
            "\n",
            "Epoch 00088: val_out_loss did not improve from 0.13376\n",
            "Epoch 89/300\n",
            "2/2 [==============================] - 1s 185ms/step - loss: 0.5153 - out_loss: 0.1380 - level1_loss: 0.1451 - level2_loss: 0.1401 - level3_loss: 0.1494 - out_mean_squared_error: 0.0549 - out_accuracy: 0.0000e+00 - level1_mean_squared_error: 0.0539 - level1_accuracy: 0.0000e+00 - level2_mean_squared_error: 0.0546 - level2_accuracy: 0.0000e+00 - level3_mean_squared_error: 0.0532 - level3_accuracy: 0.0000e+00 - val_loss: 0.4977 - val_out_loss: 0.1343 - val_level1_loss: 0.1352 - val_level2_loss: 0.1393 - val_level3_loss: 0.1442 - val_out_mean_squared_error: 0.0536 - val_out_accuracy: 0.0000e+00 - val_level1_mean_squared_error: 0.0542 - val_level1_accuracy: 0.0000e+00 - val_level2_mean_squared_error: 0.0522 - val_level2_accuracy: 0.0000e+00 - val_level3_mean_squared_error: 0.0515 - val_level3_accuracy: 0.0000e+00\n",
            "\n",
            "Epoch 00089: val_out_loss did not improve from 0.13376\n",
            "Epoch 90/300\n",
            "2/2 [==============================] - 1s 183ms/step - loss: 0.5138 - out_loss: 0.1370 - level1_loss: 0.1434 - level2_loss: 0.1411 - level3_loss: 0.1495 - out_mean_squared_error: 0.0552 - out_accuracy: 0.0000e+00 - level1_mean_squared_error: 0.0529 - level1_accuracy: 0.0000e+00 - level2_mean_squared_error: 0.0519 - level2_accuracy: 0.0000e+00 - level3_mean_squared_error: 0.0545 - level3_accuracy: 0.0000e+00 - val_loss: 0.4996 - val_out_loss: 0.1343 - val_level1_loss: 0.1372 - val_level2_loss: 0.1390 - val_level3_loss: 0.1446 - val_out_mean_squared_error: 0.0540 - val_out_accuracy: 0.0000e+00 - val_level1_mean_squared_error: 0.0527 - val_level1_accuracy: 0.0000e+00 - val_level2_mean_squared_error: 0.0525 - val_level2_accuracy: 0.0000e+00 - val_level3_mean_squared_error: 0.0523 - val_level3_accuracy: 0.0000e+00\n",
            "\n",
            "Epoch 00090: val_out_loss did not improve from 0.13376\n",
            "Epoch 91/300\n",
            "2/2 [==============================] - 1s 170ms/step - loss: 0.5100 - out_loss: 0.1375 - level1_loss: 0.1419 - level2_loss: 0.1408 - level3_loss: 0.1465 - out_mean_squared_error: 0.0558 - out_accuracy: 0.0000e+00 - level1_mean_squared_error: 0.0512 - level1_accuracy: 0.0000e+00 - level2_mean_squared_error: 0.0520 - level2_accuracy: 0.0000e+00 - level3_mean_squared_error: 0.0554 - level3_accuracy: 0.0000e+00 - val_loss: 0.4995 - val_out_loss: 0.1342 - val_level1_loss: 0.1374 - val_level2_loss: 0.1383 - val_level3_loss: 0.1452 - val_out_mean_squared_error: 0.0549 - val_out_accuracy: 0.0000e+00 - val_level1_mean_squared_error: 0.0527 - val_level1_accuracy: 0.0000e+00 - val_level2_mean_squared_error: 0.0544 - val_level2_accuracy: 0.0000e+00 - val_level3_mean_squared_error: 0.0528 - val_level3_accuracy: 0.0000e+00\n",
            "\n",
            "Epoch 00091: val_out_loss did not improve from 0.13376\n",
            "Epoch 92/300\n",
            "2/2 [==============================] - 1s 185ms/step - loss: 0.5119 - out_loss: 0.1372 - level1_loss: 0.1414 - level2_loss: 0.1399 - level3_loss: 0.1503 - out_mean_squared_error: 0.0551 - out_accuracy: 0.0000e+00 - level1_mean_squared_error: 0.0525 - level1_accuracy: 0.0000e+00 - level2_mean_squared_error: 0.0559 - level2_accuracy: 0.0000e+00 - level3_mean_squared_error: 0.0563 - level3_accuracy: 0.0000e+00 - val_loss: 0.4998 - val_out_loss: 0.1342 - val_level1_loss: 0.1360 - val_level2_loss: 0.1403 - val_level3_loss: 0.1449 - val_out_mean_squared_error: 0.0551 - val_out_accuracy: 0.0000e+00 - val_level1_mean_squared_error: 0.0540 - val_level1_accuracy: 0.0000e+00 - val_level2_mean_squared_error: 0.0561 - val_level2_accuracy: 0.0000e+00 - val_level3_mean_squared_error: 0.0524 - val_level3_accuracy: 0.0000e+00\n",
            "\n",
            "Epoch 00092: val_out_loss did not improve from 0.13376\n",
            "Epoch 93/300\n",
            "2/2 [==============================] - 1s 193ms/step - loss: 0.5059 - out_loss: 0.1370 - level1_loss: 0.1387 - level2_loss: 0.1400 - level3_loss: 0.1464 - out_mean_squared_error: 0.0543 - out_accuracy: 0.0000e+00 - level1_mean_squared_error: 0.0544 - level1_accuracy: 0.0000e+00 - level2_mean_squared_error: 0.0562 - level2_accuracy: 0.0000e+00 - level3_mean_squared_error: 0.0558 - level3_accuracy: 0.0000e+00 - val_loss: 0.4979 - val_out_loss: 0.1342 - val_level1_loss: 0.1357 - val_level2_loss: 0.1385 - val_level3_loss: 0.1448 - val_out_mean_squared_error: 0.0551 - val_out_accuracy: 0.0000e+00 - val_level1_mean_squared_error: 0.0540 - val_level1_accuracy: 0.0000e+00 - val_level2_mean_squared_error: 0.0534 - val_level2_accuracy: 0.0000e+00 - val_level3_mean_squared_error: 0.0522 - val_level3_accuracy: 0.0000e+00\n",
            "\n",
            "Epoch 00093: val_out_loss did not improve from 0.13376\n",
            "Epoch 94/300\n",
            "2/2 [==============================] - 1s 191ms/step - loss: 0.5039 - out_loss: 0.1378 - level1_loss: 0.1381 - level2_loss: 0.1399 - level3_loss: 0.1441 - out_mean_squared_error: 0.0546 - out_accuracy: 0.0000e+00 - level1_mean_squared_error: 0.0547 - level1_accuracy: 0.0000e+00 - level2_mean_squared_error: 0.0535 - level2_accuracy: 0.0000e+00 - level3_mean_squared_error: 0.0549 - level3_accuracy: 0.0000e+00 - val_loss: 0.4990 - val_out_loss: 0.1348 - val_level1_loss: 0.1366 - val_level2_loss: 0.1389 - val_level3_loss: 0.1441 - val_out_mean_squared_error: 0.0555 - val_out_accuracy: 0.0000e+00 - val_level1_mean_squared_error: 0.0527 - val_level1_accuracy: 0.0000e+00 - val_level2_mean_squared_error: 0.0527 - val_level2_accuracy: 0.0000e+00 - val_level3_mean_squared_error: 0.0524 - val_level3_accuracy: 0.0000e+00\n",
            "\n",
            "Epoch 00094: val_out_loss did not improve from 0.13376\n",
            "Epoch 95/300\n",
            "2/2 [==============================] - 1s 177ms/step - loss: 0.5062 - out_loss: 0.1378 - level1_loss: 0.1402 - level2_loss: 0.1405 - level3_loss: 0.1440 - out_mean_squared_error: 0.0550 - out_accuracy: 0.0000e+00 - level1_mean_squared_error: 0.0531 - level1_accuracy: 0.0000e+00 - level2_mean_squared_error: 0.0530 - level2_accuracy: 0.0000e+00 - level3_mean_squared_error: 0.0546 - level3_accuracy: 0.0000e+00 - val_loss: 0.4988 - val_out_loss: 0.1345 - val_level1_loss: 0.1368 - val_level2_loss: 0.1393 - val_level3_loss: 0.1436 - val_out_mean_squared_error: 0.0555 - val_out_accuracy: 0.0000e+00 - val_level1_mean_squared_error: 0.0525 - val_level1_accuracy: 0.0000e+00 - val_level2_mean_squared_error: 0.0531 - val_level2_accuracy: 0.0000e+00 - val_level3_mean_squared_error: 0.0534 - val_level3_accuracy: 0.0000e+00\n",
            "\n",
            "Epoch 00095: val_out_loss did not improve from 0.13376\n",
            "Epoch 96/300\n",
            "2/2 [==============================] - 1s 170ms/step - loss: 0.5045 - out_loss: 0.1369 - level1_loss: 0.1385 - level2_loss: 0.1399 - level3_loss: 0.1453 - out_mean_squared_error: 0.0548 - out_accuracy: 0.0000e+00 - level1_mean_squared_error: 0.0519 - level1_accuracy: 0.0000e+00 - level2_mean_squared_error: 0.0538 - level2_accuracy: 0.0000e+00 - level3_mean_squared_error: 0.0566 - level3_accuracy: 0.0000e+00 - val_loss: 0.4999 - val_out_loss: 0.1345 - val_level1_loss: 0.1361 - val_level2_loss: 0.1402 - val_level3_loss: 0.1447 - val_out_mean_squared_error: 0.0555 - val_out_accuracy: 0.0000e+00 - val_level1_mean_squared_error: 0.0531 - val_level1_accuracy: 0.0000e+00 - val_level2_mean_squared_error: 0.0527 - val_level2_accuracy: 0.0000e+00 - val_level3_mean_squared_error: 0.0542 - val_level3_accuracy: 0.0000e+00\n",
            "\n",
            "Epoch 00096: val_out_loss did not improve from 0.13376\n",
            "Epoch 97/300\n",
            "2/2 [==============================] - 1s 193ms/step - loss: 0.5129 - out_loss: 0.1380 - level1_loss: 0.1395 - level2_loss: 0.1411 - level3_loss: 0.1514 - out_mean_squared_error: 0.0545 - out_accuracy: 0.0000e+00 - level1_mean_squared_error: 0.0539 - level1_accuracy: 0.0000e+00 - level2_mean_squared_error: 0.0544 - level2_accuracy: 0.0000e+00 - level3_mean_squared_error: 0.0600 - level3_accuracy: 0.0000e+00 - val_loss: 0.5008 - val_out_loss: 0.1348 - val_level1_loss: 0.1358 - val_level2_loss: 0.1407 - val_level3_loss: 0.1452 - val_out_mean_squared_error: 0.0559 - val_out_accuracy: 0.0000e+00 - val_level1_mean_squared_error: 0.0535 - val_level1_accuracy: 0.0000e+00 - val_level2_mean_squared_error: 0.0527 - val_level2_accuracy: 0.0000e+00 - val_level3_mean_squared_error: 0.0528 - val_level3_accuracy: 0.0000e+00\n",
            "\n",
            "Epoch 00097: val_out_loss did not improve from 0.13376\n",
            "Epoch 98/300\n",
            "2/2 [==============================] - 1s 179ms/step - loss: 0.5060 - out_loss: 0.1375 - level1_loss: 0.1383 - level2_loss: 0.1410 - level3_loss: 0.1454 - out_mean_squared_error: 0.0543 - out_accuracy: 0.0000e+00 - level1_mean_squared_error: 0.0545 - level1_accuracy: 0.0000e+00 - level2_mean_squared_error: 0.0527 - level2_accuracy: 0.0000e+00 - level3_mean_squared_error: 0.0544 - level3_accuracy: 0.0000e+00 - val_loss: 0.5015 - val_out_loss: 0.1347 - val_level1_loss: 0.1364 - val_level2_loss: 0.1409 - val_level3_loss: 0.1453 - val_out_mean_squared_error: 0.0556 - val_out_accuracy: 0.0000e+00 - val_level1_mean_squared_error: 0.0529 - val_level1_accuracy: 0.0000e+00 - val_level2_mean_squared_error: 0.0539 - val_level2_accuracy: 0.0000e+00 - val_level3_mean_squared_error: 0.0517 - val_level3_accuracy: 0.0000e+00\n",
            "\n",
            "Epoch 00098: val_out_loss did not improve from 0.13376\n",
            "Epoch 99/300\n",
            "2/2 [==============================] - 1s 190ms/step - loss: 0.5090 - out_loss: 0.1371 - level1_loss: 0.1388 - level2_loss: 0.1416 - level3_loss: 0.1480 - out_mean_squared_error: 0.0543 - out_accuracy: 0.0000e+00 - level1_mean_squared_error: 0.0547 - level1_accuracy: 0.0000e+00 - level2_mean_squared_error: 0.0524 - level2_accuracy: 0.0000e+00 - level3_mean_squared_error: 0.0552 - level3_accuracy: 0.0000e+00 - val_loss: 0.5016 - val_out_loss: 0.1344 - val_level1_loss: 0.1374 - val_level2_loss: 0.1396 - val_level3_loss: 0.1460 - val_out_mean_squared_error: 0.0548 - val_out_accuracy: 0.0000e+00 - val_level1_mean_squared_error: 0.0518 - val_level1_accuracy: 0.0000e+00 - val_level2_mean_squared_error: 0.0544 - val_level2_accuracy: 0.0000e+00 - val_level3_mean_squared_error: 0.0518 - val_level3_accuracy: 0.0000e+00\n",
            "\n",
            "Epoch 00099: val_out_loss did not improve from 0.13376\n",
            "Epoch 100/300\n",
            "2/2 [==============================] - 1s 179ms/step - loss: 0.5078 - out_loss: 0.1364 - level1_loss: 0.1389 - level2_loss: 0.1401 - level3_loss: 0.1488 - out_mean_squared_error: 0.0540 - out_accuracy: 0.0000e+00 - level1_mean_squared_error: 0.0524 - level1_accuracy: 0.0000e+00 - level2_mean_squared_error: 0.0535 - level2_accuracy: 0.0000e+00 - level3_mean_squared_error: 0.0559 - level3_accuracy: 0.0000e+00 - val_loss: 0.5009 - val_out_loss: 0.1342 - val_level1_loss: 0.1373 - val_level2_loss: 0.1390 - val_level3_loss: 0.1459 - val_out_mean_squared_error: 0.0547 - val_out_accuracy: 0.0000e+00 - val_level1_mean_squared_error: 0.0517 - val_level1_accuracy: 0.0000e+00 - val_level2_mean_squared_error: 0.0522 - val_level2_accuracy: 0.0000e+00 - val_level3_mean_squared_error: 0.0530 - val_level3_accuracy: 0.0000e+00\n",
            "\n",
            "Epoch 00100: val_out_loss did not improve from 0.13376\n",
            "Epoch 101/300\n",
            "2/2 [==============================] - 1s 173ms/step - loss: 0.5117 - out_loss: 0.1364 - level1_loss: 0.1396 - level2_loss: 0.1410 - level3_loss: 0.1515 - out_mean_squared_error: 0.0547 - out_accuracy: 0.0000e+00 - level1_mean_squared_error: 0.0525 - level1_accuracy: 0.0000e+00 - level2_mean_squared_error: 0.0548 - level2_accuracy: 0.0000e+00 - level3_mean_squared_error: 0.0590 - level3_accuracy: 0.0000e+00 - val_loss: 0.4988 - val_out_loss: 0.1342 - val_level1_loss: 0.1364 - val_level2_loss: 0.1389 - val_level3_loss: 0.1447 - val_out_mean_squared_error: 0.0550 - val_out_accuracy: 0.0000e+00 - val_level1_mean_squared_error: 0.0525 - val_level1_accuracy: 0.0000e+00 - val_level2_mean_squared_error: 0.0525 - val_level2_accuracy: 0.0000e+00 - val_level3_mean_squared_error: 0.0533 - val_level3_accuracy: 0.0000e+00\n",
            "\n",
            "Epoch 00101: val_out_loss did not improve from 0.13376\n",
            "Epoch 102/300\n",
            "2/2 [==============================] - 1s 196ms/step - loss: 0.5055 - out_loss: 0.1364 - level1_loss: 0.1379 - level2_loss: 0.1391 - level3_loss: 0.1483 - out_mean_squared_error: 0.0550 - out_accuracy: 0.0000e+00 - level1_mean_squared_error: 0.0538 - level1_accuracy: 0.0000e+00 - level2_mean_squared_error: 0.0535 - level2_accuracy: 0.0000e+00 - level3_mean_squared_error: 0.0561 - level3_accuracy: 0.0000e+00 - val_loss: 0.4975 - val_out_loss: 0.1343 - val_level1_loss: 0.1358 - val_level2_loss: 0.1389 - val_level3_loss: 0.1438 - val_out_mean_squared_error: 0.0548 - val_out_accuracy: 0.0000e+00 - val_level1_mean_squared_error: 0.0531 - val_level1_accuracy: 0.0000e+00 - val_level2_mean_squared_error: 0.0532 - val_level2_accuracy: 0.0000e+00 - val_level3_mean_squared_error: 0.0539 - val_level3_accuracy: 0.0000e+00\n",
            "\n",
            "Epoch 00102: val_out_loss did not improve from 0.13376\n",
            "Epoch 103/300\n",
            "2/2 [==============================] - 1s 171ms/step - loss: 0.5062 - out_loss: 0.1356 - level1_loss: 0.1377 - level2_loss: 0.1409 - level3_loss: 0.1483 - out_mean_squared_error: 0.0535 - out_accuracy: 0.0000e+00 - level1_mean_squared_error: 0.0546 - level1_accuracy: 0.0000e+00 - level2_mean_squared_error: 0.0526 - level2_accuracy: 0.0000e+00 - level3_mean_squared_error: 0.0545 - level3_accuracy: 0.0000e+00 - val_loss: 0.4995 - val_out_loss: 0.1344 - val_level1_loss: 0.1360 - val_level2_loss: 0.1402 - val_level3_loss: 0.1443 - val_out_mean_squared_error: 0.0547 - val_out_accuracy: 0.0000e+00 - val_level1_mean_squared_error: 0.0528 - val_level1_accuracy: 0.0000e+00 - val_level2_mean_squared_error: 0.0531 - val_level2_accuracy: 0.0000e+00 - val_level3_mean_squared_error: 0.0544 - val_level3_accuracy: 0.0000e+00\n",
            "\n",
            "Epoch 00103: val_out_loss did not improve from 0.13376\n",
            "Epoch 104/300\n",
            "2/2 [==============================] - 1s 184ms/step - loss: 0.5021 - out_loss: 0.1357 - level1_loss: 0.1370 - level2_loss: 0.1394 - level3_loss: 0.1458 - out_mean_squared_error: 0.0540 - out_accuracy: 0.0000e+00 - level1_mean_squared_error: 0.0541 - level1_accuracy: 0.0000e+00 - level2_mean_squared_error: 0.0536 - level2_accuracy: 0.0000e+00 - level3_mean_squared_error: 0.0536 - level3_accuracy: 0.0000e+00 - val_loss: 0.5035 - val_out_loss: 0.1344 - val_level1_loss: 0.1367 - val_level2_loss: 0.1422 - val_level3_loss: 0.1461 - val_out_mean_squared_error: 0.0544 - val_out_accuracy: 0.0000e+00 - val_level1_mean_squared_error: 0.0522 - val_level1_accuracy: 0.0000e+00 - val_level2_mean_squared_error: 0.0538 - val_level2_accuracy: 0.0000e+00 - val_level3_mean_squared_error: 0.0551 - val_level3_accuracy: 0.0000e+00\n",
            "\n",
            "Epoch 00104: val_out_loss did not improve from 0.13376\n",
            "Epoch 105/300\n",
            "2/2 [==============================] - 1s 169ms/step - loss: 0.5101 - out_loss: 0.1355 - level1_loss: 0.1384 - level2_loss: 0.1425 - level3_loss: 0.1504 - out_mean_squared_error: 0.0543 - out_accuracy: 0.0000e+00 - level1_mean_squared_error: 0.0547 - level1_accuracy: 0.0000e+00 - level2_mean_squared_error: 0.0569 - level2_accuracy: 0.0000e+00 - level3_mean_squared_error: 0.0530 - level3_accuracy: 0.0000e+00 - val_loss: 0.5059 - val_out_loss: 0.1344 - val_level1_loss: 0.1367 - val_level2_loss: 0.1435 - val_level3_loss: 0.1476 - val_out_mean_squared_error: 0.0539 - val_out_accuracy: 0.0000e+00 - val_level1_mean_squared_error: 0.0522 - val_level1_accuracy: 0.0000e+00 - val_level2_mean_squared_error: 0.0552 - val_level2_accuracy: 0.0000e+00 - val_level3_mean_squared_error: 0.0553 - val_level3_accuracy: 0.0000e+00\n",
            "\n",
            "Epoch 00105: val_out_loss did not improve from 0.13376\n",
            "Epoch 106/300\n",
            "2/2 [==============================] - 1s 184ms/step - loss: 0.5080 - out_loss: 0.1348 - level1_loss: 0.1363 - level2_loss: 0.1415 - level3_loss: 0.1517 - out_mean_squared_error: 0.0535 - out_accuracy: 0.0000e+00 - level1_mean_squared_error: 0.0533 - level1_accuracy: 0.0000e+00 - level2_mean_squared_error: 0.0556 - level2_accuracy: 0.0000e+00 - level3_mean_squared_error: 0.0545 - level3_accuracy: 0.0000e+00 - val_loss: 0.5026 - val_out_loss: 0.1344 - val_level1_loss: 0.1359 - val_level2_loss: 0.1415 - val_level3_loss: 0.1466 - val_out_mean_squared_error: 0.0538 - val_out_accuracy: 0.0000e+00 - val_level1_mean_squared_error: 0.0529 - val_level1_accuracy: 0.0000e+00 - val_level2_mean_squared_error: 0.0551 - val_level2_accuracy: 0.0000e+00 - val_level3_mean_squared_error: 0.0551 - val_level3_accuracy: 0.0000e+00\n",
            "\n",
            "Epoch 00106: val_out_loss did not improve from 0.13376\n",
            "Epoch 107/300\n",
            "2/2 [==============================] - 1s 180ms/step - loss: 0.5064 - out_loss: 0.1352 - level1_loss: 0.1389 - level2_loss: 0.1407 - level3_loss: 0.1480 - out_mean_squared_error: 0.0535 - out_accuracy: 0.0000e+00 - level1_mean_squared_error: 0.0550 - level1_accuracy: 0.0000e+00 - level2_mean_squared_error: 0.0540 - level2_accuracy: 0.0000e+00 - level3_mean_squared_error: 0.0561 - level3_accuracy: 0.0000e+00 - val_loss: 0.5011 - val_out_loss: 0.1347 - val_level1_loss: 0.1372 - val_level2_loss: 0.1399 - val_level3_loss: 0.1450 - val_out_mean_squared_error: 0.0535 - val_out_accuracy: 0.0000e+00 - val_level1_mean_squared_error: 0.0520 - val_level1_accuracy: 0.0000e+00 - val_level2_mean_squared_error: 0.0544 - val_level2_accuracy: 0.0000e+00 - val_level3_mean_squared_error: 0.0551 - val_level3_accuracy: 0.0000e+00\n",
            "\n",
            "Epoch 00107: val_out_loss did not improve from 0.13376\n",
            "Epoch 108/300\n",
            "2/2 [==============================] - 1s 179ms/step - loss: 0.5040 - out_loss: 0.1353 - level1_loss: 0.1367 - level2_loss: 0.1409 - level3_loss: 0.1471 - out_mean_squared_error: 0.0542 - out_accuracy: 0.0000e+00 - level1_mean_squared_error: 0.0541 - level1_accuracy: 0.0000e+00 - level2_mean_squared_error: 0.0541 - level2_accuracy: 0.0000e+00 - level3_mean_squared_error: 0.0586 - level3_accuracy: 0.0000e+00 - val_loss: 0.4997 - val_out_loss: 0.1349 - val_level1_loss: 0.1374 - val_level2_loss: 0.1398 - val_level3_loss: 0.1431 - val_out_mean_squared_error: 0.0534 - val_out_accuracy: 0.0000e+00 - val_level1_mean_squared_error: 0.0518 - val_level1_accuracy: 0.0000e+00 - val_level2_mean_squared_error: 0.0550 - val_level2_accuracy: 0.0000e+00 - val_level3_mean_squared_error: 0.0541 - val_level3_accuracy: 0.0000e+00\n",
            "\n",
            "Epoch 00108: val_out_loss did not improve from 0.13376\n",
            "Epoch 109/300\n",
            "2/2 [==============================] - 1s 195ms/step - loss: 0.5040 - out_loss: 0.1339 - level1_loss: 0.1373 - level2_loss: 0.1396 - level3_loss: 0.1493 - out_mean_squared_error: 0.0521 - out_accuracy: 0.0000e+00 - level1_mean_squared_error: 0.0524 - level1_accuracy: 0.0000e+00 - level2_mean_squared_error: 0.0547 - level2_accuracy: 0.0000e+00 - level3_mean_squared_error: 0.0587 - level3_accuracy: 0.0000e+00 - val_loss: 0.5007 - val_out_loss: 0.1346 - val_level1_loss: 0.1361 - val_level2_loss: 0.1418 - val_level3_loss: 0.1438 - val_out_mean_squared_error: 0.0541 - val_out_accuracy: 0.0000e+00 - val_level1_mean_squared_error: 0.0530 - val_level1_accuracy: 0.0000e+00 - val_level2_mean_squared_error: 0.0569 - val_level2_accuracy: 0.0000e+00 - val_level3_mean_squared_error: 0.0528 - val_level3_accuracy: 0.0000e+00\n",
            "\n",
            "Epoch 00109: val_out_loss did not improve from 0.13376\n",
            "Epoch 110/300\n",
            "2/2 [==============================] - 1s 176ms/step - loss: 0.5024 - out_loss: 0.1352 - level1_loss: 0.1371 - level2_loss: 0.1403 - level3_loss: 0.1456 - out_mean_squared_error: 0.0544 - out_accuracy: 0.0000e+00 - level1_mean_squared_error: 0.0545 - level1_accuracy: 0.0000e+00 - level2_mean_squared_error: 0.0556 - level2_accuracy: 0.0000e+00 - level3_mean_squared_error: 0.0547 - level3_accuracy: 0.0000e+00 - val_loss: 0.5029 - val_out_loss: 0.1346 - val_level1_loss: 0.1358 - val_level2_loss: 0.1434 - val_level3_loss: 0.1450 - val_out_mean_squared_error: 0.0540 - val_out_accuracy: 0.0000e+00 - val_level1_mean_squared_error: 0.0535 - val_level1_accuracy: 0.0000e+00 - val_level2_mean_squared_error: 0.0576 - val_level2_accuracy: 0.0000e+00 - val_level3_mean_squared_error: 0.0511 - val_level3_accuracy: 0.0000e+00\n",
            "\n",
            "Epoch 00110: val_out_loss did not improve from 0.13376\n"
          ]
        }
      ]
    },
    {
      "cell_type": "markdown",
      "metadata": {
        "id": "KXKtueC8-Hec"
      },
      "source": [
        "Predict from the Test set"
      ]
    },
    {
      "cell_type": "code",
      "metadata": {
        "id": "da_GxBdub11V",
        "colab": {
          "base_uri": "https://localhost:8080/"
        },
        "outputId": "5dcb3540-bdd0-46f7-fb0e-7355e59fe4a1"
      },
      "source": [
        "if D_S == 0:\n",
        "    EEG_App = EEGIMU_Network.predict(X_Test, verbose=1)\n",
        "    print(EEG_App.shape)\n",
        "elif D_S == 1:\n",
        "    EEG_App = EEGIMU_Network.predict(X_Test1, verbose=1)\n",
        "    print(EEG_App[0].shape)"
      ],
      "execution_count": 21,
      "outputs": [
        {
          "output_type": "stream",
          "name": "stdout",
          "text": [
            "1/1 [==============================] - 1s 1s/step\n",
            "(23, 1024, 1)\n"
          ]
        }
      ]
    },
    {
      "cell_type": "markdown",
      "metadata": {
        "id": "I5VOUzPq-qyv"
      },
      "source": [
        "Plot History Plots (e.g., Loss, Accuracy, etc.)"
      ]
    },
    {
      "cell_type": "code",
      "metadata": {
        "id": "FEbvTDd7-nZH",
        "colab": {
          "base_uri": "https://localhost:8080/",
          "height": 670
        },
        "outputId": "e5e616ab-136a-48cf-82b2-6cfbeb32c349"
      },
      "source": [
        "def history_plot(history):\n",
        "  # list all dictionaries in history\n",
        "  print(history.history.keys())\n",
        "  # summarize history for error\n",
        "  plt.figure(figsize=(12,10))\n",
        "  plt.subplot(2,1,1)\n",
        "  plt.plot(history.history['out_accuracy'])\n",
        "  plt.plot(history.history['val_out_accuracy'])\n",
        "  plt.title('Model Error Performance')\n",
        "  plt.ylabel('Error')\n",
        "  plt.xlabel('Epoch')\n",
        "  plt.legend(['Train', 'Val'], loc='upper right')\n",
        "  plt.show()\n",
        "  # summarize history for loss\n",
        "  plt.figure(figsize=(12,10))\n",
        "  plt.subplot(2,1,2)\n",
        "  plt.plot(history.history['out_loss'])\n",
        "  plt.plot(history.history['val_out_loss'])\n",
        "  plt.title('Model Loss')\n",
        "  plt.ylabel('Loss')\n",
        "  plt.xlabel('Epoch')\n",
        "  plt.legend(['Train', 'Val'], loc='upper right')\n",
        "  plt.show()\n",
        "#\n",
        "history_plot(history)"
      ],
      "execution_count": 22,
      "outputs": [
        {
          "output_type": "stream",
          "name": "stdout",
          "text": [
            "dict_keys(['loss', 'out_loss', 'level1_loss', 'level2_loss', 'level3_loss', 'out_mean_squared_error', 'out_accuracy', 'level1_mean_squared_error', 'level1_accuracy', 'level2_mean_squared_error', 'level2_accuracy', 'level3_mean_squared_error', 'level3_accuracy', 'val_loss', 'val_out_loss', 'val_level1_loss', 'val_level2_loss', 'val_level3_loss', 'val_out_mean_squared_error', 'val_out_accuracy', 'val_level1_mean_squared_error', 'val_level1_accuracy', 'val_level2_mean_squared_error', 'val_level2_accuracy', 'val_level3_mean_squared_error', 'val_level3_accuracy'])\n"
          ]
        },
        {
          "output_type": "display_data",
          "data": {
            "image/png": "[encoded data removed]",
            "text/plain": [
              "<Figure size 864x720 with 1 Axes>"
            ]
          },
          "metadata": {}
        },
        {
          "output_type": "display_data",
          "data": {
            "image/png": "[encoded data removed]",
            "text/plain": [
              "<Figure size 864x720 with 1 Axes>"
            ]
          },
          "metadata": {}
        }
      ]
    },
    {
      "cell_type": "markdown",
      "metadata": {
        "id": "RAkQe4Yp9QVP"
      },
      "source": [
        "Visualize Outcome"
      ]
    },
    {
      "cell_type": "code",
      "metadata": {
        "id": "tq3lBCm0crMc",
        "colab": {
          "base_uri": "https://localhost:8080/",
          "height": 281
        },
        "outputId": "e455ea46-4808-474b-fe46-37eecae95252"
      },
      "source": [
        "if D_S == 0:\n",
        "    i = random.randint(0,len(Y_Test));\n",
        "    #\n",
        "    MAE = np.mean(np.abs(EEG_App[i].ravel()-Y_Test[i].ravel()));\n",
        "    #\n",
        "    plt.figure(figsize=(15, 4));\n",
        "    plt.plot(Y_Test1[i],label='GRND');\n",
        "    plt.plot(EEG_App[i].ravel(), label='Pred');\n",
        "    plt.title(f\"EEG -- Sample Number {i} -- MAE = {MAE}\");\n",
        "    plt.legend();\n",
        "    #\n",
        "elif D_S == 1:\n",
        "    i = random.randint(0,len(Y_Test));\n",
        "    #\n",
        "    MAE = np.mean(np.abs(EEG_App[0][i].ravel()-Y_Test[i].ravel()))\n",
        "    #\n",
        "    plt.figure(figsize=(15,4))\n",
        "    # plt.subplot(5,1,1)\n",
        "    plt.plot(Y_Test[i],label='Ground Truth');\n",
        "    plt.plot(EEG_App[0][i].ravel(), label='Prediction');\n",
        "    plt.title(f\"GRF -- Sample Number {i} -- MAE = {MAE}\");\n",
        "    plt.legend();\n",
        "    plt.show()\n",
        "    # plt.subplot(5,1,2)\n",
        "    # plt.plot((X_Test[i,:,0].ravel()),label='EEG2');\n",
        "    # plt.title('EEG2')\n",
        "    # plt.legend();\n",
        "    # plt.subplot(5,1,3)\n",
        "    # plt.plot((X_Test[i,:,1].ravel()),label='ACCX2');\n",
        "    # plt.title('ACCX')\n",
        "    # plt.legend();\n",
        "    # plt.subplot(5,1,4)\n",
        "    # plt.plot((X_Test[i,:,2].ravel()),label='ACCY2');\n",
        "    # plt.title('ACCY')\n",
        "    # plt.legend();\n",
        "    # plt.subplot(5,1,5)\n",
        "    # plt.plot((X_Test[i,:,3].ravel()),label='ACCZ2');\n",
        "    # plt.title('ACCZ')\n",
        "    # plt.legend();"
      ],
      "execution_count": 30,
      "outputs": [
        {
          "output_type": "display_data",
          "data": {
            "image/png": "[encoded data removed]",
            "text/plain": [
              "<Figure size 1080x288 with 1 Axes>"
            ]
          },
          "metadata": {}
        }
      ]
    },
    {
      "cell_type": "markdown",
      "metadata": {
        "id": "qgyZlT9gOC3r"
      },
      "source": [
        "### Evaluate EEG Reconstruction"
      ]
    },
    {
      "cell_type": "markdown",
      "metadata": {
        "id": "3Tn5t8svOC3z"
      },
      "source": [
        "Construction Error"
      ]
    },
    {
      "cell_type": "code",
      "metadata": {
        "id": "dCpLcxFHHGO4"
      },
      "source": [
        "def Construction_Error(GRND, Pred):\n",
        "    construction_err = []\n",
        "    bad_indices = []\n",
        "    count = 0\n",
        "\n",
        "    for i in range(len(GRND)):\n",
        "        MAE = np.mean(np.abs(Pred[i].ravel() - GRND[i].ravel()))\n",
        "        if MAE < 1:\n",
        "            construction_err.append(MAE)\n",
        "        elif MAE >= 1:\n",
        "            count = count + 1\n",
        "            bad_indices.append(i)\n",
        "\n",
        "    print(f'Construction Error : {round(np.mean(construction_err), 3)} +/- {round(np.std(construction_err), 3)}')\n",
        "    print(f'Number of Bad Predictions = {count}')\n",
        "\n",
        "    bad_indices = set(bad_indices)\n",
        "    all_indices = set(np.arange(len(GRND)))\n",
        "    good_indices = np.array(list(all_indices - bad_indices))\n",
        "    GRND_NEW = GRND[good_indices]\n",
        "    PRED_NEW = Pred[good_indices]\n",
        "\n",
        "    return GRND_NEW, PRED_NEW"
      ],
      "execution_count": 24,
      "outputs": []
    },
    {
      "cell_type": "code",
      "metadata": {
        "id": "-e5e02IX18_0",
        "colab": {
          "base_uri": "https://localhost:8080/"
        },
        "outputId": "c48d23d1-c6f9-41d8-fa96-6f9be9f7207c"
      },
      "source": [
        "[A,B] = Construction_Error(Y_Test,EEG_App[0])"
      ],
      "execution_count": 25,
      "outputs": [
        {
          "output_type": "stream",
          "name": "stdout",
          "text": [
            "Construction Error : 0.141 +/- 0.022\n",
            "Number of Bad Predictions = 0\n"
          ]
        }
      ]
    },
    {
      "cell_type": "markdown",
      "metadata": {
        "id": "RpBffrdYhNFs"
      },
      "source": [
        "### Save Files"
      ]
    },
    {
      "cell_type": "code",
      "metadata": {
        "id": "PIUgbKfFhO7O",
        "colab": {
          "base_uri": "https://localhost:8080/",
          "height": 231
        },
        "outputId": "8f109766-5365-43c2-8f4a-908956d9c4ce"
      },
      "source": [
        "output_directory = 'Patient_Wise_Data/Outputs/Preds_Sub_' + str(Test_Case) + '.h5'\n",
        "File = h5py.File(output_directory, 'w')\n",
        "File.create_dataset('EEG_GT', data=Y_Test)\n",
        "File.create_dataset('EEG_MA', data=X_Test[:,:,0])\n",
        "File.create_dataset('EEG_Pred', data=EEG_App[0])\n",
        "File.close()"
      ],
      "execution_count": 26,
      "outputs": [
        {
          "output_type": "error",
          "ename": "NameError",
          "evalue": "ignored",
          "traceback": [
            "\u001b[0;31m---------------------------------------------------------------------------\u001b[0m",
            "\u001b[0;31mNameError\u001b[0m                                 Traceback (most recent call last)",
            "\u001b[0;32m<ipython-input-26-25ffc6fbf276>\u001b[0m in \u001b[0;36m<module>\u001b[0;34m()\u001b[0m\n\u001b[0;32m----> 1\u001b[0;31m \u001b[0moutput_directory\u001b[0m \u001b[0;34m=\u001b[0m \u001b[0;34m'Patient_Wise_Data/Outputs/Preds_Sub_'\u001b[0m \u001b[0;34m+\u001b[0m \u001b[0mstr\u001b[0m\u001b[0;34m(\u001b[0m\u001b[0mTest_Case\u001b[0m\u001b[0;34m)\u001b[0m \u001b[0;34m+\u001b[0m \u001b[0;34m'.h5'\u001b[0m\u001b[0;34m\u001b[0m\u001b[0;34m\u001b[0m\u001b[0m\n\u001b[0m\u001b[1;32m      2\u001b[0m \u001b[0mFile\u001b[0m \u001b[0;34m=\u001b[0m \u001b[0mh5py\u001b[0m\u001b[0;34m.\u001b[0m\u001b[0mFile\u001b[0m\u001b[0;34m(\u001b[0m\u001b[0moutput_directory\u001b[0m\u001b[0;34m,\u001b[0m \u001b[0;34m'w'\u001b[0m\u001b[0;34m)\u001b[0m\u001b[0;34m\u001b[0m\u001b[0;34m\u001b[0m\u001b[0m\n\u001b[1;32m      3\u001b[0m \u001b[0mFile\u001b[0m\u001b[0;34m.\u001b[0m\u001b[0mcreate_dataset\u001b[0m\u001b[0;34m(\u001b[0m\u001b[0;34m'EEG_GT'\u001b[0m\u001b[0;34m,\u001b[0m \u001b[0mdata\u001b[0m\u001b[0;34m=\u001b[0m\u001b[0mY_Test\u001b[0m\u001b[0;34m)\u001b[0m\u001b[0;34m\u001b[0m\u001b[0;34m\u001b[0m\u001b[0m\n\u001b[1;32m      4\u001b[0m \u001b[0mFile\u001b[0m\u001b[0;34m.\u001b[0m\u001b[0mcreate_dataset\u001b[0m\u001b[0;34m(\u001b[0m\u001b[0;34m'EEG_MA'\u001b[0m\u001b[0;34m,\u001b[0m \u001b[0mdata\u001b[0m\u001b[0;34m=\u001b[0m\u001b[0mX_Test\u001b[0m\u001b[0;34m[\u001b[0m\u001b[0;34m:\u001b[0m\u001b[0;34m,\u001b[0m\u001b[0;34m:\u001b[0m\u001b[0;34m,\u001b[0m\u001b[0;36m0\u001b[0m\u001b[0;34m]\u001b[0m\u001b[0;34m)\u001b[0m\u001b[0;34m\u001b[0m\u001b[0;34m\u001b[0m\u001b[0m\n\u001b[1;32m      5\u001b[0m \u001b[0mFile\u001b[0m\u001b[0;34m.\u001b[0m\u001b[0mcreate_dataset\u001b[0m\u001b[0;34m(\u001b[0m\u001b[0;34m'EEG_Pred'\u001b[0m\u001b[0;34m,\u001b[0m \u001b[0mdata\u001b[0m\u001b[0;34m=\u001b[0m\u001b[0mEEG_App\u001b[0m\u001b[0;34m[\u001b[0m\u001b[0;36m0\u001b[0m\u001b[0;34m]\u001b[0m\u001b[0;34m)\u001b[0m\u001b[0;34m\u001b[0m\u001b[0;34m\u001b[0m\u001b[0m\n",
            "\u001b[0;31mNameError\u001b[0m: name 'Test_Case' is not defined"
          ]
        }
      ]
    },
    {
      "cell_type": "markdown",
      "metadata": {
        "id": "WesN7p7AeYK4"
      },
      "source": [
        "# Infinite Loop to Keep the Tab Alive"
      ]
    },
    {
      "cell_type": "code",
      "metadata": {
        "id": "0HqQ3O6XeZ1f"
      },
      "source": [
        "while True:\n",
        "    pass"
      ],
      "execution_count": null,
      "outputs": []
    }
  ]
}