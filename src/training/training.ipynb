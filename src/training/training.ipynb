{
  "nbformat": 4,
  "nbformat_minor": 0,
  "metadata": {
    "colab": {
      "name": "EEG_Motion_Artifact_Removal_v1.ipynb",
      "provenance": [],
      "collapsed_sections": [
        "tgW7r0C9TuZk",
        "WOaiV66cCD6L",
        "fI8UCcR-oZc-",
        "_qTwozk_BS94",
        "WesN7p7AeYK4"
      ],
      "machine_shape": "hm",
      "include_colab_link": true
    },
    "kernelspec": {
      "display_name": "Python 3",
      "language": "python",
      "name": "python3"
    },
    "language_info": {
      "codemirror_mode": {
        "name": "ipython",
        "version": 3
      },
      "file_extension": ".py",
      "mimetype": "text/x-python",
      "name": "python",
      "nbconvert_exporter": "python",
      "pygments_lexer": "ipython3",
      "version": "3.5.2"
    },
    "accelerator": "GPU"
  },
  "cells": [
    {
      "cell_type": "markdown",
      "metadata": {
        "id": "view-in-github",
        "colab_type": "text"
      },
      "source": [
        "<a href=\"https://colab.research.google.com/github/atick-faisal/GRF-Synthesis-from-Motion-Trajectories/blob/main/src/training/training.ipynb\" target=\"_parent\"><img src=\"https://colab.research.google.com/assets/colab-badge.svg\" alt=\"Open In Colab\"/></a>"
      ]
    },
    {
      "cell_type": "markdown",
      "metadata": {
        "id": "sFyb0y7PUJOo"
      },
      "source": [
        "# EEG Motion Artifact Removal using Deep Learning - Complete Pipeline"
      ]
    },
    {
      "cell_type": "markdown",
      "metadata": {
        "id": "W9vTr2NhcGAA"
      },
      "source": [
        "# Test GPU (Optional)\n",
        "Before Starting, kindly check the available GPU from the Google Server, GPU model and other related information. It might help!"
      ]
    },
    {
      "cell_type": "code",
      "metadata": {
        "colab": {
          "base_uri": "https://localhost:8080/"
        },
        "id": "VUNJNtNxcFTF",
        "outputId": "fa450ead-1ca7-4be3-e155-8b155fec7d24"
      },
      "source": [
        "import torch\n",
        "print(\"Is CUDA enabled GPU Available?\", torch.cuda.is_available())\n",
        "print(\"GPU Number:\", torch.cuda.device_count())\n",
        "print(\"Current GPU Index:\", torch.cuda.current_device())\n",
        "print(\"GPU Type:\", torch.cuda.get_device_name(device=None))\n",
        "print(\"GPU Capability:\", torch.cuda.get_device_capability(device=None))\n",
        "print(\"Is GPU Initialized yet?\", torch.cuda.is_initialized())"
      ],
      "execution_count": 1,
      "outputs": [
        {
          "output_type": "stream",
          "name": "stdout",
          "text": [
            "Is CUDA enabled GPU Available? True\n",
            "GPU Number: 1\n",
            "Current GPU Index: 0\n",
            "GPU Type: Tesla K80\n",
            "GPU Capability: (3, 7)\n",
            "Is GPU Initialized yet? True\n"
          ]
        }
      ]
    },
    {
      "cell_type": "markdown",
      "metadata": {
        "id": "EQbDnsIZUSx0"
      },
      "source": [
        "# Connect to Google Drive"
      ]
    },
    {
      "cell_type": "code",
      "metadata": {
        "id": "wg4kMbwxsH9h"
      },
      "source": [
        "# from google.colab import drive\n",
        "# drive.mount('/content/GDrive')"
      ],
      "execution_count": 2,
      "outputs": []
    },
    {
      "cell_type": "markdown",
      "metadata": {
        "id": "GpdYZ2x3MbTd"
      },
      "source": [
        "Move to the Target Directory"
      ]
    },
    {
      "cell_type": "code",
      "metadata": {
        "id": "Efh543dRsQga"
      },
      "source": [
        "# %cd /content/GDrive/MyDrive/Colab_Notebooks/Research/EEG_IMU "
      ],
      "execution_count": 3,
      "outputs": []
    },
    {
      "cell_type": "markdown",
      "metadata": {
        "id": "_ZtMdxE7MeXX"
      },
      "source": [
        "List the Files and Folders Located in the Current Directory"
      ]
    },
    {
      "cell_type": "code",
      "metadata": {
        "id": "eM92ZPcisMK1"
      },
      "source": [
        "# !ls"
      ],
      "execution_count": 4,
      "outputs": []
    },
    {
      "cell_type": "markdown",
      "metadata": {
        "id": "ano69se-e3QY"
      },
      "source": [
        "## Evaluation of Predicting ABP Waveforms\n",
        "\n",
        "Here, we present an interactive CLI to predict the ABP waveform from PPG signal from the test data. Ground truth, prediction from approximation network and refinement network are presented, and a comparison is also demonstrated\n"
      ]
    },
    {
      "cell_type": "markdown",
      "metadata": {
        "id": "fHxmMNfno3U4"
      },
      "source": [
        "# Conling Repository"
      ]
    },
    {
      "cell_type": "code",
      "metadata": {
        "id": "xrTsiXfvo6bp",
        "colab": {
          "base_uri": "https://localhost:8080/"
        },
        "outputId": "b0aa9327-cf4d-480b-fe4e-50fbe3d69a57"
      },
      "source": [
        "!git clone https://github.com/atick-faisal/GRF-Synthesis-from-Motion-Trajectories.git"
      ],
      "execution_count": 5,
      "outputs": [
        {
          "output_type": "stream",
          "name": "stdout",
          "text": [
            "fatal: destination path 'GRF-Synthesis-from-Motion-Trajectories' already exists and is not an empty directory.\n"
          ]
        }
      ]
    },
    {
      "cell_type": "code",
      "metadata": {
        "id": "oCda5cmGpBUo",
        "colab": {
          "base_uri": "https://localhost:8080/"
        },
        "outputId": "6c798713-e033-41d6-e3d4-e233a76054cf"
      },
      "source": [
        "%cd /content/GRF-Synthesis-from-Motion-Trajectories/src/\n",
        "!ls"
      ],
      "execution_count": 6,
      "outputs": [
        {
          "output_type": "stream",
          "name": "stdout",
          "text": [
            "/content/GRF-Synthesis-from-Motion-Trajectories/src\n",
            "data.joblib  models  preprocessing  trained_models  training  visualization\n"
          ]
        }
      ]
    },
    {
      "cell_type": "markdown",
      "metadata": {
        "id": "tgW7r0C9TuZk"
      },
      "source": [
        "#Import Libraries"
      ]
    },
    {
      "cell_type": "code",
      "metadata": {
        "id": "eMhBhz1CrMb3"
      },
      "source": [
        "import os\n",
        "import h5py\n",
        "import scipy\n",
        "import random\n",
        "import pickle\n",
        "import joblib\n",
        "import numpy as np\n",
        "import pandas as pd\n",
        "import seaborn as sns\n",
        "import tensorflow as tf\n",
        "from tqdm import tqdm\n",
        "import scipy.io as sio\n",
        "import matplotlib.pyplot as plt\n",
        "from sklearn.metrics import mean_squared_error, median_absolute_error, mean_absolute_error\n",
        "from sklearn.metrics import classification_report, confusion_matrix\n",
        "from sklearn.model_selection import train_test_split\n",
        "from pathlib import Path"
      ],
      "execution_count": 7,
      "outputs": []
    },
    {
      "cell_type": "code",
      "metadata": {
        "id": "lFydrjV6TxCc"
      },
      "source": [
        "from models import UNet"
      ],
      "execution_count": 8,
      "outputs": []
    },
    {
      "cell_type": "code",
      "metadata": {
        "id": "03JA1kRfzoit"
      },
      "source": [
        "%matplotlib inline\n",
        "sns.set_style('white')"
      ],
      "execution_count": 9,
      "outputs": []
    },
    {
      "cell_type": "markdown",
      "metadata": {
        "id": "VyFBKZ1ddRuM"
      },
      "source": [
        "# End-to-End Pipeline - EEG Motion Artifact Correction using Deep Learning"
      ]
    },
    {
      "cell_type": "markdown",
      "metadata": {
        "id": "WOaiV66cCD6L"
      },
      "source": [
        "## Prepare Dataset - k-Fold Cross Validation"
      ]
    },
    {
      "cell_type": "code",
      "metadata": {
        "id": "olkAEm0y2rUp",
        "colab": {
          "base_uri": "https://localhost:8080/"
        },
        "outputId": "597ec24b-3f1f-4333-c83e-a4a517c97842"
      },
      "source": [
        "!gdown --id \"1TZLJbxHQzaEVMzoKgaMCmM46D31Uch4U\""
      ],
      "execution_count": 10,
      "outputs": [
        {
          "output_type": "stream",
          "name": "stdout",
          "text": [
            "Downloading...\n",
            "From: https://drive.google.com/uc?id=1TZLJbxHQzaEVMzoKgaMCmM46D31Uch4U\n",
            "To: /content/GRF-Synthesis-from-Motion-Trajectories/src/data.joblib\n",
            "100% 561M/561M [00:06<00:00, 84.1MB/s]\n"
          ]
        }
      ]
    },
    {
      "cell_type": "code",
      "metadata": {
        "id": "NLDwhb-xt3Y_",
        "colab": {
          "base_uri": "https://localhost:8080/"
        },
        "outputId": "c049520a-e53e-4d3c-c4c6-69705a3eae11"
      },
      "source": [
        "from sklearn.preprocessing import MinMaxScaler\n",
        "from sklearn.preprocessing import StandardScaler\n",
        "\n",
        "data = joblib.load('data.joblib')\n",
        "features = data['X']\n",
        "target = data['y']\n",
        "\n",
        "features_z = features[['fal_z', 'tam_z', 'fcc_z', 'fm1_z', 'fm2_z', 'fm5_z']]\n",
        "target_z = target[['fz']]\n",
        "\n",
        "feature_scaler_1 = StandardScaler()\n",
        "feature_scaler_2 = MinMaxScaler()\n",
        "feature_scaler_1.fit(features_z)\n",
        "features_z = feature_scaler_1.transform(features_z)\n",
        "feature_scaler_2.fit(features_z)\n",
        "features_z = feature_scaler_2.transform(features_z)\n",
        "\n",
        "target_scaler_1 = StandardScaler()\n",
        "target_scaler_2 = MinMaxScaler()\n",
        "target_scaler_1.fit(target_z)\n",
        "target_z = target_scaler_1.transform(target_z)\n",
        "target_scaler_2.fit(target_z)\n",
        "target_z = target_scaler_2.transform(target_z)\n",
        "\n",
        "X = features_z.reshape(-1, 1024, 6)\n",
        "y = target_z.reshape(-1, 1024, 1)\n",
        "\n",
        "print(X.shape)\n",
        "print(y.shape)"
      ],
      "execution_count": 11,
      "outputs": [
        {
          "output_type": "stream",
          "name": "stdout",
          "text": [
            "(1630, 1024, 6)\n",
            "(1630, 1024, 1)\n"
          ]
        }
      ]
    },
    {
      "cell_type": "code",
      "metadata": {
        "id": "biuhCFxEfDY2",
        "colab": {
          "base_uri": "https://localhost:8080/"
        },
        "outputId": "4efaac54-ff06-41fd-db79-1268438a4d5d"
      },
      "source": [
        "features_z.shape"
      ],
      "execution_count": 12,
      "outputs": [
        {
          "output_type": "execute_result",
          "data": {
            "text/plain": [
              "(1669120, 6)"
            ]
          },
          "metadata": {},
          "execution_count": 12
        }
      ]
    },
    {
      "cell_type": "code",
      "metadata": {
        "id": "4cnlxZkZJT-Q",
        "colab": {
          "base_uri": "https://localhost:8080/"
        },
        "outputId": "b38c0517-59c9-480a-c2ca-0900b344df3a"
      },
      "source": [
        "X_Train, X_Test, Y_Train, Y_Test = train_test_split(X, y, test_size=0.2, random_state=42)\n",
        "Y_Train = np.squeeze(Y_Train, axis=2)\n",
        "Y_Test = np.squeeze(Y_Test, axis=2)\n",
        "Y_Train.shape"
      ],
      "execution_count": 13,
      "outputs": [
        {
          "output_type": "execute_result",
          "data": {
            "text/plain": [
              "(1304, 1024)"
            ]
          },
          "metadata": {},
          "execution_count": 13
        }
      ]
    },
    {
      "cell_type": "markdown",
      "metadata": {
        "id": "_qTwozk_BS94"
      },
      "source": [
        "## Garbage Collector"
      ]
    },
    {
      "cell_type": "code",
      "metadata": {
        "id": "ch2jmn3jKKiH"
      },
      "source": [
        "# import gc #Garbage Collector\n",
        "# fl_Train = None\n",
        "# fl_Test = None\n",
        "# X_Test = None\n",
        "# X_Train = None\n",
        "# X_Val = None\n",
        "# Y_Test_BP = None\n",
        "# Y_Train_BP = None\n",
        "# Y_Test_ABP = None\n",
        "# Y_Train_ABP = None\n",
        "# SBP_Train = None\n",
        "# DBP_Train = None\n",
        "# gc.collect()"
      ],
      "execution_count": 14,
      "outputs": []
    },
    {
      "cell_type": "markdown",
      "metadata": {
        "id": "lu6KEu2yeikQ"
      },
      "source": [
        "## Segmentation Pipeline"
      ]
    },
    {
      "cell_type": "markdown",
      "metadata": {
        "id": "X_Ev2XlLwRkW"
      },
      "source": [
        "### Prepare Label"
      ]
    },
    {
      "cell_type": "markdown",
      "metadata": {
        "id": "ANawSmVbUkZs"
      },
      "source": [
        "Configurations"
      ]
    },
    {
      "cell_type": "code",
      "metadata": {
        "id": "3ps7RMbyR7pw"
      },
      "source": [
        "signal_length = 1024 # Length of each Segment\n",
        "model_depth = 3 # Number of Level in the CNN Model\n",
        "model_width = 64 # Width of the Initial Layer, subsequent layers start from here\n",
        "kernel_size = 3 # Size of the Kernels/Filter\n",
        "num_channel = 6 # Number of Channels in the Model\n",
        "D_S = 1 # Turn on Deep Supervision\n",
        "A_E = 0 # Turn on AutoEncoder Mode for Feature Extraction\n",
        "problem_type = 'Regression'\n",
        "output_nums = 1 # Number of Class for Classification Problems, always '1' for Regression Problems\n",
        "'''Only required if the AutoEncoder Mode is turned on'''\n",
        "feature_number = 1024 # Number of Features to be Extracted\n",
        "'''Only required for MultiResUNet'''\n",
        "alpha = 1 # Model Width Expansion Parameter"
      ],
      "execution_count": 15,
      "outputs": []
    },
    {
      "cell_type": "markdown",
      "metadata": {
        "id": "qdw2EGzA92pt"
      },
      "source": [
        "Prepare Dataset for Deep Supervision (if Activated)"
      ]
    },
    {
      "cell_type": "code",
      "metadata": {
        "id": "QWMEhQkaClZi"
      },
      "source": [
        "def prepareTrainDict(y, model_depth, signal_length, model_name):\n",
        "  def approximate(inp, w_len, signal_length):\n",
        "    op = np.zeros((len(inp),signal_length//w_len))\n",
        "    for i in range(0,signal_length,w_len):\n",
        "      try:\n",
        "        op[:,i//w_len] = np.mean(inp[:,i:i+w_len],axis=1)\n",
        "      except Exception as e:\n",
        "        print(e)\n",
        "        print(i)\n",
        "  \t\n",
        "    return op\n",
        "\n",
        "  out = {}\n",
        "  Y_Train_dict = {}\n",
        "  out['out'] = np.array(y)\n",
        "  Y_Train_dict['out'] = out['out']\n",
        "  for i in range(1, (model_depth+1)):\n",
        "    name = f'level{i}'\n",
        "    if ((model_name == 'UNet') or (model_name == 'MultiResUNet') or (model_name == 'FPN')):\n",
        "      out[name] = np.expand_dims(approximate(np.squeeze(y), 2**i, signal_length),axis = 2)\n",
        "    elif ((model_name == 'UNetE') or (model_name == 'UNetP') or (model_name == 'UNetPP')):\n",
        "      out[name] = np.expand_dims(approximate(np.squeeze(y), 2**0, signal_length),axis = 2)\n",
        "    Y_Train_dict[f'level{i}'] = out[f'level{i}']\n",
        "  \n",
        "  return out, Y_Train_dict"
      ],
      "execution_count": 16,
      "outputs": []
    },
    {
      "cell_type": "code",
      "metadata": {
        "id": "ZQM6mSM2zE3G"
      },
      "source": [
        "model_name = 'UNet' # UNet or UNetPP\n",
        "X_Train1 = X_Train\n",
        "X_Test1 = X_Test\n",
        "[Y_Train1, Y_Train_dict] = prepareTrainDict(Y_Train, model_depth, signal_length, model_name)\n",
        "[Y_Test1, Y_Test_dict] = prepareTrainDict(Y_Test, model_depth, signal_length, model_name)"
      ],
      "execution_count": 17,
      "outputs": []
    },
    {
      "cell_type": "code",
      "metadata": {
        "colab": {
          "base_uri": "https://localhost:8080/"
        },
        "id": "1k-OSEQ87CyB",
        "outputId": "e1f9d3b1-e6a1-4fa5-9735-471f26ef88d2"
      },
      "source": [
        "loss_weights = np.zeros(model_depth)\n",
        "\n",
        "for i in range(0, model_depth):\n",
        "   loss_weights[i] = 1-(i*0.1)\n",
        "   \n",
        "loss_weights"
      ],
      "execution_count": 18,
      "outputs": [
        {
          "output_type": "execute_result",
          "data": {
            "text/plain": [
              "array([1. , 0.9, 0.8])"
            ]
          },
          "metadata": {},
          "execution_count": 18
        }
      ]
    },
    {
      "cell_type": "markdown",
      "metadata": {
        "id": "tLWoX0CHeikZ"
      },
      "source": [
        "### Train Data"
      ]
    },
    {
      "cell_type": "markdown",
      "metadata": {
        "id": "_G9wCFl1986E"
      },
      "source": [
        "Build and Compile Model"
      ]
    },
    {
      "cell_type": "code",
      "metadata": {
        "id": "AgNmOBsctd4u"
      },
      "source": [
        "optimizer = tf.keras.optimizers.Adam(\n",
        "    learning_rate = 0.001\n",
        ")\n",
        "\n",
        "if D_S == 0:\n",
        "    # Build model for EEG Motion Artifact Removal - Deep Unet Architecture\n",
        "    # AutoEncoder should be set at 'FALSE' for the Deep U-net model for Signal Reconstruction\n",
        "    # D_S = 0, A_E = 0\n",
        "    EEGIMU_Network = UNet(signal_length, model_depth, num_channel, model_width, kernel_size, problem_type=problem_type, output_nums=output_nums, ds=D_S, ae=A_E, alpha=alpha).UNet()\n",
        "    EEGIMU_Network.compile(loss= 'mean_absolute_error', optimizer= optimizer, metrics= ['mean_squared_error','accuracy'])\n",
        "    #\n",
        "elif D_S == 1:\n",
        "    # Build model for EEG Motion Artifact Removal - Deep Unet Architecture\n",
        "    # AutoEncoder should be set at 'FALSE' for the Deep U-net model for Signal Reconstruction\n",
        "    # D_S = 1, A_E = 0\n",
        "    EEGIMU_Network = UNet(signal_length, model_depth, num_channel, model_width, kernel_size, problem_type=problem_type, output_nums=output_nums, ds=D_S, ae=A_E, alpha=alpha).UNet()\n",
        "    EEGIMU_Network.compile(loss= 'mean_absolute_error', optimizer= optimizer, metrics= ['mean_squared_error'], loss_weights= loss_weights)"
      ],
      "execution_count": 19,
      "outputs": []
    },
    {
      "cell_type": "markdown",
      "metadata": {
        "id": "weUOLRyW9_TE"
      },
      "source": [
        "Import Trained Weights for a Headstart"
      ]
    },
    {
      "cell_type": "code",
      "metadata": {
        "id": "PEhSkrAG3SXe"
      },
      "source": [
        "# if D_S == 0:\n",
        "#     EEGIMU_Network_Network.load_weights('trained_models/'+model_name+'_'+str(length)+'_'+str(model_width)+'_'+str(num_channel)+'_'+str(D_S)+'.h5') # Load Previously Trained Weights for Transfer Learning\n",
        "# elif D_S == 1:\n",
        "#     EEGIMU_Network_Network.load_weights('trained_models/'+model_name+'_'+str(length)+'_'+str(model_width)+'_'+str(num_channel)+'_'+str(D_S)+'.h5') # Load Previously Trained Weights for Transfer Learning"
      ],
      "execution_count": 20,
      "outputs": []
    },
    {
      "cell_type": "markdown",
      "metadata": {
        "id": "17aVX6jw-E8j"
      },
      "source": [
        "Train Model"
      ]
    },
    {
      "cell_type": "code",
      "metadata": {
        "id": "gYmCDIxAbdT1",
        "colab": {
          "base_uri": "https://localhost:8080/"
        },
        "outputId": "18a61101-dc5b-4487-f21a-d521f93a6962"
      },
      "source": [
        "if D_S == 0:\n",
        "    callbacks = [tf.keras.callbacks.EarlyStopping(monitor='val_loss', patience=30, mode='min'), \n",
        "                 tf.keras.callbacks.ModelCheckpoint('trained_models/'+model_name+'_'+str(signal_length)+'_'+str(model_width)+'_'+str(model_depth)+'_'+str(num_channel)+'_'+str(D_S)+'.h5', verbose=1, monitor='val_loss', save_best_only=True, mode='min')]\n",
        "    history = EEGIMU_Network.fit(X_Train, Y_Train, epochs=300, batch_size=64, verbose=1, validation_split=0.2, shuffle=True, callbacks=callbacks)\n",
        "    #\n",
        "elif D_S == 1:\n",
        "    callbacks = [tf.keras.callbacks.EarlyStopping(monitor='val_out_loss', patience=30, mode='min'), \n",
        "                 tf.keras.callbacks.ModelCheckpoint('trained_models/'+model_name+'_'+str(signal_length)+'_'+str(model_width)+'_'+str(model_depth)+'_'+str(num_channel)+'_'+str(D_S)+'.h5', verbose=1, monitor='val_out_loss', save_best_only=True, mode='min')]\n",
        "    history = EEGIMU_Network.fit(X_Train1, Y_Train_dict, epochs=300, batch_size=64, verbose=1, validation_split=0.2, shuffle=True, callbacks=callbacks)"
      ],
      "execution_count": 21,
      "outputs": [
        {
          "output_type": "stream",
          "name": "stdout",
          "text": [
            "Epoch 1/300\n",
            "17/17 [==============================] - 16s 447ms/step - loss: 1.3683 - out_loss: 0.2430 - level1_loss: 0.3212 - level2_loss: 0.3212 - level3_loss: 0.6349 - out_mean_squared_error: 0.1892 - level1_mean_squared_error: 0.3637 - level2_mean_squared_error: 0.5452 - level3_mean_squared_error: 1.6776 - val_loss: 0.8371 - val_out_loss: 0.2347 - val_level1_loss: 0.2255 - val_level2_loss: 0.2447 - val_level3_loss: 0.2253 - val_out_mean_squared_error: 0.1032 - val_level1_mean_squared_error: 0.0991 - val_level2_mean_squared_error: 0.1163 - val_level3_mean_squared_error: 0.1046\n",
            "\n",
            "Epoch 00001: val_out_loss improved from inf to 0.23467, saving model to trained_models/UNet_1024_64_3_6_1.h5\n",
            "Epoch 2/300\n",
            "17/17 [==============================] - 5s 307ms/step - loss: 0.4005 - out_loss: 0.1077 - level1_loss: 0.1103 - level2_loss: 0.1070 - level3_loss: 0.1200 - out_mean_squared_error: 0.0298 - level1_mean_squared_error: 0.0324 - level2_mean_squared_error: 0.0303 - level3_mean_squared_error: 0.0500 - val_loss: 0.8268 - val_out_loss: 0.2239 - val_level1_loss: 0.2221 - val_level2_loss: 0.2521 - val_level3_loss: 0.2206 - val_out_mean_squared_error: 0.0755 - val_level1_mean_squared_error: 0.0906 - val_level2_mean_squared_error: 0.1192 - val_level3_mean_squared_error: 0.0937\n",
            "\n",
            "Epoch 00002: val_out_loss improved from 0.23467 to 0.22385, saving model to trained_models/UNet_1024_64_3_6_1.h5\n",
            "Epoch 3/300\n",
            "17/17 [==============================] - 5s 310ms/step - loss: 0.3479 - out_loss: 0.0957 - level1_loss: 0.0968 - level2_loss: 0.1013 - level3_loss: 0.0927 - out_mean_squared_error: 0.0250 - level1_mean_squared_error: 0.0252 - level2_mean_squared_error: 0.0258 - level3_mean_squared_error: 0.0247 - val_loss: 0.7987 - val_out_loss: 0.2189 - val_level1_loss: 0.2214 - val_level2_loss: 0.2238 - val_level3_loss: 0.2233 - val_out_mean_squared_error: 0.0634 - val_level1_mean_squared_error: 0.0875 - val_level2_mean_squared_error: 0.1025 - val_level3_mean_squared_error: 0.0992\n",
            "\n",
            "Epoch 00003: val_out_loss improved from 0.22385 to 0.21895, saving model to trained_models/UNet_1024_64_3_6_1.h5\n",
            "Epoch 4/300\n",
            "17/17 [==============================] - 5s 309ms/step - loss: 0.3276 - out_loss: 0.0948 - level1_loss: 0.0914 - level2_loss: 0.0914 - level3_loss: 0.0864 - out_mean_squared_error: 0.0247 - level1_mean_squared_error: 0.0238 - level2_mean_squared_error: 0.0231 - level3_mean_squared_error: 0.0218 - val_loss: 0.7871 - val_out_loss: 0.2147 - val_level1_loss: 0.2199 - val_level2_loss: 0.2187 - val_level3_loss: 0.2212 - val_out_mean_squared_error: 0.0563 - val_level1_mean_squared_error: 0.0779 - val_level2_mean_squared_error: 0.0797 - val_level3_mean_squared_error: 0.0897\n",
            "\n",
            "Epoch 00004: val_out_loss improved from 0.21895 to 0.21470, saving model to trained_models/UNet_1024_64_3_6_1.h5\n",
            "Epoch 5/300\n",
            "17/17 [==============================] - 5s 309ms/step - loss: 0.3268 - out_loss: 0.0982 - level1_loss: 0.0898 - level2_loss: 0.0922 - level3_loss: 0.0830 - out_mean_squared_error: 0.0251 - level1_mean_squared_error: 0.0226 - level2_mean_squared_error: 0.0233 - level3_mean_squared_error: 0.0206 - val_loss: 0.7812 - val_out_loss: 0.2151 - val_level1_loss: 0.2190 - val_level2_loss: 0.2162 - val_level3_loss: 0.2178 - val_out_mean_squared_error: 0.0543 - val_level1_mean_squared_error: 0.0740 - val_level2_mean_squared_error: 0.0697 - val_level3_mean_squared_error: 0.0781\n",
            "\n",
            "Epoch 00005: val_out_loss did not improve from 0.21470\n",
            "Epoch 6/300\n",
            "17/17 [==============================] - 5s 311ms/step - loss: 0.3206 - out_loss: 0.0955 - level1_loss: 0.0886 - level2_loss: 0.0856 - level3_loss: 0.0866 - out_mean_squared_error: 0.0242 - level1_mean_squared_error: 0.0225 - level2_mean_squared_error: 0.0223 - level3_mean_squared_error: 0.0205 - val_loss: 0.7837 - val_out_loss: 0.2154 - val_level1_loss: 0.2201 - val_level2_loss: 0.2179 - val_level3_loss: 0.2174 - val_out_mean_squared_error: 0.0540 - val_level1_mean_squared_error: 0.0630 - val_level2_mean_squared_error: 0.0621 - val_level3_mean_squared_error: 0.0643\n",
            "\n",
            "Epoch 00006: val_out_loss did not improve from 0.21470\n",
            "Epoch 7/300\n",
            "17/17 [==============================] - 6s 328ms/step - loss: 0.3153 - out_loss: 0.0925 - level1_loss: 0.0861 - level2_loss: 0.0837 - level3_loss: 0.0881 - out_mean_squared_error: 0.0235 - level1_mean_squared_error: 0.0219 - level2_mean_squared_error: 0.0217 - level3_mean_squared_error: 0.0213 - val_loss: 0.7896 - val_out_loss: 0.2171 - val_level1_loss: 0.2217 - val_level2_loss: 0.2203 - val_level3_loss: 0.2183 - val_out_mean_squared_error: 0.0548 - val_level1_mean_squared_error: 0.0615 - val_level2_mean_squared_error: 0.0595 - val_level3_mean_squared_error: 0.0614\n",
            "\n",
            "Epoch 00007: val_out_loss did not improve from 0.21470\n",
            "Epoch 8/300\n",
            "17/17 [==============================] - 5s 312ms/step - loss: 0.3196 - out_loss: 0.0912 - level1_loss: 0.0854 - level2_loss: 0.0883 - level3_loss: 0.0902 - out_mean_squared_error: 0.0242 - level1_mean_squared_error: 0.0220 - level2_mean_squared_error: 0.0213 - level3_mean_squared_error: 0.0223 - val_loss: 0.8013 - val_out_loss: 0.2202 - val_level1_loss: 0.2265 - val_level2_loss: 0.2234 - val_level3_loss: 0.2202 - val_out_mean_squared_error: 0.0568 - val_level1_mean_squared_error: 0.0603 - val_level2_mean_squared_error: 0.0586 - val_level3_mean_squared_error: 0.0608\n",
            "\n",
            "Epoch 00008: val_out_loss did not improve from 0.21470\n",
            "Epoch 9/300\n",
            "17/17 [==============================] - 5s 310ms/step - loss: 0.3100 - out_loss: 0.0886 - level1_loss: 0.0890 - level2_loss: 0.0830 - level3_loss: 0.0838 - out_mean_squared_error: 0.0227 - level1_mean_squared_error: 0.0229 - level2_mean_squared_error: 0.0202 - level3_mean_squared_error: 0.0199 - val_loss: 0.8326 - val_out_loss: 0.2265 - val_level1_loss: 0.2384 - val_level2_loss: 0.2334 - val_level3_loss: 0.2267 - val_out_mean_squared_error: 0.0618 - val_level1_mean_squared_error: 0.0661 - val_level2_mean_squared_error: 0.0632 - val_level3_mean_squared_error: 0.0603\n",
            "\n",
            "Epoch 00009: val_out_loss did not improve from 0.21470\n",
            "Epoch 10/300\n",
            "17/17 [==============================] - 5s 313ms/step - loss: 0.3020 - out_loss: 0.0862 - level1_loss: 0.0845 - level2_loss: 0.0835 - level3_loss: 0.0814 - out_mean_squared_error: 0.0215 - level1_mean_squared_error: 0.0217 - level2_mean_squared_error: 0.0210 - level3_mean_squared_error: 0.0201 - val_loss: 0.8798 - val_out_loss: 0.2284 - val_level1_loss: 0.2503 - val_level2_loss: 0.2523 - val_level3_loss: 0.2466 - val_out_mean_squared_error: 0.0640 - val_level1_mean_squared_error: 0.0761 - val_level2_mean_squared_error: 0.0809 - val_level3_mean_squared_error: 0.0757\n",
            "\n",
            "Epoch 00010: val_out_loss did not improve from 0.21470\n",
            "Epoch 11/300\n",
            "17/17 [==============================] - 5s 312ms/step - loss: 0.3022 - out_loss: 0.0903 - level1_loss: 0.0826 - level2_loss: 0.0818 - level3_loss: 0.0810 - out_mean_squared_error: 0.0216 - level1_mean_squared_error: 0.0208 - level2_mean_squared_error: 0.0199 - level3_mean_squared_error: 0.0196 - val_loss: 0.8991 - val_out_loss: 0.2372 - val_level1_loss: 0.2529 - val_level2_loss: 0.2545 - val_level3_loss: 0.2544 - val_out_mean_squared_error: 0.0714 - val_level1_mean_squared_error: 0.0790 - val_level2_mean_squared_error: 0.0825 - val_level3_mean_squared_error: 0.0835\n",
            "\n",
            "Epoch 00011: val_out_loss did not improve from 0.21470\n",
            "Epoch 12/300\n",
            "17/17 [==============================] - 5s 314ms/step - loss: 0.3005 - out_loss: 0.0871 - level1_loss: 0.0791 - level2_loss: 0.0791 - level3_loss: 0.0887 - out_mean_squared_error: 0.0218 - level1_mean_squared_error: 0.0196 - level2_mean_squared_error: 0.0196 - level3_mean_squared_error: 0.0233 - val_loss: 0.8963 - val_out_loss: 0.2414 - val_level1_loss: 0.2527 - val_level2_loss: 0.2482 - val_level3_loss: 0.2537 - val_out_mean_squared_error: 0.0754 - val_level1_mean_squared_error: 0.0797 - val_level2_mean_squared_error: 0.0756 - val_level3_mean_squared_error: 0.0822\n",
            "\n",
            "Epoch 00012: val_out_loss did not improve from 0.21470\n",
            "Epoch 13/300\n",
            "17/17 [==============================] - 5s 314ms/step - loss: 0.2938 - out_loss: 0.0854 - level1_loss: 0.0782 - level2_loss: 0.0764 - level3_loss: 0.0865 - out_mean_squared_error: 0.0199 - level1_mean_squared_error: 0.0196 - level2_mean_squared_error: 0.0186 - level3_mean_squared_error: 0.0216 - val_loss: 0.8928 - val_out_loss: 0.2482 - val_level1_loss: 0.2487 - val_level2_loss: 0.2438 - val_level3_loss: 0.2513 - val_out_mean_squared_error: 0.0810 - val_level1_mean_squared_error: 0.0768 - val_level2_mean_squared_error: 0.0735 - val_level3_mean_squared_error: 0.0813\n",
            "\n",
            "Epoch 00013: val_out_loss did not improve from 0.21470\n",
            "Epoch 14/300\n",
            "17/17 [==============================] - 5s 314ms/step - loss: 0.2826 - out_loss: 0.0795 - level1_loss: 0.0782 - level2_loss: 0.0775 - level3_loss: 0.0788 - out_mean_squared_error: 0.0192 - level1_mean_squared_error: 0.0192 - level2_mean_squared_error: 0.0189 - level3_mean_squared_error: 0.0192 - val_loss: 0.9025 - val_out_loss: 0.2423 - val_level1_loss: 0.2479 - val_level2_loss: 0.2526 - val_level3_loss: 0.2600 - val_out_mean_squared_error: 0.0762 - val_level1_mean_squared_error: 0.0747 - val_level2_mean_squared_error: 0.0814 - val_level3_mean_squared_error: 0.0901\n",
            "\n",
            "Epoch 00014: val_out_loss did not improve from 0.21470\n",
            "Epoch 15/300\n",
            "17/17 [==============================] - 5s 313ms/step - loss: 0.2784 - out_loss: 0.0784 - level1_loss: 0.0766 - level2_loss: 0.0770 - level3_loss: 0.0774 - out_mean_squared_error: 0.0188 - level1_mean_squared_error: 0.0187 - level2_mean_squared_error: 0.0189 - level3_mean_squared_error: 0.0193 - val_loss: 0.9198 - val_out_loss: 0.2459 - val_level1_loss: 0.2575 - val_level2_loss: 0.2564 - val_level3_loss: 0.2622 - val_out_mean_squared_error: 0.0804 - val_level1_mean_squared_error: 0.0862 - val_level2_mean_squared_error: 0.0857 - val_level3_mean_squared_error: 0.0923\n",
            "\n",
            "Epoch 00015: val_out_loss did not improve from 0.21470\n",
            "Epoch 16/300\n",
            "17/17 [==============================] - 5s 313ms/step - loss: 0.2819 - out_loss: 0.0749 - level1_loss: 0.0810 - level2_loss: 0.0745 - level3_loss: 0.0828 - out_mean_squared_error: 0.0183 - level1_mean_squared_error: 0.0215 - level2_mean_squared_error: 0.0184 - level3_mean_squared_error: 0.0227 - val_loss: 0.8940 - val_out_loss: 0.2494 - val_level1_loss: 0.2450 - val_level2_loss: 0.2396 - val_level3_loss: 0.2592 - val_out_mean_squared_error: 0.0838 - val_level1_mean_squared_error: 0.0753 - val_level2_mean_squared_error: 0.0710 - val_level3_mean_squared_error: 0.0918\n",
            "\n",
            "Epoch 00016: val_out_loss did not improve from 0.21470\n",
            "Epoch 17/300\n",
            "17/17 [==============================] - 5s 314ms/step - loss: 0.2792 - out_loss: 0.0771 - level1_loss: 0.0759 - level2_loss: 0.0754 - level3_loss: 0.0819 - out_mean_squared_error: 0.0187 - level1_mean_squared_error: 0.0190 - level2_mean_squared_error: 0.0184 - level3_mean_squared_error: 0.0208 - val_loss: 0.8993 - val_out_loss: 0.2550 - val_level1_loss: 0.2478 - val_level2_loss: 0.2449 - val_level3_loss: 0.2516 - val_out_mean_squared_error: 0.0896 - val_level1_mean_squared_error: 0.0789 - val_level2_mean_squared_error: 0.0769 - val_level3_mean_squared_error: 0.0838\n",
            "\n",
            "Epoch 00017: val_out_loss did not improve from 0.21470\n",
            "Epoch 18/300\n",
            "17/17 [==============================] - 5s 313ms/step - loss: 0.2684 - out_loss: 0.0749 - level1_loss: 0.0739 - level2_loss: 0.0728 - level3_loss: 0.0766 - out_mean_squared_error: 0.0179 - level1_mean_squared_error: 0.0178 - level2_mean_squared_error: 0.0175 - level3_mean_squared_error: 0.0187 - val_loss: 0.9067 - val_out_loss: 0.2555 - val_level1_loss: 0.2476 - val_level2_loss: 0.2460 - val_level3_loss: 0.2584 - val_out_mean_squared_error: 0.0900 - val_level1_mean_squared_error: 0.0794 - val_level2_mean_squared_error: 0.0803 - val_level3_mean_squared_error: 0.0930\n",
            "\n",
            "Epoch 00018: val_out_loss did not improve from 0.21470\n",
            "Epoch 19/300\n",
            "17/17 [==============================] - 5s 313ms/step - loss: 0.2683 - out_loss: 0.0762 - level1_loss: 0.0725 - level2_loss: 0.0736 - level3_loss: 0.0758 - out_mean_squared_error: 0.0183 - level1_mean_squared_error: 0.0178 - level2_mean_squared_error: 0.0180 - level3_mean_squared_error: 0.0188 - val_loss: 0.9019 - val_out_loss: 0.2442 - val_level1_loss: 0.2454 - val_level2_loss: 0.2456 - val_level3_loss: 0.2670 - val_out_mean_squared_error: 0.0819 - val_level1_mean_squared_error: 0.0784 - val_level2_mean_squared_error: 0.0809 - val_level3_mean_squared_error: 0.1019\n",
            "\n",
            "Epoch 00019: val_out_loss did not improve from 0.21470\n",
            "Epoch 20/300\n",
            "17/17 [==============================] - 5s 314ms/step - loss: 0.2703 - out_loss: 0.0749 - level1_loss: 0.0738 - level2_loss: 0.0748 - level3_loss: 0.0768 - out_mean_squared_error: 0.0180 - level1_mean_squared_error: 0.0182 - level2_mean_squared_error: 0.0182 - level3_mean_squared_error: 0.0184 - val_loss: 0.8613 - val_out_loss: 0.2429 - val_level1_loss: 0.2402 - val_level2_loss: 0.2366 - val_level3_loss: 0.2374 - val_out_mean_squared_error: 0.0810 - val_level1_mean_squared_error: 0.0745 - val_level2_mean_squared_error: 0.0741 - val_level3_mean_squared_error: 0.0757\n",
            "\n",
            "Epoch 00020: val_out_loss did not improve from 0.21470\n",
            "Epoch 21/300\n",
            "17/17 [==============================] - 5s 313ms/step - loss: 0.2696 - out_loss: 0.0739 - level1_loss: 0.0733 - level2_loss: 0.0756 - level3_loss: 0.0769 - out_mean_squared_error: 0.0180 - level1_mean_squared_error: 0.0178 - level2_mean_squared_error: 0.0183 - level3_mean_squared_error: 0.0186 - val_loss: 0.8755 - val_out_loss: 0.2452 - val_level1_loss: 0.2405 - val_level2_loss: 0.2427 - val_level3_loss: 0.2444 - val_out_mean_squared_error: 0.0833 - val_level1_mean_squared_error: 0.0747 - val_level2_mean_squared_error: 0.0797 - val_level3_mean_squared_error: 0.0816\n",
            "\n",
            "Epoch 00021: val_out_loss did not improve from 0.21470\n",
            "Epoch 22/300\n",
            "17/17 [==============================] - 5s 314ms/step - loss: 0.2648 - out_loss: 0.0731 - level1_loss: 0.0726 - level2_loss: 0.0727 - level3_loss: 0.0758 - out_mean_squared_error: 0.0180 - level1_mean_squared_error: 0.0179 - level2_mean_squared_error: 0.0182 - level3_mean_squared_error: 0.0184 - val_loss: 0.8489 - val_out_loss: 0.2329 - val_level1_loss: 0.2320 - val_level2_loss: 0.2325 - val_level3_loss: 0.2459 - val_out_mean_squared_error: 0.0750 - val_level1_mean_squared_error: 0.0702 - val_level2_mean_squared_error: 0.0729 - val_level3_mean_squared_error: 0.0853\n",
            "\n",
            "Epoch 00022: val_out_loss did not improve from 0.21470\n",
            "Epoch 23/300\n",
            "17/17 [==============================] - 5s 313ms/step - loss: 0.2652 - out_loss: 0.0728 - level1_loss: 0.0725 - level2_loss: 0.0735 - level3_loss: 0.0760 - out_mean_squared_error: 0.0176 - level1_mean_squared_error: 0.0175 - level2_mean_squared_error: 0.0180 - level3_mean_squared_error: 0.0182 - val_loss: 0.8420 - val_out_loss: 0.2368 - val_level1_loss: 0.2320 - val_level2_loss: 0.2368 - val_level3_loss: 0.2299 - val_out_mean_squared_error: 0.0791 - val_level1_mean_squared_error: 0.0728 - val_level2_mean_squared_error: 0.0784 - val_level3_mean_squared_error: 0.0722\n",
            "\n",
            "Epoch 00023: val_out_loss did not improve from 0.21470\n",
            "Epoch 24/300\n",
            "17/17 [==============================] - 5s 314ms/step - loss: 0.2618 - out_loss: 0.0722 - level1_loss: 0.0709 - level2_loss: 0.0700 - level3_loss: 0.0778 - out_mean_squared_error: 0.0173 - level1_mean_squared_error: 0.0173 - level2_mean_squared_error: 0.0173 - level3_mean_squared_error: 0.0189 - val_loss: 0.8002 - val_out_loss: 0.2250 - val_level1_loss: 0.2227 - val_level2_loss: 0.2217 - val_level3_loss: 0.2198 - val_out_mean_squared_error: 0.0720 - val_level1_mean_squared_error: 0.0672 - val_level2_mean_squared_error: 0.0696 - val_level3_mean_squared_error: 0.0681\n",
            "\n",
            "Epoch 00024: val_out_loss did not improve from 0.21470\n",
            "Epoch 25/300\n",
            "17/17 [==============================] - 5s 313ms/step - loss: 0.2543 - out_loss: 0.0686 - level1_loss: 0.0687 - level2_loss: 0.0716 - level3_loss: 0.0736 - out_mean_squared_error: 0.0167 - level1_mean_squared_error: 0.0169 - level2_mean_squared_error: 0.0173 - level3_mean_squared_error: 0.0179 - val_loss: 0.7441 - val_out_loss: 0.2141 - val_level1_loss: 0.2156 - val_level2_loss: 0.2034 - val_level3_loss: 0.1937 - val_out_mean_squared_error: 0.0677 - val_level1_mean_squared_error: 0.0672 - val_level2_mean_squared_error: 0.0604 - val_level3_mean_squared_error: 0.0529\n",
            "\n",
            "Epoch 00025: val_out_loss improved from 0.21470 to 0.21412, saving model to trained_models/UNet_1024_64_3_6_1.h5\n",
            "Epoch 26/300\n",
            "17/17 [==============================] - 5s 312ms/step - loss: 0.2547 - out_loss: 0.0690 - level1_loss: 0.0682 - level2_loss: 0.0717 - level3_loss: 0.0741 - out_mean_squared_error: 0.0167 - level1_mean_squared_error: 0.0166 - level2_mean_squared_error: 0.0174 - level3_mean_squared_error: 0.0178 - val_loss: 0.6467 - val_out_loss: 0.1893 - val_level1_loss: 0.1864 - val_level2_loss: 0.1727 - val_level3_loss: 0.1701 - val_out_mean_squared_error: 0.0549 - val_level1_mean_squared_error: 0.0516 - val_level2_mean_squared_error: 0.0436 - val_level3_mean_squared_error: 0.0417\n",
            "\n",
            "Epoch 00026: val_out_loss improved from 0.21412 to 0.18931, saving model to trained_models/UNet_1024_64_3_6_1.h5\n",
            "Epoch 27/300\n",
            "17/17 [==============================] - 5s 314ms/step - loss: 0.2487 - out_loss: 0.0676 - level1_loss: 0.0665 - level2_loss: 0.0701 - level3_loss: 0.0722 - out_mean_squared_error: 0.0164 - level1_mean_squared_error: 0.0161 - level2_mean_squared_error: 0.0170 - level3_mean_squared_error: 0.0175 - val_loss: 0.6052 - val_out_loss: 0.1764 - val_level1_loss: 0.1727 - val_level2_loss: 0.1576 - val_level3_loss: 0.1657 - val_out_mean_squared_error: 0.0540 - val_level1_mean_squared_error: 0.0494 - val_level2_mean_squared_error: 0.0429 - val_level3_mean_squared_error: 0.0460\n",
            "\n",
            "Epoch 00027: val_out_loss improved from 0.18931 to 0.17642, saving model to trained_models/UNet_1024_64_3_6_1.h5\n",
            "Epoch 28/300\n",
            "17/17 [==============================] - 5s 313ms/step - loss: 0.2478 - out_loss: 0.0678 - level1_loss: 0.0673 - level2_loss: 0.0681 - level3_loss: 0.0721 - out_mean_squared_error: 0.0163 - level1_mean_squared_error: 0.0165 - level2_mean_squared_error: 0.0164 - level3_mean_squared_error: 0.0171 - val_loss: 0.5810 - val_out_loss: 0.1639 - val_level1_loss: 0.1632 - val_level2_loss: 0.1550 - val_level3_loss: 0.1635 - val_out_mean_squared_error: 0.0487 - val_level1_mean_squared_error: 0.0470 - val_level2_mean_squared_error: 0.0419 - val_level3_mean_squared_error: 0.0453\n",
            "\n",
            "Epoch 00028: val_out_loss improved from 0.17642 to 0.16395, saving model to trained_models/UNet_1024_64_3_6_1.h5\n",
            "Epoch 29/300\n",
            "17/17 [==============================] - 5s 312ms/step - loss: 0.2479 - out_loss: 0.0679 - level1_loss: 0.0669 - level2_loss: 0.0686 - level3_loss: 0.0721 - out_mean_squared_error: 0.0164 - level1_mean_squared_error: 0.0162 - level2_mean_squared_error: 0.0161 - level3_mean_squared_error: 0.0170 - val_loss: 0.4224 - val_out_loss: 0.1226 - val_level1_loss: 0.1176 - val_level2_loss: 0.1130 - val_level3_loss: 0.1160 - val_out_mean_squared_error: 0.0325 - val_level1_mean_squared_error: 0.0305 - val_level2_mean_squared_error: 0.0274 - val_level3_mean_squared_error: 0.0267\n",
            "\n",
            "Epoch 00029: val_out_loss improved from 0.16395 to 0.12262, saving model to trained_models/UNet_1024_64_3_6_1.h5\n",
            "Epoch 30/300\n",
            "17/17 [==============================] - 5s 314ms/step - loss: 0.2475 - out_loss: 0.0661 - level1_loss: 0.0669 - level2_loss: 0.0694 - level3_loss: 0.0726 - out_mean_squared_error: 0.0162 - level1_mean_squared_error: 0.0168 - level2_mean_squared_error: 0.0166 - level3_mean_squared_error: 0.0169 - val_loss: 0.4286 - val_out_loss: 0.1242 - val_level1_loss: 0.1208 - val_level2_loss: 0.1151 - val_level3_loss: 0.1161 - val_out_mean_squared_error: 0.0333 - val_level1_mean_squared_error: 0.0306 - val_level2_mean_squared_error: 0.0286 - val_level3_mean_squared_error: 0.0267\n",
            "\n",
            "Epoch 00030: val_out_loss did not improve from 0.12262\n",
            "Epoch 31/300\n",
            "17/17 [==============================] - 6s 331ms/step - loss: 0.2448 - out_loss: 0.0661 - level1_loss: 0.0653 - level2_loss: 0.0671 - level3_loss: 0.0734 - out_mean_squared_error: 0.0160 - level1_mean_squared_error: 0.0158 - level2_mean_squared_error: 0.0163 - level3_mean_squared_error: 0.0179 - val_loss: 0.4433 - val_out_loss: 0.1236 - val_level1_loss: 0.1258 - val_level2_loss: 0.1193 - val_level3_loss: 0.1239 - val_out_mean_squared_error: 0.0334 - val_level1_mean_squared_error: 0.0316 - val_level2_mean_squared_error: 0.0287 - val_level3_mean_squared_error: 0.0314\n",
            "\n",
            "Epoch 00031: val_out_loss did not improve from 0.12262\n",
            "Epoch 32/300\n",
            "17/17 [==============================] - 5s 312ms/step - loss: 0.2422 - out_loss: 0.0651 - level1_loss: 0.0662 - level2_loss: 0.0670 - level3_loss: 0.0708 - out_mean_squared_error: 0.0157 - level1_mean_squared_error: 0.0156 - level2_mean_squared_error: 0.0158 - level3_mean_squared_error: 0.0167 - val_loss: 0.4015 - val_out_loss: 0.1148 - val_level1_loss: 0.1089 - val_level2_loss: 0.1063 - val_level3_loss: 0.1160 - val_out_mean_squared_error: 0.0308 - val_level1_mean_squared_error: 0.0281 - val_level2_mean_squared_error: 0.0263 - val_level3_mean_squared_error: 0.0300\n",
            "\n",
            "Epoch 00032: val_out_loss improved from 0.12262 to 0.11481, saving model to trained_models/UNet_1024_64_3_6_1.h5\n",
            "Epoch 33/300\n",
            "17/17 [==============================] - 5s 313ms/step - loss: 0.2381 - out_loss: 0.0649 - level1_loss: 0.0648 - level2_loss: 0.0657 - level3_loss: 0.0692 - out_mean_squared_error: 0.0159 - level1_mean_squared_error: 0.0158 - level2_mean_squared_error: 0.0158 - level3_mean_squared_error: 0.0169 - val_loss: 0.3336 - val_out_loss: 0.0922 - val_level1_loss: 0.0893 - val_level2_loss: 0.0896 - val_level3_loss: 0.0996 - val_out_mean_squared_error: 0.0229 - val_level1_mean_squared_error: 0.0220 - val_level2_mean_squared_error: 0.0217 - val_level3_mean_squared_error: 0.0232\n",
            "\n",
            "Epoch 00033: val_out_loss improved from 0.11481 to 0.09215, saving model to trained_models/UNet_1024_64_3_6_1.h5\n",
            "Epoch 34/300\n",
            "17/17 [==============================] - 5s 313ms/step - loss: 0.2395 - out_loss: 0.0652 - level1_loss: 0.0641 - level2_loss: 0.0657 - level3_loss: 0.0712 - out_mean_squared_error: 0.0159 - level1_mean_squared_error: 0.0158 - level2_mean_squared_error: 0.0159 - level3_mean_squared_error: 0.0173 - val_loss: 0.3373 - val_out_loss: 0.0934 - val_level1_loss: 0.0909 - val_level2_loss: 0.0912 - val_level3_loss: 0.0993 - val_out_mean_squared_error: 0.0232 - val_level1_mean_squared_error: 0.0220 - val_level2_mean_squared_error: 0.0213 - val_level3_mean_squared_error: 0.0227\n",
            "\n",
            "Epoch 00034: val_out_loss did not improve from 0.09215\n",
            "Epoch 35/300\n",
            "17/17 [==============================] - 5s 313ms/step - loss: 0.2412 - out_loss: 0.0647 - level1_loss: 0.0653 - level2_loss: 0.0681 - level3_loss: 0.0700 - out_mean_squared_error: 0.0156 - level1_mean_squared_error: 0.0160 - level2_mean_squared_error: 0.0168 - level3_mean_squared_error: 0.0168 - val_loss: 0.3332 - val_out_loss: 0.0886 - val_level1_loss: 0.0870 - val_level2_loss: 0.0924 - val_level3_loss: 0.1021 - val_out_mean_squared_error: 0.0223 - val_level1_mean_squared_error: 0.0216 - val_level2_mean_squared_error: 0.0225 - val_level3_mean_squared_error: 0.0232\n",
            "\n",
            "Epoch 00035: val_out_loss improved from 0.09215 to 0.08861, saving model to trained_models/UNet_1024_64_3_6_1.h5\n",
            "Epoch 36/300\n",
            "17/17 [==============================] - 5s 315ms/step - loss: 0.2463 - out_loss: 0.0651 - level1_loss: 0.0657 - level2_loss: 0.0670 - level3_loss: 0.0759 - out_mean_squared_error: 0.0159 - level1_mean_squared_error: 0.0160 - level2_mean_squared_error: 0.0162 - level3_mean_squared_error: 0.0180 - val_loss: 0.3157 - val_out_loss: 0.0870 - val_level1_loss: 0.0840 - val_level2_loss: 0.0867 - val_level3_loss: 0.0930 - val_out_mean_squared_error: 0.0218 - val_level1_mean_squared_error: 0.0210 - val_level2_mean_squared_error: 0.0203 - val_level3_mean_squared_error: 0.0205\n",
            "\n",
            "Epoch 00036: val_out_loss improved from 0.08861 to 0.08698, saving model to trained_models/UNet_1024_64_3_6_1.h5\n",
            "Epoch 37/300\n",
            "17/17 [==============================] - 5s 312ms/step - loss: 0.2411 - out_loss: 0.0650 - level1_loss: 0.0654 - level2_loss: 0.0663 - level3_loss: 0.0712 - out_mean_squared_error: 0.0156 - level1_mean_squared_error: 0.0157 - level2_mean_squared_error: 0.0162 - level3_mean_squared_error: 0.0176 - val_loss: 0.2947 - val_out_loss: 0.0803 - val_level1_loss: 0.0822 - val_level2_loss: 0.0794 - val_level3_loss: 0.0855 - val_out_mean_squared_error: 0.0193 - val_level1_mean_squared_error: 0.0189 - val_level2_mean_squared_error: 0.0188 - val_level3_mean_squared_error: 0.0189\n",
            "\n",
            "Epoch 00037: val_out_loss improved from 0.08698 to 0.08033, saving model to trained_models/UNet_1024_64_3_6_1.h5\n",
            "Epoch 38/300\n",
            "17/17 [==============================] - 5s 313ms/step - loss: 0.2410 - out_loss: 0.0645 - level1_loss: 0.0672 - level2_loss: 0.0659 - level3_loss: 0.0703 - out_mean_squared_error: 0.0155 - level1_mean_squared_error: 0.0159 - level2_mean_squared_error: 0.0160 - level3_mean_squared_error: 0.0167 - val_loss: 0.2802 - val_out_loss: 0.0745 - val_level1_loss: 0.0751 - val_level2_loss: 0.0777 - val_level3_loss: 0.0840 - val_out_mean_squared_error: 0.0189 - val_level1_mean_squared_error: 0.0197 - val_level2_mean_squared_error: 0.0194 - val_level3_mean_squared_error: 0.0218\n",
            "\n",
            "Epoch 00038: val_out_loss improved from 0.08033 to 0.07454, saving model to trained_models/UNet_1024_64_3_6_1.h5\n",
            "Epoch 39/300\n",
            "17/17 [==============================] - 5s 314ms/step - loss: 0.2408 - out_loss: 0.0653 - level1_loss: 0.0643 - level2_loss: 0.0666 - level3_loss: 0.0714 - out_mean_squared_error: 0.0154 - level1_mean_squared_error: 0.0158 - level2_mean_squared_error: 0.0156 - level3_mean_squared_error: 0.0169 - val_loss: 0.2897 - val_out_loss: 0.0763 - val_level1_loss: 0.0776 - val_level2_loss: 0.0844 - val_level3_loss: 0.0836 - val_out_mean_squared_error: 0.0177 - val_level1_mean_squared_error: 0.0185 - val_level2_mean_squared_error: 0.0196 - val_level3_mean_squared_error: 0.0195\n",
            "\n",
            "Epoch 00039: val_out_loss did not improve from 0.07454\n",
            "Epoch 40/300\n",
            "17/17 [==============================] - 5s 314ms/step - loss: 0.2402 - out_loss: 0.0639 - level1_loss: 0.0642 - level2_loss: 0.0676 - level3_loss: 0.0711 - out_mean_squared_error: 0.0155 - level1_mean_squared_error: 0.0160 - level2_mean_squared_error: 0.0163 - level3_mean_squared_error: 0.0169 - val_loss: 0.2643 - val_out_loss: 0.0713 - val_level1_loss: 0.0702 - val_level2_loss: 0.0771 - val_level3_loss: 0.0751 - val_out_mean_squared_error: 0.0178 - val_level1_mean_squared_error: 0.0174 - val_level2_mean_squared_error: 0.0187 - val_level3_mean_squared_error: 0.0194\n",
            "\n",
            "Epoch 00040: val_out_loss improved from 0.07454 to 0.07129, saving model to trained_models/UNet_1024_64_3_6_1.h5\n",
            "Epoch 41/300\n",
            "17/17 [==============================] - 5s 313ms/step - loss: 0.2418 - out_loss: 0.0637 - level1_loss: 0.0641 - level2_loss: 0.0693 - level3_loss: 0.0716 - out_mean_squared_error: 0.0155 - level1_mean_squared_error: 0.0155 - level2_mean_squared_error: 0.0168 - level3_mean_squared_error: 0.0173 - val_loss: 0.2712 - val_out_loss: 0.0758 - val_level1_loss: 0.0713 - val_level2_loss: 0.0751 - val_level3_loss: 0.0791 - val_out_mean_squared_error: 0.0191 - val_level1_mean_squared_error: 0.0182 - val_level2_mean_squared_error: 0.0188 - val_level3_mean_squared_error: 0.0199\n",
            "\n",
            "Epoch 00041: val_out_loss did not improve from 0.07129\n",
            "Epoch 42/300\n",
            "17/17 [==============================] - 5s 312ms/step - loss: 0.2373 - out_loss: 0.0647 - level1_loss: 0.0633 - level2_loss: 0.0656 - level3_loss: 0.0701 - out_mean_squared_error: 0.0155 - level1_mean_squared_error: 0.0154 - level2_mean_squared_error: 0.0161 - level3_mean_squared_error: 0.0167 - val_loss: 0.2603 - val_out_loss: 0.0722 - val_level1_loss: 0.0686 - val_level2_loss: 0.0740 - val_level3_loss: 0.0743 - val_out_mean_squared_error: 0.0172 - val_level1_mean_squared_error: 0.0168 - val_level2_mean_squared_error: 0.0186 - val_level3_mean_squared_error: 0.0176\n",
            "\n",
            "Epoch 00042: val_out_loss did not improve from 0.07129\n",
            "Epoch 43/300\n",
            "17/17 [==============================] - 5s 312ms/step - loss: 0.2326 - out_loss: 0.0636 - level1_loss: 0.0634 - level2_loss: 0.0640 - level3_loss: 0.0675 - out_mean_squared_error: 0.0153 - level1_mean_squared_error: 0.0152 - level2_mean_squared_error: 0.0157 - level3_mean_squared_error: 0.0163 - val_loss: 0.2661 - val_out_loss: 0.0755 - val_level1_loss: 0.0709 - val_level2_loss: 0.0746 - val_level3_loss: 0.0747 - val_out_mean_squared_error: 0.0177 - val_level1_mean_squared_error: 0.0178 - val_level2_mean_squared_error: 0.0180 - val_level3_mean_squared_error: 0.0184\n",
            "\n",
            "Epoch 00043: val_out_loss did not improve from 0.07129\n",
            "Epoch 44/300\n",
            "17/17 [==============================] - 5s 313ms/step - loss: 0.2359 - out_loss: 0.0649 - level1_loss: 0.0632 - level2_loss: 0.0652 - level3_loss: 0.0689 - out_mean_squared_error: 0.0154 - level1_mean_squared_error: 0.0156 - level2_mean_squared_error: 0.0161 - level3_mean_squared_error: 0.0172 - val_loss: 0.2619 - val_out_loss: 0.0713 - val_level1_loss: 0.0722 - val_level2_loss: 0.0743 - val_level3_loss: 0.0732 - val_out_mean_squared_error: 0.0174 - val_level1_mean_squared_error: 0.0176 - val_level2_mean_squared_error: 0.0178 - val_level3_mean_squared_error: 0.0177\n",
            "\n",
            "Epoch 00044: val_out_loss did not improve from 0.07129\n",
            "Epoch 45/300\n",
            "17/17 [==============================] - 5s 313ms/step - loss: 0.2354 - out_loss: 0.0632 - level1_loss: 0.0640 - level2_loss: 0.0653 - level3_loss: 0.0690 - out_mean_squared_error: 0.0154 - level1_mean_squared_error: 0.0158 - level2_mean_squared_error: 0.0164 - level3_mean_squared_error: 0.0182 - val_loss: 0.2620 - val_out_loss: 0.0721 - val_level1_loss: 0.0717 - val_level2_loss: 0.0728 - val_level3_loss: 0.0745 - val_out_mean_squared_error: 0.0182 - val_level1_mean_squared_error: 0.0178 - val_level2_mean_squared_error: 0.0175 - val_level3_mean_squared_error: 0.0184\n",
            "\n",
            "Epoch 00045: val_out_loss did not improve from 0.07129\n",
            "Epoch 46/300\n",
            "17/17 [==============================] - 5s 314ms/step - loss: 0.2331 - out_loss: 0.0625 - level1_loss: 0.0641 - level2_loss: 0.0649 - level3_loss: 0.0675 - out_mean_squared_error: 0.0153 - level1_mean_squared_error: 0.0156 - level2_mean_squared_error: 0.0157 - level3_mean_squared_error: 0.0172 - val_loss: 0.2662 - val_out_loss: 0.0727 - val_level1_loss: 0.0724 - val_level2_loss: 0.0733 - val_level3_loss: 0.0773 - val_out_mean_squared_error: 0.0179 - val_level1_mean_squared_error: 0.0187 - val_level2_mean_squared_error: 0.0172 - val_level3_mean_squared_error: 0.0196\n",
            "\n",
            "Epoch 00046: val_out_loss did not improve from 0.07129\n",
            "Epoch 47/300\n",
            "17/17 [==============================] - 5s 314ms/step - loss: 0.2324 - out_loss: 0.0633 - level1_loss: 0.0635 - level2_loss: 0.0648 - level3_loss: 0.0666 - out_mean_squared_error: 0.0155 - level1_mean_squared_error: 0.0155 - level2_mean_squared_error: 0.0158 - level3_mean_squared_error: 0.0160 - val_loss: 0.2907 - val_out_loss: 0.0806 - val_level1_loss: 0.0766 - val_level2_loss: 0.0800 - val_level3_loss: 0.0858 - val_out_mean_squared_error: 0.0187 - val_level1_mean_squared_error: 0.0185 - val_level2_mean_squared_error: 0.0181 - val_level3_mean_squared_error: 0.0190\n",
            "\n",
            "Epoch 00047: val_out_loss did not improve from 0.07129\n",
            "Epoch 48/300\n",
            "17/17 [==============================] - 5s 313ms/step - loss: 0.2350 - out_loss: 0.0632 - level1_loss: 0.0651 - level2_loss: 0.0650 - level3_loss: 0.0678 - out_mean_squared_error: 0.0152 - level1_mean_squared_error: 0.0161 - level2_mean_squared_error: 0.0155 - level3_mean_squared_error: 0.0164 - val_loss: 0.2863 - val_out_loss: 0.0774 - val_level1_loss: 0.0777 - val_level2_loss: 0.0802 - val_level3_loss: 0.0827 - val_out_mean_squared_error: 0.0183 - val_level1_mean_squared_error: 0.0209 - val_level2_mean_squared_error: 0.0176 - val_level3_mean_squared_error: 0.0206\n",
            "\n",
            "Epoch 00048: val_out_loss did not improve from 0.07129\n",
            "Epoch 49/300\n",
            "17/17 [==============================] - 5s 314ms/step - loss: 0.2330 - out_loss: 0.0640 - level1_loss: 0.0626 - level2_loss: 0.0653 - level3_loss: 0.0670 - out_mean_squared_error: 0.0153 - level1_mean_squared_error: 0.0155 - level2_mean_squared_error: 0.0155 - level3_mean_squared_error: 0.0163 - val_loss: 0.2923 - val_out_loss: 0.0803 - val_level1_loss: 0.0779 - val_level2_loss: 0.0818 - val_level3_loss: 0.0847 - val_out_mean_squared_error: 0.0183 - val_level1_mean_squared_error: 0.0179 - val_level2_mean_squared_error: 0.0182 - val_level3_mean_squared_error: 0.0191\n",
            "\n",
            "Epoch 00049: val_out_loss did not improve from 0.07129\n",
            "Epoch 50/300\n",
            "17/17 [==============================] - 5s 314ms/step - loss: 0.2292 - out_loss: 0.0631 - level1_loss: 0.0620 - level2_loss: 0.0639 - level3_loss: 0.0657 - out_mean_squared_error: 0.0152 - level1_mean_squared_error: 0.0150 - level2_mean_squared_error: 0.0153 - level3_mean_squared_error: 0.0164 - val_loss: 0.2778 - val_out_loss: 0.0716 - val_level1_loss: 0.0739 - val_level2_loss: 0.0790 - val_level3_loss: 0.0841 - val_out_mean_squared_error: 0.0178 - val_level1_mean_squared_error: 0.0193 - val_level2_mean_squared_error: 0.0208 - val_level3_mean_squared_error: 0.0179\n",
            "\n",
            "Epoch 00050: val_out_loss did not improve from 0.07129\n",
            "Epoch 51/300\n",
            "17/17 [==============================] - 5s 314ms/step - loss: 0.2346 - out_loss: 0.0644 - level1_loss: 0.0618 - level2_loss: 0.0659 - level3_loss: 0.0686 - out_mean_squared_error: 0.0152 - level1_mean_squared_error: 0.0150 - level2_mean_squared_error: 0.0157 - level3_mean_squared_error: 0.0164 - val_loss: 0.2583 - val_out_loss: 0.0699 - val_level1_loss: 0.0697 - val_level2_loss: 0.0726 - val_level3_loss: 0.0748 - val_out_mean_squared_error: 0.0173 - val_level1_mean_squared_error: 0.0174 - val_level2_mean_squared_error: 0.0179 - val_level3_mean_squared_error: 0.0175\n",
            "\n",
            "Epoch 00051: val_out_loss improved from 0.07129 to 0.06994, saving model to trained_models/UNet_1024_64_3_6_1.h5\n",
            "Epoch 52/300\n",
            "17/17 [==============================] - 5s 313ms/step - loss: 0.2274 - out_loss: 0.0621 - level1_loss: 0.0619 - level2_loss: 0.0636 - level3_loss: 0.0651 - out_mean_squared_error: 0.0151 - level1_mean_squared_error: 0.0152 - level2_mean_squared_error: 0.0157 - level3_mean_squared_error: 0.0157 - val_loss: 0.2833 - val_out_loss: 0.0755 - val_level1_loss: 0.0724 - val_level2_loss: 0.0775 - val_level3_loss: 0.0894 - val_out_mean_squared_error: 0.0178 - val_level1_mean_squared_error: 0.0178 - val_level2_mean_squared_error: 0.0191 - val_level3_mean_squared_error: 0.0246\n",
            "\n",
            "Epoch 00052: val_out_loss did not improve from 0.06994\n",
            "Epoch 53/300\n",
            "17/17 [==============================] - 5s 315ms/step - loss: 0.2309 - out_loss: 0.0641 - level1_loss: 0.0622 - level2_loss: 0.0630 - level3_loss: 0.0673 - out_mean_squared_error: 0.0154 - level1_mean_squared_error: 0.0150 - level2_mean_squared_error: 0.0154 - level3_mean_squared_error: 0.0166 - val_loss: 0.2959 - val_out_loss: 0.0788 - val_level1_loss: 0.0776 - val_level2_loss: 0.0832 - val_level3_loss: 0.0891 - val_out_mean_squared_error: 0.0182 - val_level1_mean_squared_error: 0.0184 - val_level2_mean_squared_error: 0.0206 - val_level3_mean_squared_error: 0.0201\n",
            "\n",
            "Epoch 00053: val_out_loss did not improve from 0.06994\n",
            "Epoch 54/300\n",
            "17/17 [==============================] - 5s 314ms/step - loss: 0.2295 - out_loss: 0.0637 - level1_loss: 0.0624 - level2_loss: 0.0635 - level3_loss: 0.0654 - out_mean_squared_error: 0.0151 - level1_mean_squared_error: 0.0151 - level2_mean_squared_error: 0.0151 - level3_mean_squared_error: 0.0156 - val_loss: 0.2807 - val_out_loss: 0.0725 - val_level1_loss: 0.0740 - val_level2_loss: 0.0790 - val_level3_loss: 0.0865 - val_out_mean_squared_error: 0.0173 - val_level1_mean_squared_error: 0.0178 - val_level2_mean_squared_error: 0.0179 - val_level3_mean_squared_error: 0.0214\n",
            "\n",
            "Epoch 00054: val_out_loss did not improve from 0.06994\n",
            "Epoch 55/300\n",
            "17/17 [==============================] - 5s 314ms/step - loss: 0.2281 - out_loss: 0.0612 - level1_loss: 0.0613 - level2_loss: 0.0639 - level3_loss: 0.0670 - out_mean_squared_error: 0.0151 - level1_mean_squared_error: 0.0156 - level2_mean_squared_error: 0.0158 - level3_mean_squared_error: 0.0167 - val_loss: 0.3174 - val_out_loss: 0.0806 - val_level1_loss: 0.0816 - val_level2_loss: 0.0899 - val_level3_loss: 0.1006 - val_out_mean_squared_error: 0.0185 - val_level1_mean_squared_error: 0.0178 - val_level2_mean_squared_error: 0.0195 - val_level3_mean_squared_error: 0.0204\n",
            "\n",
            "Epoch 00055: val_out_loss did not improve from 0.06994\n",
            "Epoch 56/300\n",
            "17/17 [==============================] - 5s 314ms/step - loss: 0.2270 - out_loss: 0.0621 - level1_loss: 0.0617 - level2_loss: 0.0625 - level3_loss: 0.0659 - out_mean_squared_error: 0.0156 - level1_mean_squared_error: 0.0151 - level2_mean_squared_error: 0.0155 - level3_mean_squared_error: 0.0161 - val_loss: 0.2689 - val_out_loss: 0.0721 - val_level1_loss: 0.0728 - val_level2_loss: 0.0749 - val_level3_loss: 0.0790 - val_out_mean_squared_error: 0.0171 - val_level1_mean_squared_error: 0.0167 - val_level2_mean_squared_error: 0.0172 - val_level3_mean_squared_error: 0.0175\n",
            "\n",
            "Epoch 00056: val_out_loss did not improve from 0.06994\n",
            "Epoch 57/300\n",
            "17/17 [==============================] - 5s 313ms/step - loss: 0.2263 - out_loss: 0.0607 - level1_loss: 0.0620 - level2_loss: 0.0621 - level3_loss: 0.0667 - out_mean_squared_error: 0.0150 - level1_mean_squared_error: 0.0156 - level2_mean_squared_error: 0.0152 - level3_mean_squared_error: 0.0162 - val_loss: 0.2651 - val_out_loss: 0.0673 - val_level1_loss: 0.0674 - val_level2_loss: 0.0730 - val_level3_loss: 0.0869 - val_out_mean_squared_error: 0.0171 - val_level1_mean_squared_error: 0.0168 - val_level2_mean_squared_error: 0.0185 - val_level3_mean_squared_error: 0.0178\n",
            "\n",
            "Epoch 00057: val_out_loss improved from 0.06994 to 0.06728, saving model to trained_models/UNet_1024_64_3_6_1.h5\n",
            "Epoch 58/300\n",
            "17/17 [==============================] - 5s 314ms/step - loss: 0.2239 - out_loss: 0.0601 - level1_loss: 0.0603 - level2_loss: 0.0617 - level3_loss: 0.0667 - out_mean_squared_error: 0.0147 - level1_mean_squared_error: 0.0148 - level2_mean_squared_error: 0.0150 - level3_mean_squared_error: 0.0160 - val_loss: 0.2640 - val_out_loss: 0.0704 - val_level1_loss: 0.0692 - val_level2_loss: 0.0739 - val_level3_loss: 0.0798 - val_out_mean_squared_error: 0.0178 - val_level1_mean_squared_error: 0.0178 - val_level2_mean_squared_error: 0.0187 - val_level3_mean_squared_error: 0.0192\n",
            "\n",
            "Epoch 00058: val_out_loss did not improve from 0.06728\n",
            "Epoch 59/300\n",
            "17/17 [==============================] - 5s 315ms/step - loss: 0.2245 - out_loss: 0.0602 - level1_loss: 0.0600 - level2_loss: 0.0629 - level3_loss: 0.0663 - out_mean_squared_error: 0.0148 - level1_mean_squared_error: 0.0148 - level2_mean_squared_error: 0.0153 - level3_mean_squared_error: 0.0160 - val_loss: 0.2707 - val_out_loss: 0.0717 - val_level1_loss: 0.0726 - val_level2_loss: 0.0750 - val_level3_loss: 0.0815 - val_out_mean_squared_error: 0.0177 - val_level1_mean_squared_error: 0.0180 - val_level2_mean_squared_error: 0.0179 - val_level3_mean_squared_error: 0.0187\n",
            "\n",
            "Epoch 00059: val_out_loss did not improve from 0.06728\n",
            "Epoch 60/300\n",
            "17/17 [==============================] - 5s 315ms/step - loss: 0.2236 - out_loss: 0.0606 - level1_loss: 0.0605 - level2_loss: 0.0617 - level3_loss: 0.0656 - out_mean_squared_error: 0.0146 - level1_mean_squared_error: 0.0146 - level2_mean_squared_error: 0.0150 - level3_mean_squared_error: 0.0159 - val_loss: 0.2601 - val_out_loss: 0.0699 - val_level1_loss: 0.0677 - val_level2_loss: 0.0712 - val_level3_loss: 0.0802 - val_out_mean_squared_error: 0.0173 - val_level1_mean_squared_error: 0.0170 - val_level2_mean_squared_error: 0.0183 - val_level3_mean_squared_error: 0.0176\n",
            "\n",
            "Epoch 00060: val_out_loss did not improve from 0.06728\n",
            "Epoch 61/300\n",
            "17/17 [==============================] - 5s 315ms/step - loss: 0.2218 - out_loss: 0.0603 - level1_loss: 0.0596 - level2_loss: 0.0630 - level3_loss: 0.0635 - out_mean_squared_error: 0.0145 - level1_mean_squared_error: 0.0146 - level2_mean_squared_error: 0.0156 - level3_mean_squared_error: 0.0153 - val_loss: 0.2619 - val_out_loss: 0.0717 - val_level1_loss: 0.0722 - val_level2_loss: 0.0708 - val_level3_loss: 0.0762 - val_out_mean_squared_error: 0.0188 - val_level1_mean_squared_error: 0.0186 - val_level2_mean_squared_error: 0.0183 - val_level3_mean_squared_error: 0.0183\n",
            "\n",
            "Epoch 00061: val_out_loss did not improve from 0.06728\n",
            "Epoch 62/300\n",
            "17/17 [==============================] - 5s 313ms/step - loss: 0.2276 - out_loss: 0.0611 - level1_loss: 0.0611 - level2_loss: 0.0649 - level3_loss: 0.0659 - out_mean_squared_error: 0.0150 - level1_mean_squared_error: 0.0152 - level2_mean_squared_error: 0.0153 - level3_mean_squared_error: 0.0162 - val_loss: 0.2801 - val_out_loss: 0.0761 - val_level1_loss: 0.0747 - val_level2_loss: 0.0818 - val_level3_loss: 0.0785 - val_out_mean_squared_error: 0.0182 - val_level1_mean_squared_error: 0.0185 - val_level2_mean_squared_error: 0.0260 - val_level3_mean_squared_error: 0.0188\n",
            "\n",
            "Epoch 00062: val_out_loss did not improve from 0.06728\n",
            "Epoch 63/300\n",
            "17/17 [==============================] - 5s 313ms/step - loss: 0.2230 - out_loss: 0.0596 - level1_loss: 0.0608 - level2_loss: 0.0615 - level3_loss: 0.0658 - out_mean_squared_error: 0.0147 - level1_mean_squared_error: 0.0150 - level2_mean_squared_error: 0.0151 - level3_mean_squared_error: 0.0159 - val_loss: 0.3834 - val_out_loss: 0.0975 - val_level1_loss: 0.1014 - val_level2_loss: 0.1136 - val_level3_loss: 0.1135 - val_out_mean_squared_error: 0.0218 - val_level1_mean_squared_error: 0.0233 - val_level2_mean_squared_error: 0.0290 - val_level3_mean_squared_error: 0.0247\n",
            "\n",
            "Epoch 00063: val_out_loss did not improve from 0.06728\n",
            "Epoch 64/300\n",
            "17/17 [==============================] - 5s 312ms/step - loss: 0.2187 - out_loss: 0.0585 - level1_loss: 0.0600 - level2_loss: 0.0606 - level3_loss: 0.0639 - out_mean_squared_error: 0.0143 - level1_mean_squared_error: 0.0152 - level2_mean_squared_error: 0.0149 - level3_mean_squared_error: 0.0153 - val_loss: 0.4087 - val_out_loss: 0.0989 - val_level1_loss: 0.1110 - val_level2_loss: 0.1203 - val_level3_loss: 0.1239 - val_out_mean_squared_error: 0.0208 - val_level1_mean_squared_error: 0.0257 - val_level2_mean_squared_error: 0.0311 - val_level3_mean_squared_error: 0.0262\n",
            "\n",
            "Epoch 00064: val_out_loss did not improve from 0.06728\n",
            "Epoch 65/300\n",
            "17/17 [==============================] - 5s 314ms/step - loss: 0.2220 - out_loss: 0.0603 - level1_loss: 0.0595 - level2_loss: 0.0625 - level3_loss: 0.0644 - out_mean_squared_error: 0.0144 - level1_mean_squared_error: 0.0145 - level2_mean_squared_error: 0.0147 - level3_mean_squared_error: 0.0154 - val_loss: 0.3791 - val_out_loss: 0.0972 - val_level1_loss: 0.0973 - val_level2_loss: 0.1046 - val_level3_loss: 0.1221 - val_out_mean_squared_error: 0.0213 - val_level1_mean_squared_error: 0.0215 - val_level2_mean_squared_error: 0.0246 - val_level3_mean_squared_error: 0.0251\n",
            "\n",
            "Epoch 00065: val_out_loss did not improve from 0.06728\n",
            "Epoch 66/300\n",
            "17/17 [==============================] - 5s 314ms/step - loss: 0.2165 - out_loss: 0.0590 - level1_loss: 0.0579 - level2_loss: 0.0592 - level3_loss: 0.0643 - out_mean_squared_error: 0.0144 - level1_mean_squared_error: 0.0144 - level2_mean_squared_error: 0.0145 - level3_mean_squared_error: 0.0155 - val_loss: 0.3060 - val_out_loss: 0.0773 - val_level1_loss: 0.0769 - val_level2_loss: 0.0845 - val_level3_loss: 0.1014 - val_out_mean_squared_error: 0.0187 - val_level1_mean_squared_error: 0.0184 - val_level2_mean_squared_error: 0.0197 - val_level3_mean_squared_error: 0.0214\n",
            "\n",
            "Epoch 00066: val_out_loss did not improve from 0.06728\n",
            "Epoch 67/300\n",
            "17/17 [==============================] - 5s 314ms/step - loss: 0.2137 - out_loss: 0.0579 - level1_loss: 0.0576 - level2_loss: 0.0591 - level3_loss: 0.0628 - out_mean_squared_error: 0.0142 - level1_mean_squared_error: 0.0141 - level2_mean_squared_error: 0.0144 - level3_mean_squared_error: 0.0151 - val_loss: 0.2481 - val_out_loss: 0.0668 - val_level1_loss: 0.0653 - val_level2_loss: 0.0709 - val_level3_loss: 0.0727 - val_out_mean_squared_error: 0.0168 - val_level1_mean_squared_error: 0.0164 - val_level2_mean_squared_error: 0.0194 - val_level3_mean_squared_error: 0.0177\n",
            "\n",
            "Epoch 00067: val_out_loss improved from 0.06728 to 0.06678, saving model to trained_models/UNet_1024_64_3_6_1.h5\n",
            "Epoch 68/300\n",
            "17/17 [==============================] - 5s 315ms/step - loss: 0.2146 - out_loss: 0.0576 - level1_loss: 0.0581 - level2_loss: 0.0592 - level3_loss: 0.0636 - out_mean_squared_error: 0.0141 - level1_mean_squared_error: 0.0142 - level2_mean_squared_error: 0.0144 - level3_mean_squared_error: 0.0159 - val_loss: 0.2585 - val_out_loss: 0.0684 - val_level1_loss: 0.0687 - val_level2_loss: 0.0713 - val_level3_loss: 0.0789 - val_out_mean_squared_error: 0.0167 - val_level1_mean_squared_error: 0.0161 - val_level2_mean_squared_error: 0.0169 - val_level3_mean_squared_error: 0.0173\n",
            "\n",
            "Epoch 00068: val_out_loss did not improve from 0.06678\n",
            "Epoch 69/300\n",
            "17/17 [==============================] - 5s 314ms/step - loss: 0.2164 - out_loss: 0.0582 - level1_loss: 0.0585 - level2_loss: 0.0605 - level3_loss: 0.0631 - out_mean_squared_error: 0.0143 - level1_mean_squared_error: 0.0148 - level2_mean_squared_error: 0.0147 - level3_mean_squared_error: 0.0152 - val_loss: 0.3996 - val_out_loss: 0.0994 - val_level1_loss: 0.0892 - val_level2_loss: 0.1256 - val_level3_loss: 0.1297 - val_out_mean_squared_error: 0.0304 - val_level1_mean_squared_error: 0.0230 - val_level2_mean_squared_error: 0.0696 - val_level3_mean_squared_error: 0.0612\n",
            "\n",
            "Epoch 00069: val_out_loss did not improve from 0.06678\n",
            "Epoch 70/300\n",
            "17/17 [==============================] - 5s 314ms/step - loss: 0.2273 - out_loss: 0.0600 - level1_loss: 0.0621 - level2_loss: 0.0648 - level3_loss: 0.0656 - out_mean_squared_error: 0.0148 - level1_mean_squared_error: 0.0153 - level2_mean_squared_error: 0.0161 - level3_mean_squared_error: 0.0162 - val_loss: 0.3993 - val_out_loss: 0.1047 - val_level1_loss: 0.0983 - val_level2_loss: 0.1504 - val_level3_loss: 0.0903 - val_out_mean_squared_error: 0.0455 - val_level1_mean_squared_error: 0.0392 - val_level2_mean_squared_error: 0.1782 - val_level3_mean_squared_error: 0.0213\n",
            "\n",
            "Epoch 00070: val_out_loss did not improve from 0.06678\n",
            "Epoch 71/300\n",
            "17/17 [==============================] - 5s 314ms/step - loss: 0.2178 - out_loss: 0.0582 - level1_loss: 0.0592 - level2_loss: 0.0609 - level3_loss: 0.0637 - out_mean_squared_error: 0.0142 - level1_mean_squared_error: 0.0143 - level2_mean_squared_error: 0.0145 - level3_mean_squared_error: 0.0154 - val_loss: 0.3594 - val_out_loss: 0.0994 - val_level1_loss: 0.0991 - val_level2_loss: 0.1085 - val_level3_loss: 0.0923 - val_out_mean_squared_error: 0.0312 - val_level1_mean_squared_error: 0.0304 - val_level2_mean_squared_error: 0.0506 - val_level3_mean_squared_error: 0.0219\n",
            "\n",
            "Epoch 00071: val_out_loss did not improve from 0.06678\n",
            "Epoch 72/300\n",
            "17/17 [==============================] - 5s 314ms/step - loss: 0.2174 - out_loss: 0.0586 - level1_loss: 0.0586 - level2_loss: 0.0597 - level3_loss: 0.0647 - out_mean_squared_error: 0.0144 - level1_mean_squared_error: 0.0147 - level2_mean_squared_error: 0.0149 - level3_mean_squared_error: 0.0169 - val_loss: 0.3047 - val_out_loss: 0.0836 - val_level1_loss: 0.0842 - val_level2_loss: 0.0801 - val_level3_loss: 0.0905 - val_out_mean_squared_error: 0.0218 - val_level1_mean_squared_error: 0.0224 - val_level2_mean_squared_error: 0.0202 - val_level3_mean_squared_error: 0.0250\n",
            "\n",
            "Epoch 00072: val_out_loss did not improve from 0.06678\n",
            "Epoch 73/300\n",
            "17/17 [==============================] - 6s 330ms/step - loss: 0.2153 - out_loss: 0.0570 - level1_loss: 0.0572 - level2_loss: 0.0594 - level3_loss: 0.0657 - out_mean_squared_error: 0.0142 - level1_mean_squared_error: 0.0142 - level2_mean_squared_error: 0.0141 - level3_mean_squared_error: 0.0157 - val_loss: 0.3122 - val_out_loss: 0.0812 - val_level1_loss: 0.0838 - val_level2_loss: 0.0849 - val_level3_loss: 0.0969 - val_out_mean_squared_error: 0.0207 - val_level1_mean_squared_error: 0.0242 - val_level2_mean_squared_error: 0.0225 - val_level3_mean_squared_error: 0.0302\n",
            "\n",
            "Epoch 00073: val_out_loss did not improve from 0.06678\n",
            "Epoch 74/300\n",
            "17/17 [==============================] - 5s 315ms/step - loss: 0.2118 - out_loss: 0.0569 - level1_loss: 0.0571 - level2_loss: 0.0580 - level3_loss: 0.0634 - out_mean_squared_error: 0.0140 - level1_mean_squared_error: 0.0139 - level2_mean_squared_error: 0.0139 - level3_mean_squared_error: 0.0150 - val_loss: 0.2973 - val_out_loss: 0.0806 - val_level1_loss: 0.0798 - val_level2_loss: 0.0830 - val_level3_loss: 0.0869 - val_out_mean_squared_error: 0.0207 - val_level1_mean_squared_error: 0.0207 - val_level2_mean_squared_error: 0.0213 - val_level3_mean_squared_error: 0.0216\n",
            "\n",
            "Epoch 00074: val_out_loss did not improve from 0.06678\n",
            "Epoch 75/300\n",
            "17/17 [==============================] - 5s 314ms/step - loss: 0.2132 - out_loss: 0.0566 - level1_loss: 0.0575 - level2_loss: 0.0591 - level3_loss: 0.0637 - out_mean_squared_error: 0.0141 - level1_mean_squared_error: 0.0141 - level2_mean_squared_error: 0.0143 - level3_mean_squared_error: 0.0152 - val_loss: 0.3046 - val_out_loss: 0.0806 - val_level1_loss: 0.0808 - val_level2_loss: 0.0828 - val_level3_loss: 0.0942 - val_out_mean_squared_error: 0.0197 - val_level1_mean_squared_error: 0.0197 - val_level2_mean_squared_error: 0.0195 - val_level3_mean_squared_error: 0.0316\n",
            "\n",
            "Epoch 00075: val_out_loss did not improve from 0.06678\n",
            "Epoch 76/300\n",
            "17/17 [==============================] - 5s 313ms/step - loss: 0.2099 - out_loss: 0.0557 - level1_loss: 0.0574 - level2_loss: 0.0578 - level3_loss: 0.0623 - out_mean_squared_error: 0.0136 - level1_mean_squared_error: 0.0144 - level2_mean_squared_error: 0.0140 - level3_mean_squared_error: 0.0154 - val_loss: 0.2705 - val_out_loss: 0.0736 - val_level1_loss: 0.0736 - val_level2_loss: 0.0763 - val_level3_loss: 0.0769 - val_out_mean_squared_error: 0.0175 - val_level1_mean_squared_error: 0.0180 - val_level2_mean_squared_error: 0.0175 - val_level3_mean_squared_error: 0.0182\n",
            "\n",
            "Epoch 00076: val_out_loss did not improve from 0.06678\n",
            "Epoch 77/300\n",
            "17/17 [==============================] - 5s 314ms/step - loss: 0.2062 - out_loss: 0.0560 - level1_loss: 0.0560 - level2_loss: 0.0565 - level3_loss: 0.0606 - out_mean_squared_error: 0.0136 - level1_mean_squared_error: 0.0138 - level2_mean_squared_error: 0.0138 - level3_mean_squared_error: 0.0147 - val_loss: 0.2719 - val_out_loss: 0.0741 - val_level1_loss: 0.0754 - val_level2_loss: 0.0743 - val_level3_loss: 0.0782 - val_out_mean_squared_error: 0.0174 - val_level1_mean_squared_error: 0.0181 - val_level2_mean_squared_error: 0.0172 - val_level3_mean_squared_error: 0.0183\n",
            "\n",
            "Epoch 00077: val_out_loss did not improve from 0.06678\n",
            "Epoch 78/300\n",
            "17/17 [==============================] - 5s 312ms/step - loss: 0.2052 - out_loss: 0.0554 - level1_loss: 0.0555 - level2_loss: 0.0570 - level3_loss: 0.0602 - out_mean_squared_error: 0.0135 - level1_mean_squared_error: 0.0137 - level2_mean_squared_error: 0.0141 - level3_mean_squared_error: 0.0147 - val_loss: 0.2622 - val_out_loss: 0.0692 - val_level1_loss: 0.0694 - val_level2_loss: 0.0724 - val_level3_loss: 0.0803 - val_out_mean_squared_error: 0.0174 - val_level1_mean_squared_error: 0.0171 - val_level2_mean_squared_error: 0.0177 - val_level3_mean_squared_error: 0.0185\n",
            "\n",
            "Epoch 00078: val_out_loss did not improve from 0.06678\n",
            "Epoch 79/300\n",
            "17/17 [==============================] - 5s 314ms/step - loss: 0.2060 - out_loss: 0.0555 - level1_loss: 0.0550 - level2_loss: 0.0577 - level3_loss: 0.0607 - out_mean_squared_error: 0.0138 - level1_mean_squared_error: 0.0136 - level2_mean_squared_error: 0.0144 - level3_mean_squared_error: 0.0151 - val_loss: 0.2660 - val_out_loss: 0.0717 - val_level1_loss: 0.0734 - val_level2_loss: 0.0726 - val_level3_loss: 0.0780 - val_out_mean_squared_error: 0.0184 - val_level1_mean_squared_error: 0.0184 - val_level2_mean_squared_error: 0.0177 - val_level3_mean_squared_error: 0.0184\n",
            "\n",
            "Epoch 00079: val_out_loss did not improve from 0.06678\n",
            "Epoch 80/300\n",
            "17/17 [==============================] - 5s 314ms/step - loss: 0.2018 - out_loss: 0.0542 - level1_loss: 0.0549 - level2_loss: 0.0563 - level3_loss: 0.0589 - out_mean_squared_error: 0.0134 - level1_mean_squared_error: 0.0135 - level2_mean_squared_error: 0.0135 - level3_mean_squared_error: 0.0145 - val_loss: 0.2386 - val_out_loss: 0.0644 - val_level1_loss: 0.0652 - val_level2_loss: 0.0665 - val_level3_loss: 0.0691 - val_out_mean_squared_error: 0.0161 - val_level1_mean_squared_error: 0.0163 - val_level2_mean_squared_error: 0.0171 - val_level3_mean_squared_error: 0.0164\n",
            "\n",
            "Epoch 00080: val_out_loss improved from 0.06678 to 0.06439, saving model to trained_models/UNet_1024_64_3_6_1.h5\n",
            "Epoch 81/300\n",
            "17/17 [==============================] - 5s 315ms/step - loss: 0.2078 - out_loss: 0.0555 - level1_loss: 0.0572 - level2_loss: 0.0576 - level3_loss: 0.0606 - out_mean_squared_error: 0.0135 - level1_mean_squared_error: 0.0137 - level2_mean_squared_error: 0.0139 - level3_mean_squared_error: 0.0144 - val_loss: 0.2697 - val_out_loss: 0.0721 - val_level1_loss: 0.0738 - val_level2_loss: 0.0732 - val_level3_loss: 0.0806 - val_out_mean_squared_error: 0.0176 - val_level1_mean_squared_error: 0.0176 - val_level2_mean_squared_error: 0.0174 - val_level3_mean_squared_error: 0.0178\n",
            "\n",
            "Epoch 00081: val_out_loss did not improve from 0.06439\n",
            "Epoch 82/300\n",
            "17/17 [==============================] - 5s 316ms/step - loss: 0.2080 - out_loss: 0.0564 - level1_loss: 0.0560 - level2_loss: 0.0576 - level3_loss: 0.0612 - out_mean_squared_error: 0.0138 - level1_mean_squared_error: 0.0136 - level2_mean_squared_error: 0.0139 - level3_mean_squared_error: 0.0154 - val_loss: 0.2433 - val_out_loss: 0.0653 - val_level1_loss: 0.0657 - val_level2_loss: 0.0668 - val_level3_loss: 0.0725 - val_out_mean_squared_error: 0.0172 - val_level1_mean_squared_error: 0.0168 - val_level2_mean_squared_error: 0.0166 - val_level3_mean_squared_error: 0.0175\n",
            "\n",
            "Epoch 00082: val_out_loss did not improve from 0.06439\n",
            "Epoch 83/300\n",
            "17/17 [==============================] - 5s 313ms/step - loss: 0.2073 - out_loss: 0.0555 - level1_loss: 0.0565 - level2_loss: 0.0569 - level3_loss: 0.0614 - out_mean_squared_error: 0.0138 - level1_mean_squared_error: 0.0140 - level2_mean_squared_error: 0.0142 - level3_mean_squared_error: 0.0139 - val_loss: 0.2379 - val_out_loss: 0.0661 - val_level1_loss: 0.0642 - val_level2_loss: 0.0652 - val_level3_loss: 0.0688 - val_out_mean_squared_error: 0.0165 - val_level1_mean_squared_error: 0.0161 - val_level2_mean_squared_error: 0.0160 - val_level3_mean_squared_error: 0.0164\n",
            "\n",
            "Epoch 00083: val_out_loss did not improve from 0.06439\n",
            "Epoch 84/300\n",
            "17/17 [==============================] - 5s 316ms/step - loss: 0.2039 - out_loss: 0.0548 - level1_loss: 0.0552 - level2_loss: 0.0560 - level3_loss: 0.0605 - out_mean_squared_error: 0.0135 - level1_mean_squared_error: 0.0139 - level2_mean_squared_error: 0.0140 - level3_mean_squared_error: 0.0149 - val_loss: 0.2531 - val_out_loss: 0.0682 - val_level1_loss: 0.0673 - val_level2_loss: 0.0707 - val_level3_loss: 0.0750 - val_out_mean_squared_error: 0.0179 - val_level1_mean_squared_error: 0.0178 - val_level2_mean_squared_error: 0.0175 - val_level3_mean_squared_error: 0.0173\n",
            "\n",
            "Epoch 00084: val_out_loss did not improve from 0.06439\n",
            "Epoch 85/300\n",
            "17/17 [==============================] - 5s 314ms/step - loss: 0.2028 - out_loss: 0.0548 - level1_loss: 0.0542 - level2_loss: 0.0557 - level3_loss: 0.0608 - out_mean_squared_error: 0.0134 - level1_mean_squared_error: 0.0134 - level2_mean_squared_error: 0.0134 - level3_mean_squared_error: 0.0167 - val_loss: 0.2414 - val_out_loss: 0.0647 - val_level1_loss: 0.0651 - val_level2_loss: 0.0666 - val_level3_loss: 0.0719 - val_out_mean_squared_error: 0.0162 - val_level1_mean_squared_error: 0.0163 - val_level2_mean_squared_error: 0.0168 - val_level3_mean_squared_error: 0.0165\n",
            "\n",
            "Epoch 00085: val_out_loss did not improve from 0.06439\n",
            "Epoch 86/300\n",
            "17/17 [==============================] - 5s 313ms/step - loss: 0.2067 - out_loss: 0.0551 - level1_loss: 0.0555 - level2_loss: 0.0585 - level3_loss: 0.0606 - out_mean_squared_error: 0.0136 - level1_mean_squared_error: 0.0135 - level2_mean_squared_error: 0.0148 - level3_mean_squared_error: 0.0154 - val_loss: 0.2710 - val_out_loss: 0.0747 - val_level1_loss: 0.0717 - val_level2_loss: 0.0736 - val_level3_loss: 0.0811 - val_out_mean_squared_error: 0.0203 - val_level1_mean_squared_error: 0.0202 - val_level2_mean_squared_error: 0.0205 - val_level3_mean_squared_error: 0.0329\n",
            "\n",
            "Epoch 00086: val_out_loss did not improve from 0.06439\n",
            "Epoch 87/300\n",
            "17/17 [==============================] - 5s 314ms/step - loss: 0.2060 - out_loss: 0.0550 - level1_loss: 0.0548 - level2_loss: 0.0585 - level3_loss: 0.0606 - out_mean_squared_error: 0.0141 - level1_mean_squared_error: 0.0135 - level2_mean_squared_error: 0.0145 - level3_mean_squared_error: 0.0163 - val_loss: 0.2606 - val_out_loss: 0.0731 - val_level1_loss: 0.0692 - val_level2_loss: 0.0711 - val_level3_loss: 0.0762 - val_out_mean_squared_error: 0.0201 - val_level1_mean_squared_error: 0.0188 - val_level2_mean_squared_error: 0.0188 - val_level3_mean_squared_error: 0.0179\n",
            "\n",
            "Epoch 00087: val_out_loss did not improve from 0.06439\n",
            "Epoch 88/300\n",
            "17/17 [==============================] - 5s 311ms/step - loss: 0.2052 - out_loss: 0.0552 - level1_loss: 0.0550 - level2_loss: 0.0563 - level3_loss: 0.0615 - out_mean_squared_error: 0.0137 - level1_mean_squared_error: 0.0138 - level2_mean_squared_error: 0.0138 - level3_mean_squared_error: 0.0146 - val_loss: 0.2612 - val_out_loss: 0.0694 - val_level1_loss: 0.0718 - val_level2_loss: 0.0720 - val_level3_loss: 0.0770 - val_out_mean_squared_error: 0.0170 - val_level1_mean_squared_error: 0.0225 - val_level2_mean_squared_error: 0.0173 - val_level3_mean_squared_error: 0.0171\n",
            "\n",
            "Epoch 00088: val_out_loss did not improve from 0.06439\n",
            "Epoch 89/300\n",
            "17/17 [==============================] - 5s 314ms/step - loss: 0.2010 - out_loss: 0.0538 - level1_loss: 0.0546 - level2_loss: 0.0563 - level3_loss: 0.0586 - out_mean_squared_error: 0.0132 - level1_mean_squared_error: 0.0136 - level2_mean_squared_error: 0.0141 - level3_mean_squared_error: 0.0145 - val_loss: 0.2466 - val_out_loss: 0.0652 - val_level1_loss: 0.0666 - val_level2_loss: 0.0690 - val_level3_loss: 0.0733 - val_out_mean_squared_error: 0.0160 - val_level1_mean_squared_error: 0.0164 - val_level2_mean_squared_error: 0.0172 - val_level3_mean_squared_error: 0.0166\n",
            "\n",
            "Epoch 00089: val_out_loss did not improve from 0.06439\n",
            "Epoch 90/300\n",
            "17/17 [==============================] - 5s 314ms/step - loss: 0.1984 - out_loss: 0.0534 - level1_loss: 0.0534 - level2_loss: 0.0541 - level3_loss: 0.0596 - out_mean_squared_error: 0.0132 - level1_mean_squared_error: 0.0134 - level2_mean_squared_error: 0.0134 - level3_mean_squared_error: 0.0150 - val_loss: 0.2727 - val_out_loss: 0.0742 - val_level1_loss: 0.0724 - val_level2_loss: 0.0738 - val_level3_loss: 0.0827 - val_out_mean_squared_error: 0.0190 - val_level1_mean_squared_error: 0.0186 - val_level2_mean_squared_error: 0.0179 - val_level3_mean_squared_error: 0.0178\n",
            "\n",
            "Epoch 00090: val_out_loss did not improve from 0.06439\n",
            "Epoch 91/300\n",
            "17/17 [==============================] - 5s 311ms/step - loss: 0.2012 - out_loss: 0.0544 - level1_loss: 0.0545 - level2_loss: 0.0549 - level3_loss: 0.0597 - out_mean_squared_error: 0.0132 - level1_mean_squared_error: 0.0134 - level2_mean_squared_error: 0.0134 - level3_mean_squared_error: 0.0143 - val_loss: 0.2407 - val_out_loss: 0.0631 - val_level1_loss: 0.0622 - val_level2_loss: 0.0706 - val_level3_loss: 0.0715 - val_out_mean_squared_error: 0.0155 - val_level1_mean_squared_error: 0.0158 - val_level2_mean_squared_error: 0.0255 - val_level3_mean_squared_error: 0.0213\n",
            "\n",
            "Epoch 00091: val_out_loss improved from 0.06439 to 0.06307, saving model to trained_models/UNet_1024_64_3_6_1.h5\n",
            "Epoch 92/300\n",
            "17/17 [==============================] - 5s 310ms/step - loss: 0.1993 - out_loss: 0.0540 - level1_loss: 0.0542 - level2_loss: 0.0547 - level3_loss: 0.0585 - out_mean_squared_error: 0.0132 - level1_mean_squared_error: 0.0137 - level2_mean_squared_error: 0.0131 - level3_mean_squared_error: 0.0144 - val_loss: 0.2658 - val_out_loss: 0.0721 - val_level1_loss: 0.0724 - val_level2_loss: 0.0739 - val_level3_loss: 0.0769 - val_out_mean_squared_error: 0.0185 - val_level1_mean_squared_error: 0.0200 - val_level2_mean_squared_error: 0.0191 - val_level3_mean_squared_error: 0.0176\n",
            "\n",
            "Epoch 00092: val_out_loss did not improve from 0.06307\n",
            "Epoch 93/300\n",
            "17/17 [==============================] - 5s 311ms/step - loss: 0.1965 - out_loss: 0.0535 - level1_loss: 0.0535 - level2_loss: 0.0542 - level3_loss: 0.0571 - out_mean_squared_error: 0.0129 - level1_mean_squared_error: 0.0134 - level2_mean_squared_error: 0.0132 - level3_mean_squared_error: 0.0136 - val_loss: 0.2620 - val_out_loss: 0.0692 - val_level1_loss: 0.0694 - val_level2_loss: 0.0737 - val_level3_loss: 0.0788 - val_out_mean_squared_error: 0.0168 - val_level1_mean_squared_error: 0.0171 - val_level2_mean_squared_error: 0.0178 - val_level3_mean_squared_error: 0.0173\n",
            "\n",
            "Epoch 00093: val_out_loss did not improve from 0.06307\n",
            "Epoch 94/300\n",
            "17/17 [==============================] - 5s 311ms/step - loss: 0.1989 - out_loss: 0.0531 - level1_loss: 0.0539 - level2_loss: 0.0551 - level3_loss: 0.0589 - out_mean_squared_error: 0.0131 - level1_mean_squared_error: 0.0131 - level2_mean_squared_error: 0.0133 - level3_mean_squared_error: 0.0138 - val_loss: 0.2429 - val_out_loss: 0.0646 - val_level1_loss: 0.0650 - val_level2_loss: 0.0692 - val_level3_loss: 0.0710 - val_out_mean_squared_error: 0.0158 - val_level1_mean_squared_error: 0.0159 - val_level2_mean_squared_error: 0.0163 - val_level3_mean_squared_error: 0.0173\n",
            "\n",
            "Epoch 00094: val_out_loss did not improve from 0.06307\n",
            "Epoch 95/300\n",
            "17/17 [==============================] - 5s 310ms/step - loss: 0.2027 - out_loss: 0.0535 - level1_loss: 0.0541 - level2_loss: 0.0568 - level3_loss: 0.0608 - out_mean_squared_error: 0.0132 - level1_mean_squared_error: 0.0135 - level2_mean_squared_error: 0.0137 - level3_mean_squared_error: 0.0161 - val_loss: 0.2608 - val_out_loss: 0.0701 - val_level1_loss: 0.0717 - val_level2_loss: 0.0718 - val_level3_loss: 0.0762 - val_out_mean_squared_error: 0.0188 - val_level1_mean_squared_error: 0.0199 - val_level2_mean_squared_error: 0.0183 - val_level3_mean_squared_error: 0.0202\n",
            "\n",
            "Epoch 00095: val_out_loss did not improve from 0.06307\n",
            "Epoch 96/300\n",
            "17/17 [==============================] - 5s 309ms/step - loss: 0.1957 - out_loss: 0.0531 - level1_loss: 0.0527 - level2_loss: 0.0539 - level3_loss: 0.0578 - out_mean_squared_error: 0.0132 - level1_mean_squared_error: 0.0133 - level2_mean_squared_error: 0.0132 - level3_mean_squared_error: 0.0145 - val_loss: 0.2288 - val_out_loss: 0.0620 - val_level1_loss: 0.0625 - val_level2_loss: 0.0636 - val_level3_loss: 0.0660 - val_out_mean_squared_error: 0.0161 - val_level1_mean_squared_error: 0.0163 - val_level2_mean_squared_error: 0.0162 - val_level3_mean_squared_error: 0.0170\n",
            "\n",
            "Epoch 00096: val_out_loss improved from 0.06307 to 0.06203, saving model to trained_models/UNet_1024_64_3_6_1.h5\n",
            "Epoch 97/300\n",
            "17/17 [==============================] - 5s 314ms/step - loss: 0.1945 - out_loss: 0.0525 - level1_loss: 0.0527 - level2_loss: 0.0543 - level3_loss: 0.0567 - out_mean_squared_error: 0.0130 - level1_mean_squared_error: 0.0130 - level2_mean_squared_error: 0.0134 - level3_mean_squared_error: 0.0141 - val_loss: 0.2332 - val_out_loss: 0.0620 - val_level1_loss: 0.0635 - val_level2_loss: 0.0641 - val_level3_loss: 0.0695 - val_out_mean_squared_error: 0.0158 - val_level1_mean_squared_error: 0.0154 - val_level2_mean_squared_error: 0.0162 - val_level3_mean_squared_error: 0.0164\n",
            "\n",
            "Epoch 00097: val_out_loss improved from 0.06203 to 0.06197, saving model to trained_models/UNet_1024_64_3_6_1.h5\n",
            "Epoch 98/300\n",
            "17/17 [==============================] - 5s 310ms/step - loss: 0.1938 - out_loss: 0.0523 - level1_loss: 0.0520 - level2_loss: 0.0538 - level3_loss: 0.0573 - out_mean_squared_error: 0.0129 - level1_mean_squared_error: 0.0128 - level2_mean_squared_error: 0.0129 - level3_mean_squared_error: 0.0142 - val_loss: 0.2505 - val_out_loss: 0.0665 - val_level1_loss: 0.0671 - val_level2_loss: 0.0699 - val_level3_loss: 0.0749 - val_out_mean_squared_error: 0.0173 - val_level1_mean_squared_error: 0.0175 - val_level2_mean_squared_error: 0.0181 - val_level3_mean_squared_error: 0.0188\n",
            "\n",
            "Epoch 00098: val_out_loss did not improve from 0.06197\n",
            "Epoch 99/300\n",
            "17/17 [==============================] - 5s 310ms/step - loss: 0.1899 - out_loss: 0.0511 - level1_loss: 0.0510 - level2_loss: 0.0530 - level3_loss: 0.0560 - out_mean_squared_error: 0.0126 - level1_mean_squared_error: 0.0126 - level2_mean_squared_error: 0.0128 - level3_mean_squared_error: 0.0142 - val_loss: 0.2578 - val_out_loss: 0.0700 - val_level1_loss: 0.0697 - val_level2_loss: 0.0739 - val_level3_loss: 0.0729 - val_out_mean_squared_error: 0.0162 - val_level1_mean_squared_error: 0.0164 - val_level2_mean_squared_error: 0.0164 - val_level3_mean_squared_error: 0.0174\n",
            "\n",
            "Epoch 00099: val_out_loss did not improve from 0.06197\n",
            "Epoch 100/300\n",
            "17/17 [==============================] - 5s 312ms/step - loss: 0.1959 - out_loss: 0.0525 - level1_loss: 0.0529 - level2_loss: 0.0548 - level3_loss: 0.0574 - out_mean_squared_error: 0.0126 - level1_mean_squared_error: 0.0125 - level2_mean_squared_error: 0.0130 - level3_mean_squared_error: 0.0146 - val_loss: 0.2583 - val_out_loss: 0.0699 - val_level1_loss: 0.0692 - val_level2_loss: 0.0725 - val_level3_loss: 0.0755 - val_out_mean_squared_error: 0.0175 - val_level1_mean_squared_error: 0.0169 - val_level2_mean_squared_error: 0.0211 - val_level3_mean_squared_error: 0.0225\n",
            "\n",
            "Epoch 00100: val_out_loss did not improve from 0.06197\n",
            "Epoch 101/300\n",
            "17/17 [==============================] - 5s 311ms/step - loss: 0.2008 - out_loss: 0.0544 - level1_loss: 0.0530 - level2_loss: 0.0555 - level3_loss: 0.0603 - out_mean_squared_error: 0.0131 - level1_mean_squared_error: 0.0131 - level2_mean_squared_error: 0.0136 - level3_mean_squared_error: 0.0160 - val_loss: 0.2565 - val_out_loss: 0.0692 - val_level1_loss: 0.0682 - val_level2_loss: 0.0695 - val_level3_loss: 0.0782 - val_out_mean_squared_error: 0.0175 - val_level1_mean_squared_error: 0.0168 - val_level2_mean_squared_error: 0.0172 - val_level3_mean_squared_error: 0.0190\n",
            "\n",
            "Epoch 00101: val_out_loss did not improve from 0.06197\n",
            "Epoch 102/300\n",
            "17/17 [==============================] - 5s 312ms/step - loss: 0.1971 - out_loss: 0.0525 - level1_loss: 0.0532 - level2_loss: 0.0546 - level3_loss: 0.0586 - out_mean_squared_error: 0.0130 - level1_mean_squared_error: 0.0133 - level2_mean_squared_error: 0.0134 - level3_mean_squared_error: 0.0146 - val_loss: 0.2661 - val_out_loss: 0.0702 - val_level1_loss: 0.0699 - val_level2_loss: 0.0725 - val_level3_loss: 0.0829 - val_out_mean_squared_error: 0.0175 - val_level1_mean_squared_error: 0.0180 - val_level2_mean_squared_error: 0.0182 - val_level3_mean_squared_error: 0.0196\n",
            "\n",
            "Epoch 00102: val_out_loss did not improve from 0.06197\n",
            "Epoch 103/300\n",
            "17/17 [==============================] - 5s 312ms/step - loss: 0.1933 - out_loss: 0.0527 - level1_loss: 0.0527 - level2_loss: 0.0531 - level3_loss: 0.0563 - out_mean_squared_error: 0.0130 - level1_mean_squared_error: 0.0136 - level2_mean_squared_error: 0.0128 - level3_mean_squared_error: 0.0135 - val_loss: 0.2867 - val_out_loss: 0.0793 - val_level1_loss: 0.0755 - val_level2_loss: 0.0818 - val_level3_loss: 0.0820 - val_out_mean_squared_error: 0.0213 - val_level1_mean_squared_error: 0.0207 - val_level2_mean_squared_error: 0.0215 - val_level3_mean_squared_error: 0.0235\n",
            "\n",
            "Epoch 00103: val_out_loss did not improve from 0.06197\n",
            "Epoch 104/300\n",
            "17/17 [==============================] - 5s 314ms/step - loss: 0.1938 - out_loss: 0.0530 - level1_loss: 0.0526 - level2_loss: 0.0532 - level3_loss: 0.0565 - out_mean_squared_error: 0.0131 - level1_mean_squared_error: 0.0133 - level2_mean_squared_error: 0.0130 - level3_mean_squared_error: 0.0137 - val_loss: 0.2474 - val_out_loss: 0.0670 - val_level1_loss: 0.0655 - val_level2_loss: 0.0697 - val_level3_loss: 0.0726 - val_out_mean_squared_error: 0.0171 - val_level1_mean_squared_error: 0.0168 - val_level2_mean_squared_error: 0.0182 - val_level3_mean_squared_error: 0.0184\n",
            "\n",
            "Epoch 00104: val_out_loss did not improve from 0.06197\n",
            "Epoch 105/300\n",
            "17/17 [==============================] - 5s 312ms/step - loss: 0.1879 - out_loss: 0.0503 - level1_loss: 0.0507 - level2_loss: 0.0520 - level3_loss: 0.0558 - out_mean_squared_error: 0.0123 - level1_mean_squared_error: 0.0125 - level2_mean_squared_error: 0.0127 - level3_mean_squared_error: 0.0138 - val_loss: 0.2849 - val_out_loss: 0.0786 - val_level1_loss: 0.0766 - val_level2_loss: 0.0789 - val_level3_loss: 0.0824 - val_out_mean_squared_error: 0.0213 - val_level1_mean_squared_error: 0.0206 - val_level2_mean_squared_error: 0.0203 - val_level3_mean_squared_error: 0.0212\n",
            "\n",
            "Epoch 00105: val_out_loss did not improve from 0.06197\n",
            "Epoch 106/300\n",
            "17/17 [==============================] - 5s 310ms/step - loss: 0.1888 - out_loss: 0.0511 - level1_loss: 0.0508 - level2_loss: 0.0524 - level3_loss: 0.0554 - out_mean_squared_error: 0.0124 - level1_mean_squared_error: 0.0125 - level2_mean_squared_error: 0.0128 - level3_mean_squared_error: 0.0134 - val_loss: 0.2514 - val_out_loss: 0.0669 - val_level1_loss: 0.0682 - val_level2_loss: 0.0690 - val_level3_loss: 0.0752 - val_out_mean_squared_error: 0.0171 - val_level1_mean_squared_error: 0.0171 - val_level2_mean_squared_error: 0.0170 - val_level3_mean_squared_error: 0.0184\n",
            "\n",
            "Epoch 00106: val_out_loss did not improve from 0.06197\n",
            "Epoch 107/300\n",
            "17/17 [==============================] - 5s 312ms/step - loss: 0.1861 - out_loss: 0.0503 - level1_loss: 0.0498 - level2_loss: 0.0515 - level3_loss: 0.0552 - out_mean_squared_error: 0.0122 - level1_mean_squared_error: 0.0122 - level2_mean_squared_error: 0.0124 - level3_mean_squared_error: 0.0134 - val_loss: 0.2363 - val_out_loss: 0.0635 - val_level1_loss: 0.0630 - val_level2_loss: 0.0669 - val_level3_loss: 0.0692 - val_out_mean_squared_error: 0.0165 - val_level1_mean_squared_error: 0.0165 - val_level2_mean_squared_error: 0.0172 - val_level3_mean_squared_error: 0.0177\n",
            "\n",
            "Epoch 00107: val_out_loss did not improve from 0.06197\n",
            "Epoch 108/300\n",
            "17/17 [==============================] - 5s 312ms/step - loss: 0.1891 - out_loss: 0.0513 - level1_loss: 0.0514 - level2_loss: 0.0517 - level3_loss: 0.0557 - out_mean_squared_error: 0.0125 - level1_mean_squared_error: 0.0126 - level2_mean_squared_error: 0.0125 - level3_mean_squared_error: 0.0136 - val_loss: 0.2436 - val_out_loss: 0.0644 - val_level1_loss: 0.0661 - val_level2_loss: 0.0679 - val_level3_loss: 0.0722 - val_out_mean_squared_error: 0.0159 - val_level1_mean_squared_error: 0.0167 - val_level2_mean_squared_error: 0.0165 - val_level3_mean_squared_error: 0.0169\n",
            "\n",
            "Epoch 00108: val_out_loss did not improve from 0.06197\n",
            "Epoch 109/300\n",
            "17/17 [==============================] - 5s 311ms/step - loss: 0.1912 - out_loss: 0.0513 - level1_loss: 0.0514 - level2_loss: 0.0530 - level3_loss: 0.0567 - out_mean_squared_error: 0.0124 - level1_mean_squared_error: 0.0125 - level2_mean_squared_error: 0.0129 - level3_mean_squared_error: 0.0135 - val_loss: 0.2795 - val_out_loss: 0.0753 - val_level1_loss: 0.0760 - val_level2_loss: 0.0758 - val_level3_loss: 0.0834 - val_out_mean_squared_error: 0.0178 - val_level1_mean_squared_error: 0.0197 - val_level2_mean_squared_error: 0.0190 - val_level3_mean_squared_error: 0.0219\n",
            "\n",
            "Epoch 00109: val_out_loss did not improve from 0.06197\n",
            "Epoch 110/300\n",
            "17/17 [==============================] - 5s 310ms/step - loss: 0.1902 - out_loss: 0.0510 - level1_loss: 0.0514 - level2_loss: 0.0518 - level3_loss: 0.0572 - out_mean_squared_error: 0.0126 - level1_mean_squared_error: 0.0128 - level2_mean_squared_error: 0.0126 - level3_mean_squared_error: 0.0137 - val_loss: 0.2788 - val_out_loss: 0.0745 - val_level1_loss: 0.0773 - val_level2_loss: 0.0769 - val_level3_loss: 0.0811 - val_out_mean_squared_error: 0.0182 - val_level1_mean_squared_error: 0.0198 - val_level2_mean_squared_error: 0.0188 - val_level3_mean_squared_error: 0.0192\n",
            "\n",
            "Epoch 00110: val_out_loss did not improve from 0.06197\n",
            "Epoch 111/300\n",
            "17/17 [==============================] - 5s 312ms/step - loss: 0.1874 - out_loss: 0.0506 - level1_loss: 0.0500 - level2_loss: 0.0521 - level3_loss: 0.0555 - out_mean_squared_error: 0.0124 - level1_mean_squared_error: 0.0122 - level2_mean_squared_error: 0.0129 - level3_mean_squared_error: 0.0136 - val_loss: 0.3424 - val_out_loss: 0.0890 - val_level1_loss: 0.0924 - val_level2_loss: 0.0977 - val_level3_loss: 0.1014 - val_out_mean_squared_error: 0.0222 - val_level1_mean_squared_error: 0.0237 - val_level2_mean_squared_error: 0.0245 - val_level3_mean_squared_error: 0.0241\n",
            "\n",
            "Epoch 00111: val_out_loss did not improve from 0.06197\n",
            "Epoch 112/300\n",
            "17/17 [==============================] - 5s 312ms/step - loss: 0.1878 - out_loss: 0.0511 - level1_loss: 0.0502 - level2_loss: 0.0524 - level3_loss: 0.0550 - out_mean_squared_error: 0.0126 - level1_mean_squared_error: 0.0123 - level2_mean_squared_error: 0.0135 - level3_mean_squared_error: 0.0134 - val_loss: 0.2961 - val_out_loss: 0.0792 - val_level1_loss: 0.0794 - val_level2_loss: 0.0845 - val_level3_loss: 0.0860 - val_out_mean_squared_error: 0.0215 - val_level1_mean_squared_error: 0.0212 - val_level2_mean_squared_error: 0.0250 - val_level3_mean_squared_error: 0.0210\n",
            "\n",
            "Epoch 00112: val_out_loss did not improve from 0.06197\n",
            "Epoch 113/300\n",
            "17/17 [==============================] - 5s 310ms/step - loss: 0.1875 - out_loss: 0.0515 - level1_loss: 0.0506 - level2_loss: 0.0520 - level3_loss: 0.0542 - out_mean_squared_error: 0.0127 - level1_mean_squared_error: 0.0124 - level2_mean_squared_error: 0.0138 - level3_mean_squared_error: 0.0134 - val_loss: 0.2410 - val_out_loss: 0.0661 - val_level1_loss: 0.0645 - val_level2_loss: 0.0661 - val_level3_loss: 0.0710 - val_out_mean_squared_error: 0.0172 - val_level1_mean_squared_error: 0.0172 - val_level2_mean_squared_error: 0.0168 - val_level3_mean_squared_error: 0.0172\n",
            "\n",
            "Epoch 00113: val_out_loss did not improve from 0.06197\n",
            "Epoch 114/300\n",
            "17/17 [==============================] - 5s 312ms/step - loss: 0.1866 - out_loss: 0.0509 - level1_loss: 0.0505 - level2_loss: 0.0511 - level3_loss: 0.0548 - out_mean_squared_error: 0.0124 - level1_mean_squared_error: 0.0123 - level2_mean_squared_error: 0.0122 - level3_mean_squared_error: 0.0133 - val_loss: 0.2519 - val_out_loss: 0.0673 - val_level1_loss: 0.0685 - val_level2_loss: 0.0699 - val_level3_loss: 0.0743 - val_out_mean_squared_error: 0.0174 - val_level1_mean_squared_error: 0.0181 - val_level2_mean_squared_error: 0.0176 - val_level3_mean_squared_error: 0.0189\n",
            "\n",
            "Epoch 00114: val_out_loss did not improve from 0.06197\n",
            "Epoch 115/300\n",
            "17/17 [==============================] - 5s 312ms/step - loss: 0.1850 - out_loss: 0.0498 - level1_loss: 0.0498 - level2_loss: 0.0508 - level3_loss: 0.0551 - out_mean_squared_error: 0.0122 - level1_mean_squared_error: 0.0122 - level2_mean_squared_error: 0.0123 - level3_mean_squared_error: 0.0142 - val_loss: 0.2516 - val_out_loss: 0.0678 - val_level1_loss: 0.0683 - val_level2_loss: 0.0640 - val_level3_loss: 0.0796 - val_out_mean_squared_error: 0.0178 - val_level1_mean_squared_error: 0.0208 - val_level2_mean_squared_error: 0.0162 - val_level3_mean_squared_error: 0.0379\n",
            "\n",
            "Epoch 00115: val_out_loss did not improve from 0.06197\n",
            "Epoch 116/300\n",
            "17/17 [==============================] - 5s 311ms/step - loss: 0.1862 - out_loss: 0.0499 - level1_loss: 0.0503 - level2_loss: 0.0510 - level3_loss: 0.0557 - out_mean_squared_error: 0.0123 - level1_mean_squared_error: 0.0121 - level2_mean_squared_error: 0.0123 - level3_mean_squared_error: 0.0140 - val_loss: 0.2499 - val_out_loss: 0.0690 - val_level1_loss: 0.0674 - val_level2_loss: 0.0662 - val_level3_loss: 0.0751 - val_out_mean_squared_error: 0.0182 - val_level1_mean_squared_error: 0.0185 - val_level2_mean_squared_error: 0.0166 - val_level3_mean_squared_error: 0.0186\n",
            "\n",
            "Epoch 00116: val_out_loss did not improve from 0.06197\n",
            "Epoch 117/300\n",
            "17/17 [==============================] - 5s 311ms/step - loss: 0.1917 - out_loss: 0.0507 - level1_loss: 0.0505 - level2_loss: 0.0529 - level3_loss: 0.0588 - out_mean_squared_error: 0.0124 - level1_mean_squared_error: 0.0121 - level2_mean_squared_error: 0.0126 - level3_mean_squared_error: 0.0154 - val_loss: 0.2646 - val_out_loss: 0.0742 - val_level1_loss: 0.0715 - val_level2_loss: 0.0723 - val_level3_loss: 0.0759 - val_out_mean_squared_error: 0.0194 - val_level1_mean_squared_error: 0.0186 - val_level2_mean_squared_error: 0.0182 - val_level3_mean_squared_error: 0.0194\n",
            "\n",
            "Epoch 00117: val_out_loss did not improve from 0.06197\n",
            "Epoch 118/300\n",
            "17/17 [==============================] - 5s 312ms/step - loss: 0.1958 - out_loss: 0.0525 - level1_loss: 0.0526 - level2_loss: 0.0535 - level3_loss: 0.0589 - out_mean_squared_error: 0.0129 - level1_mean_squared_error: 0.0129 - level2_mean_squared_error: 0.0127 - level3_mean_squared_error: 0.0142 - val_loss: 0.2988 - val_out_loss: 0.0783 - val_level1_loss: 0.0813 - val_level2_loss: 0.0821 - val_level3_loss: 0.0904 - val_out_mean_squared_error: 0.0199 - val_level1_mean_squared_error: 0.0235 - val_level2_mean_squared_error: 0.0221 - val_level3_mean_squared_error: 0.0229\n",
            "\n",
            "Epoch 00118: val_out_loss did not improve from 0.06197\n",
            "Epoch 119/300\n",
            "17/17 [==============================] - 5s 311ms/step - loss: 0.1897 - out_loss: 0.0508 - level1_loss: 0.0509 - level2_loss: 0.0527 - level3_loss: 0.0565 - out_mean_squared_error: 0.0123 - level1_mean_squared_error: 0.0123 - level2_mean_squared_error: 0.0125 - level3_mean_squared_error: 0.0137 - val_loss: 0.3772 - val_out_loss: 0.1037 - val_level1_loss: 0.1142 - val_level2_loss: 0.1038 - val_level3_loss: 0.0974 - val_out_mean_squared_error: 0.0263 - val_level1_mean_squared_error: 0.0347 - val_level2_mean_squared_error: 0.0259 - val_level3_mean_squared_error: 0.0273\n",
            "\n",
            "Epoch 00119: val_out_loss did not improve from 0.06197\n",
            "Epoch 120/300\n",
            "17/17 [==============================] - 5s 311ms/step - loss: 0.1862 - out_loss: 0.0500 - level1_loss: 0.0503 - level2_loss: 0.0528 - level3_loss: 0.0538 - out_mean_squared_error: 0.0123 - level1_mean_squared_error: 0.0126 - level2_mean_squared_error: 0.0127 - level3_mean_squared_error: 0.0130 - val_loss: 0.3056 - val_out_loss: 0.0814 - val_level1_loss: 0.0803 - val_level2_loss: 0.0854 - val_level3_loss: 0.0924 - val_out_mean_squared_error: 0.0198 - val_level1_mean_squared_error: 0.0200 - val_level2_mean_squared_error: 0.0208 - val_level3_mean_squared_error: 0.0240\n",
            "\n",
            "Epoch 00120: val_out_loss did not improve from 0.06197\n",
            "Epoch 121/300\n",
            "17/17 [==============================] - 5s 310ms/step - loss: 0.1844 - out_loss: 0.0495 - level1_loss: 0.0504 - level2_loss: 0.0513 - level3_loss: 0.0537 - out_mean_squared_error: 0.0121 - level1_mean_squared_error: 0.0122 - level2_mean_squared_error: 0.0124 - level3_mean_squared_error: 0.0136 - val_loss: 0.2427 - val_out_loss: 0.0655 - val_level1_loss: 0.0663 - val_level2_loss: 0.0653 - val_level3_loss: 0.0725 - val_out_mean_squared_error: 0.0167 - val_level1_mean_squared_error: 0.0171 - val_level2_mean_squared_error: 0.0164 - val_level3_mean_squared_error: 0.0200\n",
            "\n",
            "Epoch 00121: val_out_loss did not improve from 0.06197\n",
            "Epoch 122/300\n",
            "17/17 [==============================] - 5s 310ms/step - loss: 0.1874 - out_loss: 0.0498 - level1_loss: 0.0510 - level2_loss: 0.0519 - level3_loss: 0.0555 - out_mean_squared_error: 0.0120 - level1_mean_squared_error: 0.0123 - level2_mean_squared_error: 0.0122 - level3_mean_squared_error: 0.0134 - val_loss: 0.2535 - val_out_loss: 0.0696 - val_level1_loss: 0.0699 - val_level2_loss: 0.0693 - val_level3_loss: 0.0727 - val_out_mean_squared_error: 0.0179 - val_level1_mean_squared_error: 0.0175 - val_level2_mean_squared_error: 0.0188 - val_level3_mean_squared_error: 0.0175\n",
            "\n",
            "Epoch 00122: val_out_loss did not improve from 0.06197\n",
            "Epoch 123/300\n",
            "17/17 [==============================] - 5s 311ms/step - loss: 0.1906 - out_loss: 0.0509 - level1_loss: 0.0525 - level2_loss: 0.0524 - level3_loss: 0.0561 - out_mean_squared_error: 0.0125 - level1_mean_squared_error: 0.0125 - level2_mean_squared_error: 0.0125 - level3_mean_squared_error: 0.0138 - val_loss: 0.2666 - val_out_loss: 0.0713 - val_level1_loss: 0.0715 - val_level2_loss: 0.0773 - val_level3_loss: 0.0761 - val_out_mean_squared_error: 0.0192 - val_level1_mean_squared_error: 0.0190 - val_level2_mean_squared_error: 0.0206 - val_level3_mean_squared_error: 0.0198\n",
            "\n",
            "Epoch 00123: val_out_loss did not improve from 0.06197\n",
            "Epoch 124/300\n",
            "17/17 [==============================] - 5s 312ms/step - loss: 0.1894 - out_loss: 0.0508 - level1_loss: 0.0512 - level2_loss: 0.0531 - level3_loss: 0.0554 - out_mean_squared_error: 0.0124 - level1_mean_squared_error: 0.0124 - level2_mean_squared_error: 0.0128 - level3_mean_squared_error: 0.0135 - val_loss: 0.2377 - val_out_loss: 0.0658 - val_level1_loss: 0.0640 - val_level2_loss: 0.0671 - val_level3_loss: 0.0671 - val_out_mean_squared_error: 0.0174 - val_level1_mean_squared_error: 0.0172 - val_level2_mean_squared_error: 0.0200 - val_level3_mean_squared_error: 0.0170\n",
            "\n",
            "Epoch 00124: val_out_loss did not improve from 0.06197\n",
            "Epoch 125/300\n",
            "17/17 [==============================] - 5s 312ms/step - loss: 0.1819 - out_loss: 0.0488 - level1_loss: 0.0491 - level2_loss: 0.0509 - level3_loss: 0.0534 - out_mean_squared_error: 0.0118 - level1_mean_squared_error: 0.0121 - level2_mean_squared_error: 0.0131 - level3_mean_squared_error: 0.0128 - val_loss: 0.2521 - val_out_loss: 0.0714 - val_level1_loss: 0.0683 - val_level2_loss: 0.0691 - val_level3_loss: 0.0713 - val_out_mean_squared_error: 0.0183 - val_level1_mean_squared_error: 0.0179 - val_level2_mean_squared_error: 0.0172 - val_level3_mean_squared_error: 0.0175\n",
            "\n",
            "Epoch 00125: val_out_loss did not improve from 0.06197\n",
            "Epoch 126/300\n",
            "17/17 [==============================] - 5s 314ms/step - loss: 0.1841 - out_loss: 0.0495 - level1_loss: 0.0495 - level2_loss: 0.0512 - level3_loss: 0.0544 - out_mean_squared_error: 0.0117 - level1_mean_squared_error: 0.0118 - level2_mean_squared_error: 0.0121 - level3_mean_squared_error: 0.0126 - val_loss: 0.2560 - val_out_loss: 0.0688 - val_level1_loss: 0.0696 - val_level2_loss: 0.0692 - val_level3_loss: 0.0768 - val_out_mean_squared_error: 0.0183 - val_level1_mean_squared_error: 0.0188 - val_level2_mean_squared_error: 0.0177 - val_level3_mean_squared_error: 0.0188\n",
            "\n",
            "Epoch 00126: val_out_loss did not improve from 0.06197\n",
            "Epoch 127/300\n",
            "17/17 [==============================] - 5s 310ms/step - loss: 0.1816 - out_loss: 0.0494 - level1_loss: 0.0492 - level2_loss: 0.0502 - level3_loss: 0.0530 - out_mean_squared_error: 0.0120 - level1_mean_squared_error: 0.0122 - level2_mean_squared_error: 0.0122 - level3_mean_squared_error: 0.0126 - val_loss: 0.2392 - val_out_loss: 0.0648 - val_level1_loss: 0.0663 - val_level2_loss: 0.0665 - val_level3_loss: 0.0682 - val_out_mean_squared_error: 0.0170 - val_level1_mean_squared_error: 0.0184 - val_level2_mean_squared_error: 0.0181 - val_level3_mean_squared_error: 0.0168\n",
            "\n",
            "Epoch 00127: val_out_loss did not improve from 0.06197\n"
          ]
        }
      ]
    },
    {
      "cell_type": "markdown",
      "metadata": {
        "id": "KXKtueC8-Hec"
      },
      "source": [
        "Predict from the Test set"
      ]
    },
    {
      "cell_type": "code",
      "metadata": {
        "id": "da_GxBdub11V",
        "colab": {
          "base_uri": "https://localhost:8080/"
        },
        "outputId": "bf21f7c4-0908-4831-b58f-590d605b196a"
      },
      "source": [
        "if D_S == 0:\n",
        "    EEG_App = EEGIMU_Network.predict(X_Test, verbose=1)\n",
        "    print(EEG_App.shape)\n",
        "elif D_S == 1:\n",
        "    EEG_App = EEGIMU_Network.predict(X_Test1, verbose=1)\n",
        "    print(EEG_App[0].shape)"
      ],
      "execution_count": 22,
      "outputs": [
        {
          "output_type": "stream",
          "name": "stdout",
          "text": [
            "11/11 [==============================] - 2s 63ms/step\n",
            "(326, 1024, 1)\n"
          ]
        }
      ]
    },
    {
      "cell_type": "markdown",
      "metadata": {
        "id": "I5VOUzPq-qyv"
      },
      "source": [
        "Plot History Plots (e.g., Loss, Accuracy, etc.)"
      ]
    },
    {
      "cell_type": "code",
      "metadata": {
        "id": "FEbvTDd7-nZH",
        "colab": {
          "base_uri": "https://localhost:8080/",
          "height": 522
        },
        "outputId": "1a00e71c-852b-4729-966a-43819dd6cae9"
      },
      "source": [
        "def history_plot(history):\n",
        "  # list all dictionaries in history\n",
        "  print(history.history.keys())\n",
        "  # summarize history for error\n",
        "  plt.figure(figsize=(7,7))\n",
        "  plt.subplot(2,1,1)\n",
        "  plt.plot(history.history['out_mean_squared_error'])\n",
        "  plt.plot(history.history['val_out_mean_squared_error'])\n",
        "  plt.title('Model Error Performance')\n",
        "  plt.ylabel('Error')\n",
        "  plt.xlabel('Epoch')\n",
        "  plt.legend(['Train', 'Val'], loc='upper right')\n",
        "  plt.ylim([0, 3])\n",
        "  plt.show()\n",
        "  # summarize history for loss\n",
        "  plt.figure(figsize=(7,7))\n",
        "  plt.subplot(2,1,2)\n",
        "  plt.plot(history.history['out_loss'])\n",
        "  plt.plot(history.history['val_out_loss'])\n",
        "  plt.title('Model Loss')\n",
        "  plt.ylabel('Loss')\n",
        "  plt.xlabel('Epoch')\n",
        "  plt.legend(['Train', 'Val'], loc='upper right')\n",
        "  plt.ylim([0, 3])\n",
        "  plt.show()\n",
        "#\n",
        "history_plot(history)"
      ],
      "execution_count": 23,
      "outputs": [
        {
          "output_type": "stream",
          "name": "stdout",
          "text": [
            "dict_keys(['loss', 'out_loss', 'level1_loss', 'level2_loss', 'level3_loss', 'out_mean_squared_error', 'level1_mean_squared_error', 'level2_mean_squared_error', 'level3_mean_squared_error', 'val_loss', 'val_out_loss', 'val_level1_loss', 'val_level2_loss', 'val_level3_loss', 'val_out_mean_squared_error', 'val_level1_mean_squared_error', 'val_level2_mean_squared_error', 'val_level3_mean_squared_error'])\n"
          ]
        },
        {
          "output_type": "display_data",
          "data": {
            "image/png": "[encoded data removed]",
            "text/plain": [
              "<Figure size 504x504 with 1 Axes>"
            ]
          },
          "metadata": {}
        },
        {
          "output_type": "display_data",
          "data": {
            "image/png": "[encoded data removed]",
            "text/plain": [
              "<Figure size 504x504 with 1 Axes>"
            ]
          },
          "metadata": {}
        }
      ]
    },
    {
      "cell_type": "markdown",
      "metadata": {
        "id": "RAkQe4Yp9QVP"
      },
      "source": [
        "Visualize Outcome"
      ]
    },
    {
      "cell_type": "code",
      "metadata": {
        "id": "tq3lBCm0crMc",
        "colab": {
          "base_uri": "https://localhost:8080/",
          "height": 281
        },
        "outputId": "bed40e35-75bd-4189-b583-30281583e936"
      },
      "source": [
        "if D_S == 0:\n",
        "    i = random.randint(0,len(Y_Test));\n",
        "    #\n",
        "    MAE = np.mean(np.abs(EEG_App[i].ravel()-Y_Test[i].ravel()));\n",
        "    #\n",
        "    plt.figure(figsize=(15, 4));\n",
        "    plt.plot(Y_Test1[i],label='GRND');\n",
        "    plt.plot(EEG_App[i].ravel(), label='Pred');\n",
        "    plt.title(f\"EEG -- Sample Number {i} -- MAE = {MAE}\");\n",
        "    plt.legend();\n",
        "    #\n",
        "elif D_S == 1:\n",
        "    i = random.randint(0,len(Y_Test));\n",
        "    #\n",
        "    MAE = np.mean(np.abs(EEG_App[0][i].ravel()-Y_Test[i].ravel()))\n",
        "    #\n",
        "    plt.figure(figsize=(15,4))\n",
        "    # plt.subplot(5,1,1)\n",
        "    plt.plot(Y_Test[i],label='Ground Truth');\n",
        "    plt.plot(EEG_App[0][i].ravel(), label='Prediction');\n",
        "    plt.title(f\"GRF -- Sample Number {i} -- MAE = {MAE}\");\n",
        "    plt.legend();\n",
        "    plt.show()\n",
        "    # plt.subplot(5,1,2)\n",
        "    # plt.plot((X_Test[i,:,0].ravel()),label='EEG2');\n",
        "    # plt.title('EEG2')\n",
        "    # plt.legend();\n",
        "    # plt.subplot(5,1,3)\n",
        "    # plt.plot((X_Test[i,:,1].ravel()),label='ACCX2');\n",
        "    # plt.title('ACCX')\n",
        "    # plt.legend();\n",
        "    # plt.subplot(5,1,4)\n",
        "    # plt.plot((X_Test[i,:,2].ravel()),label='ACCY2');\n",
        "    # plt.title('ACCY')\n",
        "    # plt.legend();\n",
        "    # plt.subplot(5,1,5)\n",
        "    # plt.plot((X_Test[i,:,3].ravel()),label='ACCZ2');\n",
        "    # plt.title('ACCZ')\n",
        "    # plt.legend();"
      ],
      "execution_count": 44,
      "outputs": [
        {
          "output_type": "display_data",
          "data": {
            "image/png": "[encoded data removed]",
            "text/plain": [
              "<Figure size 1080x288 with 1 Axes>"
            ]
          },
          "metadata": {}
        }
      ]
    },
    {
      "cell_type": "markdown",
      "metadata": {
        "id": "qgyZlT9gOC3r"
      },
      "source": [
        "### Evaluate EEG Reconstruction"
      ]
    },
    {
      "cell_type": "markdown",
      "metadata": {
        "id": "3Tn5t8svOC3z"
      },
      "source": [
        "Construction Error"
      ]
    },
    {
      "cell_type": "code",
      "metadata": {
        "id": "dCpLcxFHHGO4"
      },
      "source": [
        "def Construction_Error(GRND, Pred):\n",
        "    construction_err = []\n",
        "    bad_indices = []\n",
        "    count = 0\n",
        "\n",
        "    for i in range(len(GRND)):\n",
        "        MAE = np.mean(np.abs(Pred[i].ravel() - GRND[i].ravel()))\n",
        "        if MAE < 1:\n",
        "            construction_err.append(MAE)\n",
        "        elif MAE >= 1:\n",
        "            count = count + 1\n",
        "            bad_indices.append(i)\n",
        "\n",
        "    print(f'Construction Error : {round(np.mean(construction_err), 3)} +/- {round(np.std(construction_err), 3)}')\n",
        "    print(f'Number of Bad Predictions = {count}')\n",
        "\n",
        "    bad_indices = set(bad_indices)\n",
        "    all_indices = set(np.arange(len(GRND)))\n",
        "    good_indices = np.array(list(all_indices - bad_indices))\n",
        "    GRND_NEW = GRND[good_indices]\n",
        "    PRED_NEW = Pred[good_indices]\n",
        "\n",
        "    return GRND_NEW, PRED_NEW"
      ],
      "execution_count": 25,
      "outputs": []
    },
    {
      "cell_type": "code",
      "metadata": {
        "id": "-e5e02IX18_0",
        "colab": {
          "base_uri": "https://localhost:8080/"
        },
        "outputId": "2013f8da-5f89-47d6-c08d-11f6221c5662"
      },
      "source": [
        "[A,B] = Construction_Error(Y_Test,EEG_App[0])"
      ],
      "execution_count": 26,
      "outputs": [
        {
          "output_type": "stream",
          "name": "stdout",
          "text": [
            "Construction Error : 0.057 +/- 0.066\n",
            "Number of Bad Predictions = 0\n"
          ]
        }
      ]
    },
    {
      "cell_type": "markdown",
      "metadata": {
        "id": "RpBffrdYhNFs"
      },
      "source": [
        "### Save Files"
      ]
    },
    {
      "cell_type": "code",
      "metadata": {
        "id": "PIUgbKfFhO7O",
        "colab": {
          "base_uri": "https://localhost:8080/",
          "height": 231
        },
        "outputId": "521e7f48-aa53-4127-c8e4-28552d24f416"
      },
      "source": [
        "output_directory = 'Patient_Wise_Data/Outputs/Preds_Sub_' + str(Test_Case) + '.h5'\n",
        "File = h5py.File(output_directory, 'w')\n",
        "File.create_dataset('EEG_GT', data=Y_Test)\n",
        "File.create_dataset('EEG_MA', data=X_Test[:,:,0])\n",
        "File.create_dataset('EEG_Pred', data=EEG_App[0])\n",
        "File.close()"
      ],
      "execution_count": 27,
      "outputs": [
        {
          "output_type": "error",
          "ename": "NameError",
          "evalue": "ignored",
          "traceback": [
            "\u001b[0;31m---------------------------------------------------------------------------\u001b[0m",
            "\u001b[0;31mNameError\u001b[0m                                 Traceback (most recent call last)",
            "\u001b[0;32m<ipython-input-27-25ffc6fbf276>\u001b[0m in \u001b[0;36m<module>\u001b[0;34m()\u001b[0m\n\u001b[0;32m----> 1\u001b[0;31m \u001b[0moutput_directory\u001b[0m \u001b[0;34m=\u001b[0m \u001b[0;34m'Patient_Wise_Data/Outputs/Preds_Sub_'\u001b[0m \u001b[0;34m+\u001b[0m \u001b[0mstr\u001b[0m\u001b[0;34m(\u001b[0m\u001b[0mTest_Case\u001b[0m\u001b[0;34m)\u001b[0m \u001b[0;34m+\u001b[0m \u001b[0;34m'.h5'\u001b[0m\u001b[0;34m\u001b[0m\u001b[0;34m\u001b[0m\u001b[0m\n\u001b[0m\u001b[1;32m      2\u001b[0m \u001b[0mFile\u001b[0m \u001b[0;34m=\u001b[0m \u001b[0mh5py\u001b[0m\u001b[0;34m.\u001b[0m\u001b[0mFile\u001b[0m\u001b[0;34m(\u001b[0m\u001b[0moutput_directory\u001b[0m\u001b[0;34m,\u001b[0m \u001b[0;34m'w'\u001b[0m\u001b[0;34m)\u001b[0m\u001b[0;34m\u001b[0m\u001b[0;34m\u001b[0m\u001b[0m\n\u001b[1;32m      3\u001b[0m \u001b[0mFile\u001b[0m\u001b[0;34m.\u001b[0m\u001b[0mcreate_dataset\u001b[0m\u001b[0;34m(\u001b[0m\u001b[0;34m'EEG_GT'\u001b[0m\u001b[0;34m,\u001b[0m \u001b[0mdata\u001b[0m\u001b[0;34m=\u001b[0m\u001b[0mY_Test\u001b[0m\u001b[0;34m)\u001b[0m\u001b[0;34m\u001b[0m\u001b[0;34m\u001b[0m\u001b[0m\n\u001b[1;32m      4\u001b[0m \u001b[0mFile\u001b[0m\u001b[0;34m.\u001b[0m\u001b[0mcreate_dataset\u001b[0m\u001b[0;34m(\u001b[0m\u001b[0;34m'EEG_MA'\u001b[0m\u001b[0;34m,\u001b[0m \u001b[0mdata\u001b[0m\u001b[0;34m=\u001b[0m\u001b[0mX_Test\u001b[0m\u001b[0;34m[\u001b[0m\u001b[0;34m:\u001b[0m\u001b[0;34m,\u001b[0m\u001b[0;34m:\u001b[0m\u001b[0;34m,\u001b[0m\u001b[0;36m0\u001b[0m\u001b[0;34m]\u001b[0m\u001b[0;34m)\u001b[0m\u001b[0;34m\u001b[0m\u001b[0;34m\u001b[0m\u001b[0m\n\u001b[1;32m      5\u001b[0m \u001b[0mFile\u001b[0m\u001b[0;34m.\u001b[0m\u001b[0mcreate_dataset\u001b[0m\u001b[0;34m(\u001b[0m\u001b[0;34m'EEG_Pred'\u001b[0m\u001b[0;34m,\u001b[0m \u001b[0mdata\u001b[0m\u001b[0;34m=\u001b[0m\u001b[0mEEG_App\u001b[0m\u001b[0;34m[\u001b[0m\u001b[0;36m0\u001b[0m\u001b[0;34m]\u001b[0m\u001b[0;34m)\u001b[0m\u001b[0;34m\u001b[0m\u001b[0;34m\u001b[0m\u001b[0m\n",
            "\u001b[0;31mNameError\u001b[0m: name 'Test_Case' is not defined"
          ]
        }
      ]
    },
    {
      "cell_type": "markdown",
      "metadata": {
        "id": "WesN7p7AeYK4"
      },
      "source": [
        "# Infinite Loop to Keep the Tab Alive"
      ]
    },
    {
      "cell_type": "code",
      "metadata": {
        "id": "0HqQ3O6XeZ1f"
      },
      "source": [
        "while True:\n",
        "    pass"
      ],
      "execution_count": null,
      "outputs": []
    }
  ]
}