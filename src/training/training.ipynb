{
  "nbformat": 4,
  "nbformat_minor": 0,
  "metadata": {
    "colab": {
      "name": "EEG_Motion_Artifact_Removal_v1.ipynb",
      "provenance": [],
      "collapsed_sections": [
        "tgW7r0C9TuZk",
        "WOaiV66cCD6L",
        "fI8UCcR-oZc-",
        "_qTwozk_BS94",
        "WesN7p7AeYK4"
      ],
      "machine_shape": "hm",
      "include_colab_link": true
    },
    "kernelspec": {
      "display_name": "Python 3",
      "language": "python",
      "name": "python3"
    },
    "language_info": {
      "codemirror_mode": {
        "name": "ipython",
        "version": 3
      },
      "file_extension": ".py",
      "mimetype": "text/x-python",
      "name": "python",
      "nbconvert_exporter": "python",
      "pygments_lexer": "ipython3",
      "version": "3.5.2"
    },
    "accelerator": "GPU"
  },
  "cells": [
    {
      "cell_type": "markdown",
      "metadata": {
        "id": "view-in-github",
        "colab_type": "text"
      },
      "source": [
        "<a href=\"https://colab.research.google.com/github/atick-faisal/GRF-Synthesis-from-Motion-Trajectories/blob/main/src/training/training.ipynb\" target=\"_parent\"><img src=\"https://colab.research.google.com/assets/colab-badge.svg\" alt=\"Open In Colab\"/></a>"
      ]
    },
    {
      "cell_type": "markdown",
      "metadata": {
        "id": "sFyb0y7PUJOo"
      },
      "source": [
        "# EEG Motion Artifact Removal using Deep Learning - Complete Pipeline"
      ]
    },
    {
      "cell_type": "markdown",
      "metadata": {
        "id": "W9vTr2NhcGAA"
      },
      "source": [
        "# Test GPU (Optional)\n",
        "Before Starting, kindly check the available GPU from the Google Server, GPU model and other related information. It might help!"
      ]
    },
    {
      "cell_type": "code",
      "metadata": {
        "colab": {
          "base_uri": "https://localhost:8080/"
        },
        "id": "VUNJNtNxcFTF",
        "outputId": "e16856ae-5952-472c-aab6-7b56f0477b64"
      },
      "source": [
        "import torch\n",
        "print(\"Is CUDA enabled GPU Available?\", torch.cuda.is_available())\n",
        "print(\"GPU Number:\", torch.cuda.device_count())\n",
        "print(\"Current GPU Index:\", torch.cuda.current_device())\n",
        "print(\"GPU Type:\", torch.cuda.get_device_name(device=None))\n",
        "print(\"GPU Capability:\", torch.cuda.get_device_capability(device=None))\n",
        "print(\"Is GPU Initialized yet?\", torch.cuda.is_initialized())"
      ],
      "execution_count": 1,
      "outputs": [
        {
          "output_type": "stream",
          "name": "stdout",
          "text": [
            "Is CUDA enabled GPU Available? True\n",
            "GPU Number: 1\n",
            "Current GPU Index: 0\n",
            "GPU Type: Tesla K80\n",
            "GPU Capability: (3, 7)\n",
            "Is GPU Initialized yet? True\n"
          ]
        }
      ]
    },
    {
      "cell_type": "markdown",
      "metadata": {
        "id": "EQbDnsIZUSx0"
      },
      "source": [
        "# Connect to Google Drive"
      ]
    },
    {
      "cell_type": "code",
      "metadata": {
        "id": "wg4kMbwxsH9h"
      },
      "source": [
        "# from google.colab import drive\n",
        "# drive.mount('/content/GDrive')"
      ],
      "execution_count": 2,
      "outputs": []
    },
    {
      "cell_type": "markdown",
      "metadata": {
        "id": "GpdYZ2x3MbTd"
      },
      "source": [
        "Move to the Target Directory"
      ]
    },
    {
      "cell_type": "code",
      "metadata": {
        "id": "Efh543dRsQga"
      },
      "source": [
        "# %cd /content/GDrive/MyDrive/Colab_Notebooks/Research/EEG_IMU "
      ],
      "execution_count": 3,
      "outputs": []
    },
    {
      "cell_type": "markdown",
      "metadata": {
        "id": "_ZtMdxE7MeXX"
      },
      "source": [
        "List the Files and Folders Located in the Current Directory"
      ]
    },
    {
      "cell_type": "code",
      "metadata": {
        "id": "eM92ZPcisMK1"
      },
      "source": [
        "# !ls"
      ],
      "execution_count": 4,
      "outputs": []
    },
    {
      "cell_type": "markdown",
      "metadata": {
        "id": "ano69se-e3QY"
      },
      "source": [
        "## Evaluation of Predicting ABP Waveforms\n",
        "\n",
        "Here, we present an interactive CLI to predict the ABP waveform from PPG signal from the test data. Ground truth, prediction from approximation network and refinement network are presented, and a comparison is also demonstrated\n"
      ]
    },
    {
      "cell_type": "markdown",
      "metadata": {
        "id": "fHxmMNfno3U4"
      },
      "source": [
        "# Conling Repository"
      ]
    },
    {
      "cell_type": "code",
      "metadata": {
        "id": "xrTsiXfvo6bp",
        "colab": {
          "base_uri": "https://localhost:8080/"
        },
        "outputId": "65ef6836-6644-4477-ef9d-6cfee3e55603"
      },
      "source": [
        "!git clone https://github.com/atick-faisal/GRF-Synthesis-from-Motion-Trajectories.git"
      ],
      "execution_count": 5,
      "outputs": [
        {
          "output_type": "stream",
          "name": "stdout",
          "text": [
            "fatal: destination path 'GRF-Synthesis-from-Motion-Trajectories' already exists and is not an empty directory.\n"
          ]
        }
      ]
    },
    {
      "cell_type": "code",
      "metadata": {
        "id": "oCda5cmGpBUo",
        "colab": {
          "base_uri": "https://localhost:8080/"
        },
        "outputId": "9f3abf96-f9f9-4a15-bcb3-71df7479694d"
      },
      "source": [
        "%cd /content/GRF-Synthesis-from-Motion-Trajectories/src/\n",
        "!ls"
      ],
      "execution_count": 6,
      "outputs": [
        {
          "output_type": "stream",
          "name": "stdout",
          "text": [
            "/content/GRF-Synthesis-from-Motion-Trajectories/src\n",
            "data.joblib  models  preprocessing  trained_models  training  visualization\n"
          ]
        }
      ]
    },
    {
      "cell_type": "markdown",
      "metadata": {
        "id": "tgW7r0C9TuZk"
      },
      "source": [
        "#Import Libraries"
      ]
    },
    {
      "cell_type": "code",
      "metadata": {
        "id": "eMhBhz1CrMb3"
      },
      "source": [
        "import os\n",
        "import h5py\n",
        "import scipy\n",
        "import random\n",
        "import pickle\n",
        "import joblib\n",
        "import numpy as np\n",
        "import pandas as pd\n",
        "import seaborn as sns\n",
        "import tensorflow as tf\n",
        "from tqdm import tqdm\n",
        "import scipy.io as sio\n",
        "import matplotlib.pyplot as plt\n",
        "from sklearn.metrics import mean_squared_error, median_absolute_error, mean_absolute_error\n",
        "from sklearn.metrics import classification_report, confusion_matrix\n",
        "from sklearn.model_selection import train_test_split\n",
        "from pathlib import Path"
      ],
      "execution_count": 7,
      "outputs": []
    },
    {
      "cell_type": "code",
      "metadata": {
        "id": "lFydrjV6TxCc"
      },
      "source": [
        "from models import UNet"
      ],
      "execution_count": 8,
      "outputs": []
    },
    {
      "cell_type": "code",
      "metadata": {
        "id": "03JA1kRfzoit"
      },
      "source": [
        "%matplotlib inline\n",
        "sns.set_style('white')"
      ],
      "execution_count": 9,
      "outputs": []
    },
    {
      "cell_type": "markdown",
      "metadata": {
        "id": "VyFBKZ1ddRuM"
      },
      "source": [
        "# End-to-End Pipeline - EEG Motion Artifact Correction using Deep Learning"
      ]
    },
    {
      "cell_type": "markdown",
      "metadata": {
        "id": "WOaiV66cCD6L"
      },
      "source": [
        "## Prepare Dataset - k-Fold Cross Validation"
      ]
    },
    {
      "cell_type": "code",
      "metadata": {
        "id": "olkAEm0y2rUp",
        "colab": {
          "base_uri": "https://localhost:8080/"
        },
        "outputId": "1f3d0f67-8e09-49f4-c7e0-ffe890919eed"
      },
      "source": [
        "!gdown --id \"1mAUGcHMEjAwRy0DTU_h_0Jf6TBfrTzsb\""
      ],
      "execution_count": 10,
      "outputs": [
        {
          "output_type": "stream",
          "name": "stdout",
          "text": [
            "Downloading...\n",
            "From: https://drive.google.com/uc?id=1mAUGcHMEjAwRy0DTU_h_0Jf6TBfrTzsb\n",
            "To: /content/GRF-Synthesis-from-Motion-Trajectories/src/data.joblib\n",
            "100% 412M/412M [00:08<00:00, 51.2MB/s]\n"
          ]
        }
      ]
    },
    {
      "cell_type": "code",
      "metadata": {
        "id": "NLDwhb-xt3Y_",
        "colab": {
          "base_uri": "https://localhost:8080/"
        },
        "outputId": "8cdda1ae-03bd-40d4-8410-1db8c41be3de"
      },
      "source": [
        "from sklearn.preprocessing import MinMaxScaler\n",
        "from sklearn.preprocessing import StandardScaler\n",
        "\n",
        "data = joblib.load('data.joblib')\n",
        "features = data['X']\n",
        "target = data['y']\n",
        "\n",
        "features_z = features[['lfal_z', 'ltam_z', 'lfcc_z', 'lfm1_z', 'lfm2_z', 'lfm5_z']]\n",
        "target_z = target[['fz']]\n",
        "\n",
        "scaler = StandardScaler()\n",
        "scaler.fit(features_z)\n",
        "features_z = scaler.transform(features_z)\n",
        "\n",
        "scaler = StandardScaler()\n",
        "scaler.fit(target_z)\n",
        "target_z = scaler.transform(target_z)\n",
        "\n",
        "X = features_z.reshape(-1, 1024, 6)\n",
        "y = target_z.reshape(-1, 1024, 1)\n",
        "\n",
        "print(X.shape)\n",
        "print(y.shape)"
      ],
      "execution_count": 11,
      "outputs": [
        {
          "output_type": "stream",
          "name": "stdout",
          "text": [
            "(1143, 1024, 6)\n",
            "(1143, 1024, 1)\n"
          ]
        }
      ]
    },
    {
      "cell_type": "code",
      "metadata": {
        "id": "biuhCFxEfDY2",
        "colab": {
          "base_uri": "https://localhost:8080/"
        },
        "outputId": "31419fb2-5b02-4fd6-e10b-f0c1b250e670"
      },
      "source": [
        "features_z.shape"
      ],
      "execution_count": 12,
      "outputs": [
        {
          "output_type": "execute_result",
          "data": {
            "text/plain": [
              "(1170432, 6)"
            ]
          },
          "metadata": {},
          "execution_count": 12
        }
      ]
    },
    {
      "cell_type": "code",
      "metadata": {
        "id": "4cnlxZkZJT-Q",
        "colab": {
          "base_uri": "https://localhost:8080/"
        },
        "outputId": "9022c68b-57dd-490e-8ffb-6736490922e9"
      },
      "source": [
        "X_Train, X_Test, Y_Train, Y_Test = train_test_split(X, y, test_size=0.2, random_state=42)\n",
        "Y_Train = np.squeeze(Y_Train, axis=2)\n",
        "Y_Test = np.squeeze(Y_Test, axis=2)\n",
        "Y_Train.shape"
      ],
      "execution_count": 13,
      "outputs": [
        {
          "output_type": "execute_result",
          "data": {
            "text/plain": [
              "(914, 1024)"
            ]
          },
          "metadata": {},
          "execution_count": 13
        }
      ]
    },
    {
      "cell_type": "markdown",
      "metadata": {
        "id": "_qTwozk_BS94"
      },
      "source": [
        "## Garbage Collector"
      ]
    },
    {
      "cell_type": "code",
      "metadata": {
        "id": "ch2jmn3jKKiH"
      },
      "source": [
        "# import gc #Garbage Collector\n",
        "# fl_Train = None\n",
        "# fl_Test = None\n",
        "# X_Test = None\n",
        "# X_Train = None\n",
        "# X_Val = None\n",
        "# Y_Test_BP = None\n",
        "# Y_Train_BP = None\n",
        "# Y_Test_ABP = None\n",
        "# Y_Train_ABP = None\n",
        "# SBP_Train = None\n",
        "# DBP_Train = None\n",
        "# gc.collect()"
      ],
      "execution_count": 14,
      "outputs": []
    },
    {
      "cell_type": "markdown",
      "metadata": {
        "id": "lu6KEu2yeikQ"
      },
      "source": [
        "## Segmentation Pipeline"
      ]
    },
    {
      "cell_type": "markdown",
      "metadata": {
        "id": "X_Ev2XlLwRkW"
      },
      "source": [
        "### Prepare Label"
      ]
    },
    {
      "cell_type": "markdown",
      "metadata": {
        "id": "ANawSmVbUkZs"
      },
      "source": [
        "Configurations"
      ]
    },
    {
      "cell_type": "code",
      "metadata": {
        "id": "3ps7RMbyR7pw"
      },
      "source": [
        "signal_length = 1024 # Length of each Segment\n",
        "model_depth = 5 # Number of Level in the CNN Model\n",
        "model_width = 64 # Width of the Initial Layer, subsequent layers start from here\n",
        "kernel_size = 3 # Size of the Kernels/Filter\n",
        "num_channel = 6 # Number of Channels in the Model\n",
        "D_S = 1 # Turn on Deep Supervision\n",
        "A_E = 0 # Turn on AutoEncoder Mode for Feature Extraction\n",
        "problem_type = 'Regression'\n",
        "output_nums = 1 # Number of Class for Classification Problems, always '1' for Regression Problems\n",
        "'''Only required if the AutoEncoder Mode is turned on'''\n",
        "feature_number = 1024 # Number of Features to be Extracted\n",
        "'''Only required for MultiResUNet'''\n",
        "alpha = 1 # Model Width Expansion Parameter"
      ],
      "execution_count": 15,
      "outputs": []
    },
    {
      "cell_type": "markdown",
      "metadata": {
        "id": "qdw2EGzA92pt"
      },
      "source": [
        "Prepare Dataset for Deep Supervision (if Activated)"
      ]
    },
    {
      "cell_type": "code",
      "metadata": {
        "id": "QWMEhQkaClZi"
      },
      "source": [
        "def prepareTrainDict(y, model_depth, signal_length, model_name):\n",
        "  def approximate(inp, w_len, signal_length):\n",
        "    op = np.zeros((len(inp),signal_length//w_len))\n",
        "    for i in range(0,signal_length,w_len):\n",
        "      try:\n",
        "        op[:,i//w_len] = np.mean(inp[:,i:i+w_len],axis=1)\n",
        "      except Exception as e:\n",
        "        print(e)\n",
        "        print(i)\n",
        "  \t\n",
        "    return op\n",
        "\n",
        "  out = {}\n",
        "  Y_Train_dict = {}\n",
        "  out['out'] = np.array(y)\n",
        "  Y_Train_dict['out'] = out['out']\n",
        "  for i in range(1, (model_depth+1)):\n",
        "    name = f'level{i}'\n",
        "    if ((model_name == 'UNet') or (model_name == 'MultiResUNet') or (model_name == 'FPN')):\n",
        "      out[name] = np.expand_dims(approximate(np.squeeze(y), 2**i, signal_length),axis = 2)\n",
        "    elif ((model_name == 'UNetE') or (model_name == 'UNetP') or (model_name == 'UNetPP')):\n",
        "      out[name] = np.expand_dims(approximate(np.squeeze(y), 2**0, signal_length),axis = 2)\n",
        "    Y_Train_dict[f'level{i}'] = out[f'level{i}']\n",
        "  \n",
        "  return out, Y_Train_dict"
      ],
      "execution_count": 16,
      "outputs": []
    },
    {
      "cell_type": "code",
      "metadata": {
        "id": "ZQM6mSM2zE3G"
      },
      "source": [
        "model_name = 'MultiResUNet' # UNet or UNetPP\n",
        "X_Train1 = X_Train\n",
        "X_Test1 = X_Test\n",
        "[Y_Train1, Y_Train_dict] = prepareTrainDict(Y_Train, model_depth, signal_length, model_name)\n",
        "[Y_Test1, Y_Test_dict] = prepareTrainDict(Y_Test, model_depth, signal_length, model_name)"
      ],
      "execution_count": 17,
      "outputs": []
    },
    {
      "cell_type": "code",
      "metadata": {
        "colab": {
          "base_uri": "https://localhost:8080/"
        },
        "id": "1k-OSEQ87CyB",
        "outputId": "3d31ca71-b1b4-4e06-ecd4-c67c6868614f"
      },
      "source": [
        "loss_weights = np.zeros(model_depth)\n",
        "\n",
        "for i in range(0, model_depth):\n",
        "   loss_weights[i] = 1-(i*0.1)\n",
        "   \n",
        "loss_weights"
      ],
      "execution_count": 18,
      "outputs": [
        {
          "output_type": "execute_result",
          "data": {
            "text/plain": [
              "array([1. , 0.9, 0.8, 0.7, 0.6])"
            ]
          },
          "metadata": {},
          "execution_count": 18
        }
      ]
    },
    {
      "cell_type": "markdown",
      "metadata": {
        "id": "tLWoX0CHeikZ"
      },
      "source": [
        "### Train Data"
      ]
    },
    {
      "cell_type": "markdown",
      "metadata": {
        "id": "_G9wCFl1986E"
      },
      "source": [
        "Build and Compile Model"
      ]
    },
    {
      "cell_type": "code",
      "metadata": {
        "id": "AgNmOBsctd4u"
      },
      "source": [
        "if D_S == 0:\n",
        "    # Build model for EEG Motion Artifact Removal - Deep Unet Architecture\n",
        "    # AutoEncoder should be set at 'FALSE' for the Deep U-net model for Signal Reconstruction\n",
        "    # D_S = 0, A_E = 0\n",
        "    EEGIMU_Network = UNet(signal_length, model_depth, num_channel, model_width, kernel_size, problem_type=problem_type, output_nums=output_nums, ds=D_S, ae=A_E, alpha=alpha).UNet()\n",
        "    EEGIMU_Network.compile(loss= 'mean_absolute_error', optimizer= 'adam', metrics= ['mean_squared_error','accuracy'])\n",
        "    #\n",
        "elif D_S == 1:\n",
        "    # Build model for EEG Motion Artifact Removal - Deep Unet Architecture\n",
        "    # AutoEncoder should be set at 'FALSE' for the Deep U-net model for Signal Reconstruction\n",
        "    # D_S = 1, A_E = 0\n",
        "    EEGIMU_Network = UNet(signal_length, model_depth, num_channel, model_width, kernel_size, problem_type=problem_type, output_nums=output_nums, ds=D_S, ae=A_E, alpha=alpha).MultiResUNet()\n",
        "    EEGIMU_Network.compile(loss= 'mean_absolute_error', optimizer= 'adam', metrics= ['mean_squared_error'], loss_weights= loss_weights)"
      ],
      "execution_count": 19,
      "outputs": []
    },
    {
      "cell_type": "markdown",
      "metadata": {
        "id": "weUOLRyW9_TE"
      },
      "source": [
        "Import Trained Weights for a Headstart"
      ]
    },
    {
      "cell_type": "code",
      "metadata": {
        "id": "PEhSkrAG3SXe"
      },
      "source": [
        "# if D_S == 0:\n",
        "#     EEGIMU_Network_Network.load_weights('trained_models/'+model_name+'_'+str(length)+'_'+str(model_width)+'_'+str(num_channel)+'_'+str(D_S)+'.h5') # Load Previously Trained Weights for Transfer Learning\n",
        "# elif D_S == 1:\n",
        "#     EEGIMU_Network_Network.load_weights('trained_models/'+model_name+'_'+str(length)+'_'+str(model_width)+'_'+str(num_channel)+'_'+str(D_S)+'.h5') # Load Previously Trained Weights for Transfer Learning"
      ],
      "execution_count": 20,
      "outputs": []
    },
    {
      "cell_type": "markdown",
      "metadata": {
        "id": "17aVX6jw-E8j"
      },
      "source": [
        "Train Model"
      ]
    },
    {
      "cell_type": "code",
      "metadata": {
        "id": "gYmCDIxAbdT1",
        "colab": {
          "base_uri": "https://localhost:8080/"
        },
        "outputId": "606c856f-f3c2-4d19-b340-73e88b27330b"
      },
      "source": [
        "if D_S == 0:\n",
        "    callbacks = [tf.keras.callbacks.EarlyStopping(monitor='val_loss', patience=30, mode='min'), \n",
        "                 tf.keras.callbacks.ModelCheckpoint('trained_models/'+model_name+'_'+str(signal_length)+'_'+str(model_width)+'_'+str(model_depth)+'_'+str(num_channel)+'_'+str(D_S)+'.h5', verbose=1, monitor='val_loss', save_best_only=True, mode='min')]\n",
        "    history = EEGIMU_Network.fit(X_Train, Y_Train, epochs=300, batch_size=64, verbose=1, validation_split=0.2, shuffle=True, callbacks=callbacks)\n",
        "    #\n",
        "elif D_S == 1:\n",
        "    callbacks = [tf.keras.callbacks.EarlyStopping(monitor='val_out_loss', patience=30, mode='min'), \n",
        "                 tf.keras.callbacks.ModelCheckpoint('trained_models/'+model_name+'_'+str(signal_length)+'_'+str(model_width)+'_'+str(model_depth)+'_'+str(num_channel)+'_'+str(D_S)+'.h5', verbose=1, monitor='val_out_loss', save_best_only=True, mode='min')]\n",
        "    history = EEGIMU_Network.fit(X_Train1, Y_Train_dict, epochs=300, batch_size=64, verbose=1, validation_split=0.2, shuffle=True, callbacks=callbacks)"
      ],
      "execution_count": 21,
      "outputs": [
        {
          "output_type": "stream",
          "name": "stdout",
          "text": [
            "Epoch 1/300\n",
            "12/12 [==============================] - 70s 2s/step - loss: 5.4693 - out_loss: 0.8034 - level1_loss: 0.7849 - level2_loss: 0.8078 - level3_loss: 0.9500 - level4_loss: 1.3784 - level5_loss: 2.1121 - out_mean_squared_error: 1.2866 - level1_mean_squared_error: 1.2058 - level2_mean_squared_error: 1.3365 - level3_mean_squared_error: 2.3927 - level4_mean_squared_error: 5.2356 - level5_mean_squared_error: 14.6737 - val_loss: 187.9572 - val_out_loss: 38.6485 - val_level1_loss: 40.9467 - val_level2_loss: 91.6412 - val_level3_loss: 58.0068 - val_level4_loss: 4.1413 - val_level5_loss: 1.5621 - val_out_mean_squared_error: 12393.1533 - val_level1_mean_squared_error: 16256.2568 - val_level2_mean_squared_error: 52287.5508 - val_level3_mean_squared_error: 19636.2324 - val_level4_mean_squared_error: 100.6157 - val_level5_mean_squared_error: 6.7270\n",
            "\n",
            "Epoch 00001: val_out_loss improved from inf to 38.64851, saving model to trained_models/MultiResUNet_1024_64_5_6_1.h5\n"
          ]
        },
        {
          "output_type": "stream",
          "name": "stderr",
          "text": [
            "/usr/local/lib/python3.7/dist-packages/keras/utils/generic_utils.py:497: CustomMaskWarning: Custom mask layers require a config and must override get_config. When loading, the custom mask layer must be passed to the custom_objects argument.\n",
            "  category=CustomMaskWarning)\n"
          ]
        },
        {
          "output_type": "stream",
          "name": "stdout",
          "text": [
            "Epoch 2/300\n",
            "12/12 [==============================] - 16s 1s/step - loss: 2.6419 - out_loss: 0.5855 - level1_loss: 0.5630 - level2_loss: 0.5379 - level3_loss: 0.5306 - level4_loss: 0.5178 - level5_loss: 0.5675 - out_mean_squared_error: 0.7096 - level1_mean_squared_error: 0.6678 - level2_mean_squared_error: 0.6156 - level3_mean_squared_error: 0.6585 - level4_mean_squared_error: 0.6167 - level5_mean_squared_error: 0.6962 - val_loss: 26.4557 - val_out_loss: 6.6770 - val_level1_loss: 9.3809 - val_level2_loss: 8.5767 - val_level3_loss: 5.4805 - val_level4_loss: 2.0553 - val_level5_loss: 0.8992 - val_out_mean_squared_error: 817.6072 - val_level1_mean_squared_error: 1626.8047 - val_level2_mean_squared_error: 1008.3892 - val_level3_mean_squared_error: 625.3098 - val_level4_mean_squared_error: 29.4235 - val_level5_mean_squared_error: 1.3407\n",
            "\n",
            "Epoch 00002: val_out_loss improved from 38.64851 to 6.67698, saving model to trained_models/MultiResUNet_1024_64_5_6_1.h5\n",
            "Epoch 3/300\n",
            "12/12 [==============================] - 16s 1s/step - loss: 2.3536 - out_loss: 0.5400 - level1_loss: 0.5179 - level2_loss: 0.4961 - level3_loss: 0.4688 - level4_loss: 0.4464 - level5_loss: 0.4729 - out_mean_squared_error: 0.6467 - level1_mean_squared_error: 0.6050 - level2_mean_squared_error: 0.5934 - level3_mean_squared_error: 0.5899 - level4_mean_squared_error: 0.5225 - level5_mean_squared_error: 0.6331 - val_loss: 4.3868 - val_out_loss: 0.9395 - val_level1_loss: 0.8942 - val_level2_loss: 1.0130 - val_level3_loss: 0.9187 - val_level4_loss: 0.8618 - val_level5_loss: 0.8563 - val_out_mean_squared_error: 4.6688 - val_level1_mean_squared_error: 3.9311 - val_level2_mean_squared_error: 6.1504 - val_level3_mean_squared_error: 1.6681 - val_level4_mean_squared_error: 0.9022 - val_level5_mean_squared_error: 1.2103\n",
            "\n",
            "Epoch 00003: val_out_loss improved from 6.67698 to 0.93949, saving model to trained_models/MultiResUNet_1024_64_5_6_1.h5\n",
            "Epoch 4/300\n",
            "12/12 [==============================] - 16s 1s/step - loss: 2.2383 - out_loss: 0.5158 - level1_loss: 0.4845 - level2_loss: 0.4536 - level3_loss: 0.4496 - level4_loss: 0.4410 - level5_loss: 0.4533 - out_mean_squared_error: 0.6199 - level1_mean_squared_error: 0.5616 - level2_mean_squared_error: 0.5451 - level3_mean_squared_error: 0.5903 - level4_mean_squared_error: 0.5565 - level5_mean_squared_error: 0.6325 - val_loss: 3.9924 - val_out_loss: 0.8055 - val_level1_loss: 0.7563 - val_level2_loss: 0.8358 - val_level3_loss: 0.8806 - val_level4_loss: 0.8616 - val_level5_loss: 0.8508 - val_out_mean_squared_error: 0.8660 - val_level1_mean_squared_error: 0.8580 - val_level2_mean_squared_error: 0.8715 - val_level3_mean_squared_error: 1.0040 - val_level4_mean_squared_error: 0.9022 - val_level5_mean_squared_error: 1.1490\n",
            "\n",
            "Epoch 00004: val_out_loss improved from 0.93949 to 0.80546, saving model to trained_models/MultiResUNet_1024_64_5_6_1.h5\n",
            "Epoch 5/300\n",
            "12/12 [==============================] - 16s 1s/step - loss: 2.1230 - out_loss: 0.4952 - level1_loss: 0.4554 - level2_loss: 0.4340 - level3_loss: 0.4287 - level4_loss: 0.4110 - level5_loss: 0.4294 - out_mean_squared_error: 0.5906 - level1_mean_squared_error: 0.5371 - level2_mean_squared_error: 0.5113 - level3_mean_squared_error: 0.5295 - level4_mean_squared_error: 0.4950 - level5_mean_squared_error: 0.5273 - val_loss: 4.0010 - val_out_loss: 0.7916 - val_level1_loss: 0.7567 - val_level2_loss: 0.8469 - val_level3_loss: 0.8780 - val_level4_loss: 0.8698 - val_level5_loss: 0.8581 - val_out_mean_squared_error: 0.8531 - val_level1_mean_squared_error: 0.8127 - val_level2_mean_squared_error: 0.8746 - val_level3_mean_squared_error: 0.9912 - val_level4_mean_squared_error: 0.9171 - val_level5_mean_squared_error: 1.0292\n",
            "\n",
            "Epoch 00005: val_out_loss improved from 0.80546 to 0.79165, saving model to trained_models/MultiResUNet_1024_64_5_6_1.h5\n",
            "Epoch 6/300\n",
            "12/12 [==============================] - 16s 1s/step - loss: 2.0998 - out_loss: 0.4807 - level1_loss: 0.4349 - level2_loss: 0.4211 - level3_loss: 0.4278 - level4_loss: 0.4185 - level5_loss: 0.4418 - out_mean_squared_error: 0.5479 - level1_mean_squared_error: 0.5056 - level2_mean_squared_error: 0.4949 - level3_mean_squared_error: 0.5217 - level4_mean_squared_error: 0.4841 - level5_mean_squared_error: 0.6534 - val_loss: 3.9689 - val_out_loss: 0.7709 - val_level1_loss: 0.7609 - val_level2_loss: 0.8354 - val_level3_loss: 0.8639 - val_level4_loss: 0.8706 - val_level5_loss: 0.8593 - val_out_mean_squared_error: 0.8256 - val_level1_mean_squared_error: 0.8398 - val_level2_mean_squared_error: 0.8560 - val_level3_mean_squared_error: 0.9608 - val_level4_mean_squared_error: 0.9139 - val_level5_mean_squared_error: 0.9924\n",
            "\n",
            "Epoch 00006: val_out_loss improved from 0.79165 to 0.77094, saving model to trained_models/MultiResUNet_1024_64_5_6_1.h5\n",
            "Epoch 7/300\n",
            "12/12 [==============================] - 16s 1s/step - loss: 2.0950 - out_loss: 0.4522 - level1_loss: 0.4283 - level2_loss: 0.4178 - level3_loss: 0.4277 - level4_loss: 0.4209 - level5_loss: 0.4718 - out_mean_squared_error: 0.5255 - level1_mean_squared_error: 0.5080 - level2_mean_squared_error: 0.4971 - level3_mean_squared_error: 0.5684 - level4_mean_squared_error: 0.5051 - level5_mean_squared_error: 0.7585 - val_loss: 3.9996 - val_out_loss: 0.7607 - val_level1_loss: 0.7799 - val_level2_loss: 0.8436 - val_level3_loss: 0.8711 - val_level4_loss: 0.8744 - val_level5_loss: 0.8698 - val_out_mean_squared_error: 0.8124 - val_level1_mean_squared_error: 0.8688 - val_level2_mean_squared_error: 0.8666 - val_level3_mean_squared_error: 0.9952 - val_level4_mean_squared_error: 0.9324 - val_level5_mean_squared_error: 0.9984\n",
            "\n",
            "Epoch 00007: val_out_loss improved from 0.77094 to 0.76066, saving model to trained_models/MultiResUNet_1024_64_5_6_1.h5\n",
            "Epoch 8/300\n",
            "12/12 [==============================] - 16s 1s/step - loss: 1.9647 - out_loss: 0.4243 - level1_loss: 0.4083 - level2_loss: 0.4041 - level3_loss: 0.4044 - level4_loss: 0.4061 - level5_loss: 0.4087 - out_mean_squared_error: 0.5030 - level1_mean_squared_error: 0.4927 - level2_mean_squared_error: 0.4836 - level3_mean_squared_error: 0.5214 - level4_mean_squared_error: 0.4968 - level5_mean_squared_error: 0.6068 - val_loss: 3.9971 - val_out_loss: 0.7656 - val_level1_loss: 0.7852 - val_level2_loss: 0.8354 - val_level3_loss: 0.8676 - val_level4_loss: 0.8691 - val_level5_loss: 0.8735 - val_out_mean_squared_error: 0.8256 - val_level1_mean_squared_error: 0.8724 - val_level2_mean_squared_error: 0.8586 - val_level3_mean_squared_error: 0.9990 - val_level4_mean_squared_error: 0.9257 - val_level5_mean_squared_error: 1.0157\n",
            "\n",
            "Epoch 00008: val_out_loss did not improve from 0.76066\n",
            "Epoch 9/300\n",
            "12/12 [==============================] - 16s 1s/step - loss: 1.9772 - out_loss: 0.4225 - level1_loss: 0.3999 - level2_loss: 0.4105 - level3_loss: 0.4038 - level4_loss: 0.4155 - level5_loss: 0.4194 - out_mean_squared_error: 0.4964 - level1_mean_squared_error: 0.4854 - level2_mean_squared_error: 0.4925 - level3_mean_squared_error: 0.5009 - level4_mean_squared_error: 0.5464 - level5_mean_squared_error: 0.4822 - val_loss: 3.9505 - val_out_loss: 0.7719 - val_level1_loss: 0.7661 - val_level2_loss: 0.8341 - val_level3_loss: 0.8510 - val_level4_loss: 0.8526 - val_level5_loss: 0.8623 - val_out_mean_squared_error: 0.8282 - val_level1_mean_squared_error: 0.8374 - val_level2_mean_squared_error: 0.8497 - val_level3_mean_squared_error: 0.9532 - val_level4_mean_squared_error: 0.8925 - val_level5_mean_squared_error: 0.9827\n",
            "\n",
            "Epoch 00009: val_out_loss did not improve from 0.76066\n",
            "Epoch 10/300\n",
            "12/12 [==============================] - 16s 1s/step - loss: 1.9919 - out_loss: 0.4275 - level1_loss: 0.4056 - level2_loss: 0.4308 - level3_loss: 0.4005 - level4_loss: 0.4074 - level5_loss: 0.4180 - out_mean_squared_error: 0.4841 - level1_mean_squared_error: 0.4795 - level2_mean_squared_error: 0.4691 - level3_mean_squared_error: 0.4804 - level4_mean_squared_error: 0.5005 - level5_mean_squared_error: 0.5215 - val_loss: 3.9499 - val_out_loss: 0.7651 - val_level1_loss: 0.7650 - val_level2_loss: 0.8505 - val_level3_loss: 0.8406 - val_level4_loss: 0.8504 - val_level5_loss: 0.8658 - val_out_mean_squared_error: 0.7910 - val_level1_mean_squared_error: 0.8170 - val_level2_mean_squared_error: 0.8715 - val_level3_mean_squared_error: 0.9539 - val_level4_mean_squared_error: 0.8986 - val_level5_mean_squared_error: 0.9770\n",
            "\n",
            "Epoch 00010: val_out_loss did not improve from 0.76066\n",
            "Epoch 11/300\n",
            "12/12 [==============================] - 16s 1s/step - loss: 1.9230 - out_loss: 0.4046 - level1_loss: 0.3944 - level2_loss: 0.4009 - level3_loss: 0.3893 - level4_loss: 0.4000 - level5_loss: 0.4145 - out_mean_squared_error: 0.4625 - level1_mean_squared_error: 0.4760 - level2_mean_squared_error: 0.4534 - level3_mean_squared_error: 0.4826 - level4_mean_squared_error: 0.5250 - level5_mean_squared_error: 0.5736 - val_loss: 3.9168 - val_out_loss: 0.7670 - val_level1_loss: 0.7589 - val_level2_loss: 0.8301 - val_level3_loss: 0.8309 - val_level4_loss: 0.8459 - val_level5_loss: 0.8632 - val_out_mean_squared_error: 0.7855 - val_level1_mean_squared_error: 0.7855 - val_level2_mean_squared_error: 0.8328 - val_level3_mean_squared_error: 0.9165 - val_level4_mean_squared_error: 0.8809 - val_level5_mean_squared_error: 1.0153\n",
            "\n",
            "Epoch 00011: val_out_loss did not improve from 0.76066\n",
            "Epoch 12/300\n",
            "12/12 [==============================] - 16s 1s/step - loss: 2.0216 - out_loss: 0.4110 - level1_loss: 0.4027 - level2_loss: 0.4055 - level3_loss: 0.4157 - level4_loss: 0.4201 - level5_loss: 0.4720 - out_mean_squared_error: 0.4773 - level1_mean_squared_error: 0.4741 - level2_mean_squared_error: 0.4659 - level3_mean_squared_error: 0.4810 - level4_mean_squared_error: 0.5116 - level5_mean_squared_error: 0.8572 - val_loss: 3.7895 - val_out_loss: 0.7495 - val_level1_loss: 0.7136 - val_level2_loss: 0.7913 - val_level3_loss: 0.8066 - val_level4_loss: 0.8162 - val_level5_loss: 0.8596 - val_out_mean_squared_error: 0.7517 - val_level1_mean_squared_error: 0.7028 - val_level2_mean_squared_error: 0.7664 - val_level3_mean_squared_error: 0.8504 - val_level4_mean_squared_error: 0.8267 - val_level5_mean_squared_error: 1.0556\n",
            "\n",
            "Epoch 00012: val_out_loss improved from 0.76066 to 0.74951, saving model to trained_models/MultiResUNet_1024_64_5_6_1.h5\n",
            "Epoch 13/300\n",
            "12/12 [==============================] - 16s 1s/step - loss: 1.8638 - out_loss: 0.3833 - level1_loss: 0.3782 - level2_loss: 0.3764 - level3_loss: 0.3818 - level4_loss: 0.3831 - level5_loss: 0.4269 - out_mean_squared_error: 0.4542 - level1_mean_squared_error: 0.4635 - level2_mean_squared_error: 0.4592 - level3_mean_squared_error: 0.4619 - level4_mean_squared_error: 0.5151 - level5_mean_squared_error: 0.7432 - val_loss: 3.7228 - val_out_loss: 0.7401 - val_level1_loss: 0.7234 - val_level2_loss: 0.7840 - val_level3_loss: 0.7796 - val_level4_loss: 0.8003 - val_level5_loss: 0.8261 - val_out_mean_squared_error: 0.7404 - val_level1_mean_squared_error: 0.7113 - val_level2_mean_squared_error: 0.7559 - val_level3_mean_squared_error: 0.8015 - val_level4_mean_squared_error: 0.8093 - val_level5_mean_squared_error: 0.9222\n",
            "\n",
            "Epoch 00013: val_out_loss improved from 0.74951 to 0.74008, saving model to trained_models/MultiResUNet_1024_64_5_6_1.h5\n",
            "Epoch 14/300\n",
            "12/12 [==============================] - 16s 1s/step - loss: 1.7832 - out_loss: 0.3720 - level1_loss: 0.3650 - level2_loss: 0.3656 - level3_loss: 0.3611 - level4_loss: 0.3766 - level5_loss: 0.3887 - out_mean_squared_error: 0.4438 - level1_mean_squared_error: 0.4509 - level2_mean_squared_error: 0.4502 - level3_mean_squared_error: 0.4632 - level4_mean_squared_error: 0.5049 - level5_mean_squared_error: 0.5780 - val_loss: 3.8713 - val_out_loss: 0.7585 - val_level1_loss: 0.7716 - val_level2_loss: 0.8171 - val_level3_loss: 0.8162 - val_level4_loss: 0.8276 - val_level5_loss: 0.8481 - val_out_mean_squared_error: 0.7687 - val_level1_mean_squared_error: 0.7790 - val_level2_mean_squared_error: 0.8053 - val_level3_mean_squared_error: 0.8923 - val_level4_mean_squared_error: 0.8677 - val_level5_mean_squared_error: 1.0135\n",
            "\n",
            "Epoch 00014: val_out_loss did not improve from 0.74008\n",
            "Epoch 15/300\n",
            "12/12 [==============================] - 16s 1s/step - loss: 1.8079 - out_loss: 0.3731 - level1_loss: 0.3713 - level2_loss: 0.3692 - level3_loss: 0.3679 - level4_loss: 0.3854 - level5_loss: 0.3928 - out_mean_squared_error: 0.4457 - level1_mean_squared_error: 0.4526 - level2_mean_squared_error: 0.4568 - level3_mean_squared_error: 0.4587 - level4_mean_squared_error: 0.5028 - level5_mean_squared_error: 0.5642 - val_loss: 3.7733 - val_out_loss: 0.7519 - val_level1_loss: 0.7539 - val_level2_loss: 0.7990 - val_level3_loss: 0.7889 - val_level4_loss: 0.7997 - val_level5_loss: 0.8233 - val_out_mean_squared_error: 0.7604 - val_level1_mean_squared_error: 0.7575 - val_level2_mean_squared_error: 0.7748 - val_level3_mean_squared_error: 0.8481 - val_level4_mean_squared_error: 0.8093 - val_level5_mean_squared_error: 0.9344\n",
            "\n",
            "Epoch 00015: val_out_loss did not improve from 0.74008\n",
            "Epoch 16/300\n",
            "12/12 [==============================] - 16s 1s/step - loss: 1.7436 - out_loss: 0.3602 - level1_loss: 0.3570 - level2_loss: 0.3577 - level3_loss: 0.3534 - level4_loss: 0.3746 - level5_loss: 0.3767 - out_mean_squared_error: 0.4306 - level1_mean_squared_error: 0.4326 - level2_mean_squared_error: 0.4284 - level3_mean_squared_error: 0.4375 - level4_mean_squared_error: 0.4681 - level5_mean_squared_error: 0.4662 - val_loss: 3.7623 - val_out_loss: 0.7534 - val_level1_loss: 0.7533 - val_level2_loss: 0.7963 - val_level3_loss: 0.7890 - val_level4_loss: 0.8053 - val_level5_loss: 0.8056 - val_out_mean_squared_error: 0.7486 - val_level1_mean_squared_error: 0.7359 - val_level2_mean_squared_error: 0.7706 - val_level3_mean_squared_error: 0.8312 - val_level4_mean_squared_error: 0.8188 - val_level5_mean_squared_error: 0.9305\n",
            "\n",
            "Epoch 00016: val_out_loss did not improve from 0.74008\n",
            "Epoch 17/300\n",
            "12/12 [==============================] - 16s 1s/step - loss: 1.6983 - out_loss: 0.3512 - level1_loss: 0.3466 - level2_loss: 0.3504 - level3_loss: 0.3497 - level4_loss: 0.3618 - level5_loss: 0.3633 - out_mean_squared_error: 0.4178 - level1_mean_squared_error: 0.4202 - level2_mean_squared_error: 0.4196 - level3_mean_squared_error: 0.4290 - level4_mean_squared_error: 0.4735 - level5_mean_squared_error: 0.4296 - val_loss: 3.6337 - val_out_loss: 0.7244 - val_level1_loss: 0.7173 - val_level2_loss: 0.7712 - val_level3_loss: 0.7617 - val_level4_loss: 0.7909 - val_level5_loss: 0.7767 - val_out_mean_squared_error: 0.7048 - val_level1_mean_squared_error: 0.6895 - val_level2_mean_squared_error: 0.7350 - val_level3_mean_squared_error: 0.7699 - val_level4_mean_squared_error: 0.7823 - val_level5_mean_squared_error: 0.7915\n",
            "\n",
            "Epoch 00017: val_out_loss improved from 0.74008 to 0.72441, saving model to trained_models/MultiResUNet_1024_64_5_6_1.h5\n",
            "Epoch 18/300\n",
            "12/12 [==============================] - 16s 1s/step - loss: 1.7674 - out_loss: 0.3595 - level1_loss: 0.3597 - level2_loss: 0.3591 - level3_loss: 0.3656 - level4_loss: 0.3785 - level5_loss: 0.3868 - out_mean_squared_error: 0.4284 - level1_mean_squared_error: 0.4291 - level2_mean_squared_error: 0.4260 - level3_mean_squared_error: 0.4489 - level4_mean_squared_error: 0.4880 - level5_mean_squared_error: 0.5162 - val_loss: 3.7436 - val_out_loss: 0.7366 - val_level1_loss: 0.7273 - val_level2_loss: 0.8127 - val_level3_loss: 0.7815 - val_level4_loss: 0.8155 - val_level5_loss: 0.8058 - val_out_mean_squared_error: 0.7220 - val_level1_mean_squared_error: 0.7054 - val_level2_mean_squared_error: 0.7978 - val_level3_mean_squared_error: 0.7995 - val_level4_mean_squared_error: 0.8137 - val_level5_mean_squared_error: 0.8697\n",
            "\n",
            "Epoch 00018: val_out_loss did not improve from 0.72441\n",
            "Epoch 19/300\n",
            "12/12 [==============================] - 16s 1s/step - loss: 1.7576 - out_loss: 0.3581 - level1_loss: 0.3535 - level2_loss: 0.3552 - level3_loss: 0.3722 - level4_loss: 0.3672 - level5_loss: 0.3909 - out_mean_squared_error: 0.4151 - level1_mean_squared_error: 0.4169 - level2_mean_squared_error: 0.4145 - level3_mean_squared_error: 0.4370 - level4_mean_squared_error: 0.4386 - level5_mean_squared_error: 0.5061 - val_loss: 3.4879 - val_out_loss: 0.6831 - val_level1_loss: 0.6621 - val_level2_loss: 0.7328 - val_level3_loss: 0.7378 - val_level4_loss: 0.7966 - val_level5_loss: 0.7474 - val_out_mean_squared_error: 0.6552 - val_level1_mean_squared_error: 0.6312 - val_level2_mean_squared_error: 0.6869 - val_level3_mean_squared_error: 0.7442 - val_level4_mean_squared_error: 0.7855 - val_level5_mean_squared_error: 0.7631\n",
            "\n",
            "Epoch 00019: val_out_loss improved from 0.72441 to 0.68307, saving model to trained_models/MultiResUNet_1024_64_5_6_1.h5\n",
            "Epoch 20/300\n",
            "12/12 [==============================] - 16s 1s/step - loss: 1.7206 - out_loss: 0.3451 - level1_loss: 0.3432 - level2_loss: 0.3433 - level3_loss: 0.3555 - level4_loss: 0.3625 - level5_loss: 0.4012 - out_mean_squared_error: 0.3946 - level1_mean_squared_error: 0.3956 - level2_mean_squared_error: 0.4028 - level3_mean_squared_error: 0.4290 - level4_mean_squared_error: 0.4422 - level5_mean_squared_error: 0.6737 - val_loss: 3.2610 - val_out_loss: 0.6388 - val_level1_loss: 0.6061 - val_level2_loss: 0.6934 - val_level3_loss: 0.6849 - val_level4_loss: 0.7403 - val_level5_loss: 0.7128 - val_out_mean_squared_error: 0.6451 - val_level1_mean_squared_error: 0.6170 - val_level2_mean_squared_error: 0.6460 - val_level3_mean_squared_error: 0.6954 - val_level4_mean_squared_error: 0.7137 - val_level5_mean_squared_error: 0.7391\n",
            "\n",
            "Epoch 00020: val_out_loss improved from 0.68307 to 0.63881, saving model to trained_models/MultiResUNet_1024_64_5_6_1.h5\n",
            "Epoch 21/300\n",
            "12/12 [==============================] - 16s 1s/step - loss: 1.7150 - out_loss: 0.3519 - level1_loss: 0.3515 - level2_loss: 0.3536 - level3_loss: 0.3503 - level4_loss: 0.3590 - level5_loss: 0.3775 - out_mean_squared_error: 0.4180 - level1_mean_squared_error: 0.4207 - level2_mean_squared_error: 0.4152 - level3_mean_squared_error: 0.4286 - level4_mean_squared_error: 0.4297 - level5_mean_squared_error: 0.4700 - val_loss: 3.1971 - val_out_loss: 0.6242 - val_level1_loss: 0.6038 - val_level2_loss: 0.6818 - val_level3_loss: 0.6776 - val_level4_loss: 0.7129 - val_level5_loss: 0.6962 - val_out_mean_squared_error: 0.5995 - val_level1_mean_squared_error: 0.5824 - val_level2_mean_squared_error: 0.6184 - val_level3_mean_squared_error: 0.6839 - val_level4_mean_squared_error: 0.6821 - val_level5_mean_squared_error: 0.6928\n",
            "\n",
            "Epoch 00021: val_out_loss improved from 0.63881 to 0.62421, saving model to trained_models/MultiResUNet_1024_64_5_6_1.h5\n",
            "Epoch 22/300\n",
            "12/12 [==============================] - 16s 1s/step - loss: 1.6758 - out_loss: 0.3379 - level1_loss: 0.3372 - level2_loss: 0.3434 - level3_loss: 0.3389 - level4_loss: 0.3569 - level5_loss: 0.3805 - out_mean_squared_error: 0.3899 - level1_mean_squared_error: 0.3957 - level2_mean_squared_error: 0.3932 - level3_mean_squared_error: 0.3977 - level4_mean_squared_error: 0.4377 - level5_mean_squared_error: 0.4933 - val_loss: 3.2228 - val_out_loss: 0.6353 - val_level1_loss: 0.6208 - val_level2_loss: 0.6980 - val_level3_loss: 0.6867 - val_level4_loss: 0.7006 - val_level5_loss: 0.6870 - val_out_mean_squared_error: 0.5963 - val_level1_mean_squared_error: 0.5849 - val_level2_mean_squared_error: 0.6360 - val_level3_mean_squared_error: 0.6739 - val_level4_mean_squared_error: 0.6654 - val_level5_mean_squared_error: 0.6734\n",
            "\n",
            "Epoch 00022: val_out_loss did not improve from 0.62421\n",
            "Epoch 23/300\n",
            "12/12 [==============================] - 16s 1s/step - loss: 1.6022 - out_loss: 0.3249 - level1_loss: 0.3274 - level2_loss: 0.3271 - level3_loss: 0.3267 - level4_loss: 0.3434 - level5_loss: 0.3534 - out_mean_squared_error: 0.3799 - level1_mean_squared_error: 0.3838 - level2_mean_squared_error: 0.3796 - level3_mean_squared_error: 0.3873 - level4_mean_squared_error: 0.4355 - level5_mean_squared_error: 0.4101 - val_loss: 3.3835 - val_out_loss: 0.6843 - val_level1_loss: 0.6755 - val_level2_loss: 0.7321 - val_level3_loss: 0.7121 - val_level4_loss: 0.7289 - val_level5_loss: 0.6964 - val_out_mean_squared_error: 0.6243 - val_level1_mean_squared_error: 0.6155 - val_level2_mean_squared_error: 0.6796 - val_level3_mean_squared_error: 0.6922 - val_level4_mean_squared_error: 0.7193 - val_level5_mean_squared_error: 0.6948\n",
            "\n",
            "Epoch 00023: val_out_loss did not improve from 0.62421\n",
            "Epoch 24/300\n",
            "12/12 [==============================] - 16s 1s/step - loss: 1.6003 - out_loss: 0.3287 - level1_loss: 0.3242 - level2_loss: 0.3250 - level3_loss: 0.3226 - level4_loss: 0.3366 - level5_loss: 0.3634 - out_mean_squared_error: 0.3691 - level1_mean_squared_error: 0.3692 - level2_mean_squared_error: 0.3665 - level3_mean_squared_error: 0.3741 - level4_mean_squared_error: 0.4269 - level5_mean_squared_error: 0.4031 - val_loss: 3.4081 - val_out_loss: 0.6944 - val_level1_loss: 0.7078 - val_level2_loss: 0.7346 - val_level3_loss: 0.7221 - val_level4_loss: 0.7139 - val_level5_loss: 0.6873 - val_out_mean_squared_error: 0.6470 - val_level1_mean_squared_error: 0.6637 - val_level2_mean_squared_error: 0.6886 - val_level3_mean_squared_error: 0.7325 - val_level4_mean_squared_error: 0.6960 - val_level5_mean_squared_error: 0.7012\n",
            "\n",
            "Epoch 00024: val_out_loss did not improve from 0.62421\n",
            "Epoch 25/300\n",
            "12/12 [==============================] - 16s 1s/step - loss: 1.5617 - out_loss: 0.3220 - level1_loss: 0.3210 - level2_loss: 0.3182 - level3_loss: 0.3152 - level4_loss: 0.3282 - level5_loss: 0.3476 - out_mean_squared_error: 0.3641 - level1_mean_squared_error: 0.3626 - level2_mean_squared_error: 0.3661 - level3_mean_squared_error: 0.3664 - level4_mean_squared_error: 0.3816 - level5_mean_squared_error: 0.3929 - val_loss: 3.2346 - val_out_loss: 0.6594 - val_level1_loss: 0.6539 - val_level2_loss: 0.7023 - val_level3_loss: 0.6848 - val_level4_loss: 0.6940 - val_level5_loss: 0.6488 - val_out_mean_squared_error: 0.6018 - val_level1_mean_squared_error: 0.5938 - val_level2_mean_squared_error: 0.6450 - val_level3_mean_squared_error: 0.6512 - val_level4_mean_squared_error: 0.6629 - val_level5_mean_squared_error: 0.6451\n",
            "\n",
            "Epoch 00025: val_out_loss did not improve from 0.62421\n",
            "Epoch 26/300\n",
            "12/12 [==============================] - 16s 1s/step - loss: 1.5052 - out_loss: 0.3055 - level1_loss: 0.3108 - level2_loss: 0.3080 - level3_loss: 0.3067 - level4_loss: 0.3196 - level5_loss: 0.3309 - out_mean_squared_error: 0.3497 - level1_mean_squared_error: 0.3525 - level2_mean_squared_error: 0.3470 - level3_mean_squared_error: 0.3561 - level4_mean_squared_error: 0.3804 - level5_mean_squared_error: 0.3862 - val_loss: 3.1524 - val_out_loss: 0.6259 - val_level1_loss: 0.6369 - val_level2_loss: 0.6858 - val_level3_loss: 0.6774 - val_level4_loss: 0.6803 - val_level5_loss: 0.6343 - val_out_mean_squared_error: 0.5636 - val_level1_mean_squared_error: 0.5686 - val_level2_mean_squared_error: 0.6223 - val_level3_mean_squared_error: 0.6389 - val_level4_mean_squared_error: 0.6379 - val_level5_mean_squared_error: 0.6274\n",
            "\n",
            "Epoch 00026: val_out_loss did not improve from 0.62421\n",
            "Epoch 27/300\n",
            "12/12 [==============================] - 16s 1s/step - loss: 1.5000 - out_loss: 0.3043 - level1_loss: 0.3031 - level2_loss: 0.3081 - level3_loss: 0.3036 - level4_loss: 0.3188 - level5_loss: 0.3371 - out_mean_squared_error: 0.3430 - level1_mean_squared_error: 0.3454 - level2_mean_squared_error: 0.3463 - level3_mean_squared_error: 0.3534 - level4_mean_squared_error: 0.3678 - level5_mean_squared_error: 0.4018 - val_loss: 3.0289 - val_out_loss: 0.5943 - val_level1_loss: 0.5997 - val_level2_loss: 0.6485 - val_level3_loss: 0.6290 - val_level4_loss: 0.6678 - val_level5_loss: 0.6469 - val_out_mean_squared_error: 0.5455 - val_level1_mean_squared_error: 0.5522 - val_level2_mean_squared_error: 0.5887 - val_level3_mean_squared_error: 0.6188 - val_level4_mean_squared_error: 0.6249 - val_level5_mean_squared_error: 0.6396\n",
            "\n",
            "Epoch 00027: val_out_loss improved from 0.62421 to 0.59425, saving model to trained_models/MultiResUNet_1024_64_5_6_1.h5\n",
            "Epoch 28/300\n",
            "12/12 [==============================] - 16s 1s/step - loss: 1.4794 - out_loss: 0.2981 - level1_loss: 0.2965 - level2_loss: 0.3011 - level3_loss: 0.2998 - level4_loss: 0.3138 - level5_loss: 0.3400 - out_mean_squared_error: 0.3412 - level1_mean_squared_error: 0.3404 - level2_mean_squared_error: 0.3415 - level3_mean_squared_error: 0.3516 - level4_mean_squared_error: 0.3824 - level5_mean_squared_error: 0.4052 - val_loss: 3.1788 - val_out_loss: 0.6328 - val_level1_loss: 0.6589 - val_level2_loss: 0.6987 - val_level3_loss: 0.6588 - val_level4_loss: 0.6739 - val_level5_loss: 0.6504 - val_out_mean_squared_error: 0.5762 - val_level1_mean_squared_error: 0.6029 - val_level2_mean_squared_error: 0.6366 - val_level3_mean_squared_error: 0.6397 - val_level4_mean_squared_error: 0.6463 - val_level5_mean_squared_error: 0.6260\n",
            "\n",
            "Epoch 00028: val_out_loss did not improve from 0.59425\n",
            "Epoch 29/300\n",
            "12/12 [==============================] - 16s 1s/step - loss: 1.5258 - out_loss: 0.3064 - level1_loss: 0.3048 - level2_loss: 0.3078 - level3_loss: 0.3149 - level4_loss: 0.3248 - level5_loss: 0.3485 - out_mean_squared_error: 0.3393 - level1_mean_squared_error: 0.3394 - level2_mean_squared_error: 0.3418 - level3_mean_squared_error: 0.3665 - level4_mean_squared_error: 0.4159 - level5_mean_squared_error: 0.4316 - val_loss: 3.0240 - val_out_loss: 0.6096 - val_level1_loss: 0.6116 - val_level2_loss: 0.6413 - val_level3_loss: 0.6417 - val_level4_loss: 0.6625 - val_level5_loss: 0.6134 - val_out_mean_squared_error: 0.5516 - val_level1_mean_squared_error: 0.5532 - val_level2_mean_squared_error: 0.5768 - val_level3_mean_squared_error: 0.6230 - val_level4_mean_squared_error: 0.6232 - val_level5_mean_squared_error: 0.6435\n",
            "\n",
            "Epoch 00029: val_out_loss did not improve from 0.59425\n",
            "Epoch 30/300\n",
            "12/12 [==============================] - 16s 1s/step - loss: 1.4550 - out_loss: 0.2912 - level1_loss: 0.2908 - level2_loss: 0.2966 - level3_loss: 0.2996 - level4_loss: 0.3063 - level5_loss: 0.3342 - out_mean_squared_error: 0.3244 - level1_mean_squared_error: 0.3262 - level2_mean_squared_error: 0.3277 - level3_mean_squared_error: 0.3418 - level4_mean_squared_error: 0.3502 - level5_mean_squared_error: 0.4958 - val_loss: 2.8551 - val_out_loss: 0.5569 - val_level1_loss: 0.5595 - val_level2_loss: 0.6101 - val_level3_loss: 0.6012 - val_level4_loss: 0.6184 - val_level5_loss: 0.6228 - val_out_mean_squared_error: 0.5079 - val_level1_mean_squared_error: 0.5074 - val_level2_mean_squared_error: 0.5408 - val_level3_mean_squared_error: 0.5740 - val_level4_mean_squared_error: 0.5714 - val_level5_mean_squared_error: 0.5986\n",
            "\n",
            "Epoch 00030: val_out_loss improved from 0.59425 to 0.55692, saving model to trained_models/MultiResUNet_1024_64_5_6_1.h5\n",
            "Epoch 31/300\n",
            "12/12 [==============================] - 16s 1s/step - loss: 1.4729 - out_loss: 0.3027 - level1_loss: 0.3004 - level2_loss: 0.3029 - level3_loss: 0.2993 - level4_loss: 0.3081 - level5_loss: 0.3277 - out_mean_squared_error: 0.3345 - level1_mean_squared_error: 0.3337 - level2_mean_squared_error: 0.3298 - level3_mean_squared_error: 0.3373 - level4_mean_squared_error: 0.3491 - level5_mean_squared_error: 0.3754 - val_loss: 2.8526 - val_out_loss: 0.5934 - val_level1_loss: 0.5913 - val_level2_loss: 0.6031 - val_level3_loss: 0.6132 - val_level4_loss: 0.6178 - val_level5_loss: 0.5468 - val_out_mean_squared_error: 0.5410 - val_level1_mean_squared_error: 0.5317 - val_level2_mean_squared_error: 0.5372 - val_level3_mean_squared_error: 0.5399 - val_level4_mean_squared_error: 0.5504 - val_level5_mean_squared_error: 0.5458\n",
            "\n",
            "Epoch 00031: val_out_loss did not improve from 0.55692\n",
            "Epoch 32/300\n",
            "12/12 [==============================] - 16s 1s/step - loss: 1.4831 - out_loss: 0.3010 - level1_loss: 0.3033 - level2_loss: 0.3011 - level3_loss: 0.3009 - level4_loss: 0.3102 - level5_loss: 0.3374 - out_mean_squared_error: 0.3374 - level1_mean_squared_error: 0.3390 - level2_mean_squared_error: 0.3366 - level3_mean_squared_error: 0.3454 - level4_mean_squared_error: 0.3563 - level5_mean_squared_error: 0.3605 - val_loss: 2.4216 - val_out_loss: 0.4567 - val_level1_loss: 0.4663 - val_level2_loss: 0.5007 - val_level3_loss: 0.5060 - val_level4_loss: 0.5525 - val_level5_loss: 0.5448 - val_out_mean_squared_error: 0.4550 - val_level1_mean_squared_error: 0.4565 - val_level2_mean_squared_error: 0.4604 - val_level3_mean_squared_error: 0.5133 - val_level4_mean_squared_error: 0.5096 - val_level5_mean_squared_error: 0.4961\n",
            "\n",
            "Epoch 00032: val_out_loss improved from 0.55692 to 0.45667, saving model to trained_models/MultiResUNet_1024_64_5_6_1.h5\n",
            "Epoch 33/300\n",
            "12/12 [==============================] - 16s 1s/step - loss: 1.4816 - out_loss: 0.3028 - level1_loss: 0.3012 - level2_loss: 0.3031 - level3_loss: 0.3004 - level4_loss: 0.3130 - level5_loss: 0.3315 - out_mean_squared_error: 0.3374 - level1_mean_squared_error: 0.3394 - level2_mean_squared_error: 0.3357 - level3_mean_squared_error: 0.3405 - level4_mean_squared_error: 0.3558 - level5_mean_squared_error: 0.3873 - val_loss: 2.5861 - val_out_loss: 0.4915 - val_level1_loss: 0.5057 - val_level2_loss: 0.5325 - val_level3_loss: 0.5550 - val_level4_loss: 0.5739 - val_level5_loss: 0.5740 - val_out_mean_squared_error: 0.4617 - val_level1_mean_squared_error: 0.4723 - val_level2_mean_squared_error: 0.4876 - val_level3_mean_squared_error: 0.5586 - val_level4_mean_squared_error: 0.5457 - val_level5_mean_squared_error: 0.5711\n",
            "\n",
            "Epoch 00033: val_out_loss did not improve from 0.45667\n",
            "Epoch 34/300\n",
            "12/12 [==============================] - 16s 1s/step - loss: 1.4553 - out_loss: 0.2931 - level1_loss: 0.2902 - level2_loss: 0.2911 - level3_loss: 0.2967 - level4_loss: 0.3056 - level5_loss: 0.3425 - out_mean_squared_error: 0.3327 - level1_mean_squared_error: 0.3317 - level2_mean_squared_error: 0.3301 - level3_mean_squared_error: 0.3423 - level4_mean_squared_error: 0.3601 - level5_mean_squared_error: 0.4612 - val_loss: 2.5004 - val_out_loss: 0.4996 - val_level1_loss: 0.5073 - val_level2_loss: 0.5313 - val_level3_loss: 0.5153 - val_level4_loss: 0.5396 - val_level5_loss: 0.5323 - val_out_mean_squared_error: 0.4602 - val_level1_mean_squared_error: 0.4621 - val_level2_mean_squared_error: 0.4760 - val_level3_mean_squared_error: 0.4992 - val_level4_mean_squared_error: 0.4984 - val_level5_mean_squared_error: 0.6338\n",
            "\n",
            "Epoch 00034: val_out_loss did not improve from 0.45667\n",
            "Epoch 35/300\n",
            "12/12 [==============================] - 16s 1s/step - loss: 1.4000 - out_loss: 0.2806 - level1_loss: 0.2812 - level2_loss: 0.2802 - level3_loss: 0.2836 - level4_loss: 0.2904 - level5_loss: 0.3339 - out_mean_squared_error: 0.3097 - level1_mean_squared_error: 0.3104 - level2_mean_squared_error: 0.3083 - level3_mean_squared_error: 0.3244 - level4_mean_squared_error: 0.3313 - level5_mean_squared_error: 0.4412 - val_loss: 2.4264 - val_out_loss: 0.4885 - val_level1_loss: 0.4969 - val_level2_loss: 0.5158 - val_level3_loss: 0.5088 - val_level4_loss: 0.5377 - val_level5_loss: 0.4854 - val_out_mean_squared_error: 0.4466 - val_level1_mean_squared_error: 0.4442 - val_level2_mean_squared_error: 0.4505 - val_level3_mean_squared_error: 0.4601 - val_level4_mean_squared_error: 0.5021 - val_level5_mean_squared_error: 0.4615\n",
            "\n",
            "Epoch 00035: val_out_loss did not improve from 0.45667\n",
            "Epoch 36/300\n",
            "12/12 [==============================] - 16s 1s/step - loss: 1.3817 - out_loss: 0.2792 - level1_loss: 0.2751 - level2_loss: 0.2782 - level3_loss: 0.2876 - level4_loss: 0.2889 - level5_loss: 0.3183 - out_mean_squared_error: 0.3072 - level1_mean_squared_error: 0.3069 - level2_mean_squared_error: 0.3071 - level3_mean_squared_error: 0.3348 - level4_mean_squared_error: 0.3256 - level5_mean_squared_error: 0.3529 - val_loss: 2.2315 - val_out_loss: 0.4204 - val_level1_loss: 0.4251 - val_level2_loss: 0.4639 - val_level3_loss: 0.4537 - val_level4_loss: 0.5120 - val_level5_loss: 0.5144 - val_out_mean_squared_error: 0.4658 - val_level1_mean_squared_error: 0.4595 - val_level2_mean_squared_error: 0.4471 - val_level3_mean_squared_error: 0.4746 - val_level4_mean_squared_error: 0.5150 - val_level5_mean_squared_error: 0.5536\n",
            "\n",
            "Epoch 00036: val_out_loss improved from 0.45667 to 0.42044, saving model to trained_models/MultiResUNet_1024_64_5_6_1.h5\n",
            "Epoch 37/300\n",
            "12/12 [==============================] - 16s 1s/step - loss: 1.3692 - out_loss: 0.2740 - level1_loss: 0.2713 - level2_loss: 0.2730 - level3_loss: 0.2819 - level4_loss: 0.2871 - level5_loss: 0.3242 - out_mean_squared_error: 0.3064 - level1_mean_squared_error: 0.3060 - level2_mean_squared_error: 0.3065 - level3_mean_squared_error: 0.3089 - level4_mean_squared_error: 0.3304 - level5_mean_squared_error: 0.4014 - val_loss: 2.1421 - val_out_loss: 0.4074 - val_level1_loss: 0.4131 - val_level2_loss: 0.4551 - val_level3_loss: 0.4500 - val_level4_loss: 0.4984 - val_level5_loss: 0.4537 - val_out_mean_squared_error: 0.4749 - val_level1_mean_squared_error: 0.4762 - val_level2_mean_squared_error: 0.4571 - val_level3_mean_squared_error: 0.4758 - val_level4_mean_squared_error: 0.4605 - val_level5_mean_squared_error: 0.4775\n",
            "\n",
            "Epoch 00037: val_out_loss improved from 0.42044 to 0.40737, saving model to trained_models/MultiResUNet_1024_64_5_6_1.h5\n",
            "Epoch 38/300\n",
            "12/12 [==============================] - 16s 1s/step - loss: 1.4147 - out_loss: 0.2815 - level1_loss: 0.2802 - level2_loss: 0.2826 - level3_loss: 0.2889 - level4_loss: 0.2971 - level5_loss: 0.3381 - out_mean_squared_error: 0.3200 - level1_mean_squared_error: 0.3198 - level2_mean_squared_error: 0.3214 - level3_mean_squared_error: 0.3334 - level4_mean_squared_error: 0.3293 - level5_mean_squared_error: 0.4304 - val_loss: 2.2589 - val_out_loss: 0.4310 - val_level1_loss: 0.4391 - val_level2_loss: 0.4805 - val_level3_loss: 0.5060 - val_level4_loss: 0.4976 - val_level5_loss: 0.4694 - val_out_mean_squared_error: 0.4621 - val_level1_mean_squared_error: 0.4617 - val_level2_mean_squared_error: 0.4615 - val_level3_mean_squared_error: 0.5047 - val_level4_mean_squared_error: 0.5415 - val_level5_mean_squared_error: 0.5430\n",
            "\n",
            "Epoch 00038: val_out_loss did not improve from 0.40737\n",
            "Epoch 39/300\n",
            "12/12 [==============================] - 16s 1s/step - loss: 1.4242 - out_loss: 0.2845 - level1_loss: 0.2837 - level2_loss: 0.2858 - level3_loss: 0.2809 - level4_loss: 0.3045 - level5_loss: 0.3410 - out_mean_squared_error: 0.3120 - level1_mean_squared_error: 0.3101 - level2_mean_squared_error: 0.3131 - level3_mean_squared_error: 0.3202 - level4_mean_squared_error: 0.3597 - level5_mean_squared_error: 0.5070 - val_loss: 2.3874 - val_out_loss: 0.4756 - val_level1_loss: 0.4806 - val_level2_loss: 0.4901 - val_level3_loss: 0.5135 - val_level4_loss: 0.5183 - val_level5_loss: 0.5062 - val_out_mean_squared_error: 0.4369 - val_level1_mean_squared_error: 0.4445 - val_level2_mean_squared_error: 0.4491 - val_level3_mean_squared_error: 0.4797 - val_level4_mean_squared_error: 0.5988 - val_level5_mean_squared_error: 0.8722\n",
            "\n",
            "Epoch 00039: val_out_loss did not improve from 0.40737\n",
            "Epoch 40/300\n",
            "12/12 [==============================] - 16s 1s/step - loss: 1.3785 - out_loss: 0.2756 - level1_loss: 0.2710 - level2_loss: 0.2749 - level3_loss: 0.2769 - level4_loss: 0.2929 - level5_loss: 0.3317 - out_mean_squared_error: 0.3036 - level1_mean_squared_error: 0.3046 - level2_mean_squared_error: 0.3095 - level3_mean_squared_error: 0.3129 - level4_mean_squared_error: 0.3484 - level5_mean_squared_error: 0.4934 - val_loss: 1.9868 - val_out_loss: 0.3712 - val_level1_loss: 0.3767 - val_level2_loss: 0.4077 - val_level3_loss: 0.4289 - val_level4_loss: 0.4531 - val_level5_loss: 0.4460 - val_out_mean_squared_error: 0.4501 - val_level1_mean_squared_error: 0.4561 - val_level2_mean_squared_error: 0.4231 - val_level3_mean_squared_error: 0.4701 - val_level4_mean_squared_error: 0.4869 - val_level5_mean_squared_error: 0.4580\n",
            "\n",
            "Epoch 00040: val_out_loss improved from 0.40737 to 0.37119, saving model to trained_models/MultiResUNet_1024_64_5_6_1.h5\n",
            "Epoch 41/300\n",
            "12/12 [==============================] - 16s 1s/step - loss: 1.3879 - out_loss: 0.2800 - level1_loss: 0.2778 - level2_loss: 0.2824 - level3_loss: 0.2800 - level4_loss: 0.2951 - level5_loss: 0.3197 - out_mean_squared_error: 0.3047 - level1_mean_squared_error: 0.3060 - level2_mean_squared_error: 0.3071 - level3_mean_squared_error: 0.3095 - level4_mean_squared_error: 0.3524 - level5_mean_squared_error: 0.3812 - val_loss: 2.0940 - val_out_loss: 0.3820 - val_level1_loss: 0.3849 - val_level2_loss: 0.4328 - val_level3_loss: 0.4592 - val_level4_loss: 0.4862 - val_level5_loss: 0.4724 - val_out_mean_squared_error: 0.4522 - val_level1_mean_squared_error: 0.4580 - val_level2_mean_squared_error: 0.4530 - val_level3_mean_squared_error: 0.4996 - val_level4_mean_squared_error: 0.5221 - val_level5_mean_squared_error: 0.6233\n",
            "\n",
            "Epoch 00041: val_out_loss did not improve from 0.37119\n",
            "Epoch 42/300\n",
            "12/12 [==============================] - 16s 1s/step - loss: 1.3351 - out_loss: 0.2669 - level1_loss: 0.2682 - level2_loss: 0.2687 - level3_loss: 0.2711 - level4_loss: 0.2834 - level5_loss: 0.3107 - out_mean_squared_error: 0.2935 - level1_mean_squared_error: 0.2944 - level2_mean_squared_error: 0.2949 - level3_mean_squared_error: 0.2987 - level4_mean_squared_error: 0.3225 - level5_mean_squared_error: 0.3524 - val_loss: 2.0620 - val_out_loss: 0.3916 - val_level1_loss: 0.3913 - val_level2_loss: 0.4330 - val_level3_loss: 0.4538 - val_level4_loss: 0.4645 - val_level5_loss: 0.4433 - val_out_mean_squared_error: 0.4251 - val_level1_mean_squared_error: 0.4314 - val_level2_mean_squared_error: 0.4220 - val_level3_mean_squared_error: 0.4581 - val_level4_mean_squared_error: 0.4361 - val_level5_mean_squared_error: 0.4593\n",
            "\n",
            "Epoch 00042: val_out_loss did not improve from 0.37119\n",
            "Epoch 43/300\n",
            "12/12 [==============================] - 16s 1s/step - loss: 1.2640 - out_loss: 0.2517 - level1_loss: 0.2501 - level2_loss: 0.2542 - level3_loss: 0.2574 - level4_loss: 0.2699 - level5_loss: 0.2966 - out_mean_squared_error: 0.2715 - level1_mean_squared_error: 0.2726 - level2_mean_squared_error: 0.2728 - level3_mean_squared_error: 0.2844 - level4_mean_squared_error: 0.2977 - level5_mean_squared_error: 0.3255 - val_loss: 2.0697 - val_out_loss: 0.3834 - val_level1_loss: 0.3980 - val_level2_loss: 0.4329 - val_level3_loss: 0.4518 - val_level4_loss: 0.4605 - val_level5_loss: 0.4604 - val_out_mean_squared_error: 0.4193 - val_level1_mean_squared_error: 0.4271 - val_level2_mean_squared_error: 0.4322 - val_level3_mean_squared_error: 0.4679 - val_level4_mean_squared_error: 0.4619 - val_level5_mean_squared_error: 0.4962\n",
            "\n",
            "Epoch 00043: val_out_loss did not improve from 0.37119\n",
            "Epoch 44/300\n",
            "12/12 [==============================] - 16s 1s/step - loss: 1.2961 - out_loss: 0.2583 - level1_loss: 0.2572 - level2_loss: 0.2599 - level3_loss: 0.2602 - level4_loss: 0.2766 - level5_loss: 0.3079 - out_mean_squared_error: 0.2776 - level1_mean_squared_error: 0.2787 - level2_mean_squared_error: 0.2791 - level3_mean_squared_error: 0.2896 - level4_mean_squared_error: 0.3246 - level5_mean_squared_error: 0.3714 - val_loss: 2.2058 - val_out_loss: 0.4306 - val_level1_loss: 0.4370 - val_level2_loss: 0.4549 - val_level3_loss: 0.4547 - val_level4_loss: 0.4817 - val_level5_loss: 0.4983 - val_out_mean_squared_error: 0.4411 - val_level1_mean_squared_error: 0.4408 - val_level2_mean_squared_error: 0.4342 - val_level3_mean_squared_error: 0.4455 - val_level4_mean_squared_error: 0.4671 - val_level5_mean_squared_error: 0.4931\n",
            "\n",
            "Epoch 00044: val_out_loss did not improve from 0.37119\n",
            "Epoch 45/300\n",
            "12/12 [==============================] - 16s 1s/step - loss: 1.3139 - out_loss: 0.2590 - level1_loss: 0.2578 - level2_loss: 0.2629 - level3_loss: 0.2633 - level4_loss: 0.2792 - level5_loss: 0.3202 - out_mean_squared_error: 0.2794 - level1_mean_squared_error: 0.2790 - level2_mean_squared_error: 0.2796 - level3_mean_squared_error: 0.2866 - level4_mean_squared_error: 0.3006 - level5_mean_squared_error: 0.3567 - val_loss: 1.8993 - val_out_loss: 0.3796 - val_level1_loss: 0.3779 - val_level2_loss: 0.4013 - val_level3_loss: 0.3937 - val_level4_loss: 0.4076 - val_level5_loss: 0.4140 - val_out_mean_squared_error: 0.4593 - val_level1_mean_squared_error: 0.4491 - val_level2_mean_squared_error: 0.4409 - val_level3_mean_squared_error: 0.4407 - val_level4_mean_squared_error: 0.4265 - val_level5_mean_squared_error: 0.4550\n",
            "\n",
            "Epoch 00045: val_out_loss did not improve from 0.37119\n",
            "Epoch 46/300\n",
            "12/12 [==============================] - 16s 1s/step - loss: 1.2744 - out_loss: 0.2523 - level1_loss: 0.2511 - level2_loss: 0.2552 - level3_loss: 0.2549 - level4_loss: 0.2780 - level5_loss: 0.3017 - out_mean_squared_error: 0.2716 - level1_mean_squared_error: 0.2711 - level2_mean_squared_error: 0.2735 - level3_mean_squared_error: 0.2767 - level4_mean_squared_error: 0.3117 - level5_mean_squared_error: 0.3277 - val_loss: 1.8953 - val_out_loss: 0.3734 - val_level1_loss: 0.3696 - val_level2_loss: 0.3978 - val_level3_loss: 0.3907 - val_level4_loss: 0.4265 - val_level5_loss: 0.4111 - val_out_mean_squared_error: 0.4526 - val_level1_mean_squared_error: 0.4541 - val_level2_mean_squared_error: 0.4326 - val_level3_mean_squared_error: 0.4361 - val_level4_mean_squared_error: 0.4295 - val_level5_mean_squared_error: 0.5115\n",
            "\n",
            "Epoch 00046: val_out_loss did not improve from 0.37119\n",
            "Epoch 47/300\n",
            "12/12 [==============================] - 16s 1s/step - loss: 1.2632 - out_loss: 0.2502 - level1_loss: 0.2508 - level2_loss: 0.2513 - level3_loss: 0.2510 - level4_loss: 0.2702 - level5_loss: 0.3054 - out_mean_squared_error: 0.2686 - level1_mean_squared_error: 0.2692 - level2_mean_squared_error: 0.2707 - level3_mean_squared_error: 0.2757 - level4_mean_squared_error: 0.3014 - level5_mean_squared_error: 0.3285 - val_loss: 1.9217 - val_out_loss: 0.3639 - val_level1_loss: 0.3724 - val_level2_loss: 0.3962 - val_level3_loss: 0.4004 - val_level4_loss: 0.4478 - val_level5_loss: 0.4215 - val_out_mean_squared_error: 0.4461 - val_level1_mean_squared_error: 0.4480 - val_level2_mean_squared_error: 0.4345 - val_level3_mean_squared_error: 0.4532 - val_level4_mean_squared_error: 0.4611 - val_level5_mean_squared_error: 0.6208\n",
            "\n",
            "Epoch 00047: val_out_loss improved from 0.37119 to 0.36389, saving model to trained_models/MultiResUNet_1024_64_5_6_1.h5\n",
            "Epoch 48/300\n",
            "12/12 [==============================] - 16s 1s/step - loss: 1.3366 - out_loss: 0.2639 - level1_loss: 0.2611 - level2_loss: 0.2682 - level3_loss: 0.2675 - level4_loss: 0.2841 - level5_loss: 0.3259 - out_mean_squared_error: 0.2849 - level1_mean_squared_error: 0.2861 - level2_mean_squared_error: 0.2864 - level3_mean_squared_error: 0.2926 - level4_mean_squared_error: 0.3314 - level5_mean_squared_error: 0.4399 - val_loss: 1.8853 - val_out_loss: 0.3572 - val_level1_loss: 0.3536 - val_level2_loss: 0.3884 - val_level3_loss: 0.3859 - val_level4_loss: 0.4249 - val_level5_loss: 0.4465 - val_out_mean_squared_error: 0.4252 - val_level1_mean_squared_error: 0.4250 - val_level2_mean_squared_error: 0.4079 - val_level3_mean_squared_error: 0.5268 - val_level4_mean_squared_error: 0.6163 - val_level5_mean_squared_error: 0.5098\n",
            "\n",
            "Epoch 00048: val_out_loss improved from 0.36389 to 0.35722, saving model to trained_models/MultiResUNet_1024_64_5_6_1.h5\n",
            "Epoch 49/300\n",
            "12/12 [==============================] - 16s 1s/step - loss: 1.3341 - out_loss: 0.2679 - level1_loss: 0.2635 - level2_loss: 0.2682 - level3_loss: 0.2667 - level4_loss: 0.2808 - level5_loss: 0.3206 - out_mean_squared_error: 0.2920 - level1_mean_squared_error: 0.2912 - level2_mean_squared_error: 0.2903 - level3_mean_squared_error: 0.2975 - level4_mean_squared_error: 0.3207 - level5_mean_squared_error: 0.4394 - val_loss: 1.8869 - val_out_loss: 0.3653 - val_level1_loss: 0.3683 - val_level2_loss: 0.3935 - val_level3_loss: 0.3818 - val_level4_loss: 0.3960 - val_level5_loss: 0.4537 - val_out_mean_squared_error: 0.4549 - val_level1_mean_squared_error: 0.4450 - val_level2_mean_squared_error: 0.4619 - val_level3_mean_squared_error: 0.4627 - val_level4_mean_squared_error: 0.4274 - val_level5_mean_squared_error: 0.4817\n",
            "\n",
            "Epoch 00049: val_out_loss did not improve from 0.35722\n",
            "Epoch 50/300\n",
            "12/12 [==============================] - 16s 1s/step - loss: 1.3000 - out_loss: 0.2574 - level1_loss: 0.2576 - level2_loss: 0.2593 - level3_loss: 0.2583 - level4_loss: 0.2726 - level5_loss: 0.3199 - out_mean_squared_error: 0.2692 - level1_mean_squared_error: 0.2696 - level2_mean_squared_error: 0.2696 - level3_mean_squared_error: 0.2833 - level4_mean_squared_error: 0.3101 - level5_mean_squared_error: 0.3686 - val_loss: 1.8588 - val_out_loss: 0.3861 - val_level1_loss: 0.3754 - val_level2_loss: 0.3873 - val_level3_loss: 0.3694 - val_level4_loss: 0.4010 - val_level5_loss: 0.4043 - val_out_mean_squared_error: 0.4792 - val_level1_mean_squared_error: 0.4686 - val_level2_mean_squared_error: 0.5145 - val_level3_mean_squared_error: 0.5407 - val_level4_mean_squared_error: 0.5230 - val_level5_mean_squared_error: 0.5576\n",
            "\n",
            "Epoch 00050: val_out_loss did not improve from 0.35722\n",
            "Epoch 51/300\n",
            "12/12 [==============================] - 16s 1s/step - loss: 1.2769 - out_loss: 0.2497 - level1_loss: 0.2492 - level2_loss: 0.2542 - level3_loss: 0.2563 - level4_loss: 0.2702 - level5_loss: 0.3166 - out_mean_squared_error: 0.2489 - level1_mean_squared_error: 0.2495 - level2_mean_squared_error: 0.2518 - level3_mean_squared_error: 0.2572 - level4_mean_squared_error: 0.2937 - level5_mean_squared_error: 0.3352 - val_loss: 1.7632 - val_out_loss: 0.3511 - val_level1_loss: 0.3433 - val_level2_loss: 0.3587 - val_level3_loss: 0.3594 - val_level4_loss: 0.3887 - val_level5_loss: 0.4028 - val_out_mean_squared_error: 0.4196 - val_level1_mean_squared_error: 0.4064 - val_level2_mean_squared_error: 0.4239 - val_level3_mean_squared_error: 0.4364 - val_level4_mean_squared_error: 0.4364 - val_level5_mean_squared_error: 0.4691\n",
            "\n",
            "Epoch 00051: val_out_loss improved from 0.35722 to 0.35111, saving model to trained_models/MultiResUNet_1024_64_5_6_1.h5\n",
            "Epoch 52/300\n",
            "12/12 [==============================] - 16s 1s/step - loss: 1.2695 - out_loss: 0.2526 - level1_loss: 0.2525 - level2_loss: 0.2506 - level3_loss: 0.2521 - level4_loss: 0.2702 - level5_loss: 0.3089 - out_mean_squared_error: 0.2522 - level1_mean_squared_error: 0.2521 - level2_mean_squared_error: 0.2535 - level3_mean_squared_error: 0.2531 - level4_mean_squared_error: 0.2728 - level5_mean_squared_error: 0.3512 - val_loss: 1.7762 - val_out_loss: 0.3666 - val_level1_loss: 0.3549 - val_level2_loss: 0.3737 - val_level3_loss: 0.3505 - val_level4_loss: 0.3735 - val_level5_loss: 0.4011 - val_out_mean_squared_error: 0.4627 - val_level1_mean_squared_error: 0.4553 - val_level2_mean_squared_error: 0.4262 - val_level3_mean_squared_error: 0.4439 - val_level4_mean_squared_error: 0.4305 - val_level5_mean_squared_error: 0.4654\n",
            "\n",
            "Epoch 00052: val_out_loss did not improve from 0.35111\n",
            "Epoch 53/300\n",
            "12/12 [==============================] - 16s 1s/step - loss: 1.2873 - out_loss: 0.2510 - level1_loss: 0.2509 - level2_loss: 0.2529 - level3_loss: 0.2569 - level4_loss: 0.2770 - level5_loss: 0.3204 - out_mean_squared_error: 0.2466 - level1_mean_squared_error: 0.2443 - level2_mean_squared_error: 0.2460 - level3_mean_squared_error: 0.2528 - level4_mean_squared_error: 0.3141 - level5_mean_squared_error: 0.3857 - val_loss: 1.8482 - val_out_loss: 0.3725 - val_level1_loss: 0.3705 - val_level2_loss: 0.3884 - val_level3_loss: 0.3689 - val_level4_loss: 0.4105 - val_level5_loss: 0.3994 - val_out_mean_squared_error: 0.3971 - val_level1_mean_squared_error: 0.3858 - val_level2_mean_squared_error: 0.3852 - val_level3_mean_squared_error: 0.3626 - val_level4_mean_squared_error: 0.5415 - val_level5_mean_squared_error: 0.4035\n",
            "\n",
            "Epoch 00053: val_out_loss did not improve from 0.35111\n",
            "Epoch 54/300\n",
            "12/12 [==============================] - 16s 1s/step - loss: 1.2628 - out_loss: 0.2451 - level1_loss: 0.2441 - level2_loss: 0.2468 - level3_loss: 0.2503 - level4_loss: 0.2779 - level5_loss: 0.3143 - out_mean_squared_error: 0.2418 - level1_mean_squared_error: 0.2403 - level2_mean_squared_error: 0.2399 - level3_mean_squared_error: 0.2448 - level4_mean_squared_error: 0.2923 - level5_mean_squared_error: 0.3483 - val_loss: 1.7417 - val_out_loss: 0.3656 - val_level1_loss: 0.3521 - val_level2_loss: 0.3576 - val_level3_loss: 0.3431 - val_level4_loss: 0.3618 - val_level5_loss: 0.3970 - val_out_mean_squared_error: 0.4412 - val_level1_mean_squared_error: 0.4330 - val_level2_mean_squared_error: 0.4306 - val_level3_mean_squared_error: 0.4227 - val_level4_mean_squared_error: 0.4435 - val_level5_mean_squared_error: 0.5244\n",
            "\n",
            "Epoch 00054: val_out_loss did not improve from 0.35111\n",
            "Epoch 55/300\n",
            "12/12 [==============================] - 16s 1s/step - loss: 1.1802 - out_loss: 0.2312 - level1_loss: 0.2310 - level2_loss: 0.2318 - level3_loss: 0.2343 - level4_loss: 0.2573 - level5_loss: 0.2896 - out_mean_squared_error: 0.2254 - level1_mean_squared_error: 0.2253 - level2_mean_squared_error: 0.2263 - level3_mean_squared_error: 0.2345 - level4_mean_squared_error: 0.2821 - level5_mean_squared_error: 0.3083 - val_loss: 1.7341 - val_out_loss: 0.3485 - val_level1_loss: 0.3401 - val_level2_loss: 0.3602 - val_level3_loss: 0.3543 - val_level4_loss: 0.3635 - val_level5_loss: 0.4009 - val_out_mean_squared_error: 0.3976 - val_level1_mean_squared_error: 0.4018 - val_level2_mean_squared_error: 0.3735 - val_level3_mean_squared_error: 0.3779 - val_level4_mean_squared_error: 0.3784 - val_level5_mean_squared_error: 0.6786\n",
            "\n",
            "Epoch 00055: val_out_loss improved from 0.35111 to 0.34854, saving model to trained_models/MultiResUNet_1024_64_5_6_1.h5\n",
            "Epoch 56/300\n",
            "12/12 [==============================] - 16s 1s/step - loss: 1.1788 - out_loss: 0.2275 - level1_loss: 0.2254 - level2_loss: 0.2276 - level3_loss: 0.2356 - level4_loss: 0.2561 - level5_loss: 0.3012 - out_mean_squared_error: 0.2053 - level1_mean_squared_error: 0.2050 - level2_mean_squared_error: 0.2036 - level3_mean_squared_error: 0.2100 - level4_mean_squared_error: 0.2596 - level5_mean_squared_error: 0.3233 - val_loss: 2.0491 - val_out_loss: 0.4267 - val_level1_loss: 0.4256 - val_level2_loss: 0.4250 - val_level3_loss: 0.4082 - val_level4_loss: 0.4233 - val_level5_loss: 0.4526 - val_out_mean_squared_error: 0.4658 - val_level1_mean_squared_error: 0.4613 - val_level2_mean_squared_error: 0.4334 - val_level3_mean_squared_error: 0.4273 - val_level4_mean_squared_error: 0.5016 - val_level5_mean_squared_error: 0.6079\n",
            "\n",
            "Epoch 00056: val_out_loss did not improve from 0.34854\n",
            "Epoch 57/300\n",
            "12/12 [==============================] - 16s 1s/step - loss: 1.2022 - out_loss: 0.2304 - level1_loss: 0.2297 - level2_loss: 0.2331 - level3_loss: 0.2369 - level4_loss: 0.2634 - level5_loss: 0.3093 - out_mean_squared_error: 0.2056 - level1_mean_squared_error: 0.2063 - level2_mean_squared_error: 0.2078 - level3_mean_squared_error: 0.2251 - level4_mean_squared_error: 0.2548 - level5_mean_squared_error: 0.3159 - val_loss: 1.7671 - val_out_loss: 0.3530 - val_level1_loss: 0.3498 - val_level2_loss: 0.3698 - val_level3_loss: 0.3463 - val_level4_loss: 0.3675 - val_level5_loss: 0.4225 - val_out_mean_squared_error: 0.4017 - val_level1_mean_squared_error: 0.4040 - val_level2_mean_squared_error: 0.3954 - val_level3_mean_squared_error: 0.4266 - val_level4_mean_squared_error: 0.3938 - val_level5_mean_squared_error: 0.5322\n",
            "\n",
            "Epoch 00057: val_out_loss did not improve from 0.34854\n",
            "Epoch 58/300\n",
            "12/12 [==============================] - 16s 1s/step - loss: 1.1391 - out_loss: 0.2159 - level1_loss: 0.2190 - level2_loss: 0.2192 - level3_loss: 0.2259 - level4_loss: 0.2473 - level5_loss: 0.2965 - out_mean_squared_error: 0.1979 - level1_mean_squared_error: 0.1986 - level2_mean_squared_error: 0.1976 - level3_mean_squared_error: 0.2180 - level4_mean_squared_error: 0.2394 - level5_mean_squared_error: 0.3101 - val_loss: 1.6874 - val_out_loss: 0.3362 - val_level1_loss: 0.3350 - val_level2_loss: 0.3559 - val_level3_loss: 0.3495 - val_level4_loss: 0.3640 - val_level5_loss: 0.3686 - val_out_mean_squared_error: 0.3690 - val_level1_mean_squared_error: 0.3585 - val_level2_mean_squared_error: 0.3810 - val_level3_mean_squared_error: 0.3717 - val_level4_mean_squared_error: 0.5202 - val_level5_mean_squared_error: 0.4526\n",
            "\n",
            "Epoch 00058: val_out_loss improved from 0.34854 to 0.33618, saving model to trained_models/MultiResUNet_1024_64_5_6_1.h5\n",
            "Epoch 59/300\n",
            "12/12 [==============================] - 16s 1s/step - loss: 1.0809 - out_loss: 0.2026 - level1_loss: 0.2060 - level2_loss: 0.2044 - level3_loss: 0.2140 - level4_loss: 0.2394 - level5_loss: 0.2847 - out_mean_squared_error: 0.1739 - level1_mean_squared_error: 0.1742 - level2_mean_squared_error: 0.1758 - level3_mean_squared_error: 0.2021 - level4_mean_squared_error: 0.2177 - level5_mean_squared_error: 0.2868 - val_loss: 1.5979 - val_out_loss: 0.3150 - val_level1_loss: 0.3110 - val_level2_loss: 0.3315 - val_level3_loss: 0.3274 - val_level4_loss: 0.3358 - val_level5_loss: 0.3767 - val_out_mean_squared_error: 0.3490 - val_level1_mean_squared_error: 0.3461 - val_level2_mean_squared_error: 0.3372 - val_level3_mean_squared_error: 0.4320 - val_level4_mean_squared_error: 0.3840 - val_level5_mean_squared_error: 0.4749\n",
            "\n",
            "Epoch 00059: val_out_loss improved from 0.33618 to 0.31501, saving model to trained_models/MultiResUNet_1024_64_5_6_1.h5\n",
            "Epoch 60/300\n",
            "12/12 [==============================] - 16s 1s/step - loss: 1.0870 - out_loss: 0.2084 - level1_loss: 0.2064 - level2_loss: 0.2098 - level3_loss: 0.2170 - level4_loss: 0.2345 - level5_loss: 0.2827 - out_mean_squared_error: 0.1806 - level1_mean_squared_error: 0.1796 - level2_mean_squared_error: 0.1831 - level3_mean_squared_error: 0.2044 - level4_mean_squared_error: 0.2064 - level5_mean_squared_error: 0.2825 - val_loss: 1.6690 - val_out_loss: 0.3438 - val_level1_loss: 0.3389 - val_level2_loss: 0.3367 - val_level3_loss: 0.3393 - val_level4_loss: 0.3556 - val_level5_loss: 0.3721 - val_out_mean_squared_error: 0.3800 - val_level1_mean_squared_error: 0.3749 - val_level2_mean_squared_error: 0.3576 - val_level3_mean_squared_error: 0.4362 - val_level4_mean_squared_error: 0.4375 - val_level5_mean_squared_error: 0.4031\n",
            "\n",
            "Epoch 00060: val_out_loss did not improve from 0.31501\n",
            "Epoch 61/300\n",
            "12/12 [==============================] - 16s 1s/step - loss: 1.1426 - out_loss: 0.2175 - level1_loss: 0.2120 - level2_loss: 0.2201 - level3_loss: 0.2249 - level4_loss: 0.2485 - level5_loss: 0.3052 - out_mean_squared_error: 0.1907 - level1_mean_squared_error: 0.1908 - level2_mean_squared_error: 0.1980 - level3_mean_squared_error: 0.2039 - level4_mean_squared_error: 0.2426 - level5_mean_squared_error: 0.3426 - val_loss: 1.6648 - val_out_loss: 0.3313 - val_level1_loss: 0.3242 - val_level2_loss: 0.3460 - val_level3_loss: 0.3395 - val_level4_loss: 0.3521 - val_level5_loss: 0.3878 - val_out_mean_squared_error: 0.3467 - val_level1_mean_squared_error: 0.3448 - val_level2_mean_squared_error: 0.3310 - val_level3_mean_squared_error: 0.3340 - val_level4_mean_squared_error: 0.3729 - val_level5_mean_squared_error: 0.4979\n",
            "\n",
            "Epoch 00061: val_out_loss did not improve from 0.31501\n",
            "Epoch 62/300\n",
            "12/12 [==============================] - 16s 1s/step - loss: 1.1129 - out_loss: 0.2128 - level1_loss: 0.2148 - level2_loss: 0.2143 - level3_loss: 0.2171 - level4_loss: 0.2373 - level5_loss: 0.2949 - out_mean_squared_error: 0.1909 - level1_mean_squared_error: 0.1902 - level2_mean_squared_error: 0.1889 - level3_mean_squared_error: 0.1951 - level4_mean_squared_error: 0.2201 - level5_mean_squared_error: 0.3718 - val_loss: 1.7291 - val_out_loss: 0.3556 - val_level1_loss: 0.3565 - val_level2_loss: 0.3517 - val_level3_loss: 0.3475 - val_level4_loss: 0.3530 - val_level5_loss: 0.3971 - val_out_mean_squared_error: 0.4053 - val_level1_mean_squared_error: 0.4043 - val_level2_mean_squared_error: 0.3584 - val_level3_mean_squared_error: 0.3635 - val_level4_mean_squared_error: 0.3689 - val_level5_mean_squared_error: 0.5216\n",
            "\n",
            "Epoch 00062: val_out_loss did not improve from 0.31501\n",
            "Epoch 63/300\n",
            "12/12 [==============================] - 16s 1s/step - loss: 1.0642 - out_loss: 0.2017 - level1_loss: 0.2040 - level2_loss: 0.2015 - level3_loss: 0.2065 - level4_loss: 0.2295 - level5_loss: 0.2869 - out_mean_squared_error: 0.1667 - level1_mean_squared_error: 0.1671 - level2_mean_squared_error: 0.1657 - level3_mean_squared_error: 0.1698 - level4_mean_squared_error: 0.1978 - level5_mean_squared_error: 0.3119 - val_loss: 1.6342 - val_out_loss: 0.3352 - val_level1_loss: 0.3272 - val_level2_loss: 0.3289 - val_level3_loss: 0.3223 - val_level4_loss: 0.3414 - val_level5_loss: 0.3878 - val_out_mean_squared_error: 0.3869 - val_level1_mean_squared_error: 0.3725 - val_level2_mean_squared_error: 0.3449 - val_level3_mean_squared_error: 0.3580 - val_level4_mean_squared_error: 0.3673 - val_level5_mean_squared_error: 0.5657\n",
            "\n",
            "Epoch 00063: val_out_loss did not improve from 0.31501\n",
            "Epoch 64/300\n",
            "12/12 [==============================] - 16s 1s/step - loss: 1.0515 - out_loss: 0.2004 - level1_loss: 0.1984 - level2_loss: 0.2008 - level3_loss: 0.2082 - level4_loss: 0.2298 - level5_loss: 0.2768 - out_mean_squared_error: 0.1698 - level1_mean_squared_error: 0.1695 - level2_mean_squared_error: 0.1723 - level3_mean_squared_error: 0.1756 - level4_mean_squared_error: 0.2160 - level5_mean_squared_error: 0.3048 - val_loss: 1.7620 - val_out_loss: 0.3781 - val_level1_loss: 0.3694 - val_level2_loss: 0.3599 - val_level3_loss: 0.3574 - val_level4_loss: 0.3567 - val_level5_loss: 0.3810 - val_out_mean_squared_error: 0.4352 - val_level1_mean_squared_error: 0.4185 - val_level2_mean_squared_error: 0.3889 - val_level3_mean_squared_error: 0.4159 - val_level4_mean_squared_error: 0.3663 - val_level5_mean_squared_error: 0.4038\n",
            "\n",
            "Epoch 00064: val_out_loss did not improve from 0.31501\n",
            "Epoch 65/300\n",
            "12/12 [==============================] - 16s 1s/step - loss: 1.0839 - out_loss: 0.2104 - level1_loss: 0.2066 - level2_loss: 0.2090 - level3_loss: 0.2109 - level4_loss: 0.2348 - level5_loss: 0.2832 - out_mean_squared_error: 0.1817 - level1_mean_squared_error: 0.1816 - level2_mean_squared_error: 0.1816 - level3_mean_squared_error: 0.1827 - level4_mean_squared_error: 0.2019 - level5_mean_squared_error: 0.3346 - val_loss: 1.7096 - val_out_loss: 0.3402 - val_level1_loss: 0.3378 - val_level2_loss: 0.3513 - val_level3_loss: 0.3457 - val_level4_loss: 0.3541 - val_level5_loss: 0.4079 - val_out_mean_squared_error: 0.4086 - val_level1_mean_squared_error: 0.4057 - val_level2_mean_squared_error: 0.3949 - val_level3_mean_squared_error: 0.3867 - val_level4_mean_squared_error: 0.3747 - val_level5_mean_squared_error: 0.4196\n",
            "\n",
            "Epoch 00065: val_out_loss did not improve from 0.31501\n",
            "Epoch 66/300\n",
            "12/12 [==============================] - 16s 1s/step - loss: 1.0355 - out_loss: 0.1981 - level1_loss: 0.1998 - level2_loss: 0.1989 - level3_loss: 0.2007 - level4_loss: 0.2249 - level5_loss: 0.2719 - out_mean_squared_error: 0.1663 - level1_mean_squared_error: 0.1659 - level2_mean_squared_error: 0.1679 - level3_mean_squared_error: 0.1699 - level4_mean_squared_error: 0.2021 - level5_mean_squared_error: 0.2695 - val_loss: 1.6574 - val_out_loss: 0.3444 - val_level1_loss: 0.3402 - val_level2_loss: 0.3325 - val_level3_loss: 0.3377 - val_level4_loss: 0.3472 - val_level5_loss: 0.3697 - val_out_mean_squared_error: 0.3950 - val_level1_mean_squared_error: 0.3901 - val_level2_mean_squared_error: 0.3685 - val_level3_mean_squared_error: 0.4118 - val_level4_mean_squared_error: 0.3984 - val_level5_mean_squared_error: 0.4156\n",
            "\n",
            "Epoch 00066: val_out_loss did not improve from 0.31501\n",
            "Epoch 67/300\n",
            "12/12 [==============================] - 16s 1s/step - loss: 1.0032 - out_loss: 0.1885 - level1_loss: 0.1900 - level2_loss: 0.1923 - level3_loss: 0.1945 - level4_loss: 0.2181 - level5_loss: 0.2706 - out_mean_squared_error: 0.1495 - level1_mean_squared_error: 0.1508 - level2_mean_squared_error: 0.1521 - level3_mean_squared_error: 0.1545 - level4_mean_squared_error: 0.1844 - level5_mean_squared_error: 0.3014 - val_loss: 1.7376 - val_out_loss: 0.3792 - val_level1_loss: 0.3667 - val_level2_loss: 0.3546 - val_level3_loss: 0.3425 - val_level4_loss: 0.3533 - val_level5_loss: 0.3758 - val_out_mean_squared_error: 0.4374 - val_level1_mean_squared_error: 0.4164 - val_level2_mean_squared_error: 0.3915 - val_level3_mean_squared_error: 0.3726 - val_level4_mean_squared_error: 0.3756 - val_level5_mean_squared_error: 0.4900\n",
            "\n",
            "Epoch 00067: val_out_loss did not improve from 0.31501\n",
            "Epoch 68/300\n",
            "12/12 [==============================] - 16s 1s/step - loss: 0.9706 - out_loss: 0.1842 - level1_loss: 0.1814 - level2_loss: 0.1815 - level3_loss: 0.1848 - level4_loss: 0.2110 - level5_loss: 0.2705 - out_mean_squared_error: 0.1451 - level1_mean_squared_error: 0.1446 - level2_mean_squared_error: 0.1454 - level3_mean_squared_error: 0.1499 - level4_mean_squared_error: 0.1661 - level5_mean_squared_error: 0.2774 - val_loss: 1.6827 - val_out_loss: 0.3542 - val_level1_loss: 0.3458 - val_level2_loss: 0.3415 - val_level3_loss: 0.3347 - val_level4_loss: 0.3460 - val_level5_loss: 0.3812 - val_out_mean_squared_error: 0.4175 - val_level1_mean_squared_error: 0.4068 - val_level2_mean_squared_error: 0.3678 - val_level3_mean_squared_error: 0.3887 - val_level4_mean_squared_error: 0.4800 - val_level5_mean_squared_error: 0.4612\n",
            "\n",
            "Epoch 00068: val_out_loss did not improve from 0.31501\n",
            "Epoch 69/300\n",
            "12/12 [==============================] - 16s 1s/step - loss: 1.0119 - out_loss: 0.1905 - level1_loss: 0.1888 - level2_loss: 0.1923 - level3_loss: 0.1975 - level4_loss: 0.2290 - level5_loss: 0.2669 - out_mean_squared_error: 0.1487 - level1_mean_squared_error: 0.1486 - level2_mean_squared_error: 0.1488 - level3_mean_squared_error: 0.1633 - level4_mean_squared_error: 0.2224 - level5_mean_squared_error: 0.2551 - val_loss: 1.7673 - val_out_loss: 0.3504 - val_level1_loss: 0.3515 - val_level2_loss: 0.3710 - val_level3_loss: 0.3620 - val_level4_loss: 0.3798 - val_level5_loss: 0.3944 - val_out_mean_squared_error: 0.3905 - val_level1_mean_squared_error: 0.3887 - val_level2_mean_squared_error: 0.3873 - val_level3_mean_squared_error: 0.3637 - val_level4_mean_squared_error: 0.4232 - val_level5_mean_squared_error: 0.4634\n",
            "\n",
            "Epoch 00069: val_out_loss did not improve from 0.31501\n",
            "Epoch 70/300\n",
            "12/12 [==============================] - 16s 1s/step - loss: 1.0636 - out_loss: 0.2022 - level1_loss: 0.2039 - level2_loss: 0.2062 - level3_loss: 0.2066 - level4_loss: 0.2357 - level5_loss: 0.2749 - out_mean_squared_error: 0.1694 - level1_mean_squared_error: 0.1696 - level2_mean_squared_error: 0.1764 - level3_mean_squared_error: 0.1756 - level4_mean_squared_error: 0.2164 - level5_mean_squared_error: 0.2605 - val_loss: 1.6652 - val_out_loss: 0.3439 - val_level1_loss: 0.3410 - val_level2_loss: 0.3417 - val_level3_loss: 0.3278 - val_level4_loss: 0.3484 - val_level5_loss: 0.3787 - val_out_mean_squared_error: 0.3819 - val_level1_mean_squared_error: 0.3912 - val_level2_mean_squared_error: 0.3733 - val_level3_mean_squared_error: 0.3644 - val_level4_mean_squared_error: 0.4379 - val_level5_mean_squared_error: 0.4085\n",
            "\n",
            "Epoch 00070: val_out_loss did not improve from 0.31501\n",
            "Epoch 71/300\n",
            "12/12 [==============================] - 16s 1s/step - loss: 1.0125 - out_loss: 0.1940 - level1_loss: 0.1920 - level2_loss: 0.1929 - level3_loss: 0.1963 - level4_loss: 0.2222 - level5_loss: 0.2683 - out_mean_squared_error: 0.1535 - level1_mean_squared_error: 0.1546 - level2_mean_squared_error: 0.1557 - level3_mean_squared_error: 0.1555 - level4_mean_squared_error: 0.1928 - level5_mean_squared_error: 0.2499 - val_loss: 1.6521 - val_out_loss: 0.3419 - val_level1_loss: 0.3370 - val_level2_loss: 0.3395 - val_level3_loss: 0.3335 - val_level4_loss: 0.3356 - val_level5_loss: 0.3776 - val_out_mean_squared_error: 0.3941 - val_level1_mean_squared_error: 0.3786 - val_level2_mean_squared_error: 0.3532 - val_level3_mean_squared_error: 0.3588 - val_level4_mean_squared_error: 0.3617 - val_level5_mean_squared_error: 0.6078\n",
            "\n",
            "Epoch 00071: val_out_loss did not improve from 0.31501\n",
            "Epoch 72/300\n",
            "12/12 [==============================] - 16s 1s/step - loss: 0.9540 - out_loss: 0.1782 - level1_loss: 0.1763 - level2_loss: 0.1803 - level3_loss: 0.1828 - level4_loss: 0.2070 - level5_loss: 0.2679 - out_mean_squared_error: 0.1436 - level1_mean_squared_error: 0.1439 - level2_mean_squared_error: 0.1439 - level3_mean_squared_error: 0.1482 - level4_mean_squared_error: 0.1776 - level5_mean_squared_error: 0.3179 - val_loss: 1.5501 - val_out_loss: 0.3209 - val_level1_loss: 0.3114 - val_level2_loss: 0.3156 - val_level3_loss: 0.3097 - val_level4_loss: 0.3219 - val_level5_loss: 0.3583 - val_out_mean_squared_error: 0.3621 - val_level1_mean_squared_error: 0.3482 - val_level2_mean_squared_error: 0.3270 - val_level3_mean_squared_error: 0.3363 - val_level4_mean_squared_error: 0.3862 - val_level5_mean_squared_error: 0.4269\n",
            "\n",
            "Epoch 00072: val_out_loss did not improve from 0.31501\n",
            "Epoch 73/300\n",
            "12/12 [==============================] - 16s 1s/step - loss: 0.9135 - out_loss: 0.1690 - level1_loss: 0.1695 - level2_loss: 0.1718 - level3_loss: 0.1772 - level4_loss: 0.1998 - level5_loss: 0.2546 - out_mean_squared_error: 0.1270 - level1_mean_squared_error: 0.1278 - level2_mean_squared_error: 0.1268 - level3_mean_squared_error: 0.1362 - level4_mean_squared_error: 0.1653 - level5_mean_squared_error: 0.2528 - val_loss: 1.6702 - val_out_loss: 0.3444 - val_level1_loss: 0.3390 - val_level2_loss: 0.3277 - val_level3_loss: 0.3414 - val_level4_loss: 0.3461 - val_level5_loss: 0.3892 - val_out_mean_squared_error: 0.3758 - val_level1_mean_squared_error: 0.3667 - val_level2_mean_squared_error: 0.3504 - val_level3_mean_squared_error: 0.3535 - val_level4_mean_squared_error: 0.3860 - val_level5_mean_squared_error: 0.5452\n",
            "\n",
            "Epoch 00073: val_out_loss did not improve from 0.31501\n",
            "Epoch 74/300\n",
            "12/12 [==============================] - 16s 1s/step - loss: 0.9595 - out_loss: 0.1821 - level1_loss: 0.1838 - level2_loss: 0.1821 - level3_loss: 0.1879 - level4_loss: 0.2099 - level5_loss: 0.2536 - out_mean_squared_error: 0.1445 - level1_mean_squared_error: 0.1447 - level2_mean_squared_error: 0.1444 - level3_mean_squared_error: 0.1542 - level4_mean_squared_error: 0.1780 - level5_mean_squared_error: 0.2485 - val_loss: 1.5317 - val_out_loss: 0.3048 - val_level1_loss: 0.3030 - val_level2_loss: 0.3021 - val_level3_loss: 0.3140 - val_level4_loss: 0.3190 - val_level5_loss: 0.3718 - val_out_mean_squared_error: 0.3388 - val_level1_mean_squared_error: 0.3384 - val_level2_mean_squared_error: 0.3306 - val_level3_mean_squared_error: 0.3667 - val_level4_mean_squared_error: 0.3723 - val_level5_mean_squared_error: 0.4802\n",
            "\n",
            "Epoch 00074: val_out_loss improved from 0.31501 to 0.30484, saving model to trained_models/MultiResUNet_1024_64_5_6_1.h5\n",
            "Epoch 75/300\n",
            "12/12 [==============================] - 16s 1s/step - loss: 0.9098 - out_loss: 0.1763 - level1_loss: 0.1769 - level2_loss: 0.1710 - level3_loss: 0.1761 - level4_loss: 0.1963 - level5_loss: 0.2406 - out_mean_squared_error: 0.1323 - level1_mean_squared_error: 0.1338 - level2_mean_squared_error: 0.1313 - level3_mean_squared_error: 0.1352 - level4_mean_squared_error: 0.1575 - level5_mean_squared_error: 0.2166 - val_loss: 1.4713 - val_out_loss: 0.3034 - val_level1_loss: 0.2927 - val_level2_loss: 0.2873 - val_level3_loss: 0.2847 - val_level4_loss: 0.3411 - val_level5_loss: 0.3299 - val_out_mean_squared_error: 0.3538 - val_level1_mean_squared_error: 0.3403 - val_level2_mean_squared_error: 0.3252 - val_level3_mean_squared_error: 0.3247 - val_level4_mean_squared_error: 0.4245 - val_level5_mean_squared_error: 0.3818\n",
            "\n",
            "Epoch 00075: val_out_loss improved from 0.30484 to 0.30342, saving model to trained_models/MultiResUNet_1024_64_5_6_1.h5\n",
            "Epoch 76/300\n",
            "12/12 [==============================] - 16s 1s/step - loss: 0.8643 - out_loss: 0.1653 - level1_loss: 0.1642 - level2_loss: 0.1624 - level3_loss: 0.1678 - level4_loss: 0.1867 - level5_loss: 0.2339 - out_mean_squared_error: 0.1244 - level1_mean_squared_error: 0.1240 - level2_mean_squared_error: 0.1271 - level3_mean_squared_error: 0.1274 - level4_mean_squared_error: 0.1522 - level5_mean_squared_error: 0.2170 - val_loss: 1.5689 - val_out_loss: 0.3106 - val_level1_loss: 0.3123 - val_level2_loss: 0.3115 - val_level3_loss: 0.3267 - val_level4_loss: 0.3323 - val_level5_loss: 0.3677 - val_out_mean_squared_error: 0.3586 - val_level1_mean_squared_error: 0.3598 - val_level2_mean_squared_error: 0.3492 - val_level3_mean_squared_error: 0.4059 - val_level4_mean_squared_error: 0.4604 - val_level5_mean_squared_error: 0.4396\n",
            "\n",
            "Epoch 00076: val_out_loss did not improve from 0.30342\n",
            "Epoch 77/300\n",
            "12/12 [==============================] - 16s 1s/step - loss: 0.8917 - out_loss: 0.1685 - level1_loss: 0.1681 - level2_loss: 0.1713 - level3_loss: 0.1750 - level4_loss: 0.1975 - level5_loss: 0.2341 - out_mean_squared_error: 0.1230 - level1_mean_squared_error: 0.1231 - level2_mean_squared_error: 0.1236 - level3_mean_squared_error: 0.1389 - level4_mean_squared_error: 0.1853 - level5_mean_squared_error: 0.2209 - val_loss: 1.4947 - val_out_loss: 0.3237 - val_level1_loss: 0.3141 - val_level2_loss: 0.2949 - val_level3_loss: 0.2993 - val_level4_loss: 0.3038 - val_level5_loss: 0.3326 - val_out_mean_squared_error: 0.3673 - val_level1_mean_squared_error: 0.3606 - val_level2_mean_squared_error: 0.3277 - val_level3_mean_squared_error: 0.3661 - val_level4_mean_squared_error: 0.3616 - val_level5_mean_squared_error: 0.4058\n",
            "\n",
            "Epoch 00077: val_out_loss did not improve from 0.30342\n",
            "Epoch 78/300\n",
            "12/12 [==============================] - 16s 1s/step - loss: 0.8742 - out_loss: 0.1647 - level1_loss: 0.1615 - level2_loss: 0.1647 - level3_loss: 0.1678 - level4_loss: 0.1970 - level5_loss: 0.2371 - out_mean_squared_error: 0.1276 - level1_mean_squared_error: 0.1271 - level2_mean_squared_error: 0.1292 - level3_mean_squared_error: 0.1360 - level4_mean_squared_error: 0.1945 - level5_mean_squared_error: 0.2364 - val_loss: 1.5007 - val_out_loss: 0.2998 - val_level1_loss: 0.3008 - val_level2_loss: 0.2942 - val_level3_loss: 0.3018 - val_level4_loss: 0.3148 - val_level5_loss: 0.3645 - val_out_mean_squared_error: 0.3254 - val_level1_mean_squared_error: 0.3251 - val_level2_mean_squared_error: 0.3099 - val_level3_mean_squared_error: 0.3487 - val_level4_mean_squared_error: 0.3366 - val_level5_mean_squared_error: 0.4070\n",
            "\n",
            "Epoch 00078: val_out_loss improved from 0.30342 to 0.29979, saving model to trained_models/MultiResUNet_1024_64_5_6_1.h5\n",
            "Epoch 79/300\n",
            "12/12 [==============================] - 16s 1s/step - loss: 0.8924 - out_loss: 0.1684 - level1_loss: 0.1649 - level2_loss: 0.1675 - level3_loss: 0.1747 - level4_loss: 0.1930 - level5_loss: 0.2470 - out_mean_squared_error: 0.1321 - level1_mean_squared_error: 0.1306 - level2_mean_squared_error: 0.1302 - level3_mean_squared_error: 0.1446 - level4_mean_squared_error: 0.1913 - level5_mean_squared_error: 0.2446 - val_loss: 1.4936 - val_out_loss: 0.2885 - val_level1_loss: 0.2881 - val_level2_loss: 0.2956 - val_level3_loss: 0.3119 - val_level4_loss: 0.3072 - val_level5_loss: 0.3758 - val_out_mean_squared_error: 0.3257 - val_level1_mean_squared_error: 0.3257 - val_level2_mean_squared_error: 0.3243 - val_level3_mean_squared_error: 0.3314 - val_level4_mean_squared_error: 0.3336 - val_level5_mean_squared_error: 0.5463\n",
            "\n",
            "Epoch 00079: val_out_loss improved from 0.29979 to 0.28847, saving model to trained_models/MultiResUNet_1024_64_5_6_1.h5\n",
            "Epoch 80/300\n",
            "12/12 [==============================] - 16s 1s/step - loss: 0.9059 - out_loss: 0.1708 - level1_loss: 0.1668 - level2_loss: 0.1686 - level3_loss: 0.1731 - level4_loss: 0.1956 - level5_loss: 0.2576 - out_mean_squared_error: 0.1291 - level1_mean_squared_error: 0.1275 - level2_mean_squared_error: 0.1300 - level3_mean_squared_error: 0.1370 - level4_mean_squared_error: 0.1739 - level5_mean_squared_error: 0.3020 - val_loss: 1.6491 - val_out_loss: 0.3459 - val_level1_loss: 0.3473 - val_level2_loss: 0.3419 - val_level3_loss: 0.3462 - val_level4_loss: 0.3339 - val_level5_loss: 0.3461 - val_out_mean_squared_error: 0.4040 - val_level1_mean_squared_error: 0.4089 - val_level2_mean_squared_error: 0.3831 - val_level3_mean_squared_error: 0.3733 - val_level4_mean_squared_error: 0.3656 - val_level5_mean_squared_error: 0.3864\n",
            "\n",
            "Epoch 00080: val_out_loss did not improve from 0.28847\n",
            "Epoch 81/300\n",
            "12/12 [==============================] - 16s 1s/step - loss: 0.8301 - out_loss: 0.1558 - level1_loss: 0.1532 - level2_loss: 0.1540 - level3_loss: 0.1589 - level4_loss: 0.1777 - level5_loss: 0.2380 - out_mean_squared_error: 0.1148 - level1_mean_squared_error: 0.1154 - level2_mean_squared_error: 0.1142 - level3_mean_squared_error: 0.1261 - level4_mean_squared_error: 0.1485 - level5_mean_squared_error: 0.3255 - val_loss: 1.5662 - val_out_loss: 0.3411 - val_level1_loss: 0.3353 - val_level2_loss: 0.3104 - val_level3_loss: 0.2996 - val_level4_loss: 0.3193 - val_level5_loss: 0.3521 - val_out_mean_squared_error: 0.3843 - val_level1_mean_squared_error: 0.3822 - val_level2_mean_squared_error: 0.3439 - val_level3_mean_squared_error: 0.3354 - val_level4_mean_squared_error: 0.3661 - val_level5_mean_squared_error: 0.4871\n",
            "\n",
            "Epoch 00081: val_out_loss did not improve from 0.28847\n",
            "Epoch 82/300\n",
            "12/12 [==============================] - 16s 1s/step - loss: 0.8424 - out_loss: 0.1552 - level1_loss: 0.1534 - level2_loss: 0.1573 - level3_loss: 0.1586 - level4_loss: 0.1804 - level5_loss: 0.2480 - out_mean_squared_error: 0.1181 - level1_mean_squared_error: 0.1182 - level2_mean_squared_error: 0.1191 - level3_mean_squared_error: 0.1224 - level4_mean_squared_error: 0.1436 - level5_mean_squared_error: 0.3397 - val_loss: 1.6109 - val_out_loss: 0.3263 - val_level1_loss: 0.3268 - val_level2_loss: 0.3299 - val_level3_loss: 0.3250 - val_level4_loss: 0.3271 - val_level5_loss: 0.3785 - val_out_mean_squared_error: 0.3670 - val_level1_mean_squared_error: 0.3660 - val_level2_mean_squared_error: 0.3682 - val_level3_mean_squared_error: 0.3459 - val_level4_mean_squared_error: 0.3569 - val_level5_mean_squared_error: 0.5656\n",
            "\n",
            "Epoch 00082: val_out_loss did not improve from 0.28847\n",
            "Epoch 83/300\n",
            "12/12 [==============================] - 16s 1s/step - loss: 0.8532 - out_loss: 0.1603 - level1_loss: 0.1600 - level2_loss: 0.1616 - level3_loss: 0.1632 - level4_loss: 0.1822 - level5_loss: 0.2391 - out_mean_squared_error: 0.1219 - level1_mean_squared_error: 0.1214 - level2_mean_squared_error: 0.1249 - level3_mean_squared_error: 0.1255 - level4_mean_squared_error: 0.1473 - level5_mean_squared_error: 0.2297 - val_loss: 1.4719 - val_out_loss: 0.2925 - val_level1_loss: 0.2900 - val_level2_loss: 0.2960 - val_level3_loss: 0.2996 - val_level4_loss: 0.3167 - val_level5_loss: 0.3451 - val_out_mean_squared_error: 0.3207 - val_level1_mean_squared_error: 0.3240 - val_level2_mean_squared_error: 0.3158 - val_level3_mean_squared_error: 0.3155 - val_level4_mean_squared_error: 0.3235 - val_level5_mean_squared_error: 0.3847\n",
            "\n",
            "Epoch 00083: val_out_loss did not improve from 0.28847\n",
            "Epoch 84/300\n",
            "12/12 [==============================] - 16s 1s/step - loss: 0.8342 - out_loss: 0.1560 - level1_loss: 0.1514 - level2_loss: 0.1589 - level3_loss: 0.1631 - level4_loss: 0.1857 - level5_loss: 0.2277 - out_mean_squared_error: 0.1117 - level1_mean_squared_error: 0.1123 - level2_mean_squared_error: 0.1173 - level3_mean_squared_error: 0.1244 - level4_mean_squared_error: 0.1539 - level5_mean_squared_error: 0.2032 - val_loss: 1.4929 - val_out_loss: 0.2991 - val_level1_loss: 0.2956 - val_level2_loss: 0.2933 - val_level3_loss: 0.2993 - val_level4_loss: 0.3098 - val_level5_loss: 0.3689 - val_out_mean_squared_error: 0.3366 - val_level1_mean_squared_error: 0.3380 - val_level2_mean_squared_error: 0.3342 - val_level3_mean_squared_error: 0.3500 - val_level4_mean_squared_error: 0.3952 - val_level5_mean_squared_error: 0.5662\n",
            "\n",
            "Epoch 00084: val_out_loss did not improve from 0.28847\n",
            "Epoch 85/300\n",
            "12/12 [==============================] - 16s 1s/step - loss: 0.8769 - out_loss: 0.1622 - level1_loss: 0.1628 - level2_loss: 0.1669 - level3_loss: 0.1705 - level4_loss: 0.1899 - level5_loss: 0.2439 - out_mean_squared_error: 0.1186 - level1_mean_squared_error: 0.1200 - level2_mean_squared_error: 0.1221 - level3_mean_squared_error: 0.1326 - level4_mean_squared_error: 0.1790 - level5_mean_squared_error: 0.2486 - val_loss: 1.4275 - val_out_loss: 0.2835 - val_level1_loss: 0.2826 - val_level2_loss: 0.2765 - val_level3_loss: 0.2833 - val_level4_loss: 0.3058 - val_level5_loss: 0.3528 - val_out_mean_squared_error: 0.3163 - val_level1_mean_squared_error: 0.3101 - val_level2_mean_squared_error: 0.3076 - val_level3_mean_squared_error: 0.3144 - val_level4_mean_squared_error: 0.4821 - val_level5_mean_squared_error: 0.4647\n",
            "\n",
            "Epoch 00085: val_out_loss improved from 0.28847 to 0.28350, saving model to trained_models/MultiResUNet_1024_64_5_6_1.h5\n",
            "Epoch 86/300\n",
            "12/12 [==============================] - 16s 1s/step - loss: 0.9417 - out_loss: 0.1811 - level1_loss: 0.1805 - level2_loss: 0.1810 - level3_loss: 0.1862 - level4_loss: 0.2060 - level5_loss: 0.2425 - out_mean_squared_error: 0.1508 - level1_mean_squared_error: 0.1514 - level2_mean_squared_error: 0.1510 - level3_mean_squared_error: 0.1586 - level4_mean_squared_error: 0.2068 - level5_mean_squared_error: 0.2414 - val_loss: 1.5487 - val_out_loss: 0.3029 - val_level1_loss: 0.3013 - val_level2_loss: 0.3079 - val_level3_loss: 0.3235 - val_level4_loss: 0.3281 - val_level5_loss: 0.3721 - val_out_mean_squared_error: 0.3489 - val_level1_mean_squared_error: 0.3467 - val_level2_mean_squared_error: 0.3637 - val_level3_mean_squared_error: 0.3631 - val_level4_mean_squared_error: 0.3804 - val_level5_mean_squared_error: 0.6445\n",
            "\n",
            "Epoch 00086: val_out_loss did not improve from 0.28350\n",
            "Epoch 87/300\n",
            "12/12 [==============================] - 16s 1s/step - loss: 0.8991 - out_loss: 0.1684 - level1_loss: 0.1671 - level2_loss: 0.1669 - level3_loss: 0.1719 - level4_loss: 0.1992 - level5_loss: 0.2503 - out_mean_squared_error: 0.1253 - level1_mean_squared_error: 0.1258 - level2_mean_squared_error: 0.1253 - level3_mean_squared_error: 0.1351 - level4_mean_squared_error: 0.1803 - level5_mean_squared_error: 0.2684 - val_loss: 1.6911 - val_out_loss: 0.3296 - val_level1_loss: 0.3369 - val_level2_loss: 0.3310 - val_level3_loss: 0.3454 - val_level4_loss: 0.3780 - val_level5_loss: 0.3930 - val_out_mean_squared_error: 0.3767 - val_level1_mean_squared_error: 0.4095 - val_level2_mean_squared_error: 0.3518 - val_level3_mean_squared_error: 0.4512 - val_level4_mean_squared_error: 0.9747 - val_level5_mean_squared_error: 0.7743\n",
            "\n",
            "Epoch 00087: val_out_loss did not improve from 0.28350\n",
            "Epoch 88/300\n",
            "12/12 [==============================] - 16s 1s/step - loss: 0.8577 - out_loss: 0.1568 - level1_loss: 0.1591 - level2_loss: 0.1620 - level3_loss: 0.1637 - level4_loss: 0.1907 - level5_loss: 0.2398 - out_mean_squared_error: 0.1146 - level1_mean_squared_error: 0.1161 - level2_mean_squared_error: 0.1173 - level3_mean_squared_error: 0.1248 - level4_mean_squared_error: 0.2298 - level5_mean_squared_error: 0.2304 - val_loss: 1.6432 - val_out_loss: 0.3372 - val_level1_loss: 0.3439 - val_level2_loss: 0.3281 - val_level3_loss: 0.3351 - val_level4_loss: 0.3371 - val_level5_loss: 0.3727 - val_out_mean_squared_error: 0.3953 - val_level1_mean_squared_error: 0.4171 - val_level2_mean_squared_error: 0.4003 - val_level3_mean_squared_error: 0.4073 - val_level4_mean_squared_error: 0.3679 - val_level5_mean_squared_error: 0.6454\n",
            "\n",
            "Epoch 00088: val_out_loss did not improve from 0.28350\n",
            "Epoch 89/300\n",
            "12/12 [==============================] - 16s 1s/step - loss: 0.9181 - out_loss: 0.1711 - level1_loss: 0.1691 - level2_loss: 0.1692 - level3_loss: 0.1803 - level4_loss: 0.2043 - level5_loss: 0.2537 - out_mean_squared_error: 0.1318 - level1_mean_squared_error: 0.1333 - level2_mean_squared_error: 0.1363 - level3_mean_squared_error: 0.1529 - level4_mean_squared_error: 0.2279 - level5_mean_squared_error: 0.2635 - val_loss: 1.5523 - val_out_loss: 0.3110 - val_level1_loss: 0.3031 - val_level2_loss: 0.3082 - val_level3_loss: 0.3098 - val_level4_loss: 0.3357 - val_level5_loss: 0.3725 - val_out_mean_squared_error: 0.3500 - val_level1_mean_squared_error: 0.3542 - val_level2_mean_squared_error: 0.4152 - val_level3_mean_squared_error: 0.3646 - val_level4_mean_squared_error: 0.4963 - val_level5_mean_squared_error: 0.4581\n",
            "\n",
            "Epoch 00089: val_out_loss did not improve from 0.28350\n",
            "Epoch 90/300\n",
            "12/12 [==============================] - 16s 1s/step - loss: 0.8891 - out_loss: 0.1617 - level1_loss: 0.1640 - level2_loss: 0.1682 - level3_loss: 0.1696 - level4_loss: 0.1911 - level5_loss: 0.2568 - out_mean_squared_error: 0.1243 - level1_mean_squared_error: 0.1246 - level2_mean_squared_error: 0.1262 - level3_mean_squared_error: 0.1368 - level4_mean_squared_error: 0.1742 - level5_mean_squared_error: 0.3422 - val_loss: 1.6056 - val_out_loss: 0.3222 - val_level1_loss: 0.3183 - val_level2_loss: 0.3270 - val_level3_loss: 0.3228 - val_level4_loss: 0.3302 - val_level5_loss: 0.3864 - val_out_mean_squared_error: 0.3669 - val_level1_mean_squared_error: 0.3658 - val_level2_mean_squared_error: 0.3469 - val_level3_mean_squared_error: 0.3735 - val_level4_mean_squared_error: 0.3990 - val_level5_mean_squared_error: 0.5034\n",
            "\n",
            "Epoch 00090: val_out_loss did not improve from 0.28350\n",
            "Epoch 91/300\n",
            "12/12 [==============================] - 16s 1s/step - loss: 0.8966 - out_loss: 0.1651 - level1_loss: 0.1665 - level2_loss: 0.1723 - level3_loss: 0.1745 - level4_loss: 0.1946 - level5_loss: 0.2477 - out_mean_squared_error: 0.1233 - level1_mean_squared_error: 0.1246 - level2_mean_squared_error: 0.1247 - level3_mean_squared_error: 0.1320 - level4_mean_squared_error: 0.1537 - level5_mean_squared_error: 0.2525 - val_loss: 1.6846 - val_out_loss: 0.3403 - val_level1_loss: 0.3374 - val_level2_loss: 0.3343 - val_level3_loss: 0.3577 - val_level4_loss: 0.3441 - val_level5_loss: 0.3920 - val_out_mean_squared_error: 0.3848 - val_level1_mean_squared_error: 0.3731 - val_level2_mean_squared_error: 0.3864 - val_level3_mean_squared_error: 0.4052 - val_level4_mean_squared_error: 0.3693 - val_level5_mean_squared_error: 0.4806\n",
            "\n",
            "Epoch 00091: val_out_loss did not improve from 0.28350\n",
            "Epoch 92/300\n",
            "12/12 [==============================] - 16s 1s/step - loss: 0.8376 - out_loss: 0.1591 - level1_loss: 0.1558 - level2_loss: 0.1572 - level3_loss: 0.1642 - level4_loss: 0.1839 - level5_loss: 0.2268 - out_mean_squared_error: 0.1178 - level1_mean_squared_error: 0.1177 - level2_mean_squared_error: 0.1178 - level3_mean_squared_error: 0.1262 - level4_mean_squared_error: 0.1521 - level5_mean_squared_error: 0.2141 - val_loss: 1.6479 - val_out_loss: 0.3407 - val_level1_loss: 0.3372 - val_level2_loss: 0.3399 - val_level3_loss: 0.3359 - val_level4_loss: 0.3378 - val_level5_loss: 0.3684 - val_out_mean_squared_error: 0.3927 - val_level1_mean_squared_error: 0.3866 - val_level2_mean_squared_error: 0.4093 - val_level3_mean_squared_error: 0.4136 - val_level4_mean_squared_error: 0.3725 - val_level5_mean_squared_error: 0.4205\n",
            "\n",
            "Epoch 00092: val_out_loss did not improve from 0.28350\n",
            "Epoch 93/300\n",
            "12/12 [==============================] - 16s 1s/step - loss: 0.8401 - out_loss: 0.1624 - level1_loss: 0.1560 - level2_loss: 0.1580 - level3_loss: 0.1644 - level4_loss: 0.1797 - level5_loss: 0.2295 - out_mean_squared_error: 0.1112 - level1_mean_squared_error: 0.1100 - level2_mean_squared_error: 0.1121 - level3_mean_squared_error: 0.1223 - level4_mean_squared_error: 0.1431 - level5_mean_squared_error: 0.2119 - val_loss: 1.5364 - val_out_loss: 0.3093 - val_level1_loss: 0.3101 - val_level2_loss: 0.2977 - val_level3_loss: 0.3020 - val_level4_loss: 0.3353 - val_level5_loss: 0.3661 - val_out_mean_squared_error: 0.3553 - val_level1_mean_squared_error: 0.3474 - val_level2_mean_squared_error: 0.3437 - val_level3_mean_squared_error: 0.3760 - val_level4_mean_squared_error: 0.5135 - val_level5_mean_squared_error: 0.4632\n",
            "\n",
            "Epoch 00093: val_out_loss did not improve from 0.28350\n",
            "Epoch 94/300\n",
            "12/12 [==============================] - 16s 1s/step - loss: 0.8168 - out_loss: 0.1498 - level1_loss: 0.1523 - level2_loss: 0.1498 - level3_loss: 0.1519 - level4_loss: 0.1855 - level5_loss: 0.2315 - out_mean_squared_error: 0.1063 - level1_mean_squared_error: 0.1082 - level2_mean_squared_error: 0.1082 - level3_mean_squared_error: 0.1130 - level4_mean_squared_error: 0.2183 - level5_mean_squared_error: 0.2382 - val_loss: 1.4799 - val_out_loss: 0.2897 - val_level1_loss: 0.2864 - val_level2_loss: 0.2911 - val_level3_loss: 0.3098 - val_level4_loss: 0.3274 - val_level5_loss: 0.3454 - val_out_mean_squared_error: 0.3267 - val_level1_mean_squared_error: 0.3261 - val_level2_mean_squared_error: 0.3453 - val_level3_mean_squared_error: 0.3899 - val_level4_mean_squared_error: 0.3479 - val_level5_mean_squared_error: 0.4303\n",
            "\n",
            "Epoch 00094: val_out_loss did not improve from 0.28350\n",
            "Epoch 95/300\n",
            "12/12 [==============================] - 16s 1s/step - loss: 0.8097 - out_loss: 0.1515 - level1_loss: 0.1497 - level2_loss: 0.1514 - level3_loss: 0.1523 - level4_loss: 0.1805 - level5_loss: 0.2268 - out_mean_squared_error: 0.1133 - level1_mean_squared_error: 0.1119 - level2_mean_squared_error: 0.1122 - level3_mean_squared_error: 0.1166 - level4_mean_squared_error: 0.1497 - level5_mean_squared_error: 0.2108 - val_loss: 1.4956 - val_out_loss: 0.3030 - val_level1_loss: 0.3051 - val_level2_loss: 0.2922 - val_level3_loss: 0.2998 - val_level4_loss: 0.3200 - val_level5_loss: 0.3493 - val_out_mean_squared_error: 0.3351 - val_level1_mean_squared_error: 0.3397 - val_level2_mean_squared_error: 0.3350 - val_level3_mean_squared_error: 0.3786 - val_level4_mean_squared_error: 0.5044 - val_level5_mean_squared_error: 0.4531\n",
            "\n",
            "Epoch 00095: val_out_loss did not improve from 0.28350\n",
            "Epoch 96/300\n",
            "12/12 [==============================] - 16s 1s/step - loss: 0.8572 - out_loss: 0.1577 - level1_loss: 0.1560 - level2_loss: 0.1614 - level3_loss: 0.1650 - level4_loss: 0.1919 - level5_loss: 0.2395 - out_mean_squared_error: 0.1151 - level1_mean_squared_error: 0.1148 - level2_mean_squared_error: 0.1161 - level3_mean_squared_error: 0.1253 - level4_mean_squared_error: 0.2130 - level5_mean_squared_error: 0.2662 - val_loss: 1.4617 - val_out_loss: 0.2921 - val_level1_loss: 0.2912 - val_level2_loss: 0.2942 - val_level3_loss: 0.3036 - val_level4_loss: 0.3093 - val_level5_loss: 0.3366 - val_out_mean_squared_error: 0.3168 - val_level1_mean_squared_error: 0.3115 - val_level2_mean_squared_error: 0.3098 - val_level3_mean_squared_error: 0.3185 - val_level4_mean_squared_error: 0.3270 - val_level5_mean_squared_error: 0.4084\n",
            "\n",
            "Epoch 00096: val_out_loss did not improve from 0.28350\n",
            "Epoch 97/300\n",
            "12/12 [==============================] - 16s 1s/step - loss: 0.8419 - out_loss: 0.1528 - level1_loss: 0.1540 - level2_loss: 0.1581 - level3_loss: 0.1628 - level4_loss: 0.1856 - level5_loss: 0.2391 - out_mean_squared_error: 0.1100 - level1_mean_squared_error: 0.1100 - level2_mean_squared_error: 0.1232 - level3_mean_squared_error: 0.1403 - level4_mean_squared_error: 0.1728 - level5_mean_squared_error: 0.3271 - val_loss: 1.4853 - val_out_loss: 0.2965 - val_level1_loss: 0.2951 - val_level2_loss: 0.2943 - val_level3_loss: 0.3022 - val_level4_loss: 0.3212 - val_level5_loss: 0.3471 - val_out_mean_squared_error: 0.3395 - val_level1_mean_squared_error: 0.3322 - val_level2_mean_squared_error: 0.3450 - val_level3_mean_squared_error: 0.3958 - val_level4_mean_squared_error: 0.3958 - val_level5_mean_squared_error: 0.4289\n",
            "\n",
            "Epoch 00097: val_out_loss did not improve from 0.28350\n",
            "Epoch 98/300\n",
            "12/12 [==============================] - 16s 1s/step - loss: 0.8212 - out_loss: 0.1536 - level1_loss: 0.1509 - level2_loss: 0.1534 - level3_loss: 0.1566 - level4_loss: 0.1787 - level5_loss: 0.2334 - out_mean_squared_error: 0.1087 - level1_mean_squared_error: 0.1079 - level2_mean_squared_error: 0.1092 - level3_mean_squared_error: 0.1175 - level4_mean_squared_error: 0.1921 - level5_mean_squared_error: 0.2230 - val_loss: 1.6276 - val_out_loss: 0.3311 - val_level1_loss: 0.3254 - val_level2_loss: 0.3230 - val_level3_loss: 0.3206 - val_level4_loss: 0.3544 - val_level5_loss: 0.3800 - val_out_mean_squared_error: 0.3820 - val_level1_mean_squared_error: 0.3794 - val_level2_mean_squared_error: 0.3853 - val_level3_mean_squared_error: 0.3686 - val_level4_mean_squared_error: 0.4292 - val_level5_mean_squared_error: 0.4622\n",
            "\n",
            "Epoch 00098: val_out_loss did not improve from 0.28350\n",
            "Epoch 99/300\n",
            "12/12 [==============================] - 16s 1s/step - loss: 0.8207 - out_loss: 0.1529 - level1_loss: 0.1499 - level2_loss: 0.1527 - level3_loss: 0.1598 - level4_loss: 0.1787 - level5_loss: 0.2320 - out_mean_squared_error: 0.1080 - level1_mean_squared_error: 0.1071 - level2_mean_squared_error: 0.1083 - level3_mean_squared_error: 0.1170 - level4_mean_squared_error: 0.1640 - level5_mean_squared_error: 0.2526 - val_loss: 1.5036 - val_out_loss: 0.3061 - val_level1_loss: 0.2985 - val_level2_loss: 0.2920 - val_level3_loss: 0.3043 - val_level4_loss: 0.3113 - val_level5_loss: 0.3673 - val_out_mean_squared_error: 0.3554 - val_level1_mean_squared_error: 0.3479 - val_level2_mean_squared_error: 0.3383 - val_level3_mean_squared_error: 0.3532 - val_level4_mean_squared_error: 0.3756 - val_level5_mean_squared_error: 0.5120\n",
            "\n",
            "Epoch 00099: val_out_loss did not improve from 0.28350\n",
            "Epoch 100/300\n",
            "12/12 [==============================] - 16s 1s/step - loss: 0.7766 - out_loss: 0.1419 - level1_loss: 0.1420 - level2_loss: 0.1475 - level3_loss: 0.1516 - level4_loss: 0.1700 - level5_loss: 0.2178 - out_mean_squared_error: 0.0991 - level1_mean_squared_error: 0.0994 - level2_mean_squared_error: 0.1038 - level3_mean_squared_error: 0.1252 - level4_mean_squared_error: 0.1411 - level5_mean_squared_error: 0.2208 - val_loss: 1.4121 - val_out_loss: 0.2776 - val_level1_loss: 0.2766 - val_level2_loss: 0.2769 - val_level3_loss: 0.2807 - val_level4_loss: 0.3093 - val_level5_loss: 0.3440 - val_out_mean_squared_error: 0.3148 - val_level1_mean_squared_error: 0.3149 - val_level2_mean_squared_error: 0.3257 - val_level3_mean_squared_error: 0.3390 - val_level4_mean_squared_error: 0.3608 - val_level5_mean_squared_error: 0.5140\n",
            "\n",
            "Epoch 00100: val_out_loss improved from 0.28350 to 0.27762, saving model to trained_models/MultiResUNet_1024_64_5_6_1.h5\n",
            "Epoch 101/300\n",
            "12/12 [==============================] - 16s 1s/step - loss: 0.7603 - out_loss: 0.1389 - level1_loss: 0.1388 - level2_loss: 0.1401 - level3_loss: 0.1468 - level4_loss: 0.1665 - level5_loss: 0.2193 - out_mean_squared_error: 0.0920 - level1_mean_squared_error: 0.0925 - level2_mean_squared_error: 0.0943 - level3_mean_squared_error: 0.1065 - level4_mean_squared_error: 0.1228 - level5_mean_squared_error: 0.2261 - val_loss: 1.5053 - val_out_loss: 0.2905 - val_level1_loss: 0.2912 - val_level2_loss: 0.3081 - val_level3_loss: 0.3161 - val_level4_loss: 0.3143 - val_level5_loss: 0.3614 - val_out_mean_squared_error: 0.3198 - val_level1_mean_squared_error: 0.3234 - val_level2_mean_squared_error: 0.3371 - val_level3_mean_squared_error: 0.3377 - val_level4_mean_squared_error: 0.3387 - val_level5_mean_squared_error: 0.4206\n",
            "\n",
            "Epoch 00101: val_out_loss did not improve from 0.27762\n",
            "Epoch 102/300\n",
            "12/12 [==============================] - 16s 1s/step - loss: 0.7468 - out_loss: 0.1412 - level1_loss: 0.1376 - level2_loss: 0.1387 - level3_loss: 0.1432 - level4_loss: 0.1598 - level5_loss: 0.2131 - out_mean_squared_error: 0.0944 - level1_mean_squared_error: 0.0941 - level2_mean_squared_error: 0.0953 - level3_mean_squared_error: 0.1017 - level4_mean_squared_error: 0.1155 - level5_mean_squared_error: 0.1930 - val_loss: 1.6132 - val_out_loss: 0.3304 - val_level1_loss: 0.3296 - val_level2_loss: 0.3225 - val_level3_loss: 0.3225 - val_level4_loss: 0.3369 - val_level5_loss: 0.3746 - val_out_mean_squared_error: 0.3903 - val_level1_mean_squared_error: 0.3967 - val_level2_mean_squared_error: 0.3966 - val_level3_mean_squared_error: 0.4275 - val_level4_mean_squared_error: 0.3892 - val_level5_mean_squared_error: 0.5202\n",
            "\n",
            "Epoch 00102: val_out_loss did not improve from 0.27762\n",
            "Epoch 103/300\n",
            "12/12 [==============================] - 16s 1s/step - loss: 0.7721 - out_loss: 0.1449 - level1_loss: 0.1430 - level2_loss: 0.1453 - level3_loss: 0.1495 - level4_loss: 0.1641 - level5_loss: 0.2183 - out_mean_squared_error: 0.1083 - level1_mean_squared_error: 0.1084 - level2_mean_squared_error: 0.1083 - level3_mean_squared_error: 0.1175 - level4_mean_squared_error: 0.1298 - level5_mean_squared_error: 0.2247 - val_loss: 1.5159 - val_out_loss: 0.2939 - val_level1_loss: 0.2928 - val_level2_loss: 0.3002 - val_level3_loss: 0.3102 - val_level4_loss: 0.3256 - val_level5_loss: 0.3721 - val_out_mean_squared_error: 0.3510 - val_level1_mean_squared_error: 0.3496 - val_level2_mean_squared_error: 0.3485 - val_level3_mean_squared_error: 0.3624 - val_level4_mean_squared_error: 0.3671 - val_level5_mean_squared_error: 0.5009\n",
            "\n",
            "Epoch 00103: val_out_loss did not improve from 0.27762\n",
            "Epoch 104/300\n",
            "12/12 [==============================] - 16s 1s/step - loss: 0.7477 - out_loss: 0.1385 - level1_loss: 0.1394 - level2_loss: 0.1383 - level3_loss: 0.1427 - level4_loss: 0.1601 - level5_loss: 0.2155 - out_mean_squared_error: 0.0927 - level1_mean_squared_error: 0.0932 - level2_mean_squared_error: 0.0945 - level3_mean_squared_error: 0.1123 - level4_mean_squared_error: 0.1384 - level5_mean_squared_error: 0.2594 - val_loss: 1.4143 - val_out_loss: 0.2765 - val_level1_loss: 0.2767 - val_level2_loss: 0.2798 - val_level3_loss: 0.2874 - val_level4_loss: 0.2967 - val_level5_loss: 0.3507 - val_out_mean_squared_error: 0.3092 - val_level1_mean_squared_error: 0.3079 - val_level2_mean_squared_error: 0.3013 - val_level3_mean_squared_error: 0.3065 - val_level4_mean_squared_error: 0.3402 - val_level5_mean_squared_error: 0.5149\n",
            "\n",
            "Epoch 00104: val_out_loss improved from 0.27762 to 0.27653, saving model to trained_models/MultiResUNet_1024_64_5_6_1.h5\n",
            "Epoch 105/300\n",
            "12/12 [==============================] - 16s 1s/step - loss: 0.7255 - out_loss: 0.1335 - level1_loss: 0.1322 - level2_loss: 0.1349 - level3_loss: 0.1405 - level4_loss: 0.1577 - level5_loss: 0.2081 - out_mean_squared_error: 0.0880 - level1_mean_squared_error: 0.0880 - level2_mean_squared_error: 0.0880 - level3_mean_squared_error: 0.1016 - level4_mean_squared_error: 0.1250 - level5_mean_squared_error: 0.2104 - val_loss: 1.4574 - val_out_loss: 0.2939 - val_level1_loss: 0.2955 - val_level2_loss: 0.2874 - val_level3_loss: 0.2912 - val_level4_loss: 0.3085 - val_level5_loss: 0.3453 - val_out_mean_squared_error: 0.3476 - val_level1_mean_squared_error: 0.3473 - val_level2_mean_squared_error: 0.3437 - val_level3_mean_squared_error: 0.3526 - val_level4_mean_squared_error: 0.4061 - val_level5_mean_squared_error: 0.5121\n",
            "\n",
            "Epoch 00105: val_out_loss did not improve from 0.27653\n",
            "Epoch 106/300\n",
            "12/12 [==============================] - 16s 1s/step - loss: 0.7558 - out_loss: 0.1429 - level1_loss: 0.1397 - level2_loss: 0.1410 - level3_loss: 0.1412 - level4_loss: 0.1657 - level5_loss: 0.2142 - out_mean_squared_error: 0.0968 - level1_mean_squared_error: 0.0967 - level2_mean_squared_error: 0.0966 - level3_mean_squared_error: 0.1001 - level4_mean_squared_error: 0.1252 - level5_mean_squared_error: 0.2165 - val_loss: 1.4165 - val_out_loss: 0.2856 - val_level1_loss: 0.2809 - val_level2_loss: 0.2779 - val_level3_loss: 0.2832 - val_level4_loss: 0.2968 - val_level5_loss: 0.3461 - val_out_mean_squared_error: 0.2995 - val_level1_mean_squared_error: 0.3039 - val_level2_mean_squared_error: 0.3077 - val_level3_mean_squared_error: 0.3117 - val_level4_mean_squared_error: 0.3482 - val_level5_mean_squared_error: 0.4179\n",
            "\n",
            "Epoch 00106: val_out_loss did not improve from 0.27653\n",
            "Epoch 107/300\n",
            "12/12 [==============================] - 16s 1s/step - loss: 0.7429 - out_loss: 0.1347 - level1_loss: 0.1379 - level2_loss: 0.1369 - level3_loss: 0.1383 - level4_loss: 0.1612 - level5_loss: 0.2197 - out_mean_squared_error: 0.0921 - level1_mean_squared_error: 0.0930 - level2_mean_squared_error: 0.0927 - level3_mean_squared_error: 0.0999 - level4_mean_squared_error: 0.1376 - level5_mean_squared_error: 0.2212 - val_loss: 1.4817 - val_out_loss: 0.2999 - val_level1_loss: 0.3003 - val_level2_loss: 0.2973 - val_level3_loss: 0.2949 - val_level4_loss: 0.3125 - val_level5_loss: 0.3471 - val_out_mean_squared_error: 0.3763 - val_level1_mean_squared_error: 0.3745 - val_level2_mean_squared_error: 0.3658 - val_level3_mean_squared_error: 0.3614 - val_level4_mean_squared_error: 0.3849 - val_level5_mean_squared_error: 0.4468\n",
            "\n",
            "Epoch 00107: val_out_loss did not improve from 0.27653\n",
            "Epoch 108/300\n",
            "12/12 [==============================] - 16s 1s/step - loss: 0.7935 - out_loss: 0.1485 - level1_loss: 0.1490 - level2_loss: 0.1475 - level3_loss: 0.1534 - level4_loss: 0.1670 - level5_loss: 0.2264 - out_mean_squared_error: 0.0982 - level1_mean_squared_error: 0.0993 - level2_mean_squared_error: 0.1043 - level3_mean_squared_error: 0.1087 - level4_mean_squared_error: 0.1278 - level5_mean_squared_error: 0.2132 - val_loss: 1.5345 - val_out_loss: 0.3203 - val_level1_loss: 0.3225 - val_level2_loss: 0.3114 - val_level3_loss: 0.3115 - val_level4_loss: 0.3142 - val_level5_loss: 0.3382 - val_out_mean_squared_error: 0.3720 - val_level1_mean_squared_error: 0.3779 - val_level2_mean_squared_error: 0.3689 - val_level3_mean_squared_error: 0.3570 - val_level4_mean_squared_error: 0.3400 - val_level5_mean_squared_error: 0.3960\n",
            "\n",
            "Epoch 00108: val_out_loss did not improve from 0.27653\n",
            "Epoch 109/300\n",
            "12/12 [==============================] - 16s 1s/step - loss: 0.7145 - out_loss: 0.1335 - level1_loss: 0.1319 - level2_loss: 0.1354 - level3_loss: 0.1370 - level4_loss: 0.1555 - level5_loss: 0.1998 - out_mean_squared_error: 0.0820 - level1_mean_squared_error: 0.0824 - level2_mean_squared_error: 0.0862 - level3_mean_squared_error: 0.0899 - level4_mean_squared_error: 0.1133 - level5_mean_squared_error: 0.1754 - val_loss: 1.4861 - val_out_loss: 0.3027 - val_level1_loss: 0.3004 - val_level2_loss: 0.3009 - val_level3_loss: 0.2960 - val_level4_loss: 0.3200 - val_level5_loss: 0.3377 - val_out_mean_squared_error: 0.3466 - val_level1_mean_squared_error: 0.3442 - val_level2_mean_squared_error: 0.3774 - val_level3_mean_squared_error: 0.3358 - val_level4_mean_squared_error: 0.3615 - val_level5_mean_squared_error: 0.3894\n",
            "\n",
            "Epoch 00109: val_out_loss did not improve from 0.27653\n",
            "Epoch 110/300\n",
            "12/12 [==============================] - 16s 1s/step - loss: 0.7325 - out_loss: 0.1355 - level1_loss: 0.1335 - level2_loss: 0.1354 - level3_loss: 0.1373 - level4_loss: 0.1663 - level5_loss: 0.2077 - out_mean_squared_error: 0.0890 - level1_mean_squared_error: 0.0887 - level2_mean_squared_error: 0.0913 - level3_mean_squared_error: 0.0928 - level4_mean_squared_error: 0.1810 - level5_mean_squared_error: 0.2000 - val_loss: 1.4406 - val_out_loss: 0.2905 - val_level1_loss: 0.2888 - val_level2_loss: 0.2855 - val_level3_loss: 0.2880 - val_level4_loss: 0.3033 - val_level5_loss: 0.3447 - val_out_mean_squared_error: 0.3374 - val_level1_mean_squared_error: 0.3391 - val_level2_mean_squared_error: 0.3367 - val_level3_mean_squared_error: 0.3189 - val_level4_mean_squared_error: 0.3717 - val_level5_mean_squared_error: 0.4825\n",
            "\n",
            "Epoch 00110: val_out_loss did not improve from 0.27653\n",
            "Epoch 111/300\n",
            "12/12 [==============================] - 16s 1s/step - loss: 0.7432 - out_loss: 0.1377 - level1_loss: 0.1362 - level2_loss: 0.1376 - level3_loss: 0.1408 - level4_loss: 0.1710 - level5_loss: 0.2056 - out_mean_squared_error: 0.0908 - level1_mean_squared_error: 0.0908 - level2_mean_squared_error: 0.0936 - level3_mean_squared_error: 0.0943 - level4_mean_squared_error: 0.2675 - level5_mean_squared_error: 0.1919 - val_loss: 1.5818 - val_out_loss: 0.3282 - val_level1_loss: 0.3247 - val_level2_loss: 0.3160 - val_level3_loss: 0.3140 - val_level4_loss: 0.3326 - val_level5_loss: 0.3618 - val_out_mean_squared_error: 0.3917 - val_level1_mean_squared_error: 0.3885 - val_level2_mean_squared_error: 0.3808 - val_level3_mean_squared_error: 0.3582 - val_level4_mean_squared_error: 0.4023 - val_level5_mean_squared_error: 0.4038\n",
            "\n",
            "Epoch 00111: val_out_loss did not improve from 0.27653\n",
            "Epoch 112/300\n",
            "12/12 [==============================] - 16s 1s/step - loss: 0.7144 - out_loss: 0.1321 - level1_loss: 0.1324 - level2_loss: 0.1338 - level3_loss: 0.1354 - level4_loss: 0.1558 - level5_loss: 0.2034 - out_mean_squared_error: 0.0919 - level1_mean_squared_error: 0.0922 - level2_mean_squared_error: 0.0973 - level3_mean_squared_error: 0.1000 - level4_mean_squared_error: 0.1349 - level5_mean_squared_error: 0.1907 - val_loss: 1.5494 - val_out_loss: 0.3124 - val_level1_loss: 0.3122 - val_level2_loss: 0.3089 - val_level3_loss: 0.3146 - val_level4_loss: 0.3288 - val_level5_loss: 0.3600 - val_out_mean_squared_error: 0.3717 - val_level1_mean_squared_error: 0.3719 - val_level2_mean_squared_error: 0.3570 - val_level3_mean_squared_error: 0.3439 - val_level4_mean_squared_error: 0.3790 - val_level5_mean_squared_error: 0.4163\n",
            "\n",
            "Epoch 00112: val_out_loss did not improve from 0.27653\n",
            "Epoch 113/300\n",
            "12/12 [==============================] - 16s 1s/step - loss: 0.7456 - out_loss: 0.1409 - level1_loss: 0.1402 - level2_loss: 0.1424 - level3_loss: 0.1459 - level4_loss: 0.1590 - level5_loss: 0.2035 - out_mean_squared_error: 0.0941 - level1_mean_squared_error: 0.0946 - level2_mean_squared_error: 0.0946 - level3_mean_squared_error: 0.1012 - level4_mean_squared_error: 0.1283 - level5_mean_squared_error: 0.1756 - val_loss: 1.4450 - val_out_loss: 0.2910 - val_level1_loss: 0.2859 - val_level2_loss: 0.2892 - val_level3_loss: 0.3012 - val_level4_loss: 0.2959 - val_level5_loss: 0.3430 - val_out_mean_squared_error: 0.3266 - val_level1_mean_squared_error: 0.3225 - val_level2_mean_squared_error: 0.3118 - val_level3_mean_squared_error: 0.3230 - val_level4_mean_squared_error: 0.3362 - val_level5_mean_squared_error: 0.4398\n",
            "\n",
            "Epoch 00113: val_out_loss did not improve from 0.27653\n",
            "Epoch 114/300\n",
            "12/12 [==============================] - 16s 1s/step - loss: 0.7040 - out_loss: 0.1306 - level1_loss: 0.1267 - level2_loss: 0.1312 - level3_loss: 0.1381 - level4_loss: 0.1523 - level5_loss: 0.2012 - out_mean_squared_error: 0.0807 - level1_mean_squared_error: 0.0804 - level2_mean_squared_error: 0.0864 - level3_mean_squared_error: 0.1140 - level4_mean_squared_error: 0.1155 - level5_mean_squared_error: 0.1985 - val_loss: 1.4463 - val_out_loss: 0.3054 - val_level1_loss: 0.3018 - val_level2_loss: 0.2885 - val_level3_loss: 0.2886 - val_level4_loss: 0.3099 - val_level5_loss: 0.3136 - val_out_mean_squared_error: 0.3591 - val_level1_mean_squared_error: 0.3532 - val_level2_mean_squared_error: 0.3354 - val_level3_mean_squared_error: 0.3422 - val_level4_mean_squared_error: 0.3929 - val_level5_mean_squared_error: 0.3526\n",
            "\n",
            "Epoch 00114: val_out_loss did not improve from 0.27653\n",
            "Epoch 115/300\n",
            "12/12 [==============================] - 16s 1s/step - loss: 0.6821 - out_loss: 0.1239 - level1_loss: 0.1243 - level2_loss: 0.1250 - level3_loss: 0.1294 - level4_loss: 0.1504 - level5_loss: 0.1997 - out_mean_squared_error: 0.0812 - level1_mean_squared_error: 0.0813 - level2_mean_squared_error: 0.0827 - level3_mean_squared_error: 0.0932 - level4_mean_squared_error: 0.1180 - level5_mean_squared_error: 0.1836 - val_loss: 1.4054 - val_out_loss: 0.2787 - val_level1_loss: 0.2777 - val_level2_loss: 0.2802 - val_level3_loss: 0.2829 - val_level4_loss: 0.3034 - val_level5_loss: 0.3338 - val_out_mean_squared_error: 0.3231 - val_level1_mean_squared_error: 0.3201 - val_level2_mean_squared_error: 0.3202 - val_level3_mean_squared_error: 0.3227 - val_level4_mean_squared_error: 0.3708 - val_level5_mean_squared_error: 0.4178\n",
            "\n",
            "Epoch 00115: val_out_loss did not improve from 0.27653\n",
            "Epoch 116/300\n",
            "12/12 [==============================] - 16s 1s/step - loss: 0.7584 - out_loss: 0.1399 - level1_loss: 0.1390 - level2_loss: 0.1438 - level3_loss: 0.1470 - level4_loss: 0.1625 - level5_loss: 0.2159 - out_mean_squared_error: 0.0938 - level1_mean_squared_error: 0.0939 - level2_mean_squared_error: 0.1001 - level3_mean_squared_error: 0.1009 - level4_mean_squared_error: 0.1210 - level5_mean_squared_error: 0.2188 - val_loss: 1.4315 - val_out_loss: 0.2877 - val_level1_loss: 0.2855 - val_level2_loss: 0.2877 - val_level3_loss: 0.2905 - val_level4_loss: 0.3030 - val_level5_loss: 0.3349 - val_out_mean_squared_error: 0.3365 - val_level1_mean_squared_error: 0.3425 - val_level2_mean_squared_error: 0.3315 - val_level3_mean_squared_error: 0.3463 - val_level4_mean_squared_error: 0.3676 - val_level5_mean_squared_error: 0.4028\n",
            "\n",
            "Epoch 00116: val_out_loss did not improve from 0.27653\n",
            "Epoch 117/300\n",
            "12/12 [==============================] - 16s 1s/step - loss: 0.7416 - out_loss: 0.1372 - level1_loss: 0.1365 - level2_loss: 0.1360 - level3_loss: 0.1442 - level4_loss: 0.1549 - level5_loss: 0.2181 - out_mean_squared_error: 0.0950 - level1_mean_squared_error: 0.0950 - level2_mean_squared_error: 0.0967 - level3_mean_squared_error: 0.1012 - level4_mean_squared_error: 0.1184 - level5_mean_squared_error: 0.2925 - val_loss: 1.4042 - val_out_loss: 0.2857 - val_level1_loss: 0.2813 - val_level2_loss: 0.2796 - val_level3_loss: 0.2905 - val_level4_loss: 0.2887 - val_level5_loss: 0.3294 - val_out_mean_squared_error: 0.3292 - val_level1_mean_squared_error: 0.3233 - val_level2_mean_squared_error: 0.3181 - val_level3_mean_squared_error: 0.3903 - val_level4_mean_squared_error: 0.3261 - val_level5_mean_squared_error: 0.3457\n",
            "\n",
            "Epoch 00117: val_out_loss did not improve from 0.27653\n",
            "Epoch 118/300\n",
            "12/12 [==============================] - 16s 1s/step - loss: 0.7470 - out_loss: 0.1402 - level1_loss: 0.1371 - level2_loss: 0.1385 - level3_loss: 0.1448 - level4_loss: 0.1569 - level5_loss: 0.2163 - out_mean_squared_error: 0.1002 - level1_mean_squared_error: 0.1009 - level2_mean_squared_error: 0.1011 - level3_mean_squared_error: 0.1143 - level4_mean_squared_error: 0.1192 - level5_mean_squared_error: 0.2095 - val_loss: 1.3901 - val_out_loss: 0.2819 - val_level1_loss: 0.2806 - val_level2_loss: 0.2779 - val_level3_loss: 0.2844 - val_level4_loss: 0.2974 - val_level5_loss: 0.3153 - val_out_mean_squared_error: 0.3242 - val_level1_mean_squared_error: 0.3244 - val_level2_mean_squared_error: 0.3220 - val_level3_mean_squared_error: 0.3408 - val_level4_mean_squared_error: 0.3420 - val_level5_mean_squared_error: 0.4001\n",
            "\n",
            "Epoch 00118: val_out_loss did not improve from 0.27653\n",
            "Epoch 119/300\n",
            "12/12 [==============================] - 16s 1s/step - loss: 0.7514 - out_loss: 0.1407 - level1_loss: 0.1396 - level2_loss: 0.1434 - level3_loss: 0.1455 - level4_loss: 0.1616 - level5_loss: 0.2083 - out_mean_squared_error: 0.0948 - level1_mean_squared_error: 0.0951 - level2_mean_squared_error: 0.0990 - level3_mean_squared_error: 0.1016 - level4_mean_squared_error: 0.1217 - level5_mean_squared_error: 0.1977 - val_loss: 1.3994 - val_out_loss: 0.2885 - val_level1_loss: 0.2897 - val_level2_loss: 0.2818 - val_level3_loss: 0.2799 - val_level4_loss: 0.2905 - val_level5_loss: 0.3188 - val_out_mean_squared_error: 0.3215 - val_level1_mean_squared_error: 0.3262 - val_level2_mean_squared_error: 0.3228 - val_level3_mean_squared_error: 0.3238 - val_level4_mean_squared_error: 0.3315 - val_level5_mean_squared_error: 0.4195\n",
            "\n",
            "Epoch 00119: val_out_loss did not improve from 0.27653\n",
            "Epoch 120/300\n",
            "12/12 [==============================] - 16s 1s/step - loss: 0.7258 - out_loss: 0.1362 - level1_loss: 0.1347 - level2_loss: 0.1347 - level3_loss: 0.1392 - level4_loss: 0.1562 - level5_loss: 0.2062 - out_mean_squared_error: 0.0906 - level1_mean_squared_error: 0.0909 - level2_mean_squared_error: 0.0910 - level3_mean_squared_error: 0.1042 - level4_mean_squared_error: 0.1290 - level5_mean_squared_error: 0.1822 - val_loss: 1.4444 - val_out_loss: 0.2925 - val_level1_loss: 0.2872 - val_level2_loss: 0.2897 - val_level3_loss: 0.2878 - val_level4_loss: 0.3143 - val_level5_loss: 0.3339 - val_out_mean_squared_error: 0.3328 - val_level1_mean_squared_error: 0.3319 - val_level2_mean_squared_error: 0.3150 - val_level3_mean_squared_error: 0.3245 - val_level4_mean_squared_error: 0.4128 - val_level5_mean_squared_error: 0.4316\n",
            "\n",
            "Epoch 00120: val_out_loss did not improve from 0.27653\n",
            "Epoch 121/300\n",
            "12/12 [==============================] - 16s 1s/step - loss: 0.8188 - out_loss: 0.1541 - level1_loss: 0.1526 - level2_loss: 0.1555 - level3_loss: 0.1578 - level4_loss: 0.1734 - level5_loss: 0.2301 - out_mean_squared_error: 0.1126 - level1_mean_squared_error: 0.1128 - level2_mean_squared_error: 0.1137 - level3_mean_squared_error: 0.1174 - level4_mean_squared_error: 0.1386 - level5_mean_squared_error: 0.2255 - val_loss: 1.9047 - val_out_loss: 0.3425 - val_level1_loss: 0.3545 - val_level2_loss: 0.4160 - val_level3_loss: 0.3368 - val_level4_loss: 0.3839 - val_level5_loss: 0.5472 - val_out_mean_squared_error: 0.5368 - val_level1_mean_squared_error: 0.8231 - val_level2_mean_squared_error: 3.2815 - val_level3_mean_squared_error: 0.4161 - val_level4_mean_squared_error: 0.9030 - val_level5_mean_squared_error: 3.4113\n",
            "\n",
            "Epoch 00121: val_out_loss did not improve from 0.27653\n",
            "Epoch 122/300\n",
            "12/12 [==============================] - 16s 1s/step - loss: 0.8125 - out_loss: 0.1507 - level1_loss: 0.1494 - level2_loss: 0.1531 - level3_loss: 0.1556 - level4_loss: 0.1764 - level5_loss: 0.2305 - out_mean_squared_error: 0.1136 - level1_mean_squared_error: 0.1140 - level2_mean_squared_error: 0.1177 - level3_mean_squared_error: 0.1188 - level4_mean_squared_error: 0.1473 - level5_mean_squared_error: 0.2108 - val_loss: 1.8011 - val_out_loss: 0.3353 - val_level1_loss: 0.3421 - val_level2_loss: 0.3948 - val_level3_loss: 0.3517 - val_level4_loss: 0.3830 - val_level5_loss: 0.4446 - val_out_mean_squared_error: 0.3989 - val_level1_mean_squared_error: 0.4308 - val_level2_mean_squared_error: 1.3662 - val_level3_mean_squared_error: 0.4320 - val_level4_mean_squared_error: 0.5666 - val_level5_mean_squared_error: 0.8443\n",
            "\n",
            "Epoch 00122: val_out_loss did not improve from 0.27653\n",
            "Epoch 123/300\n",
            "12/12 [==============================] - 16s 1s/step - loss: 0.8043 - out_loss: 0.1469 - level1_loss: 0.1440 - level2_loss: 0.1481 - level3_loss: 0.1538 - level4_loss: 0.1772 - level5_loss: 0.2354 - out_mean_squared_error: 0.1033 - level1_mean_squared_error: 0.1027 - level2_mean_squared_error: 0.1048 - level3_mean_squared_error: 0.1154 - level4_mean_squared_error: 0.1480 - level5_mean_squared_error: 0.2109 - val_loss: 1.6945 - val_out_loss: 0.3256 - val_level1_loss: 0.3225 - val_level2_loss: 0.3508 - val_level3_loss: 0.3399 - val_level4_loss: 0.3604 - val_level5_loss: 0.4191 - val_out_mean_squared_error: 0.4085 - val_level1_mean_squared_error: 0.3924 - val_level2_mean_squared_error: 0.6888 - val_level3_mean_squared_error: 0.4128 - val_level4_mean_squared_error: 0.4905 - val_level5_mean_squared_error: 0.8185\n",
            "\n",
            "Epoch 00123: val_out_loss did not improve from 0.27653\n",
            "Epoch 124/300\n",
            "12/12 [==============================] - 16s 1s/step - loss: 0.7858 - out_loss: 0.1485 - level1_loss: 0.1450 - level2_loss: 0.1473 - level3_loss: 0.1495 - level4_loss: 0.1656 - level5_loss: 0.2264 - out_mean_squared_error: 0.1077 - level1_mean_squared_error: 0.1068 - level2_mean_squared_error: 0.1061 - level3_mean_squared_error: 0.1105 - level4_mean_squared_error: 0.1256 - level5_mean_squared_error: 0.2176 - val_loss: 1.6185 - val_out_loss: 0.3217 - val_level1_loss: 0.3158 - val_level2_loss: 0.3225 - val_level3_loss: 0.3172 - val_level4_loss: 0.3504 - val_level5_loss: 0.3955 - val_out_mean_squared_error: 0.3856 - val_level1_mean_squared_error: 0.3742 - val_level2_mean_squared_error: 0.3907 - val_level3_mean_squared_error: 0.3638 - val_level4_mean_squared_error: 0.4334 - val_level5_mean_squared_error: 0.5928\n",
            "\n",
            "Epoch 00124: val_out_loss did not improve from 0.27653\n",
            "Epoch 125/300\n",
            "12/12 [==============================] - 16s 1s/step - loss: 0.7622 - out_loss: 0.1430 - level1_loss: 0.1406 - level2_loss: 0.1451 - level3_loss: 0.1466 - level4_loss: 0.1615 - level5_loss: 0.2159 - out_mean_squared_error: 0.0957 - level1_mean_squared_error: 0.0951 - level2_mean_squared_error: 0.0975 - level3_mean_squared_error: 0.1025 - level4_mean_squared_error: 0.1125 - level5_mean_squared_error: 0.2144 - val_loss: 1.6676 - val_out_loss: 0.3324 - val_level1_loss: 0.3296 - val_level2_loss: 0.3385 - val_level3_loss: 0.3360 - val_level4_loss: 0.3684 - val_level5_loss: 0.3796 - val_out_mean_squared_error: 0.3996 - val_level1_mean_squared_error: 0.3982 - val_level2_mean_squared_error: 0.4497 - val_level3_mean_squared_error: 0.4001 - val_level4_mean_squared_error: 0.5210 - val_level5_mean_squared_error: 0.4999\n",
            "\n",
            "Epoch 00125: val_out_loss did not improve from 0.27653\n",
            "Epoch 126/300\n",
            "12/12 [==============================] - 16s 1s/step - loss: 0.8132 - out_loss: 0.1508 - level1_loss: 0.1494 - level2_loss: 0.1554 - level3_loss: 0.1514 - level4_loss: 0.1782 - level5_loss: 0.2313 - out_mean_squared_error: 0.1096 - level1_mean_squared_error: 0.1090 - level2_mean_squared_error: 0.1105 - level3_mean_squared_error: 0.1135 - level4_mean_squared_error: 0.1960 - level5_mean_squared_error: 0.2709 - val_loss: 1.6621 - val_out_loss: 0.3253 - val_level1_loss: 0.3202 - val_level2_loss: 0.3232 - val_level3_loss: 0.3225 - val_level4_loss: 0.3457 - val_level5_loss: 0.4407 - val_out_mean_squared_error: 0.3828 - val_level1_mean_squared_error: 0.3752 - val_level2_mean_squared_error: 0.3798 - val_level3_mean_squared_error: 0.3518 - val_level4_mean_squared_error: 0.4038 - val_level5_mean_squared_error: 1.4836\n",
            "\n",
            "Epoch 00126: val_out_loss did not improve from 0.27653\n",
            "Epoch 127/300\n",
            "12/12 [==============================] - 16s 1s/step - loss: 0.7864 - out_loss: 0.1454 - level1_loss: 0.1441 - level2_loss: 0.1461 - level3_loss: 0.1488 - level4_loss: 0.1777 - level5_loss: 0.2209 - out_mean_squared_error: 0.1032 - level1_mean_squared_error: 0.1033 - level2_mean_squared_error: 0.1033 - level3_mean_squared_error: 0.1072 - level4_mean_squared_error: 0.2223 - level5_mean_squared_error: 0.1972 - val_loss: 1.6358 - val_out_loss: 0.3329 - val_level1_loss: 0.3312 - val_level2_loss: 0.3325 - val_level3_loss: 0.3261 - val_level4_loss: 0.3355 - val_level5_loss: 0.3866 - val_out_mean_squared_error: 0.4053 - val_level1_mean_squared_error: 0.4035 - val_level2_mean_squared_error: 0.3975 - val_level3_mean_squared_error: 0.3846 - val_level4_mean_squared_error: 0.4023 - val_level5_mean_squared_error: 0.6068\n",
            "\n",
            "Epoch 00127: val_out_loss did not improve from 0.27653\n",
            "Epoch 128/300\n",
            "12/12 [==============================] - 16s 1s/step - loss: 0.7368 - out_loss: 0.1344 - level1_loss: 0.1328 - level2_loss: 0.1344 - level3_loss: 0.1397 - level4_loss: 0.1661 - level5_loss: 0.2135 - out_mean_squared_error: 0.0916 - level1_mean_squared_error: 0.0914 - level2_mean_squared_error: 0.0916 - level3_mean_squared_error: 0.0994 - level4_mean_squared_error: 0.1598 - level5_mean_squared_error: 0.2031 - val_loss: 1.6347 - val_out_loss: 0.3389 - val_level1_loss: 0.3318 - val_level2_loss: 0.3346 - val_level3_loss: 0.3290 - val_level4_loss: 0.3371 - val_level5_loss: 0.3720 - val_out_mean_squared_error: 0.4173 - val_level1_mean_squared_error: 0.4109 - val_level2_mean_squared_error: 0.4053 - val_level3_mean_squared_error: 0.3953 - val_level4_mean_squared_error: 0.3918 - val_level5_mean_squared_error: 0.5174\n",
            "\n",
            "Epoch 00128: val_out_loss did not improve from 0.27653\n",
            "Epoch 129/300\n",
            "12/12 [==============================] - 16s 1s/step - loss: 0.7085 - out_loss: 0.1293 - level1_loss: 0.1267 - level2_loss: 0.1300 - level3_loss: 0.1340 - level4_loss: 0.1607 - level5_loss: 0.2050 - out_mean_squared_error: 0.0884 - level1_mean_squared_error: 0.0878 - level2_mean_squared_error: 0.0882 - level3_mean_squared_error: 0.0922 - level4_mean_squared_error: 0.1220 - level5_mean_squared_error: 0.1809 - val_loss: 1.5881 - val_out_loss: 0.3338 - val_level1_loss: 0.3264 - val_level2_loss: 0.3233 - val_level3_loss: 0.3203 - val_level4_loss: 0.3289 - val_level5_loss: 0.3524 - val_out_mean_squared_error: 0.3962 - val_level1_mean_squared_error: 0.3882 - val_level2_mean_squared_error: 0.3768 - val_level3_mean_squared_error: 0.3686 - val_level4_mean_squared_error: 0.4034 - val_level5_mean_squared_error: 0.3900\n",
            "\n",
            "Epoch 00129: val_out_loss did not improve from 0.27653\n",
            "Epoch 130/300\n",
            "12/12 [==============================] - 16s 1s/step - loss: 0.7205 - out_loss: 0.1358 - level1_loss: 0.1327 - level2_loss: 0.1329 - level3_loss: 0.1388 - level4_loss: 0.1596 - level5_loss: 0.2008 - out_mean_squared_error: 0.0903 - level1_mean_squared_error: 0.0892 - level2_mean_squared_error: 0.0886 - level3_mean_squared_error: 0.0947 - level4_mean_squared_error: 0.1212 - level5_mean_squared_error: 0.1787 - val_loss: 1.5049 - val_out_loss: 0.3063 - val_level1_loss: 0.3047 - val_level2_loss: 0.3071 - val_level3_loss: 0.3071 - val_level4_loss: 0.3153 - val_level5_loss: 0.3406 - val_out_mean_squared_error: 0.3608 - val_level1_mean_squared_error: 0.3541 - val_level2_mean_squared_error: 0.3642 - val_level3_mean_squared_error: 0.3450 - val_level4_mean_squared_error: 0.3677 - val_level5_mean_squared_error: 0.4232\n",
            "\n",
            "Epoch 00130: val_out_loss did not improve from 0.27653\n",
            "Epoch 131/300\n",
            "12/12 [==============================] - 16s 1s/step - loss: 0.6609 - out_loss: 0.1186 - level1_loss: 0.1211 - level2_loss: 0.1223 - level3_loss: 0.1265 - level4_loss: 0.1432 - level5_loss: 0.1945 - out_mean_squared_error: 0.0735 - level1_mean_squared_error: 0.0738 - level2_mean_squared_error: 0.0789 - level3_mean_squared_error: 0.0887 - level4_mean_squared_error: 0.1034 - level5_mean_squared_error: 0.1836 - val_loss: 1.5843 - val_out_loss: 0.3198 - val_level1_loss: 0.3210 - val_level2_loss: 0.3225 - val_level3_loss: 0.3258 - val_level4_loss: 0.3345 - val_level5_loss: 0.3567 - val_out_mean_squared_error: 0.3865 - val_level1_mean_squared_error: 0.3829 - val_level2_mean_squared_error: 0.3809 - val_level3_mean_squared_error: 0.3811 - val_level4_mean_squared_error: 0.3900 - val_level5_mean_squared_error: 0.4170\n",
            "\n",
            "Epoch 00131: val_out_loss did not improve from 0.27653\n",
            "Epoch 132/300\n",
            "12/12 [==============================] - 16s 1s/step - loss: 0.6620 - out_loss: 0.1177 - level1_loss: 0.1191 - level2_loss: 0.1231 - level3_loss: 0.1291 - level4_loss: 0.1489 - level5_loss: 0.1897 - out_mean_squared_error: 0.0683 - level1_mean_squared_error: 0.0694 - level2_mean_squared_error: 0.0890 - level3_mean_squared_error: 0.0890 - level4_mean_squared_error: 0.1308 - level5_mean_squared_error: 0.1614 - val_loss: 1.4150 - val_out_loss: 0.2805 - val_level1_loss: 0.2791 - val_level2_loss: 0.2822 - val_level3_loss: 0.2877 - val_level4_loss: 0.3052 - val_level5_loss: 0.3339 - val_out_mean_squared_error: 0.3271 - val_level1_mean_squared_error: 0.3273 - val_level2_mean_squared_error: 0.3391 - val_level3_mean_squared_error: 0.3299 - val_level4_mean_squared_error: 0.3496 - val_level5_mean_squared_error: 0.3791\n",
            "\n",
            "Epoch 00132: val_out_loss did not improve from 0.27653\n",
            "Epoch 133/300\n",
            "12/12 [==============================] - 16s 1s/step - loss: 0.6599 - out_loss: 0.1202 - level1_loss: 0.1188 - level2_loss: 0.1214 - level3_loss: 0.1301 - level4_loss: 0.1405 - level5_loss: 0.1938 - out_mean_squared_error: 0.0735 - level1_mean_squared_error: 0.0736 - level2_mean_squared_error: 0.0815 - level3_mean_squared_error: 0.0936 - level4_mean_squared_error: 0.1013 - level5_mean_squared_error: 0.1676 - val_loss: 1.5129 - val_out_loss: 0.2943 - val_level1_loss: 0.2911 - val_level2_loss: 0.2987 - val_level3_loss: 0.3280 - val_level4_loss: 0.3126 - val_level5_loss: 0.3665 - val_out_mean_squared_error: 0.3249 - val_level1_mean_squared_error: 0.3236 - val_level2_mean_squared_error: 0.3311 - val_level3_mean_squared_error: 0.3306 - val_level4_mean_squared_error: 0.3410 - val_level5_mean_squared_error: 0.4629\n",
            "\n",
            "Epoch 00133: val_out_loss did not improve from 0.27653\n",
            "Epoch 134/300\n",
            "12/12 [==============================] - 16s 1s/step - loss: 0.6337 - out_loss: 0.1134 - level1_loss: 0.1116 - level2_loss: 0.1141 - level3_loss: 0.1231 - level4_loss: 0.1326 - level5_loss: 0.1973 - out_mean_squared_error: 0.0697 - level1_mean_squared_error: 0.0695 - level2_mean_squared_error: 0.0716 - level3_mean_squared_error: 0.0832 - level4_mean_squared_error: 0.0897 - level5_mean_squared_error: 0.2521 - val_loss: 1.4107 - val_out_loss: 0.2772 - val_level1_loss: 0.2775 - val_level2_loss: 0.2781 - val_level3_loss: 0.2889 - val_level4_loss: 0.3029 - val_level5_loss: 0.3389 - val_out_mean_squared_error: 0.3230 - val_level1_mean_squared_error: 0.3185 - val_level2_mean_squared_error: 0.3226 - val_level3_mean_squared_error: 0.3789 - val_level4_mean_squared_error: 0.3318 - val_level5_mean_squared_error: 0.4648\n",
            "\n",
            "Epoch 00134: val_out_loss did not improve from 0.27653\n"
          ]
        }
      ]
    },
    {
      "cell_type": "markdown",
      "metadata": {
        "id": "KXKtueC8-Hec"
      },
      "source": [
        "Predict from the Test set"
      ]
    },
    {
      "cell_type": "code",
      "metadata": {
        "id": "da_GxBdub11V",
        "outputId": "bfd0f6bd-36c6-4fea-f12a-847243cd4b8b",
        "colab": {
          "base_uri": "https://localhost:8080/"
        }
      },
      "source": [
        "if D_S == 0:\n",
        "    EEG_App = EEGIMU_Network.predict(X_Test, verbose=1)\n",
        "    print(EEG_App.shape)\n",
        "elif D_S == 1:\n",
        "    EEG_App = EEGIMU_Network.predict(X_Test1, verbose=1)\n",
        "    print(EEG_App[0].shape)"
      ],
      "execution_count": 22,
      "outputs": [
        {
          "output_type": "stream",
          "name": "stdout",
          "text": [
            "8/8 [==============================] - 6s 265ms/step\n",
            "(229, 1024, 1)\n"
          ]
        }
      ]
    },
    {
      "cell_type": "markdown",
      "metadata": {
        "id": "I5VOUzPq-qyv"
      },
      "source": [
        "Plot History Plots (e.g., Loss, Accuracy, etc.)"
      ]
    },
    {
      "cell_type": "code",
      "metadata": {
        "id": "FEbvTDd7-nZH",
        "outputId": "c6b2f5ea-713b-4f89-9641-d50805833657",
        "colab": {
          "base_uri": "https://localhost:8080/",
          "height": 522
        }
      },
      "source": [
        "def history_plot(history):\n",
        "  # list all dictionaries in history\n",
        "  print(history.history.keys())\n",
        "  # summarize history for error\n",
        "  plt.figure(figsize=(7,7))\n",
        "  plt.subplot(2,1,1)\n",
        "  plt.plot(history.history['out_mean_squared_error'])\n",
        "  plt.plot(history.history['val_out_mean_squared_error'])\n",
        "  plt.title('Model Error Performance')\n",
        "  plt.ylabel('Error')\n",
        "  plt.xlabel('Epoch')\n",
        "  plt.legend(['Train', 'Val'], loc='upper right')\n",
        "  plt.ylim([0, 3])\n",
        "  plt.show()\n",
        "  # summarize history for loss\n",
        "  plt.figure(figsize=(7,7))\n",
        "  plt.subplot(2,1,2)\n",
        "  plt.plot(history.history['out_loss'])\n",
        "  plt.plot(history.history['val_out_loss'])\n",
        "  plt.title('Model Loss')\n",
        "  plt.ylabel('Loss')\n",
        "  plt.xlabel('Epoch')\n",
        "  plt.legend(['Train', 'Val'], loc='upper right')\n",
        "  plt.ylim([0, 3])\n",
        "  plt.show()\n",
        "#\n",
        "history_plot(history)"
      ],
      "execution_count": 23,
      "outputs": [
        {
          "output_type": "stream",
          "name": "stdout",
          "text": [
            "dict_keys(['loss', 'out_loss', 'level1_loss', 'level2_loss', 'level3_loss', 'level4_loss', 'level5_loss', 'out_mean_squared_error', 'level1_mean_squared_error', 'level2_mean_squared_error', 'level3_mean_squared_error', 'level4_mean_squared_error', 'level5_mean_squared_error', 'val_loss', 'val_out_loss', 'val_level1_loss', 'val_level2_loss', 'val_level3_loss', 'val_level4_loss', 'val_level5_loss', 'val_out_mean_squared_error', 'val_level1_mean_squared_error', 'val_level2_mean_squared_error', 'val_level3_mean_squared_error', 'val_level4_mean_squared_error', 'val_level5_mean_squared_error'])\n"
          ]
        },
        {
          "output_type": "display_data",
          "data": {
            "image/png": "[encoded data removed]",
            "text/plain": [
              "<Figure size 504x504 with 1 Axes>"
            ]
          },
          "metadata": {}
        },
        {
          "output_type": "display_data",
          "data": {
            "image/png": "[encoded data removed]",
            "text/plain": [
              "<Figure size 504x504 with 1 Axes>"
            ]
          },
          "metadata": {}
        }
      ]
    },
    {
      "cell_type": "markdown",
      "metadata": {
        "id": "RAkQe4Yp9QVP"
      },
      "source": [
        "Visualize Outcome"
      ]
    },
    {
      "cell_type": "code",
      "metadata": {
        "id": "tq3lBCm0crMc",
        "outputId": "041b4b6e-0b89-4e4f-8c8d-663d434f8c22",
        "colab": {
          "base_uri": "https://localhost:8080/",
          "height": 281
        }
      },
      "source": [
        "if D_S == 0:\n",
        "    i = random.randint(0,len(Y_Test));\n",
        "    #\n",
        "    MAE = np.mean(np.abs(EEG_App[i].ravel()-Y_Test[i].ravel()));\n",
        "    #\n",
        "    plt.figure(figsize=(15, 4));\n",
        "    plt.plot(Y_Test1[i],label='GRND');\n",
        "    plt.plot(EEG_App[i].ravel(), label='Pred');\n",
        "    plt.title(f\"EEG -- Sample Number {i} -- MAE = {MAE}\");\n",
        "    plt.legend();\n",
        "    #\n",
        "elif D_S == 1:\n",
        "    i = random.randint(0,len(Y_Test));\n",
        "    #\n",
        "    MAE = np.mean(np.abs(EEG_App[0][i].ravel()-Y_Test[i].ravel()))\n",
        "    #\n",
        "    plt.figure(figsize=(15,4))\n",
        "    # plt.subplot(5,1,1)\n",
        "    plt.plot(Y_Test[i],label='Ground Truth');\n",
        "    plt.plot(EEG_App[0][i].ravel(), label='Prediction');\n",
        "    plt.title(f\"GRF -- Sample Number {i} -- MAE = {MAE}\");\n",
        "    plt.legend();\n",
        "    plt.show()\n",
        "    # plt.subplot(5,1,2)\n",
        "    # plt.plot((X_Test[i,:,0].ravel()),label='EEG2');\n",
        "    # plt.title('EEG2')\n",
        "    # plt.legend();\n",
        "    # plt.subplot(5,1,3)\n",
        "    # plt.plot((X_Test[i,:,1].ravel()),label='ACCX2');\n",
        "    # plt.title('ACCX')\n",
        "    # plt.legend();\n",
        "    # plt.subplot(5,1,4)\n",
        "    # plt.plot((X_Test[i,:,2].ravel()),label='ACCY2');\n",
        "    # plt.title('ACCY')\n",
        "    # plt.legend();\n",
        "    # plt.subplot(5,1,5)\n",
        "    # plt.plot((X_Test[i,:,3].ravel()),label='ACCZ2');\n",
        "    # plt.title('ACCZ')\n",
        "    # plt.legend();"
      ],
      "execution_count": 30,
      "outputs": [
        {
          "output_type": "display_data",
          "data": {
            "image/png": "[encoded data removed]",
            "text/plain": [
              "<Figure size 1080x288 with 1 Axes>"
            ]
          },
          "metadata": {}
        }
      ]
    },
    {
      "cell_type": "markdown",
      "metadata": {
        "id": "qgyZlT9gOC3r"
      },
      "source": [
        "### Evaluate EEG Reconstruction"
      ]
    },
    {
      "cell_type": "markdown",
      "metadata": {
        "id": "3Tn5t8svOC3z"
      },
      "source": [
        "Construction Error"
      ]
    },
    {
      "cell_type": "code",
      "metadata": {
        "id": "dCpLcxFHHGO4"
      },
      "source": [
        "def Construction_Error(GRND, Pred):\n",
        "    construction_err = []\n",
        "    bad_indices = []\n",
        "    count = 0\n",
        "\n",
        "    for i in range(len(GRND)):\n",
        "        MAE = np.mean(np.abs(Pred[i].ravel() - GRND[i].ravel()))\n",
        "        if MAE < 1:\n",
        "            construction_err.append(MAE)\n",
        "        elif MAE >= 1:\n",
        "            count = count + 1\n",
        "            bad_indices.append(i)\n",
        "\n",
        "    print(f'Construction Error : {round(np.mean(construction_err), 3)} +/- {round(np.std(construction_err), 3)}')\n",
        "    print(f'Number of Bad Predictions = {count}')\n",
        "\n",
        "    bad_indices = set(bad_indices)\n",
        "    all_indices = set(np.arange(len(GRND)))\n",
        "    good_indices = np.array(list(all_indices - bad_indices))\n",
        "    GRND_NEW = GRND[good_indices]\n",
        "    PRED_NEW = Pred[good_indices]\n",
        "\n",
        "    return GRND_NEW, PRED_NEW"
      ],
      "execution_count": 25,
      "outputs": []
    },
    {
      "cell_type": "code",
      "metadata": {
        "id": "-e5e02IX18_0",
        "outputId": "3ec4f714-ccd4-4461-b191-0758972985ef",
        "colab": {
          "base_uri": "https://localhost:8080/"
        }
      },
      "source": [
        "[A,B] = Construction_Error(Y_Test,EEG_App[0])"
      ],
      "execution_count": 26,
      "outputs": [
        {
          "output_type": "stream",
          "name": "stdout",
          "text": [
            "Construction Error : 0.191 +/- 0.185\n",
            "Number of Bad Predictions = 8\n"
          ]
        }
      ]
    },
    {
      "cell_type": "markdown",
      "metadata": {
        "id": "RpBffrdYhNFs"
      },
      "source": [
        "### Save Files"
      ]
    },
    {
      "cell_type": "code",
      "metadata": {
        "id": "PIUgbKfFhO7O",
        "outputId": "37110024-a102-4c11-d9e2-eb6e13d71035",
        "colab": {
          "base_uri": "https://localhost:8080/",
          "height": 231
        }
      },
      "source": [
        "output_directory = 'Patient_Wise_Data/Outputs/Preds_Sub_' + str(Test_Case) + '.h5'\n",
        "File = h5py.File(output_directory, 'w')\n",
        "File.create_dataset('EEG_GT', data=Y_Test)\n",
        "File.create_dataset('EEG_MA', data=X_Test[:,:,0])\n",
        "File.create_dataset('EEG_Pred', data=EEG_App[0])\n",
        "File.close()"
      ],
      "execution_count": 27,
      "outputs": [
        {
          "output_type": "error",
          "ename": "NameError",
          "evalue": "ignored",
          "traceback": [
            "\u001b[0;31m---------------------------------------------------------------------------\u001b[0m",
            "\u001b[0;31mNameError\u001b[0m                                 Traceback (most recent call last)",
            "\u001b[0;32m<ipython-input-27-25ffc6fbf276>\u001b[0m in \u001b[0;36m<module>\u001b[0;34m()\u001b[0m\n\u001b[0;32m----> 1\u001b[0;31m \u001b[0moutput_directory\u001b[0m \u001b[0;34m=\u001b[0m \u001b[0;34m'Patient_Wise_Data/Outputs/Preds_Sub_'\u001b[0m \u001b[0;34m+\u001b[0m \u001b[0mstr\u001b[0m\u001b[0;34m(\u001b[0m\u001b[0mTest_Case\u001b[0m\u001b[0;34m)\u001b[0m \u001b[0;34m+\u001b[0m \u001b[0;34m'.h5'\u001b[0m\u001b[0;34m\u001b[0m\u001b[0;34m\u001b[0m\u001b[0m\n\u001b[0m\u001b[1;32m      2\u001b[0m \u001b[0mFile\u001b[0m \u001b[0;34m=\u001b[0m \u001b[0mh5py\u001b[0m\u001b[0;34m.\u001b[0m\u001b[0mFile\u001b[0m\u001b[0;34m(\u001b[0m\u001b[0moutput_directory\u001b[0m\u001b[0;34m,\u001b[0m \u001b[0;34m'w'\u001b[0m\u001b[0;34m)\u001b[0m\u001b[0;34m\u001b[0m\u001b[0;34m\u001b[0m\u001b[0m\n\u001b[1;32m      3\u001b[0m \u001b[0mFile\u001b[0m\u001b[0;34m.\u001b[0m\u001b[0mcreate_dataset\u001b[0m\u001b[0;34m(\u001b[0m\u001b[0;34m'EEG_GT'\u001b[0m\u001b[0;34m,\u001b[0m \u001b[0mdata\u001b[0m\u001b[0;34m=\u001b[0m\u001b[0mY_Test\u001b[0m\u001b[0;34m)\u001b[0m\u001b[0;34m\u001b[0m\u001b[0;34m\u001b[0m\u001b[0m\n\u001b[1;32m      4\u001b[0m \u001b[0mFile\u001b[0m\u001b[0;34m.\u001b[0m\u001b[0mcreate_dataset\u001b[0m\u001b[0;34m(\u001b[0m\u001b[0;34m'EEG_MA'\u001b[0m\u001b[0;34m,\u001b[0m \u001b[0mdata\u001b[0m\u001b[0;34m=\u001b[0m\u001b[0mX_Test\u001b[0m\u001b[0;34m[\u001b[0m\u001b[0;34m:\u001b[0m\u001b[0;34m,\u001b[0m\u001b[0;34m:\u001b[0m\u001b[0;34m,\u001b[0m\u001b[0;36m0\u001b[0m\u001b[0;34m]\u001b[0m\u001b[0;34m)\u001b[0m\u001b[0;34m\u001b[0m\u001b[0;34m\u001b[0m\u001b[0m\n\u001b[1;32m      5\u001b[0m \u001b[0mFile\u001b[0m\u001b[0;34m.\u001b[0m\u001b[0mcreate_dataset\u001b[0m\u001b[0;34m(\u001b[0m\u001b[0;34m'EEG_Pred'\u001b[0m\u001b[0;34m,\u001b[0m \u001b[0mdata\u001b[0m\u001b[0;34m=\u001b[0m\u001b[0mEEG_App\u001b[0m\u001b[0;34m[\u001b[0m\u001b[0;36m0\u001b[0m\u001b[0;34m]\u001b[0m\u001b[0;34m)\u001b[0m\u001b[0;34m\u001b[0m\u001b[0;34m\u001b[0m\u001b[0m\n",
            "\u001b[0;31mNameError\u001b[0m: name 'Test_Case' is not defined"
          ]
        }
      ]
    },
    {
      "cell_type": "markdown",
      "metadata": {
        "id": "WesN7p7AeYK4"
      },
      "source": [
        "# Infinite Loop to Keep the Tab Alive"
      ]
    },
    {
      "cell_type": "code",
      "metadata": {
        "id": "0HqQ3O6XeZ1f"
      },
      "source": [
        "while True:\n",
        "    pass"
      ],
      "execution_count": null,
      "outputs": []
    }
  ]
}