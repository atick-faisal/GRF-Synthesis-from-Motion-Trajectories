{
  "cells": [
    {
      "cell_type": "markdown",
      "metadata": {
        "id": "view-in-github",
        "colab_type": "text"
      },
      "source": [
        "<a href=\"https://colab.research.google.com/github/atick-faisal/GRF-Synthesis-from-Motion-Trajectories/blob/main/src/training/transfer_learning.ipynb\" target=\"_parent\"><img src=\"https://colab.research.google.com/assets/colab-badge.svg\" alt=\"Open In Colab\"/></a>"
      ]
    },
    {
      "cell_type": "code",
      "execution_count": 1,
      "metadata": {
        "id": "6yBebZQzQL76"
      },
      "outputs": [],
      "source": [
        "# from google.colab import drive\n",
        "# drive.mount('/content/drive')"
      ]
    },
    {
      "cell_type": "code",
      "source": [
        "# !pip install --upgrade pandas==1.3.4"
      ],
      "metadata": {
        "id": "h74L_Qf_Q22z"
      },
      "execution_count": 2,
      "outputs": []
    },
    {
      "cell_type": "code",
      "source": [
        "# !gdown --id \"1kNGwWBQp6kmAioLP-_zWx7r42SzoEO3v\"\n",
        "# !unzip UNet.zip\n",
        "\n",
        "## DB2 High vel\n",
        "# !gdown --id \"1LRwmMUFF1Vdxlsj2mqqkVvhCLTCIr8F4\"\n",
        "\n",
        "# !gdown --id \"1Z6SiogUQExhFuEqlAzdDyGZo8bOJR3DJ\""
      ],
      "metadata": {
        "id": "vyR0w49LQ9n_"
      },
      "execution_count": 3,
      "outputs": []
    },
    {
      "cell_type": "code",
      "execution_count": 4,
      "metadata": {
        "id": "jhlBmxZIQL73"
      },
      "outputs": [],
      "source": [
        "import h5py\n",
        "import scipy\n",
        "import random\n",
        "import joblib\n",
        "import numpy as np\n",
        "import pandas as pd\n",
        "import seaborn as sns\n",
        "import tensorflow as tf\n",
        "import scipy.io as sio\n",
        "import matplotlib.pyplot as plt\n",
        "\n",
        "from tqdm import tqdm\n",
        "from sklearn.metrics import mean_squared_error, median_absolute_error, mean_absolute_error\n",
        "from sklearn.metrics import classification_report, confusion_matrix\n",
        "from sklearn.model_selection import train_test_split\n",
        "from sklearn.preprocessing import MinMaxScaler, StandardScaler\n",
        "\n",
        "from UNet_1DCNN import UNet\n",
        "from FPN_1DCNN import FPN\n",
        "from AlbuNet_1DCNN import AlbUNet\n",
        "\n",
        "%matplotlib inline\n",
        "sns.set(font_scale=2.5)\n",
        "\n",
        "sns.set_style(\"white\", {'font.family':'serif', 'font.serif':'Times New Roman'})\n",
        "\n",
        "models_dir = '/content/drive/MyDrive/Research/GRF Data Synthesis/Results/TF/Moment/Models/X/'\n",
        "figures_dir = '/content/drive/MyDrive/Research/GRF Data Synthesis/Results/TF/Moment/Figures/X/'\n",
        "\n",
        "model_path = '/content/drive/MyDrive/Research/GRF Data Synthesis/Results/DB1/Moment/Models/X/UNet00_paper_v1.h5'"
      ]
    },
    {
      "cell_type": "code",
      "source": [
        "from keras import backend as K\n",
        "def correlation_coefficient_loss(y_true, y_pred):\n",
        "    x = y_true\n",
        "    y = y_pred\n",
        "    mx = K.mean(x)\n",
        "    my = K.mean(y)\n",
        "    xm, ym = x-mx, y-my\n",
        "    r_num = K.sum(tf.multiply(xm,ym))\n",
        "    r_den = K.sqrt(tf.multiply(K.sum(K.square(xm)), K.sum(K.square(ym))))\n",
        "    r = r_num / r_den\n",
        "\n",
        "    mae = tf.keras.losses.MeanAbsoluteError()\n",
        "    error = mae(y_true, y_pred)\n",
        "    r = K.maximum(K.minimum(r, 1.0), -1.0)\n",
        "    \n",
        "    return (1 - r) * error"
      ],
      "metadata": {
        "id": "ocrrq_j40RWV"
      },
      "execution_count": 5,
      "outputs": []
    },
    {
      "cell_type": "code",
      "source": [
        "# data = joblib.load('/content/data2_f72_t3_n1_combined.joblib')\n",
        "# data1 = joblib.load('/content/data1_f15_t3_n1_combined.joblib')\n",
        "data2 = joblib.load('/content/data2_f15_t6_n1_high_vel_combined.joblib')\n",
        "# data2_hv = joblib.load('/content/data2_f72_t3_n1_high_vel_combined.joblib')\n",
        "\n",
        "X_Train = data2['test_X']\n",
        "X_Test = data2['train_X']\n",
        "Y_Train = data2['test_y']\n",
        "Y_Test = data2['train_y']\n",
        "\n",
        "# X_Train = data2['train_X']\n",
        "# X_Test = data2['test_X']\n",
        "# Y_Train = data2['train_y']\n",
        "# Y_Test = data2['test_y']\n",
        "\n",
        "print(X_Train.shape)\n",
        "print(X_Test.shape)\n",
        "print(Y_Train.shape)\n",
        "print(Y_Test.shape)"
      ],
      "metadata": {
        "id": "fyuz_9UNRE2A",
        "outputId": "be474b27-2a3b-484b-a774-41ca1dcb451d",
        "colab": {
          "base_uri": "https://localhost:8080/"
        }
      },
      "execution_count": 6,
      "outputs": [
        {
          "output_type": "stream",
          "name": "stdout",
          "text": [
            "(329, 1024, 15)\n",
            "(1315, 1024, 15)\n",
            "(329, 1024, 6)\n",
            "(1315, 1024, 6)\n"
          ]
        }
      ]
    },
    {
      "cell_type": "code",
      "source": [
        "# X_Train = X_Train[:, :, [6, 7, 8, 9, 10, 18, 19, 20, 21, 22, 30, 31, 32, 33, 34]]\n",
        "# X_Test = X_Test[:, :, [6, 7, 8, 9, 10, 18, 19, 20, 21, 22, 30, 31, 32, 33, 34]]\n",
        "X_Train = X_Train[:, :, [10, 11, 12, 13, 14]]\n",
        "X_Test = X_Test[:, :, [10, 11, 12, 13, 14]]\n",
        "Y_Train = Y_Train[:, :, 3]\n",
        "Y_Test = Y_Test[:, :, 3]\n",
        "\n",
        "X_Train = np.nan_to_num(X_Train)\n",
        "X_Test = np.nan_to_num(X_Test)\n",
        "Y_Train = np.nan_to_num(Y_Train)\n",
        "Y_Test = np.nan_to_num(Y_Test)\n",
        "\n",
        "print(X_Train.shape)\n",
        "print(X_Test.shape)\n",
        "print(Y_Train.shape)\n",
        "print(Y_Test.shape)"
      ],
      "metadata": {
        "id": "lnjVfNGdRKLu",
        "outputId": "5df13ddf-14ad-4188-9368-446e78ef4b61",
        "colab": {
          "base_uri": "https://localhost:8080/"
        }
      },
      "execution_count": 7,
      "outputs": [
        {
          "output_type": "stream",
          "name": "stdout",
          "text": [
            "(329, 1024, 5)\n",
            "(1315, 1024, 5)\n",
            "(329, 1024)\n",
            "(1315, 1024)\n"
          ]
        }
      ]
    },
    {
      "cell_type": "code",
      "source": [
        "FRAME_LEN = X_Train.shape[1]\n",
        "N_CHANNELS = X_Train.shape[2]"
      ],
      "metadata": {
        "id": "__ifKmnMROLP"
      },
      "execution_count": 8,
      "outputs": []
    },
    {
      "cell_type": "code",
      "source": [
        "model_name = 'MultiResUNet' # UNet or UNetPP\n",
        "signal_length = FRAME_LEN # Length of each Segment\n",
        "model_depth = 5 # Number of Level in the CNN Model\n",
        "model_width = 16 # Width of the Initial Layer, subsequent layers start from here\n",
        "kernel_size = 3 # Size of the Kernels/Filter\n",
        "num_channel = N_CHANNELS # Number of Channels in the Model\n",
        "D_S = 0 # Turn on Deep Supervision\n",
        "A_E = 0 # Turn on AutoEncoder Mode for Feature Extraction\n",
        "A_G = 0 # Attention Guided\n",
        "problem_type = 'Regression'\n",
        "output_nums = 1 # Number of Class for Classification Problems, always '1' for Regression Problems\n",
        "'''Only required if the AutoEncoder Mode is turned on'''\n",
        "feature_number = 1024 # Number of Features to be Extracted\n",
        "'''Only required for MultiResUNet'''\n",
        "alpha = 1 # Model Width Expansion Parameter"
      ],
      "metadata": {
        "id": "X6beBxhhRQsB"
      },
      "execution_count": 9,
      "outputs": []
    },
    {
      "cell_type": "code",
      "source": [
        "def prepareTrainDict(y, model_depth, signal_length, model_name):\n",
        "  def approximate(inp, w_len, signal_length):\n",
        "    op = np.zeros((len(inp),signal_length//w_len))\n",
        "    for i in range(0,signal_length,w_len):\n",
        "      try:\n",
        "        op[:,i//w_len] = np.mean(inp[:,i:i+w_len],axis=1)\n",
        "      except Exception as e:\n",
        "        print(e)\n",
        "        print(i)\n",
        "  \t\n",
        "    return op\n",
        "\n",
        "  out = {}\n",
        "  Y_Train_dict = {}\n",
        "  out['out'] = np.array(y)\n",
        "  Y_Train_dict['out'] = out['out']\n",
        "  for i in range(1, (model_depth+1)):\n",
        "    name = f'level{i}'\n",
        "    if ((model_name == 'UNet') or (model_name == 'MultiResUNet') or (model_name == 'FPN')):\n",
        "      out[name] = np.expand_dims(approximate(np.squeeze(y), 2**i, signal_length),axis = 2)\n",
        "    elif ((model_name == 'UNetE') or (model_name == 'UNetP') or (model_name == 'UNetPP')):\n",
        "      out[name] = np.expand_dims(approximate(np.squeeze(y), 2**0, signal_length),axis = 2)\n",
        "    Y_Train_dict[f'level{i}'] = out[f'level{i}']\n",
        "  \n",
        "  return out, Y_Train_dict"
      ],
      "metadata": {
        "id": "S5mLD9IwRnB3"
      },
      "execution_count": 10,
      "outputs": []
    },
    {
      "cell_type": "code",
      "source": [
        "X_Train1 = X_Train\n",
        "X_Test1 = X_Test\n",
        "[Y_Train1, Y_Train_dict] = prepareTrainDict(Y_Train, model_depth, signal_length, model_name)\n",
        "[Y_Test1, Y_Test_dict] = prepareTrainDict(Y_Test, model_depth, signal_length, model_name)"
      ],
      "metadata": {
        "id": "PWzVDxWJRpeD"
      },
      "execution_count": 11,
      "outputs": []
    },
    {
      "cell_type": "code",
      "source": [
        "loss_weights = np.zeros(model_depth)\n",
        "\n",
        "for i in range(0, model_depth):\n",
        "   loss_weights[i] = 1-(i*0.1)\n",
        "   \n",
        "loss_weights"
      ],
      "metadata": {
        "id": "pr0Uht8qRr3M",
        "outputId": "3d9e788e-8b75-4317-819b-700335448bd7",
        "colab": {
          "base_uri": "https://localhost:8080/"
        }
      },
      "execution_count": 12,
      "outputs": [
        {
          "output_type": "execute_result",
          "data": {
            "text/plain": [
              "array([1. , 0.9, 0.8, 0.7, 0.6])"
            ]
          },
          "metadata": {},
          "execution_count": 12
        }
      ]
    },
    {
      "cell_type": "code",
      "source": [
        "optimizer = tf.keras.optimizers.Adam(\n",
        "    learning_rate = 0.001\n",
        ")\n",
        "\n",
        "# if D_S == 0:\n",
        "#     # Build model for EEG Motion Artifact Removal - Deep Unet Architecture\n",
        "#     # AutoEncoder should be set at 'FALSE' for the Deep U-net model for Signal Reconstruction\n",
        "#     # D_S = 0, A_E = 0\n",
        "#     model = UNet(\n",
        "#         signal_length,\n",
        "#         model_depth,\n",
        "#         num_channel, \n",
        "#         model_width, \n",
        "#         kernel_size, \n",
        "#         problem_type=problem_type, \n",
        "#         output_nums=output_nums, \n",
        "#         ds=D_S,\n",
        "#         ae=A_E, \n",
        "#         ag=A_G,\n",
        "#         alpha=alpha\n",
        "#     ).UNet()\n",
        "\n",
        "#     model.compile(\n",
        "#         loss= 'mean_absolute_error', \n",
        "#         optimizer= optimizer, \n",
        "#         metrics= ['mean_squared_error','accuracy']\n",
        "#     )\n",
        "#     #\n",
        "# elif D_S == 1:\n",
        "#     # Build model for EEG Motion Artifact Removal - Deep Unet Architecture\n",
        "#     # AutoEncoder should be set at 'FALSE' for the Deep U-net model for Signal Reconstruction\n",
        "#     # D_S = 1, A_E = 0\n",
        "#     model = UNet(\n",
        "#         signal_length, model_depth, \n",
        "#         num_channel, \n",
        "#         model_width, \n",
        "#         kernel_size, \n",
        "#         problem_type=problem_type, \n",
        "#         output_nums=output_nums, \n",
        "#         ds=D_S,\n",
        "#         ae=A_E,\n",
        "#         ag=A_G, \n",
        "#         alpha=alpha\n",
        "#     ).MultiResUNet()\n",
        "\n",
        "\n",
        "model = tf.keras.models.load_model(model_path, compile=False)\n",
        "\n",
        "\n",
        "\n",
        "for idx, layer in enumerate(model.layers):\n",
        "    if idx == 99:\n",
        "        layer.trainable = True\n",
        "    elif idx < 208:\n",
        "        layer.trainable = False\n",
        "    else:\n",
        "        layer.trainable = True\n",
        "\n",
        "# model.get_layer('conv1d_50').trainable = True\n",
        "# model.get_layer('conv1d_59').trainable = True\n",
        "# model.get_layer('conv1d_60').trainable = True\n",
        "\n",
        "# model.summary()\n",
        "\n",
        "model.compile(\n",
        "    loss= 'mean_absolute_error', \n",
        "    optimizer= optimizer, \n",
        "    metrics= ['mean_squared_error'], \n",
        "    loss_weights= loss_weights\n",
        ")"
      ],
      "metadata": {
        "id": "9QFSxxd2RurP"
      },
      "execution_count": 13,
      "outputs": []
    },
    {
      "cell_type": "code",
      "source": [
        "# config = model_name + str(signal_length) + '_' \\\n",
        "#             + str(N_CHANNELS) + '_' + str(model_width) +'_' \\\n",
        "#             + str(model_depth) + '_' + str(num_channel) + '_all_vel_' \\\n",
        "#             + str(D_S) + str(A_G) + '_axis_corrected_cv'"
      ],
      "metadata": {
        "id": "BSDNA2ZWRxUk"
      },
      "execution_count": 14,
      "outputs": []
    },
    {
      "cell_type": "code",
      "source": [
        "config = \"TLDB2_\" + model_name + str(D_S) + str(A_G) + '_paper_v1'"
      ],
      "metadata": {
        "id": "bcBFcYuUy7Df"
      },
      "execution_count": 15,
      "outputs": []
    },
    {
      "cell_type": "code",
      "source": [
        "if D_S == 0:\n",
        "    callbacks = [\n",
        "        tf.keras.callbacks.EarlyStopping(monitor='val_loss', patience=30, mode='min', restore_best_weights=True), \n",
        "        tf.keras.callbacks.ModelCheckpoint(\n",
        "            'trained_models/' + config +'.h5', \n",
        "                verbose=1, \n",
        "                monitor='val_loss', \n",
        "                save_best_only=True, \n",
        "                mode='min'\n",
        "        )\n",
        "    ]\n",
        "    history = model.fit(\n",
        "        X_Train, Y_Train, \n",
        "        epochs=300, \n",
        "        batch_size=64, \n",
        "        verbose=1, \n",
        "        validation_split=0.2, \n",
        "        shuffle=True, \n",
        "        callbacks=callbacks\n",
        "    )\n",
        "    \n",
        "elif D_S == 1:\n",
        "    callbacks = [\n",
        "        tf.keras.callbacks.EarlyStopping(monitor='val_out_loss', patience=30, mode='min', restore_best_weights=True), \n",
        "        tf.keras.callbacks.ModelCheckpoint(\n",
        "            'trained_models/' + config + '.h5', \n",
        "                verbose=1, \n",
        "                monitor='val_loss', \n",
        "                save_best_only=True, \n",
        "                mode='min'\n",
        "        )\n",
        "    ]\n",
        "    history = model.fit(\n",
        "        X_Train1, \n",
        "        Y_Train_dict, \n",
        "        epochs=300, \n",
        "        batch_size=64, \n",
        "        verbose=1, \n",
        "        validation_split=0.2, \n",
        "        shuffle=True, \n",
        "        callbacks=callbacks\n",
        "    )"
      ],
      "metadata": {
        "id": "IpKb2_7xR1Al",
        "outputId": "47c1ec85-2353-4a30-c173-7661e1e5911f",
        "colab": {
          "base_uri": "https://localhost:8080/"
        }
      },
      "execution_count": 16,
      "outputs": [
        {
          "output_type": "stream",
          "name": "stdout",
          "text": [
            "Epoch 1/300\n",
            "5/5 [==============================] - ETA: 0s - loss: 0.1565 - mean_squared_error: 0.0645\n",
            "Epoch 00001: val_loss improved from inf to 0.12751, saving model to trained_models/TLDB2_MultiResUNet00_paper_v1.h5\n"
          ]
        },
        {
          "output_type": "stream",
          "name": "stderr",
          "text": [
            "/usr/local/lib/python3.7/dist-packages/keras/engine/functional.py:1410: CustomMaskWarning: Custom mask layers require a config and must override get_config. When loading, the custom mask layer must be passed to the custom_objects argument.\n",
            "  layer_config = serialize_layer_fn(layer)\n"
          ]
        },
        {
          "output_type": "stream",
          "name": "stdout",
          "text": [
            "5/5 [==============================] - 27s 1s/step - loss: 0.1565 - mean_squared_error: 0.0645 - val_loss: 0.1275 - val_mean_squared_error: 0.0416\n",
            "Epoch 2/300\n",
            "4/5 [=======================>......] - ETA: 0s - loss: 0.1416 - mean_squared_error: 0.0547\n",
            "Epoch 00002: val_loss improved from 0.12751 to 0.12228, saving model to trained_models/TLDB2_MultiResUNet00_paper_v1.h5\n",
            "5/5 [==============================] - 1s 230ms/step - loss: 0.1422 - mean_squared_error: 0.0553 - val_loss: 0.1223 - val_mean_squared_error: 0.0387\n",
            "Epoch 3/300\n",
            "4/5 [=======================>......] - ETA: 0s - loss: 0.1361 - mean_squared_error: 0.0519\n",
            "Epoch 00003: val_loss improved from 0.12228 to 0.11798, saving model to trained_models/TLDB2_MultiResUNet00_paper_v1.h5\n",
            "5/5 [==============================] - 1s 224ms/step - loss: 0.1351 - mean_squared_error: 0.0513 - val_loss: 0.1180 - val_mean_squared_error: 0.0358\n",
            "Epoch 4/300\n",
            "4/5 [=======================>......] - ETA: 0s - loss: 0.1314 - mean_squared_error: 0.0490\n",
            "Epoch 00004: val_loss improved from 0.11798 to 0.11564, saving model to trained_models/TLDB2_MultiResUNet00_paper_v1.h5\n",
            "5/5 [==============================] - 1s 227ms/step - loss: 0.1303 - mean_squared_error: 0.0482 - val_loss: 0.1156 - val_mean_squared_error: 0.0343\n",
            "Epoch 5/300\n",
            "4/5 [=======================>......] - ETA: 0s - loss: 0.1272 - mean_squared_error: 0.0464\n",
            "Epoch 00005: val_loss improved from 0.11564 to 0.11362, saving model to trained_models/TLDB2_MultiResUNet00_paper_v1.h5\n",
            "5/5 [==============================] - 1s 224ms/step - loss: 0.1269 - mean_squared_error: 0.0460 - val_loss: 0.1136 - val_mean_squared_error: 0.0331\n",
            "Epoch 6/300\n",
            "4/5 [=======================>......] - ETA: 0s - loss: 0.1242 - mean_squared_error: 0.0443\n",
            "Epoch 00006: val_loss improved from 0.11362 to 0.11147, saving model to trained_models/TLDB2_MultiResUNet00_paper_v1.h5\n",
            "5/5 [==============================] - 1s 227ms/step - loss: 0.1237 - mean_squared_error: 0.0441 - val_loss: 0.1115 - val_mean_squared_error: 0.0322\n",
            "Epoch 7/300\n",
            "4/5 [=======================>......] - ETA: 0s - loss: 0.1219 - mean_squared_error: 0.0431\n",
            "Epoch 00007: val_loss improved from 0.11147 to 0.10980, saving model to trained_models/TLDB2_MultiResUNet00_paper_v1.h5\n",
            "5/5 [==============================] - 1s 231ms/step - loss: 0.1210 - mean_squared_error: 0.0425 - val_loss: 0.1098 - val_mean_squared_error: 0.0314\n",
            "Epoch 8/300\n",
            "4/5 [=======================>......] - ETA: 0s - loss: 0.1191 - mean_squared_error: 0.0415\n",
            "Epoch 00008: val_loss improved from 0.10980 to 0.10840, saving model to trained_models/TLDB2_MultiResUNet00_paper_v1.h5\n",
            "5/5 [==============================] - 1s 227ms/step - loss: 0.1188 - mean_squared_error: 0.0412 - val_loss: 0.1084 - val_mean_squared_error: 0.0309\n",
            "Epoch 9/300\n",
            "4/5 [=======================>......] - ETA: 0s - loss: 0.1166 - mean_squared_error: 0.0399\n",
            "Epoch 00009: val_loss improved from 0.10840 to 0.10750, saving model to trained_models/TLDB2_MultiResUNet00_paper_v1.h5\n",
            "5/5 [==============================] - 1s 226ms/step - loss: 0.1169 - mean_squared_error: 0.0403 - val_loss: 0.1075 - val_mean_squared_error: 0.0305\n",
            "Epoch 10/300\n",
            "4/5 [=======================>......] - ETA: 0s - loss: 0.1154 - mean_squared_error: 0.0394\n",
            "Epoch 00010: val_loss improved from 0.10750 to 0.10740, saving model to trained_models/TLDB2_MultiResUNet00_paper_v1.h5\n",
            "5/5 [==============================] - 1s 227ms/step - loss: 0.1152 - mean_squared_error: 0.0393 - val_loss: 0.1074 - val_mean_squared_error: 0.0303\n",
            "Epoch 11/300\n",
            "4/5 [=======================>......] - ETA: 0s - loss: 0.1138 - mean_squared_error: 0.0386\n",
            "Epoch 00011: val_loss improved from 0.10740 to 0.10654, saving model to trained_models/TLDB2_MultiResUNet00_paper_v1.h5\n",
            "5/5 [==============================] - 1s 227ms/step - loss: 0.1136 - mean_squared_error: 0.0384 - val_loss: 0.1065 - val_mean_squared_error: 0.0300\n",
            "Epoch 12/300\n",
            "4/5 [=======================>......] - ETA: 0s - loss: 0.1110 - mean_squared_error: 0.0366\n",
            "Epoch 00012: val_loss improved from 0.10654 to 0.10584, saving model to trained_models/TLDB2_MultiResUNet00_paper_v1.h5\n",
            "5/5 [==============================] - 1s 223ms/step - loss: 0.1117 - mean_squared_error: 0.0373 - val_loss: 0.1058 - val_mean_squared_error: 0.0296\n",
            "Epoch 13/300\n",
            "4/5 [=======================>......] - ETA: 0s - loss: 0.1110 - mean_squared_error: 0.0367\n",
            "Epoch 00013: val_loss improved from 0.10584 to 0.10559, saving model to trained_models/TLDB2_MultiResUNet00_paper_v1.h5\n",
            "5/5 [==============================] - 1s 219ms/step - loss: 0.1104 - mean_squared_error: 0.0362 - val_loss: 0.1056 - val_mean_squared_error: 0.0294\n",
            "Epoch 14/300\n",
            "4/5 [=======================>......] - ETA: 0s - loss: 0.1089 - mean_squared_error: 0.0357\n",
            "Epoch 00014: val_loss improved from 0.10559 to 0.10545, saving model to trained_models/TLDB2_MultiResUNet00_paper_v1.h5\n",
            "5/5 [==============================] - 1s 227ms/step - loss: 0.1091 - mean_squared_error: 0.0357 - val_loss: 0.1054 - val_mean_squared_error: 0.0295\n",
            "Epoch 15/300\n",
            "4/5 [=======================>......] - ETA: 0s - loss: 0.1072 - mean_squared_error: 0.0351\n",
            "Epoch 00015: val_loss improved from 0.10545 to 0.10453, saving model to trained_models/TLDB2_MultiResUNet00_paper_v1.h5\n",
            "5/5 [==============================] - 1s 224ms/step - loss: 0.1076 - mean_squared_error: 0.0352 - val_loss: 0.1045 - val_mean_squared_error: 0.0294\n",
            "Epoch 16/300\n",
            "4/5 [=======================>......] - ETA: 0s - loss: 0.1065 - mean_squared_error: 0.0350\n",
            "Epoch 00016: val_loss improved from 0.10453 to 0.10395, saving model to trained_models/TLDB2_MultiResUNet00_paper_v1.h5\n",
            "5/5 [==============================] - 1s 219ms/step - loss: 0.1065 - mean_squared_error: 0.0349 - val_loss: 0.1039 - val_mean_squared_error: 0.0291\n",
            "Epoch 17/300\n",
            "4/5 [=======================>......] - ETA: 0s - loss: 0.1052 - mean_squared_error: 0.0344\n",
            "Epoch 00017: val_loss improved from 0.10395 to 0.10355, saving model to trained_models/TLDB2_MultiResUNet00_paper_v1.h5\n",
            "5/5 [==============================] - 1s 222ms/step - loss: 0.1053 - mean_squared_error: 0.0344 - val_loss: 0.1035 - val_mean_squared_error: 0.0290\n",
            "Epoch 18/300\n",
            "4/5 [=======================>......] - ETA: 0s - loss: 0.1038 - mean_squared_error: 0.0334\n",
            "Epoch 00018: val_loss improved from 0.10355 to 0.10339, saving model to trained_models/TLDB2_MultiResUNet00_paper_v1.h5\n",
            "5/5 [==============================] - 1s 219ms/step - loss: 0.1042 - mean_squared_error: 0.0338 - val_loss: 0.1034 - val_mean_squared_error: 0.0289\n",
            "Epoch 19/300\n",
            "4/5 [=======================>......] - ETA: 0s - loss: 0.1023 - mean_squared_error: 0.0326\n",
            "Epoch 00019: val_loss improved from 0.10339 to 0.10331, saving model to trained_models/TLDB2_MultiResUNet00_paper_v1.h5\n",
            "5/5 [==============================] - 1s 225ms/step - loss: 0.1029 - mean_squared_error: 0.0330 - val_loss: 0.1033 - val_mean_squared_error: 0.0288\n",
            "Epoch 20/300\n",
            "4/5 [=======================>......] - ETA: 0s - loss: 0.1021 - mean_squared_error: 0.0326\n",
            "Epoch 00020: val_loss did not improve from 0.10331\n",
            "5/5 [==============================] - 0s 64ms/step - loss: 0.1018 - mean_squared_error: 0.0324 - val_loss: 0.1034 - val_mean_squared_error: 0.0289\n",
            "Epoch 21/300\n",
            "4/5 [=======================>......] - ETA: 0s - loss: 0.1015 - mean_squared_error: 0.0323\n",
            "Epoch 00021: val_loss improved from 0.10331 to 0.10312, saving model to trained_models/TLDB2_MultiResUNet00_paper_v1.h5\n",
            "5/5 [==============================] - 1s 221ms/step - loss: 0.1009 - mean_squared_error: 0.0320 - val_loss: 0.1031 - val_mean_squared_error: 0.0289\n",
            "Epoch 22/300\n",
            "4/5 [=======================>......] - ETA: 0s - loss: 0.0995 - mean_squared_error: 0.0312\n",
            "Epoch 00022: val_loss improved from 0.10312 to 0.10283, saving model to trained_models/TLDB2_MultiResUNet00_paper_v1.h5\n",
            "5/5 [==============================] - 1s 223ms/step - loss: 0.0999 - mean_squared_error: 0.0316 - val_loss: 0.1028 - val_mean_squared_error: 0.0288\n",
            "Epoch 23/300\n",
            "4/5 [=======================>......] - ETA: 0s - loss: 0.0990 - mean_squared_error: 0.0311\n",
            "Epoch 00023: val_loss did not improve from 0.10283\n",
            "5/5 [==============================] - 0s 67ms/step - loss: 0.0990 - mean_squared_error: 0.0310 - val_loss: 0.1029 - val_mean_squared_error: 0.0288\n",
            "Epoch 24/300\n",
            "4/5 [=======================>......] - ETA: 0s - loss: 0.0971 - mean_squared_error: 0.0300\n",
            "Epoch 00024: val_loss improved from 0.10283 to 0.10270, saving model to trained_models/TLDB2_MultiResUNet00_paper_v1.h5\n",
            "5/5 [==============================] - 1s 219ms/step - loss: 0.0982 - mean_squared_error: 0.0306 - val_loss: 0.1027 - val_mean_squared_error: 0.0289\n",
            "Epoch 25/300\n",
            "4/5 [=======================>......] - ETA: 0s - loss: 0.0973 - mean_squared_error: 0.0304\n",
            "Epoch 00025: val_loss improved from 0.10270 to 0.10251, saving model to trained_models/TLDB2_MultiResUNet00_paper_v1.h5\n",
            "5/5 [==============================] - 1s 221ms/step - loss: 0.0972 - mean_squared_error: 0.0303 - val_loss: 0.1025 - val_mean_squared_error: 0.0288\n",
            "Epoch 26/300\n",
            "4/5 [=======================>......] - ETA: 0s - loss: 0.0968 - mean_squared_error: 0.0302\n",
            "Epoch 00026: val_loss improved from 0.10251 to 0.10247, saving model to trained_models/TLDB2_MultiResUNet00_paper_v1.h5\n",
            "5/5 [==============================] - 1s 219ms/step - loss: 0.0960 - mean_squared_error: 0.0297 - val_loss: 0.1025 - val_mean_squared_error: 0.0286\n",
            "Epoch 27/300\n",
            "4/5 [=======================>......] - ETA: 0s - loss: 0.0966 - mean_squared_error: 0.0299\n",
            "Epoch 00027: val_loss improved from 0.10247 to 0.10244, saving model to trained_models/TLDB2_MultiResUNet00_paper_v1.h5\n",
            "5/5 [==============================] - 1s 221ms/step - loss: 0.0957 - mean_squared_error: 0.0294 - val_loss: 0.1024 - val_mean_squared_error: 0.0288\n",
            "Epoch 28/300\n",
            "4/5 [=======================>......] - ETA: 0s - loss: 0.0948 - mean_squared_error: 0.0294\n",
            "Epoch 00028: val_loss did not improve from 0.10244\n",
            "5/5 [==============================] - 0s 72ms/step - loss: 0.0944 - mean_squared_error: 0.0291 - val_loss: 0.1029 - val_mean_squared_error: 0.0291\n",
            "Epoch 29/300\n",
            "4/5 [=======================>......] - ETA: 0s - loss: 0.0948 - mean_squared_error: 0.0295\n",
            "Epoch 00029: val_loss did not improve from 0.10244\n",
            "5/5 [==============================] - 0s 68ms/step - loss: 0.0940 - mean_squared_error: 0.0290 - val_loss: 0.1033 - val_mean_squared_error: 0.0293\n",
            "Epoch 30/300\n",
            "4/5 [=======================>......] - ETA: 0s - loss: 0.0926 - mean_squared_error: 0.0284\n",
            "Epoch 00030: val_loss did not improve from 0.10244\n",
            "5/5 [==============================] - 0s 68ms/step - loss: 0.0932 - mean_squared_error: 0.0286 - val_loss: 0.1026 - val_mean_squared_error: 0.0289\n",
            "Epoch 31/300\n",
            "4/5 [=======================>......] - ETA: 0s - loss: 0.0919 - mean_squared_error: 0.0280\n",
            "Epoch 00031: val_loss did not improve from 0.10244\n",
            "5/5 [==============================] - 0s 70ms/step - loss: 0.0922 - mean_squared_error: 0.0281 - val_loss: 0.1025 - val_mean_squared_error: 0.0289\n",
            "Epoch 32/300\n",
            "4/5 [=======================>......] - ETA: 0s - loss: 0.0914 - mean_squared_error: 0.0277\n",
            "Epoch 00032: val_loss did not improve from 0.10244\n",
            "5/5 [==============================] - 0s 65ms/step - loss: 0.0913 - mean_squared_error: 0.0276 - val_loss: 0.1028 - val_mean_squared_error: 0.0289\n",
            "Epoch 33/300\n",
            "4/5 [=======================>......] - ETA: 0s - loss: 0.0912 - mean_squared_error: 0.0276\n",
            "Epoch 00033: val_loss improved from 0.10244 to 0.10237, saving model to trained_models/TLDB2_MultiResUNet00_paper_v1.h5\n",
            "5/5 [==============================] - 1s 222ms/step - loss: 0.0910 - mean_squared_error: 0.0275 - val_loss: 0.1024 - val_mean_squared_error: 0.0291\n",
            "Epoch 34/300\n",
            "4/5 [=======================>......] - ETA: 0s - loss: 0.0894 - mean_squared_error: 0.0271\n",
            "Epoch 00034: val_loss did not improve from 0.10237\n",
            "5/5 [==============================] - 0s 68ms/step - loss: 0.0898 - mean_squared_error: 0.0271 - val_loss: 0.1034 - val_mean_squared_error: 0.0292\n",
            "Epoch 35/300\n",
            "4/5 [=======================>......] - ETA: 0s - loss: 0.0893 - mean_squared_error: 0.0265\n",
            "Epoch 00035: val_loss did not improve from 0.10237\n",
            "5/5 [==============================] - 0s 66ms/step - loss: 0.0897 - mean_squared_error: 0.0266 - val_loss: 0.1031 - val_mean_squared_error: 0.0293\n",
            "Epoch 36/300\n",
            "4/5 [=======================>......] - ETA: 0s - loss: 0.0883 - mean_squared_error: 0.0261\n",
            "Epoch 00036: val_loss improved from 0.10237 to 0.10184, saving model to trained_models/TLDB2_MultiResUNet00_paper_v1.h5\n",
            "5/5 [==============================] - 1s 224ms/step - loss: 0.0892 - mean_squared_error: 0.0267 - val_loss: 0.1018 - val_mean_squared_error: 0.0290\n",
            "Epoch 37/300\n",
            "4/5 [=======================>......] - ETA: 0s - loss: 0.0886 - mean_squared_error: 0.0262\n",
            "Epoch 00037: val_loss did not improve from 0.10184\n",
            "5/5 [==============================] - 0s 66ms/step - loss: 0.0882 - mean_squared_error: 0.0260 - val_loss: 0.1027 - val_mean_squared_error: 0.0287\n",
            "Epoch 38/300\n",
            "4/5 [=======================>......] - ETA: 0s - loss: 0.0875 - mean_squared_error: 0.0255\n",
            "Epoch 00038: val_loss did not improve from 0.10184\n",
            "5/5 [==============================] - 0s 66ms/step - loss: 0.0877 - mean_squared_error: 0.0255 - val_loss: 0.1022 - val_mean_squared_error: 0.0290\n",
            "Epoch 39/300\n",
            "4/5 [=======================>......] - ETA: 0s - loss: 0.0857 - mean_squared_error: 0.0249\n",
            "Epoch 00039: val_loss did not improve from 0.10184\n",
            "5/5 [==============================] - 0s 65ms/step - loss: 0.0867 - mean_squared_error: 0.0254 - val_loss: 0.1029 - val_mean_squared_error: 0.0294\n",
            "Epoch 40/300\n",
            "4/5 [=======================>......] - ETA: 0s - loss: 0.0856 - mean_squared_error: 0.0249\n",
            "Epoch 00040: val_loss did not improve from 0.10184\n",
            "5/5 [==============================] - 0s 66ms/step - loss: 0.0859 - mean_squared_error: 0.0251 - val_loss: 0.1028 - val_mean_squared_error: 0.0291\n",
            "Epoch 41/300\n",
            "4/5 [=======================>......] - ETA: 0s - loss: 0.0853 - mean_squared_error: 0.0249\n",
            "Epoch 00041: val_loss did not improve from 0.10184\n",
            "5/5 [==============================] - 0s 68ms/step - loss: 0.0852 - mean_squared_error: 0.0247 - val_loss: 0.1022 - val_mean_squared_error: 0.0292\n",
            "Epoch 42/300\n",
            "4/5 [=======================>......] - ETA: 0s - loss: 0.0835 - mean_squared_error: 0.0241\n",
            "Epoch 00042: val_loss did not improve from 0.10184\n",
            "5/5 [==============================] - 0s 66ms/step - loss: 0.0843 - mean_squared_error: 0.0246 - val_loss: 0.1026 - val_mean_squared_error: 0.0291\n",
            "Epoch 43/300\n",
            "4/5 [=======================>......] - ETA: 0s - loss: 0.0833 - mean_squared_error: 0.0235\n",
            "Epoch 00043: val_loss did not improve from 0.10184\n",
            "5/5 [==============================] - 0s 68ms/step - loss: 0.0836 - mean_squared_error: 0.0239 - val_loss: 0.1031 - val_mean_squared_error: 0.0292\n",
            "Epoch 44/300\n",
            "4/5 [=======================>......] - ETA: 0s - loss: 0.0832 - mean_squared_error: 0.0238\n",
            "Epoch 00044: val_loss did not improve from 0.10184\n",
            "5/5 [==============================] - 0s 68ms/step - loss: 0.0829 - mean_squared_error: 0.0236 - val_loss: 0.1028 - val_mean_squared_error: 0.0293\n",
            "Epoch 45/300\n",
            "4/5 [=======================>......] - ETA: 0s - loss: 0.0819 - mean_squared_error: 0.0229\n",
            "Epoch 00045: val_loss did not improve from 0.10184\n",
            "5/5 [==============================] - 0s 67ms/step - loss: 0.0823 - mean_squared_error: 0.0232 - val_loss: 0.1032 - val_mean_squared_error: 0.0293\n",
            "Epoch 46/300\n",
            "4/5 [=======================>......] - ETA: 0s - loss: 0.0811 - mean_squared_error: 0.0226\n",
            "Epoch 00046: val_loss did not improve from 0.10184\n",
            "5/5 [==============================] - 0s 68ms/step - loss: 0.0814 - mean_squared_error: 0.0228 - val_loss: 0.1031 - val_mean_squared_error: 0.0296\n",
            "Epoch 47/300\n",
            "4/5 [=======================>......] - ETA: 0s - loss: 0.0805 - mean_squared_error: 0.0225\n",
            "Epoch 00047: val_loss did not improve from 0.10184\n",
            "5/5 [==============================] - 0s 65ms/step - loss: 0.0807 - mean_squared_error: 0.0225 - val_loss: 0.1030 - val_mean_squared_error: 0.0294\n",
            "Epoch 48/300\n",
            "4/5 [=======================>......] - ETA: 0s - loss: 0.0795 - mean_squared_error: 0.0220\n",
            "Epoch 00048: val_loss did not improve from 0.10184\n",
            "5/5 [==============================] - 0s 70ms/step - loss: 0.0801 - mean_squared_error: 0.0222 - val_loss: 0.1032 - val_mean_squared_error: 0.0295\n",
            "Epoch 49/300\n",
            "4/5 [=======================>......] - ETA: 0s - loss: 0.0795 - mean_squared_error: 0.0219\n",
            "Epoch 00049: val_loss did not improve from 0.10184\n",
            "5/5 [==============================] - 0s 69ms/step - loss: 0.0795 - mean_squared_error: 0.0218 - val_loss: 0.1040 - val_mean_squared_error: 0.0298\n",
            "Epoch 50/300\n",
            "4/5 [=======================>......] - ETA: 0s - loss: 0.0792 - mean_squared_error: 0.0218\n",
            "Epoch 00050: val_loss did not improve from 0.10184\n",
            "5/5 [==============================] - 0s 66ms/step - loss: 0.0787 - mean_squared_error: 0.0215 - val_loss: 0.1043 - val_mean_squared_error: 0.0302\n",
            "Epoch 51/300\n",
            "4/5 [=======================>......] - ETA: 0s - loss: 0.0785 - mean_squared_error: 0.0215\n",
            "Epoch 00051: val_loss did not improve from 0.10184\n",
            "5/5 [==============================] - 0s 69ms/step - loss: 0.0780 - mean_squared_error: 0.0213 - val_loss: 0.1041 - val_mean_squared_error: 0.0301\n",
            "Epoch 52/300\n",
            "4/5 [=======================>......] - ETA: 0s - loss: 0.0766 - mean_squared_error: 0.0205\n",
            "Epoch 00052: val_loss did not improve from 0.10184\n",
            "5/5 [==============================] - 0s 70ms/step - loss: 0.0773 - mean_squared_error: 0.0211 - val_loss: 0.1043 - val_mean_squared_error: 0.0302\n",
            "Epoch 53/300\n",
            "4/5 [=======================>......] - ETA: 0s - loss: 0.0766 - mean_squared_error: 0.0207\n",
            "Epoch 00053: val_loss did not improve from 0.10184\n",
            "5/5 [==============================] - 0s 67ms/step - loss: 0.0768 - mean_squared_error: 0.0207 - val_loss: 0.1046 - val_mean_squared_error: 0.0304\n",
            "Epoch 54/300\n",
            "4/5 [=======================>......] - ETA: 0s - loss: 0.0762 - mean_squared_error: 0.0207\n",
            "Epoch 00054: val_loss did not improve from 0.10184\n",
            "5/5 [==============================] - 0s 66ms/step - loss: 0.0761 - mean_squared_error: 0.0205 - val_loss: 0.1047 - val_mean_squared_error: 0.0305\n",
            "Epoch 55/300\n",
            "4/5 [=======================>......] - ETA: 0s - loss: 0.0756 - mean_squared_error: 0.0204\n",
            "Epoch 00055: val_loss did not improve from 0.10184\n",
            "5/5 [==============================] - 0s 69ms/step - loss: 0.0756 - mean_squared_error: 0.0203 - val_loss: 0.1051 - val_mean_squared_error: 0.0306\n",
            "Epoch 56/300\n",
            "4/5 [=======================>......] - ETA: 0s - loss: 0.0752 - mean_squared_error: 0.0202\n",
            "Epoch 00056: val_loss did not improve from 0.10184\n",
            "5/5 [==============================] - 0s 66ms/step - loss: 0.0749 - mean_squared_error: 0.0200 - val_loss: 0.1049 - val_mean_squared_error: 0.0307\n",
            "Epoch 57/300\n",
            "4/5 [=======================>......] - ETA: 0s - loss: 0.0748 - mean_squared_error: 0.0201\n",
            "Epoch 00057: val_loss did not improve from 0.10184\n",
            "5/5 [==============================] - 0s 67ms/step - loss: 0.0743 - mean_squared_error: 0.0198 - val_loss: 0.1052 - val_mean_squared_error: 0.0308\n",
            "Epoch 58/300\n",
            "4/5 [=======================>......] - ETA: 0s - loss: 0.0736 - mean_squared_error: 0.0194\n",
            "Epoch 00058: val_loss did not improve from 0.10184\n",
            "5/5 [==============================] - 0s 67ms/step - loss: 0.0736 - mean_squared_error: 0.0194 - val_loss: 0.1050 - val_mean_squared_error: 0.0307\n",
            "Epoch 59/300\n",
            "4/5 [=======================>......] - ETA: 0s - loss: 0.0735 - mean_squared_error: 0.0195\n",
            "Epoch 00059: val_loss did not improve from 0.10184\n",
            "5/5 [==============================] - 0s 68ms/step - loss: 0.0730 - mean_squared_error: 0.0192 - val_loss: 0.1053 - val_mean_squared_error: 0.0308\n",
            "Epoch 60/300\n",
            "4/5 [=======================>......] - ETA: 0s - loss: 0.0722 - mean_squared_error: 0.0189\n",
            "Epoch 00060: val_loss did not improve from 0.10184\n",
            "5/5 [==============================] - 0s 66ms/step - loss: 0.0723 - mean_squared_error: 0.0189 - val_loss: 0.1049 - val_mean_squared_error: 0.0308\n",
            "Epoch 61/300\n",
            "4/5 [=======================>......] - ETA: 0s - loss: 0.0706 - mean_squared_error: 0.0181\n",
            "Epoch 00061: val_loss did not improve from 0.10184\n",
            "5/5 [==============================] - 0s 71ms/step - loss: 0.0717 - mean_squared_error: 0.0188 - val_loss: 0.1061 - val_mean_squared_error: 0.0310\n",
            "Epoch 62/300\n",
            "4/5 [=======================>......] - ETA: 0s - loss: 0.0717 - mean_squared_error: 0.0185\n",
            "Epoch 00062: val_loss did not improve from 0.10184\n",
            "5/5 [==============================] - 0s 68ms/step - loss: 0.0713 - mean_squared_error: 0.0183 - val_loss: 0.1055 - val_mean_squared_error: 0.0310\n",
            "Epoch 63/300\n",
            "4/5 [=======================>......] - ETA: 0s - loss: 0.0710 - mean_squared_error: 0.0184\n",
            "Epoch 00063: val_loss did not improve from 0.10184\n",
            "5/5 [==============================] - 0s 67ms/step - loss: 0.0706 - mean_squared_error: 0.0182 - val_loss: 0.1054 - val_mean_squared_error: 0.0310\n",
            "Epoch 64/300\n",
            "4/5 [=======================>......] - ETA: 0s - loss: 0.0700 - mean_squared_error: 0.0179\n",
            "Epoch 00064: val_loss did not improve from 0.10184\n",
            "5/5 [==============================] - 0s 67ms/step - loss: 0.0701 - mean_squared_error: 0.0180 - val_loss: 0.1061 - val_mean_squared_error: 0.0312\n",
            "Epoch 65/300\n",
            "4/5 [=======================>......] - ETA: 0s - loss: 0.0695 - mean_squared_error: 0.0177\n",
            "Epoch 00065: val_loss did not improve from 0.10184\n",
            "5/5 [==============================] - 0s 66ms/step - loss: 0.0693 - mean_squared_error: 0.0176 - val_loss: 0.1061 - val_mean_squared_error: 0.0311\n",
            "Epoch 66/300\n",
            "4/5 [=======================>......] - ETA: 0s - loss: 0.0689 - mean_squared_error: 0.0175\n",
            "Epoch 00066: val_loss did not improve from 0.10184\n",
            "5/5 [==============================] - 0s 109ms/step - loss: 0.0687 - mean_squared_error: 0.0174 - val_loss: 0.1057 - val_mean_squared_error: 0.0310\n"
          ]
        }
      ]
    },
    {
      "cell_type": "code",
      "source": [
        "optimizer = tf.keras.optimizers.Adam(\n",
        "    learning_rate = 0.00001\n",
        ")\n",
        "model.compile(\n",
        "        loss= correlation_coefficient_loss, \n",
        "        optimizer= optimizer, \n",
        "        metrics= ['mean_squared_error'], \n",
        "        loss_weights= loss_weights\n",
        ")"
      ],
      "metadata": {
        "id": "bdOPe3FtyxAm"
      },
      "execution_count": 17,
      "outputs": []
    },
    {
      "cell_type": "code",
      "source": [
        "if D_S == 0:\n",
        "    callbacks = [\n",
        "        tf.keras.callbacks.EarlyStopping(monitor='val_loss', patience=30, mode='min', restore_best_weights=True), \n",
        "        tf.keras.callbacks.ModelCheckpoint(\n",
        "            'trained_models/' + config +'.h5', \n",
        "                verbose=1, \n",
        "                monitor='val_loss', \n",
        "                save_best_only=True, \n",
        "                mode='min'\n",
        "        )\n",
        "    ]\n",
        "    history = model.fit(\n",
        "        X_Train, Y_Train, \n",
        "        epochs=300, \n",
        "        batch_size=64, \n",
        "        verbose=1, \n",
        "        validation_split=0.2, \n",
        "        shuffle=True, \n",
        "        callbacks=callbacks\n",
        "    )\n",
        "    \n",
        "elif D_S == 1:\n",
        "    callbacks = [\n",
        "        tf.keras.callbacks.EarlyStopping(monitor='val_out_loss', patience=30, mode='min', restore_best_weights=True), \n",
        "        tf.keras.callbacks.ModelCheckpoint(\n",
        "            'trained_models/' + config + '.h5', \n",
        "                verbose=1, \n",
        "                monitor='val_loss', \n",
        "                save_best_only=True, \n",
        "                mode='min'\n",
        "        )\n",
        "    ]\n",
        "    history = model.fit(\n",
        "        X_Train1, \n",
        "        Y_Train_dict, \n",
        "        epochs=300, \n",
        "        batch_size=64, \n",
        "        verbose=1, \n",
        "        validation_split=0.2, \n",
        "        shuffle=True, \n",
        "        callbacks=callbacks\n",
        "    )"
      ],
      "metadata": {
        "id": "tYwvW9BFyyk6",
        "outputId": "e8dddb4f-bfe5-4853-f27d-5692b9d5991c",
        "colab": {
          "base_uri": "https://localhost:8080/"
        }
      },
      "execution_count": 18,
      "outputs": [
        {
          "output_type": "stream",
          "name": "stdout",
          "text": [
            "Epoch 1/300\n",
            "4/5 [=======================>......] - ETA: 0s - loss: 0.0148 - mean_squared_error: 0.0267\n",
            "Epoch 00001: val_loss improved from inf to 0.01833, saving model to trained_models/TLDB2_MultiResUNet00_paper_v1.h5\n"
          ]
        },
        {
          "output_type": "stream",
          "name": "stderr",
          "text": [
            "/usr/local/lib/python3.7/dist-packages/keras/engine/functional.py:1410: CustomMaskWarning: Custom mask layers require a config and must override get_config. When loading, the custom mask layer must be passed to the custom_objects argument.\n",
            "  layer_config = serialize_layer_fn(layer)\n"
          ]
        },
        {
          "output_type": "stream",
          "name": "stdout",
          "text": [
            "5/5 [==============================] - 13s 858ms/step - loss: 0.0145 - mean_squared_error: 0.0263 - val_loss: 0.0183 - val_mean_squared_error: 0.0290\n",
            "Epoch 2/300\n",
            "4/5 [=======================>......] - ETA: 0s - loss: 0.0146 - mean_squared_error: 0.0264\n",
            "Epoch 00002: val_loss did not improve from 0.01833\n",
            "5/5 [==============================] - 0s 77ms/step - loss: 0.0145 - mean_squared_error: 0.0262 - val_loss: 0.0183 - val_mean_squared_error: 0.0290\n",
            "Epoch 3/300\n",
            "4/5 [=======================>......] - ETA: 0s - loss: 0.0142 - mean_squared_error: 0.0261\n",
            "Epoch 00003: val_loss did not improve from 0.01833\n",
            "5/5 [==============================] - 0s 71ms/step - loss: 0.0143 - mean_squared_error: 0.0262 - val_loss: 0.0183 - val_mean_squared_error: 0.0290\n",
            "Epoch 4/300\n",
            "4/5 [=======================>......] - ETA: 0s - loss: 0.0145 - mean_squared_error: 0.0263\n",
            "Epoch 00004: val_loss did not improve from 0.01833\n",
            "5/5 [==============================] - 0s 67ms/step - loss: 0.0144 - mean_squared_error: 0.0261 - val_loss: 0.0184 - val_mean_squared_error: 0.0289\n",
            "Epoch 5/300\n",
            "4/5 [=======================>......] - ETA: 0s - loss: 0.0147 - mean_squared_error: 0.0264\n",
            "Epoch 00005: val_loss did not improve from 0.01833\n",
            "5/5 [==============================] - 0s 69ms/step - loss: 0.0145 - mean_squared_error: 0.0261 - val_loss: 0.0184 - val_mean_squared_error: 0.0289\n",
            "Epoch 6/300\n",
            "4/5 [=======================>......] - ETA: 0s - loss: 0.0142 - mean_squared_error: 0.0259\n",
            "Epoch 00006: val_loss did not improve from 0.01833\n",
            "5/5 [==============================] - 0s 67ms/step - loss: 0.0144 - mean_squared_error: 0.0261 - val_loss: 0.0184 - val_mean_squared_error: 0.0289\n",
            "Epoch 7/300\n",
            "4/5 [=======================>......] - ETA: 0s - loss: 0.0144 - mean_squared_error: 0.0262\n",
            "Epoch 00007: val_loss did not improve from 0.01833\n",
            "5/5 [==============================] - 0s 69ms/step - loss: 0.0142 - mean_squared_error: 0.0260 - val_loss: 0.0184 - val_mean_squared_error: 0.0289\n",
            "Epoch 8/300\n",
            "4/5 [=======================>......] - ETA: 0s - loss: 0.0140 - mean_squared_error: 0.0256\n",
            "Epoch 00008: val_loss did not improve from 0.01833\n",
            "5/5 [==============================] - 0s 67ms/step - loss: 0.0143 - mean_squared_error: 0.0260 - val_loss: 0.0184 - val_mean_squared_error: 0.0289\n",
            "Epoch 9/300\n",
            "4/5 [=======================>......] - ETA: 0s - loss: 0.0144 - mean_squared_error: 0.0262\n",
            "Epoch 00009: val_loss did not improve from 0.01833\n",
            "5/5 [==============================] - 0s 65ms/step - loss: 0.0142 - mean_squared_error: 0.0260 - val_loss: 0.0184 - val_mean_squared_error: 0.0289\n",
            "Epoch 10/300\n",
            "4/5 [=======================>......] - ETA: 0s - loss: 0.0142 - mean_squared_error: 0.0260\n",
            "Epoch 00010: val_loss did not improve from 0.01833\n",
            "5/5 [==============================] - 0s 68ms/step - loss: 0.0141 - mean_squared_error: 0.0259 - val_loss: 0.0184 - val_mean_squared_error: 0.0289\n",
            "Epoch 11/300\n",
            "4/5 [=======================>......] - ETA: 0s - loss: 0.0146 - mean_squared_error: 0.0263\n",
            "Epoch 00011: val_loss did not improve from 0.01833\n",
            "5/5 [==============================] - 0s 68ms/step - loss: 0.0144 - mean_squared_error: 0.0259 - val_loss: 0.0184 - val_mean_squared_error: 0.0289\n",
            "Epoch 12/300\n",
            "4/5 [=======================>......] - ETA: 0s - loss: 0.0142 - mean_squared_error: 0.0260\n",
            "Epoch 00012: val_loss did not improve from 0.01833\n",
            "5/5 [==============================] - 0s 67ms/step - loss: 0.0141 - mean_squared_error: 0.0259 - val_loss: 0.0184 - val_mean_squared_error: 0.0289\n",
            "Epoch 13/300\n",
            "4/5 [=======================>......] - ETA: 0s - loss: 0.0139 - mean_squared_error: 0.0254\n",
            "Epoch 00013: val_loss did not improve from 0.01833\n",
            "5/5 [==============================] - 0s 64ms/step - loss: 0.0142 - mean_squared_error: 0.0259 - val_loss: 0.0184 - val_mean_squared_error: 0.0289\n",
            "Epoch 14/300\n",
            "4/5 [=======================>......] - ETA: 0s - loss: 0.0139 - mean_squared_error: 0.0257\n",
            "Epoch 00014: val_loss did not improve from 0.01833\n",
            "5/5 [==============================] - 0s 68ms/step - loss: 0.0141 - mean_squared_error: 0.0258 - val_loss: 0.0184 - val_mean_squared_error: 0.0289\n",
            "Epoch 15/300\n",
            "4/5 [=======================>......] - ETA: 0s - loss: 0.0142 - mean_squared_error: 0.0260\n",
            "Epoch 00015: val_loss did not improve from 0.01833\n",
            "5/5 [==============================] - 0s 66ms/step - loss: 0.0140 - mean_squared_error: 0.0258 - val_loss: 0.0184 - val_mean_squared_error: 0.0289\n",
            "Epoch 16/300\n",
            "4/5 [=======================>......] - ETA: 0s - loss: 0.0141 - mean_squared_error: 0.0259\n",
            "Epoch 00016: val_loss did not improve from 0.01833\n",
            "5/5 [==============================] - 0s 65ms/step - loss: 0.0140 - mean_squared_error: 0.0258 - val_loss: 0.0184 - val_mean_squared_error: 0.0289\n",
            "Epoch 17/300\n",
            "4/5 [=======================>......] - ETA: 0s - loss: 0.0143 - mean_squared_error: 0.0261\n",
            "Epoch 00017: val_loss did not improve from 0.01833\n",
            "5/5 [==============================] - 0s 68ms/step - loss: 0.0141 - mean_squared_error: 0.0258 - val_loss: 0.0184 - val_mean_squared_error: 0.0289\n",
            "Epoch 18/300\n",
            "4/5 [=======================>......] - ETA: 0s - loss: 0.0143 - mean_squared_error: 0.0261\n",
            "Epoch 00018: val_loss did not improve from 0.01833\n",
            "5/5 [==============================] - 0s 66ms/step - loss: 0.0141 - mean_squared_error: 0.0257 - val_loss: 0.0184 - val_mean_squared_error: 0.0289\n",
            "Epoch 19/300\n",
            "4/5 [=======================>......] - ETA: 0s - loss: 0.0142 - mean_squared_error: 0.0258\n",
            "Epoch 00019: val_loss did not improve from 0.01833\n",
            "5/5 [==============================] - 0s 67ms/step - loss: 0.0142 - mean_squared_error: 0.0257 - val_loss: 0.0185 - val_mean_squared_error: 0.0289\n",
            "Epoch 20/300\n",
            "4/5 [=======================>......] - ETA: 0s - loss: 0.0137 - mean_squared_error: 0.0252\n",
            "Epoch 00020: val_loss did not improve from 0.01833\n",
            "5/5 [==============================] - 0s 66ms/step - loss: 0.0142 - mean_squared_error: 0.0257 - val_loss: 0.0185 - val_mean_squared_error: 0.0289\n",
            "Epoch 21/300\n",
            "4/5 [=======================>......] - ETA: 0s - loss: 0.0142 - mean_squared_error: 0.0260\n",
            "Epoch 00021: val_loss did not improve from 0.01833\n",
            "5/5 [==============================] - 0s 66ms/step - loss: 0.0140 - mean_squared_error: 0.0257 - val_loss: 0.0185 - val_mean_squared_error: 0.0289\n",
            "Epoch 22/300\n",
            "4/5 [=======================>......] - ETA: 0s - loss: 0.0142 - mean_squared_error: 0.0259\n",
            "Epoch 00022: val_loss did not improve from 0.01833\n",
            "5/5 [==============================] - 0s 65ms/step - loss: 0.0140 - mean_squared_error: 0.0257 - val_loss: 0.0185 - val_mean_squared_error: 0.0289\n",
            "Epoch 23/300\n",
            "4/5 [=======================>......] - ETA: 0s - loss: 0.0137 - mean_squared_error: 0.0253\n",
            "Epoch 00023: val_loss did not improve from 0.01833\n",
            "5/5 [==============================] - 0s 67ms/step - loss: 0.0140 - mean_squared_error: 0.0256 - val_loss: 0.0185 - val_mean_squared_error: 0.0289\n",
            "Epoch 24/300\n",
            "4/5 [=======================>......] - ETA: 0s - loss: 0.0142 - mean_squared_error: 0.0258\n",
            "Epoch 00024: val_loss did not improve from 0.01833\n",
            "5/5 [==============================] - 0s 67ms/step - loss: 0.0141 - mean_squared_error: 0.0256 - val_loss: 0.0185 - val_mean_squared_error: 0.0289\n",
            "Epoch 25/300\n",
            "4/5 [=======================>......] - ETA: 0s - loss: 0.0140 - mean_squared_error: 0.0257\n",
            "Epoch 00025: val_loss did not improve from 0.01833\n",
            "5/5 [==============================] - 0s 66ms/step - loss: 0.0139 - mean_squared_error: 0.0256 - val_loss: 0.0185 - val_mean_squared_error: 0.0289\n",
            "Epoch 26/300\n",
            "4/5 [=======================>......] - ETA: 0s - loss: 0.0143 - mean_squared_error: 0.0259\n",
            "Epoch 00026: val_loss did not improve from 0.01833\n",
            "5/5 [==============================] - 0s 65ms/step - loss: 0.0140 - mean_squared_error: 0.0256 - val_loss: 0.0185 - val_mean_squared_error: 0.0289\n",
            "Epoch 27/300\n",
            "4/5 [=======================>......] - ETA: 0s - loss: 0.0139 - mean_squared_error: 0.0254\n",
            "Epoch 00027: val_loss did not improve from 0.01833\n",
            "5/5 [==============================] - 0s 70ms/step - loss: 0.0140 - mean_squared_error: 0.0256 - val_loss: 0.0185 - val_mean_squared_error: 0.0289\n",
            "Epoch 28/300\n",
            "4/5 [=======================>......] - ETA: 0s - loss: 0.0139 - mean_squared_error: 0.0255\n",
            "Epoch 00028: val_loss did not improve from 0.01833\n",
            "5/5 [==============================] - 0s 66ms/step - loss: 0.0140 - mean_squared_error: 0.0256 - val_loss: 0.0185 - val_mean_squared_error: 0.0289\n",
            "Epoch 29/300\n",
            "4/5 [=======================>......] - ETA: 0s - loss: 0.0141 - mean_squared_error: 0.0258\n",
            "Epoch 00029: val_loss did not improve from 0.01833\n",
            "5/5 [==============================] - 0s 68ms/step - loss: 0.0139 - mean_squared_error: 0.0256 - val_loss: 0.0185 - val_mean_squared_error: 0.0289\n",
            "Epoch 30/300\n",
            "4/5 [=======================>......] - ETA: 0s - loss: 0.0144 - mean_squared_error: 0.0261\n",
            "Epoch 00030: val_loss did not improve from 0.01833\n",
            "5/5 [==============================] - 0s 68ms/step - loss: 0.0141 - mean_squared_error: 0.0255 - val_loss: 0.0185 - val_mean_squared_error: 0.0289\n",
            "Epoch 31/300\n",
            "4/5 [=======================>......] - ETA: 0s - loss: 0.0143 - mean_squared_error: 0.0258\n",
            "Epoch 00031: val_loss did not improve from 0.01833\n",
            "5/5 [==============================] - 0s 111ms/step - loss: 0.0141 - mean_squared_error: 0.0255 - val_loss: 0.0185 - val_mean_squared_error: 0.0289\n"
          ]
        }
      ]
    },
    {
      "cell_type": "code",
      "source": [
        "if D_S == 0:\n",
        "    GRF_pred = model.predict(X_Test, verbose=1)\n",
        "    print(GRF_pred.shape)\n",
        "elif D_S == 1:\n",
        "    GRF_pred = model.predict(X_Test1, verbose=1)\n",
        "    print(GRF_pred[0].shape)"
      ],
      "metadata": {
        "id": "NYMwgI1XR6yP",
        "outputId": "25e9dc35-f1b8-423d-bc90-488a716b6ae8",
        "colab": {
          "base_uri": "https://localhost:8080/"
        }
      },
      "execution_count": 19,
      "outputs": [
        {
          "output_type": "stream",
          "name": "stdout",
          "text": [
            "42/42 [==============================] - 4s 35ms/step\n",
            "(1315, 1024, 1)\n"
          ]
        }
      ]
    },
    {
      "cell_type": "code",
      "source": [
        "if D_S == 1:\n",
        "    ground_truth_mean = np.mean(Y_Test, axis=0)\n",
        "    ground_truth_std = np.std(Y_Test, axis=0)\n",
        "    prediction = np.nan_to_num(GRF_pred[0][:, :, 0])\n",
        "    prediction_mean = np.mean(prediction, axis=0)\n",
        "    prediction_std = np.std(prediction, axis=0)\n",
        "\n",
        "else:\n",
        "    ground_truth_mean = np.mean(Y_Test, axis=0)\n",
        "    ground_truth_std = np.std(Y_Test, axis=0)\n",
        "    prediction = np.nan_to_num(GRF_pred[:, :, 0])\n",
        "    prediction_mean = np.mean(prediction, axis=0)\n",
        "    prediction_std = np.std(prediction, axis=0)"
      ],
      "metadata": {
        "id": "o7fMZhlCR86Q"
      },
      "execution_count": 20,
      "outputs": []
    },
    {
      "cell_type": "code",
      "source": [
        "R = np.corrcoef(ground_truth_mean, prediction_mean)[0, 1]"
      ],
      "metadata": {
        "id": "HlICv49uR_pp"
      },
      "execution_count": 21,
      "outputs": []
    },
    {
      "cell_type": "code",
      "source": [
        "# sns.set_palette(\"Set1\")\n",
        "\n",
        "plt.figure(figsize=(12, 7))\n",
        "x = np.linspace(0, 100, FRAME_LEN)\n",
        "plt.plot(x, ground_truth_mean, linewidth=3, label='Ground Truth')\n",
        "plt.fill_between(\n",
        "    x, ground_truth_mean + ground_truth_std,\n",
        "    ground_truth_mean - ground_truth_std, alpha=0.3,\n",
        "    label='Ground Truth +/- STD'\n",
        ")\n",
        "plt.plot(x, prediction_mean, linewidth=3, label='Prediction')\n",
        "plt.fill_between(\n",
        "    x, prediction_mean + prediction_std,\n",
        "    prediction_mean - prediction_std, alpha=0.3,\n",
        "    label='Prediction +/- STD'\n",
        ")\n",
        "plt.legend()\n",
        "plt.title(r\"$\\rho = $\" + f\"{round(R, 5)}\")\n",
        "plt.xlabel('Stance Phase (%)')\n",
        "plt.ylabel('Moment (Nm)')\n",
        "plt.savefig(figures_dir + 'Results_' + config + '.png')\n",
        "plt.savefig(figures_dir + 'Results_' + config + '.eps')\n",
        "plt.savefig(figures_dir + 'Results_' + config + '.svg')\n",
        "plt.show()"
      ],
      "metadata": {
        "id": "E7RUwpkLSCL9",
        "outputId": "ddfbfc0d-baf4-4641-af7e-3bec263ec5ae",
        "colab": {
          "base_uri": "https://localhost:8080/",
          "height": 718
        }
      },
      "execution_count": 22,
      "outputs": [
        {
          "output_type": "stream",
          "name": "stderr",
          "text": [
            "The PostScript backend does not support transparency; partially transparent artists will be rendered opaque.\n",
            "The PostScript backend does not support transparency; partially transparent artists will be rendered opaque.\n",
            "The PostScript backend does not support transparency; partially transparent artists will be rendered opaque.\n",
            "The PostScript backend does not support transparency; partially transparent artists will be rendered opaque.\n",
            "The PostScript backend does not support transparency; partially transparent artists will be rendered opaque.\n",
            "The PostScript backend does not support transparency; partially transparent artists will be rendered opaque.\n",
            "The PostScript backend does not support transparency; partially transparent artists will be rendered opaque.\n",
            "The PostScript backend does not support transparency; partially transparent artists will be rendered opaque.\n",
            "The PostScript backend does not support transparency; partially transparent artists will be rendered opaque.\n",
            "The PostScript backend does not support transparency; partially transparent artists will be rendered opaque.\n",
            "The PostScript backend does not support transparency; partially transparent artists will be rendered opaque.\n",
            "The PostScript backend does not support transparency; partially transparent artists will be rendered opaque.\n"
          ]
        },
        {
          "output_type": "display_data",
          "data": {
            "image/png": "[encoded data removed]",
            "text/plain": [
              "<Figure size 864x504 with 1 Axes>"
            ]
          },
          "metadata": {}
        }
      ]
    },
    {
      "cell_type": "code",
      "source": [
        "# from shutil import copy\n",
        "# copy('trained_models/' + config + '.h5', models_dir)\n",
        "# joblib.dump(history, models_dir + \\\n",
        "#             'History_' + config + '.joblib')"
      ],
      "metadata": {
        "id": "vMdT1UpJSExp"
      },
      "execution_count": 23,
      "outputs": []
    },
    {
      "cell_type": "code",
      "source": [
        "# def history_plot(history):\n",
        "#     # list all dictionaries in history\n",
        "#     print(history.history.keys())\n",
        "#     # summarize history for error\n",
        "#     plt.figure(figsize=(11,7))\n",
        "#     plt.subplot(2,1,1)\n",
        "#     plt.plot(history.history['out_mean_squared_error'])\n",
        "#     plt.plot(history.history['val_out_mean_squared_error'])\n",
        "#     plt.title('Model Error Performance')\n",
        "#     plt.ylabel('Error')\n",
        "#     plt.xlabel('Epoch')\n",
        "#     plt.legend(['Train', 'Val'], loc='upper right')\n",
        "#     #   plt.ylim([0, 3])\n",
        "#     # plt.show()\n",
        "#     # summarize history for loss\n",
        "#     plt.figure(figsize=(11,7))\n",
        "#     plt.subplot(2,1,2)\n",
        "#     plt.plot(history.history['out_loss'])\n",
        "#     plt.plot(history.history['val_out_loss'])\n",
        "#     plt.title('Model Loss')\n",
        "#     plt.ylabel('Loss')\n",
        "#     plt.xlabel('Epoch')\n",
        "#     plt.legend(['Train', 'Val'], loc='upper right')\n",
        "#     #   plt.ylim([0, 3])\n",
        "#     plt.savefig(figures_dir + 'LC_' + config + '.png')\n",
        "#     plt.show()\n",
        "# #\n",
        "# history_plot(history)"
      ],
      "metadata": {
        "id": "6UENS6A6SHEi"
      },
      "execution_count": 24,
      "outputs": []
    },
    {
      "cell_type": "code",
      "source": [
        "# if D_S == 0:\n",
        "#     random_idx = random.sample(range(0, Y_Test.shape[0]), 6)\n",
        "#     plt.figure(figsize=(14, 9))\n",
        "#     for i in range(6):\n",
        "#         y_true = Y_Test[random_idx[i]]\n",
        "#         y_pred = GRF_pred[random_idx[i]]\n",
        "#         MAE = np.mean(np.abs(y_pred.ravel() - y_true.ravel()))\n",
        "#         plt.subplot(2, 3, i + 1)\n",
        "#         plt.plot(y_true, label='Ground Truth')\n",
        "#         plt.plot(y_pred.ravel(), label='Prediction')\n",
        "#         plt.title(f\"MAE [{random_idx[i]}] : {MAE}\")\n",
        "#         plt.legend();\n",
        "#     plt.show()\n",
        "    \n",
        "# elif D_S == 1:\n",
        "#     random_idx = random.sample(range(0, Y_Test.shape[0]), 6)\n",
        "#     plt.figure(figsize=(14, 9))\n",
        "#     for i in range(6):\n",
        "#         y_true = Y_Test[random_idx[i]]\n",
        "#         y_pred = GRF_pred[0][random_idx[i]]\n",
        "#         MAE = np.mean(np.abs(y_pred.ravel() - y_true.ravel()))\n",
        "#         plt.subplot(2, 3, i + 1)\n",
        "#         plt.plot(y_true, label='Ground Truth', linewidth=3)\n",
        "#         plt.plot(y_pred.ravel(), label='Prediction', linewidth=3)\n",
        "#         plt.title(f\"MAE [{random_idx[i]}] : {round(MAE, 4)}\")\n",
        "#         plt.legend()\n",
        "#     plt.savefig(figures_dir + 'Examples_Fy_' + config + '.png')\n",
        "#     plt.show()"
      ],
      "metadata": {
        "id": "ZCpo5JbBSMw8"
      },
      "execution_count": 25,
      "outputs": []
    },
    {
      "cell_type": "code",
      "source": [
        "def Construction_Error(GRND, Pred):\n",
        "    construction_err = []\n",
        "    rmse = []\n",
        "    corr_coef = []\n",
        "    bad_indices = []\n",
        "    count = 0\n",
        "\n",
        "    for i in range(len(GRND)):\n",
        "        MAE = np.mean(np.abs(Pred[i].ravel() - GRND[i].ravel()))\n",
        "        RMSE = mean_squared_error(np.nan_to_num(Pred[i].ravel()), GRND[i].ravel(), squared=False)\n",
        "        R = np.corrcoef(np.nan_to_num(Pred[i].ravel()), GRND[i].ravel())[0, 1]\n",
        "        if MAE < 1:\n",
        "            construction_err.append(MAE)\n",
        "            rmse.append(RMSE)\n",
        "            corr_coef.append(R)\n",
        "        elif MAE >= 1:\n",
        "            count = count + 1\n",
        "            bad_indices.append(i)\n",
        "\n",
        "    print(f'Construction Error : {round(np.mean(construction_err), 3)} +/- {round(np.std(construction_err), 3)}')\n",
        "    print(f'RMSE : {round(np.mean(rmse), 3)} +/- {round(np.std(rmse), 3)}')\n",
        "    print(f'R : {round(np.mean(corr_coef), 3)} +/- {round(np.std(corr_coef), 3)}')\n",
        "    print(f'Number of Bad Predictions = {count}')\n",
        "\n",
        "    bad_indices = set(bad_indices)\n",
        "    all_indices = set(np.arange(len(GRND)))\n",
        "    good_indices = np.array(list(all_indices - bad_indices))\n",
        "    GRND_NEW = GRND[good_indices]\n",
        "    PRED_NEW = Pred[good_indices]\n",
        "\n",
        "    return GRND_NEW, PRED_NEW"
      ],
      "metadata": {
        "id": "3UI2ycsUSPAi"
      },
      "execution_count": 26,
      "outputs": []
    },
    {
      "cell_type": "code",
      "source": [
        "[A,B] = Construction_Error(Y_Test, GRF_pred)"
      ],
      "metadata": {
        "id": "0VGab5XISRGW",
        "outputId": "15522bc1-f119-4337-fc1f-f101a9420c42",
        "colab": {
          "base_uri": "https://localhost:8080/"
        }
      },
      "execution_count": 27,
      "outputs": [
        {
          "output_type": "stream",
          "name": "stdout",
          "text": [
            "Construction Error : 0.148 +/- 0.074\n",
            "RMSE : 0.182 +/- 0.089\n",
            "R : 0.773 +/- 0.27\n",
            "Number of Bad Predictions = 0\n"
          ]
        }
      ]
    }
  ],
  "metadata": {
    "interpreter": {
      "hash": "cc12dd51c08fff59e312c49b5273cbf2a12939660509ea1a4d83cd89b0463726"
    },
    "kernelspec": {
      "display_name": "Python 3.9.2 64-bit ('Ai': venv)",
      "language": "python",
      "name": "python3"
    },
    "language_info": {
      "codemirror_mode": {
        "name": "ipython",
        "version": 3
      },
      "file_extension": ".py",
      "mimetype": "text/x-python",
      "name": "python",
      "nbconvert_exporter": "python",
      "pygments_lexer": "ipython3",
      "version": "3.9.2"
    },
    "orig_nbformat": 4,
    "colab": {
      "name": "transfer_learning.ipynb",
      "provenance": [],
      "include_colab_link": true
    },
    "accelerator": "GPU"
  },
  "nbformat": 4,
  "nbformat_minor": 0
}