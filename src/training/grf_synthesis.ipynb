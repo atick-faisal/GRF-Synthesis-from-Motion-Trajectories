{
  "nbformat": 4,
  "nbformat_minor": 0,
  "metadata": {
    "accelerator": "GPU",
    "colab": {
      "name": "grf_synthesis.ipynb",
      "provenance": [],
      "include_colab_link": true
    },
    "interpreter": {
      "hash": "b9e8b413bd195f698761fbb7f1cc8940f40efdff75a04973931ad61a6fc56074"
    },
    "kernelspec": {
      "display_name": "Python 3.8.8 64-bit ('base': conda)",
      "name": "python3"
    },
    "language_info": {
      "codemirror_mode": {
        "name": "ipython",
        "version": 3
      },
      "file_extension": ".py",
      "mimetype": "text/x-python",
      "name": "python",
      "nbconvert_exporter": "python",
      "pygments_lexer": "ipython3",
      "version": "3.8.8"
    },
    "orig_nbformat": 4
  },
  "cells": [
    {
      "cell_type": "markdown",
      "metadata": {
        "id": "view-in-github",
        "colab_type": "text"
      },
      "source": [
        "<a href=\"https://colab.research.google.com/github/atick-faisal/GRF-Synthesis-from-Motion-Trajectories/blob/main/src/training/grf_synthesis.ipynb\" target=\"_parent\"><img src=\"https://colab.research.google.com/assets/colab-badge.svg\" alt=\"Open In Colab\"/></a>"
      ]
    },
    {
      "cell_type": "code",
      "source": [
        "# from google.colab import drive\n",
        "# drive._mount('/content/drive')"
      ],
      "metadata": {
        "id": "Ny5F1D53uh9Q"
      },
      "execution_count": 1,
      "outputs": []
    },
    {
      "cell_type": "code",
      "metadata": {
        "id": "6x_r50aIez0f"
      },
      "source": [
        "# !pip install --upgrade pandas==1.3.4"
      ],
      "execution_count": 2,
      "outputs": []
    },
    {
      "cell_type": "markdown",
      "metadata": {
        "id": "j15cTL2I4oNu"
      },
      "source": [
        "# Download and prepare data"
      ]
    },
    {
      "cell_type": "code",
      "metadata": {
        "id": "jJcRThWM5LF5"
      },
      "source": [
        "# !gdown --id \"1kNGwWBQp6kmAioLP-_zWx7r42SzoEO3v\"\n",
        "# !unzip UNet.zip\n",
        "\n",
        "# !gdown --id \"17xUSnO5w1CdKu9ZlE7XdnMudZAj1RgmC\""
      ],
      "execution_count": 3,
      "outputs": []
    },
    {
      "cell_type": "markdown",
      "metadata": {
        "id": "M6XtngBS4oNt"
      },
      "source": [
        "# Import libraries"
      ]
    },
    {
      "cell_type": "code",
      "metadata": {
        "id": "9kpZ_68Q43j9"
      },
      "source": [
        "import h5py\n",
        "import scipy\n",
        "import random\n",
        "import joblib\n",
        "import numpy as np\n",
        "import pandas as pd\n",
        "import seaborn as sns\n",
        "import tensorflow as tf\n",
        "import scipy.io as sio\n",
        "import matplotlib.pyplot as plt\n",
        "\n",
        "from tqdm import tqdm\n",
        "from sklearn.metrics import mean_squared_error, median_absolute_error, mean_absolute_error\n",
        "from sklearn.metrics import classification_report, confusion_matrix\n",
        "from sklearn.model_selection import train_test_split\n",
        "from sklearn.preprocessing import MinMaxScaler, StandardScaler\n",
        "\n",
        "from UNet_1DCNN import UNet\n",
        "from FPN_1DCNN import FPN\n",
        "from AlbuNet_1DCNN import AlbUNet\n",
        "\n",
        "%matplotlib inline\n",
        "sns.set(font_scale=1.5)\n",
        "sns.set_style(\"darkgrid\", {'font.family':'serif', 'font.serif':'Times New Roman'})\n",
        "\n",
        "models_dir = '/content/drive/MyDrive/Research/GRF Data Synthesis/Models/'\n",
        "figures_dir = '/content/drive/MyDrive/Research/GRF Data Synthesis/Figures/'"
      ],
      "execution_count": 4,
      "outputs": []
    },
    {
      "cell_type": "markdown",
      "metadata": {
        "id": "pwCAfz544oNz"
      },
      "source": [
        "# Train test split"
      ]
    },
    {
      "cell_type": "code",
      "metadata": {
        "colab": {
          "base_uri": "https://localhost:8080/"
        },
        "id": "xwNGZwEg4oNz",
        "outputId": "373d8ca8-88c7-48a0-c09d-cd0e295622b5"
      },
      "source": [
        "# data = joblib.load('/content/data2_f72_t3_n1_combined.joblib')\n",
        "data = joblib.load('/content/data2_f72_t3_n1_high_vel_combined.joblib')\n",
        "X_Train = data['train_X']\n",
        "X_Test = data['test_X']\n",
        "Y_Train = data['train_y']\n",
        "Y_Test = data['test_y']\n",
        "\n",
        "print(X_Train.shape)\n",
        "print(X_Test.shape)\n",
        "print(Y_Train.shape)\n",
        "print(Y_Test.shape)"
      ],
      "execution_count": 32,
      "outputs": [
        {
          "output_type": "stream",
          "name": "stdout",
          "text": [
            "(1315, 1024, 36)\n",
            "(329, 1024, 36)\n",
            "(1315, 1024, 3)\n",
            "(329, 1024, 3)\n"
          ]
        }
      ]
    },
    {
      "cell_type": "markdown",
      "source": [
        "# Axis Selection"
      ],
      "metadata": {
        "id": "k_ePJvmtegj_"
      }
    },
    {
      "cell_type": "code",
      "source": [
        "X_Train = X_Train[:, :, [30, 31, 32, 33, 34, 35]]\n",
        "X_Test = X_Test[:, :, [30, 31, 32, 33, 34, 35]]\n",
        "Y_Train = Y_Train[:, :, 2]\n",
        "Y_Test = Y_Test[:, :, 2]\n",
        "\n",
        "X_Train = np.nan_to_num(X_Train)\n",
        "X_Test = np.nan_to_num(X_Test)\n",
        "Y_Train = np.nan_to_num(Y_Train)\n",
        "Y_Test = np.nan_to_num(Y_Test)\n",
        "\n",
        "print(X_Train.shape)\n",
        "print(X_Test.shape)\n",
        "print(Y_Train.shape)\n",
        "print(Y_Test.shape)"
      ],
      "metadata": {
        "colab": {
          "base_uri": "https://localhost:8080/"
        },
        "id": "WZKBWCVTeFFC",
        "outputId": "90cad0b6-b6e7-4dbe-92d0-965c47598f84"
      },
      "execution_count": 33,
      "outputs": [
        {
          "output_type": "stream",
          "name": "stdout",
          "text": [
            "(1315, 1024, 6)\n",
            "(329, 1024, 6)\n",
            "(1315, 1024)\n",
            "(329, 1024)\n"
          ]
        }
      ]
    },
    {
      "cell_type": "code",
      "source": [
        "plt.plot(Y_Train[:, :].T)\n",
        "plt.show()"
      ],
      "metadata": {
        "id": "avon12Ydqs5J",
        "outputId": "3235ab3e-d7c6-4389-bb47-ae01387fd395",
        "colab": {
          "base_uri": "https://localhost:8080/",
          "height": 275
        }
      },
      "execution_count": 22,
      "outputs": [
        {
          "output_type": "display_data",
          "data": {
            "image/png": "[encoded data removed]",
            "text/plain": [
              "<Figure size 432x288 with 1 Axes>"
            ]
          },
          "metadata": {}
        }
      ]
    },
    {
      "cell_type": "code",
      "source": [
        "FRAME_LEN = X_Train.shape[1]\n",
        "N_CHANNELS = X_Train.shape[2]"
      ],
      "metadata": {
        "id": "RIHHro2IeqP9"
      },
      "execution_count": 34,
      "outputs": []
    },
    {
      "cell_type": "markdown",
      "metadata": {
        "id": "1a1FRPZ74oN0"
      },
      "source": [
        "# Configuration"
      ]
    },
    {
      "cell_type": "code",
      "metadata": {
        "id": "30i1r3Ln4oN0"
      },
      "source": [
        "model_name = 'MultiResUNet' # UNet or UNetPP\n",
        "signal_length = FRAME_LEN # Length of each Segment\n",
        "model_depth = 5 # Number of Level in the CNN Model\n",
        "model_width = 64 # Width of the Initial Layer, subsequent layers start from here\n",
        "kernel_size = 3 # Size of the Kernels/Filter\n",
        "num_channel = N_CHANNELS # Number of Channels in the Model\n",
        "D_S = 1 # Turn on Deep Supervision\n",
        "A_E = 0 # Turn on AutoEncoder Mode for Feature Extraction\n",
        "A_G = 1 # Attention Guided\n",
        "problem_type = 'Regression'\n",
        "output_nums = 1 # Number of Class for Classification Problems, always '1' for Regression Problems\n",
        "'''Only required if the AutoEncoder Mode is turned on'''\n",
        "feature_number = 1024 # Number of Features to be Extracted\n",
        "'''Only required for MultiResUNet'''\n",
        "alpha = 1 # Model Width Expansion Parameter"
      ],
      "execution_count": 35,
      "outputs": []
    },
    {
      "cell_type": "markdown",
      "metadata": {
        "id": "FCdOOVOa4oN2"
      },
      "source": [
        "# Prepare for deep supervision"
      ]
    },
    {
      "cell_type": "code",
      "metadata": {
        "id": "c61dm5v94oN3"
      },
      "source": [
        "def prepareTrainDict(y, model_depth, signal_length, model_name):\n",
        "  def approximate(inp, w_len, signal_length):\n",
        "    op = np.zeros((len(inp),signal_length//w_len))\n",
        "    for i in range(0,signal_length,w_len):\n",
        "      try:\n",
        "        op[:,i//w_len] = np.mean(inp[:,i:i+w_len],axis=1)\n",
        "      except Exception as e:\n",
        "        print(e)\n",
        "        print(i)\n",
        "  \t\n",
        "    return op\n",
        "\n",
        "  out = {}\n",
        "  Y_Train_dict = {}\n",
        "  out['out'] = np.array(y)\n",
        "  Y_Train_dict['out'] = out['out']\n",
        "  for i in range(1, (model_depth+1)):\n",
        "    name = f'level{i}'\n",
        "    if ((model_name == 'UNet') or (model_name == 'MultiResUNet') or (model_name == 'FPN')):\n",
        "      out[name] = np.expand_dims(approximate(np.squeeze(y), 2**i, signal_length),axis = 2)\n",
        "    elif ((model_name == 'UNetE') or (model_name == 'UNetP') or (model_name == 'UNetPP')):\n",
        "      out[name] = np.expand_dims(approximate(np.squeeze(y), 2**0, signal_length),axis = 2)\n",
        "    Y_Train_dict[f'level{i}'] = out[f'level{i}']\n",
        "  \n",
        "  return out, Y_Train_dict"
      ],
      "execution_count": 36,
      "outputs": []
    },
    {
      "cell_type": "code",
      "metadata": {
        "id": "EQqyFLjl4oN4"
      },
      "source": [
        "X_Train1 = X_Train\n",
        "X_Test1 = X_Test\n",
        "[Y_Train1, Y_Train_dict] = prepareTrainDict(Y_Train, model_depth, signal_length, model_name)\n",
        "[Y_Test1, Y_Test_dict] = prepareTrainDict(Y_Test, model_depth, signal_length, model_name)"
      ],
      "execution_count": 37,
      "outputs": []
    },
    {
      "cell_type": "code",
      "metadata": {
        "colab": {
          "base_uri": "https://localhost:8080/"
        },
        "id": "h_V8_Ht-4oN5",
        "outputId": "dacc9226-89d7-4869-88a0-1a2c23f4d47d"
      },
      "source": [
        "loss_weights = np.zeros(model_depth)\n",
        "\n",
        "for i in range(0, model_depth):\n",
        "   loss_weights[i] = 1-(i*0.1)\n",
        "   \n",
        "loss_weights"
      ],
      "execution_count": 38,
      "outputs": [
        {
          "output_type": "execute_result",
          "data": {
            "text/plain": [
              "array([1. , 0.9, 0.8, 0.7, 0.6])"
            ]
          },
          "metadata": {},
          "execution_count": 38
        }
      ]
    },
    {
      "cell_type": "markdown",
      "metadata": {
        "id": "fK_K_tyy4oN5"
      },
      "source": [
        "# Build and compile model"
      ]
    },
    {
      "cell_type": "code",
      "metadata": {
        "id": "y-nTNzLM4oN5"
      },
      "source": [
        "optimizer = tf.keras.optimizers.Adam(\n",
        "    learning_rate = 0.001\n",
        ")\n",
        "\n",
        "if D_S == 0:\n",
        "    # Build model for EEG Motion Artifact Removal - Deep Unet Architecture\n",
        "    # AutoEncoder should be set at 'FALSE' for the Deep U-net model for Signal Reconstruction\n",
        "    # D_S = 0, A_E = 0\n",
        "    model = UNet(\n",
        "        signal_length,\n",
        "        model_depth,\n",
        "        num_channel, \n",
        "        model_width, \n",
        "        kernel_size, \n",
        "        problem_type=problem_type, \n",
        "        output_nums=output_nums, \n",
        "        ds=D_S,\n",
        "        ae=A_E, \n",
        "        ag=A_G,\n",
        "        alpha=alpha\n",
        "    ).UNet()\n",
        "\n",
        "    model.compile(\n",
        "        loss= 'mean_absolute_error', \n",
        "        optimizer= optimizer, \n",
        "        metrics= ['mean_squared_error','accuracy']\n",
        "    )\n",
        "    #\n",
        "elif D_S == 1:\n",
        "    # Build model for EEG Motion Artifact Removal - Deep Unet Architecture\n",
        "    # AutoEncoder should be set at 'FALSE' for the Deep U-net model for Signal Reconstruction\n",
        "    # D_S = 1, A_E = 0\n",
        "    model = UNet(\n",
        "        signal_length, model_depth, \n",
        "        num_channel, \n",
        "        model_width, \n",
        "        kernel_size, \n",
        "        problem_type=problem_type, \n",
        "        output_nums=output_nums, \n",
        "        ds=D_S,\n",
        "        ae=A_E,\n",
        "        ag=A_G, \n",
        "        alpha=alpha\n",
        "    ).MultiResUNet()\n",
        "\n",
        "    model.compile(\n",
        "        loss= 'mean_absolute_error', \n",
        "        optimizer= optimizer, \n",
        "        metrics= ['mean_squared_error'], \n",
        "        loss_weights= loss_weights\n",
        "    )"
      ],
      "execution_count": 39,
      "outputs": []
    },
    {
      "cell_type": "markdown",
      "metadata": {
        "id": "jlLB1flN4oN6"
      },
      "source": [
        "# Training"
      ]
    },
    {
      "cell_type": "code",
      "source": [
        "config = model_name + '_' + str(signal_length) + '_' \\\n",
        "            + str(N_CHANNELS) + '_' + str(model_width) +'_' \\\n",
        "            + str(model_depth) + '_' + str(num_channel) + '_' \\\n",
        "            + str(D_S) + str(A_G)"
      ],
      "metadata": {
        "id": "IoH2_k-yPFkP"
      },
      "execution_count": 40,
      "outputs": []
    },
    {
      "cell_type": "code",
      "metadata": {
        "colab": {
          "base_uri": "https://localhost:8080/"
        },
        "id": "U7URRYEK4oN6",
        "outputId": "8507e349-25ed-4b59-d23b-baf457c4105d"
      },
      "source": [
        "if D_S == 0:\n",
        "    callbacks = [\n",
        "        tf.keras.callbacks.EarlyStopping(monitor='val_loss', patience=30, mode='min'), \n",
        "        tf.keras.callbacks.ModelCheckpoint(\n",
        "            'trained_models/' + config +'.h5', \n",
        "                verbose=1, \n",
        "                monitor='val_loss', \n",
        "                save_best_only=True, \n",
        "                mode='min'\n",
        "        )\n",
        "    ]\n",
        "    history = model.fit(\n",
        "        X_Train, Y_Train, \n",
        "        epochs=300, \n",
        "        batch_size=64, \n",
        "        verbose=1, \n",
        "        validation_split=0.2, \n",
        "        shuffle=True, \n",
        "        callbacks=callbacks\n",
        "    )\n",
        "    \n",
        "elif D_S == 1:\n",
        "    callbacks = [\n",
        "        tf.keras.callbacks.EarlyStopping(monitor='val_out_loss', patience=30, mode='min'), \n",
        "        tf.keras.callbacks.ModelCheckpoint(\n",
        "            'trained_models/' + config + '.h5', \n",
        "                verbose=1, \n",
        "                monitor='val_loss', \n",
        "                save_best_only=True, \n",
        "                mode='min'\n",
        "        )\n",
        "    ]\n",
        "    history = model.fit(\n",
        "        X_Train1, \n",
        "        Y_Train_dict, \n",
        "        epochs=300, \n",
        "        batch_size=64, \n",
        "        verbose=1, \n",
        "        validation_split=0.2, \n",
        "        shuffle=True, \n",
        "        callbacks=callbacks\n",
        "    )"
      ],
      "execution_count": null,
      "outputs": [
        {
          "output_type": "stream",
          "name": "stdout",
          "text": [
            "Epoch 1/300\n",
            "17/17 [==============================] - ETA: 0s - loss: 3.5558 - out_loss: 0.7533 - level1_loss: 0.6480 - level2_loss: 0.6109 - level3_loss: 0.6065 - level4_loss: 0.7358 - level5_loss: 1.0902 - out_mean_squared_error: 1.2813 - level1_mean_squared_error: 0.8854 - level2_mean_squared_error: 1.0626 - level3_mean_squared_error: 1.9176 - level4_mean_squared_error: 3.0692 - level5_mean_squared_error: 5.7248\n",
            "Epoch 00001: val_loss improved from inf to 1.78114, saving model to trained_models/MultiResUNet_1024_6_64_5_6_11.h5\n"
          ]
        },
        {
          "output_type": "stream",
          "name": "stderr",
          "text": [
            "/usr/local/lib/python3.7/dist-packages/keras/engine/functional.py:1410: CustomMaskWarning: Custom mask layers require a config and must override get_config. When loading, the custom mask layer must be passed to the custom_objects argument.\n",
            "  layer_config = serialize_layer_fn(layer)\n"
          ]
        },
        {
          "output_type": "stream",
          "name": "stdout",
          "text": [
            "\b\b\b\b\b\b\b\b\b\b\b\b\b\b\b\b\b\b\b\b\b\b\b\b\b\b\b\b\b\b\b\b\b\b\b\b\b\b\b\b\b\b\b\b\b\b\b\b\b\b\b\b\b\b\b\b\b\b\b\b\b\b\b\b\b\b\b\b\b\b\b\b\b\b\b\b\b\b\b\b\b\b\b\b\b\b\b\b\b\b\b\b\b\b\b\b\b\b\b\b\b\b\b\b\b\b\b\b\b\b\b\b\b\b\b\b\b\b\b\b\b\b\b\b\b\b\b\b\b\b\b\b\b\b\b\b\b\b\b\b\b\b\b\b\b\b\b\b\b\b\b\b\b\b\b\b\b\b\b\b\b\b\b\b\b\b\b\b\b\b\b\b\b\b\b\b\b\b\b\b\b\b\b\b\b\b\b\b\b\b\b\b\b\b\b\b\b\b\b\b\b\b\b\b\b\b\b\b\b\b\b\b\b\b\b\b\b\b\b\b\b\b\b\b\b\b\b\b\b\b\b\b\b\b\b\b\b\b\b\b\b\b\b\b\b\b\b\b\b\b\b\b\b\b\b\b\b\b\b\b\b\b\b\b\b\b\b\b\b\b\b\b\b\b\b\b\b\b\b\b\b\b\b\b\b\b\b\b\b\b\b\b\b\b\b\b\b\b\b\b\b\b\b\b\b\b\b\b\b\b\b\b\b\b\b\b\b\b\b\b\b\b\b\b\b\b\b\b\b\b\b\b\b\b\b\b\b\b\b\b\b\b\b\b\b\b\b\b\b\b\b\b\b\b\b\b\b\b\b\b\b\b\b\b\b\b\b\b\b\b\b\b\b\b\b\b\b\b\b\b\b\b\b\b\b\b\b\b\b\b\b\b\b\b\b\b\b\b\b\b\b\b\b\b\b\r17/17 [==============================] - 42s 980ms/step - loss: 3.5558 - out_loss: 0.7533 - level1_loss: 0.6480 - level2_loss: 0.6109 - level3_loss: 0.6065 - level4_loss: 0.7358 - level5_loss: 1.0902 - out_mean_squared_error: 1.2813 - level1_mean_squared_error: 0.8854 - level2_mean_squared_error: 1.0626 - level3_mean_squared_error: 1.9176 - level4_mean_squared_error: 3.0692 - level5_mean_squared_error: 5.7248 - val_loss: 1.7811 - val_out_loss: 0.5574 - val_level1_loss: 0.4795 - val_level2_loss: 0.3690 - val_level3_loss: 0.3188 - val_level4_loss: 0.2157 - val_level5_loss: 0.2860 - val_out_mean_squared_error: 0.3583 - val_level1_mean_squared_error: 0.2661 - val_level2_mean_squared_error: 0.1580 - val_level3_mean_squared_error: 0.1189 - val_level4_mean_squared_error: 0.0608 - val_level5_mean_squared_error: 0.0999\n",
            "Epoch 2/300\n",
            "17/17 [==============================] - ETA: 0s - loss: 1.2414 - out_loss: 0.4567 - level1_loss: 0.3154 - level2_loss: 0.1999 - level3_loss: 0.1434 - level4_loss: 0.1533 - level5_loss: 0.2831 - out_mean_squared_error: 0.7697 - level1_mean_squared_error: 0.2667 - level2_mean_squared_error: 0.1955 - level3_mean_squared_error: 0.1927 - level4_mean_squared_error: 0.1293 - level5_mean_squared_error: 0.1622\n",
            "Epoch 00002: val_loss improved from 1.78114 to 1.16768, saving model to trained_models/MultiResUNet_1024_6_64_5_6_11.h5\n",
            "17/17 [==============================] - 13s 764ms/step - loss: 1.2414 - out_loss: 0.4567 - level1_loss: 0.3154 - level2_loss: 0.1999 - level3_loss: 0.1434 - level4_loss: 0.1533 - level5_loss: 0.2831 - out_mean_squared_error: 0.7697 - level1_mean_squared_error: 0.2667 - level2_mean_squared_error: 0.1955 - level3_mean_squared_error: 0.1927 - level4_mean_squared_error: 0.1293 - level5_mean_squared_error: 0.1622 - val_loss: 1.1677 - val_out_loss: 0.4244 - val_level1_loss: 0.2492 - val_level2_loss: 0.2016 - val_level3_loss: 0.1803 - val_level4_loss: 0.1858 - val_level5_loss: 0.2183 - val_out_mean_squared_error: 0.2087 - val_level1_mean_squared_error: 0.0785 - val_level2_mean_squared_error: 0.0943 - val_level3_mean_squared_error: 0.0754 - val_level4_mean_squared_error: 0.0778 - val_level5_mean_squared_error: 0.0670\n",
            "Epoch 3/300\n",
            "17/17 [==============================] - ETA: 0s - loss: 0.6683 - out_loss: 0.2500 - level1_loss: 0.0928 - level2_loss: 0.0912 - level3_loss: 0.0813 - level4_loss: 0.0992 - level5_loss: 0.2209 - out_mean_squared_error: 0.7012 - level1_mean_squared_error: 0.0400 - level2_mean_squared_error: 0.0805 - level3_mean_squared_error: 0.0402 - level4_mean_squared_error: 0.0732 - level5_mean_squared_error: 0.0924\n",
            "Epoch 00003: val_loss improved from 1.16768 to 0.98818, saving model to trained_models/MultiResUNet_1024_6_64_5_6_11.h5\n",
            "17/17 [==============================] - 13s 768ms/step - loss: 0.6683 - out_loss: 0.2500 - level1_loss: 0.0928 - level2_loss: 0.0912 - level3_loss: 0.0813 - level4_loss: 0.0992 - level5_loss: 0.2209 - out_mean_squared_error: 0.7012 - level1_mean_squared_error: 0.0400 - level2_mean_squared_error: 0.0805 - level3_mean_squared_error: 0.0402 - level4_mean_squared_error: 0.0732 - level5_mean_squared_error: 0.0924 - val_loss: 0.9882 - val_out_loss: 0.3073 - val_level1_loss: 0.1805 - val_level2_loss: 0.1785 - val_level3_loss: 0.1980 - val_level4_loss: 0.1781 - val_level5_loss: 0.1927 - val_out_mean_squared_error: 0.1111 - val_level1_mean_squared_error: 0.0696 - val_level2_mean_squared_error: 0.0717 - val_level3_mean_squared_error: 0.0636 - val_level4_mean_squared_error: 0.0597 - val_level5_mean_squared_error: 0.0626\n",
            "Epoch 4/300\n",
            "17/17 [==============================] - ETA: 0s - loss: 0.4262 - out_loss: 0.0895 - level1_loss: 0.0660 - level2_loss: 0.0653 - level3_loss: 0.0686 - level4_loss: 0.0775 - level5_loss: 0.1659 - out_mean_squared_error: 0.1620 - level1_mean_squared_error: 0.0243 - level2_mean_squared_error: 0.0167 - level3_mean_squared_error: 0.0342 - level4_mean_squared_error: 0.0269 - level5_mean_squared_error: 0.0720\n",
            "Epoch 00004: val_loss improved from 0.98818 to 0.95390, saving model to trained_models/MultiResUNet_1024_6_64_5_6_11.h5\n",
            "17/17 [==============================] - 13s 773ms/step - loss: 0.4262 - out_loss: 0.0895 - level1_loss: 0.0660 - level2_loss: 0.0653 - level3_loss: 0.0686 - level4_loss: 0.0775 - level5_loss: 0.1659 - out_mean_squared_error: 0.1620 - level1_mean_squared_error: 0.0243 - level2_mean_squared_error: 0.0167 - level3_mean_squared_error: 0.0342 - level4_mean_squared_error: 0.0269 - level5_mean_squared_error: 0.0720 - val_loss: 0.9539 - val_out_loss: 0.2453 - val_level1_loss: 0.1950 - val_level2_loss: 0.1830 - val_level3_loss: 0.1920 - val_level4_loss: 0.1831 - val_level5_loss: 0.1940 - val_out_mean_squared_error: 0.0773 - val_level1_mean_squared_error: 0.0652 - val_level2_mean_squared_error: 0.0794 - val_level3_mean_squared_error: 0.0631 - val_level4_mean_squared_error: 0.0600 - val_level5_mean_squared_error: 0.0630\n",
            "Epoch 5/300\n",
            "17/17 [==============================] - ETA: 0s - loss: 0.3770 - out_loss: 0.0657 - level1_loss: 0.0562 - level2_loss: 0.0578 - level3_loss: 0.0675 - level4_loss: 0.0713 - level5_loss: 0.1527 - out_mean_squared_error: 0.0190 - level1_mean_squared_error: 0.0088 - level2_mean_squared_error: 0.0179 - level3_mean_squared_error: 0.0636 - level4_mean_squared_error: 0.0148 - level5_mean_squared_error: 0.0431\n",
            "Epoch 00005: val_loss did not improve from 0.95390\n",
            "17/17 [==============================] - 12s 682ms/step - loss: 0.3770 - out_loss: 0.0657 - level1_loss: 0.0562 - level2_loss: 0.0578 - level3_loss: 0.0675 - level4_loss: 0.0713 - level5_loss: 0.1527 - out_mean_squared_error: 0.0190 - level1_mean_squared_error: 0.0088 - level2_mean_squared_error: 0.0179 - level3_mean_squared_error: 0.0636 - level4_mean_squared_error: 0.0148 - level5_mean_squared_error: 0.0431 - val_loss: 0.9633 - val_out_loss: 0.2856 - val_level1_loss: 0.1870 - val_level2_loss: 0.1787 - val_level3_loss: 0.1939 - val_level4_loss: 0.1842 - val_level5_loss: 0.1748 - val_out_mean_squared_error: 0.0975 - val_level1_mean_squared_error: 0.0660 - val_level2_mean_squared_error: 0.0729 - val_level3_mean_squared_error: 0.0630 - val_level4_mean_squared_error: 0.0617 - val_level5_mean_squared_error: 0.0665\n",
            "Epoch 6/300\n",
            "17/17 [==============================] - ETA: 0s - loss: 0.3350 - out_loss: 0.0545 - level1_loss: 0.0523 - level2_loss: 0.0559 - level3_loss: 0.0600 - level4_loss: 0.0686 - level5_loss: 0.1275 - out_mean_squared_error: 0.0079 - level1_mean_squared_error: 0.0086 - level2_mean_squared_error: 0.0219 - level3_mean_squared_error: 0.0291 - level4_mean_squared_error: 0.0352 - level5_mean_squared_error: 0.0319\n",
            "Epoch 00006: val_loss did not improve from 0.95390\n",
            "17/17 [==============================] - 12s 682ms/step - loss: 0.3350 - out_loss: 0.0545 - level1_loss: 0.0523 - level2_loss: 0.0559 - level3_loss: 0.0600 - level4_loss: 0.0686 - level5_loss: 0.1275 - out_mean_squared_error: 0.0079 - level1_mean_squared_error: 0.0086 - level2_mean_squared_error: 0.0219 - level3_mean_squared_error: 0.0291 - level4_mean_squared_error: 0.0352 - level5_mean_squared_error: 0.0319 - val_loss: 0.9838 - val_out_loss: 0.3004 - val_level1_loss: 0.1889 - val_level2_loss: 0.1785 - val_level3_loss: 0.1925 - val_level4_loss: 0.1816 - val_level5_loss: 0.1879 - val_out_mean_squared_error: 0.1069 - val_level1_mean_squared_error: 0.0653 - val_level2_mean_squared_error: 0.0732 - val_level3_mean_squared_error: 0.0628 - val_level4_mean_squared_error: 0.0623 - val_level5_mean_squared_error: 0.0595\n",
            "Epoch 7/300\n",
            "17/17 [==============================] - ETA: 0s - loss: 0.3445 - out_loss: 0.0545 - level1_loss: 0.0536 - level2_loss: 0.0569 - level3_loss: 0.0604 - level4_loss: 0.0876 - level5_loss: 0.1175 - out_mean_squared_error: 0.0078 - level1_mean_squared_error: 0.0097 - level2_mean_squared_error: 0.0184 - level3_mean_squared_error: 0.0251 - level4_mean_squared_error: 0.1268 - level5_mean_squared_error: 0.0337\n",
            "Epoch 00007: val_loss did not improve from 0.95390\n",
            "17/17 [==============================] - 12s 684ms/step - loss: 0.3445 - out_loss: 0.0545 - level1_loss: 0.0536 - level2_loss: 0.0569 - level3_loss: 0.0604 - level4_loss: 0.0876 - level5_loss: 0.1175 - out_mean_squared_error: 0.0078 - level1_mean_squared_error: 0.0097 - level2_mean_squared_error: 0.0184 - level3_mean_squared_error: 0.0251 - level4_mean_squared_error: 0.1268 - level5_mean_squared_error: 0.0337 - val_loss: 1.0006 - val_out_loss: 0.3133 - val_level1_loss: 0.1903 - val_level2_loss: 0.1787 - val_level3_loss: 0.1901 - val_level4_loss: 0.1765 - val_level5_loss: 0.2019 - val_out_mean_squared_error: 0.1154 - val_level1_mean_squared_error: 0.0649 - val_level2_mean_squared_error: 0.0737 - val_level3_mean_squared_error: 0.0626 - val_level4_mean_squared_error: 0.0632 - val_level5_mean_squared_error: 0.0591\n",
            "Epoch 8/300\n",
            "17/17 [==============================] - ETA: 0s - loss: 0.3291 - out_loss: 0.0539 - level1_loss: 0.0542 - level2_loss: 0.0562 - level3_loss: 0.0642 - level4_loss: 0.0781 - level5_loss: 0.1047 - out_mean_squared_error: 0.0078 - level1_mean_squared_error: 0.0120 - level2_mean_squared_error: 0.0186 - level3_mean_squared_error: 0.0511 - level4_mean_squared_error: 0.0719 - level5_mean_squared_error: 0.0301\n",
            "Epoch 00008: val_loss did not improve from 0.95390\n",
            "17/17 [==============================] - 12s 683ms/step - loss: 0.3291 - out_loss: 0.0539 - level1_loss: 0.0542 - level2_loss: 0.0562 - level3_loss: 0.0642 - level4_loss: 0.0781 - level5_loss: 0.1047 - out_mean_squared_error: 0.0078 - level1_mean_squared_error: 0.0120 - level2_mean_squared_error: 0.0186 - level3_mean_squared_error: 0.0511 - level4_mean_squared_error: 0.0719 - level5_mean_squared_error: 0.0301 - val_loss: 0.9862 - val_out_loss: 0.3221 - val_level1_loss: 0.1931 - val_level2_loss: 0.1781 - val_level3_loss: 0.1909 - val_level4_loss: 0.1769 - val_level5_loss: 0.1716 - val_out_mean_squared_error: 0.1217 - val_level1_mean_squared_error: 0.0648 - val_level2_mean_squared_error: 0.0720 - val_level3_mean_squared_error: 0.0624 - val_level4_mean_squared_error: 0.0629 - val_level5_mean_squared_error: 0.0549\n",
            "Epoch 9/300\n",
            "17/17 [==============================] - ETA: 0s - loss: 0.3160 - out_loss: 0.0501 - level1_loss: 0.0501 - level2_loss: 0.0509 - level3_loss: 0.0616 - level4_loss: 0.0675 - level5_loss: 0.1148 - out_mean_squared_error: 0.0061 - level1_mean_squared_error: 0.0095 - level2_mean_squared_error: 0.0121 - level3_mean_squared_error: 0.0649 - level4_mean_squared_error: 0.0503 - level5_mean_squared_error: 0.0300\n",
            "Epoch 00009: val_loss did not improve from 0.95390\n",
            "17/17 [==============================] - 12s 683ms/step - loss: 0.3160 - out_loss: 0.0501 - level1_loss: 0.0501 - level2_loss: 0.0509 - level3_loss: 0.0616 - level4_loss: 0.0675 - level5_loss: 0.1148 - out_mean_squared_error: 0.0061 - level1_mean_squared_error: 0.0095 - level2_mean_squared_error: 0.0121 - level3_mean_squared_error: 0.0649 - level4_mean_squared_error: 0.0503 - level5_mean_squared_error: 0.0300 - val_loss: 0.9891 - val_out_loss: 0.3252 - val_level1_loss: 0.1933 - val_level2_loss: 0.1778 - val_level3_loss: 0.1872 - val_level4_loss: 0.1760 - val_level5_loss: 0.1769 - val_out_mean_squared_error: 0.1240 - val_level1_mean_squared_error: 0.0648 - val_level2_mean_squared_error: 0.0710 - val_level3_mean_squared_error: 0.0619 - val_level4_mean_squared_error: 0.0625 - val_level5_mean_squared_error: 0.0700\n",
            "Epoch 10/300\n",
            "17/17 [==============================] - ETA: 0s - loss: 0.2837 - out_loss: 0.0482 - level1_loss: 0.0477 - level2_loss: 0.0487 - level3_loss: 0.0537 - level4_loss: 0.0627 - level5_loss: 0.0935 - out_mean_squared_error: 0.0060 - level1_mean_squared_error: 0.0070 - level2_mean_squared_error: 0.0109 - level3_mean_squared_error: 0.0223 - level4_mean_squared_error: 0.0410 - level5_mean_squared_error: 0.0224\n",
            "Epoch 00010: val_loss did not improve from 0.95390\n",
            "17/17 [==============================] - 12s 680ms/step - loss: 0.2837 - out_loss: 0.0482 - level1_loss: 0.0477 - level2_loss: 0.0487 - level3_loss: 0.0537 - level4_loss: 0.0627 - level5_loss: 0.0935 - out_mean_squared_error: 0.0060 - level1_mean_squared_error: 0.0070 - level2_mean_squared_error: 0.0109 - level3_mean_squared_error: 0.0223 - level4_mean_squared_error: 0.0410 - level5_mean_squared_error: 0.0224 - val_loss: 0.9722 - val_out_loss: 0.3227 - val_level1_loss: 0.1934 - val_level2_loss: 0.1777 - val_level3_loss: 0.1860 - val_level4_loss: 0.1735 - val_level5_loss: 0.1620 - val_out_mean_squared_error: 0.1224 - val_level1_mean_squared_error: 0.0646 - val_level2_mean_squared_error: 0.0709 - val_level3_mean_squared_error: 0.0617 - val_level4_mean_squared_error: 0.0638 - val_level5_mean_squared_error: 0.0561\n",
            "Epoch 11/300\n",
            "17/17 [==============================] - ETA: 0s - loss: 0.2821 - out_loss: 0.0481 - level1_loss: 0.0484 - level2_loss: 0.0481 - level3_loss: 0.0565 - level4_loss: 0.0587 - level5_loss: 0.0930 - out_mean_squared_error: 0.0058 - level1_mean_squared_error: 0.0072 - level2_mean_squared_error: 0.0074 - level3_mean_squared_error: 0.0304 - level4_mean_squared_error: 0.0189 - level5_mean_squared_error: 0.0232\n",
            "Epoch 00011: val_loss did not improve from 0.95390\n",
            "17/17 [==============================] - 12s 683ms/step - loss: 0.2821 - out_loss: 0.0481 - level1_loss: 0.0484 - level2_loss: 0.0481 - level3_loss: 0.0565 - level4_loss: 0.0587 - level5_loss: 0.0930 - out_mean_squared_error: 0.0058 - level1_mean_squared_error: 0.0072 - level2_mean_squared_error: 0.0074 - level3_mean_squared_error: 0.0304 - level4_mean_squared_error: 0.0189 - level5_mean_squared_error: 0.0232 - val_loss: 0.9835 - val_out_loss: 0.3244 - val_level1_loss: 0.1950 - val_level2_loss: 0.1777 - val_level3_loss: 0.1873 - val_level4_loss: 0.1753 - val_level5_loss: 0.1699 - val_out_mean_squared_error: 0.1236 - val_level1_mean_squared_error: 0.0646 - val_level2_mean_squared_error: 0.0708 - val_level3_mean_squared_error: 0.0617 - val_level4_mean_squared_error: 0.0629 - val_level5_mean_squared_error: 0.0608\n",
            "Epoch 12/300\n",
            "17/17 [==============================] - ETA: 0s - loss: 0.2734 - out_loss: 0.0463 - level1_loss: 0.0466 - level2_loss: 0.0476 - level3_loss: 0.0504 - level4_loss: 0.0562 - level5_loss: 0.0946 - out_mean_squared_error: 0.0047 - level1_mean_squared_error: 0.0064 - level2_mean_squared_error: 0.0082 - level3_mean_squared_error: 0.0160 - level4_mean_squared_error: 0.0191 - level5_mean_squared_error: 0.0441\n",
            "Epoch 00012: val_loss did not improve from 0.95390\n",
            "17/17 [==============================] - 12s 681ms/step - loss: 0.2734 - out_loss: 0.0463 - level1_loss: 0.0466 - level2_loss: 0.0476 - level3_loss: 0.0504 - level4_loss: 0.0562 - level5_loss: 0.0946 - out_mean_squared_error: 0.0047 - level1_mean_squared_error: 0.0064 - level2_mean_squared_error: 0.0082 - level3_mean_squared_error: 0.0160 - level4_mean_squared_error: 0.0191 - level5_mean_squared_error: 0.0441 - val_loss: 0.9727 - val_out_loss: 0.3206 - val_level1_loss: 0.1957 - val_level2_loss: 0.1776 - val_level3_loss: 0.1860 - val_level4_loss: 0.1730 - val_level5_loss: 0.1631 - val_out_mean_squared_error: 0.1208 - val_level1_mean_squared_error: 0.0644 - val_level2_mean_squared_error: 0.0695 - val_level3_mean_squared_error: 0.0613 - val_level4_mean_squared_error: 0.0632 - val_level5_mean_squared_error: 0.0544\n",
            "Epoch 13/300\n",
            "17/17 [==============================] - ETA: 0s - loss: 0.2595 - out_loss: 0.0456 - level1_loss: 0.0459 - level2_loss: 0.0464 - level3_loss: 0.0491 - level4_loss: 0.0560 - level5_loss: 0.0814 - out_mean_squared_error: 0.0046 - level1_mean_squared_error: 0.0064 - level2_mean_squared_error: 0.0077 - level3_mean_squared_error: 0.0182 - level4_mean_squared_error: 0.0231 - level5_mean_squared_error: 0.0203\n",
            "Epoch 00013: val_loss did not improve from 0.95390\n",
            "17/17 [==============================] - 12s 685ms/step - loss: 0.2595 - out_loss: 0.0456 - level1_loss: 0.0459 - level2_loss: 0.0464 - level3_loss: 0.0491 - level4_loss: 0.0560 - level5_loss: 0.0814 - out_mean_squared_error: 0.0046 - level1_mean_squared_error: 0.0064 - level2_mean_squared_error: 0.0077 - level3_mean_squared_error: 0.0182 - level4_mean_squared_error: 0.0231 - level5_mean_squared_error: 0.0203 - val_loss: 0.9717 - val_out_loss: 0.3120 - val_level1_loss: 0.1950 - val_level2_loss: 0.1775 - val_level3_loss: 0.1853 - val_level4_loss: 0.1724 - val_level5_loss: 0.1724 - val_out_mean_squared_error: 0.1150 - val_level1_mean_squared_error: 0.0640 - val_level2_mean_squared_error: 0.0692 - val_level3_mean_squared_error: 0.0612 - val_level4_mean_squared_error: 0.0628 - val_level5_mean_squared_error: 0.0614\n",
            "Epoch 14/300\n",
            "17/17 [==============================] - ETA: 0s - loss: 0.2432 - out_loss: 0.0446 - level1_loss: 0.0452 - level2_loss: 0.0453 - level3_loss: 0.0468 - level4_loss: 0.0505 - level5_loss: 0.0717 - out_mean_squared_error: 0.0046 - level1_mean_squared_error: 0.0065 - level2_mean_squared_error: 0.0080 - level3_mean_squared_error: 0.0118 - level4_mean_squared_error: 0.0097 - level5_mean_squared_error: 0.0230\n",
            "Epoch 00014: val_loss did not improve from 0.95390\n",
            "17/17 [==============================] - 12s 682ms/step - loss: 0.2432 - out_loss: 0.0446 - level1_loss: 0.0452 - level2_loss: 0.0453 - level3_loss: 0.0468 - level4_loss: 0.0505 - level5_loss: 0.0717 - out_mean_squared_error: 0.0046 - level1_mean_squared_error: 0.0065 - level2_mean_squared_error: 0.0080 - level3_mean_squared_error: 0.0118 - level4_mean_squared_error: 0.0097 - level5_mean_squared_error: 0.0230 - val_loss: 0.9657 - val_out_loss: 0.3067 - val_level1_loss: 0.1979 - val_level2_loss: 0.1780 - val_level3_loss: 0.1873 - val_level4_loss: 0.1732 - val_level5_loss: 0.1641 - val_out_mean_squared_error: 0.1115 - val_level1_mean_squared_error: 0.0643 - val_level2_mean_squared_error: 0.0675 - val_level3_mean_squared_error: 0.0608 - val_level4_mean_squared_error: 0.0620 - val_level5_mean_squared_error: 0.0562\n",
            "Epoch 15/300\n",
            "17/17 [==============================] - ETA: 0s - loss: 0.2378 - out_loss: 0.0426 - level1_loss: 0.0431 - level2_loss: 0.0444 - level3_loss: 0.0445 - level4_loss: 0.0486 - level5_loss: 0.0740 - out_mean_squared_error: 0.0039 - level1_mean_squared_error: 0.0051 - level2_mean_squared_error: 0.0100 - level3_mean_squared_error: 0.0076 - level4_mean_squared_error: 0.0082 - level5_mean_squared_error: 0.0190\n",
            "Epoch 00015: val_loss improved from 0.95390 to 0.95071, saving model to trained_models/MultiResUNet_1024_6_64_5_6_11.h5\n",
            "17/17 [==============================] - 13s 776ms/step - loss: 0.2378 - out_loss: 0.0426 - level1_loss: 0.0431 - level2_loss: 0.0444 - level3_loss: 0.0445 - level4_loss: 0.0486 - level5_loss: 0.0740 - out_mean_squared_error: 0.0039 - level1_mean_squared_error: 0.0051 - level2_mean_squared_error: 0.0100 - level3_mean_squared_error: 0.0076 - level4_mean_squared_error: 0.0082 - level5_mean_squared_error: 0.0190 - val_loss: 0.9507 - val_out_loss: 0.2943 - val_level1_loss: 0.1954 - val_level2_loss: 0.1775 - val_level3_loss: 0.1819 - val_level4_loss: 0.1734 - val_level5_loss: 0.1658 - val_out_mean_squared_error: 0.1037 - val_level1_mean_squared_error: 0.0639 - val_level2_mean_squared_error: 0.0680 - val_level3_mean_squared_error: 0.0609 - val_level4_mean_squared_error: 0.0622 - val_level5_mean_squared_error: 0.0557\n",
            "Epoch 16/300\n",
            "17/17 [==============================] - ETA: 0s - loss: 0.2341 - out_loss: 0.0423 - level1_loss: 0.0422 - level2_loss: 0.0441 - level3_loss: 0.0434 - level4_loss: 0.0481 - level5_loss: 0.0725 - out_mean_squared_error: 0.0042 - level1_mean_squared_error: 0.0047 - level2_mean_squared_error: 0.0107 - level3_mean_squared_error: 0.0063 - level4_mean_squared_error: 0.0083 - level5_mean_squared_error: 0.0120\n",
            "Epoch 00016: val_loss improved from 0.95071 to 0.94338, saving model to trained_models/MultiResUNet_1024_6_64_5_6_11.h5\n",
            "17/17 [==============================] - 13s 774ms/step - loss: 0.2341 - out_loss: 0.0423 - level1_loss: 0.0422 - level2_loss: 0.0441 - level3_loss: 0.0434 - level4_loss: 0.0481 - level5_loss: 0.0725 - out_mean_squared_error: 0.0042 - level1_mean_squared_error: 0.0047 - level2_mean_squared_error: 0.0107 - level3_mean_squared_error: 0.0063 - level4_mean_squared_error: 0.0083 - level5_mean_squared_error: 0.0120 - val_loss: 0.9434 - val_out_loss: 0.2829 - val_level1_loss: 0.1921 - val_level2_loss: 0.1772 - val_level3_loss: 0.1804 - val_level4_loss: 0.1723 - val_level5_loss: 0.1744 - val_out_mean_squared_error: 0.0971 - val_level1_mean_squared_error: 0.0635 - val_level2_mean_squared_error: 0.0685 - val_level3_mean_squared_error: 0.0611 - val_level4_mean_squared_error: 0.0641 - val_level5_mean_squared_error: 0.0603\n",
            "Epoch 17/300\n",
            "17/17 [==============================] - ETA: 0s - loss: 0.2319 - out_loss: 0.0418 - level1_loss: 0.0428 - level2_loss: 0.0437 - level3_loss: 0.0443 - level4_loss: 0.0469 - level5_loss: 0.0705 - out_mean_squared_error: 0.0041 - level1_mean_squared_error: 0.0066 - level2_mean_squared_error: 0.0090 - level3_mean_squared_error: 0.0101 - level4_mean_squared_error: 0.0074 - level5_mean_squared_error: 0.0119\n",
            "Epoch 00017: val_loss improved from 0.94338 to 0.91034, saving model to trained_models/MultiResUNet_1024_6_64_5_6_11.h5\n",
            "17/17 [==============================] - 13s 774ms/step - loss: 0.2319 - out_loss: 0.0418 - level1_loss: 0.0428 - level2_loss: 0.0437 - level3_loss: 0.0443 - level4_loss: 0.0469 - level5_loss: 0.0705 - out_mean_squared_error: 0.0041 - level1_mean_squared_error: 0.0066 - level2_mean_squared_error: 0.0090 - level3_mean_squared_error: 0.0101 - level4_mean_squared_error: 0.0074 - level5_mean_squared_error: 0.0119 - val_loss: 0.9103 - val_out_loss: 0.2760 - val_level1_loss: 0.1930 - val_level2_loss: 0.1769 - val_level3_loss: 0.1778 - val_level4_loss: 0.1700 - val_level5_loss: 0.1443 - val_out_mean_squared_error: 0.0932 - val_level1_mean_squared_error: 0.0633 - val_level2_mean_squared_error: 0.0673 - val_level3_mean_squared_error: 0.0604 - val_level4_mean_squared_error: 0.0569 - val_level5_mean_squared_error: 0.0368\n",
            "Epoch 18/300\n",
            "17/17 [==============================] - ETA: 0s - loss: 0.2314 - out_loss: 0.0420 - level1_loss: 0.0422 - level2_loss: 0.0431 - level3_loss: 0.0432 - level4_loss: 0.0504 - level5_loss: 0.0684 - out_mean_squared_error: 0.0038 - level1_mean_squared_error: 0.0048 - level2_mean_squared_error: 0.0070 - level3_mean_squared_error: 0.0063 - level4_mean_squared_error: 0.0209 - level5_mean_squared_error: 0.0230\n",
            "Epoch 00018: val_loss improved from 0.91034 to 0.90282, saving model to trained_models/MultiResUNet_1024_6_64_5_6_11.h5\n",
            "17/17 [==============================] - 13s 776ms/step - loss: 0.2314 - out_loss: 0.0420 - level1_loss: 0.0422 - level2_loss: 0.0431 - level3_loss: 0.0432 - level4_loss: 0.0504 - level5_loss: 0.0684 - out_mean_squared_error: 0.0038 - level1_mean_squared_error: 0.0048 - level2_mean_squared_error: 0.0070 - level3_mean_squared_error: 0.0063 - level4_mean_squared_error: 0.0209 - level5_mean_squared_error: 0.0230 - val_loss: 0.9028 - val_out_loss: 0.2685 - val_level1_loss: 0.1945 - val_level2_loss: 0.1765 - val_level3_loss: 0.1773 - val_level4_loss: 0.1668 - val_level5_loss: 0.1449 - val_out_mean_squared_error: 0.0894 - val_level1_mean_squared_error: 0.0630 - val_level2_mean_squared_error: 0.0659 - val_level3_mean_squared_error: 0.0591 - val_level4_mean_squared_error: 0.0579 - val_level5_mean_squared_error: 0.0370\n",
            "Epoch 19/300\n",
            "17/17 [==============================] - ETA: 0s - loss: 0.2318 - out_loss: 0.0408 - level1_loss: 0.0411 - level2_loss: 0.0419 - level3_loss: 0.0436 - level4_loss: 0.0472 - level5_loss: 0.0750 - out_mean_squared_error: 0.0038 - level1_mean_squared_error: 0.0049 - level2_mean_squared_error: 0.0066 - level3_mean_squared_error: 0.0105 - level4_mean_squared_error: 0.0142 - level5_mean_squared_error: 0.0444\n",
            "Epoch 00019: val_loss improved from 0.90282 to 0.87562, saving model to trained_models/MultiResUNet_1024_6_64_5_6_11.h5\n",
            "17/17 [==============================] - 13s 775ms/step - loss: 0.2318 - out_loss: 0.0408 - level1_loss: 0.0411 - level2_loss: 0.0419 - level3_loss: 0.0436 - level4_loss: 0.0472 - level5_loss: 0.0750 - out_mean_squared_error: 0.0038 - level1_mean_squared_error: 0.0049 - level2_mean_squared_error: 0.0066 - level3_mean_squared_error: 0.0105 - level4_mean_squared_error: 0.0142 - level5_mean_squared_error: 0.0444 - val_loss: 0.8756 - val_out_loss: 0.2560 - val_level1_loss: 0.1911 - val_level2_loss: 0.1753 - val_level3_loss: 0.1735 - val_level4_loss: 0.1605 - val_level5_loss: 0.1381 - val_out_mean_squared_error: 0.0833 - val_level1_mean_squared_error: 0.0625 - val_level2_mean_squared_error: 0.0658 - val_level3_mean_squared_error: 0.0574 - val_level4_mean_squared_error: 0.0532 - val_level5_mean_squared_error: 0.0345\n",
            "Epoch 20/300\n",
            "17/17 [==============================] - ETA: 0s - loss: 0.2315 - out_loss: 0.0407 - level1_loss: 0.0415 - level2_loss: 0.0420 - level3_loss: 0.0451 - level4_loss: 0.0476 - level5_loss: 0.0724 - out_mean_squared_error: 0.0035 - level1_mean_squared_error: 0.0052 - level2_mean_squared_error: 0.0075 - level3_mean_squared_error: 0.0168 - level4_mean_squared_error: 0.0132 - level5_mean_squared_error: 0.0295\n",
            "Epoch 00020: val_loss improved from 0.87562 to 0.85285, saving model to trained_models/MultiResUNet_1024_6_64_5_6_11.h5\n",
            "17/17 [==============================] - 13s 774ms/step - loss: 0.2315 - out_loss: 0.0407 - level1_loss: 0.0415 - level2_loss: 0.0420 - level3_loss: 0.0451 - level4_loss: 0.0476 - level5_loss: 0.0724 - out_mean_squared_error: 0.0035 - level1_mean_squared_error: 0.0052 - level2_mean_squared_error: 0.0075 - level3_mean_squared_error: 0.0168 - level4_mean_squared_error: 0.0132 - level5_mean_squared_error: 0.0295 - val_loss: 0.8529 - val_out_loss: 0.2500 - val_level1_loss: 0.1904 - val_level2_loss: 0.1742 - val_level3_loss: 0.1719 - val_level4_loss: 0.1574 - val_level5_loss: 0.1221 - val_out_mean_squared_error: 0.0804 - val_level1_mean_squared_error: 0.0617 - val_level2_mean_squared_error: 0.0644 - val_level3_mean_squared_error: 0.0560 - val_level4_mean_squared_error: 0.0512 - val_level5_mean_squared_error: 0.0263\n",
            "Epoch 21/300\n",
            "17/17 [==============================] - ETA: 0s - loss: 0.2155 - out_loss: 0.0404 - level1_loss: 0.0408 - level2_loss: 0.0418 - level3_loss: 0.0424 - level4_loss: 0.0441 - level5_loss: 0.0599 - out_mean_squared_error: 0.0039 - level1_mean_squared_error: 0.0053 - level2_mean_squared_error: 0.0086 - level3_mean_squared_error: 0.0094 - level4_mean_squared_error: 0.0065 - level5_mean_squared_error: 0.0147\n",
            "Epoch 00021: val_loss improved from 0.85285 to 0.82592, saving model to trained_models/MultiResUNet_1024_6_64_5_6_11.h5\n",
            "17/17 [==============================] - 13s 779ms/step - loss: 0.2155 - out_loss: 0.0404 - level1_loss: 0.0408 - level2_loss: 0.0418 - level3_loss: 0.0424 - level4_loss: 0.0441 - level5_loss: 0.0599 - out_mean_squared_error: 0.0039 - level1_mean_squared_error: 0.0053 - level2_mean_squared_error: 0.0086 - level3_mean_squared_error: 0.0094 - level4_mean_squared_error: 0.0065 - level5_mean_squared_error: 0.0147 - val_loss: 0.8259 - val_out_loss: 0.2408 - val_level1_loss: 0.1868 - val_level2_loss: 0.1721 - val_level3_loss: 0.1661 - val_level4_loss: 0.1489 - val_level5_loss: 0.1177 - val_out_mean_squared_error: 0.0760 - val_level1_mean_squared_error: 0.0605 - val_level2_mean_squared_error: 0.0632 - val_level3_mean_squared_error: 0.0533 - val_level4_mean_squared_error: 0.0459 - val_level5_mean_squared_error: 0.0233\n",
            "Epoch 22/300\n",
            "17/17 [==============================] - ETA: 0s - loss: 0.2083 - out_loss: 0.0394 - level1_loss: 0.0397 - level2_loss: 0.0402 - level3_loss: 0.0414 - level4_loss: 0.0445 - level5_loss: 0.0553 - out_mean_squared_error: 0.0034 - level1_mean_squared_error: 0.0048 - level2_mean_squared_error: 0.0055 - level3_mean_squared_error: 0.0073 - level4_mean_squared_error: 0.0110 - level5_mean_squared_error: 0.0093\n",
            "Epoch 00022: val_loss improved from 0.82592 to 0.80896, saving model to trained_models/MultiResUNet_1024_6_64_5_6_11.h5\n",
            "17/17 [==============================] - 14s 805ms/step - loss: 0.2083 - out_loss: 0.0394 - level1_loss: 0.0397 - level2_loss: 0.0402 - level3_loss: 0.0414 - level4_loss: 0.0445 - level5_loss: 0.0553 - out_mean_squared_error: 0.0034 - level1_mean_squared_error: 0.0048 - level2_mean_squared_error: 0.0055 - level3_mean_squared_error: 0.0073 - level4_mean_squared_error: 0.0110 - level5_mean_squared_error: 0.0093 - val_loss: 0.8090 - val_out_loss: 0.2334 - val_level1_loss: 0.1855 - val_level2_loss: 0.1691 - val_level3_loss: 0.1621 - val_level4_loss: 0.1448 - val_level5_loss: 0.1162 - val_out_mean_squared_error: 0.0722 - val_level1_mean_squared_error: 0.0590 - val_level2_mean_squared_error: 0.0601 - val_level3_mean_squared_error: 0.0503 - val_level4_mean_squared_error: 0.0444 - val_level5_mean_squared_error: 0.0248\n",
            "Epoch 23/300\n",
            "17/17 [==============================] - ETA: 0s - loss: 0.2083 - out_loss: 0.0398 - level1_loss: 0.0396 - level2_loss: 0.0406 - level3_loss: 0.0421 - level4_loss: 0.0437 - level5_loss: 0.0544 - out_mean_squared_error: 0.0037 - level1_mean_squared_error: 0.0043 - level2_mean_squared_error: 0.0065 - level3_mean_squared_error: 0.0092 - level4_mean_squared_error: 0.0112 - level5_mean_squared_error: 0.0088\n",
            "Epoch 00023: val_loss improved from 0.80896 to 0.77542, saving model to trained_models/MultiResUNet_1024_6_64_5_6_11.h5\n",
            "17/17 [==============================] - 13s 778ms/step - loss: 0.2083 - out_loss: 0.0398 - level1_loss: 0.0396 - level2_loss: 0.0406 - level3_loss: 0.0421 - level4_loss: 0.0437 - level5_loss: 0.0544 - out_mean_squared_error: 0.0037 - level1_mean_squared_error: 0.0043 - level2_mean_squared_error: 0.0065 - level3_mean_squared_error: 0.0092 - level4_mean_squared_error: 0.0112 - level5_mean_squared_error: 0.0088 - val_loss: 0.7754 - val_out_loss: 0.2209 - val_level1_loss: 0.1826 - val_level2_loss: 0.1671 - val_level3_loss: 0.1568 - val_level4_loss: 0.1366 - val_level5_loss: 0.1054 - val_out_mean_squared_error: 0.0670 - val_level1_mean_squared_error: 0.0578 - val_level2_mean_squared_error: 0.0579 - val_level3_mean_squared_error: 0.0477 - val_level4_mean_squared_error: 0.0391 - val_level5_mean_squared_error: 0.0191\n",
            "Epoch 24/300\n",
            "17/17 [==============================] - ETA: 0s - loss: 0.2075 - out_loss: 0.0383 - level1_loss: 0.0383 - level2_loss: 0.0396 - level3_loss: 0.0414 - level4_loss: 0.0436 - level5_loss: 0.0581 - out_mean_squared_error: 0.0037 - level1_mean_squared_error: 0.0040 - level2_mean_squared_error: 0.0074 - level3_mean_squared_error: 0.0093 - level4_mean_squared_error: 0.0125 - level5_mean_squared_error: 0.0108\n",
            "Epoch 00024: val_loss improved from 0.77542 to 0.73486, saving model to trained_models/MultiResUNet_1024_6_64_5_6_11.h5\n",
            "17/17 [==============================] - 13s 775ms/step - loss: 0.2075 - out_loss: 0.0383 - level1_loss: 0.0383 - level2_loss: 0.0396 - level3_loss: 0.0414 - level4_loss: 0.0436 - level5_loss: 0.0581 - out_mean_squared_error: 0.0037 - level1_mean_squared_error: 0.0040 - level2_mean_squared_error: 0.0074 - level3_mean_squared_error: 0.0093 - level4_mean_squared_error: 0.0125 - level5_mean_squared_error: 0.0108 - val_loss: 0.7349 - val_out_loss: 0.2083 - val_level1_loss: 0.1772 - val_level2_loss: 0.1623 - val_level3_loss: 0.1491 - val_level4_loss: 0.1283 - val_level5_loss: 0.0935 - val_out_mean_squared_error: 0.0613 - val_level1_mean_squared_error: 0.0549 - val_level2_mean_squared_error: 0.0546 - val_level3_mean_squared_error: 0.0433 - val_level4_mean_squared_error: 0.0345 - val_level5_mean_squared_error: 0.0144\n",
            "Epoch 25/300\n",
            "17/17 [==============================] - ETA: 0s - loss: 0.2177 - out_loss: 0.0402 - level1_loss: 0.0408 - level2_loss: 0.0419 - level3_loss: 0.0439 - level4_loss: 0.0476 - level5_loss: 0.0577 - out_mean_squared_error: 0.0037 - level1_mean_squared_error: 0.0051 - level2_mean_squared_error: 0.0086 - level3_mean_squared_error: 0.0114 - level4_mean_squared_error: 0.0210 - level5_mean_squared_error: 0.0102\n",
            "Epoch 00025: val_loss improved from 0.73486 to 0.70339, saving model to trained_models/MultiResUNet_1024_6_64_5_6_11.h5\n",
            "17/17 [==============================] - 13s 776ms/step - loss: 0.2177 - out_loss: 0.0402 - level1_loss: 0.0408 - level2_loss: 0.0419 - level3_loss: 0.0439 - level4_loss: 0.0476 - level5_loss: 0.0577 - out_mean_squared_error: 0.0037 - level1_mean_squared_error: 0.0051 - level2_mean_squared_error: 0.0086 - level3_mean_squared_error: 0.0114 - level4_mean_squared_error: 0.0210 - level5_mean_squared_error: 0.0102 - val_loss: 0.7034 - val_out_loss: 0.1978 - val_level1_loss: 0.1717 - val_level2_loss: 0.1569 - val_level3_loss: 0.1422 - val_level4_loss: 0.1233 - val_level5_loss: 0.0874 - val_out_mean_squared_error: 0.0588 - val_level1_mean_squared_error: 0.0521 - val_level2_mean_squared_error: 0.0508 - val_level3_mean_squared_error: 0.0396 - val_level4_mean_squared_error: 0.0330 - val_level5_mean_squared_error: 0.0128\n",
            "Epoch 26/300\n",
            "17/17 [==============================] - ETA: 0s - loss: 0.2173 - out_loss: 0.0385 - level1_loss: 0.0394 - level2_loss: 0.0394 - level3_loss: 0.0407 - level4_loss: 0.0449 - level5_loss: 0.0686 - out_mean_squared_error: 0.0037 - level1_mean_squared_error: 0.0055 - level2_mean_squared_error: 0.0054 - level3_mean_squared_error: 0.0074 - level4_mean_squared_error: 0.0102 - level5_mean_squared_error: 0.0357\n",
            "Epoch 00026: val_loss improved from 0.70339 to 0.67525, saving model to trained_models/MultiResUNet_1024_6_64_5_6_11.h5\n",
            "17/17 [==============================] - 13s 775ms/step - loss: 0.2173 - out_loss: 0.0385 - level1_loss: 0.0394 - level2_loss: 0.0394 - level3_loss: 0.0407 - level4_loss: 0.0449 - level5_loss: 0.0686 - out_mean_squared_error: 0.0037 - level1_mean_squared_error: 0.0055 - level2_mean_squared_error: 0.0054 - level3_mean_squared_error: 0.0074 - level4_mean_squared_error: 0.0102 - level5_mean_squared_error: 0.0357 - val_loss: 0.6752 - val_out_loss: 0.1881 - val_level1_loss: 0.1663 - val_level2_loss: 0.1515 - val_level3_loss: 0.1334 - val_level4_loss: 0.1152 - val_level5_loss: 0.0896 - val_out_mean_squared_error: 0.0527 - val_level1_mean_squared_error: 0.0495 - val_level2_mean_squared_error: 0.0478 - val_level3_mean_squared_error: 0.0350 - val_level4_mean_squared_error: 0.0278 - val_level5_mean_squared_error: 0.0156\n",
            "Epoch 27/300\n",
            " 4/17 [======>.......................] - ETA: 8s - loss: 0.2202 - out_loss: 0.0398 - level1_loss: 0.0405 - level2_loss: 0.0389 - level3_loss: 0.0404 - level4_loss: 0.0450 - level5_loss: 0.0706 - out_mean_squared_error: 0.0042 - level1_mean_squared_error: 0.0064 - level2_mean_squared_error: 0.0039 - level3_mean_squared_error: 0.0084 - level4_mean_squared_error: 0.0169 - level5_mean_squared_error: 0.0260"
          ]
        }
      ]
    },
    {
      "cell_type": "markdown",
      "metadata": {
        "id": "MflY4cE04oN7"
      },
      "source": [
        "# Prediction"
      ]
    },
    {
      "cell_type": "code",
      "metadata": {
        "id": "G-4OM5vr4oN7"
      },
      "source": [
        "if D_S == 0:\n",
        "    GRF_pred = model.predict(X_Test, verbose=1)\n",
        "    print(GRF_pred.shape)\n",
        "elif D_S == 1:\n",
        "    GRF_pred = model.predict(X_Test1, verbose=1)\n",
        "    print(GRF_pred[0].shape)"
      ],
      "execution_count": null,
      "outputs": []
    },
    {
      "cell_type": "code",
      "source": [
        "ground_truth_mean = np.mean(Y_Test, axis=0)\n",
        "ground_truth_std = np.std(Y_Test, axis=0)\n",
        "prediction = np.nan_to_num(GRF_pred[0][:, :, 0])\n",
        "prediction_mean = np.mean(prediction, axis=0)\n",
        "prediction_std = np.std(prediction, axis=0)"
      ],
      "metadata": {
        "id": "moGbBtKgG_MH"
      },
      "execution_count": null,
      "outputs": []
    },
    {
      "cell_type": "code",
      "source": [
        "R = np.corrcoef(ground_truth_mean, prediction_mean)[0, 1]"
      ],
      "metadata": {
        "id": "3Kl-nvENMN-y"
      },
      "execution_count": null,
      "outputs": []
    },
    {
      "cell_type": "code",
      "source": [
        "plt.figure(figsize=(12, 7))\n",
        "x = np.linspace(0, 100, FRAME_LEN)\n",
        "plt.plot(x, ground_truth_mean, linewidth=3, label='Ground Truth')\n",
        "plt.fill_between(\n",
        "    x, ground_truth_mean + ground_truth_std,\n",
        "    ground_truth_mean - ground_truth_std, alpha=0.3,\n",
        "    label='Ground Truth +/- STD'\n",
        ")\n",
        "plt.plot(x, prediction_mean, linewidth=3, label='Prediction')\n",
        "plt.fill_between(\n",
        "    x, prediction_mean + prediction_std,\n",
        "    prediction_mean - prediction_std, alpha=0.3,\n",
        "    label='Prediction +/- STD'\n",
        ")\n",
        "plt.legend()\n",
        "plt.title(f'R = {round(R, 5)}')\n",
        "plt.xlabel('Stance Phase (%)')\n",
        "plt.ylabel('GRF N/Kg (Normalized)')\n",
        "plt.savefig(figures_dir + 'Results_Fz_' + config + '.pdf')\n",
        "plt.show()"
      ],
      "metadata": {
        "id": "WcIRU_sFH-WA"
      },
      "execution_count": null,
      "outputs": []
    },
    {
      "cell_type": "markdown",
      "source": [
        "# Save Model"
      ],
      "metadata": {
        "id": "cVQTMzbguxgA"
      }
    },
    {
      "cell_type": "code",
      "source": [
        "from shutil import copy\n",
        "copy('trained_models/' + config + '.h5', models_dir)\n",
        "joblib.dump(history, models_dir + \\\n",
        "            'History_' + config + '.joblib')"
      ],
      "metadata": {
        "id": "kOt1Gg7SutXu"
      },
      "execution_count": null,
      "outputs": []
    },
    {
      "cell_type": "markdown",
      "metadata": {
        "id": "WsW0dNyN4oN7"
      },
      "source": [
        "# Learning curves"
      ]
    },
    {
      "cell_type": "code",
      "metadata": {
        "id": "S3Z2otb84oN7"
      },
      "source": [
        "def history_plot(history):\n",
        "    # list all dictionaries in history\n",
        "    print(history.history.keys())\n",
        "    # summarize history for error\n",
        "    plt.figure(figsize=(11,7))\n",
        "    plt.subplot(2,1,1)\n",
        "    plt.plot(history.history['out_mean_squared_error'])\n",
        "    plt.plot(history.history['val_out_mean_squared_error'])\n",
        "    plt.title('Model Error Performance')\n",
        "    plt.ylabel('Error')\n",
        "    plt.xlabel('Epoch')\n",
        "    plt.legend(['Train', 'Val'], loc='upper right')\n",
        "    #   plt.ylim([0, 3])\n",
        "    plt.show()\n",
        "    # summarize history for loss\n",
        "    plt.figure(figsize=(11,7))\n",
        "    plt.subplot(2,1,2)\n",
        "    plt.plot(history.history['out_loss'])\n",
        "    plt.plot(history.history['val_out_loss'])\n",
        "    plt.title('Model Loss')\n",
        "    plt.ylabel('Loss')\n",
        "    plt.xlabel('Epoch')\n",
        "    plt.legend(['Train', 'Val'], loc='upper right')\n",
        "    #   plt.ylim([0, 3])\n",
        "    plt.savefig(figures_dir + 'LC_' + config + '.pdf')\n",
        "    plt.show()\n",
        "#\n",
        "history_plot(history)"
      ],
      "execution_count": null,
      "outputs": []
    },
    {
      "cell_type": "markdown",
      "metadata": {
        "id": "DYBK8ann4oN8"
      },
      "source": [
        "# Visualize outcomes"
      ]
    },
    {
      "cell_type": "code",
      "metadata": {
        "id": "1f-mpSA34oN8"
      },
      "source": [
        "if D_S == 0:\n",
        "    random_idx = random.sample(range(0, Y_Test.shape[0]), 6)\n",
        "    plt.figure(figsize=(14, 9))\n",
        "    for i in range(6):\n",
        "        y_true = Y_Test[random_idx[i]]\n",
        "        y_pred = GRF_pred[random_idx[i]]\n",
        "        MAE = np.mean(np.abs(y_pred.ravel() - y_true.ravel()))\n",
        "        plt.subplot(2, 3, i + 1)\n",
        "        plt.plot(y_true, label='Ground Truth')\n",
        "        plt.plot(y_pred.ravel(), label='Prediction')\n",
        "        plt.title(f\"MAE [{random_idx[i]}] : {MAE}\")\n",
        "        plt.legend();\n",
        "    plt.show()\n",
        "    \n",
        "elif D_S == 1:\n",
        "    random_idx = random.sample(range(0, Y_Test.shape[0]), 6)\n",
        "    plt.figure(figsize=(14, 9))\n",
        "    for i in range(6):\n",
        "        y_true = Y_Test[random_idx[i]]\n",
        "        y_pred = GRF_pred[0][random_idx[i]]\n",
        "        MAE = np.mean(np.abs(y_pred.ravel() - y_true.ravel()))\n",
        "        plt.subplot(2, 3, i + 1)\n",
        "        plt.plot(y_true, label='Ground Truth', linewidth=3)\n",
        "        plt.plot(y_pred.ravel(), label='Prediction', linewidth=3)\n",
        "        plt.title(f\"MAE [{random_idx[i]}] : {round(MAE, 4)}\")\n",
        "        plt.legend()\n",
        "    plt.savefig(figures_dir + 'Examples_Fy_' + config + '.pdf')\n",
        "    plt.show()"
      ],
      "execution_count": null,
      "outputs": []
    },
    {
      "cell_type": "markdown",
      "metadata": {
        "id": "3elq2yvb4oN8"
      },
      "source": [
        "# Construction Error"
      ]
    },
    {
      "cell_type": "code",
      "metadata": {
        "id": "tivpIeIt738C"
      },
      "source": [
        "def Construction_Error(GRND, Pred):\n",
        "    construction_err = []\n",
        "    rmse = []\n",
        "    corr_coef = []\n",
        "    bad_indices = []\n",
        "    count = 0\n",
        "\n",
        "    for i in range(len(GRND)):\n",
        "        MAE = np.mean(np.abs(Pred[i].ravel() - GRND[i].ravel()))\n",
        "        RMSE = mean_squared_error(np.nan_to_num(Pred[i].ravel()), GRND[i].ravel(), squared=False)\n",
        "        R = np.corrcoef(np.nan_to_num(Pred[i].ravel()), GRND[i].ravel())[0, 1]\n",
        "        if MAE < 1:\n",
        "            construction_err.append(MAE)\n",
        "            rmse.append(RMSE)\n",
        "            corr_coef.append(R)\n",
        "        elif MAE >= 1:\n",
        "            count = count + 1\n",
        "            bad_indices.append(i)\n",
        "\n",
        "    print(f'Construction Error : {round(np.mean(construction_err), 3)} +/- {round(np.std(construction_err), 3)}')\n",
        "    print(f'RMSE : {round(np.mean(rmse), 3)} +/- {round(np.std(rmse), 3)}')\n",
        "    print(f'R : {round(np.mean(corr_coef), 3)} +/- {round(np.std(corr_coef), 3)}')\n",
        "    print(f'Number of Bad Predictions = {count}')\n",
        "\n",
        "    bad_indices = set(bad_indices)\n",
        "    all_indices = set(np.arange(len(GRND)))\n",
        "    good_indices = np.array(list(all_indices - bad_indices))\n",
        "    GRND_NEW = GRND[good_indices]\n",
        "    PRED_NEW = Pred[good_indices]\n",
        "\n",
        "    return GRND_NEW, PRED_NEW"
      ],
      "execution_count": null,
      "outputs": []
    },
    {
      "cell_type": "code",
      "metadata": {
        "id": "E5LZy8284oN9"
      },
      "source": [
        "[A,B] = Construction_Error(Y_Test, GRF_pred[0])"
      ],
      "execution_count": null,
      "outputs": []
    },
    {
      "cell_type": "markdown",
      "metadata": {
        "id": "c1P2HQPM4oN9"
      },
      "source": [
        "# Infinite loop to keep colab alive"
      ]
    },
    {
      "cell_type": "code",
      "metadata": {
        "id": "_HEA3DYo4oN9"
      },
      "source": [
        "while True:\n",
        "    pass"
      ],
      "execution_count": null,
      "outputs": []
    }
  ]
}