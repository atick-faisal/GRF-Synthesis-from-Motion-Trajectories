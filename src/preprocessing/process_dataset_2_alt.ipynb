{
  "cells": [
    {
      "cell_type": "code",
      "execution_count": 1,
      "metadata": {
        "id": "LhiDHswgZBby"
      },
      "outputs": [],
      "source": [
        "import os\n",
        "import h5py\n",
        "import numpy as np\n",
        "import pandas as pd\n",
        "import matplotlib.pyplot as plt\n",
        "\n",
        "from ezc3d import c3d\n",
        "from scipy.signal import resample\n",
        "from scipy.io import loadmat, savemat\n",
        "from joblib import load, dump\n",
        "from tqdm import tqdm\n",
        "from scipy.signal import butter, lfilter"
      ]
    },
    {
      "cell_type": "code",
      "execution_count": 2,
      "metadata": {
        "colab": {
          "base_uri": "https://localhost:8080/"
        },
        "id": "hlkxCf8PZjwJ",
        "outputId": "af02dbf7-3cdf-481f-baa7-ea5c484f23a4"
      },
      "outputs": [],
      "source": [
        "PATH_DATASETS = '../../Dataset/'\n",
        "PATH_DATASET_2 = 'gait-dbase-2/'\n",
        "\n",
        "N_SAMPLES = 1024\n",
        "FORCE_THRESHOLD = 20\n",
        "TOE_HEIGTH_THRESHOLD = 40"
      ]
    },
    {
      "cell_type": "code",
      "execution_count": 3,
      "metadata": {},
      "outputs": [],
      "source": [
        "class GrfFilter(object): \n",
        "    @staticmethod\n",
        "    def butter_lowpass(cutoff, fs, order):\n",
        "        nyq = 0.5 * fs\n",
        "        normal_cutoff = cutoff / nyq\n",
        "        b, a = butter(order, normal_cutoff, btype='low', analog=False)\n",
        "        return b, a\n",
        "\n",
        "    def apply(data, cutoff=10, fs=2000, order=2):\n",
        "        b, a = GrfFilter.butter_lowpass(cutoff, fs, order=order)\n",
        "        y = lfilter(b, a, data)\n",
        "        y = y - np.median(y)\n",
        "        return y"
      ]
    },
    {
      "cell_type": "code",
      "execution_count": 56,
      "metadata": {},
      "outputs": [],
      "source": [
        "def standardize(x):\n",
        "    return (x - np.mean(x, axis=0)) / np.std(x, axis=0)\n",
        "\n",
        "def require_positive(x):\n",
        "    if x < 0:\n",
        "        return 0\n",
        "    else:\n",
        "        return x\n",
        "\n",
        "def clip_overflow(x, max=N_SAMPLES):\n",
        "    if x >= max:\n",
        "        return N_SAMPLES - 1\n",
        "    else:\n",
        "        return x\n",
        "\n",
        "def clip_noise(x, min=FORCE_THRESHOLD):\n",
        "    mask = x > min\n",
        "    new_x = np.zeros(x.shape)\n",
        "    new_x[mask] = x[mask]\n",
        "    return new_x\n",
        "\n",
        "def get_first_grf(x, swing_period):\n",
        "    half_way = x.shape[0] / 2\n",
        "    temp = np.zeros(x.shape)\n",
        "    temp[:half_way] = x[:half_way]\n",
        "    stance_mask = temp < FORCE_THRESHOLD\n",
        "    stance_start = np.min(stance_mask == True)\n",
        "    stance_end = np.max(stance_mask == True)\n",
        "    roi_start = stance_start\n",
        "    roi_end = stance_end + swing_period\n",
        "    return temp[roi_start : roi_end]\n",
        "\n",
        "def get_processed_grf(grf, clip=False):\n",
        "    processed_grf = GrfFilter.apply(grf)\n",
        "    if clip:\n",
        "        processed_grf[processed_grf < FORCE_THRESHOLD] = 0\n",
        "    return resample(processed_grf, N_SAMPLES * 4, axis=0).T\n",
        "    "
      ]
    },
    {
      "cell_type": "code",
      "execution_count": 86,
      "metadata": {
        "id": "FJ5MckVigEFX"
      },
      "outputs": [
        {
          "name": "stderr",
          "output_type": "stream",
          "text": [
            "  0%|          | 0/16 [00:10<?, ?it/s]"
          ]
        },
        {
          "name": "stdout",
          "output_type": "stream",
          "text": [
            "Number of good samples:  10\n",
            "Number of bad samples:  0\n"
          ]
        },
        {
          "name": "stderr",
          "output_type": "stream",
          "text": [
            "\n"
          ]
        }
      ],
      "source": [
        "path = os.path.join(PATH_DATASETS, PATH_DATASET_2)\n",
        "subjects = os.listdir(path)\n",
        "\n",
        "features = pd.DataFrame()\n",
        "target = pd.DataFrame()\n",
        "\n",
        "records = []\n",
        "n_samples = 0\n",
        "n_bad_samples = 0\n",
        "\n",
        "for subject in tqdm(subjects):\n",
        "    velocities_path = os.path.join(path, subject, 'Raw_Data')\n",
        "    velocities = os.listdir(velocities_path)\n",
        "\n",
        "    for velocity in velocities:\n",
        "\n",
        "        files_path = os.path.join(velocities_path, velocity)\n",
        "        files = os.listdir(files_path)\n",
        "\n",
        "        for filename in files:\n",
        "            # try:\n",
        "                content = c3d(os.path.join(files_path, filename), extract_forceplat_data=True)\n",
        "            \n",
        "                # trajectory_x_r = content['data']['points'][0, 6:11, :]\n",
        "                # trajectory_y_r = content['data']['points'][1, 6:11, :]\n",
        "                # trajectory_z_r = content['data']['points'][2, 6:11, :]\n",
        "\n",
        "                # trajectory_x_l = content['data']['points'][0, 18:23, :]\n",
        "                # trajectory_y_l = content['data']['points'][1, 18:23, :]\n",
        "                # trajectory_z_l = content['data']['points'][2, 18:23, :]\n",
        "\n",
        "                # trajectory_x_r = resample(trajectory_x_r, N_SAMPLES, axis=1).T\n",
        "                # trajectory_y_r = resample(trajectory_y_r, N_SAMPLES, axis=1).T\n",
        "                # trajectory_z_r = resample(trajectory_z_r, N_SAMPLES, axis=1).T\n",
        "\n",
        "                # trajectory_x_l = resample(trajectory_x_l, N_SAMPLES, axis=1).T\n",
        "                # trajectory_y_l = resample(trajectory_y_l, N_SAMPLES, axis=1).T\n",
        "                # trajectory_z_l = resample(trajectory_z_l, N_SAMPLES, axis=1).T\n",
        "\n",
        "                # ...................... Force X ...........................\n",
        "\n",
        "                force_x_2 = content['data']['platform'][1]['force'][0, :]\n",
        "                force_x_3 = content['data']['platform'][2]['force'][0, :]\n",
        "                force_x_4 = content['data']['platform'][3]['force'][0, :]\n",
        "                force_x_5 = content['data']['platform'][4]['force'][0, :]\n",
        "\n",
        "                # .................... Fix sign of left foot .....................\n",
        "                force_x_3 = -force_x_3\n",
        "                force_x_5 = -force_x_5\n",
        "\n",
        "                force_x_2 = get_processed_grf(force_x_2)\n",
        "                force_x_3 = get_processed_grf(force_x_3)\n",
        "                force_x_4 = get_processed_grf(force_x_4)\n",
        "                force_x_5 = get_processed_grf(force_x_5)\n",
        "\n",
        "                # ..................... Force Y ...........................\n",
        "\n",
        "                force_y_2 = content['data']['platform'][1]['force'][1, :]\n",
        "                force_y_3 = content['data']['platform'][2]['force'][1, :]\n",
        "                force_y_4 = content['data']['platform'][3]['force'][1, :]\n",
        "                force_y_5 = content['data']['platform'][4]['force'][1, :]\n",
        "\n",
        "                force_y_2 = get_processed_grf(force_y_2)\n",
        "                force_y_3 = get_processed_grf(force_y_3)\n",
        "                force_y_4 = get_processed_grf(force_y_4)\n",
        "                force_y_5 = get_processed_grf(force_y_5)\n",
        "\n",
        "                # ....................... Force Z ............................\n",
        "\n",
        "                force_z_2 = content['data']['platform'][1]['force'][2, :]\n",
        "                force_z_3 = content['data']['platform'][2]['force'][2, :]\n",
        "                force_z_4 = content['data']['platform'][3]['force'][2, :]\n",
        "                force_z_5 = content['data']['platform'][4]['force'][2, :]\n",
        "\n",
        "                force_z_2 = get_processed_grf(force_z_2, True)\n",
        "                force_z_3 = get_processed_grf(force_z_3, True)\n",
        "                force_z_4 = get_processed_grf(force_z_4, True)\n",
        "                force_z_5 = get_processed_grf(force_z_5, True)\n",
        "\n",
        "\n",
        "                # ... Remove all zero GRF samples\n",
        "                if np.mean(force_z_2) <= FORCE_THRESHOLD or np.mean(force_z_3) <= FORCE_THRESHOLD \\\n",
        "                    or np.mean(force_z_4) <= FORCE_THRESHOLD or np.mean(force_z_5) <= FORCE_THRESHOLD:\n",
        "                    n_bad_samples = n_bad_samples + 1\n",
        "                    continue\n",
        "\n",
        "                grf_combined_x_r = force_x_2 + force_x_4\n",
        "                grf_combined_x_l = force_x_3 + force_x_5\n",
        "                grf_combined_y_r = force_y_2 + force_y_4\n",
        "                grf_combined_y_l = force_y_3 + force_y_5\n",
        "                grf_combined_z_r = force_z_2 + force_z_4\n",
        "                grf_combined_z_l = force_z_3 + force_z_5\n",
        "\n",
        "                grf_mask_r = (grf_combined_z_r >= FORCE_THRESHOLD)\n",
        "                grf_mask_l = (grf_combined_z_l >= FORCE_THRESHOLD)\n",
        "\n",
        "                grf_start_r = np.min(np.argwhere(grf_mask_r == True))\n",
        "                grf_end_r = np.max(np.argwhere(grf_mask_r == True))\n",
        "                grf_start_l = np.min(np.argwhere(grf_mask_l == True))\n",
        "                grf_end_l = np.max(np.argwhere(grf_mask_l == True))\n",
        "\n",
        "                swing_period_r = np.sum(grf_combined_z_r[grf_start_r:grf_end_r] <= FORCE_THRESHOLD)\n",
        "                swing_period_l = np.sum(grf_combined_z_l[grf_start_l:grf_end_l] <= FORCE_THRESHOLD)\n",
        "\n",
        "                mask_force_x_r_1 = (force_x_2 > FORCE_THRESHOLD)\n",
        "                mask_force_x_r_2 = (force_x_4 > FORCE_THRESHOLD)\n",
        "                mask_force_x_l_1 = (force_x_3 > FORCE_THRESHOLD)\n",
        "                mask_force_x_l_2 = (force_x_5 > FORCE_THRESHOLD)\n",
        "\n",
        "                mask_force_y_r_1 = (force_y_2 > FORCE_THRESHOLD)\n",
        "                mask_force_y_r_2 = (force_y_4 > FORCE_THRESHOLD)\n",
        "                mask_force_y_l_1 = (force_y_3 > FORCE_THRESHOLD)\n",
        "                mask_force_y_l_2 = (force_y_5 > FORCE_THRESHOLD)\n",
        "\n",
        "                mask_force_z_r_1 = (force_z_2 > FORCE_THRESHOLD)\n",
        "                mask_force_z_r_2 = (force_z_4 > FORCE_THRESHOLD)\n",
        "                mask_force_z_l_1 = (force_z_3 > FORCE_THRESHOLD)\n",
        "                mask_force_z_l_2 = (force_z_5 > FORCE_THRESHOLD)\n",
        "\n",
        "\n",
        "                # ----------------------- RIGHT ----------------------\n",
        "\n",
        "                start = np.min(np.argwhere(mask_force_z_r_1 == True))\n",
        "                end = np.max(np.argwhere(mask_force_z_r_1 == True)) + swing_period_r\n",
        "\n",
        "                force_x_r_1 = force_x_2[start : end]\n",
        "                force_y_r_1 = force_y_2[start : end]\n",
        "                force_z_r_1 = force_z_2[start : end]\n",
        "\n",
        "                start = np.min(np.argwhere(mask_force_z_r_2 == True))\n",
        "                end = np.max(np.argwhere(mask_force_z_r_2 == True)) + swing_period_r\n",
        "\n",
        "                force_x_r_2 = force_x_4[start : end]\n",
        "                force_y_r_2 = force_y_4[start : end]\n",
        "                force_z_r_2 = force_z_4[start : end]\n",
        "\n",
        "                # ----------------------- LEFT ----------------------\n",
        "\n",
        "                start = np.min(np.argwhere(mask_force_z_l_1 == True))\n",
        "                end = np.max(np.argwhere(mask_force_z_l_1 == True)) + swing_period_l\n",
        "\n",
        "                force_x_l_1 = force_x_3[start : end]\n",
        "                force_y_l_1 = force_y_3[start : end]\n",
        "                force_z_l_1 = force_z_3[start : end]\n",
        "\n",
        "                start = np.min(np.argwhere(mask_force_z_l_2 == True))\n",
        "                end = np.max(np.argwhere(mask_force_z_l_2 == True)) + swing_period_l\n",
        "\n",
        "                force_x_l_2 = force_x_5[start : end]\n",
        "                force_y_l_2 = force_y_5[start : end]\n",
        "                force_z_l_2 = force_z_5[start : end]\n",
        "\n",
        "                # roi_start_r = require_positive(grf_start_r - swing_period_r)\n",
        "                # roi_end_r = clip_overflow(grf_end_r + swing_period_r)\n",
        "\n",
        "                # roi_start_l = require_positive(grf_start_l - swing_period_l)\n",
        "                # roi_end_l = clip_overflow(grf_end_l + swing_period_l)\n",
        "\n",
        "                # trajectory_x_r = trajectory_x_r[roi_start_l:roi_end_l]\n",
        "                # trajectory_x_l = trajectory_x_l[roi_start_r:roi_end_r]\n",
        "                # trajectory_y_r = trajectory_y_r[roi_start_l:roi_end_l]\n",
        "                # trajectory_y_l = trajectory_y_l[roi_start_r:roi_end_r]\n",
        "                # trajectory_z_r = trajectory_z_r[roi_start_l:roi_end_l]\n",
        "                # trajectory_z_l = trajectory_z_l[roi_start_r:roi_end_r]\n",
        "\n",
        "                # force_x_r = grf_combined_x_r[roi_start_r:roi_end_r]\n",
        "                # force_x_l = grf_combined_x_l[roi_start_l:roi_end_l]\n",
        "                # force_y_r = grf_combined_y_r[roi_start_r:roi_end_r]\n",
        "                # force_y_l = grf_combined_y_l[roi_start_l:roi_end_l]\n",
        "                # force_z_r = grf_combined_z_r[roi_start_r:roi_end_r]\n",
        "                # force_z_l = grf_combined_z_l[roi_start_l:roi_end_l]\n",
        "\n",
        "                # trajectory_x_r = resample(trajectory_x_r, N_SAMPLES, axis=0)\n",
        "                # trajectory_x_l = resample(trajectory_x_l, N_SAMPLES, axis=0)\n",
        "                # trajectory_y_r = resample(trajectory_y_r, N_SAMPLES, axis=0)\n",
        "                # trajectory_y_l = resample(trajectory_y_l, N_SAMPLES, axis=0)\n",
        "                # trajectory_z_r = resample(trajectory_z_r, N_SAMPLES, axis=0)\n",
        "                # trajectory_z_l = resample(trajectory_z_l, N_SAMPLES, axis=0)\n",
        "\n",
        "                # force_x_r = resample(force_x_r, N_SAMPLES, axis=0)\n",
        "                # force_x_l = resample(force_x_l, N_SAMPLES, axis=0)\n",
        "                # force_y_r = resample(force_y_r, N_SAMPLES, axis=0)\n",
        "                # force_y_l = resample(force_y_l, N_SAMPLES, axis=0)\n",
        "                # force_z_r = resample(force_z_r, N_SAMPLES, axis=0)\n",
        "                # force_z_l = resample(force_z_l, N_SAMPLES, axis=0)\n",
        "\n",
        "                force_x_r_1 = resample(force_x_r_1, N_SAMPLES, axis=0)\n",
        "                force_x_l_1 = resample(force_x_l_1, N_SAMPLES, axis=0)\n",
        "                force_x_r_2 = resample(force_x_r_2, N_SAMPLES, axis=0)\n",
        "                force_x_l_2 = resample(force_x_l_2, N_SAMPLES, axis=0)\n",
        "\n",
        "                force_y_r_1 = resample(force_y_r_1, N_SAMPLES, axis=0)\n",
        "                force_y_l_1 = resample(force_y_l_1, N_SAMPLES, axis=0)\n",
        "                force_y_r_2 = resample(force_y_r_2, N_SAMPLES, axis=0)\n",
        "                force_y_l_2 = resample(force_y_l_2, N_SAMPLES, axis=0)\n",
        "\n",
        "                force_z_r_1 = resample(force_z_r_1, N_SAMPLES, axis=0)\n",
        "                force_z_l_1 = resample(force_z_l_1, N_SAMPLES, axis=0)\n",
        "                force_z_r_2 = resample(force_z_r_2, N_SAMPLES, axis=0)\n",
        "                force_z_l_2 = resample(force_z_l_2, N_SAMPLES, axis=0)\n",
        "\n",
        "\n",
        "                # ... Standardize\n",
        "                # trajectory_x_r = standardize(trajectory_x_r)\n",
        "                # trajectory_x_l = standardize(trajectory_x_l)\n",
        "                # trajectory_y_r = standardize(trajectory_y_r)\n",
        "                # trajectory_y_l = standardize(trajectory_y_l)\n",
        "                # trajectory_z_r = standardize(trajectory_z_r)\n",
        "                # trajectory_z_l = standardize(trajectory_z_l)\n",
        "\n",
        "                # force_x_r = standardize(force_x_r)\n",
        "                # force_x_l = standardize(force_x_l)\n",
        "                # force_y_r = standardize(force_y_r)\n",
        "                # force_y_l = standardize(force_y_l)\n",
        "                # force_z_r = standardize(force_z_r)\n",
        "                # force_z_l = standardize(force_z_l)\n",
        "\n",
        "                # _features_l = pd.DataFrame(\n",
        "                #     np.concatenate([trajectory_x_l, trajectory_y_l, trajectory_z_l], axis=1),\n",
        "                #     columns=[\n",
        "                #         '7_x', '8_x', '9_x', '10_x', '11_x',\n",
        "                #         '7_y', '8_y', '9_y', '10_y', '11_y',\n",
        "                #         '7_z', '8_z', '9_z', '10_z', '11_z'\n",
        "                #     ]\n",
        "                # )\n",
        "\n",
        "                # _features_r = pd.DataFrame(\n",
        "                #     np.concatenate([trajectory_x_r, trajectory_y_r, trajectory_z_r], axis=1),\n",
        "                #     columns=[\n",
        "                #         '7_x', '8_x', '9_x', '10_x', '11_x',\n",
        "                #         '7_y', '8_y', '9_y', '10_y', '11_y',\n",
        "                #         '7_z', '8_z', '9_z', '10_z', '11_z'\n",
        "                #     ]\n",
        "                # )\n",
        "\n",
        "                # _features = pd.concat([_features_l, _features_r], axis=0)\n",
        "\n",
        "                _target_r_1 = pd.DataFrame(\n",
        "                    np.stack([force_x_r_1, force_y_r_1, force_z_r_1], axis=1),\n",
        "                    columns=['fx', 'fy', 'fz']\n",
        "                )\n",
        "\n",
        "                _target_r_2 = pd.DataFrame(\n",
        "                    np.stack([force_x_r_2, force_y_r_2, force_z_r_2], axis=1),\n",
        "                    columns=['fx', 'fy', 'fz']\n",
        "                )\n",
        "\n",
        "                _target_l_1 = pd.DataFrame(\n",
        "                    np.stack([force_x_l_1, force_y_l_1, force_z_l_1], axis=1),\n",
        "                    columns=['fx', 'fy', 'fz']\n",
        "                )\n",
        "\n",
        "                _target_l_2 = pd.DataFrame(\n",
        "                    np.stack([force_x_l_2, force_y_l_2, force_z_l_2], axis=1),\n",
        "                    columns=['fx', 'fy', 'fz']\n",
        "                )\n",
        "\n",
        "                _target = pd.concat([_target_r_1, _target_r_2, _target_l_1, _target_l_2], axis=0)\n",
        "\n",
        "                # features = pd.concat([features, _features], axis=0, ignore_index=True)\n",
        "                target = pd.concat([target, _target], axis=0, ignore_index=True)\n",
        "\n",
        "                records.append(filename)\n",
        "\n",
        "                n_samples = n_samples + 1\n",
        "\n",
        "            # except Exception as e:\n",
        "            #     print(f'ERROR [{subject}/{velocity}/{filename}]: {e}')\n",
        "            #     n_bad_samples = n_bad_samples + 1\n",
        "            #     pass\n",
        "            # break\n",
        "        break\n",
        "    break\n",
        "\n",
        "print('Number of good samples: ', n_samples)\n",
        "print('Number of bad samples: ', n_bad_samples)"
      ]
    },
    {
      "cell_type": "code",
      "execution_count": 84,
      "metadata": {},
      "outputs": [
        {
          "data": {
            "text/plain": [
              "722"
            ]
          },
          "execution_count": 84,
          "metadata": {},
          "output_type": "execute_result"
        }
      ],
      "source": [
        "grf_start_r"
      ]
    },
    {
      "cell_type": "code",
      "execution_count": 85,
      "metadata": {},
      "outputs": [
        {
          "data": {
            "text/plain": [
              "[<matplotlib.lines.Line2D at 0x7fe21a25ce80>]"
            ]
          },
          "execution_count": 85,
          "metadata": {},
          "output_type": "execute_result"
        },
        {
          "data": {
            "image/png": "[encoded data removed]",
            "text/plain": [
              "<Figure size 432x288 with 1 Axes>"
            ]
          },
          "metadata": {
            "needs_background": "light"
          },
          "output_type": "display_data"
        }
      ],
      "source": [
        "plt.plot(force_z_r_1)"
      ]
    },
    {
      "cell_type": "code",
      "execution_count": 80,
      "metadata": {},
      "outputs": [
        {
          "data": {
            "text/plain": [
              "[<matplotlib.lines.Line2D at 0x7fe2200c4940>]"
            ]
          },
          "execution_count": 80,
          "metadata": {},
          "output_type": "execute_result"
        },
        {
          "data": {
            "image/png": "[encoded data removed]",
            "text/plain": [
              "<Figure size 432x288 with 1 Axes>"
            ]
          },
          "metadata": {
            "needs_background": "light"
          },
          "output_type": "display_data"
        }
      ],
      "source": [
        "plt.plot(force_z_2)\n",
        "plt.plot(force_z_4)"
      ]
    },
    {
      "cell_type": "code",
      "execution_count": 8,
      "metadata": {},
      "outputs": [
        {
          "data": {
            "text/html": [
              "<div>\n",
              "<style scoped>\n",
              "    .dataframe tbody tr th:only-of-type {\n",
              "        vertical-align: middle;\n",
              "    }\n",
              "\n",
              "    .dataframe tbody tr th {\n",
              "        vertical-align: top;\n",
              "    }\n",
              "\n",
              "    .dataframe thead th {\n",
              "        text-align: right;\n",
              "    }\n",
              "</style>\n",
              "<table border=\"1\" class=\"dataframe\">\n",
              "  <thead>\n",
              "    <tr style=\"text-align: right;\">\n",
              "      <th></th>\n",
              "      <th>7_x</th>\n",
              "      <th>8_x</th>\n",
              "      <th>9_x</th>\n",
              "      <th>10_x</th>\n",
              "      <th>11_x</th>\n",
              "      <th>7_y</th>\n",
              "      <th>8_y</th>\n",
              "      <th>9_y</th>\n",
              "      <th>10_y</th>\n",
              "      <th>11_y</th>\n",
              "      <th>7_z</th>\n",
              "      <th>8_z</th>\n",
              "      <th>9_z</th>\n",
              "      <th>10_z</th>\n",
              "      <th>11_z</th>\n",
              "    </tr>\n",
              "  </thead>\n",
              "  <tbody>\n",
              "    <tr>\n",
              "      <th>0</th>\n",
              "      <td>0.525651</td>\n",
              "      <td>0.522405</td>\n",
              "      <td>0.498826</td>\n",
              "      <td>0.641698</td>\n",
              "      <td>0.615675</td>\n",
              "      <td>-1.504327</td>\n",
              "      <td>-1.440021</td>\n",
              "      <td>-1.439210</td>\n",
              "      <td>-1.395655</td>\n",
              "      <td>-1.398567</td>\n",
              "      <td>-0.507495</td>\n",
              "      <td>-0.780480</td>\n",
              "      <td>-0.830014</td>\n",
              "      <td>-0.816721</td>\n",
              "      <td>-0.713094</td>\n",
              "    </tr>\n",
              "    <tr>\n",
              "      <th>1</th>\n",
              "      <td>0.661515</td>\n",
              "      <td>0.656541</td>\n",
              "      <td>0.630743</td>\n",
              "      <td>0.803473</td>\n",
              "      <td>0.771981</td>\n",
              "      <td>-1.684362</td>\n",
              "      <td>-1.612322</td>\n",
              "      <td>-1.611542</td>\n",
              "      <td>-1.564359</td>\n",
              "      <td>-1.567870</td>\n",
              "      <td>-0.491793</td>\n",
              "      <td>-0.830439</td>\n",
              "      <td>-0.878123</td>\n",
              "      <td>-0.831218</td>\n",
              "      <td>-0.723652</td>\n",
              "    </tr>\n",
              "    <tr>\n",
              "      <th>2</th>\n",
              "      <td>0.376186</td>\n",
              "      <td>0.372299</td>\n",
              "      <td>0.353259</td>\n",
              "      <td>0.475552</td>\n",
              "      <td>0.450689</td>\n",
              "      <td>-1.274310</td>\n",
              "      <td>-1.220498</td>\n",
              "      <td>-1.220060</td>\n",
              "      <td>-1.180708</td>\n",
              "      <td>-1.182908</td>\n",
              "      <td>-0.526388</td>\n",
              "      <td>-0.726886</td>\n",
              "      <td>-0.770529</td>\n",
              "      <td>-0.771093</td>\n",
              "      <td>-0.689505</td>\n",
              "    </tr>\n",
              "    <tr>\n",
              "      <th>3</th>\n",
              "      <td>0.606480</td>\n",
              "      <td>0.609722</td>\n",
              "      <td>0.578394</td>\n",
              "      <td>0.757877</td>\n",
              "      <td>0.726485</td>\n",
              "      <td>-1.645242</td>\n",
              "      <td>-1.575919</td>\n",
              "      <td>-1.575121</td>\n",
              "      <td>-1.528841</td>\n",
              "      <td>-1.532266</td>\n",
              "      <td>-0.512380</td>\n",
              "      <td>-0.818485</td>\n",
              "      <td>-0.860888</td>\n",
              "      <td>-0.834853</td>\n",
              "      <td>-0.728221</td>\n",
              "    </tr>\n",
              "    <tr>\n",
              "      <th>4</th>\n",
              "      <td>0.436273</td>\n",
              "      <td>0.467512</td>\n",
              "      <td>0.440226</td>\n",
              "      <td>0.595456</td>\n",
              "      <td>0.565483</td>\n",
              "      <td>-1.428638</td>\n",
              "      <td>-1.367589</td>\n",
              "      <td>-1.366992</td>\n",
              "      <td>-1.324788</td>\n",
              "      <td>-1.327650</td>\n",
              "      <td>-0.522338</td>\n",
              "      <td>-0.766661</td>\n",
              "      <td>-0.805312</td>\n",
              "      <td>-0.798131</td>\n",
              "      <td>-0.707299</td>\n",
              "    </tr>\n",
              "    <tr>\n",
              "      <th>...</th>\n",
              "      <td>...</td>\n",
              "      <td>...</td>\n",
              "      <td>...</td>\n",
              "      <td>...</td>\n",
              "      <td>...</td>\n",
              "      <td>...</td>\n",
              "      <td>...</td>\n",
              "      <td>...</td>\n",
              "      <td>...</td>\n",
              "      <td>...</td>\n",
              "      <td>...</td>\n",
              "      <td>...</td>\n",
              "      <td>...</td>\n",
              "      <td>...</td>\n",
              "      <td>...</td>\n",
              "    </tr>\n",
              "    <tr>\n",
              "      <th>20475</th>\n",
              "      <td>1.456519</td>\n",
              "      <td>1.236936</td>\n",
              "      <td>1.189035</td>\n",
              "      <td>0.937947</td>\n",
              "      <td>0.660011</td>\n",
              "      <td>1.588889</td>\n",
              "      <td>1.501613</td>\n",
              "      <td>1.494762</td>\n",
              "      <td>1.437967</td>\n",
              "      <td>1.389784</td>\n",
              "      <td>-0.879298</td>\n",
              "      <td>-0.200628</td>\n",
              "      <td>-0.043689</td>\n",
              "      <td>-0.816496</td>\n",
              "      <td>-0.396110</td>\n",
              "    </tr>\n",
              "    <tr>\n",
              "      <th>20476</th>\n",
              "      <td>1.601527</td>\n",
              "      <td>1.358753</td>\n",
              "      <td>1.321286</td>\n",
              "      <td>1.066694</td>\n",
              "      <td>0.768783</td>\n",
              "      <td>1.990474</td>\n",
              "      <td>1.894640</td>\n",
              "      <td>1.888354</td>\n",
              "      <td>1.816701</td>\n",
              "      <td>1.757346</td>\n",
              "      <td>-0.898464</td>\n",
              "      <td>-0.128585</td>\n",
              "      <td>-0.004067</td>\n",
              "      <td>-0.766495</td>\n",
              "      <td>-0.333006</td>\n",
              "    </tr>\n",
              "    <tr>\n",
              "      <th>20477</th>\n",
              "      <td>1.304626</td>\n",
              "      <td>1.121811</td>\n",
              "      <td>1.096049</td>\n",
              "      <td>0.878562</td>\n",
              "      <td>0.658518</td>\n",
              "      <td>1.163950</td>\n",
              "      <td>1.090602</td>\n",
              "      <td>1.084985</td>\n",
              "      <td>1.044235</td>\n",
              "      <td>1.009349</td>\n",
              "      <td>-0.809791</td>\n",
              "      <td>-0.278973</td>\n",
              "      <td>-0.126033</td>\n",
              "      <td>-0.809512</td>\n",
              "      <td>-0.438320</td>\n",
              "    </tr>\n",
              "    <tr>\n",
              "      <th>20478</th>\n",
              "      <td>1.563336</td>\n",
              "      <td>1.281222</td>\n",
              "      <td>1.224803</td>\n",
              "      <td>0.905391</td>\n",
              "      <td>0.561224</td>\n",
              "      <td>2.002464</td>\n",
              "      <td>1.895548</td>\n",
              "      <td>1.887946</td>\n",
              "      <td>1.806263</td>\n",
              "      <td>1.740325</td>\n",
              "      <td>-1.090352</td>\n",
              "      <td>-0.224450</td>\n",
              "      <td>-0.069068</td>\n",
              "      <td>-0.855576</td>\n",
              "      <td>-0.324224</td>\n",
              "    </tr>\n",
              "    <tr>\n",
              "      <th>20479</th>\n",
              "      <td>1.475229</td>\n",
              "      <td>1.299305</td>\n",
              "      <td>1.307826</td>\n",
              "      <td>1.184577</td>\n",
              "      <td>1.000099</td>\n",
              "      <td>1.522931</td>\n",
              "      <td>1.453514</td>\n",
              "      <td>1.450638</td>\n",
              "      <td>1.404161</td>\n",
              "      <td>1.364730</td>\n",
              "      <td>-0.641523</td>\n",
              "      <td>-0.101147</td>\n",
              "      <td>-0.052341</td>\n",
              "      <td>-0.663622</td>\n",
              "      <td>-0.364880</td>\n",
              "    </tr>\n",
              "  </tbody>\n",
              "</table>\n",
              "<p>20480 rows × 15 columns</p>\n",
              "</div>"
            ],
            "text/plain": [
              "            7_x       8_x       9_x      10_x      11_x       7_y       8_y  \\\n",
              "0      0.525651  0.522405  0.498826  0.641698  0.615675 -1.504327 -1.440021   \n",
              "1      0.661515  0.656541  0.630743  0.803473  0.771981 -1.684362 -1.612322   \n",
              "2      0.376186  0.372299  0.353259  0.475552  0.450689 -1.274310 -1.220498   \n",
              "3      0.606480  0.609722  0.578394  0.757877  0.726485 -1.645242 -1.575919   \n",
              "4      0.436273  0.467512  0.440226  0.595456  0.565483 -1.428638 -1.367589   \n",
              "...         ...       ...       ...       ...       ...       ...       ...   \n",
              "20475  1.456519  1.236936  1.189035  0.937947  0.660011  1.588889  1.501613   \n",
              "20476  1.601527  1.358753  1.321286  1.066694  0.768783  1.990474  1.894640   \n",
              "20477  1.304626  1.121811  1.096049  0.878562  0.658518  1.163950  1.090602   \n",
              "20478  1.563336  1.281222  1.224803  0.905391  0.561224  2.002464  1.895548   \n",
              "20479  1.475229  1.299305  1.307826  1.184577  1.000099  1.522931  1.453514   \n",
              "\n",
              "            9_y      10_y      11_y       7_z       8_z       9_z      10_z  \\\n",
              "0     -1.439210 -1.395655 -1.398567 -0.507495 -0.780480 -0.830014 -0.816721   \n",
              "1     -1.611542 -1.564359 -1.567870 -0.491793 -0.830439 -0.878123 -0.831218   \n",
              "2     -1.220060 -1.180708 -1.182908 -0.526388 -0.726886 -0.770529 -0.771093   \n",
              "3     -1.575121 -1.528841 -1.532266 -0.512380 -0.818485 -0.860888 -0.834853   \n",
              "4     -1.366992 -1.324788 -1.327650 -0.522338 -0.766661 -0.805312 -0.798131   \n",
              "...         ...       ...       ...       ...       ...       ...       ...   \n",
              "20475  1.494762  1.437967  1.389784 -0.879298 -0.200628 -0.043689 -0.816496   \n",
              "20476  1.888354  1.816701  1.757346 -0.898464 -0.128585 -0.004067 -0.766495   \n",
              "20477  1.084985  1.044235  1.009349 -0.809791 -0.278973 -0.126033 -0.809512   \n",
              "20478  1.887946  1.806263  1.740325 -1.090352 -0.224450 -0.069068 -0.855576   \n",
              "20479  1.450638  1.404161  1.364730 -0.641523 -0.101147 -0.052341 -0.663622   \n",
              "\n",
              "           11_z  \n",
              "0     -0.713094  \n",
              "1     -0.723652  \n",
              "2     -0.689505  \n",
              "3     -0.728221  \n",
              "4     -0.707299  \n",
              "...         ...  \n",
              "20475 -0.396110  \n",
              "20476 -0.333006  \n",
              "20477 -0.438320  \n",
              "20478 -0.324224  \n",
              "20479 -0.364880  \n",
              "\n",
              "[20480 rows x 15 columns]"
            ]
          },
          "execution_count": 8,
          "metadata": {},
          "output_type": "execute_result"
        }
      ],
      "source": [
        "features"
      ]
    },
    {
      "cell_type": "code",
      "execution_count": 7,
      "metadata": {},
      "outputs": [
        {
          "data": {
            "text/html": [
              "<div>\n",
              "<style scoped>\n",
              "    .dataframe tbody tr th:only-of-type {\n",
              "        vertical-align: middle;\n",
              "    }\n",
              "\n",
              "    .dataframe tbody tr th {\n",
              "        vertical-align: top;\n",
              "    }\n",
              "\n",
              "    .dataframe thead th {\n",
              "        text-align: right;\n",
              "    }\n",
              "</style>\n",
              "<table border=\"1\" class=\"dataframe\">\n",
              "  <thead>\n",
              "    <tr style=\"text-align: right;\">\n",
              "      <th></th>\n",
              "      <th>fx</th>\n",
              "      <th>fy</th>\n",
              "      <th>fz</th>\n",
              "    </tr>\n",
              "  </thead>\n",
              "  <tbody>\n",
              "    <tr>\n",
              "      <th>0</th>\n",
              "      <td>0.863244</td>\n",
              "      <td>0.055511</td>\n",
              "      <td>-0.948637</td>\n",
              "    </tr>\n",
              "    <tr>\n",
              "      <th>1</th>\n",
              "      <td>0.863799</td>\n",
              "      <td>0.053706</td>\n",
              "      <td>-0.948305</td>\n",
              "    </tr>\n",
              "    <tr>\n",
              "      <th>2</th>\n",
              "      <td>0.872782</td>\n",
              "      <td>0.052119</td>\n",
              "      <td>-0.947595</td>\n",
              "    </tr>\n",
              "    <tr>\n",
              "      <th>3</th>\n",
              "      <td>0.871075</td>\n",
              "      <td>0.050444</td>\n",
              "      <td>-0.947984</td>\n",
              "    </tr>\n",
              "    <tr>\n",
              "      <th>4</th>\n",
              "      <td>0.876305</td>\n",
              "      <td>0.048470</td>\n",
              "      <td>-0.947460</td>\n",
              "    </tr>\n",
              "    <tr>\n",
              "      <th>...</th>\n",
              "      <td>...</td>\n",
              "      <td>...</td>\n",
              "      <td>...</td>\n",
              "    </tr>\n",
              "    <tr>\n",
              "      <th>2007035</th>\n",
              "      <td>0.824179</td>\n",
              "      <td>0.021090</td>\n",
              "      <td>-0.976676</td>\n",
              "    </tr>\n",
              "    <tr>\n",
              "      <th>2007036</th>\n",
              "      <td>0.838015</td>\n",
              "      <td>0.021205</td>\n",
              "      <td>-0.977637</td>\n",
              "    </tr>\n",
              "    <tr>\n",
              "      <th>2007037</th>\n",
              "      <td>0.847455</td>\n",
              "      <td>0.020994</td>\n",
              "      <td>-0.978282</td>\n",
              "    </tr>\n",
              "    <tr>\n",
              "      <th>2007038</th>\n",
              "      <td>0.802710</td>\n",
              "      <td>0.019769</td>\n",
              "      <td>-0.974661</td>\n",
              "    </tr>\n",
              "    <tr>\n",
              "      <th>2007039</th>\n",
              "      <td>0.901240</td>\n",
              "      <td>0.021739</td>\n",
              "      <td>-0.981838</td>\n",
              "    </tr>\n",
              "  </tbody>\n",
              "</table>\n",
              "<p>2007040 rows × 3 columns</p>\n",
              "</div>"
            ],
            "text/plain": [
              "               fx        fy        fz\n",
              "0        0.863244  0.055511 -0.948637\n",
              "1        0.863799  0.053706 -0.948305\n",
              "2        0.872782  0.052119 -0.947595\n",
              "3        0.871075  0.050444 -0.947984\n",
              "4        0.876305  0.048470 -0.947460\n",
              "...           ...       ...       ...\n",
              "2007035  0.824179  0.021090 -0.976676\n",
              "2007036  0.838015  0.021205 -0.977637\n",
              "2007037  0.847455  0.020994 -0.978282\n",
              "2007038  0.802710  0.019769 -0.974661\n",
              "2007039  0.901240  0.021739 -0.981838\n",
              "\n",
              "[2007040 rows x 3 columns]"
            ]
          },
          "execution_count": 7,
          "metadata": {},
          "output_type": "execute_result"
        }
      ],
      "source": [
        "target"
      ]
    },
    {
      "cell_type": "code",
      "execution_count": 8,
      "metadata": {},
      "outputs": [
        {
          "data": {
            "text/plain": [
              "['../../Dataset/Processed/data2.joblib']"
            ]
          },
          "execution_count": 8,
          "metadata": {},
          "output_type": "execute_result"
        }
      ],
      "source": [
        "path = '../../Dataset/Processed/data2.joblib'\n",
        "data = {\n",
        "    'X': features,\n",
        "    'y': target\n",
        "}\n",
        "# dump(data, path)"
      ]
    },
    {
      "cell_type": "markdown",
      "metadata": {},
      "source": [
        "<h1 align=\"center\">Verification</h1>"
      ]
    },
    {
      "cell_type": "code",
      "execution_count": 9,
      "metadata": {},
      "outputs": [],
      "source": [
        "path = '../../Dataset/Processed/data2.joblib'\n",
        "data = load(path)\n",
        "\n",
        "features = data['X']\n",
        "target = data['y']"
      ]
    },
    {
      "cell_type": "code",
      "execution_count": 23,
      "metadata": {},
      "outputs": [
        {
          "data": {
            "image/png": "[encoded data removed]",
            "text/plain": [
              "<Figure size 432x288 with 1 Axes>"
            ]
          },
          "metadata": {
            "needs_background": "light"
          },
          "output_type": "display_data"
        }
      ],
      "source": [
        "x = features['7_z'].to_numpy().reshape(-1, N_SAMPLES)\n",
        "for i in range(x.shape[0]):\n",
        "    plt.plot(x[i, :])"
      ]
    },
    {
      "cell_type": "code",
      "execution_count": 87,
      "metadata": {},
      "outputs": [
        {
          "data": {
            "image/png": "[encoded data removed]",
            "text/plain": [
              "<Figure size 432x288 with 1 Axes>"
            ]
          },
          "metadata": {
            "needs_background": "light"
          },
          "output_type": "display_data"
        }
      ],
      "source": [
        "y = target['fz'].to_numpy().reshape(-1, N_SAMPLES)\n",
        "for i in range(y.shape[0]):\n",
        "    plt.plot(y[i, :])"
      ]
    },
    {
      "cell_type": "code",
      "execution_count": 12,
      "metadata": {},
      "outputs": [
        {
          "data": {
            "text/plain": [
              "<matplotlib.legend.Legend at 0x7fcb75689e80>"
            ]
          },
          "execution_count": 12,
          "metadata": {},
          "output_type": "execute_result"
        },
        {
          "data": {
            "image/png": "[encoded data removed]",
            "text/plain": [
              "<Figure size 648x288 with 1 Axes>"
            ]
          },
          "metadata": {
            "needs_background": "light"
          },
          "output_type": "display_data"
        }
      ],
      "source": [
        "path = '../../Dataset/gait-dbase-2/Participant14/Raw_Data/V35/T4.c3d'\n",
        "content = c3d(path, extract_forceplat_data=True)\n",
        "force_z_1 = content['data']['platform'][0]['force'][2, :]\n",
        "force_z_2 = content['data']['platform'][1]['force'][2, :]\n",
        "force_z_3 = content['data']['platform'][2]['force'][2, :]\n",
        "force_z_4 = content['data']['platform'][3]['force'][2, :]\n",
        "force_z_5 = content['data']['platform'][4]['force'][2, :]\n",
        "force_z_6 = content['data']['platform'][5]['force'][2, :]\n",
        "# trajectory_z_l = content['data']['points'][2, 9:15, :]\n",
        "# trajectory_z_r = content['data']['points'][2, 20:26, :]\n",
        "trajectory_z_r = content['data']['points'][2, 6:11, :]\n",
        "trajectory_z_l = content['data']['points'][2, 18:23, :]\n",
        "\n",
        "# clean_grf = GrfFilter.apply(force_z_2)\n",
        "plt.figure(figsize=(9, 4))\n",
        "# plt.plot(force_z_1, label='Force plate 1')\n",
        "plt.plot(force_z_2, label='Right 1')\n",
        "# plt.plot(force_z_3, label='Left 1')\n",
        "plt.plot(force_z_4, label='Right 2')\n",
        "# plt.plot(force_z_5, label='Left 2')\n",
        "# plt.plot(force_z_6, label='Force plate 6')\n",
        "# plt.plot(trajectory_z_l.T)\n",
        "\n",
        "plt.legend()"
      ]
    },
    {
      "cell_type": "code",
      "execution_count": 37,
      "metadata": {},
      "outputs": [
        {
          "data": {
            "text/plain": [
              "3"
            ]
          },
          "execution_count": 37,
          "metadata": {},
          "output_type": "execute_result"
        }
      ],
      "source": [
        "z = np.zeros((3, 1))\n",
        "len(z)"
      ]
    },
    {
      "cell_type": "code",
      "execution_count": 39,
      "metadata": {},
      "outputs": [
        {
          "data": {
            "text/plain": [
              "(1024,)"
            ]
          },
          "execution_count": 39,
          "metadata": {},
          "output_type": "execute_result"
        }
      ],
      "source": [
        "force_x_4.shape"
      ]
    },
    {
      "cell_type": "code",
      "execution_count": null,
      "metadata": {},
      "outputs": [],
      "source": []
    }
  ],
  "metadata": {
    "colab": {
      "name": "process_dataset_2.ipynb",
      "provenance": []
    },
    "interpreter": {
      "hash": "b9e8b413bd195f698761fbb7f1cc8940f40efdff75a04973931ad61a6fc56074"
    },
    "kernelspec": {
      "display_name": "Python 3.8.8 64-bit ('base': conda)",
      "name": "python3"
    },
    "language_info": {
      "codemirror_mode": {
        "name": "ipython",
        "version": 3
      },
      "file_extension": ".py",
      "mimetype": "text/x-python",
      "name": "python",
      "nbconvert_exporter": "python",
      "pygments_lexer": "ipython3",
      "version": "3.8.8"
    },
    "orig_nbformat": 4
  },
  "nbformat": 4,
  "nbformat_minor": 0
}
