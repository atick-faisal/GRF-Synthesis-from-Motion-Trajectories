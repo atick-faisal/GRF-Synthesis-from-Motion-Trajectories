{
 "cells": [
  {
   "cell_type": "code",
   "execution_count": 1,
   "metadata": {},
   "outputs": [],
   "source": [
    "import os\n",
    "import gc\n",
    "import h5py\n",
    "import numpy as np\n",
    "import pandas as pd\n",
    "import matplotlib.pyplot as plt\n",
    "from ezc3d import c3d\n",
    "from scipy.signal import resample\n",
    "from scipy.io import loadmat, savemat\n",
    "from joblib import load, dump\n",
    "from tqdm import tqdm\n",
    "from scipy.signal import butter, lfilter, medfilt"
   ]
  },
  {
   "cell_type": "markdown",
   "metadata": {},
   "source": [
    "# Constants"
   ]
  },
  {
   "cell_type": "code",
   "execution_count": 2,
   "metadata": {},
   "outputs": [],
   "source": [
    "PATH_DATASETS = '../../Dataset/'\n",
    "PATH_DATASET_1 = 'gait-dbase-1/'\n",
    "\n",
    "N_SAMPLES = 1024\n",
    "FORCE_THRESHOLD = 20\n",
    "TOE_HEIGTH_THRESHOLD = 40"
   ]
  },
  {
   "cell_type": "markdown",
   "metadata": {},
   "source": [
    "# Filter "
   ]
  },
  {
   "cell_type": "code",
   "execution_count": 3,
   "metadata": {},
   "outputs": [],
   "source": [
    "class LowPassFilter(object): \n",
    "    @staticmethod\n",
    "    def butter_lowpass(cutoff, fs, order):\n",
    "        nyq = 0.5 * fs\n",
    "        normal_cutoff = cutoff / nyq\n",
    "        b, a = butter(order, normal_cutoff, btype='low', analog=False)\n",
    "        return b, a\n",
    "\n",
    "    def apply(data, cutoff=6, fs=1500, order=2, axis=-1):\n",
    "        b, a = LowPassFilter.butter_lowpass(cutoff, fs, order=order)\n",
    "        y = lfilter(b, a, data, axis=axis)\n",
    "        y = y - np.median(y)\n",
    "        return y"
   ]
  },
  {
   "cell_type": "markdown",
   "metadata": {},
   "source": [
    "# Functions"
   ]
  },
  {
   "cell_type": "code",
   "execution_count": 4,
   "metadata": {},
   "outputs": [],
   "source": [
    "def standardize(x):\n",
    "    # return (x - np.mean(x, axis=0)) / np.std(x, axis=0)\n",
    "    return (x - np.min(x, axis=0)) / (np.max(x, axis=0) - np.min(x, axis=0))\n",
    "\n",
    "def get_processed_grf(grf, clip=False):\n",
    "    singn_corrected = grf if np.mean(grf) > 0 else (-grf)\n",
    "    processed_grf = LowPassFilter.apply(singn_corrected, fs=1500, cutoff=20)\n",
    "    if clip:\n",
    "        processed_grf[processed_grf < FORCE_THRESHOLD] = 0\n",
    "    return resample(processed_grf, N_SAMPLES * 3, axis=0).T\n",
    "\n",
    "def get_processed_moment(moment):\n",
    "    processed_moment = LowPassFilter.apply(moment, fs=1500, cutoff=20)\n",
    "    return resample(processed_moment, N_SAMPLES * 3, axis=0).T\n",
    "\n",
    "def get_trajectories(content, foot='right'):\n",
    "    if foot == 'right':\n",
    "        trajectory_x = content['data']['points'][0, 9:15, :]\n",
    "        trajectory_y = content['data']['points'][1, 9:15, :]\n",
    "        trajectory_z = content['data']['points'][2, 9:15, :]\n",
    "\n",
    "    elif foot == 'left':\n",
    "        trajectory_x = content['data']['points'][0, 20:26, :]\n",
    "        trajectory_y = content['data']['points'][1, 20:26, :]\n",
    "        trajectory_z = content['data']['points'][2, 20:26, :]\n",
    "\n",
    "    else:\n",
    "        raise ValueError('Third foot is not allowed')\n",
    "\n",
    "    # trajectory_x = LowPassFilter.apply(trajectory_x, fs=200, cutoff=20)\n",
    "    # trajectory_y = LowPassFilter.apply(trajectory_y, fs=200, cutoff=20)\n",
    "    # trajectory_z = LowPassFilter.apply(trajectory_z, fs=200, cutoff=20)\n",
    "\n",
    "    trajectory_x = resample(trajectory_x, N_SAMPLES * 3, axis=1).T\n",
    "    trajectory_y = resample(trajectory_y, N_SAMPLES * 3, axis=1).T\n",
    "    trajectory_z = resample(trajectory_z, N_SAMPLES * 3, axis=1).T\n",
    "\n",
    "    return trajectory_x, trajectory_y, trajectory_z\n",
    "\n",
    "def get_force(content):\n",
    "    force_x = []\n",
    "    force_y = []\n",
    "    force_z = []\n",
    "    for i in range(2):\n",
    "        force_x.append(\n",
    "            get_processed_grf(\n",
    "                content['data']['platform'][i]['force'][0, :]\n",
    "            )\n",
    "        )\n",
    "        force_y.append(\n",
    "            get_processed_grf(\n",
    "                content['data']['platform'][i]['force'][1, :]\n",
    "            )\n",
    "        )\n",
    "        force_z.append(\n",
    "            get_processed_grf(\n",
    "                content['data']['platform'][i]['force'][2, :], True\n",
    "            )\n",
    "        )\n",
    "\n",
    "    return force_x, force_y, force_z\n",
    "\n",
    "def get_moment(content):\n",
    "    moment_x = []\n",
    "    moment_y = []\n",
    "    moment_z = []\n",
    "    for i in range(2):\n",
    "        moment_x.append(\n",
    "            get_processed_moment(\n",
    "                content['data']['platform'][i]['moment'][0, :]\n",
    "            )\n",
    "        )\n",
    "        moment_y.append(\n",
    "            get_processed_moment(\n",
    "                content['data']['platform'][i]['moment'][1, :]\n",
    "            )\n",
    "        )\n",
    "        moment_z.append(\n",
    "            get_processed_moment(\n",
    "                content['data']['platform'][i]['moment'][2, :]\n",
    "            )\n",
    "        )\n",
    "\n",
    "    return moment_x, moment_y, moment_z"
   ]
  },
  {
   "cell_type": "markdown",
   "metadata": {},
   "source": [
    "# Test Bench"
   ]
  },
  {
   "cell_type": "code",
   "execution_count": 5,
   "metadata": {},
   "outputs": [],
   "source": [
    "path = '/home/ai/Python/GRF-Synthesis-from-Motion-Trajectories/Dataset/gait-dbase-1/2014001/2014001_C1_04.c3d'\n",
    "content = c3d(path, extract_forceplat_data=True)"
   ]
  },
  {
   "cell_type": "code",
   "execution_count": 6,
   "metadata": {},
   "outputs": [],
   "source": [
    "trajectory_x_r, trajectory_y_r, trajectory_z_r = get_trajectories(content, 'right')\n",
    "trajectory_x_l, trajectory_y_l, trajectory_z_l = get_trajectories(content, 'left')\n",
    "\n",
    "force_x, force_y, force_z = get_force(content)"
   ]
  },
  {
   "cell_type": "code",
   "execution_count": 7,
   "metadata": {},
   "outputs": [
    {
     "data": {
      "image/png": "[encoded data removed]",
      "text/plain": [
       "<Figure size 432x288 with 1 Axes>"
      ]
     },
     "metadata": {
      "needs_background": "light"
     },
     "output_type": "display_data"
    }
   ],
   "source": [
    "plt.plot(trajectory_z_l[:, 0])\n",
    "plt.plot(trajectory_z_r[:, 0])\n",
    "plt.show()"
   ]
  },
  {
   "cell_type": "code",
   "execution_count": 8,
   "metadata": {},
   "outputs": [
    {
     "data": {
      "image/png": "[encoded data removed]",
      "text/plain": [
       "<Figure size 432x288 with 1 Axes>"
      ]
     },
     "metadata": {
      "needs_background": "light"
     },
     "output_type": "display_data"
    }
   ],
   "source": [
    "plt.plot(force_z[0])\n",
    "plt.plot(force_z[1])\n",
    "plt.show()"
   ]
  },
  {
   "cell_type": "code",
   "execution_count": 9,
   "metadata": {},
   "outputs": [],
   "source": [
    "mask_force_z_1 = (force_z[0] > FORCE_THRESHOLD)\n",
    "mask_force_z_2 = (force_z[1] > FORCE_THRESHOLD)\n",
    "\n",
    "start_1 = np.min(np.argwhere(mask_force_z_1 == True))\n",
    "end_1 = np.max(np.argwhere(mask_force_z_1 == True))\n",
    "\n",
    "start_2 = np.min(np.argwhere(mask_force_z_2 == True))\n",
    "end_2 = np.max(np.argwhere(mask_force_z_2 == True))\n",
    "\n",
    "force_x_1 = force_x[0][start_1 : end_1]\n",
    "force_y_1 = force_y[0][start_1 : end_1]\n",
    "force_z_1 = force_z[0][start_1 : end_1]\n",
    "\n",
    "force_x_2 = force_x[1][start_2 : end_2]\n",
    "force_y_2 = force_y[1][start_2 : end_2]\n",
    "force_z_2 = force_z[1][start_2 : end_2]\n",
    "\n",
    "temp_l = trajectory_z_l[start_1 : end_1, 0]\n",
    "temp_r = trajectory_z_r[start_1 : end_1, 0]\n",
    "\n",
    "force_x_r = 0\n",
    "force_y_r = 0\n",
    "force_z_r = 0\n",
    "\n",
    "force_x_l = 0\n",
    "force_y_l = 0\n",
    "force_z_l = 0\n",
    "\n",
    "if np.sum(temp_l) > np.sum(temp_r):\n",
    "    force_x_r = force_x_1\n",
    "    force_y_r = force_y_1\n",
    "    force_z_r = force_z_1\n",
    "\n",
    "    force_x_l = force_x_2\n",
    "    force_y_l = force_y_2\n",
    "    force_z_l = force_z_2\n",
    "\n",
    "    trajectory_x_r = trajectory_x_l[start_2 : end_2]\n",
    "    trajectory_y_r = trajectory_y_r[start_2 : end_2]\n",
    "    trajectory_z_r = trajectory_z_r[start_2 : end_2]\n",
    "\n",
    "    trajectory_x_l = trajectory_x_r[start_1 : end_1]\n",
    "    trajectory_y_l = trajectory_y_l[start_1 : end_1]\n",
    "    trajectory_z_l = trajectory_z_l[start_1 : end_1]\n",
    "\n",
    "else:\n",
    "    force_x_l = force_x_1\n",
    "    force_y_l = force_y_1\n",
    "    force_z_l = force_z_1\n",
    "\n",
    "    force_x_r = force_x_2\n",
    "    force_y_r = force_y_2\n",
    "    force_z_r = force_z_2\n",
    "\n",
    "    trajectory_x_r = trajectory_x_l[start_1 : end_1]\n",
    "    trajectory_y_r = trajectory_y_r[start_1 : end_1]\n",
    "    trajectory_z_r = trajectory_z_r[start_1 : end_1]\n",
    "\n",
    "    trajectory_x_l = trajectory_x_r[start_2 : end_2]\n",
    "    trajectory_y_l = trajectory_y_l[start_2 : end_2]\n",
    "    trajectory_z_l = trajectory_z_l[start_2 : end_2]\n",
    "\n",
    "# ... Resample\n",
    "trajectory_x_r = resample(trajectory_x_r, N_SAMPLES, axis=0)\n",
    "trajectory_y_r = resample(trajectory_y_r, N_SAMPLES, axis=0)\n",
    "trajectory_z_r = resample(trajectory_z_r, N_SAMPLES, axis=0)\n",
    "\n",
    "trajectory_x_l = resample(trajectory_x_l, N_SAMPLES, axis=0)\n",
    "trajectory_y_l = resample(trajectory_y_l, N_SAMPLES, axis=0)\n",
    "trajectory_z_l = resample(trajectory_z_l, N_SAMPLES, axis=0)\n",
    "\n",
    "force_x_r = resample(force_x_r, N_SAMPLES, axis=0)\n",
    "force_y_r = resample(force_y_r, N_SAMPLES, axis=0)\n",
    "force_z_r = resample(force_z_r, N_SAMPLES, axis=0)\n",
    "\n",
    "force_x_l = resample(force_x_l, N_SAMPLES, axis=0)\n",
    "force_y_l = resample(force_y_l, N_SAMPLES, axis=0)\n",
    "force_z_l = resample(force_z_l, N_SAMPLES, axis=0)\n",
    "\n",
    "# ... Standardize\n",
    "trajectory_x_r = standardize(trajectory_x_r)\n",
    "trajectory_y_r = standardize(trajectory_y_r)\n",
    "trajectory_z_r = standardize(trajectory_z_r)\n",
    "\n",
    "trajectory_x_l = standardize(trajectory_x_l)\n",
    "trajectory_y_l = standardize(trajectory_y_l)\n",
    "trajectory_z_l = standardize(trajectory_z_l)\n",
    "\n",
    "force_x_r = standardize(force_x_r)\n",
    "force_y_r = standardize(force_y_r)\n",
    "force_z_r = standardize(force_z_r)\n",
    "\n",
    "force_x_l = standardize(force_x_l)\n",
    "force_y_l = standardize(force_y_l)\n",
    "force_z_l = standardize(force_z_l)"
   ]
  },
  {
   "cell_type": "code",
   "execution_count": 10,
   "metadata": {},
   "outputs": [
    {
     "data": {
      "text/plain": [
       "[<matplotlib.lines.Line2D at 0x7f2bc69e0d90>]"
      ]
     },
     "execution_count": 10,
     "metadata": {},
     "output_type": "execute_result"
    },
    {
     "data": {
      "image/png": "[encoded data removed]",
      "text/plain": [
       "<Figure size 432x288 with 1 Axes>"
      ]
     },
     "metadata": {
      "needs_background": "light"
     },
     "output_type": "display_data"
    }
   ],
   "source": [
    "plt.plot(trajectory_z_l[:, 0])\n",
    "plt.plot(trajectory_z_r[:, 0])\n",
    "plt.plot(force_z_l)\n",
    "plt.plot(force_z_r)"
   ]
  },
  {
   "cell_type": "markdown",
   "metadata": {},
   "source": [
    "# Extract Features"
   ]
  },
  {
   "cell_type": "code",
   "execution_count": null,
   "metadata": {},
   "outputs": [
    {
     "name": "stderr",
     "output_type": "stream",
     "text": [
      " 38%|████████████████▎                          | 19/50 [00:45<01:19,  2.56s/it]"
     ]
    }
   ],
   "source": [
    "path = os.path.join(PATH_DATASETS, PATH_DATASET_1)\n",
    "subjects = os.listdir(path)\n",
    "\n",
    "features = pd.DataFrame()\n",
    "target = pd.DataFrame()\n",
    "\n",
    "records = []\n",
    "n_samples = 0\n",
    "n_bad_samples = 0\n",
    "\n",
    "# subjects = subjects[:10]\n",
    "\n",
    "for subject in tqdm(subjects):\n",
    "#     print(subject)\n",
    "    files_path = os.path.join(path, subject)\n",
    "    files = os.listdir(files_path)\n",
    "    for filename in files:\n",
    "\n",
    "        if 'ST' in filename:\n",
    "            continue\n",
    "\n",
    "#         print(subject, filename)\n",
    "\n",
    "        try:\n",
    "            content = c3d(os.path.join(path, subject, filename), extract_forceplat_data=True)\n",
    "            \n",
    "            trajectory_x_r, trajectory_y_r, trajectory_z_r = get_trajectories(content, 'right')\n",
    "            trajectory_x_l, trajectory_y_l, trajectory_z_l = get_trajectories(content, 'left')\n",
    "\n",
    "            force_x, force_y, force_z = get_force(content)\n",
    "\n",
    "            del content\n",
    "            gc.collect()\n",
    "            \n",
    "            force_combined_z = force_z[0] + force_z[1]\n",
    "            force_mask = (force_combined_z >= FORCE_THRESHOLD)\n",
    "\n",
    "            # ... Remove all zero GRF samples\n",
    "            if np.sum(force_z[0]) <= FORCE_THRESHOLD or np.sum(force_z[1]) <= FORCE_THRESHOLD:\n",
    "                # print(os.path.join(path, subject, filename))\n",
    "                n_bad_samples = n_bad_samples + 1\n",
    "                continue\n",
    "\n",
    "            # ... Remove bad samples\n",
    "            if np.mean(force_mask) <= 0.5:\n",
    "                # print(os.path.join(path, subject, filename))\n",
    "                n_bad_samples = n_bad_samples + 1\n",
    "                continue\n",
    "\n",
    "            # ... Remove samples that starts and ends abruptly\n",
    "            if np.mean(force_combined_z[:10]) >= 200 or np.mean(force_combined_z[-10:]) >= 200:\n",
    "                # print(os.path.join(path, subject, filename))\n",
    "                n_bad_samples = n_bad_samples + 1\n",
    "                continue\n",
    "\n",
    "            mask_force_z_1 = (force_z[0] > FORCE_THRESHOLD)\n",
    "            mask_force_z_2 = (force_z[1] > FORCE_THRESHOLD)\n",
    "\n",
    "            start_1 = np.min(np.argwhere(mask_force_z_1 == True))\n",
    "            end_1 = np.max(np.argwhere(mask_force_z_1 == True))\n",
    "\n",
    "            if (end_1 - start_1) < 100:\n",
    "                n_bad_samples = n_bad_samples + 1\n",
    "                continue\n",
    "\n",
    "            start_2 = np.min(np.argwhere(mask_force_z_2 == True))\n",
    "            end_2 = np.max(np.argwhere(mask_force_z_2 == True))\n",
    "\n",
    "            if (end_2 - start_2) < 100:\n",
    "                n_bad_samples = n_bad_samples + 1\n",
    "                continue\n",
    "\n",
    "            force_x_1 = force_x[0][start_1 : end_1]\n",
    "            force_y_1 = force_y[0][start_1 : end_1]\n",
    "            force_z_1 = force_z[0][start_1 : end_1]\n",
    "\n",
    "            force_x_2 = force_x[1][start_2 : end_2]\n",
    "            force_y_2 = force_y[1][start_2 : end_2]\n",
    "            force_z_2 = force_z[1][start_2 : end_2]\n",
    "\n",
    "            temp_l = trajectory_z_l[start_1 : end_1, 0]\n",
    "            temp_r = trajectory_z_r[start_1 : end_1, 0]\n",
    "\n",
    "            force_x_r = 0\n",
    "            force_y_r = 0\n",
    "            force_z_r = 0\n",
    "\n",
    "            force_x_l = 0\n",
    "            force_y_l = 0\n",
    "            force_z_l = 0\n",
    "\n",
    "            if np.sum(temp_l) > np.sum(temp_r):\n",
    "                force_x_r = force_x_1\n",
    "                force_y_r = force_y_1\n",
    "                force_z_r = force_z_1\n",
    "\n",
    "                force_x_l = force_x_2\n",
    "                force_y_l = force_y_2\n",
    "                force_z_l = force_z_2\n",
    "\n",
    "                trajectory_x_r = trajectory_x_l[start_2 : end_2]\n",
    "                trajectory_y_r = trajectory_y_r[start_2 : end_2]\n",
    "                trajectory_z_r = trajectory_z_r[start_2 : end_2]\n",
    "\n",
    "                trajectory_x_l = trajectory_x_r[start_1 : end_1]\n",
    "                trajectory_y_l = trajectory_y_l[start_1 : end_1]\n",
    "                trajectory_z_l = trajectory_z_l[start_1 : end_1]\n",
    "\n",
    "            else:\n",
    "                force_x_l = force_x_1\n",
    "                force_y_l = force_y_1\n",
    "                force_z_l = force_z_1\n",
    "\n",
    "                force_x_r = force_x_2\n",
    "                force_y_r = force_y_2\n",
    "                force_z_r = force_z_2\n",
    "\n",
    "                trajectory_x_r = trajectory_x_l[start_1 : end_1]\n",
    "                trajectory_y_r = trajectory_y_r[start_1 : end_1]\n",
    "                trajectory_z_r = trajectory_z_r[start_1 : end_1]\n",
    "\n",
    "                trajectory_x_l = trajectory_x_r[start_2 : end_2]\n",
    "                trajectory_y_l = trajectory_y_l[start_2 : end_2]\n",
    "                trajectory_z_l = trajectory_z_l[start_2 : end_2]\n",
    "\n",
    "            # ... Resample\n",
    "            trajectory_x_r = resample(trajectory_x_r, N_SAMPLES, axis=0)\n",
    "            trajectory_y_r = resample(trajectory_y_r, N_SAMPLES, axis=0)\n",
    "            trajectory_z_r = resample(trajectory_z_r, N_SAMPLES, axis=0)\n",
    "\n",
    "            trajectory_x_l = resample(trajectory_x_l, N_SAMPLES, axis=0)\n",
    "            trajectory_y_l = resample(trajectory_y_l, N_SAMPLES, axis=0)\n",
    "            trajectory_z_l = resample(trajectory_z_l, N_SAMPLES, axis=0)\n",
    "\n",
    "            force_x_r = resample(force_x_r, N_SAMPLES, axis=0)\n",
    "            force_y_r = resample(force_y_r, N_SAMPLES, axis=0)\n",
    "            force_z_r = resample(force_z_r, N_SAMPLES, axis=0)\n",
    "\n",
    "            force_x_l = resample(force_x_l, N_SAMPLES, axis=0)\n",
    "            force_y_l = resample(force_y_l, N_SAMPLES, axis=0)\n",
    "            force_z_l = resample(force_z_l, N_SAMPLES, axis=0)\n",
    "\n",
    "            # ... Standardize\n",
    "            trajectory_x_r = standardize(trajectory_x_r)\n",
    "            trajectory_y_r = standardize(trajectory_y_r)\n",
    "            trajectory_z_r = standardize(trajectory_z_r)\n",
    "\n",
    "            trajectory_x_l = standardize(trajectory_x_l)\n",
    "            trajectory_y_l = standardize(trajectory_y_l)\n",
    "            trajectory_z_l = standardize(trajectory_z_l)\n",
    "\n",
    "            force_x_r = standardize(force_x_r)\n",
    "            force_y_r = standardize(force_y_r)\n",
    "            force_z_r = standardize(force_z_r)\n",
    "\n",
    "            force_x_l = standardize(force_x_l)\n",
    "            force_y_l = standardize(force_y_l)\n",
    "            force_z_l = standardize(force_z_l)\n",
    "\n",
    "\n",
    "                    \n",
    "            _features_l = pd.DataFrame(\n",
    "                np.concatenate([trajectory_x_l, trajectory_y_l, trajectory_z_l], axis=1),\n",
    "                columns=[\n",
    "                    'fal_x', 'tam_x', 'fcc_x', 'fm1_x', 'fm2_x', 'fm5_x',\n",
    "                    'fal_y', 'tam_y', 'fcc_y', 'fm1_y', 'fm2_y', 'fm5_y',\n",
    "                    'fal_z', 'tam_z', 'fcc_z', 'fm1_z', 'fm2_z', 'fm5_z'\n",
    "                ]\n",
    "            )\n",
    "\n",
    "            _features_r = pd.DataFrame(\n",
    "                np.concatenate([trajectory_x_r, trajectory_y_r, trajectory_z_r], axis=1),\n",
    "                columns=[\n",
    "                    'fal_x', 'tam_x', 'fcc_x', 'fm1_x', 'fm2_x', 'fm5_x',\n",
    "                    'fal_y', 'tam_y', 'fcc_y', 'fm1_y', 'fm2_y', 'fm5_y',\n",
    "                    'fal_z', 'tam_z', 'fcc_z', 'fm1_z', 'fm2_z', 'fm5_z'\n",
    "                ]\n",
    "            )\n",
    "\n",
    "            _features = pd.concat([_features_l, _features_r], axis=0)\n",
    "\n",
    "            _target_r = pd.DataFrame(\n",
    "                np.stack([force_x_r, force_y_r, force_z_r], axis=1),\n",
    "                columns=['fx', 'fy', 'fz']\n",
    "            )\n",
    "\n",
    "            _target_l = pd.DataFrame(\n",
    "                np.stack([force_x_l, force_y_l, force_z_l], axis=1),\n",
    "                columns=['fx', 'fy', 'fz']\n",
    "            )\n",
    "\n",
    "            _target = pd.concat([_target_r, _target_l], axis=0)\n",
    "\n",
    "            features = pd.concat([features, _features], axis=0, ignore_index=True)\n",
    "            target = pd.concat([target, _target], axis=0, ignore_index=True)\n",
    "\n",
    "            records.append(filename)\n",
    "\n",
    "            n_samples = n_samples + 1\n",
    "\n",
    "        except Exception as e:\n",
    "            # print(f'ERROR [{subject}/{filename}]: {e}')\n",
    "            n_bad_samples = n_bad_samples + 1\n",
    "            pass\n",
    "\n",
    "print('Number of good samples: ', n_samples)\n",
    "print('Number of bad samples: ', n_bad_samples)\n"
   ]
  },
  {
   "cell_type": "code",
   "execution_count": null,
   "metadata": {},
   "outputs": [],
   "source": []
  },
  {
   "cell_type": "code",
   "execution_count": null,
   "metadata": {},
   "outputs": [],
   "source": [
    "features"
   ]
  },
  {
   "cell_type": "code",
   "execution_count": null,
   "metadata": {},
   "outputs": [],
   "source": [
    "target"
   ]
  },
  {
   "cell_type": "markdown",
   "metadata": {},
   "source": [
    "# Verification"
   ]
  },
  {
   "cell_type": "code",
   "execution_count": null,
   "metadata": {},
   "outputs": [],
   "source": [
    "x = features['fal_z'].to_numpy().reshape(-1, N_SAMPLES)\n",
    "for i in range(x.shape[0]):\n",
    "    plt.plot(x[i, :])"
   ]
  },
  {
   "cell_type": "code",
   "execution_count": null,
   "metadata": {},
   "outputs": [],
   "source": [
    "y = target['fz'].to_numpy().reshape(-1, N_SAMPLES)\n",
    "for i in range(y.shape[0]):\n",
    "    plt.plot(y[i, :])"
   ]
  },
  {
   "cell_type": "code",
   "execution_count": null,
   "metadata": {},
   "outputs": [],
   "source": [
    "path = '../../Dataset/Processed/data.joblib'\n",
    "data = {\n",
    "    'X': features,\n",
    "    'y': target\n",
    "}\n",
    "# dump(data, path)"
   ]
  },
  {
   "cell_type": "code",
   "execution_count": null,
   "metadata": {},
   "outputs": [],
   "source": [
    "# content = c3d('../../Dataset/gait-dbase-1/2015030/2015030_C5_02.c3d', extract_forceplat_data=True)\n",
    "# force_z_1 = content['data']['platform'][0]['force'][2, :]\n",
    "# force_z_2 = content['data']['platform'][1]['force'][2, :]\n",
    "# trajectory_z_l = content['data']['points'][2, 9:15, :]\n",
    "# trajectory_z_r = content['data']['points'][2, 20:26, :]\n",
    "\n",
    "# plt.plot(trajectory_z_l.T)\n",
    "# plt.plot(trajectory_z_r.T)\n",
    "\n",
    "# plt.legend(['Left', 'Right'])"
   ]
  },
  {
   "cell_type": "code",
   "execution_count": null,
   "metadata": {},
   "outputs": [],
   "source": [
    "# data_n = load(path)\n",
    "# X = data_n['X']\n",
    "# y = data_n['y']\n",
    "\n",
    "# fz = y['fz'].to_numpy().reshape(-1, N_SAMPLES)"
   ]
  },
  {
   "cell_type": "code",
   "execution_count": null,
   "metadata": {},
   "outputs": [],
   "source": [
    "plt.plot(fz.T)"
   ]
  },
  {
   "cell_type": "code",
   "execution_count": null,
   "metadata": {},
   "outputs": [],
   "source": [
    "# fz"
   ]
  },
  {
   "cell_type": "code",
   "execution_count": null,
   "metadata": {},
   "outputs": [],
   "source": []
  }
 ],
 "metadata": {
  "interpreter": {
   "hash": "b9e8b413bd195f698761fbb7f1cc8940f40efdff75a04973931ad61a6fc56074"
  },
  "kernelspec": {
   "display_name": "Python 3 (ipykernel)",
   "language": "python",
   "name": "python3"
  },
  "language_info": {
   "codemirror_mode": {
    "name": "ipython",
    "version": 3
   },
   "file_extension": ".py",
   "mimetype": "text/x-python",
   "name": "python",
   "nbconvert_exporter": "python",
   "pygments_lexer": "ipython3",
   "version": "3.9.2"
  }
 },
 "nbformat": 4,
 "nbformat_minor": 2
}
