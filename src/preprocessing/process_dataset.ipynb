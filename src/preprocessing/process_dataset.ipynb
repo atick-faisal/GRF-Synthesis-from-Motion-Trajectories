{
 "cells": [
  {
   "cell_type": "code",
   "execution_count": 9,
   "source": [
    "import os\n",
    "import numpy as np\n",
    "import pandas as pd\n",
    "import matplotlib.pyplot as plt\n",
    "from ezc3d import c3d\n",
    "from scipy.signal import resample\n",
    "from scipy.io import loadmat, savemat"
   ],
   "outputs": [],
   "metadata": {}
  },
  {
   "cell_type": "code",
   "execution_count": 10,
   "source": [
    "PATH_DATASETS = '../../Dataset/'\n",
    "PATH_DATASET_1 = 'gait-dbase-1/'\n",
    "PATH_DATASET_2 = 'gait-dbase-2/'\n",
    "\n",
    "N_SAMPLES = 256"
   ],
   "outputs": [],
   "metadata": {}
  },
  {
   "cell_type": "code",
   "execution_count": 11,
   "source": [
    "path = os.path.join(PATH_DATASETS, PATH_DATASET_1)\n",
    "subjects = os.listdir(path)\n",
    "\n",
    "features = pd.DataFrame()\n",
    "target = pd.DataFrame()\n",
    "\n",
    "for subject in subjects:\n",
    "    files_path = os.path.join(path, subject)\n",
    "    files = os.listdir(files_path)\n",
    "    for filename in files:\n",
    "\n",
    "        try:\n",
    "            content = c3d(os.path.join(path, subject, filename), extract_forceplat_data=True)\n",
    "            trajectory_x = content['data']['points'][1, 9:15, :]\n",
    "            trajectory_y = content['data']['points'][1, 9:15, :]\n",
    "            trajectory_z = content['data']['points'][2, 9:15, :]\n",
    "\n",
    "            trajectory_x = resample(trajectory_x, N_SAMPLES, axis=1).T\n",
    "            trajectory_y = resample(trajectory_y, N_SAMPLES, axis=1).T\n",
    "            trajectory_z = resample(trajectory_z, N_SAMPLES, axis=1).T\n",
    "            \n",
    "            _features = pd.DataFrame(\n",
    "                np.concatenate([trajectory_x, trajectory_y, trajectory_z], axis=1),\n",
    "                columns=[\n",
    "                    'lfal_x', 'ltam_x', 'lfcc_x', 'lfm1_x', 'lfm2_x', 'lfm5_x',\n",
    "                    'lfal_y', 'ltam_y', 'lfcc_y', 'lfm1_y', 'lfm2_y', 'lfm5_y',\n",
    "                    'lfal_z', 'ltam_z', 'lfcc_z', 'lfm1_z', 'lfm2_z', 'lfm5_z'\n",
    "                ]\n",
    "            )\n",
    "\n",
    "            force_x = content['data']['platform'][0]['force'][0, :]\n",
    "            force_y = content['data']['platform'][0]['force'][1, :]\n",
    "            force_z = content['data']['platform'][0]['force'][2, :]\n",
    "\n",
    "            force_x = resample(force_x, N_SAMPLES, axis=0).T\n",
    "            force_y = resample(force_y, N_SAMPLES, axis=0).T\n",
    "            force_z = resample(force_z, N_SAMPLES, axis=0).T\n",
    "\n",
    "            _target = pd.DataFrame(\n",
    "                np.stack([force_x, force_y, force_z], axis=1),\n",
    "                columns=['fx', 'fy', 'fz']\n",
    "            )\n",
    "\n",
    "            features = pd.concat([features, _features], axis=0)\n",
    "            target = pd.concat([target, _target], axis=0)\n",
    "\n",
    "        except:\n",
    "            print('Error occured')\n",
    "\n"
   ],
   "outputs": [
    {
     "output_type": "stream",
     "name": "stdout",
     "text": [
      "Error occured\n",
      "Error occured\n",
      "Error occured\n",
      "Error occured\n",
      "Error occured\n",
      "Error occured\n",
      "Error occured\n",
      "Error occured\n",
      "Error occured\n",
      "Error occured\n",
      "Error occured\n",
      "Error occured\n",
      "Error occured\n",
      "Error occured\n",
      "Error occured\n",
      "Error occured\n",
      "Error occured\n",
      "Error occured\n",
      "Error occured\n",
      "Error occured\n",
      "Error occured\n",
      "Error occured\n",
      "Error occured\n",
      "Error occured\n",
      "Error occured\n",
      "Error occured\n",
      "Error occured\n",
      "Error occured\n",
      "Error occured\n",
      "Error occured\n",
      "Error occured\n",
      "Error occured\n",
      "Error occured\n",
      "Error occured\n",
      "Error occured\n",
      "Error occured\n",
      "Error occured\n",
      "Error occured\n",
      "Error occured\n",
      "Error occured\n",
      "Error occured\n",
      "Error occured\n",
      "Error occured\n",
      "Error occured\n",
      "Error occured\n",
      "Error occured\n",
      "Error occured\n",
      "Error occured\n",
      "Error occured\n",
      "Error occured\n",
      "Error occured\n"
     ]
    }
   ],
   "metadata": {}
  },
  {
   "cell_type": "code",
   "execution_count": 15,
   "source": [
    "features"
   ],
   "outputs": [
    {
     "output_type": "execute_result",
     "data": {
      "text/html": [
       "<div>\n",
       "<style scoped>\n",
       "    .dataframe tbody tr th:only-of-type {\n",
       "        vertical-align: middle;\n",
       "    }\n",
       "\n",
       "    .dataframe tbody tr th {\n",
       "        vertical-align: top;\n",
       "    }\n",
       "\n",
       "    .dataframe thead th {\n",
       "        text-align: right;\n",
       "    }\n",
       "</style>\n",
       "<table border=\"1\" class=\"dataframe\">\n",
       "  <thead>\n",
       "    <tr style=\"text-align: right;\">\n",
       "      <th></th>\n",
       "      <th>lfal_x</th>\n",
       "      <th>ltam_x</th>\n",
       "      <th>lfcc_x</th>\n",
       "      <th>lfm1_x</th>\n",
       "      <th>lfm2_x</th>\n",
       "      <th>lfm5_x</th>\n",
       "      <th>lfal_y</th>\n",
       "      <th>ltam_y</th>\n",
       "      <th>lfcc_y</th>\n",
       "      <th>lfm1_y</th>\n",
       "      <th>lfm2_y</th>\n",
       "      <th>lfm5_y</th>\n",
       "      <th>lfal_z</th>\n",
       "      <th>ltam_z</th>\n",
       "      <th>lfcc_z</th>\n",
       "      <th>lfm1_z</th>\n",
       "      <th>lfm2_z</th>\n",
       "      <th>lfm5_z</th>\n",
       "    </tr>\n",
       "  </thead>\n",
       "  <tbody>\n",
       "    <tr>\n",
       "      <th>0</th>\n",
       "      <td>315.077850</td>\n",
       "      <td>229.390457</td>\n",
       "      <td>266.381287</td>\n",
       "      <td>249.976181</td>\n",
       "      <td>307.238617</td>\n",
       "      <td>358.050293</td>\n",
       "      <td>315.077850</td>\n",
       "      <td>229.390457</td>\n",
       "      <td>266.381287</td>\n",
       "      <td>249.976181</td>\n",
       "      <td>307.238617</td>\n",
       "      <td>358.050293</td>\n",
       "      <td>75.325401</td>\n",
       "      <td>92.450508</td>\n",
       "      <td>39.130699</td>\n",
       "      <td>22.079981</td>\n",
       "      <td>35.831905</td>\n",
       "      <td>21.600080</td>\n",
       "    </tr>\n",
       "    <tr>\n",
       "      <th>1</th>\n",
       "      <td>313.162473</td>\n",
       "      <td>227.252454</td>\n",
       "      <td>264.989597</td>\n",
       "      <td>248.522765</td>\n",
       "      <td>305.844398</td>\n",
       "      <td>357.182654</td>\n",
       "      <td>313.162473</td>\n",
       "      <td>227.252454</td>\n",
       "      <td>264.989597</td>\n",
       "      <td>248.522765</td>\n",
       "      <td>305.844398</td>\n",
       "      <td>357.182654</td>\n",
       "      <td>77.704683</td>\n",
       "      <td>93.378374</td>\n",
       "      <td>42.899788</td>\n",
       "      <td>18.604518</td>\n",
       "      <td>33.062358</td>\n",
       "      <td>20.060689</td>\n",
       "    </tr>\n",
       "    <tr>\n",
       "      <th>2</th>\n",
       "      <td>316.499925</td>\n",
       "      <td>230.992649</td>\n",
       "      <td>267.435308</td>\n",
       "      <td>251.468414</td>\n",
       "      <td>308.434996</td>\n",
       "      <td>358.003072</td>\n",
       "      <td>316.499925</td>\n",
       "      <td>230.992649</td>\n",
       "      <td>267.435308</td>\n",
       "      <td>251.468414</td>\n",
       "      <td>308.434996</td>\n",
       "      <td>358.003072</td>\n",
       "      <td>78.149418</td>\n",
       "      <td>95.921182</td>\n",
       "      <td>43.085938</td>\n",
       "      <td>25.705894</td>\n",
       "      <td>38.769354</td>\n",
       "      <td>23.723877</td>\n",
       "    </tr>\n",
       "    <tr>\n",
       "      <th>3</th>\n",
       "      <td>313.599961</td>\n",
       "      <td>227.730821</td>\n",
       "      <td>265.426522</td>\n",
       "      <td>249.091497</td>\n",
       "      <td>306.223646</td>\n",
       "      <td>356.782663</td>\n",
       "      <td>313.599961</td>\n",
       "      <td>227.730821</td>\n",
       "      <td>265.426522</td>\n",
       "      <td>249.091497</td>\n",
       "      <td>306.223646</td>\n",
       "      <td>356.782663</td>\n",
       "      <td>81.386422</td>\n",
       "      <td>96.979130</td>\n",
       "      <td>48.243623</td>\n",
       "      <td>19.965664</td>\n",
       "      <td>34.197936</td>\n",
       "      <td>21.135948</td>\n",
       "    </tr>\n",
       "    <tr>\n",
       "      <th>4</th>\n",
       "      <td>315.131842</td>\n",
       "      <td>229.420151</td>\n",
       "      <td>266.662187</td>\n",
       "      <td>250.401585</td>\n",
       "      <td>307.357467</td>\n",
       "      <td>356.988098</td>\n",
       "      <td>315.131842</td>\n",
       "      <td>229.420151</td>\n",
       "      <td>266.662187</td>\n",
       "      <td>250.401585</td>\n",
       "      <td>307.357467</td>\n",
       "      <td>356.988098</td>\n",
       "      <td>83.030945</td>\n",
       "      <td>99.414599</td>\n",
       "      <td>50.432506</td>\n",
       "      <td>23.018537</td>\n",
       "      <td>36.671556</td>\n",
       "      <td>22.867096</td>\n",
       "    </tr>\n",
       "    <tr>\n",
       "      <th>...</th>\n",
       "      <td>...</td>\n",
       "      <td>...</td>\n",
       "      <td>...</td>\n",
       "      <td>...</td>\n",
       "      <td>...</td>\n",
       "      <td>...</td>\n",
       "      <td>...</td>\n",
       "      <td>...</td>\n",
       "      <td>...</td>\n",
       "      <td>...</td>\n",
       "      <td>...</td>\n",
       "      <td>...</td>\n",
       "      <td>...</td>\n",
       "      <td>...</td>\n",
       "      <td>...</td>\n",
       "      <td>...</td>\n",
       "      <td>...</td>\n",
       "      <td>...</td>\n",
       "    </tr>\n",
       "    <tr>\n",
       "      <th>251</th>\n",
       "      <td>339.544002</td>\n",
       "      <td>433.454385</td>\n",
       "      <td>393.523331</td>\n",
       "      <td>426.433583</td>\n",
       "      <td>369.318836</td>\n",
       "      <td>323.920595</td>\n",
       "      <td>339.544002</td>\n",
       "      <td>433.454385</td>\n",
       "      <td>393.523331</td>\n",
       "      <td>426.433583</td>\n",
       "      <td>369.318836</td>\n",
       "      <td>323.920595</td>\n",
       "      <td>75.565668</td>\n",
       "      <td>100.520780</td>\n",
       "      <td>14.091953</td>\n",
       "      <td>90.717551</td>\n",
       "      <td>105.824282</td>\n",
       "      <td>74.258110</td>\n",
       "    </tr>\n",
       "    <tr>\n",
       "      <th>252</th>\n",
       "      <td>342.156304</td>\n",
       "      <td>436.212547</td>\n",
       "      <td>395.833217</td>\n",
       "      <td>430.274315</td>\n",
       "      <td>373.189537</td>\n",
       "      <td>327.169548</td>\n",
       "      <td>342.156304</td>\n",
       "      <td>436.212547</td>\n",
       "      <td>395.833217</td>\n",
       "      <td>430.274315</td>\n",
       "      <td>373.189537</td>\n",
       "      <td>327.169548</td>\n",
       "      <td>72.004508</td>\n",
       "      <td>96.864258</td>\n",
       "      <td>11.649116</td>\n",
       "      <td>83.798473</td>\n",
       "      <td>99.285832</td>\n",
       "      <td>68.356991</td>\n",
       "    </tr>\n",
       "    <tr>\n",
       "      <th>253</th>\n",
       "      <td>342.549108</td>\n",
       "      <td>436.755981</td>\n",
       "      <td>395.691684</td>\n",
       "      <td>431.696727</td>\n",
       "      <td>374.705151</td>\n",
       "      <td>328.921670</td>\n",
       "      <td>342.549108</td>\n",
       "      <td>436.755981</td>\n",
       "      <td>395.691684</td>\n",
       "      <td>431.696727</td>\n",
       "      <td>374.705151</td>\n",
       "      <td>328.921670</td>\n",
       "      <td>68.544188</td>\n",
       "      <td>93.118703</td>\n",
       "      <td>7.671108</td>\n",
       "      <td>79.727802</td>\n",
       "      <td>95.279115</td>\n",
       "      <td>64.139924</td>\n",
       "    </tr>\n",
       "    <tr>\n",
       "      <th>254</th>\n",
       "      <td>345.482244</td>\n",
       "      <td>440.008664</td>\n",
       "      <td>397.987700</td>\n",
       "      <td>437.169685</td>\n",
       "      <td>380.225551</td>\n",
       "      <td>333.317661</td>\n",
       "      <td>345.482244</td>\n",
       "      <td>440.008664</td>\n",
       "      <td>397.987700</td>\n",
       "      <td>437.169685</td>\n",
       "      <td>380.225551</td>\n",
       "      <td>333.317661</td>\n",
       "      <td>65.679378</td>\n",
       "      <td>89.781342</td>\n",
       "      <td>7.096232</td>\n",
       "      <td>70.908270</td>\n",
       "      <td>86.946245</td>\n",
       "      <td>56.949544</td>\n",
       "    </tr>\n",
       "    <tr>\n",
       "      <th>255</th>\n",
       "      <td>343.647060</td>\n",
       "      <td>438.331238</td>\n",
       "      <td>395.581367</td>\n",
       "      <td>436.381227</td>\n",
       "      <td>379.584473</td>\n",
       "      <td>333.520988</td>\n",
       "      <td>343.647060</td>\n",
       "      <td>438.331238</td>\n",
       "      <td>395.581367</td>\n",
       "      <td>436.381227</td>\n",
       "      <td>379.584473</td>\n",
       "      <td>333.520988</td>\n",
       "      <td>63.194873</td>\n",
       "      <td>86.808347</td>\n",
       "      <td>3.581789</td>\n",
       "      <td>68.977199</td>\n",
       "      <td>84.697134</td>\n",
       "      <td>53.930574</td>\n",
       "    </tr>\n",
       "  </tbody>\n",
       "</table>\n",
       "<p>292608 rows × 18 columns</p>\n",
       "</div>"
      ],
      "text/plain": [
       "         lfal_x      ltam_x      lfcc_x      lfm1_x      lfm2_x      lfm5_x  \\\n",
       "0    315.077850  229.390457  266.381287  249.976181  307.238617  358.050293   \n",
       "1    313.162473  227.252454  264.989597  248.522765  305.844398  357.182654   \n",
       "2    316.499925  230.992649  267.435308  251.468414  308.434996  358.003072   \n",
       "3    313.599961  227.730821  265.426522  249.091497  306.223646  356.782663   \n",
       "4    315.131842  229.420151  266.662187  250.401585  307.357467  356.988098   \n",
       "..          ...         ...         ...         ...         ...         ...   \n",
       "251  339.544002  433.454385  393.523331  426.433583  369.318836  323.920595   \n",
       "252  342.156304  436.212547  395.833217  430.274315  373.189537  327.169548   \n",
       "253  342.549108  436.755981  395.691684  431.696727  374.705151  328.921670   \n",
       "254  345.482244  440.008664  397.987700  437.169685  380.225551  333.317661   \n",
       "255  343.647060  438.331238  395.581367  436.381227  379.584473  333.520988   \n",
       "\n",
       "         lfal_y      ltam_y      lfcc_y      lfm1_y      lfm2_y      lfm5_y  \\\n",
       "0    315.077850  229.390457  266.381287  249.976181  307.238617  358.050293   \n",
       "1    313.162473  227.252454  264.989597  248.522765  305.844398  357.182654   \n",
       "2    316.499925  230.992649  267.435308  251.468414  308.434996  358.003072   \n",
       "3    313.599961  227.730821  265.426522  249.091497  306.223646  356.782663   \n",
       "4    315.131842  229.420151  266.662187  250.401585  307.357467  356.988098   \n",
       "..          ...         ...         ...         ...         ...         ...   \n",
       "251  339.544002  433.454385  393.523331  426.433583  369.318836  323.920595   \n",
       "252  342.156304  436.212547  395.833217  430.274315  373.189537  327.169548   \n",
       "253  342.549108  436.755981  395.691684  431.696727  374.705151  328.921670   \n",
       "254  345.482244  440.008664  397.987700  437.169685  380.225551  333.317661   \n",
       "255  343.647060  438.331238  395.581367  436.381227  379.584473  333.520988   \n",
       "\n",
       "        lfal_z      ltam_z     lfcc_z     lfm1_z      lfm2_z     lfm5_z  \n",
       "0    75.325401   92.450508  39.130699  22.079981   35.831905  21.600080  \n",
       "1    77.704683   93.378374  42.899788  18.604518   33.062358  20.060689  \n",
       "2    78.149418   95.921182  43.085938  25.705894   38.769354  23.723877  \n",
       "3    81.386422   96.979130  48.243623  19.965664   34.197936  21.135948  \n",
       "4    83.030945   99.414599  50.432506  23.018537   36.671556  22.867096  \n",
       "..         ...         ...        ...        ...         ...        ...  \n",
       "251  75.565668  100.520780  14.091953  90.717551  105.824282  74.258110  \n",
       "252  72.004508   96.864258  11.649116  83.798473   99.285832  68.356991  \n",
       "253  68.544188   93.118703   7.671108  79.727802   95.279115  64.139924  \n",
       "254  65.679378   89.781342   7.096232  70.908270   86.946245  56.949544  \n",
       "255  63.194873   86.808347   3.581789  68.977199   84.697134  53.930574  \n",
       "\n",
       "[292608 rows x 18 columns]"
      ]
     },
     "metadata": {},
     "execution_count": 15
    }
   ],
   "metadata": {}
  },
  {
   "cell_type": "code",
   "execution_count": 16,
   "source": [
    "target"
   ],
   "outputs": [
    {
     "output_type": "execute_result",
     "data": {
      "text/html": [
       "<div>\n",
       "<style scoped>\n",
       "    .dataframe tbody tr th:only-of-type {\n",
       "        vertical-align: middle;\n",
       "    }\n",
       "\n",
       "    .dataframe tbody tr th {\n",
       "        vertical-align: top;\n",
       "    }\n",
       "\n",
       "    .dataframe thead th {\n",
       "        text-align: right;\n",
       "    }\n",
       "</style>\n",
       "<table border=\"1\" class=\"dataframe\">\n",
       "  <thead>\n",
       "    <tr style=\"text-align: right;\">\n",
       "      <th></th>\n",
       "      <th>fx</th>\n",
       "      <th>fy</th>\n",
       "      <th>fz</th>\n",
       "    </tr>\n",
       "  </thead>\n",
       "  <tbody>\n",
       "    <tr>\n",
       "      <th>0</th>\n",
       "      <td>-0.006323</td>\n",
       "      <td>-0.029060</td>\n",
       "      <td>-0.472606</td>\n",
       "    </tr>\n",
       "    <tr>\n",
       "      <th>1</th>\n",
       "      <td>0.007337</td>\n",
       "      <td>0.032162</td>\n",
       "      <td>0.525053</td>\n",
       "    </tr>\n",
       "    <tr>\n",
       "      <th>2</th>\n",
       "      <td>-0.008653</td>\n",
       "      <td>-0.036129</td>\n",
       "      <td>-0.592495</td>\n",
       "    </tr>\n",
       "    <tr>\n",
       "      <th>3</th>\n",
       "      <td>0.010417</td>\n",
       "      <td>0.041376</td>\n",
       "      <td>0.682268</td>\n",
       "    </tr>\n",
       "    <tr>\n",
       "      <th>4</th>\n",
       "      <td>-0.012889</td>\n",
       "      <td>-0.048625</td>\n",
       "      <td>-0.807338</td>\n",
       "    </tr>\n",
       "    <tr>\n",
       "      <th>...</th>\n",
       "      <td>...</td>\n",
       "      <td>...</td>\n",
       "      <td>...</td>\n",
       "    </tr>\n",
       "    <tr>\n",
       "      <th>251</th>\n",
       "      <td>-0.003455</td>\n",
       "      <td>-0.002067</td>\n",
       "      <td>0.028204</td>\n",
       "    </tr>\n",
       "    <tr>\n",
       "      <th>252</th>\n",
       "      <td>0.003404</td>\n",
       "      <td>0.002049</td>\n",
       "      <td>-0.029316</td>\n",
       "    </tr>\n",
       "    <tr>\n",
       "      <th>253</th>\n",
       "      <td>-0.003351</td>\n",
       "      <td>-0.002032</td>\n",
       "      <td>0.030372</td>\n",
       "    </tr>\n",
       "    <tr>\n",
       "      <th>254</th>\n",
       "      <td>0.003298</td>\n",
       "      <td>0.002013</td>\n",
       "      <td>-0.031374</td>\n",
       "    </tr>\n",
       "    <tr>\n",
       "      <th>255</th>\n",
       "      <td>-0.003243</td>\n",
       "      <td>-0.001994</td>\n",
       "      <td>0.032324</td>\n",
       "    </tr>\n",
       "  </tbody>\n",
       "</table>\n",
       "<p>292608 rows × 3 columns</p>\n",
       "</div>"
      ],
      "text/plain": [
       "           fx        fy        fz\n",
       "0   -0.006323 -0.029060 -0.472606\n",
       "1    0.007337  0.032162  0.525053\n",
       "2   -0.008653 -0.036129 -0.592495\n",
       "3    0.010417  0.041376  0.682268\n",
       "4   -0.012889 -0.048625 -0.807338\n",
       "..        ...       ...       ...\n",
       "251 -0.003455 -0.002067  0.028204\n",
       "252  0.003404  0.002049 -0.029316\n",
       "253 -0.003351 -0.002032  0.030372\n",
       "254  0.003298  0.002013 -0.031374\n",
       "255 -0.003243 -0.001994  0.032324\n",
       "\n",
       "[292608 rows x 3 columns]"
      ]
     },
     "metadata": {},
     "execution_count": 16
    }
   ],
   "metadata": {}
  },
  {
   "cell_type": "code",
   "execution_count": 25,
   "source": [
    "features_t = features[0:291840]\n",
    "target_t = target[0:291840]\n",
    "\n",
    "Checkpoint = {}\n",
    "Checkpoint['X'] = features_t['lfcc_z'].to_numpy().reshape(-1, 1024)\n",
    "Checkpoint['Y'] = target_t['fz'].to_numpy().reshape(-1, 1024)"
   ],
   "outputs": [],
   "metadata": {}
  },
  {
   "cell_type": "code",
   "execution_count": 26,
   "source": [
    "savemat('../../Dataset/Processed/data.mat', Checkpoint)"
   ],
   "outputs": [],
   "metadata": {}
  },
  {
   "cell_type": "code",
   "execution_count": 57,
   "source": [
    "from sklearn.linear_model import LinearRegression\n",
    "from sklearn.preprocessing import PolynomialFeatures"
   ],
   "outputs": [],
   "metadata": {}
  },
  {
   "cell_type": "code",
   "execution_count": 66,
   "source": [
    "X = features[['lfal_z', 'ltam_z', 'lfcc_z', 'lfm1_z', 'lfm2_z', 'lfm5_z']].to_numpy()\n",
    "y = target[['fz']].to_numpy()\n",
    "\n",
    "poly = PolynomialFeatures(1)\n",
    "X = poly.fit_transform(X)\n",
    "\n",
    "reg = LinearRegression(normalize=True)\n",
    "reg.fit(X, y)"
   ],
   "outputs": [
    {
     "output_type": "execute_result",
     "data": {
      "text/plain": [
       "LinearRegression(normalize=True)"
      ]
     },
     "metadata": {},
     "execution_count": 66
    }
   ],
   "metadata": {}
  },
  {
   "cell_type": "code",
   "execution_count": 67,
   "source": [
    "y_pred = reg.predict(X)"
   ],
   "outputs": [],
   "metadata": {}
  },
  {
   "cell_type": "code",
   "execution_count": 68,
   "source": [
    "plt.plot(y[1:1000])"
   ],
   "outputs": [
    {
     "output_type": "execute_result",
     "data": {
      "text/plain": [
       "[<matplotlib.lines.Line2D at 0x7fa5e210adf0>]"
      ]
     },
     "metadata": {},
     "execution_count": 68
    },
    {
     "output_type": "display_data",
     "data": {
      "image/png": "[encoded data removed]",
      "text/plain": [
       "<Figure size 432x288 with 1 Axes>"
      ]
     },
     "metadata": {
      "needs_background": "light"
     }
    }
   ],
   "metadata": {}
  },
  {
   "cell_type": "code",
   "execution_count": 69,
   "source": [
    "plt.plot(y_pred[1:1000])"
   ],
   "outputs": [
    {
     "output_type": "execute_result",
     "data": {
      "text/plain": [
       "[<matplotlib.lines.Line2D at 0x7fa5e20defd0>]"
      ]
     },
     "metadata": {},
     "execution_count": 69
    },
    {
     "output_type": "display_data",
     "data": {
      "image/png": "[encoded data removed]",
      "text/plain": [
       "<Figure size 432x288 with 1 Axes>"
      ]
     },
     "metadata": {
      "needs_background": "light"
     }
    }
   ],
   "metadata": {}
  },
  {
   "cell_type": "code",
   "execution_count": 70,
   "source": [
    "import joblib\n",
    "\n",
    "joblib.dump(features, '../../Dataset/Processed/Features.joblib')"
   ],
   "outputs": [
    {
     "output_type": "execute_result",
     "data": {
      "text/plain": [
       "['../../Dataset/Processed/Features.joblib']"
      ]
     },
     "metadata": {},
     "execution_count": 70
    }
   ],
   "metadata": {}
  },
  {
   "cell_type": "code",
   "execution_count": 71,
   "source": [
    "joblib.dump(target, '../../Dataset/Processed/Target.joblib')"
   ],
   "outputs": [
    {
     "output_type": "execute_result",
     "data": {
      "text/plain": [
       "['../../Dataset/Processed/Target.joblib']"
      ]
     },
     "metadata": {},
     "execution_count": 71
    }
   ],
   "metadata": {}
  },
  {
   "cell_type": "code",
   "execution_count": 85,
   "source": [
    "features_z = features[['lfal_z', 'ltam_z', 'lfcc_z', 'lfm1_z', 'lfm2_z', 'lfm5_z']]\n",
    "plt.rcParams['font.size'] = 14\n",
    "plt.figure(figsize=(7, 7))\n",
    "plt.plot(features_z[0:222])\n",
    "plt.title('Input signals')\n",
    "plt.show()"
   ],
   "outputs": [
    {
     "output_type": "display_data",
     "data": {
      "image/png": "[encoded data removed]",
      "text/plain": [
       "<Figure size 504x504 with 1 Axes>"
      ]
     },
     "metadata": {
      "needs_background": "light"
     }
    }
   ],
   "metadata": {}
  },
  {
   "cell_type": "code",
   "execution_count": 86,
   "source": [
    "target_z = target[['fz']]\n",
    "plt.rcParams['font.size'] = 14\n",
    "plt.figure(figsize=(7, 7))\n",
    "plt.plot(target_z[0:222])\n",
    "plt.title('Output signal')\n",
    "plt.show()"
   ],
   "outputs": [
    {
     "output_type": "display_data",
     "data": {
      "image/png": "[encoded data removed]",
      "text/plain": [
       "<Figure size 504x504 with 1 Axes>"
      ]
     },
     "metadata": {
      "needs_background": "light"
     }
    }
   ],
   "metadata": {}
  },
  {
   "cell_type": "code",
   "execution_count": null,
   "source": [],
   "outputs": [],
   "metadata": {}
  }
 ],
 "metadata": {
  "orig_nbformat": 4,
  "language_info": {
   "name": "python",
   "version": "3.8.8",
   "mimetype": "text/x-python",
   "codemirror_mode": {
    "name": "ipython",
    "version": 3
   },
   "pygments_lexer": "ipython3",
   "nbconvert_exporter": "python",
   "file_extension": ".py"
  },
  "kernelspec": {
   "name": "python3",
   "display_name": "Python 3.8.8 64-bit ('base': conda)"
  },
  "interpreter": {
   "hash": "4a5ea04835e38acc452a9679dafe594ccdd8e202a1d0153195b347bcedd64952"
  }
 },
 "nbformat": 4,
 "nbformat_minor": 2
}